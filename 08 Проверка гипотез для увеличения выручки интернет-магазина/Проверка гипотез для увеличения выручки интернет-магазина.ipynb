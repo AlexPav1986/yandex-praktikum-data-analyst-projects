{
 "cells": [
  {
   "cell_type": "markdown",
   "metadata": {},
   "source": [
    "# **<font color=\"blue\">Проверка гипотез для увеличения выручки интернет-магазина</font>**"
   ]
  },
  {
   "cell_type": "markdown",
   "metadata": {},
   "source": [
    "### Описание проекта\n",
    "\n",
    "- Я — аналитик крупного интернет-магазина. Вместе с отделом маркетинга мы подготовили список гипотез для увеличения выручки.\n",
    "Приоритизируем гипотезы, запустим A/B-тест и проанализируем результаты."
   ]
  },
  {
   "cell_type": "markdown",
   "metadata": {},
   "source": [
    "### Описание данных"
   ]
  },
  {
   "cell_type": "markdown",
   "metadata": {},
   "source": [
    "*Данные для первой части*\n",
    "\n",
    "- датафрейм hypothesis\n",
    "    \n",
    "   - Hypothesis — краткое описание гипотезы;\n",
    "   - Reach — охват пользователей по 10-балльной шкале;\n",
    "   - Impact — влияние на пользователей по 10-балльной шкале;\n",
    "   - Confidence — уверенность в гипотезе по 10-балльной шкале;\n",
    "   - Efforts — затраты ресурсов на проверку гипотезы по 10-балльной шкале. Чем больше значение Efforts, тем дороже проверка гипотезы.\n",
    "   \n",
    "   \n",
    "*Данные для второй части*\n",
    "    \n",
    "- датафрейм orders\n",
    "    - transactionId — идентификатор заказа;\n",
    "    - visitorId — идентификатор пользователя, совершившего заказ;\n",
    "    - date — дата, когда был совершён заказ;\n",
    "    - revenue — выручка заказа;\n",
    "    - group — группа A/B-теста, в которую попал заказ.\n",
    "    \n",
    "    \n",
    "- датафрейм visitors\n",
    "    - date — дата;\n",
    "    - group — группа A/B-теста;\n",
    "    - visitors — количество пользователей в указанную дату в указанной группе A/B-теста\n"
   ]
  },
  {
   "cell_type": "markdown",
   "metadata": {},
   "source": [
    "### Задачи проекта"
   ]
  },
  {
   "cell_type": "markdown",
   "metadata": {},
   "source": [
    "- **<font color=\"green\">Часть 1. Приоритизация гипотез</font>**\n",
    "\n",
    "**Задача**\n",
    "\n",
    "        - Примените фреймворк ICE для приоритизации гипотез. Отсортируйте их по убыванию приоритета.\n",
    "        - Примените фреймворк RICE для приоритизации гипотез. Отсортируйте их по убыванию приоритета.\n",
    "        - Укажите, как изменилась приоритизация гипотез при применении RICE вместо ICE. Объясните, почему так произошло.\n"
   ]
  },
  {
   "cell_type": "markdown",
   "metadata": {},
   "source": [
    "- **<font color=\"green\"> Часть 2. Проверка данных A/B-теста</font>**\n",
    "\n",
    "\n",
    "**Задача**\n",
    "\n",
    "- Проверим размер групп\n",
    "- Проверим наличие пересечений пользователей в группах\n",
    "- Проверим нормальность распределения средней выручки. Выберем метод для проверки А/В теста"
   ]
  },
  {
   "cell_type": "markdown",
   "metadata": {},
   "source": [
    "- **<font color=\"green\"> Часть 3. Анализ A/B-теста</font>**\n",
    "\n",
    "**Задача**\n",
    "Проанализируем A/B-тест:\n",
    "\n",
    "1.\tПостроим график кумулятивной выручки по группам.\n",
    "2.\tПостроим график кумулятивного среднего чека по группам.\n",
    "3.\tПостроим график относительного изменения кумулятивного среднего чека группы B к группе A.\n",
    "4.\tПостроим график кумулятивной конверсии по группам.\n",
    "5.\tПостроим график относительного изменения кумулятивной конверсии группы B к группе A. \n",
    "6.\tПостроим точечный график количества заказов по пользователям.\n",
    "7.\tПосчитаем 95-й и 99-й перцентили количества заказов на пользователя. Выберем границу для определения аномальных пользователей.\n",
    "8.\tПостроим точечный график стоимостей заказов.\n",
    "9.\tПосчитаем 95-й и 99-й перцентили стоимости заказов. Выберем границу для определения аномальных заказов.\n",
    "10.\tПосчитаем статистическую значимость различий в конверсии между группами по «сырым» данным.\n",
    "11.\tПосчитаем статистическую значимость различий в среднем чеке заказа между группами по «сырым» данным. \n",
    "12.\tПосчитаем статистическую значимость различий в конверсии между группами по «очищенным» данным. \n",
    "13.\tПосчитаем статистическую значимость различий в среднем чеке заказа между группами по «очищенным» данным. \n",
    "14.\tПримием решение по результатам теста и объясните его. Варианты решений: 1. Остановить тест, зафиксировать победу одной из групп. 2. Остановить тест, зафиксировать отсутствие различий между группами. 3. Продолжить тест.\n"
   ]
  },
  {
   "cell_type": "markdown",
   "metadata": {},
   "source": [
    "## **Изучение данных**"
   ]
  },
  {
   "cell_type": "markdown",
   "metadata": {},
   "source": [
    "- ***Импортируем библиотеки***"
   ]
  },
  {
   "cell_type": "code",
   "execution_count": 1,
   "metadata": {},
   "outputs": [],
   "source": [
    "import pandas as pd\n",
    "import numpy as np\n",
    "from datetime import datetime, timedelta\n",
    "import datetime as dt\n",
    "from matplotlib import pyplot as plt\n",
    "import matplotlib.pyplot as plt \n",
    "import scipy.stats as stats\n",
    "import seaborn as sns"
   ]
  },
  {
   "cell_type": "markdown",
   "metadata": {},
   "source": [
    "- ***Загрузим данные***"
   ]
  },
  {
   "cell_type": "code",
   "execution_count": 2,
   "metadata": {},
   "outputs": [],
   "source": [
    "import os\n",
    "if os.path.exists('hypothesis.csv'):\n",
    "    vishypothesisits = pd.read_csv('hypothesis.csv') # локальный путь\n",
    "else:\n",
    "    vishypothesisits = pd.read_csv('/datasets/hypothesis.csv') # путь указанный в проекте\n",
    "    \n",
    "if os.path.exists('orders.csv'):\n",
    "    orders = pd.read_csv('orders.csv') # локальный путь\n",
    "else:\n",
    "    orders = pd.read_csv('/datasets/orders.csv') # путь указанный в проекте \n",
    "    \n",
    "if os.path.exists('visitors.csv'):\n",
    "    visitors = pd.read_csv('visitors.csv') # локальный путь\n",
    "else:\n",
    "    visitors = pd.read_csv('/datasets/visitors.csv') # путь указанный в проекте "
   ]
  },
  {
   "cell_type": "code",
   "execution_count": 3,
   "metadata": {},
   "outputs": [
    {
     "data": {
      "text/html": [
       "<div>\n",
       "<style scoped>\n",
       "    .dataframe tbody tr th:only-of-type {\n",
       "        vertical-align: middle;\n",
       "    }\n",
       "\n",
       "    .dataframe tbody tr th {\n",
       "        vertical-align: top;\n",
       "    }\n",
       "\n",
       "    .dataframe thead th {\n",
       "        text-align: right;\n",
       "    }\n",
       "</style>\n",
       "<table border=\"1\" class=\"dataframe\">\n",
       "  <thead>\n",
       "    <tr style=\"text-align: right;\">\n",
       "      <th></th>\n",
       "      <th>Hypothesis</th>\n",
       "      <th>Reach</th>\n",
       "      <th>Impact</th>\n",
       "      <th>Confidence</th>\n",
       "      <th>Efforts</th>\n",
       "    </tr>\n",
       "  </thead>\n",
       "  <tbody>\n",
       "    <tr>\n",
       "      <th>0</th>\n",
       "      <td>Добавить два новых канала привлечения трафика,...</td>\n",
       "      <td>3</td>\n",
       "      <td>10</td>\n",
       "      <td>8</td>\n",
       "      <td>6</td>\n",
       "    </tr>\n",
       "    <tr>\n",
       "      <th>1</th>\n",
       "      <td>Запустить собственную службу доставки, что сок...</td>\n",
       "      <td>2</td>\n",
       "      <td>5</td>\n",
       "      <td>4</td>\n",
       "      <td>10</td>\n",
       "    </tr>\n",
       "    <tr>\n",
       "      <th>2</th>\n",
       "      <td>Добавить блоки рекомендаций товаров на сайт ин...</td>\n",
       "      <td>8</td>\n",
       "      <td>3</td>\n",
       "      <td>7</td>\n",
       "      <td>3</td>\n",
       "    </tr>\n",
       "    <tr>\n",
       "      <th>3</th>\n",
       "      <td>Изменить структура категорий, что увеличит кон...</td>\n",
       "      <td>8</td>\n",
       "      <td>3</td>\n",
       "      <td>3</td>\n",
       "      <td>8</td>\n",
       "    </tr>\n",
       "    <tr>\n",
       "      <th>4</th>\n",
       "      <td>Изменить цвет фона главной страницы, чтобы уве...</td>\n",
       "      <td>3</td>\n",
       "      <td>1</td>\n",
       "      <td>1</td>\n",
       "      <td>1</td>\n",
       "    </tr>\n",
       "    <tr>\n",
       "      <th>5</th>\n",
       "      <td>Добавить страницу отзывов клиентов о магазине,...</td>\n",
       "      <td>3</td>\n",
       "      <td>2</td>\n",
       "      <td>2</td>\n",
       "      <td>3</td>\n",
       "    </tr>\n",
       "    <tr>\n",
       "      <th>6</th>\n",
       "      <td>Показать на главной странице баннеры с актуаль...</td>\n",
       "      <td>5</td>\n",
       "      <td>3</td>\n",
       "      <td>8</td>\n",
       "      <td>3</td>\n",
       "    </tr>\n",
       "    <tr>\n",
       "      <th>7</th>\n",
       "      <td>Добавить форму подписки на все основные страни...</td>\n",
       "      <td>10</td>\n",
       "      <td>7</td>\n",
       "      <td>8</td>\n",
       "      <td>5</td>\n",
       "    </tr>\n",
       "    <tr>\n",
       "      <th>8</th>\n",
       "      <td>Запустить акцию, дающую скидку на товар в день...</td>\n",
       "      <td>1</td>\n",
       "      <td>9</td>\n",
       "      <td>9</td>\n",
       "      <td>5</td>\n",
       "    </tr>\n",
       "  </tbody>\n",
       "</table>\n",
       "</div>"
      ],
      "text/plain": [
       "                                          Hypothesis  Reach  Impact  \\\n",
       "0  Добавить два новых канала привлечения трафика,...      3      10   \n",
       "1  Запустить собственную службу доставки, что сок...      2       5   \n",
       "2  Добавить блоки рекомендаций товаров на сайт ин...      8       3   \n",
       "3  Изменить структура категорий, что увеличит кон...      8       3   \n",
       "4  Изменить цвет фона главной страницы, чтобы уве...      3       1   \n",
       "5  Добавить страницу отзывов клиентов о магазине,...      3       2   \n",
       "6  Показать на главной странице баннеры с актуаль...      5       3   \n",
       "7  Добавить форму подписки на все основные страни...     10       7   \n",
       "8  Запустить акцию, дающую скидку на товар в день...      1       9   \n",
       "\n",
       "   Confidence  Efforts  \n",
       "0           8        6  \n",
       "1           4       10  \n",
       "2           7        3  \n",
       "3           3        8  \n",
       "4           1        1  \n",
       "5           2        3  \n",
       "6           8        3  \n",
       "7           8        5  \n",
       "8           9        5  "
      ]
     },
     "execution_count": 3,
     "metadata": {},
     "output_type": "execute_result"
    }
   ],
   "source": [
    "vishypothesisits"
   ]
  },
  {
   "cell_type": "code",
   "execution_count": 4,
   "metadata": {
    "scrolled": true
   },
   "outputs": [
    {
     "data": {
      "text/html": [
       "<div>\n",
       "<style scoped>\n",
       "    .dataframe tbody tr th:only-of-type {\n",
       "        vertical-align: middle;\n",
       "    }\n",
       "\n",
       "    .dataframe tbody tr th {\n",
       "        vertical-align: top;\n",
       "    }\n",
       "\n",
       "    .dataframe thead th {\n",
       "        text-align: right;\n",
       "    }\n",
       "</style>\n",
       "<table border=\"1\" class=\"dataframe\">\n",
       "  <thead>\n",
       "    <tr style=\"text-align: right;\">\n",
       "      <th></th>\n",
       "      <th>transactionId</th>\n",
       "      <th>visitorId</th>\n",
       "      <th>date</th>\n",
       "      <th>revenue</th>\n",
       "      <th>group</th>\n",
       "    </tr>\n",
       "  </thead>\n",
       "  <tbody>\n",
       "    <tr>\n",
       "      <th>35</th>\n",
       "      <td>2258664213</td>\n",
       "      <td>258610743</td>\n",
       "      <td>2019-08-15</td>\n",
       "      <td>2355</td>\n",
       "      <td>B</td>\n",
       "    </tr>\n",
       "    <tr>\n",
       "      <th>731</th>\n",
       "      <td>3568733367</td>\n",
       "      <td>1206072200</td>\n",
       "      <td>2019-08-30</td>\n",
       "      <td>2590</td>\n",
       "      <td>B</td>\n",
       "    </tr>\n",
       "    <tr>\n",
       "      <th>697</th>\n",
       "      <td>1612868255</td>\n",
       "      <td>2378935119</td>\n",
       "      <td>2019-08-09</td>\n",
       "      <td>30649</td>\n",
       "      <td>B</td>\n",
       "    </tr>\n",
       "    <tr>\n",
       "      <th>790</th>\n",
       "      <td>3455897155</td>\n",
       "      <td>2065143173</td>\n",
       "      <td>2019-08-30</td>\n",
       "      <td>350</td>\n",
       "      <td>A</td>\n",
       "    </tr>\n",
       "    <tr>\n",
       "      <th>224</th>\n",
       "      <td>2024820467</td>\n",
       "      <td>1692957755</td>\n",
       "      <td>2019-08-23</td>\n",
       "      <td>1380</td>\n",
       "      <td>B</td>\n",
       "    </tr>\n",
       "  </tbody>\n",
       "</table>\n",
       "</div>"
      ],
      "text/plain": [
       "     transactionId   visitorId        date  revenue group\n",
       "35      2258664213   258610743  2019-08-15     2355     B\n",
       "731     3568733367  1206072200  2019-08-30     2590     B\n",
       "697     1612868255  2378935119  2019-08-09    30649     B\n",
       "790     3455897155  2065143173  2019-08-30      350     A\n",
       "224     2024820467  1692957755  2019-08-23     1380     B"
      ]
     },
     "execution_count": 4,
     "metadata": {},
     "output_type": "execute_result"
    }
   ],
   "source": [
    "orders.sample(5)"
   ]
  },
  {
   "cell_type": "code",
   "execution_count": 5,
   "metadata": {
    "scrolled": false
   },
   "outputs": [
    {
     "data": {
      "text/html": [
       "<div>\n",
       "<style scoped>\n",
       "    .dataframe tbody tr th:only-of-type {\n",
       "        vertical-align: middle;\n",
       "    }\n",
       "\n",
       "    .dataframe tbody tr th {\n",
       "        vertical-align: top;\n",
       "    }\n",
       "\n",
       "    .dataframe thead th {\n",
       "        text-align: right;\n",
       "    }\n",
       "</style>\n",
       "<table border=\"1\" class=\"dataframe\">\n",
       "  <thead>\n",
       "    <tr style=\"text-align: right;\">\n",
       "      <th></th>\n",
       "      <th>date</th>\n",
       "      <th>group</th>\n",
       "      <th>visitors</th>\n",
       "    </tr>\n",
       "  </thead>\n",
       "  <tbody>\n",
       "    <tr>\n",
       "      <th>27</th>\n",
       "      <td>2019-08-28</td>\n",
       "      <td>A</td>\n",
       "      <td>594</td>\n",
       "    </tr>\n",
       "    <tr>\n",
       "      <th>32</th>\n",
       "      <td>2019-08-02</td>\n",
       "      <td>B</td>\n",
       "      <td>581</td>\n",
       "    </tr>\n",
       "    <tr>\n",
       "      <th>0</th>\n",
       "      <td>2019-08-01</td>\n",
       "      <td>A</td>\n",
       "      <td>719</td>\n",
       "    </tr>\n",
       "    <tr>\n",
       "      <th>28</th>\n",
       "      <td>2019-08-29</td>\n",
       "      <td>A</td>\n",
       "      <td>577</td>\n",
       "    </tr>\n",
       "    <tr>\n",
       "      <th>21</th>\n",
       "      <td>2019-08-22</td>\n",
       "      <td>A</td>\n",
       "      <td>609</td>\n",
       "    </tr>\n",
       "  </tbody>\n",
       "</table>\n",
       "</div>"
      ],
      "text/plain": [
       "          date group  visitors\n",
       "27  2019-08-28     A       594\n",
       "32  2019-08-02     B       581\n",
       "0   2019-08-01     A       719\n",
       "28  2019-08-29     A       577\n",
       "21  2019-08-22     A       609"
      ]
     },
     "execution_count": 5,
     "metadata": {},
     "output_type": "execute_result"
    }
   ],
   "source": [
    "visitors.sample(5)"
   ]
  },
  {
   "cell_type": "markdown",
   "metadata": {},
   "source": [
    "- ***Приведем наименование колонок vishypothesisits к нижнему регистру***"
   ]
  },
  {
   "cell_type": "code",
   "execution_count": 6,
   "metadata": {},
   "outputs": [],
   "source": [
    "vishypothesisits.columns = [x.lower() for x in vishypothesisits.columns]"
   ]
  },
  {
   "cell_type": "markdown",
   "metadata": {},
   "source": [
    "**Проверим**"
   ]
  },
  {
   "cell_type": "code",
   "execution_count": 7,
   "metadata": {
    "scrolled": true
   },
   "outputs": [
    {
     "data": {
      "text/plain": [
       "Index(['hypothesis', 'reach', 'impact', 'confidence', 'efforts'], dtype='object')"
      ]
     },
     "execution_count": 7,
     "metadata": {},
     "output_type": "execute_result"
    }
   ],
   "source": [
    "vishypothesisits.columns"
   ]
  },
  {
   "cell_type": "markdown",
   "metadata": {},
   "source": [
    "- ***Проверим типы данных***"
   ]
  },
  {
   "cell_type": "code",
   "execution_count": 8,
   "metadata": {},
   "outputs": [
    {
     "name": "stdout",
     "output_type": "stream",
     "text": [
      "<class 'pandas.core.frame.DataFrame'>\n",
      "RangeIndex: 9 entries, 0 to 8\n",
      "Data columns (total 5 columns):\n",
      "hypothesis    9 non-null object\n",
      "reach         9 non-null int64\n",
      "impact        9 non-null int64\n",
      "confidence    9 non-null int64\n",
      "efforts       9 non-null int64\n",
      "dtypes: int64(4), object(1)\n",
      "memory usage: 440.0+ bytes\n"
     ]
    }
   ],
   "source": [
    "vishypothesisits.info()"
   ]
  },
  {
   "cell_type": "code",
   "execution_count": 9,
   "metadata": {},
   "outputs": [
    {
     "name": "stdout",
     "output_type": "stream",
     "text": [
      "<class 'pandas.core.frame.DataFrame'>\n",
      "RangeIndex: 62 entries, 0 to 61\n",
      "Data columns (total 3 columns):\n",
      "date        62 non-null object\n",
      "group       62 non-null object\n",
      "visitors    62 non-null int64\n",
      "dtypes: int64(1), object(2)\n",
      "memory usage: 1.5+ KB\n"
     ]
    }
   ],
   "source": [
    "visitors.info()"
   ]
  },
  {
   "cell_type": "code",
   "execution_count": 10,
   "metadata": {
    "scrolled": false
   },
   "outputs": [
    {
     "name": "stdout",
     "output_type": "stream",
     "text": [
      "<class 'pandas.core.frame.DataFrame'>\n",
      "RangeIndex: 1197 entries, 0 to 1196\n",
      "Data columns (total 5 columns):\n",
      "transactionId    1197 non-null int64\n",
      "visitorId        1197 non-null int64\n",
      "date             1197 non-null object\n",
      "revenue          1197 non-null int64\n",
      "group            1197 non-null object\n",
      "dtypes: int64(3), object(2)\n",
      "memory usage: 46.8+ KB\n"
     ]
    }
   ],
   "source": [
    "orders.info()"
   ]
  },
  {
   "cell_type": "markdown",
   "metadata": {},
   "source": [
    "- ***Приведем даты к типу datetime***"
   ]
  },
  {
   "cell_type": "code",
   "execution_count": 11,
   "metadata": {},
   "outputs": [],
   "source": [
    "orders['date'] = orders['date'].map(lambda x: dt.datetime.strptime(x, '%Y-%m-%d'))\n",
    "visitors['date'] = visitors['date'].map(lambda x: dt.datetime.strptime(x, '%Y-%m-%d'))"
   ]
  },
  {
   "cell_type": "code",
   "execution_count": 12,
   "metadata": {},
   "outputs": [
    {
     "name": "stdout",
     "output_type": "stream",
     "text": [
      "<class 'pandas.core.frame.DataFrame'>\n",
      "RangeIndex: 1197 entries, 0 to 1196\n",
      "Data columns (total 5 columns):\n",
      "transactionId    1197 non-null int64\n",
      "visitorId        1197 non-null int64\n",
      "date             1197 non-null datetime64[ns]\n",
      "revenue          1197 non-null int64\n",
      "group            1197 non-null object\n",
      "dtypes: datetime64[ns](1), int64(3), object(1)\n",
      "memory usage: 46.8+ KB\n"
     ]
    }
   ],
   "source": [
    "orders.info()"
   ]
  },
  {
   "cell_type": "markdown",
   "metadata": {},
   "source": [
    "- ***Проверим датафреймы на наличие дубликатов***"
   ]
  },
  {
   "cell_type": "code",
   "execution_count": 13,
   "metadata": {
    "scrolled": true
   },
   "outputs": [
    {
     "data": {
      "text/plain": [
       "0"
      ]
     },
     "execution_count": 13,
     "metadata": {},
     "output_type": "execute_result"
    }
   ],
   "source": [
    "orders.duplicated().sum()"
   ]
  },
  {
   "cell_type": "code",
   "execution_count": 14,
   "metadata": {},
   "outputs": [
    {
     "data": {
      "text/plain": [
       "0"
      ]
     },
     "execution_count": 14,
     "metadata": {},
     "output_type": "execute_result"
    }
   ],
   "source": [
    "visitors.duplicated().sum()"
   ]
  },
  {
   "cell_type": "code",
   "execution_count": 15,
   "metadata": {},
   "outputs": [
    {
     "data": {
      "text/plain": [
       "0"
      ]
     },
     "execution_count": 15,
     "metadata": {},
     "output_type": "execute_result"
    }
   ],
   "source": [
    "vishypothesisits.duplicated().sum()"
   ]
  },
  {
   "cell_type": "markdown",
   "metadata": {},
   "source": [
    "- ***Проверим датафреймы на наличие пропусков***"
   ]
  },
  {
   "cell_type": "code",
   "execution_count": 16,
   "metadata": {
    "scrolled": false
   },
   "outputs": [
    {
     "data": {
      "text/plain": [
       "transactionId    0.0\n",
       "visitorId        0.0\n",
       "date             0.0\n",
       "revenue          0.0\n",
       "group            0.0\n",
       "dtype: float64"
      ]
     },
     "execution_count": 16,
     "metadata": {},
     "output_type": "execute_result"
    }
   ],
   "source": [
    "round((orders.isna().mean()*100),2)"
   ]
  },
  {
   "cell_type": "code",
   "execution_count": 17,
   "metadata": {},
   "outputs": [
    {
     "data": {
      "text/plain": [
       "date        0.0\n",
       "group       0.0\n",
       "visitors    0.0\n",
       "dtype: float64"
      ]
     },
     "execution_count": 17,
     "metadata": {},
     "output_type": "execute_result"
    }
   ],
   "source": [
    "round((visitors.isna().mean()*100),2)"
   ]
  },
  {
   "cell_type": "code",
   "execution_count": 18,
   "metadata": {
    "scrolled": true
   },
   "outputs": [
    {
     "data": {
      "text/plain": [
       "hypothesis    0.0\n",
       "reach         0.0\n",
       "impact        0.0\n",
       "confidence    0.0\n",
       "efforts       0.0\n",
       "dtype: float64"
      ]
     },
     "execution_count": 18,
     "metadata": {},
     "output_type": "execute_result"
    }
   ],
   "source": [
    "round((vishypothesisits.isna().mean()*100),2)"
   ]
  },
  {
   "cell_type": "markdown",
   "metadata": {},
   "source": [
    "### Вывод"
   ]
  },
  {
   "cell_type": "markdown",
   "metadata": {},
   "source": [
    "<div style=\"border:solid indigo 2px; padding: 20px\">\n",
    "\n",
    "**После загрузки данных исправили следующие моменты:**\n",
    "\n",
    "- названия колонок в таблице гипотез перевели к нижнему регистру\n",
    "- привели тип данных дат к datetime\n",
    "    \n",
    "**Пропусков в данных нет**   \n",
    "\n",
    "**Дубликатов в данных нет**"
   ]
  },
  {
   "cell_type": "markdown",
   "metadata": {},
   "source": [
    "## **Часть 1. Приоритизация гипотез**\n",
    "\n",
    "- Гипотезы нужно приоритизовать, чтобы сократить расходы на эксперименты и запустить тестирование только наиболее перспективных идей."
   ]
  },
  {
   "cell_type": "markdown",
   "metadata": {},
   "source": [
    "### Применим фреймворк ICE для приоритизации гипотез"
   ]
  },
  {
   "cell_type": "markdown",
   "metadata": {},
   "source": [
    "- *Для расчета ICE используется формула* \n",
    "$$ICE = \\frac{Impact * Confidence}{Efforts}$$"
   ]
  },
  {
   "cell_type": "code",
   "execution_count": 19,
   "metadata": {},
   "outputs": [
    {
     "data": {
      "text/html": [
       "<div>\n",
       "<style scoped>\n",
       "    .dataframe tbody tr th:only-of-type {\n",
       "        vertical-align: middle;\n",
       "    }\n",
       "\n",
       "    .dataframe tbody tr th {\n",
       "        vertical-align: top;\n",
       "    }\n",
       "\n",
       "    .dataframe thead th {\n",
       "        text-align: right;\n",
       "    }\n",
       "</style>\n",
       "<table border=\"1\" class=\"dataframe\">\n",
       "  <thead>\n",
       "    <tr style=\"text-align: right;\">\n",
       "      <th></th>\n",
       "      <th>hypothesis</th>\n",
       "      <th>reach</th>\n",
       "      <th>impact</th>\n",
       "      <th>confidence</th>\n",
       "      <th>efforts</th>\n",
       "      <th>ICE</th>\n",
       "    </tr>\n",
       "  </thead>\n",
       "  <tbody>\n",
       "    <tr>\n",
       "      <th>0</th>\n",
       "      <td>Добавить два новых канала привлечения трафика,...</td>\n",
       "      <td>3</td>\n",
       "      <td>10</td>\n",
       "      <td>8</td>\n",
       "      <td>6</td>\n",
       "      <td>13.333333</td>\n",
       "    </tr>\n",
       "    <tr>\n",
       "      <th>1</th>\n",
       "      <td>Запустить собственную службу доставки, что сок...</td>\n",
       "      <td>2</td>\n",
       "      <td>5</td>\n",
       "      <td>4</td>\n",
       "      <td>10</td>\n",
       "      <td>2.000000</td>\n",
       "    </tr>\n",
       "    <tr>\n",
       "      <th>2</th>\n",
       "      <td>Добавить блоки рекомендаций товаров на сайт ин...</td>\n",
       "      <td>8</td>\n",
       "      <td>3</td>\n",
       "      <td>7</td>\n",
       "      <td>3</td>\n",
       "      <td>7.000000</td>\n",
       "    </tr>\n",
       "    <tr>\n",
       "      <th>3</th>\n",
       "      <td>Изменить структура категорий, что увеличит кон...</td>\n",
       "      <td>8</td>\n",
       "      <td>3</td>\n",
       "      <td>3</td>\n",
       "      <td>8</td>\n",
       "      <td>1.125000</td>\n",
       "    </tr>\n",
       "    <tr>\n",
       "      <th>4</th>\n",
       "      <td>Изменить цвет фона главной страницы, чтобы уве...</td>\n",
       "      <td>3</td>\n",
       "      <td>1</td>\n",
       "      <td>1</td>\n",
       "      <td>1</td>\n",
       "      <td>1.000000</td>\n",
       "    </tr>\n",
       "    <tr>\n",
       "      <th>5</th>\n",
       "      <td>Добавить страницу отзывов клиентов о магазине,...</td>\n",
       "      <td>3</td>\n",
       "      <td>2</td>\n",
       "      <td>2</td>\n",
       "      <td>3</td>\n",
       "      <td>1.333333</td>\n",
       "    </tr>\n",
       "    <tr>\n",
       "      <th>6</th>\n",
       "      <td>Показать на главной странице баннеры с актуаль...</td>\n",
       "      <td>5</td>\n",
       "      <td>3</td>\n",
       "      <td>8</td>\n",
       "      <td>3</td>\n",
       "      <td>8.000000</td>\n",
       "    </tr>\n",
       "    <tr>\n",
       "      <th>7</th>\n",
       "      <td>Добавить форму подписки на все основные страни...</td>\n",
       "      <td>10</td>\n",
       "      <td>7</td>\n",
       "      <td>8</td>\n",
       "      <td>5</td>\n",
       "      <td>11.200000</td>\n",
       "    </tr>\n",
       "    <tr>\n",
       "      <th>8</th>\n",
       "      <td>Запустить акцию, дающую скидку на товар в день...</td>\n",
       "      <td>1</td>\n",
       "      <td>9</td>\n",
       "      <td>9</td>\n",
       "      <td>5</td>\n",
       "      <td>16.200000</td>\n",
       "    </tr>\n",
       "  </tbody>\n",
       "</table>\n",
       "</div>"
      ],
      "text/plain": [
       "                                          hypothesis  reach  impact  \\\n",
       "0  Добавить два новых канала привлечения трафика,...      3      10   \n",
       "1  Запустить собственную службу доставки, что сок...      2       5   \n",
       "2  Добавить блоки рекомендаций товаров на сайт ин...      8       3   \n",
       "3  Изменить структура категорий, что увеличит кон...      8       3   \n",
       "4  Изменить цвет фона главной страницы, чтобы уве...      3       1   \n",
       "5  Добавить страницу отзывов клиентов о магазине,...      3       2   \n",
       "6  Показать на главной странице баннеры с актуаль...      5       3   \n",
       "7  Добавить форму подписки на все основные страни...     10       7   \n",
       "8  Запустить акцию, дающую скидку на товар в день...      1       9   \n",
       "\n",
       "   confidence  efforts        ICE  \n",
       "0           8        6  13.333333  \n",
       "1           4       10   2.000000  \n",
       "2           7        3   7.000000  \n",
       "3           3        8   1.125000  \n",
       "4           1        1   1.000000  \n",
       "5           2        3   1.333333  \n",
       "6           8        3   8.000000  \n",
       "7           8        5  11.200000  \n",
       "8           9        5  16.200000  "
      ]
     },
     "execution_count": 19,
     "metadata": {},
     "output_type": "execute_result"
    }
   ],
   "source": [
    "vishypothesisits['ICE'] = (vishypothesisits['impact'] *\n",
    "                           vishypothesisits['confidence'] /\n",
    "                           vishypothesisits['efforts']\n",
    "                          )\n",
    "vishypothesisits"
   ]
  },
  {
   "cell_type": "markdown",
   "metadata": {},
   "source": [
    "***Вывод***\n",
    "\n",
    "<div style=\"border:solid indigo 1px; padding: 20px\">\n",
    "    \n",
    "\n",
    "- Перспективные гипотезы с индексами **8, 0 и 7**."
   ]
  },
  {
   "cell_type": "markdown",
   "metadata": {},
   "source": [
    "### Применим фреймворк RICE для приоритизации гипотез"
   ]
  },
  {
   "cell_type": "markdown",
   "metadata": {},
   "source": [
    "- *Для расчета RICE используется формула* \n",
    "$$RICE = \\frac{Rearch * Impact * Confidence}{Efforts}$$"
   ]
  },
  {
   "cell_type": "code",
   "execution_count": 20,
   "metadata": {},
   "outputs": [
    {
     "data": {
      "text/html": [
       "<div>\n",
       "<style scoped>\n",
       "    .dataframe tbody tr th:only-of-type {\n",
       "        vertical-align: middle;\n",
       "    }\n",
       "\n",
       "    .dataframe tbody tr th {\n",
       "        vertical-align: top;\n",
       "    }\n",
       "\n",
       "    .dataframe thead th {\n",
       "        text-align: right;\n",
       "    }\n",
       "</style>\n",
       "<table border=\"1\" class=\"dataframe\">\n",
       "  <thead>\n",
       "    <tr style=\"text-align: right;\">\n",
       "      <th></th>\n",
       "      <th>hypothesis</th>\n",
       "      <th>reach</th>\n",
       "      <th>impact</th>\n",
       "      <th>confidence</th>\n",
       "      <th>efforts</th>\n",
       "      <th>ICE</th>\n",
       "      <th>RICE</th>\n",
       "    </tr>\n",
       "  </thead>\n",
       "  <tbody>\n",
       "    <tr>\n",
       "      <th>0</th>\n",
       "      <td>Добавить два новых канала привлечения трафика,...</td>\n",
       "      <td>3</td>\n",
       "      <td>10</td>\n",
       "      <td>8</td>\n",
       "      <td>6</td>\n",
       "      <td>13.333333</td>\n",
       "      <td>40.0</td>\n",
       "    </tr>\n",
       "    <tr>\n",
       "      <th>1</th>\n",
       "      <td>Запустить собственную службу доставки, что сок...</td>\n",
       "      <td>2</td>\n",
       "      <td>5</td>\n",
       "      <td>4</td>\n",
       "      <td>10</td>\n",
       "      <td>2.000000</td>\n",
       "      <td>4.0</td>\n",
       "    </tr>\n",
       "    <tr>\n",
       "      <th>2</th>\n",
       "      <td>Добавить блоки рекомендаций товаров на сайт ин...</td>\n",
       "      <td>8</td>\n",
       "      <td>3</td>\n",
       "      <td>7</td>\n",
       "      <td>3</td>\n",
       "      <td>7.000000</td>\n",
       "      <td>56.0</td>\n",
       "    </tr>\n",
       "    <tr>\n",
       "      <th>3</th>\n",
       "      <td>Изменить структура категорий, что увеличит кон...</td>\n",
       "      <td>8</td>\n",
       "      <td>3</td>\n",
       "      <td>3</td>\n",
       "      <td>8</td>\n",
       "      <td>1.125000</td>\n",
       "      <td>9.0</td>\n",
       "    </tr>\n",
       "    <tr>\n",
       "      <th>4</th>\n",
       "      <td>Изменить цвет фона главной страницы, чтобы уве...</td>\n",
       "      <td>3</td>\n",
       "      <td>1</td>\n",
       "      <td>1</td>\n",
       "      <td>1</td>\n",
       "      <td>1.000000</td>\n",
       "      <td>3.0</td>\n",
       "    </tr>\n",
       "    <tr>\n",
       "      <th>5</th>\n",
       "      <td>Добавить страницу отзывов клиентов о магазине,...</td>\n",
       "      <td>3</td>\n",
       "      <td>2</td>\n",
       "      <td>2</td>\n",
       "      <td>3</td>\n",
       "      <td>1.333333</td>\n",
       "      <td>4.0</td>\n",
       "    </tr>\n",
       "    <tr>\n",
       "      <th>6</th>\n",
       "      <td>Показать на главной странице баннеры с актуаль...</td>\n",
       "      <td>5</td>\n",
       "      <td>3</td>\n",
       "      <td>8</td>\n",
       "      <td>3</td>\n",
       "      <td>8.000000</td>\n",
       "      <td>40.0</td>\n",
       "    </tr>\n",
       "    <tr>\n",
       "      <th>7</th>\n",
       "      <td>Добавить форму подписки на все основные страни...</td>\n",
       "      <td>10</td>\n",
       "      <td>7</td>\n",
       "      <td>8</td>\n",
       "      <td>5</td>\n",
       "      <td>11.200000</td>\n",
       "      <td>112.0</td>\n",
       "    </tr>\n",
       "    <tr>\n",
       "      <th>8</th>\n",
       "      <td>Запустить акцию, дающую скидку на товар в день...</td>\n",
       "      <td>1</td>\n",
       "      <td>9</td>\n",
       "      <td>9</td>\n",
       "      <td>5</td>\n",
       "      <td>16.200000</td>\n",
       "      <td>16.2</td>\n",
       "    </tr>\n",
       "  </tbody>\n",
       "</table>\n",
       "</div>"
      ],
      "text/plain": [
       "                                          hypothesis  reach  impact  \\\n",
       "0  Добавить два новых канала привлечения трафика,...      3      10   \n",
       "1  Запустить собственную службу доставки, что сок...      2       5   \n",
       "2  Добавить блоки рекомендаций товаров на сайт ин...      8       3   \n",
       "3  Изменить структура категорий, что увеличит кон...      8       3   \n",
       "4  Изменить цвет фона главной страницы, чтобы уве...      3       1   \n",
       "5  Добавить страницу отзывов клиентов о магазине,...      3       2   \n",
       "6  Показать на главной странице баннеры с актуаль...      5       3   \n",
       "7  Добавить форму подписки на все основные страни...     10       7   \n",
       "8  Запустить акцию, дающую скидку на товар в день...      1       9   \n",
       "\n",
       "   confidence  efforts        ICE   RICE  \n",
       "0           8        6  13.333333   40.0  \n",
       "1           4       10   2.000000    4.0  \n",
       "2           7        3   7.000000   56.0  \n",
       "3           3        8   1.125000    9.0  \n",
       "4           1        1   1.000000    3.0  \n",
       "5           2        3   1.333333    4.0  \n",
       "6           8        3   8.000000   40.0  \n",
       "7           8        5  11.200000  112.0  \n",
       "8           9        5  16.200000   16.2  "
      ]
     },
     "execution_count": 20,
     "metadata": {},
     "output_type": "execute_result"
    }
   ],
   "source": [
    "vishypothesisits['RICE'] = (vishypothesisits['impact'] *\n",
    "                           vishypothesisits['confidence'] *\n",
    "                            vishypothesisits['reach'] /\n",
    "                           vishypothesisits['efforts']\n",
    "                          )\n",
    "vishypothesisits"
   ]
  },
  {
   "cell_type": "markdown",
   "metadata": {},
   "source": [
    "***Вывод***\n",
    "\n",
    "<div style=\"border:solid indigo 1px; padding: 20px\">\n",
    "    \n",
    "\n",
    "- Перспективные гипотезы с индексами **7, 2, 0 и 6**."
   ]
  },
  {
   "cell_type": "markdown",
   "metadata": {},
   "source": [
    "- **Визуализируем изменение мест**"
   ]
  },
  {
   "cell_type": "code",
   "execution_count": 21,
   "metadata": {},
   "outputs": [
    {
     "data": {
      "text/html": [
       "<div>\n",
       "<style scoped>\n",
       "    .dataframe tbody tr th:only-of-type {\n",
       "        vertical-align: middle;\n",
       "    }\n",
       "\n",
       "    .dataframe tbody tr th {\n",
       "        vertical-align: top;\n",
       "    }\n",
       "\n",
       "    .dataframe thead th {\n",
       "        text-align: right;\n",
       "    }\n",
       "</style>\n",
       "<table border=\"1\" class=\"dataframe\">\n",
       "  <thead>\n",
       "    <tr style=\"text-align: right;\">\n",
       "      <th></th>\n",
       "      <th>hypothesis</th>\n",
       "      <th>reach</th>\n",
       "      <th>impact</th>\n",
       "      <th>confidence</th>\n",
       "      <th>efforts</th>\n",
       "      <th>ICE</th>\n",
       "      <th>RICE</th>\n",
       "    </tr>\n",
       "  </thead>\n",
       "  <tbody>\n",
       "    <tr>\n",
       "      <th>0</th>\n",
       "      <td>Добавить два новых канала привлечения трафика,...</td>\n",
       "      <td>3</td>\n",
       "      <td>10</td>\n",
       "      <td>8</td>\n",
       "      <td>6</td>\n",
       "      <td>13.333333</td>\n",
       "      <td>40.0</td>\n",
       "    </tr>\n",
       "    <tr>\n",
       "      <th>1</th>\n",
       "      <td>Запустить собственную службу доставки, что сок...</td>\n",
       "      <td>2</td>\n",
       "      <td>5</td>\n",
       "      <td>4</td>\n",
       "      <td>10</td>\n",
       "      <td>2.000000</td>\n",
       "      <td>4.0</td>\n",
       "    </tr>\n",
       "    <tr>\n",
       "      <th>2</th>\n",
       "      <td>Добавить блоки рекомендаций товаров на сайт ин...</td>\n",
       "      <td>8</td>\n",
       "      <td>3</td>\n",
       "      <td>7</td>\n",
       "      <td>3</td>\n",
       "      <td>7.000000</td>\n",
       "      <td>56.0</td>\n",
       "    </tr>\n",
       "    <tr>\n",
       "      <th>3</th>\n",
       "      <td>Изменить структура категорий, что увеличит кон...</td>\n",
       "      <td>8</td>\n",
       "      <td>3</td>\n",
       "      <td>3</td>\n",
       "      <td>8</td>\n",
       "      <td>1.125000</td>\n",
       "      <td>9.0</td>\n",
       "    </tr>\n",
       "    <tr>\n",
       "      <th>4</th>\n",
       "      <td>Изменить цвет фона главной страницы, чтобы уве...</td>\n",
       "      <td>3</td>\n",
       "      <td>1</td>\n",
       "      <td>1</td>\n",
       "      <td>1</td>\n",
       "      <td>1.000000</td>\n",
       "      <td>3.0</td>\n",
       "    </tr>\n",
       "    <tr>\n",
       "      <th>5</th>\n",
       "      <td>Добавить страницу отзывов клиентов о магазине,...</td>\n",
       "      <td>3</td>\n",
       "      <td>2</td>\n",
       "      <td>2</td>\n",
       "      <td>3</td>\n",
       "      <td>1.333333</td>\n",
       "      <td>4.0</td>\n",
       "    </tr>\n",
       "    <tr>\n",
       "      <th>6</th>\n",
       "      <td>Показать на главной странице баннеры с актуаль...</td>\n",
       "      <td>5</td>\n",
       "      <td>3</td>\n",
       "      <td>8</td>\n",
       "      <td>3</td>\n",
       "      <td>8.000000</td>\n",
       "      <td>40.0</td>\n",
       "    </tr>\n",
       "    <tr>\n",
       "      <th>7</th>\n",
       "      <td>Добавить форму подписки на все основные страни...</td>\n",
       "      <td>10</td>\n",
       "      <td>7</td>\n",
       "      <td>8</td>\n",
       "      <td>5</td>\n",
       "      <td>11.200000</td>\n",
       "      <td>112.0</td>\n",
       "    </tr>\n",
       "    <tr>\n",
       "      <th>8</th>\n",
       "      <td>Запустить акцию, дающую скидку на товар в день...</td>\n",
       "      <td>1</td>\n",
       "      <td>9</td>\n",
       "      <td>9</td>\n",
       "      <td>5</td>\n",
       "      <td>16.200000</td>\n",
       "      <td>16.2</td>\n",
       "    </tr>\n",
       "  </tbody>\n",
       "</table>\n",
       "</div>"
      ],
      "text/plain": [
       "                                          hypothesis  reach  impact  \\\n",
       "0  Добавить два новых канала привлечения трафика,...      3      10   \n",
       "1  Запустить собственную службу доставки, что сок...      2       5   \n",
       "2  Добавить блоки рекомендаций товаров на сайт ин...      8       3   \n",
       "3  Изменить структура категорий, что увеличит кон...      8       3   \n",
       "4  Изменить цвет фона главной страницы, чтобы уве...      3       1   \n",
       "5  Добавить страницу отзывов клиентов о магазине,...      3       2   \n",
       "6  Показать на главной странице баннеры с актуаль...      5       3   \n",
       "7  Добавить форму подписки на все основные страни...     10       7   \n",
       "8  Запустить акцию, дающую скидку на товар в день...      1       9   \n",
       "\n",
       "   confidence  efforts        ICE   RICE  \n",
       "0           8        6  13.333333   40.0  \n",
       "1           4       10   2.000000    4.0  \n",
       "2           7        3   7.000000   56.0  \n",
       "3           3        8   1.125000    9.0  \n",
       "4           1        1   1.000000    3.0  \n",
       "5           2        3   1.333333    4.0  \n",
       "6           8        3   8.000000   40.0  \n",
       "7           8        5  11.200000  112.0  \n",
       "8           9        5  16.200000   16.2  "
      ]
     },
     "execution_count": 21,
     "metadata": {},
     "output_type": "execute_result"
    }
   ],
   "source": [
    "sample1 = vishypothesisits.copy()\n",
    "sample1"
   ]
  },
  {
   "cell_type": "code",
   "execution_count": 22,
   "metadata": {
    "scrolled": false
   },
   "outputs": [
    {
     "data": {
      "text/html": [
       "<div>\n",
       "<style scoped>\n",
       "    .dataframe tbody tr th:only-of-type {\n",
       "        vertical-align: middle;\n",
       "    }\n",
       "\n",
       "    .dataframe tbody tr th {\n",
       "        vertical-align: top;\n",
       "    }\n",
       "\n",
       "    .dataframe thead th {\n",
       "        text-align: right;\n",
       "    }\n",
       "</style>\n",
       "<table border=\"1\" class=\"dataframe\">\n",
       "  <thead>\n",
       "    <tr style=\"text-align: right;\">\n",
       "      <th></th>\n",
       "      <th>hypothesis</th>\n",
       "      <th>hypothesisICE</th>\n",
       "      <th>ICE_rank</th>\n",
       "      <th>RICE_rank</th>\n",
       "    </tr>\n",
       "  </thead>\n",
       "  <tbody>\n",
       "    <tr>\n",
       "      <th>0</th>\n",
       "      <td>Добавить форму подписки на все основные страни...</td>\n",
       "      <td>7</td>\n",
       "      <td>2</td>\n",
       "      <td>0</td>\n",
       "    </tr>\n",
       "    <tr>\n",
       "      <th>1</th>\n",
       "      <td>Добавить блоки рекомендаций товаров на сайт ин...</td>\n",
       "      <td>2</td>\n",
       "      <td>4</td>\n",
       "      <td>1</td>\n",
       "    </tr>\n",
       "    <tr>\n",
       "      <th>2</th>\n",
       "      <td>Добавить два новых канала привлечения трафика,...</td>\n",
       "      <td>0</td>\n",
       "      <td>1</td>\n",
       "      <td>2</td>\n",
       "    </tr>\n",
       "    <tr>\n",
       "      <th>3</th>\n",
       "      <td>Показать на главной странице баннеры с актуаль...</td>\n",
       "      <td>6</td>\n",
       "      <td>3</td>\n",
       "      <td>3</td>\n",
       "    </tr>\n",
       "    <tr>\n",
       "      <th>4</th>\n",
       "      <td>Запустить акцию, дающую скидку на товар в день...</td>\n",
       "      <td>8</td>\n",
       "      <td>0</td>\n",
       "      <td>4</td>\n",
       "    </tr>\n",
       "    <tr>\n",
       "      <th>5</th>\n",
       "      <td>Изменить структура категорий, что увеличит кон...</td>\n",
       "      <td>3</td>\n",
       "      <td>7</td>\n",
       "      <td>5</td>\n",
       "    </tr>\n",
       "    <tr>\n",
       "      <th>6</th>\n",
       "      <td>Запустить собственную службу доставки, что сок...</td>\n",
       "      <td>1</td>\n",
       "      <td>5</td>\n",
       "      <td>6</td>\n",
       "    </tr>\n",
       "    <tr>\n",
       "      <th>7</th>\n",
       "      <td>Добавить страницу отзывов клиентов о магазине,...</td>\n",
       "      <td>5</td>\n",
       "      <td>6</td>\n",
       "      <td>7</td>\n",
       "    </tr>\n",
       "    <tr>\n",
       "      <th>8</th>\n",
       "      <td>Изменить цвет фона главной страницы, чтобы уве...</td>\n",
       "      <td>4</td>\n",
       "      <td>8</td>\n",
       "      <td>8</td>\n",
       "    </tr>\n",
       "  </tbody>\n",
       "</table>\n",
       "</div>"
      ],
      "text/plain": [
       "                                          hypothesis  hypothesisICE  ICE_rank  \\\n",
       "0  Добавить форму подписки на все основные страни...              7         2   \n",
       "1  Добавить блоки рекомендаций товаров на сайт ин...              2         4   \n",
       "2  Добавить два новых канала привлечения трафика,...              0         1   \n",
       "3  Показать на главной странице баннеры с актуаль...              6         3   \n",
       "4  Запустить акцию, дающую скидку на товар в день...              8         0   \n",
       "5  Изменить структура категорий, что увеличит кон...              3         7   \n",
       "6  Запустить собственную службу доставки, что сок...              1         5   \n",
       "7  Добавить страницу отзывов клиентов о магазине,...              5         6   \n",
       "8  Изменить цвет фона главной страницы, чтобы уве...              4         8   \n",
       "\n",
       "   RICE_rank  \n",
       "0          0  \n",
       "1          1  \n",
       "2          2  \n",
       "3          3  \n",
       "4          4  \n",
       "5          5  \n",
       "6          6  \n",
       "7          7  \n",
       "8          8  "
      ]
     },
     "execution_count": 22,
     "metadata": {},
     "output_type": "execute_result"
    }
   ],
   "source": [
    "sample1 = (sample1[['hypothesis', 'ICE', 'RICE']]\n",
    "            .sort_values('ICE', ascending=False)\n",
    "            .reset_index()\n",
    "            .reset_index()\n",
    "            .rename(columns={'level_0': 'ICE_rank', 'index':'hypothesisICE'})\n",
    "            .sort_values('RICE', ascending=False)\n",
    "            .reset_index() \n",
    "            .reset_index()\n",
    "            .rename(columns={'level_0': 'RICE_rank', 'index':'hypothesisRICE'})\n",
    " \n",
    ")\n",
    "sample1[['hypothesis','hypothesisICE', 'ICE_rank', 'RICE_rank']]"
   ]
  },
  {
   "cell_type": "code",
   "execution_count": 23,
   "metadata": {},
   "outputs": [
    {
     "data": {
      "image/png": "[encoded data removed]",
      "text/plain": [
       "<Figure size 720x720 with 1 Axes>"
      ]
     },
     "metadata": {
      "needs_background": "light"
     },
     "output_type": "display_data"
    }
   ],
   "source": [
    "hypot = [0,1,2,3,4,5,6,7,8]\n",
    "\n",
    "fig, ax = plt.subplots(1, figsize=(10,10))\n",
    "\n",
    "for i in hypot:\n",
    "    temp = sample1[sample1['hypothesisICE'] == i]\n",
    "    plt.plot((1, 2),\n",
    "             (temp['ICE_rank'].sum(), temp['RICE_rank'].sum()),\n",
    "             marker='o', markersize=10\n",
    "            )\n",
    "    # start label\n",
    "    plt.text(1, temp['ICE_rank'].values[0]+0.1, i, size=15, ha='right');\n",
    "    # end label\n",
    "    plt.text(2, temp['RICE_rank'].values[0]+0.1, i, size=15, ha='left')\n",
    "    \n",
    "plt.xlim(0, 3) \n",
    "ax.set_xticklabels(['ICE', 'RICE'])\n",
    "plt.xticks([1, 2], size=15); "
   ]
  },
  {
   "cell_type": "markdown",
   "metadata": {},
   "source": [
    "#### Вывод"
   ]
  },
  {
   "cell_type": "markdown",
   "metadata": {},
   "source": [
    "<div style=\"border:solid indigo 4px; padding: 20px\">\n",
    "    \n",
    "- По фреймворку ICE тройка перспективных гипотез -  **8, 0, 7**  \n",
    "- По фреймворку RICE четверка перспективных гипотез -  **7, 2, 0 и 6**\n",
    "    \n",
    "    **Причины изменения гипотез при расчете разными фреймворками**\n",
    "    \n",
    "    \n",
    "    \n",
    "- **Гипотеза 7** с 3го места в ICE перешла на 1е в RICE. Это связано с параметром reach. Параметр говорит о том, скольких пользователей затронет изменение, которое мы хотим внести. У 7й гипотезы reach - 10, это максимум. Этот балл идет в числитель формулы, соответственно и общий результат резко увеличится\n",
    "    \n",
    "    \n",
    "- **Гипотеза 8** с 1го места в ICE перешла на 5е в RICE. Гипотеза имеет высокие баллы за влияние и уверенность в нее, средний балл по усилиям, но зато очень низкий балл reach, что и повлияло на вылет из 3ки перспективных гипотез. \n",
    "    \n",
    "    \n",
    "- **Гипотеза 0** со 2го места в ICE перешла на 3е в RICE. Гипотеза имеет очень невысокий параметр reach, что и понизило общий результат, по сравнению с гипотезами 2 и 7\n",
    "    \n",
    "    \n",
    "- **Гипотеза 2** с 5го места в ICE перешла на 2е в RICE. Гипотезв имеет невысокие влияние на пользователя, но и невысокий балл усилий на ее исполнение. Зато имеет высокий балл reach! Что и привело гипотезу на 2е место.\n",
    "    \n",
    "    \n",
    "- **Гипотеза 6** с 4го места в ICE перешла на совместный пъедестал 3го места с гипотезой 0 в RICE. Повлияли разные баллы, как итог - одинаковый результат\n",
    "    \n",
    "    "
   ]
  },
  {
   "cell_type": "markdown",
   "metadata": {},
   "source": [
    "## **Часть 2. Проверка данных A/B-теста**"
   ]
  },
  {
   "cell_type": "markdown",
   "metadata": {},
   "source": [
    "### Проверим размеры групп"
   ]
  },
  {
   "cell_type": "code",
   "execution_count": 24,
   "metadata": {
    "scrolled": true
   },
   "outputs": [
    {
     "data": {
      "text/html": [
       "<div>\n",
       "<style scoped>\n",
       "    .dataframe tbody tr th:only-of-type {\n",
       "        vertical-align: middle;\n",
       "    }\n",
       "\n",
       "    .dataframe tbody tr th {\n",
       "        vertical-align: top;\n",
       "    }\n",
       "\n",
       "    .dataframe thead th {\n",
       "        text-align: right;\n",
       "    }\n",
       "</style>\n",
       "<table border=\"1\" class=\"dataframe\">\n",
       "  <thead>\n",
       "    <tr style=\"text-align: right;\">\n",
       "      <th></th>\n",
       "      <th>group</th>\n",
       "      <th>visitorId</th>\n",
       "    </tr>\n",
       "  </thead>\n",
       "  <tbody>\n",
       "    <tr>\n",
       "      <th>0</th>\n",
       "      <td>A</td>\n",
       "      <td>[4069496402, 78758296, 295230930, 879864040, 3...</td>\n",
       "    </tr>\n",
       "    <tr>\n",
       "      <th>1</th>\n",
       "      <td>B</td>\n",
       "      <td>[3312258926, 3642806036, 1196621759, 232227988...</td>\n",
       "    </tr>\n",
       "  </tbody>\n",
       "</table>\n",
       "</div>"
      ],
      "text/plain": [
       "  group                                          visitorId\n",
       "0     A  [4069496402, 78758296, 295230930, 879864040, 3...\n",
       "1     B  [3312258926, 3642806036, 1196621759, 232227988..."
      ]
     },
     "execution_count": 24,
     "metadata": {},
     "output_type": "execute_result"
    }
   ],
   "source": [
    "length_df = (orders\n",
    "             .groupby('group')\n",
    "             .agg({'visitorId':'unique'})\n",
    "             .reset_index()\n",
    "            )\n",
    "length_df"
   ]
  },
  {
   "cell_type": "code",
   "execution_count": 25,
   "metadata": {
    "scrolled": false
   },
   "outputs": [
    {
     "name": "stdout",
     "output_type": "stream",
     "text": [
      "Размер групп А = 503\n",
      "Размер групп B = 586\n",
      "Дельта между группами = 16%\n"
     ]
    }
   ],
   "source": [
    "print(f'Размер групп А = {len(length_df.loc[0,\"visitorId\"])}')\n",
    "print(f'Размер групп B = {len(length_df.loc[1,\"visitorId\"])}')\n",
    "print(f'Дельта между группами = {int((len(length_df.loc[1,\"visitorId\"]) / len(length_df.loc[0,\"visitorId\"]) - 1)*100)}%')"
   ]
  },
  {
   "cell_type": "markdown",
   "metadata": {},
   "source": [
    "#### Вывод"
   ]
  },
  {
   "cell_type": "markdown",
   "metadata": {},
   "source": [
    "<div style=\"border:solid indigo 1px; padding: 20px\">\n",
    "    \n",
    "- Нужно было более точно определять размеры групп. 16% - это многова то. Пользователи группы В могли совершить больше покупок, что повлияет на итоговую конверсию    \n",
    "- Поскольку тест уже проведен, будем работать с тем, что есть"
   ]
  },
  {
   "cell_type": "markdown",
   "metadata": {},
   "source": [
    "### Проверим наличие перехода пользователей из  группы А в В"
   ]
  },
  {
   "cell_type": "code",
   "execution_count": 26,
   "metadata": {},
   "outputs": [
    {
     "data": {
      "text/plain": [
       "58"
      ]
     },
     "execution_count": 26,
     "metadata": {},
     "output_type": "execute_result"
    }
   ],
   "source": [
    "# intersect1d - Находит пересечение двух массивов.\n",
    "# Возвращает отсортированные уникальные значения, которые находятся в обоих входных массивах.\n",
    "# остается только подсчитать длину массива повторяющихся значений\n",
    "\n",
    "len(np.intersect1d(orders\n",
    "                           .query('group == \"A\"')['visitorId']\n",
    "                           .unique(),\n",
    "                   orders\n",
    "                           .query('group == \"B\"')['visitorId']\n",
    "                           .unique()))                 "
   ]
  },
  {
   "cell_type": "markdown",
   "metadata": {},
   "source": [
    "- **Какие траты у двойных агентов в обоих группах**"
   ]
  },
  {
   "cell_type": "code",
   "execution_count": 27,
   "metadata": {},
   "outputs": [
    {
     "data": {
      "text/plain": [
       "array([   8300375,  199603092,  232979603,  237748145,  276558944,\n",
       "        351125977,  393266494,  457167155,  471551937,  477780734,\n",
       "        818047933,  963407295, 1230306981, 1294878855, 1316129916,\n",
       "       1333886533, 1404934699, 1602967004, 1614305549, 1648269707,\n",
       "       1668030113, 1738359350, 1801183820, 1959144690, 2038680547,\n",
       "       2044997962, 2378935119, 2458001652, 2579882178, 2587333274,\n",
       "       2600415354, 2654030115, 2686716486, 2712142231, 2716752286,\n",
       "       2780786433, 2927087541, 2949041841, 2954449915, 3062433592,\n",
       "       3202540741, 3234906277, 3656415546, 3717692402, 3766097110,\n",
       "       3803269165, 3891541246, 3941795274, 3951559397, 3957174400,\n",
       "       3963646447, 3972127743, 3984495233, 4069496402, 4120364173,\n",
       "       4186807279, 4256040402, 4266935830], dtype=int64)"
      ]
     },
     "execution_count": 27,
     "metadata": {},
     "output_type": "execute_result"
    }
   ],
   "source": [
    "bad_user = np.intersect1d(orders\n",
    "                           .query('group == \"A\"')['visitorId']\n",
    "                           .unique(),\n",
    "                   orders\n",
    "                           .query('group == \"B\"')['visitorId']\n",
    "                           .unique())\n",
    "bad_user"
   ]
  },
  {
   "cell_type": "code",
   "execution_count": 28,
   "metadata": {
    "scrolled": true
   },
   "outputs": [
    {
     "data": {
      "text/html": [
       "<div>\n",
       "<style scoped>\n",
       "    .dataframe tbody tr th:only-of-type {\n",
       "        vertical-align: middle;\n",
       "    }\n",
       "\n",
       "    .dataframe tbody tr th {\n",
       "        vertical-align: top;\n",
       "    }\n",
       "\n",
       "    .dataframe thead th {\n",
       "        text-align: right;\n",
       "    }\n",
       "</style>\n",
       "<table border=\"1\" class=\"dataframe\">\n",
       "  <thead>\n",
       "    <tr style=\"text-align: right;\">\n",
       "      <th></th>\n",
       "      <th>visitorId</th>\n",
       "      <th>group</th>\n",
       "      <th>revenue</th>\n",
       "    </tr>\n",
       "  </thead>\n",
       "  <tbody>\n",
       "    <tr>\n",
       "      <th>0</th>\n",
       "      <td>8300375</td>\n",
       "      <td>A</td>\n",
       "      <td>1790</td>\n",
       "    </tr>\n",
       "    <tr>\n",
       "      <th>1</th>\n",
       "      <td>8300375</td>\n",
       "      <td>B</td>\n",
       "      <td>10510</td>\n",
       "    </tr>\n",
       "    <tr>\n",
       "      <th>2</th>\n",
       "      <td>199603092</td>\n",
       "      <td>A</td>\n",
       "      <td>19692</td>\n",
       "    </tr>\n",
       "    <tr>\n",
       "      <th>3</th>\n",
       "      <td>199603092</td>\n",
       "      <td>B</td>\n",
       "      <td>3488</td>\n",
       "    </tr>\n",
       "    <tr>\n",
       "      <th>4</th>\n",
       "      <td>232979603</td>\n",
       "      <td>A</td>\n",
       "      <td>60</td>\n",
       "    </tr>\n",
       "  </tbody>\n",
       "</table>\n",
       "</div>"
      ],
      "text/plain": [
       "   visitorId group  revenue\n",
       "0    8300375     A     1790\n",
       "1    8300375     B    10510\n",
       "2  199603092     A    19692\n",
       "3  199603092     B     3488\n",
       "4  232979603     A       60"
      ]
     },
     "execution_count": 28,
     "metadata": {},
     "output_type": "execute_result"
    }
   ],
   "source": [
    "df_bad_user =(orders\n",
    "                    .query('visitorId in @bad_user')\n",
    "                    .groupby(['visitorId', 'group'])\n",
    "                    .agg({'revenue':'sum'}).reset_index()\n",
    "            )\n",
    "df_bad_user.head()"
   ]
  },
  {
   "cell_type": "code",
   "execution_count": 29,
   "metadata": {},
   "outputs": [
    {
     "data": {
      "text/plain": [
       "720147"
      ]
     },
     "execution_count": 29,
     "metadata": {},
     "output_type": "execute_result"
    }
   ],
   "source": [
    "purchase_A = df_bad_user.query('group == \"A\"')['revenue'].sum()\n",
    "purchase_A"
   ]
  },
  {
   "cell_type": "code",
   "execution_count": 30,
   "metadata": {},
   "outputs": [
    {
     "data": {
      "text/plain": [
       "838788"
      ]
     },
     "execution_count": 30,
     "metadata": {},
     "output_type": "execute_result"
    }
   ],
   "source": [
    "purchase_B = df_bad_user.query('group == \"B\"')['revenue'].sum()\n",
    "purchase_B"
   ]
  },
  {
   "cell_type": "code",
   "execution_count": 31,
   "metadata": {
    "scrolled": false
   },
   "outputs": [
    {
     "name": "stdout",
     "output_type": "stream",
     "text": [
      "В группе А двойные агенты потратили  720147\n",
      "В группе B двойные агенты потратили  838788\n",
      "Дельта составляет  16%\n"
     ]
    }
   ],
   "source": [
    "print(f'В группе А двойные агенты потратили  {purchase_A}')\n",
    "print(f'В группе B двойные агенты потратили  {purchase_B}')\n",
    "print(f'Дельта составляет  {int(((purchase_B / purchase_A)-1) *100)}%')"
   ]
  },
  {
   "cell_type": "markdown",
   "metadata": {},
   "source": [
    "- **Посмотрим потраты двойных агентов на графике**"
   ]
  },
  {
   "cell_type": "code",
   "execution_count": 32,
   "metadata": {},
   "outputs": [
    {
     "data": {
      "image/png": "[encoded data removed]",
      "text/plain": [
       "<Figure size 1800x1080 with 1 Axes>"
      ]
     },
     "metadata": {
      "needs_background": "light"
     },
     "output_type": "display_data"
    }
   ],
   "source": [
    "# set width of bar\n",
    "barWidth = 0.2\n",
    "fig = plt.subplots(figsize =(25, 15))\n",
    "\n",
    "# set height of bar\n",
    "group_A = list(df_bad_user.query('group == \"A\"')['revenue'])\n",
    "group_B = list(df_bad_user.query('group == \"B\"')['revenue'])\n",
    "\n",
    "# Set position of bar on X axis\n",
    "br1 = np.arange(len(group_A))\n",
    "br2 = [x + barWidth for x in br1]\n",
    "\n",
    "# Make the plot\n",
    "plt.bar(br1, group_A, color ='r', width = barWidth,\n",
    "        edgecolor ='grey', label ='group_A')\n",
    "plt.bar(br2, group_B, color ='g', width = barWidth,\n",
    "        edgecolor ='grey', label ='group_B')\n",
    "\n",
    "# Adding Xticks\n",
    "plt.xlabel('Пользователи',fontweight ='bold', fontsize = 20)\n",
    "plt.ylabel('Покупки', fontweight ='bold', fontsize = 20)\n",
    "\n",
    "plt.legend()\n",
    "plt.title('Потраты пользователей в обоих группах', fontweight ='bold', fontsize = 20)\n",
    "plt.show()"
   ]
  },
  {
   "cell_type": "markdown",
   "metadata": {},
   "source": [
    "- Данные пользователи покупали в обоих группах на различные суммы. Какой то последовательности нет. В группе В эти пользователи начали тратить больше"
   ]
  },
  {
   "cell_type": "markdown",
   "metadata": {},
   "source": [
    "#### Вывод"
   ]
  },
  {
   "cell_type": "markdown",
   "metadata": {},
   "source": [
    "<div style=\"border:solid indigo 1px; padding: 20px\">\n",
    "    \n",
    "- Еще одна ошибка. 58 пользоватлей из начальной группы оказались в группе В. Такое нельзя допускать! Такие пльзователи могли совершить покупки, что повлияет на результат\n",
    "- Поскольку тест уже проведен, будем работать с тем, что есть"
   ]
  },
  {
   "cell_type": "markdown",
   "metadata": {},
   "source": [
    "### Проверим нормальность распределения средней выручки"
   ]
  },
  {
   "cell_type": "markdown",
   "metadata": {},
   "source": [
    "**Сравним квантили нормального распределения и нашего**\n",
    "- Красная линия – как распределены квартили нормального распределения\n",
    "- Синие точки – наше распределение\n",
    "\n",
    "\n",
    "**Построим боксплот**"
   ]
  },
  {
   "cell_type": "markdown",
   "metadata": {},
   "source": [
    "- **Начнем с группы А**"
   ]
  },
  {
   "cell_type": "code",
   "execution_count": 33,
   "metadata": {
    "scrolled": true
   },
   "outputs": [
    {
     "data": {
      "image/png": "[encoded data removed]",
      "text/plain": [
       "<Figure size 432x288 with 1 Axes>"
      ]
     },
     "metadata": {
      "needs_background": "light"
     },
     "output_type": "display_data"
    }
   ],
   "source": [
    "from statsmodels.graphics.gofplots import qqplot\n",
    "qqplot(orders.query('group == \"A\"').groupby('visitorId')['revenue'].mean(), line='s')\n",
    "plt.title('qqplot');"
   ]
  },
  {
   "cell_type": "code",
   "execution_count": 34,
   "metadata": {
    "scrolled": false
   },
   "outputs": [
    {
     "data": {
      "image/png": "[encoded data removed]",
      "text/plain": [
       "<Figure size 432x288 with 1 Axes>"
      ]
     },
     "metadata": {
      "needs_background": "light"
     },
     "output_type": "display_data"
    }
   ],
   "source": [
    "sns.boxplot(orders.query('group == \"A\"').groupby('visitorId')['revenue'].mean())\n",
    "plt.title('Выбросы в выручке группы А');"
   ]
  },
  {
   "cell_type": "markdown",
   "metadata": {},
   "source": [
    "- В группе А полно выбросов"
   ]
  },
  {
   "cell_type": "code",
   "execution_count": 35,
   "metadata": {
    "scrolled": false
   },
   "outputs": [
    {
     "data": {
      "image/png": "[encoded data removed]",
      "text/plain": [
       "<Figure size 432x288 with 1 Axes>"
      ]
     },
     "metadata": {
      "needs_background": "light"
     },
     "output_type": "display_data"
    }
   ],
   "source": [
    "qqplot(orders.query('group == \"B\"').groupby('visitorId')['revenue'].mean(), line='s')\n",
    "plt.title('qqplot');"
   ]
  },
  {
   "cell_type": "code",
   "execution_count": 36,
   "metadata": {},
   "outputs": [
    {
     "data": {
      "image/png": "[encoded data removed]",
      "text/plain": [
       "<Figure size 432x288 with 1 Axes>"
      ]
     },
     "metadata": {
      "needs_background": "light"
     },
     "output_type": "display_data"
    }
   ],
   "source": [
    "sns.boxplot(orders.query('group == \"B\"').groupby('visitorId')['revenue'].mean())\n",
    "plt.title('Выбросы в выручке группы В');"
   ]
  },
  {
   "cell_type": "markdown",
   "metadata": {},
   "source": [
    "- В группе B тоже есть выбросы, причем невероятно большие"
   ]
  },
  {
   "cell_type": "markdown",
   "metadata": {},
   "source": [
    "#### Вывод"
   ]
  },
  {
   "cell_type": "markdown",
   "metadata": {},
   "source": [
    "<div style=\"border:solid indigo 1px; padding: 20px\">\n",
    "    \n",
    "- По построенным графикам можно сделать вывод, что **распределение обоих групп ненормальное**\n",
    "- Присутствуют выбросы\n",
    "- На основании этого **будем применять для A/B-тестирования критерий Манна-Уитни**"
   ]
  },
  {
   "cell_type": "markdown",
   "metadata": {},
   "source": [
    "### Вывод"
   ]
  },
  {
   "cell_type": "markdown",
   "metadata": {},
   "source": [
    "<div style=\"border:solid indigo 1px; padding: 20px\">\n",
    "    \n",
    "**Найдены следующие ошибки при проведения А/В теста**:\n",
    "- размеры групп разные. Группа В больше на 16%\n",
    "- 58 пользователей перешли из группы А в В, присутствовали в обоих группах\n",
    "    \n",
    "- Данные ошибки могут повлиять на окончательный результат. \n",
    "    \n",
    "**Нормальность данных**    \n",
    "- По построенным графикам можно сделать вывод, что **распределение обоих групп ненормальное**\n",
    "- Присутствуют выбросы\n",
    "- На основании этого **будем применять для A/B-тестирования критерий Манна-Уитни**   "
   ]
  },
  {
   "cell_type": "markdown",
   "metadata": {},
   "source": [
    "## **Часть 3. Анализ A/B-теста**"
   ]
  },
  {
   "cell_type": "markdown",
   "metadata": {},
   "source": [
    "- **Нулевая гипотеза А/В теста** предполагает, что результаты теста групп А и В не отличаются, а если отличия и присутствуют - это случайность. Будем это опровергать!\n",
    "- **Альтернативная гипотеза** - группа В отличается от А. Будем делать вывод об истинности этой гипотезы"
   ]
  },
  {
   "cell_type": "markdown",
   "metadata": {},
   "source": [
    "### Построим график кумулятивной выручки по группам"
   ]
  },
  {
   "cell_type": "markdown",
   "metadata": {},
   "source": [
    "**Создадим массив уникальных пар значений дат и групп теста. Удалим дубликаты**"
   ]
  },
  {
   "cell_type": "code",
   "execution_count": 37,
   "metadata": {},
   "outputs": [],
   "source": [
    "datesGroups = orders[['date','group']].drop_duplicates()"
   ]
  },
  {
   "cell_type": "code",
   "execution_count": 38,
   "metadata": {},
   "outputs": [
    {
     "data": {
      "text/html": [
       "<div>\n",
       "<style scoped>\n",
       "    .dataframe tbody tr th:only-of-type {\n",
       "        vertical-align: middle;\n",
       "    }\n",
       "\n",
       "    .dataframe tbody tr th {\n",
       "        vertical-align: top;\n",
       "    }\n",
       "\n",
       "    .dataframe thead th {\n",
       "        text-align: right;\n",
       "    }\n",
       "</style>\n",
       "<table border=\"1\" class=\"dataframe\">\n",
       "  <thead>\n",
       "    <tr style=\"text-align: right;\">\n",
       "      <th></th>\n",
       "      <th>date</th>\n",
       "      <th>group</th>\n",
       "    </tr>\n",
       "  </thead>\n",
       "  <tbody>\n",
       "    <tr>\n",
       "      <th>55</th>\n",
       "      <td>2019-08-01</td>\n",
       "      <td>A</td>\n",
       "    </tr>\n",
       "    <tr>\n",
       "      <th>66</th>\n",
       "      <td>2019-08-01</td>\n",
       "      <td>B</td>\n",
       "    </tr>\n",
       "    <tr>\n",
       "      <th>175</th>\n",
       "      <td>2019-08-02</td>\n",
       "      <td>A</td>\n",
       "    </tr>\n",
       "    <tr>\n",
       "      <th>173</th>\n",
       "      <td>2019-08-02</td>\n",
       "      <td>B</td>\n",
       "    </tr>\n",
       "    <tr>\n",
       "      <th>291</th>\n",
       "      <td>2019-08-03</td>\n",
       "      <td>A</td>\n",
       "    </tr>\n",
       "  </tbody>\n",
       "</table>\n",
       "</div>"
      ],
      "text/plain": [
       "          date group\n",
       "55  2019-08-01     A\n",
       "66  2019-08-01     B\n",
       "175 2019-08-02     A\n",
       "173 2019-08-02     B\n",
       "291 2019-08-03     A"
      ]
     },
     "execution_count": 38,
     "metadata": {},
     "output_type": "execute_result"
    }
   ],
   "source": [
    "datesGroups.sort_values(by=['date','group']).head(5)"
   ]
  },
  {
   "cell_type": "markdown",
   "metadata": {},
   "source": [
    "- **Соберём агрегированные кумулятивные по дням данные о заказах**\n",
    "- *Вычислим максимальную дату. Найдём число уникальных ID заказов. Подсчитаем сумму средних чеков*"
   ]
  },
  {
   "cell_type": "code",
   "execution_count": 39,
   "metadata": {
    "scrolled": false
   },
   "outputs": [
    {
     "data": {
      "text/html": [
       "<div>\n",
       "<style scoped>\n",
       "    .dataframe tbody tr th:only-of-type {\n",
       "        vertical-align: middle;\n",
       "    }\n",
       "\n",
       "    .dataframe tbody tr th {\n",
       "        vertical-align: top;\n",
       "    }\n",
       "\n",
       "    .dataframe thead th {\n",
       "        text-align: right;\n",
       "    }\n",
       "</style>\n",
       "<table border=\"1\" class=\"dataframe\">\n",
       "  <thead>\n",
       "    <tr style=\"text-align: right;\">\n",
       "      <th></th>\n",
       "      <th>date</th>\n",
       "      <th>group</th>\n",
       "      <th>visitorId</th>\n",
       "      <th>transactionId</th>\n",
       "      <th>revenue</th>\n",
       "    </tr>\n",
       "  </thead>\n",
       "  <tbody>\n",
       "    <tr>\n",
       "      <th>55</th>\n",
       "      <td>2019-08-01</td>\n",
       "      <td>A</td>\n",
       "      <td>20</td>\n",
       "      <td>24</td>\n",
       "      <td>148579</td>\n",
       "    </tr>\n",
       "    <tr>\n",
       "      <th>66</th>\n",
       "      <td>2019-08-01</td>\n",
       "      <td>B</td>\n",
       "      <td>20</td>\n",
       "      <td>21</td>\n",
       "      <td>101217</td>\n",
       "    </tr>\n",
       "    <tr>\n",
       "      <th>175</th>\n",
       "      <td>2019-08-02</td>\n",
       "      <td>A</td>\n",
       "      <td>38</td>\n",
       "      <td>44</td>\n",
       "      <td>242401</td>\n",
       "    </tr>\n",
       "    <tr>\n",
       "      <th>173</th>\n",
       "      <td>2019-08-02</td>\n",
       "      <td>B</td>\n",
       "      <td>43</td>\n",
       "      <td>45</td>\n",
       "      <td>266748</td>\n",
       "    </tr>\n",
       "    <tr>\n",
       "      <th>291</th>\n",
       "      <td>2019-08-03</td>\n",
       "      <td>A</td>\n",
       "      <td>62</td>\n",
       "      <td>68</td>\n",
       "      <td>354874</td>\n",
       "    </tr>\n",
       "  </tbody>\n",
       "</table>\n",
       "</div>"
      ],
      "text/plain": [
       "          date group  visitorId  transactionId  revenue\n",
       "55  2019-08-01     A         20             24   148579\n",
       "66  2019-08-01     B         20             21   101217\n",
       "175 2019-08-02     A         38             44   242401\n",
       "173 2019-08-02     B         43             45   266748\n",
       "291 2019-08-03     A         62             68   354874"
      ]
     },
     "execution_count": 39,
     "metadata": {},
     "output_type": "execute_result"
    }
   ],
   "source": [
    "# logical_and - логическое и, выдает булево значение, если True - в работу. \n",
    "# orders['date'] <= x['date'] - знак < дает накопительный эффект, учитывается совпадающая дата и все кто был до этой даты\n",
    "# далее аггрегируем, получаем накопительные данные по группам\n",
    "\n",
    "ordersAggregated = (datesGroups\n",
    "                    .apply(lambda x: orders[np.logical_and(orders['date'] <= x['date'], orders['group'] == x['group'])]\n",
    "                    .agg({'date' : 'max',\n",
    "                          'group' : 'max',\n",
    "                          'visitorId' : 'nunique',\n",
    "                          'transactionId' : 'nunique',\n",
    "                          'revenue' : 'sum'}), axis=1)\n",
    "                    .sort_values(by=['date','group'])\n",
    "                   )\n",
    "\n",
    "ordersAggregated.head(5)                   "
   ]
  },
  {
   "cell_type": "markdown",
   "metadata": {},
   "source": [
    "- **Соберём агрегированные кумулятивные по дням данные о посетителях**"
   ]
  },
  {
   "cell_type": "code",
   "execution_count": 40,
   "metadata": {},
   "outputs": [
    {
     "data": {
      "text/html": [
       "<div>\n",
       "<style scoped>\n",
       "    .dataframe tbody tr th:only-of-type {\n",
       "        vertical-align: middle;\n",
       "    }\n",
       "\n",
       "    .dataframe tbody tr th {\n",
       "        vertical-align: top;\n",
       "    }\n",
       "\n",
       "    .dataframe thead th {\n",
       "        text-align: right;\n",
       "    }\n",
       "</style>\n",
       "<table border=\"1\" class=\"dataframe\">\n",
       "  <thead>\n",
       "    <tr style=\"text-align: right;\">\n",
       "      <th></th>\n",
       "      <th>date</th>\n",
       "      <th>group</th>\n",
       "      <th>visitors</th>\n",
       "    </tr>\n",
       "  </thead>\n",
       "  <tbody>\n",
       "    <tr>\n",
       "      <th>55</th>\n",
       "      <td>2019-08-01</td>\n",
       "      <td>A</td>\n",
       "      <td>719</td>\n",
       "    </tr>\n",
       "    <tr>\n",
       "      <th>66</th>\n",
       "      <td>2019-08-01</td>\n",
       "      <td>B</td>\n",
       "      <td>713</td>\n",
       "    </tr>\n",
       "    <tr>\n",
       "      <th>175</th>\n",
       "      <td>2019-08-02</td>\n",
       "      <td>A</td>\n",
       "      <td>1338</td>\n",
       "    </tr>\n",
       "    <tr>\n",
       "      <th>173</th>\n",
       "      <td>2019-08-02</td>\n",
       "      <td>B</td>\n",
       "      <td>1294</td>\n",
       "    </tr>\n",
       "    <tr>\n",
       "      <th>291</th>\n",
       "      <td>2019-08-03</td>\n",
       "      <td>A</td>\n",
       "      <td>1845</td>\n",
       "    </tr>\n",
       "  </tbody>\n",
       "</table>\n",
       "</div>"
      ],
      "text/plain": [
       "          date group  visitors\n",
       "55  2019-08-01     A       719\n",
       "66  2019-08-01     B       713\n",
       "175 2019-08-02     A      1338\n",
       "173 2019-08-02     B      1294\n",
       "291 2019-08-03     A      1845"
      ]
     },
     "execution_count": 40,
     "metadata": {},
     "output_type": "execute_result"
    }
   ],
   "source": [
    "visitorsAggregated = (datesGroups\n",
    "                      .apply(lambda x: visitors[np.logical_and(visitors['date'] <= x['date'], visitors['group'] == x['group'])]\n",
    "                      .agg({'date' : 'max',\n",
    "                            'group' : 'max',\n",
    "                            'visitors' : 'sum'}), axis=1)\n",
    "                      .sort_values(by=['date','group'])\n",
    "                     )\n",
    "\n",
    "visitorsAggregated.head(5)"
   ]
  },
  {
   "cell_type": "markdown",
   "metadata": {},
   "source": [
    "- **Объединим обе таблицы в одну**\n",
    "- **Переименуем колонки для простоты понимания**"
   ]
  },
  {
   "cell_type": "code",
   "execution_count": 41,
   "metadata": {},
   "outputs": [
    {
     "data": {
      "text/html": [
       "<div>\n",
       "<style scoped>\n",
       "    .dataframe tbody tr th:only-of-type {\n",
       "        vertical-align: middle;\n",
       "    }\n",
       "\n",
       "    .dataframe tbody tr th {\n",
       "        vertical-align: top;\n",
       "    }\n",
       "\n",
       "    .dataframe thead th {\n",
       "        text-align: right;\n",
       "    }\n",
       "</style>\n",
       "<table border=\"1\" class=\"dataframe\">\n",
       "  <thead>\n",
       "    <tr style=\"text-align: right;\">\n",
       "      <th></th>\n",
       "      <th>date</th>\n",
       "      <th>group</th>\n",
       "      <th>buyers</th>\n",
       "      <th>orders</th>\n",
       "      <th>revenue</th>\n",
       "      <th>visitors</th>\n",
       "    </tr>\n",
       "  </thead>\n",
       "  <tbody>\n",
       "    <tr>\n",
       "      <th>55</th>\n",
       "      <td>2019-08-28</td>\n",
       "      <td>B</td>\n",
       "      <td>526</td>\n",
       "      <td>576</td>\n",
       "      <td>5328268</td>\n",
       "      <td>17177</td>\n",
       "    </tr>\n",
       "    <tr>\n",
       "      <th>11</th>\n",
       "      <td>2019-08-06</td>\n",
       "      <td>B</td>\n",
       "      <td>123</td>\n",
       "      <td>129</td>\n",
       "      <td>824337</td>\n",
       "      <td>3935</td>\n",
       "    </tr>\n",
       "    <tr>\n",
       "      <th>50</th>\n",
       "      <td>2019-08-26</td>\n",
       "      <td>A</td>\n",
       "      <td>425</td>\n",
       "      <td>467</td>\n",
       "      <td>3227918</td>\n",
       "      <td>15665</td>\n",
       "    </tr>\n",
       "    <tr>\n",
       "      <th>12</th>\n",
       "      <td>2019-08-07</td>\n",
       "      <td>A</td>\n",
       "      <td>131</td>\n",
       "      <td>145</td>\n",
       "      <td>740818</td>\n",
       "      <td>4629</td>\n",
       "    </tr>\n",
       "    <tr>\n",
       "      <th>41</th>\n",
       "      <td>2019-08-21</td>\n",
       "      <td>B</td>\n",
       "      <td>407</td>\n",
       "      <td>437</td>\n",
       "      <td>4426892</td>\n",
       "      <td>12874</td>\n",
       "    </tr>\n",
       "  </tbody>\n",
       "</table>\n",
       "</div>"
      ],
      "text/plain": [
       "         date group  buyers  orders  revenue  visitors\n",
       "55 2019-08-28     B     526     576  5328268     17177\n",
       "11 2019-08-06     B     123     129   824337      3935\n",
       "50 2019-08-26     A     425     467  3227918     15665\n",
       "12 2019-08-07     A     131     145   740818      4629\n",
       "41 2019-08-21     B     407     437  4426892     12874"
      ]
     },
     "execution_count": 41,
     "metadata": {},
     "output_type": "execute_result"
    }
   ],
   "source": [
    "# в место способа объединения on используем left_on=[...], right_on=[...]\n",
    "# Такой способ позволяет объединить две таблицы, используя два разных столбца.\n",
    "\n",
    "cumulativeData = ordersAggregated.merge(visitorsAggregated, left_on=['date', 'group'], right_on=['date', 'group']) \n",
    "cumulativeData.columns = ['date', 'group', 'buyers', 'orders', 'revenue', 'visitors']\n",
    "cumulativeData.sample(5)"
   ]
  },
  {
   "cell_type": "markdown",
   "metadata": {},
   "source": [
    "- **Теперь построим график накапливаемой выручки**"
   ]
  },
  {
   "cell_type": "code",
   "execution_count": 42,
   "metadata": {
    "scrolled": true
   },
   "outputs": [
    {
     "data": {
      "image/png": "[encoded data removed]",
      "text/plain": [
       "<Figure size 720x288 with 1 Axes>"
      ]
     },
     "metadata": {
      "needs_background": "light"
     },
     "output_type": "display_data"
    }
   ],
   "source": [
    "# датафрейм с кумулятивным количеством заказов и кумулятивной выручкой по дням в группе А\n",
    "cumulativeRevenueA = cumulativeData[cumulativeData['group']=='A'][['date','revenue', 'orders']]\n",
    "\n",
    "# датафрейм с кумулятивным количеством заказов и кумулятивной выручкой по дням в группе B\n",
    "cumulativeRevenueB = cumulativeData[cumulativeData['group']=='B'][['date','revenue', 'orders']]\n",
    "\n",
    "plt.figure(figsize=(10,4))\n",
    "\n",
    "# Строим график выручки группы А\n",
    "plt.plot(cumulativeRevenueA['date'], cumulativeRevenueA['revenue'], label='A')\n",
    "\n",
    "# Строим график выручки группы B\n",
    "plt.plot(cumulativeRevenueB['date'], cumulativeRevenueB['revenue'], label='B')\n",
    "\n",
    "plt.legend()\n",
    "\n",
    "plt.xticks(rotation=45)\n",
    "plt.title('График кумулятивной выручки по группам')\n",
    "plt.xlabel('Дата')\n",
    "plt.ylabel('Кумулятивная выручка');"
   ]
  },
  {
   "cell_type": "markdown",
   "metadata": {},
   "source": [
    "#### Вывод"
   ]
  },
  {
   "cell_type": "markdown",
   "metadata": {},
   "source": [
    "<div style=\"border:solid indigo 1px; padding: 20px\">\n",
    "    \n",
    "- Выручка по группам увеличивается на протяжении всего теста.\n",
    "- Имеются всплески, резкий рост, что говорит о наличии либо сильно дорогих заказов, либо о росте числа заказов.\n",
    "- Группа В имеет бОльшую выручку. Имеем резкий скачок выручки в середине теста.\n",
    "- Выручка становится равномерной у обоих групп во 2й половине графика   "
   ]
  },
  {
   "cell_type": "markdown",
   "metadata": {},
   "source": [
    "### Построим график кумулятивного среднего чека по группам"
   ]
  },
  {
   "cell_type": "code",
   "execution_count": 43,
   "metadata": {},
   "outputs": [
    {
     "data": {
      "image/png": "[encoded data removed]",
      "text/plain": [
       "<Figure size 720x288 with 1 Axes>"
      ]
     },
     "metadata": {
      "needs_background": "light"
     },
     "output_type": "display_data"
    }
   ],
   "source": [
    "plt.figure(figsize=(10,4))\n",
    "\n",
    "plt.plot(cumulativeRevenueA['date'],\n",
    "         cumulativeRevenueA['revenue'] / cumulativeRevenueA['orders'], label='A')\n",
    "\n",
    "plt.plot(cumulativeRevenueB['date'],\n",
    "         cumulativeRevenueB['revenue'] / cumulativeRevenueB['orders'], label='B')\n",
    "plt.legend()\n",
    "plt.xticks(rotation=45)\n",
    "plt.title('График кумулятивного среднего чека по группам')\n",
    "plt.xlabel('Дата')\n",
    "plt.ylabel('Кумулятивный средний чек');"
   ]
  },
  {
   "cell_type": "markdown",
   "metadata": {},
   "source": [
    "#### Вывод"
   ]
  },
  {
   "cell_type": "markdown",
   "metadata": {},
   "source": [
    "<div style=\"border:solid indigo 1px; padding: 20px\">\n",
    "    \n",
    "- Средний чек группы В превосходит группу А\n",
    "- Чек по группам становится равномерным у обоих групп во 2й половине графика. Небольшой рост у группы А и падение у группы В\n",
    "- Виден резкий скачок чека в середине теста у группы В. Значит попали крупные заказы"
   ]
  },
  {
   "cell_type": "markdown",
   "metadata": {},
   "source": [
    "### Построим график относительного изменения кумулятивного среднего чека группы B к группе A"
   ]
  },
  {
   "cell_type": "code",
   "execution_count": 44,
   "metadata": {
    "scrolled": true
   },
   "outputs": [
    {
     "data": {
      "image/png": "[encoded data removed]",
      "text/plain": [
       "<Figure size 720x288 with 1 Axes>"
      ]
     },
     "metadata": {
      "needs_background": "light"
     },
     "output_type": "display_data"
    }
   ],
   "source": [
    "# собираем данные в одном датафрейме\n",
    "mergedCumulativeRevenue = (cumulativeRevenueA\n",
    "                           .merge(cumulativeRevenueB,\n",
    "                                  left_on='date',\n",
    "                                  right_on='date',\n",
    "                                  how='left',\n",
    "                                  suffixes=['A', 'B'])\n",
    "                          )\n",
    "\n",
    "# cтроим отношение средних чеков\n",
    "plt.figure(figsize=(10,4))\n",
    "\n",
    "plt.plot(mergedCumulativeRevenue['date'],\n",
    "         (mergedCumulativeRevenue['revenueB']/mergedCumulativeRevenue['ordersB'])/\n",
    "         (mergedCumulativeRevenue['revenueA']/mergedCumulativeRevenue['ordersA'])-1)\n",
    "\n",
    "# добавляем ось X\n",
    "plt.axhline(y=0, color='black', linestyle='--', label=\"Средний чек В=А\")\n",
    "plt.legend()\n",
    "plt.xticks(rotation=45)\n",
    "plt.title('График относительного изменения кумулятивного среднего чека группы B к группе A')\n",
    "plt.xlabel('Дата')\n",
    "plt.ylabel('Изменение кумулятивного среднего чека В к А');"
   ]
  },
  {
   "cell_type": "markdown",
   "metadata": {},
   "source": [
    "#### Вывод"
   ]
  },
  {
   "cell_type": "markdown",
   "metadata": {},
   "source": [
    "<div style=\"border:solid indigo 1px; padding: 20px\">\n",
    "    \n",
    "- График резко скачет, что говорит о том, что есть крупные заказы. \n",
    "- Накопительные средний чек группы В в разы выше, чем у группы А"
   ]
  },
  {
   "cell_type": "markdown",
   "metadata": {},
   "source": [
    "### Построим график кумулятивной конверсии по группам"
   ]
  },
  {
   "cell_type": "code",
   "execution_count": 45,
   "metadata": {},
   "outputs": [
    {
     "data": {
      "image/png": "[encoded data removed]",
      "text/plain": [
       "<Figure size 720x288 with 1 Axes>"
      ]
     },
     "metadata": {
      "needs_background": "light"
     },
     "output_type": "display_data"
    }
   ],
   "source": [
    "# считаем кумулятивную конверсию\n",
    "cumulativeData['conversion'] = cumulativeData['orders']/cumulativeData['visitors']\n",
    "\n",
    "# отделяем данные по группе A\n",
    "cumulativeDataA = cumulativeData[cumulativeData['group']=='A']\n",
    "\n",
    "# отделяем данные по группе B\n",
    "cumulativeDataB = cumulativeData[cumulativeData['group']=='B']\n",
    "\n",
    "# строим графики\n",
    "plt.figure(figsize=(10,4))\n",
    "\n",
    "plt.plot(cumulativeDataA['date'], cumulativeDataA['conversion'], label='A')\n",
    "plt.plot(cumulativeDataB['date'], cumulativeDataB['conversion'], label='B')\n",
    "plt.legend()\n",
    "\n",
    "# задаем масштаб осей\n",
    "plt.axis([dt.datetime(2019,8,1), dt.datetime(2019,8,31), 0, 0.04])\n",
    "\n",
    "plt.xticks(rotation=45)\n",
    "plt.title('График кумулятивной конверсии по группам')\n",
    "plt.xlabel('Дата')\n",
    "plt.ylabel('Кумулятивная конверсия');"
   ]
  },
  {
   "cell_type": "markdown",
   "metadata": {},
   "source": [
    "#### Вывод"
   ]
  },
  {
   "cell_type": "markdown",
   "metadata": {},
   "source": [
    "<div style=\"border:solid indigo 1px; padding: 20px\">\n",
    "    \n",
    "- В начале конверсия группы А была больше, после 5го числа все изменилось\n",
    "- После 5го числа накопительная конверсия группы В обогнала группу А и установилась на одном уровне\n",
    "- После 5го числа накопительная конверсия группы А установилась на одном уровне, ниже группы В"
   ]
  },
  {
   "cell_type": "markdown",
   "metadata": {},
   "source": [
    "### Построим график относительного изменения кумулятивной конверсии группы B к группе A"
   ]
  },
  {
   "cell_type": "code",
   "execution_count": 46,
   "metadata": {},
   "outputs": [
    {
     "data": {
      "image/png": "[encoded data removed]",
      "text/plain": [
       "<Figure size 720x288 with 1 Axes>"
      ]
     },
     "metadata": {
      "needs_background": "light"
     },
     "output_type": "display_data"
    }
   ],
   "source": [
    "mergedCumulativeConversions = (cumulativeDataA[['date','conversion']]\n",
    "                                .merge(cumulativeDataB[['date','conversion']],\n",
    "                                       left_on='date',\n",
    "                                       right_on='date',\n",
    "                                       how='left',\n",
    "                                       suffixes=['A', 'B'])\n",
    "                              )\n",
    "\n",
    "plt.figure(figsize=(10,4))                               \n",
    "plt.plot(mergedCumulativeConversions['date'],\n",
    "         mergedCumulativeConversions['conversionB']/mergedCumulativeConversions['conversionA']-1,\n",
    "         label=\"Относительный прирост конверсии группы B к A\")\n",
    "\n",
    "plt.axhline(y=0, color='black', linestyle='--', label=\"Конверсия В=А\")\n",
    "plt.axhline(y=0.1, color='grey', linestyle='--', label=\"Устоявшийся прирост конверсии\")\n",
    "plt.legend()\n",
    "plt.axis([dt.datetime(2019,8,1), dt.datetime(2019,8,31), -0.2, 0.3])\n",
    "\n",
    "plt.xticks(rotation=45)\n",
    "plt.title('График относительного изменения кумулятивной конверсии группы B к группе A')\n",
    "plt.xlabel('Дата')\n",
    "plt.ylabel('Изменение кумулятивной конверсии');"
   ]
  },
  {
   "cell_type": "markdown",
   "metadata": {},
   "source": [
    "#### Вывод"
   ]
  },
  {
   "cell_type": "markdown",
   "metadata": {},
   "source": [
    "<div style=\"border:solid indigo 1px; padding: 20px\">\n",
    "    \n",
    "- В начале конверсия группы В была меньше, чем у группы А\n",
    "- После 5го числа конверсия группы В обогнала группу А\n",
    "- После 21го числа конверсия группы В немного опустилась, но все еще была лучше, чем у А\n",
    "- В конце начался небольшое рост конверсии\n",
    "- Во 2й половине теста увеличение конверсии устоялось на уровне 10%"
   ]
  },
  {
   "cell_type": "markdown",
   "metadata": {},
   "source": [
    "### Построим точечный график количества заказов по пользователям\n",
    "\n",
    "- Узнаем, есть ли аномалии в количестве заказов"
   ]
  },
  {
   "cell_type": "markdown",
   "metadata": {},
   "source": [
    "- ***Подсчитаем количество заказов по пользователям***"
   ]
  },
  {
   "cell_type": "code",
   "execution_count": 47,
   "metadata": {
    "scrolled": false
   },
   "outputs": [
    {
     "name": "stdout",
     "output_type": "stream",
     "text": [
      "          userId  orders\n",
      "1023  4256040402      11\n",
      "591   2458001652      11\n",
      "569   2378935119       9\n",
      "487   2038680547       8\n",
      "44     199603092       5\n",
      "744   3062433592       5\n",
      "55     237748145       5\n",
      "917   3803269165       5\n",
      "299   1230306981       5\n",
      "897   3717692402       5\n"
     ]
    }
   ],
   "source": [
    "ordersByUsers = (\n",
    "    orders.groupby('visitorId', as_index=False)\n",
    "    .agg({'transactionId': 'nunique'})\n",
    ")\n",
    "\n",
    "ordersByUsers.columns = ['userId', 'orders']\n",
    "\n",
    "print(ordersByUsers.sort_values(by='orders', ascending=False).head(10))"
   ]
  },
  {
   "cell_type": "code",
   "execution_count": 48,
   "metadata": {},
   "outputs": [
    {
     "data": {
      "image/png": "[encoded data removed]",
      "text/plain": [
       "<Figure size 720x288 with 1 Axes>"
      ]
     },
     "metadata": {
      "needs_background": "light"
     },
     "output_type": "display_data"
    }
   ],
   "source": [
    "plt.figure(figsize=(10,4))\n",
    "\n",
    "x_values = pd.Series(range(0,len(ordersByUsers)))\n",
    "plt.scatter(x_values, ordersByUsers['orders'])\n",
    "\n",
    "\n",
    "plt.title('График количества заказов по пользователям')\n",
    "plt.xlabel('Пользователи')\n",
    "plt.ylabel('Количество заказов');"
   ]
  },
  {
   "cell_type": "markdown",
   "metadata": {},
   "source": [
    "#### Вывод"
   ]
  },
  {
   "cell_type": "markdown",
   "metadata": {},
   "source": [
    "<div style=\"border:solid indigo 1px; padding: 20px\">\n",
    "    \n",
    "- Подавляющая доля пользователей совершают только 1 покупку. С удержанием явная проблема\n",
    "- Некоторые совершают 2 покупки и даже более.\n",
    "- Но что будем считать аномалиями? Далее посмотрим на процентили"
   ]
  },
  {
   "cell_type": "markdown",
   "metadata": {},
   "source": [
    "### Посчитаем 95-й и 99-й перцентили количества заказов на пользователя"
   ]
  },
  {
   "cell_type": "code",
   "execution_count": 49,
   "metadata": {},
   "outputs": [
    {
     "name": "stdout",
     "output_type": "stream",
     "text": [
      "[2. 4.]\n"
     ]
    }
   ],
   "source": [
    "print(np.percentile(ordersByUsers['orders'], [95, 99]))"
   ]
  },
  {
   "cell_type": "markdown",
   "metadata": {},
   "source": [
    "#### Вывод"
   ]
  },
  {
   "cell_type": "markdown",
   "metadata": {},
   "source": [
    "<div style=\"border:solid indigo 1px; padding: 20px\">\n",
    " \n",
    "- Не более 5% пользователей совершили более 2х покупок\n",
    "- Не более 1% пользователей совершили более 4х покупок \n",
    "    \n",
    "    \n",
    "- менее 5% будем считать аномальными     \n",
    "- **Будем считать аномальными покупки более 2х раз**"
   ]
  },
  {
   "cell_type": "markdown",
   "metadata": {},
   "source": [
    "### Построим точечный график стоимостей заказов"
   ]
  },
  {
   "cell_type": "code",
   "execution_count": 50,
   "metadata": {},
   "outputs": [
    {
     "data": {
      "image/png": "[encoded data removed]",
      "text/plain": [
       "<Figure size 720x288 with 1 Axes>"
      ]
     },
     "metadata": {
      "needs_background": "light"
     },
     "output_type": "display_data"
    }
   ],
   "source": [
    "plt.figure(figsize=(10,4))\n",
    "\n",
    "x_values = pd.Series(range(0,len(orders['revenue'])))\n",
    "plt.scatter(x_values, orders['revenue'])\n",
    "plt.ticklabel_format(style='plain', axis='y') # убирает экспоненциальный формат\n",
    "\n",
    "plt.title('График стоимостей заказов')\n",
    "plt.xlabel('заказы')\n",
    "plt.ylabel('Стоимость заказа');"
   ]
  },
  {
   "cell_type": "markdown",
   "metadata": {},
   "source": [
    "#### Вывод"
   ]
  },
  {
   "cell_type": "markdown",
   "metadata": {},
   "source": [
    "<div style=\"border:solid indigo 1px; padding: 20px\">\n",
    " \n",
    "- Заказов более 100 000 почти нет\n",
    "- Есть заказик на 200 000 и огромный заказ на сумму боле  1 200 000. Что то прям мега дорогое)\n",
    "- ЧТобы более точно определить анамалии, найдем процентили"
   ]
  },
  {
   "cell_type": "markdown",
   "metadata": {},
   "source": [
    "### Посчитаем 95-й и 99-й перцентили стоимости заказов"
   ]
  },
  {
   "cell_type": "code",
   "execution_count": 51,
   "metadata": {
    "scrolled": true
   },
   "outputs": [
    {
     "name": "stdout",
     "output_type": "stream",
     "text": [
      "[28000.  58233.2]\n"
     ]
    }
   ],
   "source": [
    "print(np.percentile(orders['revenue'], [95, 99]))"
   ]
  },
  {
   "cell_type": "markdown",
   "metadata": {},
   "source": [
    "#### Вывод"
   ]
  },
  {
   "cell_type": "markdown",
   "metadata": {},
   "source": [
    "<div style=\"border:solid indigo 1px; padding: 20px\">\n",
    " \n",
    "\n",
    "- Не более 5% заказов стоят более 28 000\n",
    "- Не более 1% заказов стоят более 58 233 \n",
    "        \n",
    "    \n",
    "- менее 5% будем считать аномальными     \n",
    "- **Будем считать аномальными стоимости заказов более 28 000**"
   ]
  },
  {
   "cell_type": "markdown",
   "metadata": {},
   "source": [
    "### Посчитаем статистическую значимость различий в конверсии между группами по «сырым» данным"
   ]
  },
  {
   "cell_type": "markdown",
   "metadata": {},
   "source": [
    "- **Сформулируем гипотезы.**\n",
    "            - Нулевая: различий в конверсии между группами нет. \n",
    "            - Альтернативная: различия в конверсии между группами есть.\n"
   ]
  },
  {
   "cell_type": "markdown",
   "metadata": {},
   "source": [
    "- **Критический уровень статистической определяем в 5%**"
   ]
  },
  {
   "cell_type": "markdown",
   "metadata": {},
   "source": [
    "- ***Найдем накопительное число посетителей по дням обоих групп***"
   ]
  },
  {
   "cell_type": "code",
   "execution_count": 52,
   "metadata": {},
   "outputs": [],
   "source": [
    "visitorsADaily = visitors[visitors['group'] == 'A'][['date', 'visitors']]\n",
    "visitorsADaily.columns = ['date', 'visitorsPerDateA']\n",
    "\n",
    "visitorsACummulative = visitorsADaily.apply(\n",
    "    lambda x: visitorsADaily[visitorsADaily['date'] <= x['date']].agg(\n",
    "        {'date': 'max', 'visitorsPerDateA': 'sum'}\n",
    "    ),\n",
    "    axis=1,\n",
    ")\n",
    "visitorsACummulative.columns = ['date', 'visitorsCummulativeA']"
   ]
  },
  {
   "cell_type": "code",
   "execution_count": 53,
   "metadata": {
    "scrolled": true
   },
   "outputs": [
    {
     "data": {
      "text/html": [
       "<div>\n",
       "<style scoped>\n",
       "    .dataframe tbody tr th:only-of-type {\n",
       "        vertical-align: middle;\n",
       "    }\n",
       "\n",
       "    .dataframe tbody tr th {\n",
       "        vertical-align: top;\n",
       "    }\n",
       "\n",
       "    .dataframe thead th {\n",
       "        text-align: right;\n",
       "    }\n",
       "</style>\n",
       "<table border=\"1\" class=\"dataframe\">\n",
       "  <thead>\n",
       "    <tr style=\"text-align: right;\">\n",
       "      <th></th>\n",
       "      <th>date</th>\n",
       "      <th>visitorsPerDateA</th>\n",
       "    </tr>\n",
       "  </thead>\n",
       "  <tbody>\n",
       "    <tr>\n",
       "      <th>0</th>\n",
       "      <td>2019-08-01</td>\n",
       "      <td>719</td>\n",
       "    </tr>\n",
       "    <tr>\n",
       "      <th>1</th>\n",
       "      <td>2019-08-02</td>\n",
       "      <td>619</td>\n",
       "    </tr>\n",
       "    <tr>\n",
       "      <th>2</th>\n",
       "      <td>2019-08-03</td>\n",
       "      <td>507</td>\n",
       "    </tr>\n",
       "    <tr>\n",
       "      <th>3</th>\n",
       "      <td>2019-08-04</td>\n",
       "      <td>717</td>\n",
       "    </tr>\n",
       "    <tr>\n",
       "      <th>4</th>\n",
       "      <td>2019-08-05</td>\n",
       "      <td>756</td>\n",
       "    </tr>\n",
       "  </tbody>\n",
       "</table>\n",
       "</div>"
      ],
      "text/plain": [
       "        date  visitorsPerDateA\n",
       "0 2019-08-01               719\n",
       "1 2019-08-02               619\n",
       "2 2019-08-03               507\n",
       "3 2019-08-04               717\n",
       "4 2019-08-05               756"
      ]
     },
     "execution_count": 53,
     "metadata": {},
     "output_type": "execute_result"
    }
   ],
   "source": [
    "visitorsADaily.head()"
   ]
  },
  {
   "cell_type": "code",
   "execution_count": 54,
   "metadata": {
    "scrolled": true
   },
   "outputs": [
    {
     "data": {
      "text/html": [
       "<div>\n",
       "<style scoped>\n",
       "    .dataframe tbody tr th:only-of-type {\n",
       "        vertical-align: middle;\n",
       "    }\n",
       "\n",
       "    .dataframe tbody tr th {\n",
       "        vertical-align: top;\n",
       "    }\n",
       "\n",
       "    .dataframe thead th {\n",
       "        text-align: right;\n",
       "    }\n",
       "</style>\n",
       "<table border=\"1\" class=\"dataframe\">\n",
       "  <thead>\n",
       "    <tr style=\"text-align: right;\">\n",
       "      <th></th>\n",
       "      <th>date</th>\n",
       "      <th>visitorsCummulativeA</th>\n",
       "    </tr>\n",
       "  </thead>\n",
       "  <tbody>\n",
       "    <tr>\n",
       "      <th>0</th>\n",
       "      <td>2019-08-01</td>\n",
       "      <td>719</td>\n",
       "    </tr>\n",
       "    <tr>\n",
       "      <th>1</th>\n",
       "      <td>2019-08-02</td>\n",
       "      <td>1338</td>\n",
       "    </tr>\n",
       "    <tr>\n",
       "      <th>2</th>\n",
       "      <td>2019-08-03</td>\n",
       "      <td>1845</td>\n",
       "    </tr>\n",
       "    <tr>\n",
       "      <th>3</th>\n",
       "      <td>2019-08-04</td>\n",
       "      <td>2562</td>\n",
       "    </tr>\n",
       "    <tr>\n",
       "      <th>4</th>\n",
       "      <td>2019-08-05</td>\n",
       "      <td>3318</td>\n",
       "    </tr>\n",
       "  </tbody>\n",
       "</table>\n",
       "</div>"
      ],
      "text/plain": [
       "        date  visitorsCummulativeA\n",
       "0 2019-08-01                   719\n",
       "1 2019-08-02                  1338\n",
       "2 2019-08-03                  1845\n",
       "3 2019-08-04                  2562\n",
       "4 2019-08-05                  3318"
      ]
     },
     "execution_count": 54,
     "metadata": {},
     "output_type": "execute_result"
    }
   ],
   "source": [
    "visitorsACummulative.head()"
   ]
  },
  {
   "cell_type": "code",
   "execution_count": 55,
   "metadata": {},
   "outputs": [],
   "source": [
    "visitorsBDaily = visitors[visitors['group'] == 'B'][['date', 'visitors']]\n",
    "visitorsBDaily.columns = ['date', 'visitorsPerDateB']\n",
    "\n",
    "visitorsBCummulative = visitorsBDaily.apply(\n",
    "    lambda x: visitorsBDaily[visitorsBDaily['date'] <= x['date']].agg(\n",
    "        {'date': 'max', 'visitorsPerDateB': 'sum'}\n",
    "    ),\n",
    "    axis=1,\n",
    ")\n",
    "visitorsBCummulative.columns = ['date', 'visitorsCummulativeB']"
   ]
  },
  {
   "cell_type": "markdown",
   "metadata": {},
   "source": [
    "- ***Найдем накопительное число стоимости заказов по дням обоих групп***"
   ]
  },
  {
   "cell_type": "code",
   "execution_count": 56,
   "metadata": {},
   "outputs": [],
   "source": [
    "ordersADaily = (\n",
    "    orders[orders['group'] == 'A'][['date', 'transactionId', 'visitorId', 'revenue']]\n",
    "    .groupby('date', as_index=False)\n",
    "    .agg({'transactionId': pd.Series.nunique, 'revenue': 'sum'})\n",
    ")\n",
    "ordersADaily.columns = ['date', 'ordersPerDateA', 'revenuePerDateA']\n",
    "\n",
    "ordersACummulative = ordersADaily.apply(\n",
    "    lambda x: ordersADaily[ordersADaily['date'] <= x['date']].agg(\n",
    "        {'date': 'max', 'ordersPerDateA': 'sum', 'revenuePerDateA': 'sum'}\n",
    "    ),\n",
    "    axis=1,\n",
    ").sort_values(by=['date'])\n",
    "ordersACummulative.columns = [\n",
    "    'date',\n",
    "    'ordersCummulativeA',\n",
    "    'revenueCummulativeA',\n",
    "]"
   ]
  },
  {
   "cell_type": "code",
   "execution_count": 57,
   "metadata": {},
   "outputs": [],
   "source": [
    "ordersBDaily = (\n",
    "    orders[orders['group'] == 'B'][['date', 'transactionId', 'visitorId', 'revenue']]\n",
    "    .groupby('date', as_index=False)\n",
    "    .agg({'transactionId': pd.Series.nunique, 'revenue': 'sum'})\n",
    ")\n",
    "ordersBDaily.columns = ['date', 'ordersPerDateB', 'revenuePerDateB']\n",
    "\n",
    "ordersBCummulative = ordersBDaily.apply(\n",
    "    lambda x: ordersBDaily[ordersBDaily['date'] <= x['date']].agg(\n",
    "        {'date': 'max', 'ordersPerDateB': 'sum', 'revenuePerDateB': 'sum'}\n",
    "    ),\n",
    "    axis=1,\n",
    ").sort_values(by=['date'])\n",
    "ordersBCummulative.columns = [\n",
    "    'date',\n",
    "    'ordersCummulativeB',\n",
    "    'revenueCummulativeB',\n",
    "]"
   ]
  },
  {
   "cell_type": "markdown",
   "metadata": {},
   "source": [
    "- ***Объединим полученные таблицы***"
   ]
  },
  {
   "cell_type": "code",
   "execution_count": 58,
   "metadata": {
    "scrolled": true
   },
   "outputs": [
    {
     "data": {
      "text/html": [
       "<div>\n",
       "<style scoped>\n",
       "    .dataframe tbody tr th:only-of-type {\n",
       "        vertical-align: middle;\n",
       "    }\n",
       "\n",
       "    .dataframe tbody tr th {\n",
       "        vertical-align: top;\n",
       "    }\n",
       "\n",
       "    .dataframe thead th {\n",
       "        text-align: right;\n",
       "    }\n",
       "</style>\n",
       "<table border=\"1\" class=\"dataframe\">\n",
       "  <thead>\n",
       "    <tr style=\"text-align: right;\">\n",
       "      <th></th>\n",
       "      <th>date</th>\n",
       "      <th>ordersPerDateA</th>\n",
       "      <th>revenuePerDateA</th>\n",
       "      <th>ordersPerDateB</th>\n",
       "      <th>revenuePerDateB</th>\n",
       "      <th>ordersCummulativeA</th>\n",
       "      <th>revenueCummulativeA</th>\n",
       "      <th>ordersCummulativeB</th>\n",
       "      <th>revenueCummulativeB</th>\n",
       "      <th>visitorsPerDateA</th>\n",
       "      <th>visitorsPerDateB</th>\n",
       "      <th>visitorsCummulativeA</th>\n",
       "      <th>visitorsCummulativeB</th>\n",
       "    </tr>\n",
       "  </thead>\n",
       "  <tbody>\n",
       "    <tr>\n",
       "      <th>0</th>\n",
       "      <td>2019-08-01</td>\n",
       "      <td>24</td>\n",
       "      <td>148579</td>\n",
       "      <td>21</td>\n",
       "      <td>101217</td>\n",
       "      <td>24</td>\n",
       "      <td>148579</td>\n",
       "      <td>21</td>\n",
       "      <td>101217</td>\n",
       "      <td>719</td>\n",
       "      <td>713</td>\n",
       "      <td>719</td>\n",
       "      <td>713</td>\n",
       "    </tr>\n",
       "    <tr>\n",
       "      <th>1</th>\n",
       "      <td>2019-08-02</td>\n",
       "      <td>20</td>\n",
       "      <td>93822</td>\n",
       "      <td>24</td>\n",
       "      <td>165531</td>\n",
       "      <td>44</td>\n",
       "      <td>242401</td>\n",
       "      <td>45</td>\n",
       "      <td>266748</td>\n",
       "      <td>619</td>\n",
       "      <td>581</td>\n",
       "      <td>1338</td>\n",
       "      <td>1294</td>\n",
       "    </tr>\n",
       "    <tr>\n",
       "      <th>2</th>\n",
       "      <td>2019-08-03</td>\n",
       "      <td>24</td>\n",
       "      <td>112473</td>\n",
       "      <td>16</td>\n",
       "      <td>114248</td>\n",
       "      <td>68</td>\n",
       "      <td>354874</td>\n",
       "      <td>61</td>\n",
       "      <td>380996</td>\n",
       "      <td>507</td>\n",
       "      <td>509</td>\n",
       "      <td>1845</td>\n",
       "      <td>1803</td>\n",
       "    </tr>\n",
       "    <tr>\n",
       "      <th>3</th>\n",
       "      <td>2019-08-04</td>\n",
       "      <td>16</td>\n",
       "      <td>70825</td>\n",
       "      <td>17</td>\n",
       "      <td>108571</td>\n",
       "      <td>84</td>\n",
       "      <td>425699</td>\n",
       "      <td>78</td>\n",
       "      <td>489567</td>\n",
       "      <td>717</td>\n",
       "      <td>770</td>\n",
       "      <td>2562</td>\n",
       "      <td>2573</td>\n",
       "    </tr>\n",
       "    <tr>\n",
       "      <th>4</th>\n",
       "      <td>2019-08-05</td>\n",
       "      <td>25</td>\n",
       "      <td>124218</td>\n",
       "      <td>23</td>\n",
       "      <td>92428</td>\n",
       "      <td>109</td>\n",
       "      <td>549917</td>\n",
       "      <td>101</td>\n",
       "      <td>581995</td>\n",
       "      <td>756</td>\n",
       "      <td>707</td>\n",
       "      <td>3318</td>\n",
       "      <td>3280</td>\n",
       "    </tr>\n",
       "  </tbody>\n",
       "</table>\n",
       "</div>"
      ],
      "text/plain": [
       "        date  ordersPerDateA  revenuePerDateA  ordersPerDateB  \\\n",
       "0 2019-08-01              24           148579              21   \n",
       "1 2019-08-02              20            93822              24   \n",
       "2 2019-08-03              24           112473              16   \n",
       "3 2019-08-04              16            70825              17   \n",
       "4 2019-08-05              25           124218              23   \n",
       "\n",
       "   revenuePerDateB  ordersCummulativeA  revenueCummulativeA  \\\n",
       "0           101217                  24               148579   \n",
       "1           165531                  44               242401   \n",
       "2           114248                  68               354874   \n",
       "3           108571                  84               425699   \n",
       "4            92428                 109               549917   \n",
       "\n",
       "   ordersCummulativeB  revenueCummulativeB  visitorsPerDateA  \\\n",
       "0                  21               101217               719   \n",
       "1                  45               266748               619   \n",
       "2                  61               380996               507   \n",
       "3                  78               489567               717   \n",
       "4                 101               581995               756   \n",
       "\n",
       "   visitorsPerDateB  visitorsCummulativeA  visitorsCummulativeB  \n",
       "0               713                   719                   713  \n",
       "1               581                  1338                  1294  \n",
       "2               509                  1845                  1803  \n",
       "3               770                  2562                  2573  \n",
       "4               707                  3318                  3280  "
      ]
     },
     "execution_count": 58,
     "metadata": {},
     "output_type": "execute_result"
    }
   ],
   "source": [
    "data = (\n",
    "    ordersADaily.merge(\n",
    "        ordersBDaily, left_on='date', right_on='date', how='left'\n",
    "    )\n",
    "    .merge(ordersACummulative, left_on='date', right_on='date', how='left')\n",
    "    .merge(ordersBCummulative, left_on='date', right_on='date', how='left')\n",
    "    .merge(visitorsADaily, left_on='date', right_on='date', how='left')\n",
    "    .merge(visitorsBDaily, left_on='date', right_on='date', how='left')\n",
    "    .merge(visitorsACummulative, left_on='date', right_on='date', how='left')\n",
    "    .merge(visitorsBCummulative, left_on='date', right_on='date', how='left')\n",
    ")\n",
    "data.head(5)"
   ]
  },
  {
   "cell_type": "markdown",
   "metadata": {},
   "source": [
    "***Значения колонок:***\n",
    "\n",
    "- \t**date** — дата;\n",
    "- \t**ordersPerDateA** — количество заказов в выбранную дату в группе A;\n",
    "- \t**revenuePerDateA** — суммарная выручка в выбранную дату в группе A;\n",
    "- \t**ordersPerDateB** — количество заказов в выбранную дату в группе B;\n",
    "- \t**revenuePerDateB** — суммарная выручка в выбранную дату в группе B;\n",
    "- \t**ordersCummulativeA** — суммарное число заказов до выбранной даты включительно в группе A;\n",
    "- \t**revenueCummulativeA** — суммарная выручка до выбранной даты включительно в группе A;\n",
    "- \t**ordersCummulativeB** — суммарное количество заказов до выбранной даты включительно в группе B;\n",
    "- \t**revenueCummulativeB** — суммарная выручка до выбранной даты включительно в группе B;\n",
    "- \t**visitorsPerDateA** — количество пользователей в выбранную дату в группе A;\n",
    "- \t**visitorsPerDateB** — количество пользователей в выбранную дату в группе B;\n",
    "- \t**visitorsCummulativeA** — количество пользователей до выбранной даты включительно в группе A;\n",
    "- \t**visitorsCummulativeB** — количество пользователей до выбранной даты включительно в группе B.\n"
   ]
  },
  {
   "cell_type": "markdown",
   "metadata": {},
   "source": [
    "- ***Теперь посчитаем статистическую значимость различия в конверсии между группами.***\n",
    "- Создадим переменные ordersByUsersA и ordersByUsersB со столбцами ['userId', 'orders']. В них для пользователей, которые заказывали хотя бы 1 раз, укажем число совершённых заказов."
   ]
  },
  {
   "cell_type": "code",
   "execution_count": 59,
   "metadata": {},
   "outputs": [],
   "source": [
    "ordersByUsersA = (\n",
    "    orders[orders['group'] == 'A']\n",
    "    .groupby('visitorId', as_index=False)\n",
    "    .agg({'transactionId': pd.Series.nunique})\n",
    ")\n",
    "ordersByUsersA.columns = ['userId', 'orders']\n",
    "\n",
    "ordersByUsersB = (\n",
    "    orders[orders['group'] == 'B']\n",
    "    .groupby('visitorId', as_index=False)\n",
    "    .agg({'transactionId': pd.Series.nunique})\n",
    ")\n",
    "ordersByUsersB.columns = ['userId', 'orders']"
   ]
  },
  {
   "cell_type": "markdown",
   "metadata": {},
   "source": [
    "- Объявим переменные sampleA и sampleB, в которых пользователям из разных групп будет соответствовать количество заказов. Тем, кто ничего не заказал, будут соответствовать нули. Это нужно, чтобы подготовить выборки к **проверке критерием Манна-Уитни.**"
   ]
  },
  {
   "cell_type": "code",
   "execution_count": 60,
   "metadata": {},
   "outputs": [],
   "source": [
    "sampleA = pd.concat(\n",
    "    [\n",
    "        ordersByUsersA['orders'],\n",
    "        pd.Series(\n",
    "            0,\n",
    "            index=np.arange(\n",
    "                data['visitorsPerDateA'].sum() - len(ordersByUsersA['orders'])\n",
    "            ),\n",
    "            name='orders',\n",
    "        ),\n",
    "    ],\n",
    "    axis=0,\n",
    ")\n",
    "\n",
    "sampleB = pd.concat(\n",
    "    [\n",
    "        ordersByUsersB['orders'],\n",
    "        pd.Series(\n",
    "            0,\n",
    "            index=np.arange(\n",
    "                data['visitorsPerDateB'].sum() - len(ordersByUsersB['orders'])\n",
    "            ),\n",
    "            name='orders',\n",
    "        ),\n",
    "    ],\n",
    "    axis=0,\n",
    ")"
   ]
  },
  {
   "cell_type": "markdown",
   "metadata": {},
   "source": [
    "- Применим критерий Манна-Уитни и отформатируем p-value, округлив его до трёх знаков после запятой.\n",
    "- Выведем относительный прирост конверсии группы B: конверсия группы B / конверсия группы A - 1. Округлим до трёх знаков после запятой.\n",
    "\n"
   ]
  },
  {
   "cell_type": "code",
   "execution_count": 61,
   "metadata": {},
   "outputs": [
    {
     "name": "stdout",
     "output_type": "stream",
     "text": [
      "p-value = 0.008\n",
      "прирост конверсии группы B к А = 0.138\n"
     ]
    }
   ],
   "source": [
    "print(\"p-value = {0:.3f}\".format(stats.mannwhitneyu(sampleA, sampleB)[1]))\n",
    "\n",
    "print(\"прирост конверсии группы B к А = {0:.3f}\".format(sampleB.mean() / sampleA.mean() - 1))"
   ]
  },
  {
   "cell_type": "markdown",
   "metadata": {},
   "source": [
    "#### Вывод"
   ]
  },
  {
   "cell_type": "markdown",
   "metadata": {},
   "source": [
    "<div style=\"border:solid indigo 1px; padding: 20px\">\n",
    " \n",
    "- p-value = 0.017 и это < 0.05, значит мы **отвергаем нулевую гипотезу о том, что различий в конверсиях нет**. Различие есть\n",
    "- Статистически значимые различия в конверсии подтверждаем прирост конверсии группы В на 13%\n"
   ]
  },
  {
   "cell_type": "markdown",
   "metadata": {},
   "source": [
    "### Посчитаем  статистическую значимость различий в среднем чеке заказа между группами по «сырым» данным"
   ]
  },
  {
   "cell_type": "markdown",
   "metadata": {},
   "source": [
    "- **Сформулируем гипотезы.**\n",
    "            - Нулевая гипотеза: различий в среднем чеке между группами нет. \n",
    "            - Альтернативная гипотеза: различия в среднем чеке между группами есть\n",
    "\n"
   ]
  },
  {
   "cell_type": "markdown",
   "metadata": {},
   "source": [
    "- Чтобы рассчитать статистическую значимость различий в среднем чеке, передадим критерию mannwhitneyu() данные о выручке с заказов.\n",
    "\n",
    "- Также найдём относительные различия в среднем чеке между группами\n"
   ]
  },
  {
   "cell_type": "code",
   "execution_count": 62,
   "metadata": {},
   "outputs": [
    {
     "name": "stdout",
     "output_type": "stream",
     "text": [
      "p-value = 0.365\n",
      "различие группы В к А - 0.259\n"
     ]
    }
   ],
   "source": [
    "print('p-value = {0:.3f}'.format(stats.mannwhitneyu(orders[orders['group']=='A']['revenue'], orders[orders['group']=='B']['revenue'])[1]))\n",
    "print('различие группы В к А - {0:.3f}'.format(orders[orders['group']=='B']['revenue'].mean()/orders[orders['group']=='A']['revenue'].mean()-1))"
   ]
  },
  {
   "cell_type": "markdown",
   "metadata": {},
   "source": [
    "#### Вывод"
   ]
  },
  {
   "cell_type": "markdown",
   "metadata": {},
   "source": [
    "<div style=\"border:solid indigo 1px; padding: 20px\">\n",
    " \n",
    "\n",
    "- p-value = 0.729 и это > 0.05, значит мы **не можем отвергнуть нулевую гипотезу о том, что различий в среднем чеке нет**. Различие есть\n",
    "- Хотя средний чек группы В > среднего чека группы А на 25%. На такое различие мог повлиять крупный заказа.\n"
   ]
  },
  {
   "cell_type": "markdown",
   "metadata": {},
   "source": [
    "### Посчитаем статистическую значимость различий в конверсии между группами по «очищенным» данным. "
   ]
  },
  {
   "cell_type": "markdown",
   "metadata": {},
   "source": [
    "- **Узнаем, сколько всего аномальных пользователей**"
   ]
  },
  {
   "cell_type": "markdown",
   "metadata": {},
   "source": [
    "- Примем за аномальных пользователей тех, кто совершил от 3 заказов или совершил заказ дороже 28 000 рублей. Так мы уберём 5% пользователей с наибольшим числом заказов и от 1% до 5% пользователей с дорогими заказами. Сделаем срезы пользователей с числом заказов больше 2 — usersWithManyOrders и пользователей, совершивших заказы дороже 28 000 — usersWithExpensiveOrders. Объединим их в таблице abnormalUsers."
   ]
  },
  {
   "cell_type": "code",
   "execution_count": 63,
   "metadata": {
    "scrolled": true
   },
   "outputs": [
    {
     "name": "stdout",
     "output_type": "stream",
     "text": [
      "1099    148427295\n",
      "18      199603092\n",
      "928     204675465\n",
      "23      237748145\n",
      "37      249864742\n",
      "dtype: int64\n",
      "Число аномальных пользователей - (74,)\n"
     ]
    }
   ],
   "source": [
    "usersWithManyOrders = pd.concat(\n",
    "    [\n",
    "        ordersByUsersA[ordersByUsersA['orders'] > 2]['userId'],\n",
    "        ordersByUsersB[ordersByUsersB['orders'] > 2]['userId'],\n",
    "    ],\n",
    "    axis=0,\n",
    ")\n",
    "usersWithExpensiveOrders = orders[orders['revenue'] > 28000]['visitorId']\n",
    "abnormalUsers = (\n",
    "    pd.concat([usersWithManyOrders, usersWithExpensiveOrders], axis=0)\n",
    "    .drop_duplicates()\n",
    "    .sort_values()\n",
    ")\n",
    "print(abnormalUsers.head(5))\n",
    "print(f'Число аномальных пользователей - {abnormalUsers.shape}')"
   ]
  },
  {
   "cell_type": "markdown",
   "metadata": {},
   "source": [
    "- **Узнаем, как их действия повлияли на результаты теста.**"
   ]
  },
  {
   "cell_type": "code",
   "execution_count": 64,
   "metadata": {},
   "outputs": [],
   "source": [
    "sampleAFiltered = pd.concat(\n",
    "    [\n",
    "        ordersByUsersA[\n",
    "            np.logical_not(ordersByUsersA['userId'].isin(abnormalUsers))\n",
    "        ]['orders'],\n",
    "        pd.Series(\n",
    "            0,\n",
    "            index=np.arange(\n",
    "                data['visitorsPerDateA'].sum() - len(ordersByUsersA['orders'])\n",
    "            ),\n",
    "            name='orders',\n",
    "        ),\n",
    "    ],\n",
    "    axis=0,\n",
    ")\n",
    "\n",
    "\n",
    "\n",
    "sampleBFiltered = pd.concat(\n",
    "    [\n",
    "        ordersByUsersB[\n",
    "            np.logical_not(ordersByUsersB['userId'].isin(abnormalUsers))\n",
    "        ]['orders'],\n",
    "        pd.Series(\n",
    "            0,\n",
    "            index=np.arange(\n",
    "                data['visitorsPerDateB'].sum() - len(ordersByUsersB['orders'])\n",
    "            ),\n",
    "            name='orders',\n",
    "        ),\n",
    "    ],\n",
    "    axis=0,\n",
    ")"
   ]
  },
  {
   "cell_type": "markdown",
   "metadata": {},
   "source": [
    "- Применим статистический критерий Манна-Уитни к полученным выборкам"
   ]
  },
  {
   "cell_type": "code",
   "execution_count": 65,
   "metadata": {
    "scrolled": true
   },
   "outputs": [
    {
     "name": "stdout",
     "output_type": "stream",
     "text": [
      "p-value = 0.007\n",
      "прирост конверсии группы B к А = 0.173\n"
     ]
    }
   ],
   "source": [
    "print('p-value = {0:.3f}'.format(stats.mannwhitneyu(sampleAFiltered, sampleBFiltered)[1]))\n",
    "print('прирост конверсии группы B к А = {0:.3f}'.format(sampleBFiltered.mean()/sampleAFiltered.mean()-1))"
   ]
  },
  {
   "cell_type": "markdown",
   "metadata": {},
   "source": [
    "#### Вывод"
   ]
  },
  {
   "cell_type": "markdown",
   "metadata": {},
   "source": [
    "<div style=\"border:solid indigo 1px; padding: 20px\">\n",
    " \n",
    "\n",
    "- **Было** p-value = 0.017 и прирост конверсии группы B к А = 0.138\n",
    "- **Стало** p-value = 0.013 и прирост конверсии группы B к А = 0.173    \n",
    "    \n",
    "- p-value практически не изменился, как и прирост конверсии группы В, даже увеличился на 4%. **Можно сказать, что очистка данных не повлияла на конверсию.** Увеличение конверсии В к А после очистки крупных заказов, говорит о том, что группа В и без выбросов конвертируется лучше "
   ]
  },
  {
   "cell_type": "markdown",
   "metadata": {},
   "source": [
    "### Посчитаем статистическую значимость различий в среднем чеке заказа между группами по «очищенным» данным"
   ]
  },
  {
   "cell_type": "code",
   "execution_count": 66,
   "metadata": {},
   "outputs": [
    {
     "name": "stdout",
     "output_type": "stream",
     "text": [
      "p-value = 0.369\n",
      "различие группы В к А -0.020\n"
     ]
    }
   ],
   "source": [
    " print(\n",
    "    'p-value = {0:.3f}'.format(\n",
    "        stats.mannwhitneyu(\n",
    "            orders[\n",
    "                np.logical_and(\n",
    "                    orders['group'] == 'A',\n",
    "                    np.logical_not(orders['visitorId'].isin(abnormalUsers)),\n",
    "                )\n",
    "            ]['revenue'],\n",
    "            orders[\n",
    "                np.logical_and(\n",
    "                    orders['group'] == 'B',\n",
    "                    np.logical_not(orders['visitorId'].isin(abnormalUsers)),\n",
    "                )\n",
    "            ]['revenue'],\n",
    "        )[1]\n",
    "    )\n",
    ")\n",
    "\n",
    "print(\n",
    "    \"различие группы В к А {0:.3f}\".format(\n",
    "        orders[\n",
    "            np.logical_and(\n",
    "                orders['group'] == 'B',\n",
    "                np.logical_not(orders['visitorId'].isin(abnormalUsers)),\n",
    "            )\n",
    "        ]['revenue'].mean()\n",
    "        / orders[\n",
    "            np.logical_and(\n",
    "                orders['group'] == 'A',\n",
    "                np.logical_not(orders['visitorId'].isin(abnormalUsers)),\n",
    "            )\n",
    "        ]['revenue'].mean()\n",
    "        - 1\n",
    "    )\n",
    ")"
   ]
  },
  {
   "cell_type": "markdown",
   "metadata": {},
   "source": [
    "#### Вывод"
   ]
  },
  {
   "cell_type": "markdown",
   "metadata": {},
   "source": [
    "<div style=\"border:solid indigo 1px; padding: 20px\">\n",
    " \n",
    "\n",
    "- **Было** p-value = 0.729 и различие группы В к А - 0.259\n",
    "- **Стало** p-value = 0.738 и различие группы В к А = -0.02    \n",
    "    \n",
    "- p-value практически не изменился, а вот средний чек изменился. Теперь **средний чек группы В стал практически равным чеку группы А**, упал с 25% до 2%! Что еще раз подтверждает наличие крупных заказов в группе В, которые повлияли на средний чек"
   ]
  },
  {
   "cell_type": "markdown",
   "metadata": {},
   "source": [
    "### Принятие решения по результатам теста "
   ]
  },
  {
   "cell_type": "markdown",
   "metadata": {},
   "source": [
    "- **Подведем итоги**"
   ]
  },
  {
   "cell_type": "markdown",
   "metadata": {},
   "source": [
    "1. Cтатистически значимое различие по конверсии по сырым данным: **B > А на 13%**\n",
    "2. Cтатистически значимое различие по конверсии по чистым данным: **B > А на 17%**\n",
    "3. Статистически значимое различие в среднем чеке заказа по сырым данным:  **B > А на 25%**\n",
    "4. Статистически значимое различие в среднем чеке заказа по чистым данным:  **B < А на 2%**\n",
    "5. График относительного изменения кумулятивной конверсии группы B к A: **В > A почти все время**"
   ]
  },
  {
   "cell_type": "markdown",
   "metadata": {},
   "source": [
    "#### Вывод"
   ]
  },
  {
   "cell_type": "markdown",
   "metadata": {},
   "source": [
    "<div style=\"border:solid indigo 1px; padding: 20px\">\n",
    " \n",
    "\n",
    "- Есть статистически значимое превосходство по конверсии группы В к А как по сырым данным, так и по чистым.\n",
    "- Средний чек по сырым данным был, больше у группы В, но, после очистки, средние чеки почти сравнялись, что говорит о крупных заказах в группе В. ПОэтому по чеку определенный вывод сделать нельзя.\n",
    "- График различия конверсии между группами говорит о том, что результаты группы B лучше группы A: есть рост почти на всем продолжении теста\n",
    "- На основе данных выводов принимаем решение  **остановить тест, зафиксировать победу группы В**"
   ]
  },
  {
   "cell_type": "markdown",
   "metadata": {},
   "source": [
    "## **Вывод**"
   ]
  },
  {
   "cell_type": "markdown",
   "metadata": {},
   "source": [
    "<div style=\"border:solid green 4px; padding: 20px\">\n",
    " \n",
    "**<font color=\"red\">Была проведена приоритизация гипотез и сделаны следующие выводы</font>**\n",
    "    \n",
    "- По фреймворку ICE тройка перспективных гипотез -  **8, 0, 7**  \n",
    "- По фреймворку RICE четверка перспективных гипотез -  **7, 2, 0 и 6**\n",
    "    \n",
    "    **Причины изменения гипотез при расчете разными фреймворками**\n",
    "    \n",
    "\n",
    "- **Гипотеза 7** с 3го места в ICE перешла на 1е в RICE. Это связано с параметром reach. Параметр говорит о том, скольких пользователей затронет изменение, которое мы хотим внести. У 7й гипотезы reach - 10, это максимум. Этот балл идет в числитель формулы, соответственно и общий результат резко увеличится\n",
    "    \n",
    "    \n",
    "- **Гипотеза 8** с 1го места в ICE перешла на 5е в RICE. Гипотеза имеет высокие баллы за влияние и уверенность в нее, средний балл по усилиям, но зато очень низкий балл reach, что и повлияло на вылет из 3ки перспективных гипотез. \n",
    "    \n",
    "    \n",
    "- **Гипотеза 0** со 2го места в ICE перешла на 3е в RICE. Гипотеза имеет очень невысокий параметр reach, что и понизило общий результат, по сравнению с гипотезами 2 и 7\n",
    "    \n",
    "    \n",
    "- **Гипотеза 2** с 5го места в ICE перешла на 2е в RICE. Гипотезв имеет невысокие влияние на пользователя, но и невысокий балл усилий на ее исполнение. Зато имеет высокий балл reach! Что и привело гипотезу на 2е место.\n",
    "    \n",
    "    \n",
    "- **Гипотеза 6** с 4го места в ICE перешла на совместный пъедестал 3го места с гипотезой 0 в RICE. Повлияли разные баллы, как итог - одинаковый результат   \n",
    "    \n",
    "    \n",
    "**<font color=\"red\">Была проведена проверка данных А/В теста</font>**  \n",
    "    \n",
    "    \n",
    "**Найдены следующие ошибки при проведения А/В теста**:\n",
    "- размеры групп разные. Группа В больше на 16%\n",
    "- 58 пользователей перешли из группы А в В, присутствовали в обоих группах\n",
    "- эти 58 пользователей потратили в группе В на 16% больше, чем в группе А    \n",
    "- Данные ошибки могут повлиять на окончательный результат. \n",
    "    \n",
    "**Нормальность данных**    \n",
    "- По построенным графикам можно сделать вывод, что **распределение обоих групп ненормальное**\n",
    "- Присутствуют выбросы\n",
    "- На основании этого **будем применять для A/B-тестирования критерий Манна-Уитни**  \n",
    "        \n",
    "    \n",
    "**<font color=\"red\">Был проведен анализ А/В теста</font>**\n",
    "    \n",
    "**Построен график кумулятивной выручки по группам, где увидили, что:**\n",
    "- Выручка по группам увеличивается на протяжении всего теста.\n",
    "- Имеются всплески, резкий рост, что говорит о наличии либо сильно дорогих заказов, либо о росте числа заказов.\n",
    "- Группа В имеет бОльшую выручку. Имеем резкий скачок выручки в середине теста.\n",
    "- Выручка становится равномерной у обоих групп во 2й половине графика  \n",
    "    \n",
    "**Построен график кумулятивного среднего чека по группам, где увидили, что:**  \n",
    "- Средний чек группы В превосходит группу А\n",
    "- Чек по группам становится равномерным у обоих групп во 2й половине графика. Небольшой рост у группы А и падение у группы В\n",
    "- Виден резкий скачок чека в середине теста у группы В. Значит попали крупные заказы \n",
    "    \n",
    "**Построены графики относительного изменения кумулятивного среднего чека и конверсии группы B к группе A, где увидили, что:**\n",
    "- График чека резко скачет, что говорит о том, что есть крупные заказы. \n",
    "- Накопительные средний чек группы В в разы выше, чем у группы А\n",
    "- Конверсия группы В выше, чем у А\n",
    "- В начале конверсия группы В была меньше, чем у группы А\n",
    "- После 5го числа конверсия группы В обогнала группу А\n",
    "- После 21го числа конверсия группы В немного опустилась, но все еще была лучше, чем у А\n",
    "- В конце начался небольшое рост конверсии группы В\n",
    "    \n",
    "**Построены точечные графики количества заказов и их стоимости, надены 95е и 99е процентили, сделаны выводы:**  \n",
    "- Подавляющая доля пользователей совершают только 1 покупку. С удержанием явная проблема\n",
    "- Некоторые совершают 2 покупки и даже более.\n",
    "- Не более 5% пользователей совершили более 2х покупок\n",
    "- Не более 1% пользователей совершили более 4х покупок    \n",
    "- менее 5% будем считать аномальными     \n",
    "- *Будем считать аномальными покупки более 2х раз*\n",
    "- Заказов более 100 000 почти нет\n",
    "- Есть заказик на 200 000 и огромный заказ на сумму боле  1 200 000. Что то прям мега дорогое)\n",
    "- Не более 5% заказов стоят более 28 000\n",
    "- Не более 1% заказов стоят более 58 233       \n",
    "- менее 5% будем считать аномальными     \n",
    "- *Будем считать аномальными стоимости заказов более 28 000*\n",
    "    \n",
    "**Посчитана статистическая значимость различий в конверсии между группами по «сырым» и «очищенным» данным, сделаны выводы:**\n",
    "- *По сырым данным* p-value = 0.017 и прирост конверсии группы B к А = 0.138\n",
    "- *По чистым данным* p-value = 0.013 и прирост конверсии группы B к А = 0.173    \n",
    "- p-value практически не изменился, как и прирост конверсии группы В, даже увеличился на 4%. *Можно сказать, что очистка данных не повлияла на конверсию.* Увеличение конверсии В к А после очистки крупных заказов, говорит о том, что группа В и без выбросов конвертируется лучше   \n",
    "    \n",
    "**Посчитана статистическая значимость различий в среднем чеке заказа между группами по «сырым» и «очищенным» данным, сделаны выводы:**\n",
    "- *По сырым данным* p-value = 0.729 и различие группы В к А - 0.259\n",
    "- *По чистым данным* p-value = 0.738 и различие группы В к А = -0.02    \n",
    "- p-value практически не изменился, а вот средний чек изменился. Теперь *средний чек группы В стал практически равным чеку группы А*, упал с 25% до 2%! Что еще раз подтверждает наличие крупных заказов в группе В, которые повлияли на средний чек   \n",
    "    \n",
    "\n",
    "**Подведен итог и принято решение по результатам теста**    \n",
    "- Есть статистически значимое превосходство по конверсии группы В к А как по сырым данным, так и по чистым.\n",
    "- Средний чек по сырым данным был, больше у группы В, но, после очистки, средние чеки почти сравнялись, что говорит о крупных заказах в группе В. Поэтому по чеку определенный вывод сделать нельзя.\n",
    "- График различия конверсии между группами говорит о том, что результаты группы B лучше группы A: есть рост почти на всем продолжении теста\n",
    "- **Поскольку по очищеным данным конверсия группы В все равно больше, значит крупные покупки перешедших пользователей из группы А не повлияли на результат.**\n",
    "- На основе данных выводов принято решение  **<font color=\"red\">остановить тест, зафиксировать победу группы В</font>**"
   ]
  }
 ],
 "metadata": {
  "ExecuteTimeLog": [
   {
    "duration": 878,
    "start_time": "2022-03-31T08:13:03.719Z"
   },
   {
    "duration": 59,
    "start_time": "2022-03-31T08:14:36.711Z"
   },
   {
    "duration": 17,
    "start_time": "2022-03-31T08:15:44.604Z"
   },
   {
    "duration": 12,
    "start_time": "2022-03-31T08:15:50.247Z"
   },
   {
    "duration": 13,
    "start_time": "2022-03-31T08:15:58.661Z"
   },
   {
    "duration": 76,
    "start_time": "2022-03-31T08:16:08.800Z"
   },
   {
    "duration": 10,
    "start_time": "2022-03-31T08:16:10.946Z"
   },
   {
    "duration": 16,
    "start_time": "2022-03-31T08:16:30.730Z"
   },
   {
    "duration": 8,
    "start_time": "2022-03-31T08:16:35.782Z"
   },
   {
    "duration": 14,
    "start_time": "2022-03-31T08:17:06.923Z"
   },
   {
    "duration": 10,
    "start_time": "2022-03-31T08:17:13.787Z"
   },
   {
    "duration": 9,
    "start_time": "2022-03-31T08:17:21.605Z"
   },
   {
    "duration": 7,
    "start_time": "2022-03-31T08:18:43.356Z"
   },
   {
    "duration": 3,
    "start_time": "2022-03-31T08:18:48.701Z"
   },
   {
    "duration": 7,
    "start_time": "2022-03-31T08:18:52.290Z"
   },
   {
    "duration": 143,
    "start_time": "2022-03-31T08:19:50.005Z"
   },
   {
    "duration": 6,
    "start_time": "2022-03-31T08:20:10.346Z"
   },
   {
    "duration": 10,
    "start_time": "2022-03-31T08:20:13.565Z"
   },
   {
    "duration": 440,
    "start_time": "2022-03-31T08:20:54.576Z"
   },
   {
    "duration": 10,
    "start_time": "2022-03-31T08:21:04.346Z"
   },
   {
    "duration": 12,
    "start_time": "2022-03-31T08:21:07.353Z"
   },
   {
    "duration": 8,
    "start_time": "2022-03-31T08:21:42.097Z"
   },
   {
    "duration": 9,
    "start_time": "2022-03-31T08:22:04.270Z"
   },
   {
    "duration": 7,
    "start_time": "2022-03-31T08:22:09.146Z"
   },
   {
    "duration": 7,
    "start_time": "2022-03-31T08:22:15.746Z"
   },
   {
    "duration": 7,
    "start_time": "2022-03-31T08:22:45.257Z"
   },
   {
    "duration": 5,
    "start_time": "2022-03-31T08:22:52.924Z"
   },
   {
    "duration": 6,
    "start_time": "2022-03-31T08:22:57.573Z"
   },
   {
    "duration": 3,
    "start_time": "2022-03-31T08:27:46.903Z"
   },
   {
    "duration": 8,
    "start_time": "2022-03-31T08:34:18.577Z"
   },
   {
    "duration": 3,
    "start_time": "2022-03-31T08:34:46.441Z"
   },
   {
    "duration": 8,
    "start_time": "2022-03-31T08:34:47.642Z"
   },
   {
    "duration": 4,
    "start_time": "2022-03-31T08:35:01.518Z"
   },
   {
    "duration": 8,
    "start_time": "2022-03-31T08:35:02.125Z"
   },
   {
    "duration": 10,
    "start_time": "2022-03-31T08:36:04.042Z"
   },
   {
    "duration": 5,
    "start_time": "2022-03-31T08:36:28.582Z"
   },
   {
    "duration": 4,
    "start_time": "2022-03-31T08:36:40.255Z"
   },
   {
    "duration": 5,
    "start_time": "2022-03-31T08:37:00.001Z"
   },
   {
    "duration": 5,
    "start_time": "2022-03-31T08:37:03.468Z"
   },
   {
    "duration": 4,
    "start_time": "2022-03-31T08:37:09.771Z"
   },
   {
    "duration": 6,
    "start_time": "2022-03-31T08:37:15.294Z"
   },
   {
    "duration": 5,
    "start_time": "2022-03-31T08:38:20.240Z"
   },
   {
    "duration": 5,
    "start_time": "2022-03-31T08:38:24.559Z"
   },
   {
    "duration": 5,
    "start_time": "2022-03-31T08:38:27.767Z"
   },
   {
    "duration": 4,
    "start_time": "2022-03-31T08:38:40.350Z"
   },
   {
    "duration": 5,
    "start_time": "2022-03-31T08:38:42.558Z"
   },
   {
    "duration": 4,
    "start_time": "2022-03-31T08:41:19.129Z"
   },
   {
    "duration": 11,
    "start_time": "2022-03-31T08:41:27.942Z"
   },
   {
    "duration": 8,
    "start_time": "2022-03-31T08:42:06.371Z"
   },
   {
    "duration": 14,
    "start_time": "2022-03-31T08:42:47.481Z"
   },
   {
    "duration": 9,
    "start_time": "2022-03-31T09:21:01.158Z"
   },
   {
    "duration": 10,
    "start_time": "2022-03-31T09:21:07.875Z"
   },
   {
    "duration": 6,
    "start_time": "2022-03-31T09:22:36.510Z"
   },
   {
    "duration": 10,
    "start_time": "2022-03-31T09:22:40.480Z"
   },
   {
    "duration": 7,
    "start_time": "2022-03-31T09:22:46.675Z"
   },
   {
    "duration": 111,
    "start_time": "2022-03-31T09:29:16.013Z"
   },
   {
    "duration": 1499,
    "start_time": "2022-03-31T09:29:21.542Z"
   },
   {
    "duration": 22,
    "start_time": "2022-03-31T09:30:29.698Z"
   },
   {
    "duration": 153,
    "start_time": "2022-03-31T09:31:18.416Z"
   },
   {
    "duration": 151,
    "start_time": "2022-03-31T09:31:30.449Z"
   },
   {
    "duration": 1523,
    "start_time": "2022-03-31T09:32:03.312Z"
   },
   {
    "duration": 164,
    "start_time": "2022-03-31T09:32:45.812Z"
   },
   {
    "duration": 161,
    "start_time": "2022-03-31T09:33:03.246Z"
   },
   {
    "duration": 211,
    "start_time": "2022-03-31T09:40:32.480Z"
   },
   {
    "duration": 121,
    "start_time": "2022-03-31T09:40:51.913Z"
   },
   {
    "duration": 120,
    "start_time": "2022-03-31T09:40:56.759Z"
   },
   {
    "duration": 23,
    "start_time": "2022-03-31T09:42:20.995Z"
   },
   {
    "duration": 14,
    "start_time": "2022-03-31T09:42:39.372Z"
   },
   {
    "duration": 16,
    "start_time": "2022-03-31T09:42:59.521Z"
   },
   {
    "duration": 13,
    "start_time": "2022-03-31T09:44:50.137Z"
   },
   {
    "duration": 19,
    "start_time": "2022-03-31T09:49:21.810Z"
   },
   {
    "duration": 234,
    "start_time": "2022-03-31T09:49:47.958Z"
   },
   {
    "duration": 153,
    "start_time": "2022-03-31T09:49:54.273Z"
   },
   {
    "duration": 10,
    "start_time": "2022-03-31T09:50:08.165Z"
   },
   {
    "duration": 1368,
    "start_time": "2022-04-01T01:06:08.018Z"
   },
   {
    "duration": 48,
    "start_time": "2022-04-01T01:06:09.389Z"
   },
   {
    "duration": 14,
    "start_time": "2022-04-01T01:06:09.439Z"
   },
   {
    "duration": 16,
    "start_time": "2022-04-01T01:06:09.455Z"
   },
   {
    "duration": 12,
    "start_time": "2022-04-01T01:06:09.473Z"
   },
   {
    "duration": 5,
    "start_time": "2022-04-01T01:06:09.487Z"
   },
   {
    "duration": 7,
    "start_time": "2022-04-01T01:06:09.494Z"
   },
   {
    "duration": 14,
    "start_time": "2022-04-01T01:06:09.503Z"
   },
   {
    "duration": 14,
    "start_time": "2022-04-01T01:06:09.519Z"
   },
   {
    "duration": 12,
    "start_time": "2022-04-01T01:06:09.536Z"
   },
   {
    "duration": 10,
    "start_time": "2022-04-01T01:06:09.549Z"
   },
   {
    "duration": 17,
    "start_time": "2022-04-01T01:06:09.561Z"
   },
   {
    "duration": 25,
    "start_time": "2022-04-01T01:06:09.579Z"
   },
   {
    "duration": 6,
    "start_time": "2022-04-01T01:06:09.605Z"
   },
   {
    "duration": 20,
    "start_time": "2022-04-01T01:06:09.612Z"
   },
   {
    "duration": 15,
    "start_time": "2022-04-01T01:06:09.634Z"
   },
   {
    "duration": 10,
    "start_time": "2022-04-01T01:06:09.651Z"
   },
   {
    "duration": 13,
    "start_time": "2022-04-01T01:06:09.662Z"
   },
   {
    "duration": 25,
    "start_time": "2022-04-01T01:06:09.677Z"
   },
   {
    "duration": 10,
    "start_time": "2022-04-01T01:06:09.704Z"
   },
   {
    "duration": 22,
    "start_time": "2022-04-01T01:06:09.716Z"
   },
   {
    "duration": 12,
    "start_time": "2022-04-01T01:06:09.740Z"
   },
   {
    "duration": 15,
    "start_time": "2022-04-01T01:06:09.753Z"
   },
   {
    "duration": 184,
    "start_time": "2022-04-01T01:06:09.770Z"
   },
   {
    "duration": 146,
    "start_time": "2022-04-01T01:06:09.956Z"
   },
   {
    "duration": 14,
    "start_time": "2022-04-01T01:06:10.104Z"
   },
   {
    "duration": 266,
    "start_time": "2022-04-01T01:06:10.120Z"
   },
   {
    "duration": 9,
    "start_time": "2022-04-01T01:06:14.366Z"
   },
   {
    "duration": 13,
    "start_time": "2022-04-01T01:08:58.333Z"
   },
   {
    "duration": 9,
    "start_time": "2022-04-01T01:13:00.969Z"
   },
   {
    "duration": 258,
    "start_time": "2022-04-01T01:13:48.710Z"
   },
   {
    "duration": 143,
    "start_time": "2022-04-01T01:13:52.886Z"
   },
   {
    "duration": 140,
    "start_time": "2022-04-01T01:14:16.953Z"
   },
   {
    "duration": 151,
    "start_time": "2022-04-01T01:14:27.542Z"
   },
   {
    "duration": 164,
    "start_time": "2022-04-01T01:14:46.912Z"
   },
   {
    "duration": 161,
    "start_time": "2022-04-01T01:15:06.935Z"
   },
   {
    "duration": 354,
    "start_time": "2022-04-01T01:22:16.560Z"
   },
   {
    "duration": 284,
    "start_time": "2022-04-01T01:23:29.883Z"
   },
   {
    "duration": 12,
    "start_time": "2022-04-01T01:23:56.183Z"
   },
   {
    "duration": 250,
    "start_time": "2022-04-01T01:28:57.721Z"
   },
   {
    "duration": 286,
    "start_time": "2022-04-01T01:30:41.418Z"
   },
   {
    "duration": 15,
    "start_time": "2022-04-01T01:30:51.300Z"
   },
   {
    "duration": 6,
    "start_time": "2022-04-01T01:30:59.716Z"
   },
   {
    "duration": 5,
    "start_time": "2022-04-01T01:31:02.374Z"
   },
   {
    "duration": 5,
    "start_time": "2022-04-01T01:31:15.014Z"
   },
   {
    "duration": 301,
    "start_time": "2022-04-01T01:31:21.708Z"
   },
   {
    "duration": 195,
    "start_time": "2022-04-01T01:31:31.552Z"
   },
   {
    "duration": 9,
    "start_time": "2022-04-01T01:32:17.306Z"
   },
   {
    "duration": 204,
    "start_time": "2022-04-01T01:34:36.297Z"
   },
   {
    "duration": 195,
    "start_time": "2022-04-01T01:34:47.395Z"
   },
   {
    "duration": 199,
    "start_time": "2022-04-01T01:34:55.438Z"
   },
   {
    "duration": 206,
    "start_time": "2022-04-01T01:35:04.214Z"
   },
   {
    "duration": 12,
    "start_time": "2022-04-01T01:36:16.294Z"
   },
   {
    "duration": 40,
    "start_time": "2022-04-01T01:36:22.221Z"
   },
   {
    "duration": 601,
    "start_time": "2022-04-01T01:36:41.769Z"
   },
   {
    "duration": 4,
    "start_time": "2022-04-01T01:37:16.229Z"
   },
   {
    "duration": 14,
    "start_time": "2022-04-01T01:37:19.264Z"
   },
   {
    "duration": 11,
    "start_time": "2022-04-01T01:37:25.214Z"
   },
   {
    "duration": 8,
    "start_time": "2022-04-01T01:38:06.811Z"
   },
   {
    "duration": 1177,
    "start_time": "2022-04-01T01:38:15.495Z"
   },
   {
    "duration": 46,
    "start_time": "2022-04-01T01:38:16.674Z"
   },
   {
    "duration": 13,
    "start_time": "2022-04-01T01:38:16.722Z"
   },
   {
    "duration": 12,
    "start_time": "2022-04-01T01:38:16.737Z"
   },
   {
    "duration": 26,
    "start_time": "2022-04-01T01:38:16.751Z"
   },
   {
    "duration": 16,
    "start_time": "2022-04-01T01:38:16.779Z"
   },
   {
    "duration": 9,
    "start_time": "2022-04-01T01:38:16.797Z"
   },
   {
    "duration": 17,
    "start_time": "2022-04-01T01:38:16.807Z"
   },
   {
    "duration": 15,
    "start_time": "2022-04-01T01:38:16.825Z"
   },
   {
    "duration": 15,
    "start_time": "2022-04-01T01:38:16.843Z"
   },
   {
    "duration": 16,
    "start_time": "2022-04-01T01:38:16.860Z"
   },
   {
    "duration": 26,
    "start_time": "2022-04-01T01:38:16.877Z"
   },
   {
    "duration": 7,
    "start_time": "2022-04-01T01:38:16.904Z"
   },
   {
    "duration": 7,
    "start_time": "2022-04-01T01:38:16.912Z"
   },
   {
    "duration": 18,
    "start_time": "2022-04-01T01:38:16.920Z"
   },
   {
    "duration": 16,
    "start_time": "2022-04-01T01:38:16.940Z"
   },
   {
    "duration": 16,
    "start_time": "2022-04-01T01:38:16.957Z"
   },
   {
    "duration": 21,
    "start_time": "2022-04-01T01:38:16.975Z"
   },
   {
    "duration": 7,
    "start_time": "2022-04-01T01:38:17.002Z"
   },
   {
    "duration": 20,
    "start_time": "2022-04-01T01:38:17.011Z"
   },
   {
    "duration": 9,
    "start_time": "2022-04-01T01:38:17.033Z"
   },
   {
    "duration": 29,
    "start_time": "2022-04-01T01:38:17.044Z"
   },
   {
    "duration": 13,
    "start_time": "2022-04-01T01:38:17.075Z"
   },
   {
    "duration": 14,
    "start_time": "2022-04-01T01:38:17.090Z"
   },
   {
    "duration": 147,
    "start_time": "2022-04-01T01:38:17.106Z"
   },
   {
    "duration": 107,
    "start_time": "2022-04-01T01:38:17.255Z"
   },
   {
    "duration": 15,
    "start_time": "2022-04-01T01:38:17.364Z"
   },
   {
    "duration": 258,
    "start_time": "2022-04-01T01:38:17.383Z"
   },
   {
    "duration": 191,
    "start_time": "2022-04-01T01:38:17.643Z"
   },
   {
    "duration": 244,
    "start_time": "2022-04-01T01:38:17.835Z"
   },
   {
    "duration": 277,
    "start_time": "2022-04-01T01:38:18.081Z"
   },
   {
    "duration": 0,
    "start_time": "2022-04-01T01:38:18.360Z"
   },
   {
    "duration": 184,
    "start_time": "2022-04-01T01:40:30.758Z"
   },
   {
    "duration": 175,
    "start_time": "2022-04-01T01:40:33.525Z"
   },
   {
    "duration": 6,
    "start_time": "2022-04-01T01:40:45.090Z"
   },
   {
    "duration": 593,
    "start_time": "2022-04-01T01:41:48.723Z"
   },
   {
    "duration": 11,
    "start_time": "2022-04-01T01:41:52.708Z"
   },
   {
    "duration": 8,
    "start_time": "2022-04-01T01:41:52.722Z"
   },
   {
    "duration": 7,
    "start_time": "2022-04-01T01:41:52.732Z"
   },
   {
    "duration": 10,
    "start_time": "2022-04-01T01:41:52.741Z"
   },
   {
    "duration": 13,
    "start_time": "2022-04-01T01:41:52.753Z"
   },
   {
    "duration": 37,
    "start_time": "2022-04-01T01:41:52.768Z"
   },
   {
    "duration": 8,
    "start_time": "2022-04-01T01:41:52.807Z"
   },
   {
    "duration": 8,
    "start_time": "2022-04-01T01:41:52.816Z"
   },
   {
    "duration": 18,
    "start_time": "2022-04-01T01:41:52.826Z"
   },
   {
    "duration": 5,
    "start_time": "2022-04-01T01:41:52.847Z"
   },
   {
    "duration": 18,
    "start_time": "2022-04-01T01:41:52.854Z"
   },
   {
    "duration": 28,
    "start_time": "2022-04-01T01:41:52.873Z"
   },
   {
    "duration": 12,
    "start_time": "2022-04-01T01:41:52.903Z"
   },
   {
    "duration": 147,
    "start_time": "2022-04-01T01:41:52.917Z"
   },
   {
    "duration": 105,
    "start_time": "2022-04-01T01:41:53.066Z"
   },
   {
    "duration": 14,
    "start_time": "2022-04-01T01:41:53.173Z"
   },
   {
    "duration": 180,
    "start_time": "2022-04-01T01:41:53.200Z"
   },
   {
    "duration": 183,
    "start_time": "2022-04-01T01:41:53.382Z"
   },
   {
    "duration": 274,
    "start_time": "2022-04-01T01:41:53.567Z"
   },
   {
    "duration": 269,
    "start_time": "2022-04-01T01:41:53.843Z"
   },
   {
    "duration": 0,
    "start_time": "2022-04-01T01:41:54.114Z"
   },
   {
    "duration": 1198,
    "start_time": "2022-04-01T01:42:40.279Z"
   },
   {
    "duration": 39,
    "start_time": "2022-04-01T01:42:41.480Z"
   },
   {
    "duration": 13,
    "start_time": "2022-04-01T01:42:41.521Z"
   },
   {
    "duration": 10,
    "start_time": "2022-04-01T01:42:41.537Z"
   },
   {
    "duration": 11,
    "start_time": "2022-04-01T01:42:41.549Z"
   },
   {
    "duration": 7,
    "start_time": "2022-04-01T01:42:41.562Z"
   },
   {
    "duration": 7,
    "start_time": "2022-04-01T01:42:41.571Z"
   },
   {
    "duration": 24,
    "start_time": "2022-04-01T01:42:41.579Z"
   },
   {
    "duration": 10,
    "start_time": "2022-04-01T01:42:41.605Z"
   },
   {
    "duration": 14,
    "start_time": "2022-04-01T01:42:41.618Z"
   },
   {
    "duration": 17,
    "start_time": "2022-04-01T01:42:41.634Z"
   },
   {
    "duration": 15,
    "start_time": "2022-04-01T01:42:41.654Z"
   },
   {
    "duration": 33,
    "start_time": "2022-04-01T01:42:41.671Z"
   },
   {
    "duration": 6,
    "start_time": "2022-04-01T01:42:41.706Z"
   },
   {
    "duration": 10,
    "start_time": "2022-04-01T01:42:41.714Z"
   },
   {
    "duration": 17,
    "start_time": "2022-04-01T01:42:41.725Z"
   },
   {
    "duration": 7,
    "start_time": "2022-04-01T01:42:41.744Z"
   },
   {
    "duration": 14,
    "start_time": "2022-04-01T01:42:41.753Z"
   },
   {
    "duration": 11,
    "start_time": "2022-04-01T01:42:41.769Z"
   },
   {
    "duration": 29,
    "start_time": "2022-04-01T01:42:41.782Z"
   },
   {
    "duration": 7,
    "start_time": "2022-04-01T01:42:41.813Z"
   },
   {
    "duration": 19,
    "start_time": "2022-04-01T01:42:41.822Z"
   },
   {
    "duration": 11,
    "start_time": "2022-04-01T01:42:41.843Z"
   },
   {
    "duration": 13,
    "start_time": "2022-04-01T01:42:41.856Z"
   },
   {
    "duration": 195,
    "start_time": "2022-04-01T01:42:41.870Z"
   },
   {
    "duration": 143,
    "start_time": "2022-04-01T01:42:42.067Z"
   },
   {
    "duration": 15,
    "start_time": "2022-04-01T01:42:42.212Z"
   },
   {
    "duration": 264,
    "start_time": "2022-04-01T01:42:42.230Z"
   },
   {
    "duration": 171,
    "start_time": "2022-04-01T01:42:42.496Z"
   },
   {
    "duration": 324,
    "start_time": "2022-04-01T01:42:42.669Z"
   },
   {
    "duration": 310,
    "start_time": "2022-04-01T01:42:42.994Z"
   },
   {
    "duration": 0,
    "start_time": "2022-04-01T01:42:43.307Z"
   },
   {
    "duration": 195,
    "start_time": "2022-04-01T01:44:24.054Z"
   },
   {
    "duration": 5,
    "start_time": "2022-04-01T01:44:59.039Z"
   },
   {
    "duration": 162,
    "start_time": "2022-04-01T01:45:12.074Z"
   },
   {
    "duration": 148,
    "start_time": "2022-04-01T01:45:34.375Z"
   },
   {
    "duration": 165,
    "start_time": "2022-04-01T01:45:37.947Z"
   },
   {
    "duration": 231,
    "start_time": "2022-04-01T01:46:19.262Z"
   },
   {
    "duration": 150,
    "start_time": "2022-04-01T01:46:24.864Z"
   },
   {
    "duration": 157,
    "start_time": "2022-04-01T01:46:35.213Z"
   },
   {
    "duration": 155,
    "start_time": "2022-04-01T01:46:40.553Z"
   },
   {
    "duration": 168,
    "start_time": "2022-04-01T01:46:50.429Z"
   },
   {
    "duration": 167,
    "start_time": "2022-04-01T01:47:01.780Z"
   },
   {
    "duration": 177,
    "start_time": "2022-04-01T01:47:49.046Z"
   },
   {
    "duration": 187,
    "start_time": "2022-04-01T01:49:43.424Z"
   },
   {
    "duration": 203,
    "start_time": "2022-04-01T01:50:07.698Z"
   },
   {
    "duration": 286,
    "start_time": "2022-04-01T01:50:25.030Z"
   },
   {
    "duration": 298,
    "start_time": "2022-04-01T01:50:28.698Z"
   },
   {
    "duration": 320,
    "start_time": "2022-04-01T01:50:44.841Z"
   },
   {
    "duration": 198,
    "start_time": "2022-04-01T01:50:54.423Z"
   },
   {
    "duration": 194,
    "start_time": "2022-04-01T01:50:59.971Z"
   },
   {
    "duration": 194,
    "start_time": "2022-04-01T01:51:07.342Z"
   },
   {
    "duration": 191,
    "start_time": "2022-04-01T01:51:17.417Z"
   },
   {
    "duration": 165,
    "start_time": "2022-04-01T01:51:33.943Z"
   },
   {
    "duration": 186,
    "start_time": "2022-04-01T01:52:00.560Z"
   },
   {
    "duration": 200,
    "start_time": "2022-04-01T01:52:12.770Z"
   },
   {
    "duration": 186,
    "start_time": "2022-04-01T01:52:19.556Z"
   },
   {
    "duration": 299,
    "start_time": "2022-04-01T01:53:21.408Z"
   },
   {
    "duration": 192,
    "start_time": "2022-04-01T01:54:16.333Z"
   },
   {
    "duration": 414,
    "start_time": "2022-04-01T01:54:36.014Z"
   },
   {
    "duration": 193,
    "start_time": "2022-04-01T01:54:48.608Z"
   },
   {
    "duration": 219,
    "start_time": "2022-04-01T01:55:01.262Z"
   },
   {
    "duration": 303,
    "start_time": "2022-04-01T02:02:49.581Z"
   },
   {
    "duration": 276,
    "start_time": "2022-04-01T02:02:54.606Z"
   },
   {
    "duration": 312,
    "start_time": "2022-04-01T02:03:06.806Z"
   },
   {
    "duration": 188,
    "start_time": "2022-04-01T02:04:02.582Z"
   },
   {
    "duration": 287,
    "start_time": "2022-04-01T02:04:13.130Z"
   },
   {
    "duration": 361,
    "start_time": "2022-04-01T02:04:50.070Z"
   },
   {
    "duration": 352,
    "start_time": "2022-04-01T02:05:23.286Z"
   },
   {
    "duration": 342,
    "start_time": "2022-04-01T02:05:27.858Z"
   },
   {
    "duration": 14,
    "start_time": "2022-04-01T02:12:13.001Z"
   },
   {
    "duration": 9,
    "start_time": "2022-04-01T02:12:41.351Z"
   },
   {
    "duration": 114,
    "start_time": "2022-04-01T02:12:46.728Z"
   },
   {
    "duration": 214,
    "start_time": "2022-04-01T02:12:57.450Z"
   },
   {
    "duration": 129,
    "start_time": "2022-04-01T02:13:33.813Z"
   },
   {
    "duration": 116,
    "start_time": "2022-04-01T02:13:36.769Z"
   },
   {
    "duration": 2399,
    "start_time": "2022-04-01T02:13:59.580Z"
   },
   {
    "duration": 126,
    "start_time": "2022-04-01T02:14:10.233Z"
   },
   {
    "duration": 222,
    "start_time": "2022-04-01T02:14:14.885Z"
   },
   {
    "duration": 9,
    "start_time": "2022-04-01T02:14:41.476Z"
   },
   {
    "duration": 9,
    "start_time": "2022-04-01T02:15:09.621Z"
   },
   {
    "duration": 575,
    "start_time": "2022-04-01T02:15:47.899Z"
   },
   {
    "duration": 7,
    "start_time": "2022-04-01T02:16:12.392Z"
   },
   {
    "duration": 8,
    "start_time": "2022-04-01T02:16:15.145Z"
   },
   {
    "duration": 7,
    "start_time": "2022-04-01T02:16:35.751Z"
   },
   {
    "duration": 6,
    "start_time": "2022-04-01T02:16:44.385Z"
   },
   {
    "duration": 6,
    "start_time": "2022-04-01T02:16:46.968Z"
   },
   {
    "duration": 6,
    "start_time": "2022-04-01T02:17:32.364Z"
   },
   {
    "duration": 6,
    "start_time": "2022-04-01T02:17:33.276Z"
   },
   {
    "duration": 9,
    "start_time": "2022-04-01T02:17:38.625Z"
   },
   {
    "duration": 6,
    "start_time": "2022-04-01T02:18:08.554Z"
   },
   {
    "duration": 9,
    "start_time": "2022-04-01T02:18:09.592Z"
   },
   {
    "duration": 10,
    "start_time": "2022-04-01T02:18:17.672Z"
   },
   {
    "duration": 115,
    "start_time": "2022-04-01T02:19:22.727Z"
   },
   {
    "duration": 127,
    "start_time": "2022-04-01T02:20:53.517Z"
   },
   {
    "duration": 137,
    "start_time": "2022-04-01T02:21:02.782Z"
   },
   {
    "duration": 148,
    "start_time": "2022-04-01T02:22:20.895Z"
   },
   {
    "duration": 127,
    "start_time": "2022-04-01T02:22:36.630Z"
   },
   {
    "duration": 125,
    "start_time": "2022-04-01T02:22:42.613Z"
   },
   {
    "duration": 9,
    "start_time": "2022-04-01T02:24:29.015Z"
   },
   {
    "duration": 5,
    "start_time": "2022-04-01T02:24:53.675Z"
   },
   {
    "duration": 5,
    "start_time": "2022-04-01T02:28:01.042Z"
   },
   {
    "duration": 140,
    "start_time": "2022-04-01T02:38:38.919Z"
   },
   {
    "duration": 235,
    "start_time": "2022-04-01T02:39:48.542Z"
   },
   {
    "duration": 6,
    "start_time": "2022-04-01T02:40:09.586Z"
   },
   {
    "duration": 144,
    "start_time": "2022-04-01T02:40:53.894Z"
   },
   {
    "duration": 129,
    "start_time": "2022-04-01T02:41:57.276Z"
   },
   {
    "duration": 127,
    "start_time": "2022-04-01T02:42:26.590Z"
   },
   {
    "duration": 131,
    "start_time": "2022-04-01T02:42:30.493Z"
   },
   {
    "duration": 5,
    "start_time": "2022-04-01T02:42:34.931Z"
   },
   {
    "duration": 133,
    "start_time": "2022-04-01T02:42:37.081Z"
   },
   {
    "duration": 130,
    "start_time": "2022-04-01T02:43:02.926Z"
   },
   {
    "duration": 4,
    "start_time": "2022-04-01T02:43:28.977Z"
   },
   {
    "duration": 9,
    "start_time": "2022-04-01T02:44:02.591Z"
   },
   {
    "duration": 8,
    "start_time": "2022-04-01T02:44:06.339Z"
   },
   {
    "duration": 14,
    "start_time": "2022-04-01T02:44:27.545Z"
   },
   {
    "duration": 130,
    "start_time": "2022-04-01T02:44:31.158Z"
   },
   {
    "duration": 128,
    "start_time": "2022-04-01T02:45:17.729Z"
   },
   {
    "duration": 135,
    "start_time": "2022-04-01T02:49:54.681Z"
   },
   {
    "duration": 144,
    "start_time": "2022-04-01T02:50:23.857Z"
   },
   {
    "duration": 139,
    "start_time": "2022-04-01T02:50:27.984Z"
   },
   {
    "duration": 126,
    "start_time": "2022-04-01T02:50:35.994Z"
   },
   {
    "duration": 219,
    "start_time": "2022-04-01T02:51:32.268Z"
   },
   {
    "duration": 127,
    "start_time": "2022-04-01T02:51:39.234Z"
   },
   {
    "duration": 136,
    "start_time": "2022-04-01T02:51:43.780Z"
   },
   {
    "duration": 132,
    "start_time": "2022-04-01T02:54:26.400Z"
   },
   {
    "duration": 145,
    "start_time": "2022-04-01T02:54:29.642Z"
   },
   {
    "duration": 126,
    "start_time": "2022-04-01T02:54:33.818Z"
   },
   {
    "duration": 146,
    "start_time": "2022-04-01T02:54:36.848Z"
   },
   {
    "duration": 130,
    "start_time": "2022-04-01T02:54:40.539Z"
   },
   {
    "duration": 13,
    "start_time": "2022-04-01T02:59:17.201Z"
   },
   {
    "duration": 138,
    "start_time": "2022-04-01T02:59:36.170Z"
   },
   {
    "duration": 134,
    "start_time": "2022-04-01T02:59:45.276Z"
   },
   {
    "duration": 143,
    "start_time": "2022-04-01T03:00:06.498Z"
   },
   {
    "duration": 144,
    "start_time": "2022-04-01T03:02:05.995Z"
   },
   {
    "duration": 138,
    "start_time": "2022-04-01T03:02:13.160Z"
   },
   {
    "duration": 279,
    "start_time": "2022-04-01T03:02:21.633Z"
   },
   {
    "duration": 232,
    "start_time": "2022-04-01T03:02:39.781Z"
   },
   {
    "duration": 6,
    "start_time": "2022-04-01T03:03:10.651Z"
   },
   {
    "duration": 5,
    "start_time": "2022-04-01T03:03:16.544Z"
   },
   {
    "duration": 135,
    "start_time": "2022-04-01T03:03:59.827Z"
   },
   {
    "duration": 128,
    "start_time": "2022-04-01T03:04:50.846Z"
   },
   {
    "duration": 137,
    "start_time": "2022-04-01T03:05:08.367Z"
   },
   {
    "duration": 131,
    "start_time": "2022-04-01T03:05:25.965Z"
   },
   {
    "duration": 5,
    "start_time": "2022-04-01T03:05:26.154Z"
   },
   {
    "duration": 130,
    "start_time": "2022-04-01T03:05:34.242Z"
   },
   {
    "duration": 133,
    "start_time": "2022-04-01T03:13:59.789Z"
   },
   {
    "duration": 135,
    "start_time": "2022-04-01T03:14:10.408Z"
   },
   {
    "duration": 142,
    "start_time": "2022-04-01T03:14:14.918Z"
   },
   {
    "duration": 138,
    "start_time": "2022-04-01T03:14:20.581Z"
   },
   {
    "duration": 127,
    "start_time": "2022-04-01T03:14:24.443Z"
   },
   {
    "duration": 133,
    "start_time": "2022-04-01T03:14:28.805Z"
   },
   {
    "duration": 10,
    "start_time": "2022-04-01T03:14:46.404Z"
   },
   {
    "duration": 141,
    "start_time": "2022-04-01T03:15:08.213Z"
   },
   {
    "duration": 243,
    "start_time": "2022-04-01T03:15:15.598Z"
   },
   {
    "duration": 169,
    "start_time": "2022-04-01T03:17:09.587Z"
   },
   {
    "duration": 149,
    "start_time": "2022-04-01T03:17:14.356Z"
   },
   {
    "duration": 636,
    "start_time": "2022-04-01T03:17:19.572Z"
   },
   {
    "duration": 560,
    "start_time": "2022-04-01T03:17:38.563Z"
   },
   {
    "duration": 672,
    "start_time": "2022-04-01T03:17:46.579Z"
   },
   {
    "duration": 603,
    "start_time": "2022-04-01T03:17:52.602Z"
   },
   {
    "duration": 550,
    "start_time": "2022-04-01T03:17:58.013Z"
   },
   {
    "duration": 132,
    "start_time": "2022-04-01T03:18:52.542Z"
   },
   {
    "duration": 138,
    "start_time": "2022-04-01T03:18:58.190Z"
   },
   {
    "duration": 142,
    "start_time": "2022-04-01T03:19:27.803Z"
   },
   {
    "duration": 8740,
    "start_time": "2022-04-01T03:21:25.197Z"
   },
   {
    "duration": 7307,
    "start_time": "2022-04-01T03:21:42.746Z"
   },
   {
    "duration": 16,
    "start_time": "2022-04-01T03:22:15.017Z"
   },
   {
    "duration": 996,
    "start_time": "2022-04-01T03:22:29.466Z"
   },
   {
    "duration": 134,
    "start_time": "2022-04-01T03:22:38.530Z"
   },
   {
    "duration": 7078,
    "start_time": "2022-04-01T03:22:46.149Z"
   },
   {
    "duration": 14,
    "start_time": "2022-04-01T03:24:12.297Z"
   },
   {
    "duration": 16,
    "start_time": "2022-04-01T03:24:31.486Z"
   },
   {
    "duration": 137,
    "start_time": "2022-04-01T03:26:53.381Z"
   },
   {
    "duration": 152,
    "start_time": "2022-04-01T03:27:15.559Z"
   },
   {
    "duration": 125,
    "start_time": "2022-04-01T03:27:20.492Z"
   },
   {
    "duration": 147,
    "start_time": "2022-04-01T03:27:39.889Z"
   },
   {
    "duration": 129,
    "start_time": "2022-04-01T03:27:58.909Z"
   },
   {
    "duration": 139,
    "start_time": "2022-04-01T03:34:48.417Z"
   },
   {
    "duration": 143,
    "start_time": "2022-04-01T03:35:30.034Z"
   },
   {
    "duration": 138,
    "start_time": "2022-04-01T03:35:57.581Z"
   },
   {
    "duration": 133,
    "start_time": "2022-04-01T03:36:15.072Z"
   },
   {
    "duration": 4,
    "start_time": "2022-04-01T03:44:57.703Z"
   },
   {
    "duration": 5,
    "start_time": "2022-04-01T03:45:54.559Z"
   },
   {
    "duration": 312,
    "start_time": "2022-04-01T03:47:45.443Z"
   },
   {
    "duration": 127,
    "start_time": "2022-04-01T03:48:01.248Z"
   },
   {
    "duration": 3,
    "start_time": "2022-04-01T03:52:46.203Z"
   },
   {
    "duration": 139,
    "start_time": "2022-04-01T03:54:01.765Z"
   },
   {
    "duration": 5,
    "start_time": "2022-04-01T03:55:46.383Z"
   },
   {
    "duration": 10,
    "start_time": "2022-04-01T03:57:59.926Z"
   },
   {
    "duration": 51,
    "start_time": "2022-04-01T04:00:49.543Z"
   },
   {
    "duration": 9,
    "start_time": "2022-04-01T04:00:54.538Z"
   },
   {
    "duration": 10,
    "start_time": "2022-04-01T04:01:13.925Z"
   },
   {
    "duration": 132,
    "start_time": "2022-04-01T04:29:39.485Z"
   },
   {
    "duration": 144,
    "start_time": "2022-04-01T04:32:43.414Z"
   },
   {
    "duration": 155,
    "start_time": "2022-04-01T04:35:02.769Z"
   },
   {
    "duration": 10,
    "start_time": "2022-04-01T05:59:21.870Z"
   },
   {
    "duration": 9,
    "start_time": "2022-04-01T05:59:26.766Z"
   },
   {
    "duration": 9,
    "start_time": "2022-04-01T05:59:32.630Z"
   },
   {
    "duration": 51,
    "start_time": "2022-04-01T06:02:25.811Z"
   },
   {
    "duration": 16,
    "start_time": "2022-04-01T08:11:42.920Z"
   },
   {
    "duration": 17,
    "start_time": "2022-04-01T08:12:08.823Z"
   },
   {
    "duration": 10,
    "start_time": "2022-04-01T08:12:15.378Z"
   },
   {
    "duration": 65,
    "start_time": "2022-04-01T08:13:20.738Z"
   },
   {
    "duration": 10,
    "start_time": "2022-04-01T08:13:30.613Z"
   },
   {
    "duration": 15,
    "start_time": "2022-04-01T08:14:17.134Z"
   },
   {
    "duration": 18,
    "start_time": "2022-04-01T08:14:25.167Z"
   },
   {
    "duration": 64,
    "start_time": "2022-04-01T08:14:41.918Z"
   },
   {
    "duration": 10,
    "start_time": "2022-04-01T08:15:43.847Z"
   },
   {
    "duration": 26,
    "start_time": "2022-04-01T08:16:07.911Z"
   },
   {
    "duration": 32,
    "start_time": "2022-04-01T08:16:14.199Z"
   },
   {
    "duration": 10,
    "start_time": "2022-04-01T08:17:28.963Z"
   },
   {
    "duration": 143,
    "start_time": "2022-04-01T08:21:43.674Z"
   },
   {
    "duration": 11,
    "start_time": "2022-04-01T08:21:48.405Z"
   },
   {
    "duration": 7,
    "start_time": "2022-04-01T08:24:36.519Z"
   },
   {
    "duration": 5,
    "start_time": "2022-04-01T08:24:40.493Z"
   },
   {
    "duration": 7,
    "start_time": "2022-04-01T08:26:48.471Z"
   },
   {
    "duration": 24,
    "start_time": "2022-04-01T08:27:40.893Z"
   },
   {
    "duration": 24,
    "start_time": "2022-04-01T08:27:43.658Z"
   },
   {
    "duration": 29,
    "start_time": "2022-04-01T08:28:06.321Z"
   },
   {
    "duration": 26,
    "start_time": "2022-04-01T08:28:23.442Z"
   },
   {
    "duration": 26,
    "start_time": "2022-04-01T08:28:35.511Z"
   },
   {
    "duration": 1581,
    "start_time": "2022-04-04T01:34:27.819Z"
   },
   {
    "duration": 44,
    "start_time": "2022-04-04T01:34:29.403Z"
   },
   {
    "duration": 17,
    "start_time": "2022-04-04T01:34:29.448Z"
   },
   {
    "duration": 11,
    "start_time": "2022-04-04T01:34:29.468Z"
   },
   {
    "duration": 10,
    "start_time": "2022-04-04T01:34:29.481Z"
   },
   {
    "duration": 5,
    "start_time": "2022-04-04T01:34:29.493Z"
   },
   {
    "duration": 12,
    "start_time": "2022-04-04T01:34:29.500Z"
   },
   {
    "duration": 18,
    "start_time": "2022-04-04T01:34:29.514Z"
   },
   {
    "duration": 46,
    "start_time": "2022-04-04T01:34:29.534Z"
   },
   {
    "duration": 14,
    "start_time": "2022-04-04T01:34:29.586Z"
   },
   {
    "duration": 22,
    "start_time": "2022-04-04T01:34:29.603Z"
   },
   {
    "duration": 52,
    "start_time": "2022-04-04T01:34:29.628Z"
   },
   {
    "duration": 9,
    "start_time": "2022-04-04T01:34:29.682Z"
   },
   {
    "duration": 7,
    "start_time": "2022-04-04T01:34:29.693Z"
   },
   {
    "duration": 7,
    "start_time": "2022-04-04T01:34:29.702Z"
   },
   {
    "duration": 57,
    "start_time": "2022-04-04T01:34:29.711Z"
   },
   {
    "duration": 9,
    "start_time": "2022-04-04T01:34:29.770Z"
   },
   {
    "duration": 11,
    "start_time": "2022-04-04T01:34:29.781Z"
   },
   {
    "duration": 5,
    "start_time": "2022-04-04T01:34:29.794Z"
   },
   {
    "duration": 14,
    "start_time": "2022-04-04T01:34:29.801Z"
   },
   {
    "duration": 11,
    "start_time": "2022-04-04T01:34:29.817Z"
   },
   {
    "duration": 17,
    "start_time": "2022-04-04T01:34:29.867Z"
   },
   {
    "duration": 8,
    "start_time": "2022-04-04T01:34:29.887Z"
   },
   {
    "duration": 11,
    "start_time": "2022-04-04T01:34:29.898Z"
   },
   {
    "duration": 311,
    "start_time": "2022-04-04T01:34:29.911Z"
   },
   {
    "duration": 243,
    "start_time": "2022-04-04T01:34:30.225Z"
   },
   {
    "duration": 24,
    "start_time": "2022-04-04T01:34:30.471Z"
   },
   {
    "duration": 563,
    "start_time": "2022-04-04T01:34:30.502Z"
   },
   {
    "duration": 313,
    "start_time": "2022-04-04T01:34:31.068Z"
   },
   {
    "duration": 467,
    "start_time": "2022-04-04T01:34:31.384Z"
   },
   {
    "duration": 316,
    "start_time": "2022-04-04T01:34:31.854Z"
   },
   {
    "duration": 416,
    "start_time": "2022-04-04T01:34:32.173Z"
   },
   {
    "duration": 15,
    "start_time": "2022-04-04T01:34:32.592Z"
   },
   {
    "duration": 238,
    "start_time": "2022-04-04T01:34:32.610Z"
   },
   {
    "duration": 18,
    "start_time": "2022-04-04T01:34:32.851Z"
   },
   {
    "duration": 234,
    "start_time": "2022-04-04T01:34:32.872Z"
   },
   {
    "duration": 7,
    "start_time": "2022-04-04T01:34:33.109Z"
   },
   {
    "duration": 97,
    "start_time": "2022-04-04T01:34:33.119Z"
   },
   {
    "duration": 12,
    "start_time": "2022-04-04T01:34:33.218Z"
   },
   {
    "duration": 11,
    "start_time": "2022-04-04T01:34:33.232Z"
   },
   {
    "duration": 95,
    "start_time": "2022-04-04T01:34:33.245Z"
   },
   {
    "duration": 103,
    "start_time": "2022-04-04T01:34:33.342Z"
   },
   {
    "duration": 99,
    "start_time": "2022-04-04T01:34:33.447Z"
   },
   {
    "duration": 62,
    "start_time": "2022-04-04T01:34:33.548Z"
   },
   {
    "duration": 272,
    "start_time": "2022-04-04T01:34:33.612Z"
   },
   {
    "duration": 9,
    "start_time": "2022-04-04T01:34:33.886Z"
   },
   {
    "duration": 34,
    "start_time": "2022-04-04T01:34:33.897Z"
   },
   {
    "duration": 100,
    "start_time": "2022-04-04T01:35:38.409Z"
   },
   {
    "duration": 96,
    "start_time": "2022-04-04T01:35:42.176Z"
   },
   {
    "duration": 27,
    "start_time": "2022-04-04T01:35:49.059Z"
   },
   {
    "duration": 14,
    "start_time": "2022-04-04T01:43:40.085Z"
   },
   {
    "duration": 94,
    "start_time": "2022-04-04T01:44:14.404Z"
   },
   {
    "duration": 16,
    "start_time": "2022-04-04T01:45:14.443Z"
   },
   {
    "duration": 12,
    "start_time": "2022-04-04T01:52:59.368Z"
   },
   {
    "duration": 1647,
    "start_time": "2022-04-04T01:55:09.512Z"
   },
   {
    "duration": 11,
    "start_time": "2022-04-04T01:55:20.109Z"
   },
   {
    "duration": 17,
    "start_time": "2022-04-04T01:55:40.464Z"
   },
   {
    "duration": 11,
    "start_time": "2022-04-04T01:55:50.322Z"
   },
   {
    "duration": 6,
    "start_time": "2022-04-04T01:56:14.587Z"
   },
   {
    "duration": 14,
    "start_time": "2022-04-04T01:57:16.427Z"
   },
   {
    "duration": 13,
    "start_time": "2022-04-04T01:57:20.041Z"
   },
   {
    "duration": 117,
    "start_time": "2022-04-04T01:58:04.635Z"
   },
   {
    "duration": 13,
    "start_time": "2022-04-04T01:58:12.713Z"
   },
   {
    "duration": 28,
    "start_time": "2022-04-04T01:58:26.214Z"
   },
   {
    "duration": 16,
    "start_time": "2022-04-04T01:58:30.224Z"
   },
   {
    "duration": 13,
    "start_time": "2022-04-04T02:00:35.509Z"
   },
   {
    "duration": 29,
    "start_time": "2022-04-04T02:01:04.575Z"
   },
   {
    "duration": 29,
    "start_time": "2022-04-04T02:01:46.034Z"
   },
   {
    "duration": 1718,
    "start_time": "2022-04-04T02:06:17.928Z"
   },
   {
    "duration": 22,
    "start_time": "2022-04-04T02:06:43.143Z"
   },
   {
    "duration": 15,
    "start_time": "2022-04-04T02:07:46.148Z"
   },
   {
    "duration": 22,
    "start_time": "2022-04-04T02:08:16.404Z"
   },
   {
    "duration": 20,
    "start_time": "2022-04-04T02:09:00.476Z"
   },
   {
    "duration": 102,
    "start_time": "2022-04-04T02:15:40.136Z"
   },
   {
    "duration": 7,
    "start_time": "2022-04-04T03:21:10.011Z"
   },
   {
    "duration": 6,
    "start_time": "2022-04-04T03:21:14.088Z"
   },
   {
    "duration": 24,
    "start_time": "2022-04-04T03:21:27.335Z"
   },
   {
    "duration": 10,
    "start_time": "2022-04-04T03:21:59.575Z"
   },
   {
    "duration": 7,
    "start_time": "2022-04-04T03:22:08.812Z"
   },
   {
    "duration": 17,
    "start_time": "2022-04-04T03:23:56.355Z"
   },
   {
    "duration": 13,
    "start_time": "2022-04-04T03:24:41.347Z"
   },
   {
    "duration": 11,
    "start_time": "2022-04-04T03:25:30.094Z"
   },
   {
    "duration": 6,
    "start_time": "2022-04-04T03:25:52.052Z"
   },
   {
    "duration": 143,
    "start_time": "2022-04-04T03:27:01.446Z"
   },
   {
    "duration": 370,
    "start_time": "2022-04-04T03:27:19.782Z"
   },
   {
    "duration": 20,
    "start_time": "2022-04-04T03:27:37.582Z"
   },
   {
    "duration": 5,
    "start_time": "2022-04-04T03:27:46.009Z"
   },
   {
    "duration": 17,
    "start_time": "2022-04-04T03:27:50.732Z"
   },
   {
    "duration": 1561,
    "start_time": "2022-04-04T03:27:59.092Z"
   },
   {
    "duration": 10,
    "start_time": "2022-04-04T03:28:07.128Z"
   },
   {
    "duration": 17,
    "start_time": "2022-04-04T03:28:15.496Z"
   },
   {
    "duration": 1549,
    "start_time": "2022-04-04T03:28:38.519Z"
   },
   {
    "duration": 23,
    "start_time": "2022-04-04T03:28:53.508Z"
   },
   {
    "duration": 10,
    "start_time": "2022-04-04T03:29:16.115Z"
   },
   {
    "duration": 1553,
    "start_time": "2022-04-04T03:29:20.867Z"
   },
   {
    "duration": 19,
    "start_time": "2022-04-04T03:29:27.977Z"
   },
   {
    "duration": 12,
    "start_time": "2022-04-04T03:29:40.166Z"
   },
   {
    "duration": 16,
    "start_time": "2022-04-04T03:29:44.642Z"
   },
   {
    "duration": 14,
    "start_time": "2022-04-04T03:31:14.955Z"
   },
   {
    "duration": 16,
    "start_time": "2022-04-04T03:31:23.646Z"
   },
   {
    "duration": 11,
    "start_time": "2022-04-04T03:31:33.297Z"
   },
   {
    "duration": 11,
    "start_time": "2022-04-04T03:31:44.646Z"
   },
   {
    "duration": 11,
    "start_time": "2022-04-04T03:32:04.634Z"
   },
   {
    "duration": 9,
    "start_time": "2022-04-04T03:32:52.727Z"
   },
   {
    "duration": 18,
    "start_time": "2022-04-04T03:32:59.035Z"
   },
   {
    "duration": 100,
    "start_time": "2022-04-04T03:33:41.903Z"
   },
   {
    "duration": 4,
    "start_time": "2022-04-04T03:34:05.743Z"
   },
   {
    "duration": 5,
    "start_time": "2022-04-04T03:34:15.866Z"
   },
   {
    "duration": 6,
    "start_time": "2022-04-04T03:34:20.212Z"
   },
   {
    "duration": 6,
    "start_time": "2022-04-04T03:35:33.776Z"
   },
   {
    "duration": 5,
    "start_time": "2022-04-04T03:36:14.703Z"
   },
   {
    "duration": 6,
    "start_time": "2022-04-04T03:36:20.859Z"
   },
   {
    "duration": 6,
    "start_time": "2022-04-04T03:36:23.802Z"
   },
   {
    "duration": 6,
    "start_time": "2022-04-04T03:36:38.966Z"
   },
   {
    "duration": 5,
    "start_time": "2022-04-04T03:36:44.975Z"
   },
   {
    "duration": 5,
    "start_time": "2022-04-04T03:37:01.620Z"
   },
   {
    "duration": 9,
    "start_time": "2022-04-04T03:37:04.139Z"
   },
   {
    "duration": 11,
    "start_time": "2022-04-04T03:37:09.302Z"
   },
   {
    "duration": 8,
    "start_time": "2022-04-04T03:37:12.808Z"
   },
   {
    "duration": 5,
    "start_time": "2022-04-04T03:37:36.433Z"
   },
   {
    "duration": 5,
    "start_time": "2022-04-04T03:37:54.577Z"
   },
   {
    "duration": 11,
    "start_time": "2022-04-04T06:45:00.548Z"
   },
   {
    "duration": 114,
    "start_time": "2022-04-04T06:47:34.835Z"
   },
   {
    "duration": 12,
    "start_time": "2022-04-04T06:47:45.700Z"
   },
   {
    "duration": 190,
    "start_time": "2022-04-04T06:49:52.482Z"
   },
   {
    "duration": 23,
    "start_time": "2022-04-04T06:50:30.020Z"
   },
   {
    "duration": 18,
    "start_time": "2022-04-04T06:50:33.945Z"
   },
   {
    "duration": 12,
    "start_time": "2022-04-04T06:50:46.317Z"
   },
   {
    "duration": 18,
    "start_time": "2022-04-04T06:50:56.697Z"
   },
   {
    "duration": 17,
    "start_time": "2022-04-04T06:51:15.266Z"
   },
   {
    "duration": 8,
    "start_time": "2022-04-04T06:51:21.254Z"
   },
   {
    "duration": 7,
    "start_time": "2022-04-04T06:51:27.120Z"
   },
   {
    "duration": 7,
    "start_time": "2022-04-04T06:51:37.351Z"
   },
   {
    "duration": 206,
    "start_time": "2022-04-04T06:52:25.525Z"
   },
   {
    "duration": 179,
    "start_time": "2022-04-04T06:52:32.349Z"
   },
   {
    "duration": 5,
    "start_time": "2022-04-04T06:53:13.852Z"
   },
   {
    "duration": 12,
    "start_time": "2022-04-04T06:53:17.349Z"
   },
   {
    "duration": 13,
    "start_time": "2022-04-04T06:53:37.400Z"
   },
   {
    "duration": 13,
    "start_time": "2022-04-04T06:53:43.372Z"
   },
   {
    "duration": 80,
    "start_time": "2022-04-04T06:54:44.078Z"
   },
   {
    "duration": 139,
    "start_time": "2022-04-04T06:55:10.044Z"
   },
   {
    "duration": 7,
    "start_time": "2022-04-04T06:55:10.349Z"
   },
   {
    "duration": 151,
    "start_time": "2022-04-04T06:55:21.441Z"
   },
   {
    "duration": 261,
    "start_time": "2022-04-04T06:56:25.833Z"
   },
   {
    "duration": 19,
    "start_time": "2022-04-04T06:57:44.986Z"
   },
   {
    "duration": 11,
    "start_time": "2022-04-04T06:59:14.605Z"
   },
   {
    "duration": 15,
    "start_time": "2022-04-04T06:59:50.850Z"
   },
   {
    "duration": 115,
    "start_time": "2022-04-04T07:01:14.151Z"
   },
   {
    "duration": 1307,
    "start_time": "2022-04-04T07:01:21.308Z"
   },
   {
    "duration": 1604,
    "start_time": "2022-04-04T07:01:44.159Z"
   },
   {
    "duration": 40,
    "start_time": "2022-04-04T07:01:45.766Z"
   },
   {
    "duration": 18,
    "start_time": "2022-04-04T07:01:45.809Z"
   },
   {
    "duration": 12,
    "start_time": "2022-04-04T07:01:45.832Z"
   },
   {
    "duration": 26,
    "start_time": "2022-04-04T07:01:45.847Z"
   },
   {
    "duration": 6,
    "start_time": "2022-04-04T07:01:45.875Z"
   },
   {
    "duration": 7,
    "start_time": "2022-04-04T07:01:45.883Z"
   },
   {
    "duration": 16,
    "start_time": "2022-04-04T07:01:45.892Z"
   },
   {
    "duration": 17,
    "start_time": "2022-04-04T07:01:45.911Z"
   },
   {
    "duration": 15,
    "start_time": "2022-04-04T07:01:45.968Z"
   },
   {
    "duration": 21,
    "start_time": "2022-04-04T07:01:45.985Z"
   },
   {
    "duration": 17,
    "start_time": "2022-04-04T07:01:46.008Z"
   },
   {
    "duration": 42,
    "start_time": "2022-04-04T07:01:46.027Z"
   },
   {
    "duration": 7,
    "start_time": "2022-04-04T07:01:46.071Z"
   },
   {
    "duration": 9,
    "start_time": "2022-04-04T07:01:46.080Z"
   },
   {
    "duration": 12,
    "start_time": "2022-04-04T07:01:46.091Z"
   },
   {
    "duration": 11,
    "start_time": "2022-04-04T07:01:46.105Z"
   },
   {
    "duration": 51,
    "start_time": "2022-04-04T07:01:46.118Z"
   },
   {
    "duration": 6,
    "start_time": "2022-04-04T07:01:46.171Z"
   },
   {
    "duration": 14,
    "start_time": "2022-04-04T07:01:46.179Z"
   },
   {
    "duration": 5,
    "start_time": "2022-04-04T07:01:46.196Z"
   },
   {
    "duration": 17,
    "start_time": "2022-04-04T07:01:46.203Z"
   },
   {
    "duration": 48,
    "start_time": "2022-04-04T07:01:46.222Z"
   },
   {
    "duration": 14,
    "start_time": "2022-04-04T07:01:46.273Z"
   },
   {
    "duration": 284,
    "start_time": "2022-04-04T07:01:46.289Z"
   },
   {
    "duration": 1312,
    "start_time": "2022-04-04T07:01:46.576Z"
   },
   {
    "duration": 0,
    "start_time": "2022-04-04T07:01:47.892Z"
   },
   {
    "duration": 0,
    "start_time": "2022-04-04T07:01:47.894Z"
   },
   {
    "duration": 0,
    "start_time": "2022-04-04T07:01:47.896Z"
   },
   {
    "duration": 0,
    "start_time": "2022-04-04T07:01:47.897Z"
   },
   {
    "duration": 0,
    "start_time": "2022-04-04T07:01:47.898Z"
   },
   {
    "duration": 0,
    "start_time": "2022-04-04T07:01:47.900Z"
   },
   {
    "duration": 0,
    "start_time": "2022-04-04T07:01:47.901Z"
   },
   {
    "duration": 0,
    "start_time": "2022-04-04T07:01:47.903Z"
   },
   {
    "duration": 0,
    "start_time": "2022-04-04T07:01:47.904Z"
   },
   {
    "duration": 0,
    "start_time": "2022-04-04T07:01:47.905Z"
   },
   {
    "duration": 0,
    "start_time": "2022-04-04T07:01:47.907Z"
   },
   {
    "duration": 0,
    "start_time": "2022-04-04T07:01:47.908Z"
   },
   {
    "duration": 0,
    "start_time": "2022-04-04T07:01:47.910Z"
   },
   {
    "duration": 0,
    "start_time": "2022-04-04T07:01:47.911Z"
   },
   {
    "duration": 0,
    "start_time": "2022-04-04T07:01:47.913Z"
   },
   {
    "duration": 0,
    "start_time": "2022-04-04T07:01:47.914Z"
   },
   {
    "duration": 0,
    "start_time": "2022-04-04T07:01:47.916Z"
   },
   {
    "duration": 0,
    "start_time": "2022-04-04T07:01:47.917Z"
   },
   {
    "duration": 0,
    "start_time": "2022-04-04T07:01:47.918Z"
   },
   {
    "duration": 0,
    "start_time": "2022-04-04T07:01:47.920Z"
   },
   {
    "duration": 0,
    "start_time": "2022-04-04T07:01:47.921Z"
   },
   {
    "duration": 0,
    "start_time": "2022-04-04T07:01:47.923Z"
   },
   {
    "duration": 0,
    "start_time": "2022-04-04T07:01:47.924Z"
   },
   {
    "duration": 0,
    "start_time": "2022-04-04T07:01:47.926Z"
   },
   {
    "duration": 0,
    "start_time": "2022-04-04T07:01:47.928Z"
   },
   {
    "duration": 0,
    "start_time": "2022-04-04T07:01:47.929Z"
   },
   {
    "duration": 0,
    "start_time": "2022-04-04T07:01:47.931Z"
   },
   {
    "duration": 0,
    "start_time": "2022-04-04T07:01:47.967Z"
   },
   {
    "duration": 0,
    "start_time": "2022-04-04T07:01:47.969Z"
   },
   {
    "duration": 0,
    "start_time": "2022-04-04T07:01:47.970Z"
   },
   {
    "duration": 0,
    "start_time": "2022-04-04T07:01:47.972Z"
   },
   {
    "duration": 0,
    "start_time": "2022-04-04T07:01:47.973Z"
   },
   {
    "duration": 0,
    "start_time": "2022-04-04T07:01:47.975Z"
   },
   {
    "duration": 0,
    "start_time": "2022-04-04T07:01:47.976Z"
   },
   {
    "duration": 0,
    "start_time": "2022-04-04T07:01:47.977Z"
   },
   {
    "duration": 0,
    "start_time": "2022-04-04T07:01:47.978Z"
   },
   {
    "duration": 0,
    "start_time": "2022-04-04T07:01:47.979Z"
   },
   {
    "duration": 0,
    "start_time": "2022-04-04T07:01:47.981Z"
   },
   {
    "duration": 0,
    "start_time": "2022-04-04T07:01:47.982Z"
   },
   {
    "duration": 0,
    "start_time": "2022-04-04T07:01:47.984Z"
   },
   {
    "duration": 0,
    "start_time": "2022-04-04T07:01:47.985Z"
   },
   {
    "duration": 19,
    "start_time": "2022-04-04T07:02:03.580Z"
   },
   {
    "duration": 229,
    "start_time": "2022-04-04T07:02:31.415Z"
   },
   {
    "duration": 212,
    "start_time": "2022-04-04T07:02:41.645Z"
   },
   {
    "duration": 204,
    "start_time": "2022-04-04T07:03:11.036Z"
   },
   {
    "duration": 214,
    "start_time": "2022-04-04T07:03:26.608Z"
   },
   {
    "duration": 231,
    "start_time": "2022-04-04T07:03:44.243Z"
   },
   {
    "duration": 207,
    "start_time": "2022-04-04T07:04:39.896Z"
   },
   {
    "duration": 15,
    "start_time": "2022-04-04T07:05:54.455Z"
   },
   {
    "duration": 15,
    "start_time": "2022-04-04T07:06:26.903Z"
   },
   {
    "duration": 16,
    "start_time": "2022-04-04T07:06:41.153Z"
   },
   {
    "duration": 279,
    "start_time": "2022-04-04T07:06:46.008Z"
   },
   {
    "duration": 17,
    "start_time": "2022-04-04T07:07:55.161Z"
   },
   {
    "duration": 17,
    "start_time": "2022-04-04T07:08:20.153Z"
   },
   {
    "duration": 15,
    "start_time": "2022-04-04T07:08:23.818Z"
   },
   {
    "duration": 15,
    "start_time": "2022-04-04T07:08:44.545Z"
   },
   {
    "duration": 219,
    "start_time": "2022-04-04T07:09:16.621Z"
   },
   {
    "duration": 18,
    "start_time": "2022-04-04T07:09:16.867Z"
   },
   {
    "duration": 528,
    "start_time": "2022-04-04T07:09:16.887Z"
   },
   {
    "duration": 306,
    "start_time": "2022-04-04T07:09:17.418Z"
   },
   {
    "duration": 428,
    "start_time": "2022-04-04T07:09:17.726Z"
   },
   {
    "duration": 303,
    "start_time": "2022-04-04T07:09:18.156Z"
   },
   {
    "duration": 426,
    "start_time": "2022-04-04T07:09:18.467Z"
   },
   {
    "duration": 14,
    "start_time": "2022-04-04T07:09:18.896Z"
   },
   {
    "duration": 234,
    "start_time": "2022-04-04T07:09:18.913Z"
   },
   {
    "duration": 6,
    "start_time": "2022-04-04T07:09:19.152Z"
   },
   {
    "duration": 245,
    "start_time": "2022-04-04T07:09:19.168Z"
   },
   {
    "duration": 6,
    "start_time": "2022-04-04T07:09:19.415Z"
   },
   {
    "duration": 94,
    "start_time": "2022-04-04T07:09:19.424Z"
   },
   {
    "duration": 11,
    "start_time": "2022-04-04T07:09:19.521Z"
   },
   {
    "duration": 12,
    "start_time": "2022-04-04T07:09:19.534Z"
   },
   {
    "duration": 74,
    "start_time": "2022-04-04T07:09:19.568Z"
   },
   {
    "duration": 111,
    "start_time": "2022-04-04T07:09:19.644Z"
   },
   {
    "duration": 89,
    "start_time": "2022-04-04T07:09:19.766Z"
   },
   {
    "duration": 44,
    "start_time": "2022-04-04T07:09:19.868Z"
   },
   {
    "duration": 292,
    "start_time": "2022-04-04T07:09:19.915Z"
   },
   {
    "duration": 9,
    "start_time": "2022-04-04T07:09:20.209Z"
   },
   {
    "duration": 47,
    "start_time": "2022-04-04T07:09:20.220Z"
   },
   {
    "duration": 14,
    "start_time": "2022-04-04T07:09:20.270Z"
   },
   {
    "duration": 14,
    "start_time": "2022-04-04T07:09:20.286Z"
   },
   {
    "duration": 11,
    "start_time": "2022-04-04T07:09:20.302Z"
   },
   {
    "duration": 65,
    "start_time": "2022-04-04T07:09:20.315Z"
   },
   {
    "duration": 21,
    "start_time": "2022-04-04T07:09:20.382Z"
   },
   {
    "duration": 12,
    "start_time": "2022-04-04T07:09:20.407Z"
   },
   {
    "duration": 50,
    "start_time": "2022-04-04T07:09:20.421Z"
   },
   {
    "duration": 6,
    "start_time": "2022-04-04T07:09:20.473Z"
   },
   {
    "duration": 7,
    "start_time": "2022-04-04T07:09:20.481Z"
   },
   {
    "duration": 14,
    "start_time": "2022-04-04T07:09:20.490Z"
   },
   {
    "duration": 9,
    "start_time": "2022-04-04T07:09:20.506Z"
   },
   {
    "duration": 270,
    "start_time": "2022-04-04T07:09:20.517Z"
   },
   {
    "duration": 196,
    "start_time": "2022-04-04T07:09:20.790Z"
   },
   {
    "duration": 220,
    "start_time": "2022-04-04T07:09:20.988Z"
   },
   {
    "duration": 161,
    "start_time": "2022-04-04T07:09:21.210Z"
   },
   {
    "duration": 6,
    "start_time": "2022-04-04T07:09:21.373Z"
   },
   {
    "duration": 13,
    "start_time": "2022-04-04T07:09:21.381Z"
   },
   {
    "duration": 12,
    "start_time": "2022-04-04T07:09:21.396Z"
   },
   {
    "duration": 162,
    "start_time": "2022-04-04T07:12:00.175Z"
   },
   {
    "duration": 287,
    "start_time": "2022-04-04T07:12:03.527Z"
   },
   {
    "duration": 266,
    "start_time": "2022-04-04T07:12:09.784Z"
   },
   {
    "duration": 291,
    "start_time": "2022-04-04T07:12:14.159Z"
   },
   {
    "duration": 271,
    "start_time": "2022-04-04T07:12:18.590Z"
   },
   {
    "duration": 280,
    "start_time": "2022-04-04T07:14:58.368Z"
   },
   {
    "duration": 28,
    "start_time": "2022-04-04T07:15:46.042Z"
   },
   {
    "duration": 19,
    "start_time": "2022-04-04T07:15:52.120Z"
   },
   {
    "duration": 13,
    "start_time": "2022-04-04T07:19:02.033Z"
   },
   {
    "duration": 16,
    "start_time": "2022-04-04T07:20:26.638Z"
   },
   {
    "duration": 17,
    "start_time": "2022-04-04T07:22:30.831Z"
   },
   {
    "duration": 307,
    "start_time": "2022-04-04T07:22:38.983Z"
   },
   {
    "duration": 23,
    "start_time": "2022-04-04T07:22:42.006Z"
   },
   {
    "duration": 429,
    "start_time": "2022-04-04T07:28:01.625Z"
   },
   {
    "duration": 440,
    "start_time": "2022-04-04T07:28:09.233Z"
   },
   {
    "duration": 421,
    "start_time": "2022-04-04T07:28:15.364Z"
   },
   {
    "duration": 426,
    "start_time": "2022-04-04T07:28:21.529Z"
   },
   {
    "duration": 427,
    "start_time": "2022-04-04T07:29:23.439Z"
   },
   {
    "duration": 435,
    "start_time": "2022-04-04T07:29:44.542Z"
   },
   {
    "duration": 423,
    "start_time": "2022-04-04T07:29:48.637Z"
   },
   {
    "duration": 435,
    "start_time": "2022-04-04T07:30:28.546Z"
   },
   {
    "duration": 446,
    "start_time": "2022-04-04T07:31:54.124Z"
   },
   {
    "duration": 678,
    "start_time": "2022-04-04T07:33:06.947Z"
   },
   {
    "duration": 435,
    "start_time": "2022-04-04T07:33:19.003Z"
   },
   {
    "duration": 464,
    "start_time": "2022-04-04T07:33:33.018Z"
   },
   {
    "duration": 515,
    "start_time": "2022-04-04T07:34:03.252Z"
   },
   {
    "duration": 467,
    "start_time": "2022-04-04T07:34:21.043Z"
   },
   {
    "duration": 407,
    "start_time": "2022-04-04T07:34:29.479Z"
   },
   {
    "duration": 432,
    "start_time": "2022-04-04T07:35:43.692Z"
   },
   {
    "duration": 478,
    "start_time": "2022-04-04T07:36:21.225Z"
   },
   {
    "duration": 299,
    "start_time": "2022-04-04T07:36:38.818Z"
   },
   {
    "duration": 340,
    "start_time": "2022-04-04T07:36:42.731Z"
   },
   {
    "duration": 301,
    "start_time": "2022-04-04T07:36:50.818Z"
   },
   {
    "duration": 529,
    "start_time": "2022-04-04T07:36:56.947Z"
   },
   {
    "duration": 324,
    "start_time": "2022-04-04T07:37:17.878Z"
   },
   {
    "duration": 300,
    "start_time": "2022-04-04T07:37:30.097Z"
   },
   {
    "duration": 13,
    "start_time": "2022-04-04T07:40:49.062Z"
   },
   {
    "duration": 14,
    "start_time": "2022-04-04T07:42:49.925Z"
   },
   {
    "duration": 12,
    "start_time": "2022-04-04T07:49:45.816Z"
   },
   {
    "duration": 231,
    "start_time": "2022-04-04T07:49:59.820Z"
   },
   {
    "duration": 25,
    "start_time": "2022-04-04T07:50:01.057Z"
   },
   {
    "duration": 290,
    "start_time": "2022-04-04T07:50:04.918Z"
   },
   {
    "duration": 8,
    "start_time": "2022-04-04T07:52:42.782Z"
   },
   {
    "duration": 15,
    "start_time": "2022-04-04T07:52:54.411Z"
   },
   {
    "duration": 6,
    "start_time": "2022-04-04T07:53:04.772Z"
   },
   {
    "duration": 10,
    "start_time": "2022-04-04T07:53:08.209Z"
   },
   {
    "duration": 129,
    "start_time": "2022-04-04T07:54:33.705Z"
   },
   {
    "duration": 12,
    "start_time": "2022-04-04T07:54:43.390Z"
   },
   {
    "duration": 9,
    "start_time": "2022-04-04T07:54:48.398Z"
   },
   {
    "duration": 6,
    "start_time": "2022-04-04T07:59:27.350Z"
   },
   {
    "duration": 122,
    "start_time": "2022-04-04T07:59:34.946Z"
   },
   {
    "duration": 5,
    "start_time": "2022-04-04T07:59:37.979Z"
   },
   {
    "duration": 6,
    "start_time": "2022-04-04T07:59:51.303Z"
   },
   {
    "duration": 9,
    "start_time": "2022-04-04T08:00:26.032Z"
   },
   {
    "duration": 1588,
    "start_time": "2022-04-04T08:00:41.981Z"
   },
   {
    "duration": 42,
    "start_time": "2022-04-04T08:00:43.572Z"
   },
   {
    "duration": 17,
    "start_time": "2022-04-04T08:00:43.617Z"
   },
   {
    "duration": 13,
    "start_time": "2022-04-04T08:00:43.637Z"
   },
   {
    "duration": 24,
    "start_time": "2022-04-04T08:00:43.652Z"
   },
   {
    "duration": 11,
    "start_time": "2022-04-04T08:00:43.678Z"
   },
   {
    "duration": 8,
    "start_time": "2022-04-04T08:00:43.691Z"
   },
   {
    "duration": 17,
    "start_time": "2022-04-04T08:00:43.701Z"
   },
   {
    "duration": 61,
    "start_time": "2022-04-04T08:00:43.721Z"
   },
   {
    "duration": 19,
    "start_time": "2022-04-04T08:00:43.787Z"
   },
   {
    "duration": 25,
    "start_time": "2022-04-04T08:00:43.808Z"
   },
   {
    "duration": 43,
    "start_time": "2022-04-04T08:00:43.836Z"
   },
   {
    "duration": 11,
    "start_time": "2022-04-04T08:00:43.882Z"
   },
   {
    "duration": 8,
    "start_time": "2022-04-04T08:00:43.896Z"
   },
   {
    "duration": 10,
    "start_time": "2022-04-04T08:00:43.907Z"
   },
   {
    "duration": 59,
    "start_time": "2022-04-04T08:00:43.920Z"
   },
   {
    "duration": 10,
    "start_time": "2022-04-04T08:00:43.981Z"
   },
   {
    "duration": 15,
    "start_time": "2022-04-04T08:00:43.994Z"
   },
   {
    "duration": 55,
    "start_time": "2022-04-04T08:00:44.012Z"
   },
   {
    "duration": 22,
    "start_time": "2022-04-04T08:00:44.070Z"
   },
   {
    "duration": 8,
    "start_time": "2022-04-04T08:00:44.095Z"
   },
   {
    "duration": 27,
    "start_time": "2022-04-04T08:00:44.106Z"
   },
   {
    "duration": 38,
    "start_time": "2022-04-04T08:00:44.136Z"
   },
   {
    "duration": 16,
    "start_time": "2022-04-04T08:00:44.177Z"
   },
   {
    "duration": 305,
    "start_time": "2022-04-04T08:00:44.195Z"
   },
   {
    "duration": 232,
    "start_time": "2022-04-04T08:00:44.503Z"
   },
   {
    "duration": 48,
    "start_time": "2022-04-04T08:00:44.738Z"
   },
   {
    "duration": 493,
    "start_time": "2022-04-04T08:00:44.796Z"
   },
   {
    "duration": 331,
    "start_time": "2022-04-04T08:00:45.292Z"
   },
   {
    "duration": 605,
    "start_time": "2022-04-04T08:00:45.625Z"
   },
   {
    "duration": 475,
    "start_time": "2022-04-04T08:00:46.233Z"
   },
   {
    "duration": 620,
    "start_time": "2022-04-04T08:00:46.711Z"
   },
   {
    "duration": 16,
    "start_time": "2022-04-04T08:00:47.334Z"
   },
   {
    "duration": 231,
    "start_time": "2022-04-04T08:00:47.369Z"
   },
   {
    "duration": 7,
    "start_time": "2022-04-04T08:00:47.602Z"
   },
   {
    "duration": 259,
    "start_time": "2022-04-04T08:00:47.611Z"
   },
   {
    "duration": 6,
    "start_time": "2022-04-04T08:00:47.873Z"
   },
   {
    "duration": 190,
    "start_time": "2022-04-04T08:00:47.881Z"
   },
   {
    "duration": 38,
    "start_time": "2022-04-04T08:00:48.074Z"
   },
   {
    "duration": 37,
    "start_time": "2022-04-04T08:00:48.114Z"
   },
   {
    "duration": 93,
    "start_time": "2022-04-04T08:00:48.153Z"
   },
   {
    "duration": 112,
    "start_time": "2022-04-04T08:00:48.248Z"
   },
   {
    "duration": 106,
    "start_time": "2022-04-04T08:00:48.362Z"
   },
   {
    "duration": 47,
    "start_time": "2022-04-04T08:00:48.470Z"
   },
   {
    "duration": 288,
    "start_time": "2022-04-04T08:00:48.519Z"
   },
   {
    "duration": 9,
    "start_time": "2022-04-04T08:00:48.810Z"
   },
   {
    "duration": 27,
    "start_time": "2022-04-04T08:00:48.821Z"
   },
   {
    "duration": 33,
    "start_time": "2022-04-04T08:00:48.851Z"
   },
   {
    "duration": 61,
    "start_time": "2022-04-04T08:00:48.887Z"
   },
   {
    "duration": 25,
    "start_time": "2022-04-04T08:00:48.952Z"
   },
   {
    "duration": 19,
    "start_time": "2022-04-04T08:00:48.980Z"
   },
   {
    "duration": 20,
    "start_time": "2022-04-04T08:00:49.001Z"
   },
   {
    "duration": 55,
    "start_time": "2022-04-04T08:00:49.023Z"
   },
   {
    "duration": 28,
    "start_time": "2022-04-04T08:00:49.081Z"
   },
   {
    "duration": 28,
    "start_time": "2022-04-04T08:00:49.112Z"
   },
   {
    "duration": 53,
    "start_time": "2022-04-04T08:00:49.143Z"
   },
   {
    "duration": 21,
    "start_time": "2022-04-04T08:00:49.198Z"
   },
   {
    "duration": 11,
    "start_time": "2022-04-04T08:00:49.222Z"
   },
   {
    "duration": 31,
    "start_time": "2022-04-04T08:00:49.236Z"
   },
   {
    "duration": 16,
    "start_time": "2022-04-04T08:00:49.270Z"
   },
   {
    "duration": 383,
    "start_time": "2022-04-04T08:00:49.288Z"
   },
   {
    "duration": 205,
    "start_time": "2022-04-04T08:00:49.673Z"
   },
   {
    "duration": 159,
    "start_time": "2022-04-04T08:00:49.880Z"
   },
   {
    "duration": 264,
    "start_time": "2022-04-04T08:00:50.041Z"
   },
   {
    "duration": 7,
    "start_time": "2022-04-04T08:00:50.309Z"
   },
   {
    "duration": 32,
    "start_time": "2022-04-04T08:00:50.319Z"
   },
   {
    "duration": 28,
    "start_time": "2022-04-04T08:00:50.354Z"
   },
   {
    "duration": 32,
    "start_time": "2022-04-04T08:05:23.137Z"
   },
   {
    "duration": 7,
    "start_time": "2022-04-04T08:05:48.309Z"
   },
   {
    "duration": 181,
    "start_time": "2022-04-04T08:05:53.401Z"
   },
   {
    "duration": 18,
    "start_time": "2022-04-04T08:06:03.822Z"
   },
   {
    "duration": 19,
    "start_time": "2022-04-04T08:06:29.209Z"
   },
   {
    "duration": 186,
    "start_time": "2022-04-04T08:06:32.472Z"
   },
   {
    "duration": 177,
    "start_time": "2022-04-04T08:06:55.358Z"
   },
   {
    "duration": 203,
    "start_time": "2022-04-04T08:07:08.540Z"
   },
   {
    "duration": 21,
    "start_time": "2022-04-04T08:11:46.221Z"
   },
   {
    "duration": 201,
    "start_time": "2022-04-04T08:17:20.405Z"
   },
   {
    "duration": 145,
    "start_time": "2022-04-04T08:18:13.871Z"
   },
   {
    "duration": 189,
    "start_time": "2022-04-04T08:21:00.785Z"
   },
   {
    "duration": 291,
    "start_time": "2022-04-04T08:21:01.655Z"
   },
   {
    "duration": 19,
    "start_time": "2022-04-04T08:23:00.014Z"
   },
   {
    "duration": 218,
    "start_time": "2022-04-04T08:23:28.006Z"
   },
   {
    "duration": 154,
    "start_time": "2022-04-04T08:23:30.048Z"
   },
   {
    "duration": 129,
    "start_time": "2022-04-04T08:24:11.958Z"
   },
   {
    "duration": 170,
    "start_time": "2022-04-04T08:32:53.063Z"
   },
   {
    "duration": 14,
    "start_time": "2022-04-04T08:32:57.566Z"
   },
   {
    "duration": 12,
    "start_time": "2022-04-04T08:33:22.330Z"
   },
   {
    "duration": 13,
    "start_time": "2022-04-04T08:34:20.861Z"
   },
   {
    "duration": 16,
    "start_time": "2022-04-04T08:34:31.477Z"
   },
   {
    "duration": 6,
    "start_time": "2022-04-04T08:34:55.013Z"
   },
   {
    "duration": 11,
    "start_time": "2022-04-04T08:35:01.243Z"
   },
   {
    "duration": 5,
    "start_time": "2022-04-04T08:35:54.934Z"
   },
   {
    "duration": 20,
    "start_time": "2022-04-04T08:36:39.680Z"
   },
   {
    "duration": 11,
    "start_time": "2022-04-04T08:36:51.814Z"
   },
   {
    "duration": 1687,
    "start_time": "2022-04-04T08:37:10.499Z"
   },
   {
    "duration": 12,
    "start_time": "2022-04-04T08:37:30.720Z"
   },
   {
    "duration": 14,
    "start_time": "2022-04-04T08:37:35.432Z"
   },
   {
    "duration": 1818,
    "start_time": "2022-04-04T08:37:43.476Z"
   },
   {
    "duration": 10,
    "start_time": "2022-04-04T08:38:00.183Z"
   },
   {
    "duration": 6,
    "start_time": "2022-04-04T08:38:05.556Z"
   },
   {
    "duration": 17,
    "start_time": "2022-04-04T08:38:19.815Z"
   },
   {
    "duration": 11,
    "start_time": "2022-04-04T08:39:58.683Z"
   },
   {
    "duration": 7,
    "start_time": "2022-04-04T08:40:38.052Z"
   },
   {
    "duration": 6,
    "start_time": "2022-04-04T08:41:21.853Z"
   },
   {
    "duration": 10,
    "start_time": "2022-04-04T08:41:38.185Z"
   },
   {
    "duration": 15,
    "start_time": "2022-04-04T08:41:52.483Z"
   },
   {
    "duration": 121,
    "start_time": "2022-04-04T08:41:56.200Z"
   },
   {
    "duration": 9,
    "start_time": "2022-04-04T08:42:03.210Z"
   },
   {
    "duration": 7,
    "start_time": "2022-04-04T08:42:19.413Z"
   },
   {
    "duration": 7,
    "start_time": "2022-04-04T08:42:53.825Z"
   },
   {
    "duration": 18,
    "start_time": "2022-04-04T08:45:27.549Z"
   },
   {
    "duration": 19,
    "start_time": "2022-04-04T08:45:45.519Z"
   },
   {
    "duration": 99,
    "start_time": "2022-04-04T08:45:51.483Z"
   },
   {
    "duration": 18,
    "start_time": "2022-04-04T08:45:56.174Z"
   },
   {
    "duration": 6,
    "start_time": "2022-04-04T08:46:03.333Z"
   },
   {
    "duration": 6,
    "start_time": "2022-04-04T08:49:28.045Z"
   },
   {
    "duration": 6,
    "start_time": "2022-04-04T08:49:33.650Z"
   },
   {
    "duration": 10,
    "start_time": "2022-04-04T08:49:35.912Z"
   },
   {
    "duration": 15,
    "start_time": "2022-04-04T08:49:46.723Z"
   },
   {
    "duration": 10,
    "start_time": "2022-04-04T08:49:52.840Z"
   },
   {
    "duration": 10,
    "start_time": "2022-04-04T08:50:03.491Z"
   },
   {
    "duration": 16,
    "start_time": "2022-04-04T08:50:33.664Z"
   },
   {
    "duration": 7,
    "start_time": "2022-04-04T08:51:13.185Z"
   },
   {
    "duration": 26,
    "start_time": "2022-04-04T08:51:59.859Z"
   },
   {
    "duration": 12,
    "start_time": "2022-04-04T08:52:16.224Z"
   },
   {
    "duration": 16,
    "start_time": "2022-04-04T08:53:47.297Z"
   },
   {
    "duration": 17,
    "start_time": "2022-04-04T08:53:57.105Z"
   },
   {
    "duration": 17,
    "start_time": "2022-04-04T08:54:04.107Z"
   },
   {
    "duration": 14,
    "start_time": "2022-04-04T08:54:13.531Z"
   },
   {
    "duration": 11,
    "start_time": "2022-04-04T08:54:21.556Z"
   },
   {
    "duration": 18,
    "start_time": "2022-04-04T08:55:07.871Z"
   },
   {
    "duration": 17,
    "start_time": "2022-04-04T08:55:19.277Z"
   },
   {
    "duration": 13,
    "start_time": "2022-04-04T08:56:08.599Z"
   },
   {
    "duration": 20,
    "start_time": "2022-04-04T08:56:15.117Z"
   },
   {
    "duration": 14,
    "start_time": "2022-04-04T08:56:25.285Z"
   },
   {
    "duration": 15,
    "start_time": "2022-04-04T08:59:01.079Z"
   },
   {
    "duration": 13,
    "start_time": "2022-04-04T08:59:05.043Z"
   },
   {
    "duration": 15,
    "start_time": "2022-04-04T09:00:32.611Z"
   },
   {
    "duration": 6,
    "start_time": "2022-04-04T09:06:04.059Z"
   },
   {
    "duration": 16,
    "start_time": "2022-04-04T09:06:07.215Z"
   },
   {
    "duration": 9,
    "start_time": "2022-04-04T09:06:26.005Z"
   },
   {
    "duration": 29,
    "start_time": "2022-04-04T09:07:11.070Z"
   },
   {
    "duration": 12,
    "start_time": "2022-04-04T09:07:34.408Z"
   },
   {
    "duration": 9,
    "start_time": "2022-04-04T09:07:44.143Z"
   },
   {
    "duration": 11,
    "start_time": "2022-04-04T09:07:57.278Z"
   },
   {
    "duration": 11,
    "start_time": "2022-04-04T09:08:21.333Z"
   },
   {
    "duration": 11,
    "start_time": "2022-04-04T09:08:24.067Z"
   },
   {
    "duration": 22,
    "start_time": "2022-04-04T09:08:28.558Z"
   },
   {
    "duration": 15,
    "start_time": "2022-04-04T09:08:50.284Z"
   },
   {
    "duration": 20,
    "start_time": "2022-04-04T09:09:17.861Z"
   },
   {
    "duration": 295,
    "start_time": "2022-04-04T09:09:33.942Z"
   },
   {
    "duration": 18,
    "start_time": "2022-04-04T09:10:13.401Z"
   },
   {
    "duration": 22,
    "start_time": "2022-04-04T09:10:33.587Z"
   },
   {
    "duration": 27,
    "start_time": "2022-04-04T09:10:48.407Z"
   },
   {
    "duration": 23,
    "start_time": "2022-04-04T09:10:56.126Z"
   },
   {
    "duration": 319,
    "start_time": "2022-04-04T09:11:00.709Z"
   },
   {
    "duration": 218,
    "start_time": "2022-04-04T09:11:07.685Z"
   },
   {
    "duration": 17,
    "start_time": "2022-04-04T09:11:16.596Z"
   },
   {
    "duration": 24,
    "start_time": "2022-04-04T09:11:30.401Z"
   },
   {
    "duration": 12,
    "start_time": "2022-04-04T09:11:36.807Z"
   },
   {
    "duration": 25,
    "start_time": "2022-04-04T09:11:56.012Z"
   },
   {
    "duration": 248,
    "start_time": "2022-04-04T09:12:11.805Z"
   },
   {
    "duration": 26,
    "start_time": "2022-04-04T09:12:14.584Z"
   },
   {
    "duration": 34,
    "start_time": "2022-04-04T09:13:39.546Z"
   },
   {
    "duration": 19,
    "start_time": "2022-04-04T09:13:54.759Z"
   },
   {
    "duration": 16,
    "start_time": "2022-04-04T09:14:14.850Z"
   },
   {
    "duration": 29,
    "start_time": "2022-04-04T09:14:18.192Z"
   },
   {
    "duration": 22,
    "start_time": "2022-04-04T09:14:21.806Z"
   },
   {
    "duration": 49,
    "start_time": "2022-04-04T09:16:07.784Z"
   },
   {
    "duration": 59,
    "start_time": "2022-04-04T09:16:30.172Z"
   },
   {
    "duration": 300,
    "start_time": "2022-04-04T09:16:52.338Z"
   },
   {
    "duration": 317,
    "start_time": "2022-04-04T09:18:01.522Z"
   },
   {
    "duration": 18,
    "start_time": "2022-04-04T09:18:34.794Z"
   },
   {
    "duration": 304,
    "start_time": "2022-04-04T09:19:03.324Z"
   },
   {
    "duration": 310,
    "start_time": "2022-04-04T09:19:12.421Z"
   },
   {
    "duration": 778,
    "start_time": "2022-04-04T09:21:48.307Z"
   },
   {
    "duration": 694,
    "start_time": "2022-04-04T09:22:04.708Z"
   },
   {
    "duration": 679,
    "start_time": "2022-04-04T09:22:15.353Z"
   },
   {
    "duration": 624,
    "start_time": "2022-04-04T09:23:42.429Z"
   },
   {
    "duration": 682,
    "start_time": "2022-04-04T09:23:48.746Z"
   },
   {
    "duration": 919,
    "start_time": "2022-04-04T09:23:55.264Z"
   },
   {
    "duration": 818,
    "start_time": "2022-04-04T09:24:11.210Z"
   },
   {
    "duration": 808,
    "start_time": "2022-04-04T09:24:15.837Z"
   },
   {
    "duration": 9,
    "start_time": "2022-04-04T09:24:59.056Z"
   },
   {
    "duration": 11,
    "start_time": "2022-04-04T09:25:07.100Z"
   },
   {
    "duration": 140,
    "start_time": "2022-04-04T09:25:41.181Z"
   },
   {
    "duration": 104,
    "start_time": "2022-04-04T09:25:46.527Z"
   },
   {
    "duration": 124,
    "start_time": "2022-04-04T09:26:07.743Z"
   },
   {
    "duration": 8,
    "start_time": "2022-04-04T09:26:52.096Z"
   },
   {
    "duration": 8,
    "start_time": "2022-04-04T09:26:52.316Z"
   },
   {
    "duration": 13,
    "start_time": "2022-04-04T09:27:54.893Z"
   },
   {
    "duration": 8,
    "start_time": "2022-04-04T09:28:01.384Z"
   },
   {
    "duration": 6,
    "start_time": "2022-04-04T09:28:01.940Z"
   },
   {
    "duration": 6,
    "start_time": "2022-04-04T09:28:14.907Z"
   },
   {
    "duration": 6,
    "start_time": "2022-04-04T09:28:20.083Z"
   },
   {
    "duration": 9,
    "start_time": "2022-04-04T09:28:27.131Z"
   },
   {
    "duration": 9,
    "start_time": "2022-04-04T09:28:30.449Z"
   },
   {
    "duration": 9,
    "start_time": "2022-04-04T09:28:35.010Z"
   },
   {
    "duration": 6,
    "start_time": "2022-04-04T09:28:37.030Z"
   },
   {
    "duration": 5,
    "start_time": "2022-04-04T09:28:52.099Z"
   },
   {
    "duration": 6,
    "start_time": "2022-04-04T09:28:55.792Z"
   },
   {
    "duration": 912,
    "start_time": "2022-04-04T09:29:14.649Z"
   },
   {
    "duration": 829,
    "start_time": "2022-04-04T09:30:53.312Z"
   },
   {
    "duration": 787,
    "start_time": "2022-04-04T09:30:57.851Z"
   },
   {
    "duration": 972,
    "start_time": "2022-04-04T09:31:10.660Z"
   },
   {
    "duration": 857,
    "start_time": "2022-04-04T09:31:31.928Z"
   },
   {
    "duration": 809,
    "start_time": "2022-04-04T09:32:02.937Z"
   },
   {
    "duration": 1508,
    "start_time": "2022-04-04T09:42:06.519Z"
   },
   {
    "duration": 57,
    "start_time": "2022-04-04T09:42:08.030Z"
   },
   {
    "duration": 17,
    "start_time": "2022-04-04T09:42:08.089Z"
   },
   {
    "duration": 11,
    "start_time": "2022-04-04T09:42:08.109Z"
   },
   {
    "duration": 11,
    "start_time": "2022-04-04T09:42:08.122Z"
   },
   {
    "duration": 12,
    "start_time": "2022-04-04T09:42:08.135Z"
   },
   {
    "duration": 28,
    "start_time": "2022-04-04T09:42:08.150Z"
   },
   {
    "duration": 26,
    "start_time": "2022-04-04T09:42:08.180Z"
   },
   {
    "duration": 20,
    "start_time": "2022-04-04T09:42:08.208Z"
   },
   {
    "duration": 47,
    "start_time": "2022-04-04T09:42:08.232Z"
   },
   {
    "duration": 21,
    "start_time": "2022-04-04T09:42:08.281Z"
   },
   {
    "duration": 17,
    "start_time": "2022-04-04T09:42:08.305Z"
   },
   {
    "duration": 8,
    "start_time": "2022-04-04T09:42:08.325Z"
   },
   {
    "duration": 41,
    "start_time": "2022-04-04T09:42:08.336Z"
   },
   {
    "duration": 9,
    "start_time": "2022-04-04T09:42:08.379Z"
   },
   {
    "duration": 16,
    "start_time": "2022-04-04T09:42:08.390Z"
   },
   {
    "duration": 8,
    "start_time": "2022-04-04T09:42:08.408Z"
   },
   {
    "duration": 11,
    "start_time": "2022-04-04T09:42:08.418Z"
   },
   {
    "duration": 36,
    "start_time": "2022-04-04T09:42:08.431Z"
   },
   {
    "duration": 23,
    "start_time": "2022-04-04T09:42:08.469Z"
   },
   {
    "duration": 5,
    "start_time": "2022-04-04T09:42:08.494Z"
   },
   {
    "duration": 17,
    "start_time": "2022-04-04T09:42:08.502Z"
   },
   {
    "duration": 60,
    "start_time": "2022-04-04T09:42:08.521Z"
   },
   {
    "duration": 7,
    "start_time": "2022-04-04T09:42:08.583Z"
   },
   {
    "duration": 15,
    "start_time": "2022-04-04T09:42:08.592Z"
   },
   {
    "duration": 13,
    "start_time": "2022-04-04T09:42:08.609Z"
   },
   {
    "duration": 70,
    "start_time": "2022-04-04T09:42:08.624Z"
   },
   {
    "duration": 11,
    "start_time": "2022-04-04T09:42:08.703Z"
   },
   {
    "duration": 14,
    "start_time": "2022-04-04T09:42:08.717Z"
   },
   {
    "duration": 7,
    "start_time": "2022-04-04T09:42:08.733Z"
   },
   {
    "duration": 829,
    "start_time": "2022-04-04T09:42:08.767Z"
   },
   {
    "duration": 234,
    "start_time": "2022-04-04T09:42:09.598Z"
   },
   {
    "duration": 152,
    "start_time": "2022-04-04T09:42:09.835Z"
   },
   {
    "duration": 228,
    "start_time": "2022-04-04T09:42:09.991Z"
   },
   {
    "duration": 167,
    "start_time": "2022-04-04T09:42:10.221Z"
   },
   {
    "duration": 8,
    "start_time": "2022-04-04T09:42:10.390Z"
   },
   {
    "duration": 14,
    "start_time": "2022-04-04T09:42:10.400Z"
   },
   {
    "duration": 318,
    "start_time": "2022-04-04T09:42:10.417Z"
   },
   {
    "duration": 246,
    "start_time": "2022-04-04T09:42:10.738Z"
   },
   {
    "duration": 22,
    "start_time": "2022-04-04T09:42:10.987Z"
   },
   {
    "duration": 589,
    "start_time": "2022-04-04T09:42:11.011Z"
   },
   {
    "duration": 349,
    "start_time": "2022-04-04T09:42:11.603Z"
   },
   {
    "duration": 477,
    "start_time": "2022-04-04T09:42:11.955Z"
   },
   {
    "duration": 344,
    "start_time": "2022-04-04T09:42:12.435Z"
   },
   {
    "duration": 449,
    "start_time": "2022-04-04T09:42:12.782Z"
   },
   {
    "duration": 14,
    "start_time": "2022-04-04T09:42:13.234Z"
   },
   {
    "duration": 241,
    "start_time": "2022-04-04T09:42:13.251Z"
   },
   {
    "duration": 6,
    "start_time": "2022-04-04T09:42:13.494Z"
   },
   {
    "duration": 259,
    "start_time": "2022-04-04T09:42:13.503Z"
   },
   {
    "duration": 6,
    "start_time": "2022-04-04T09:42:13.767Z"
   },
   {
    "duration": 127,
    "start_time": "2022-04-04T09:42:13.776Z"
   },
   {
    "duration": 12,
    "start_time": "2022-04-04T09:42:13.906Z"
   },
   {
    "duration": 12,
    "start_time": "2022-04-04T09:42:13.920Z"
   },
   {
    "duration": 104,
    "start_time": "2022-04-04T09:42:13.935Z"
   },
   {
    "duration": 143,
    "start_time": "2022-04-04T09:42:14.041Z"
   },
   {
    "duration": 139,
    "start_time": "2022-04-04T09:42:14.187Z"
   },
   {
    "duration": 78,
    "start_time": "2022-04-04T09:42:14.329Z"
   },
   {
    "duration": 281,
    "start_time": "2022-04-04T09:42:14.409Z"
   },
   {
    "duration": 10,
    "start_time": "2022-04-04T09:42:14.693Z"
   },
   {
    "duration": 43,
    "start_time": "2022-04-04T09:42:14.705Z"
   },
   {
    "duration": 18,
    "start_time": "2022-04-04T09:42:14.767Z"
   },
   {
    "duration": 16,
    "start_time": "2022-04-04T09:42:14.789Z"
   },
   {
    "duration": 14,
    "start_time": "2022-04-04T09:42:14.807Z"
   },
   {
    "duration": 78,
    "start_time": "2022-04-04T09:42:14.823Z"
   },
   {
    "duration": 21,
    "start_time": "2022-04-04T09:42:14.904Z"
   },
   {
    "duration": 141,
    "start_time": "2022-04-04T09:44:30.668Z"
   },
   {
    "duration": 233,
    "start_time": "2022-04-04T09:48:22.968Z"
   },
   {
    "duration": 305,
    "start_time": "2022-04-04T09:48:39.898Z"
   },
   {
    "duration": 159,
    "start_time": "2022-04-04T09:49:10.514Z"
   },
   {
    "duration": 196,
    "start_time": "2022-04-04T09:49:22.364Z"
   },
   {
    "duration": 1526,
    "start_time": "2022-04-05T05:08:38.252Z"
   },
   {
    "duration": 45,
    "start_time": "2022-04-05T05:08:39.781Z"
   },
   {
    "duration": 17,
    "start_time": "2022-04-05T05:08:39.828Z"
   },
   {
    "duration": 18,
    "start_time": "2022-04-05T05:08:39.847Z"
   },
   {
    "duration": 16,
    "start_time": "2022-04-05T05:08:39.868Z"
   },
   {
    "duration": 6,
    "start_time": "2022-04-05T05:08:39.886Z"
   },
   {
    "duration": 8,
    "start_time": "2022-04-05T05:08:39.894Z"
   },
   {
    "duration": 17,
    "start_time": "2022-04-05T05:08:39.904Z"
   },
   {
    "duration": 16,
    "start_time": "2022-04-05T05:08:39.923Z"
   },
   {
    "duration": 40,
    "start_time": "2022-04-05T05:08:39.941Z"
   },
   {
    "duration": 26,
    "start_time": "2022-04-05T05:08:39.984Z"
   },
   {
    "duration": 24,
    "start_time": "2022-04-05T05:08:40.012Z"
   },
   {
    "duration": 8,
    "start_time": "2022-04-05T05:08:40.038Z"
   },
   {
    "duration": 28,
    "start_time": "2022-04-05T05:08:40.051Z"
   },
   {
    "duration": 10,
    "start_time": "2022-04-05T05:08:40.081Z"
   },
   {
    "duration": 19,
    "start_time": "2022-04-05T05:08:40.093Z"
   },
   {
    "duration": 10,
    "start_time": "2022-04-05T05:08:40.114Z"
   },
   {
    "duration": 14,
    "start_time": "2022-04-05T05:08:40.126Z"
   },
   {
    "duration": 35,
    "start_time": "2022-04-05T05:08:40.142Z"
   },
   {
    "duration": 16,
    "start_time": "2022-04-05T05:08:40.179Z"
   },
   {
    "duration": 6,
    "start_time": "2022-04-05T05:08:40.197Z"
   },
   {
    "duration": 15,
    "start_time": "2022-04-05T05:08:40.205Z"
   },
   {
    "duration": 56,
    "start_time": "2022-04-05T05:08:40.222Z"
   },
   {
    "duration": 5,
    "start_time": "2022-04-05T05:08:40.281Z"
   },
   {
    "duration": 16,
    "start_time": "2022-04-05T05:08:40.288Z"
   },
   {
    "duration": 12,
    "start_time": "2022-04-05T05:08:40.307Z"
   },
   {
    "duration": 54,
    "start_time": "2022-04-05T05:08:40.321Z"
   },
   {
    "duration": 9,
    "start_time": "2022-04-05T05:08:40.377Z"
   },
   {
    "duration": 8,
    "start_time": "2022-04-05T05:08:40.389Z"
   },
   {
    "duration": 6,
    "start_time": "2022-04-05T05:08:40.399Z"
   },
   {
    "duration": 845,
    "start_time": "2022-04-05T05:08:40.407Z"
   },
   {
    "duration": 244,
    "start_time": "2022-04-05T05:08:41.254Z"
   },
   {
    "duration": 164,
    "start_time": "2022-04-05T05:08:41.501Z"
   },
   {
    "duration": 229,
    "start_time": "2022-04-05T05:08:41.668Z"
   },
   {
    "duration": 181,
    "start_time": "2022-04-05T05:08:41.900Z"
   },
   {
    "duration": 9,
    "start_time": "2022-04-05T05:08:42.084Z"
   },
   {
    "duration": 19,
    "start_time": "2022-04-05T05:08:42.095Z"
   },
   {
    "duration": 310,
    "start_time": "2022-04-05T05:08:42.116Z"
   },
   {
    "duration": 227,
    "start_time": "2022-04-05T05:08:42.429Z"
   },
   {
    "duration": 35,
    "start_time": "2022-04-05T05:08:42.658Z"
   },
   {
    "duration": 550,
    "start_time": "2022-04-05T05:08:42.701Z"
   },
   {
    "duration": 335,
    "start_time": "2022-04-05T05:08:43.253Z"
   },
   {
    "duration": 447,
    "start_time": "2022-04-05T05:08:43.590Z"
   },
   {
    "duration": 337,
    "start_time": "2022-04-05T05:08:44.039Z"
   },
   {
    "duration": 464,
    "start_time": "2022-04-05T05:08:44.379Z"
   },
   {
    "duration": 13,
    "start_time": "2022-04-05T05:08:44.845Z"
   },
   {
    "duration": 231,
    "start_time": "2022-04-05T05:08:44.860Z"
   },
   {
    "duration": 5,
    "start_time": "2022-04-05T05:08:45.094Z"
   },
   {
    "duration": 255,
    "start_time": "2022-04-05T05:08:45.101Z"
   },
   {
    "duration": 16,
    "start_time": "2022-04-05T05:08:45.358Z"
   },
   {
    "duration": 75,
    "start_time": "2022-04-05T05:08:45.376Z"
   },
   {
    "duration": 30,
    "start_time": "2022-04-05T05:08:45.453Z"
   },
   {
    "duration": 11,
    "start_time": "2022-04-05T05:08:45.485Z"
   },
   {
    "duration": 96,
    "start_time": "2022-04-05T05:08:45.498Z"
   },
   {
    "duration": 101,
    "start_time": "2022-04-05T05:08:45.596Z"
   },
   {
    "duration": 109,
    "start_time": "2022-04-05T05:08:45.699Z"
   },
   {
    "duration": 51,
    "start_time": "2022-04-05T05:08:45.811Z"
   },
   {
    "duration": 302,
    "start_time": "2022-04-05T05:08:45.864Z"
   },
   {
    "duration": 8,
    "start_time": "2022-04-05T05:08:46.169Z"
   },
   {
    "duration": 37,
    "start_time": "2022-04-05T05:08:46.179Z"
   },
   {
    "duration": 14,
    "start_time": "2022-04-05T05:08:46.218Z"
   },
   {
    "duration": 45,
    "start_time": "2022-04-05T05:08:46.234Z"
   },
   {
    "duration": 12,
    "start_time": "2022-04-05T05:08:46.281Z"
   },
   {
    "duration": 33,
    "start_time": "2022-04-05T05:08:46.296Z"
   },
   {
    "duration": 51,
    "start_time": "2022-04-05T05:08:46.332Z"
   },
   {
    "duration": 73,
    "start_time": "2022-04-05T06:10:35.287Z"
   },
   {
    "duration": 1821,
    "start_time": "2022-04-05T06:10:41.229Z"
   },
   {
    "duration": 48,
    "start_time": "2022-04-05T06:10:43.053Z"
   },
   {
    "duration": 17,
    "start_time": "2022-04-05T06:10:43.103Z"
   },
   {
    "duration": 12,
    "start_time": "2022-04-05T06:10:43.123Z"
   },
   {
    "duration": 15,
    "start_time": "2022-04-05T06:10:43.136Z"
   },
   {
    "duration": 5,
    "start_time": "2022-04-05T06:10:43.153Z"
   },
   {
    "duration": 28,
    "start_time": "2022-04-05T06:10:43.161Z"
   },
   {
    "duration": 19,
    "start_time": "2022-04-05T06:10:43.191Z"
   },
   {
    "duration": 18,
    "start_time": "2022-04-05T06:10:43.212Z"
   },
   {
    "duration": 17,
    "start_time": "2022-04-05T06:10:43.234Z"
   },
   {
    "duration": 44,
    "start_time": "2022-04-05T06:10:43.254Z"
   },
   {
    "duration": 17,
    "start_time": "2022-04-05T06:10:43.301Z"
   },
   {
    "duration": 9,
    "start_time": "2022-04-05T06:10:43.320Z"
   },
   {
    "duration": 8,
    "start_time": "2022-04-05T06:10:43.332Z"
   },
   {
    "duration": 45,
    "start_time": "2022-04-05T06:10:43.342Z"
   },
   {
    "duration": 18,
    "start_time": "2022-04-05T06:10:43.389Z"
   },
   {
    "duration": 9,
    "start_time": "2022-04-05T06:10:43.409Z"
   },
   {
    "duration": 9,
    "start_time": "2022-04-05T06:10:43.421Z"
   },
   {
    "duration": 6,
    "start_time": "2022-04-05T06:10:43.433Z"
   },
   {
    "duration": 53,
    "start_time": "2022-04-05T06:10:43.442Z"
   },
   {
    "duration": 8,
    "start_time": "2022-04-05T06:10:43.498Z"
   },
   {
    "duration": 26,
    "start_time": "2022-04-05T06:10:43.508Z"
   },
   {
    "duration": 117,
    "start_time": "2022-04-05T06:10:43.537Z"
   },
   {
    "duration": 0,
    "start_time": "2022-04-05T06:10:43.658Z"
   },
   {
    "duration": 0,
    "start_time": "2022-04-05T06:10:43.660Z"
   },
   {
    "duration": 0,
    "start_time": "2022-04-05T06:10:43.662Z"
   },
   {
    "duration": 0,
    "start_time": "2022-04-05T06:10:43.663Z"
   },
   {
    "duration": 0,
    "start_time": "2022-04-05T06:10:43.665Z"
   },
   {
    "duration": 0,
    "start_time": "2022-04-05T06:10:43.666Z"
   },
   {
    "duration": 0,
    "start_time": "2022-04-05T06:10:43.668Z"
   },
   {
    "duration": 0,
    "start_time": "2022-04-05T06:10:43.669Z"
   },
   {
    "duration": 0,
    "start_time": "2022-04-05T06:10:43.671Z"
   },
   {
    "duration": 0,
    "start_time": "2022-04-05T06:10:43.672Z"
   },
   {
    "duration": 0,
    "start_time": "2022-04-05T06:10:43.673Z"
   },
   {
    "duration": 0,
    "start_time": "2022-04-05T06:10:43.675Z"
   },
   {
    "duration": 0,
    "start_time": "2022-04-05T06:10:43.677Z"
   },
   {
    "duration": 0,
    "start_time": "2022-04-05T06:10:43.678Z"
   },
   {
    "duration": 0,
    "start_time": "2022-04-05T06:10:43.679Z"
   },
   {
    "duration": 0,
    "start_time": "2022-04-05T06:10:43.681Z"
   },
   {
    "duration": 0,
    "start_time": "2022-04-05T06:10:43.683Z"
   },
   {
    "duration": 0,
    "start_time": "2022-04-05T06:10:43.685Z"
   },
   {
    "duration": 0,
    "start_time": "2022-04-05T06:10:43.686Z"
   },
   {
    "duration": 0,
    "start_time": "2022-04-05T06:10:43.687Z"
   },
   {
    "duration": 0,
    "start_time": "2022-04-05T06:10:43.688Z"
   },
   {
    "duration": 0,
    "start_time": "2022-04-05T06:10:43.690Z"
   },
   {
    "duration": 0,
    "start_time": "2022-04-05T06:10:43.691Z"
   },
   {
    "duration": 0,
    "start_time": "2022-04-05T06:10:43.692Z"
   },
   {
    "duration": 0,
    "start_time": "2022-04-05T06:10:43.694Z"
   },
   {
    "duration": 0,
    "start_time": "2022-04-05T06:10:43.695Z"
   },
   {
    "duration": 0,
    "start_time": "2022-04-05T06:10:43.697Z"
   },
   {
    "duration": 0,
    "start_time": "2022-04-05T06:10:43.698Z"
   },
   {
    "duration": 0,
    "start_time": "2022-04-05T06:10:43.700Z"
   },
   {
    "duration": 0,
    "start_time": "2022-04-05T06:10:43.701Z"
   },
   {
    "duration": 0,
    "start_time": "2022-04-05T06:10:43.703Z"
   },
   {
    "duration": 0,
    "start_time": "2022-04-05T06:10:43.704Z"
   },
   {
    "duration": 0,
    "start_time": "2022-04-05T06:10:43.706Z"
   },
   {
    "duration": 0,
    "start_time": "2022-04-05T06:10:43.707Z"
   },
   {
    "duration": 0,
    "start_time": "2022-04-05T06:10:43.708Z"
   },
   {
    "duration": 0,
    "start_time": "2022-04-05T06:10:43.709Z"
   },
   {
    "duration": 0,
    "start_time": "2022-04-05T06:10:43.711Z"
   },
   {
    "duration": 0,
    "start_time": "2022-04-05T06:10:43.712Z"
   },
   {
    "duration": 0,
    "start_time": "2022-04-05T06:10:43.714Z"
   },
   {
    "duration": 0,
    "start_time": "2022-04-05T06:10:43.715Z"
   },
   {
    "duration": 0,
    "start_time": "2022-04-05T06:10:43.716Z"
   },
   {
    "duration": 0,
    "start_time": "2022-04-05T06:10:43.718Z"
   },
   {
    "duration": 0,
    "start_time": "2022-04-05T06:10:43.719Z"
   },
   {
    "duration": 0,
    "start_time": "2022-04-05T06:10:43.721Z"
   },
   {
    "duration": 0,
    "start_time": "2022-04-05T06:10:43.722Z"
   },
   {
    "duration": 5,
    "start_time": "2022-04-05T06:12:02.421Z"
   },
   {
    "duration": 16,
    "start_time": "2022-04-05T06:12:10.205Z"
   },
   {
    "duration": 144,
    "start_time": "2022-04-05T06:12:41.217Z"
   },
   {
    "duration": 41,
    "start_time": "2022-04-05T06:12:53.590Z"
   },
   {
    "duration": 1822,
    "start_time": "2022-04-05T06:13:30.346Z"
   },
   {
    "duration": 1739,
    "start_time": "2022-04-05T06:13:39.576Z"
   },
   {
    "duration": 1698,
    "start_time": "2022-04-05T06:14:11.742Z"
   },
   {
    "duration": 11,
    "start_time": "2022-04-05T06:14:34.756Z"
   },
   {
    "duration": 4,
    "start_time": "2022-04-05T06:14:59.120Z"
   },
   {
    "duration": 8571,
    "start_time": "2022-04-05T06:15:05.797Z"
   },
   {
    "duration": 5,
    "start_time": "2022-04-05T06:15:25.875Z"
   },
   {
    "duration": 48,
    "start_time": "2022-04-05T06:15:25.882Z"
   },
   {
    "duration": 12,
    "start_time": "2022-04-05T06:15:25.932Z"
   },
   {
    "duration": 16,
    "start_time": "2022-04-05T06:15:25.946Z"
   },
   {
    "duration": 107,
    "start_time": "2022-04-05T06:15:25.964Z"
   },
   {
    "duration": 8,
    "start_time": "2022-04-05T06:15:26.073Z"
   },
   {
    "duration": 9,
    "start_time": "2022-04-05T06:15:26.084Z"
   },
   {
    "duration": 21,
    "start_time": "2022-04-05T06:15:26.096Z"
   },
   {
    "duration": 19,
    "start_time": "2022-04-05T06:15:26.119Z"
   },
   {
    "duration": 26,
    "start_time": "2022-04-05T06:15:26.140Z"
   },
   {
    "duration": 40,
    "start_time": "2022-04-05T06:15:26.169Z"
   },
   {
    "duration": 19,
    "start_time": "2022-04-05T06:15:26.211Z"
   },
   {
    "duration": 13,
    "start_time": "2022-04-05T06:15:26.232Z"
   },
   {
    "duration": 10,
    "start_time": "2022-04-05T06:15:26.247Z"
   },
   {
    "duration": 8,
    "start_time": "2022-04-05T06:15:26.283Z"
   },
   {
    "duration": 14,
    "start_time": "2022-04-05T06:15:26.293Z"
   },
   {
    "duration": 12,
    "start_time": "2022-04-05T06:15:26.310Z"
   },
   {
    "duration": 11,
    "start_time": "2022-04-05T06:15:26.324Z"
   },
   {
    "duration": 4,
    "start_time": "2022-04-05T06:15:40.476Z"
   },
   {
    "duration": 6,
    "start_time": "2022-04-05T06:15:42.940Z"
   },
   {
    "duration": 17,
    "start_time": "2022-04-05T06:15:48.455Z"
   },
   {
    "duration": 7,
    "start_time": "2022-04-05T06:16:11.841Z"
   },
   {
    "duration": 14,
    "start_time": "2022-04-05T06:16:12.916Z"
   },
   {
    "duration": 12,
    "start_time": "2022-04-05T06:16:43.169Z"
   },
   {
    "duration": 5,
    "start_time": "2022-04-05T06:16:45.818Z"
   },
   {
    "duration": 16,
    "start_time": "2022-04-05T06:17:01.487Z"
   },
   {
    "duration": 19,
    "start_time": "2022-04-05T06:17:13.749Z"
   },
   {
    "duration": 17,
    "start_time": "2022-04-05T06:25:38.591Z"
   },
   {
    "duration": 14,
    "start_time": "2022-04-05T06:25:45.858Z"
   },
   {
    "duration": 6,
    "start_time": "2022-04-05T06:26:36.803Z"
   },
   {
    "duration": 14,
    "start_time": "2022-04-05T06:26:39.695Z"
   },
   {
    "duration": 6,
    "start_time": "2022-04-05T06:27:00.422Z"
   },
   {
    "duration": 14,
    "start_time": "2022-04-05T06:27:01.666Z"
   },
   {
    "duration": 5,
    "start_time": "2022-04-05T06:27:06.571Z"
   },
   {
    "duration": 19,
    "start_time": "2022-04-05T06:27:07.854Z"
   },
   {
    "duration": 14,
    "start_time": "2022-04-05T06:27:20.990Z"
   },
   {
    "duration": 23,
    "start_time": "2022-04-05T06:27:27.205Z"
   },
   {
    "duration": 16,
    "start_time": "2022-04-05T06:28:24.826Z"
   },
   {
    "duration": 14,
    "start_time": "2022-04-05T06:28:31.575Z"
   },
   {
    "duration": 22,
    "start_time": "2022-04-05T06:31:40.122Z"
   },
   {
    "duration": 23,
    "start_time": "2022-04-05T06:31:42.371Z"
   },
   {
    "duration": 5,
    "start_time": "2022-04-05T06:31:51.444Z"
   },
   {
    "duration": 17,
    "start_time": "2022-04-05T06:31:54.095Z"
   },
   {
    "duration": 7,
    "start_time": "2022-04-05T06:32:00.149Z"
   },
   {
    "duration": 3,
    "start_time": "2022-04-05T06:32:01.047Z"
   },
   {
    "duration": 4,
    "start_time": "2022-04-05T06:32:04.244Z"
   },
   {
    "duration": 13,
    "start_time": "2022-04-05T06:32:14.226Z"
   },
   {
    "duration": 19,
    "start_time": "2022-04-05T06:32:42.286Z"
   },
   {
    "duration": 14,
    "start_time": "2022-04-05T06:32:47.521Z"
   },
   {
    "duration": 7,
    "start_time": "2022-04-05T06:32:55.140Z"
   },
   {
    "duration": 15,
    "start_time": "2022-04-05T06:32:57.036Z"
   },
   {
    "duration": 11,
    "start_time": "2022-04-05T06:32:59.207Z"
   },
   {
    "duration": 12,
    "start_time": "2022-04-05T06:33:10.566Z"
   },
   {
    "duration": 4,
    "start_time": "2022-04-05T06:33:12.893Z"
   },
   {
    "duration": 6,
    "start_time": "2022-04-05T06:33:13.417Z"
   },
   {
    "duration": 15,
    "start_time": "2022-04-05T06:33:16.497Z"
   },
   {
    "duration": 8,
    "start_time": "2022-04-05T06:34:21.152Z"
   },
   {
    "duration": 14,
    "start_time": "2022-04-05T06:34:26.895Z"
   },
   {
    "duration": 4,
    "start_time": "2022-04-05T06:34:41.280Z"
   },
   {
    "duration": 8,
    "start_time": "2022-04-05T06:34:41.686Z"
   },
   {
    "duration": 7,
    "start_time": "2022-04-05T06:34:54.891Z"
   },
   {
    "duration": 18,
    "start_time": "2022-04-05T06:34:55.636Z"
   },
   {
    "duration": 4,
    "start_time": "2022-04-05T06:35:07.032Z"
   },
   {
    "duration": 6,
    "start_time": "2022-04-05T06:35:07.421Z"
   },
   {
    "duration": 6,
    "start_time": "2022-04-05T06:35:10.581Z"
   },
   {
    "duration": 6,
    "start_time": "2022-04-05T06:35:12.045Z"
   },
   {
    "duration": 19,
    "start_time": "2022-04-05T06:35:13.485Z"
   },
   {
    "duration": 6,
    "start_time": "2022-04-05T06:36:21.296Z"
   },
   {
    "duration": 5,
    "start_time": "2022-04-05T06:36:38.921Z"
   },
   {
    "duration": 14,
    "start_time": "2022-04-05T06:36:41.053Z"
   },
   {
    "duration": 5,
    "start_time": "2022-04-05T06:37:56.888Z"
   },
   {
    "duration": 17,
    "start_time": "2022-04-05T06:38:00.253Z"
   },
   {
    "duration": 6,
    "start_time": "2022-04-05T06:38:20.269Z"
   },
   {
    "duration": 5,
    "start_time": "2022-04-05T06:38:20.739Z"
   },
   {
    "duration": 18,
    "start_time": "2022-04-05T06:38:21.210Z"
   },
   {
    "duration": 7,
    "start_time": "2022-04-05T06:38:27.802Z"
   },
   {
    "duration": 15,
    "start_time": "2022-04-05T06:38:28.241Z"
   },
   {
    "duration": 7,
    "start_time": "2022-04-05T06:38:35.492Z"
   },
   {
    "duration": 5,
    "start_time": "2022-04-05T06:38:35.919Z"
   },
   {
    "duration": 14,
    "start_time": "2022-04-05T06:38:36.609Z"
   },
   {
    "duration": 10,
    "start_time": "2022-04-05T06:40:18.694Z"
   },
   {
    "duration": 12,
    "start_time": "2022-04-05T06:40:30.692Z"
   },
   {
    "duration": 8,
    "start_time": "2022-04-05T06:40:49.125Z"
   },
   {
    "duration": 20,
    "start_time": "2022-04-05T06:40:51.707Z"
   },
   {
    "duration": 14,
    "start_time": "2022-04-05T06:41:33.952Z"
   },
   {
    "duration": 7,
    "start_time": "2022-04-05T06:41:39.587Z"
   },
   {
    "duration": 10,
    "start_time": "2022-04-05T06:41:41.806Z"
   },
   {
    "duration": 21,
    "start_time": "2022-04-05T06:42:52.611Z"
   },
   {
    "duration": 10,
    "start_time": "2022-04-05T06:43:00.429Z"
   },
   {
    "duration": 14,
    "start_time": "2022-04-05T06:43:01.111Z"
   },
   {
    "duration": 11,
    "start_time": "2022-04-05T06:43:15.585Z"
   },
   {
    "duration": 23,
    "start_time": "2022-04-05T06:43:16.250Z"
   },
   {
    "duration": 9,
    "start_time": "2022-04-05T06:43:25.757Z"
   },
   {
    "duration": 22,
    "start_time": "2022-04-05T06:43:26.818Z"
   },
   {
    "duration": 7,
    "start_time": "2022-04-05T06:43:54.611Z"
   },
   {
    "duration": 14,
    "start_time": "2022-04-05T06:43:56.046Z"
   },
   {
    "duration": 7,
    "start_time": "2022-04-05T06:44:13.165Z"
   },
   {
    "duration": 4,
    "start_time": "2022-04-05T06:44:47.234Z"
   },
   {
    "duration": 6,
    "start_time": "2022-04-05T06:44:47.441Z"
   },
   {
    "duration": 7,
    "start_time": "2022-04-05T06:44:49.963Z"
   },
   {
    "duration": 15,
    "start_time": "2022-04-05T06:44:50.145Z"
   },
   {
    "duration": 15,
    "start_time": "2022-04-05T06:45:08.717Z"
   },
   {
    "duration": 5,
    "start_time": "2022-04-05T06:45:18.264Z"
   },
   {
    "duration": 14,
    "start_time": "2022-04-05T06:45:21.412Z"
   },
   {
    "duration": 6,
    "start_time": "2022-04-05T06:46:17.699Z"
   },
   {
    "duration": 13,
    "start_time": "2022-04-05T06:46:20.084Z"
   },
   {
    "duration": 19,
    "start_time": "2022-04-05T06:46:58.951Z"
   },
   {
    "duration": 16,
    "start_time": "2022-04-05T06:47:11.159Z"
   },
   {
    "duration": 4,
    "start_time": "2022-04-05T06:47:16.169Z"
   },
   {
    "duration": 6,
    "start_time": "2022-04-05T06:47:16.418Z"
   },
   {
    "duration": 16,
    "start_time": "2022-04-05T06:47:17.221Z"
   },
   {
    "duration": 16,
    "start_time": "2022-04-05T06:47:36.044Z"
   },
   {
    "duration": 14,
    "start_time": "2022-04-05T06:47:42.031Z"
   },
   {
    "duration": 5,
    "start_time": "2022-04-05T06:47:44.653Z"
   },
   {
    "duration": 15,
    "start_time": "2022-04-05T06:47:45.245Z"
   },
   {
    "duration": 5,
    "start_time": "2022-04-05T06:48:17.402Z"
   },
   {
    "duration": 15,
    "start_time": "2022-04-05T06:48:17.824Z"
   },
   {
    "duration": 24,
    "start_time": "2022-04-05T06:49:57.535Z"
   },
   {
    "duration": 14,
    "start_time": "2022-04-05T06:50:14.321Z"
   },
   {
    "duration": 13,
    "start_time": "2022-04-05T06:50:19.096Z"
   },
   {
    "duration": 7,
    "start_time": "2022-04-05T06:51:05.412Z"
   },
   {
    "duration": 14,
    "start_time": "2022-04-05T06:51:06.256Z"
   },
   {
    "duration": 4,
    "start_time": "2022-04-05T06:51:31.687Z"
   },
   {
    "duration": 6,
    "start_time": "2022-04-05T06:51:31.990Z"
   },
   {
    "duration": 16,
    "start_time": "2022-04-05T06:51:32.162Z"
   },
   {
    "duration": 7,
    "start_time": "2022-04-05T06:51:36.532Z"
   },
   {
    "duration": 17,
    "start_time": "2022-04-05T06:51:36.882Z"
   },
   {
    "duration": 7,
    "start_time": "2022-04-05T06:51:38.968Z"
   },
   {
    "duration": 24,
    "start_time": "2022-04-05T06:51:39.374Z"
   },
   {
    "duration": 7,
    "start_time": "2022-04-05T06:51:41.900Z"
   },
   {
    "duration": 22,
    "start_time": "2022-04-05T06:51:42.287Z"
   },
   {
    "duration": 8,
    "start_time": "2022-04-05T06:51:44.587Z"
   },
   {
    "duration": 10,
    "start_time": "2022-04-05T06:51:45.317Z"
   },
   {
    "duration": 15,
    "start_time": "2022-04-05T06:53:46.898Z"
   },
   {
    "duration": 13,
    "start_time": "2022-04-05T06:53:58.812Z"
   },
   {
    "duration": 13,
    "start_time": "2022-04-05T06:58:15.700Z"
   },
   {
    "duration": 10,
    "start_time": "2022-04-05T06:59:54.741Z"
   },
   {
    "duration": 12,
    "start_time": "2022-04-05T07:00:25.156Z"
   },
   {
    "duration": 10,
    "start_time": "2022-04-05T07:00:34.830Z"
   },
   {
    "duration": 12,
    "start_time": "2022-04-05T07:00:46.152Z"
   },
   {
    "duration": 10,
    "start_time": "2022-04-05T07:00:47.371Z"
   },
   {
    "duration": 14,
    "start_time": "2022-04-05T07:01:31.191Z"
   },
   {
    "duration": 11,
    "start_time": "2022-04-05T07:01:31.940Z"
   },
   {
    "duration": 15,
    "start_time": "2022-04-05T07:01:39.881Z"
   },
   {
    "duration": 11,
    "start_time": "2022-04-05T07:05:27.913Z"
   },
   {
    "duration": 16,
    "start_time": "2022-04-05T07:05:28.805Z"
   },
   {
    "duration": 11,
    "start_time": "2022-04-05T07:06:10.808Z"
   },
   {
    "duration": 9,
    "start_time": "2022-04-05T07:06:45.314Z"
   },
   {
    "duration": 11,
    "start_time": "2022-04-05T07:06:46.211Z"
   },
   {
    "duration": 251,
    "start_time": "2022-04-05T07:07:01.845Z"
   },
   {
    "duration": 14,
    "start_time": "2022-04-05T07:07:06.437Z"
   },
   {
    "duration": 24,
    "start_time": "2022-04-05T07:07:36.632Z"
   },
   {
    "duration": 9,
    "start_time": "2022-04-05T07:07:40.724Z"
   },
   {
    "duration": 7,
    "start_time": "2022-04-05T07:07:53.393Z"
   },
   {
    "duration": 300,
    "start_time": "2022-04-05T07:07:58.607Z"
   },
   {
    "duration": 555,
    "start_time": "2022-04-05T07:08:05.020Z"
   },
   {
    "duration": 16,
    "start_time": "2022-04-05T07:08:17.279Z"
   },
   {
    "duration": 9,
    "start_time": "2022-04-05T07:08:24.651Z"
   },
   {
    "duration": 22,
    "start_time": "2022-04-05T07:08:26.330Z"
   },
   {
    "duration": 10,
    "start_time": "2022-04-05T07:08:29.238Z"
   },
   {
    "duration": 5,
    "start_time": "2022-04-05T07:13:29.444Z"
   },
   {
    "duration": 9,
    "start_time": "2022-04-05T07:13:31.551Z"
   },
   {
    "duration": 3,
    "start_time": "2022-04-05T07:14:09.212Z"
   },
   {
    "duration": 5,
    "start_time": "2022-04-05T07:14:10.532Z"
   },
   {
    "duration": 3,
    "start_time": "2022-04-05T07:14:36.099Z"
   },
   {
    "duration": 337,
    "start_time": "2022-04-05T07:16:16.546Z"
   },
   {
    "duration": 435,
    "start_time": "2022-04-05T07:16:32.860Z"
   },
   {
    "duration": 11,
    "start_time": "2022-04-05T07:16:37.565Z"
   },
   {
    "duration": 208,
    "start_time": "2022-04-05T07:19:29.017Z"
   },
   {
    "duration": 293,
    "start_time": "2022-04-05T07:19:44.252Z"
   },
   {
    "duration": 216,
    "start_time": "2022-04-05T07:22:06.488Z"
   },
   {
    "duration": 265,
    "start_time": "2022-04-05T07:24:51.494Z"
   },
   {
    "duration": 20,
    "start_time": "2022-04-05T07:24:56.440Z"
   },
   {
    "duration": 21,
    "start_time": "2022-04-05T07:25:07.072Z"
   },
   {
    "duration": 10,
    "start_time": "2022-04-05T07:27:25.849Z"
   },
   {
    "duration": 11,
    "start_time": "2022-04-05T07:27:27.337Z"
   },
   {
    "duration": 169,
    "start_time": "2022-04-05T07:28:46.521Z"
   },
   {
    "duration": 235,
    "start_time": "2022-04-05T07:30:00.622Z"
   },
   {
    "duration": 219,
    "start_time": "2022-04-05T07:30:09.178Z"
   },
   {
    "duration": 184,
    "start_time": "2022-04-05T07:30:29.811Z"
   },
   {
    "duration": 185,
    "start_time": "2022-04-05T07:30:36.608Z"
   },
   {
    "duration": 359,
    "start_time": "2022-04-05T07:31:54.927Z"
   },
   {
    "duration": 188,
    "start_time": "2022-04-05T07:32:08.006Z"
   },
   {
    "duration": 6,
    "start_time": "2022-04-05T07:32:16.800Z"
   },
   {
    "duration": 238,
    "start_time": "2022-04-05T07:32:28.602Z"
   },
   {
    "duration": 229,
    "start_time": "2022-04-05T07:32:42.936Z"
   },
   {
    "duration": 372,
    "start_time": "2022-04-05T07:33:02.659Z"
   },
   {
    "duration": 447,
    "start_time": "2022-04-05T07:33:51.673Z"
   },
   {
    "duration": 294,
    "start_time": "2022-04-05T07:34:13.481Z"
   },
   {
    "duration": 409,
    "start_time": "2022-04-05T07:34:32.556Z"
   },
   {
    "duration": 281,
    "start_time": "2022-04-05T07:34:42.819Z"
   },
   {
    "duration": 299,
    "start_time": "2022-04-05T07:34:48.577Z"
   },
   {
    "duration": 287,
    "start_time": "2022-04-05T07:37:02.987Z"
   },
   {
    "duration": 1578,
    "start_time": "2022-04-05T07:38:57.557Z"
   },
   {
    "duration": 49,
    "start_time": "2022-04-05T07:38:59.138Z"
   },
   {
    "duration": 17,
    "start_time": "2022-04-05T07:38:59.189Z"
   },
   {
    "duration": 12,
    "start_time": "2022-04-05T07:38:59.209Z"
   },
   {
    "duration": 16,
    "start_time": "2022-04-05T07:38:59.224Z"
   },
   {
    "duration": 7,
    "start_time": "2022-04-05T07:38:59.242Z"
   },
   {
    "duration": 34,
    "start_time": "2022-04-05T07:38:59.251Z"
   },
   {
    "duration": 19,
    "start_time": "2022-04-05T07:38:59.287Z"
   },
   {
    "duration": 19,
    "start_time": "2022-04-05T07:38:59.308Z"
   },
   {
    "duration": 18,
    "start_time": "2022-04-05T07:38:59.331Z"
   },
   {
    "duration": 51,
    "start_time": "2022-04-05T07:38:59.351Z"
   },
   {
    "duration": 21,
    "start_time": "2022-04-05T07:38:59.404Z"
   },
   {
    "duration": 26,
    "start_time": "2022-04-05T07:38:59.427Z"
   },
   {
    "duration": 12,
    "start_time": "2022-04-05T07:38:59.455Z"
   },
   {
    "duration": 16,
    "start_time": "2022-04-05T07:38:59.469Z"
   },
   {
    "duration": 22,
    "start_time": "2022-04-05T07:38:59.487Z"
   },
   {
    "duration": 11,
    "start_time": "2022-04-05T07:38:59.511Z"
   },
   {
    "duration": 14,
    "start_time": "2022-04-05T07:38:59.524Z"
   },
   {
    "duration": 17,
    "start_time": "2022-04-05T07:38:59.541Z"
   },
   {
    "duration": 26,
    "start_time": "2022-04-05T07:38:59.560Z"
   },
   {
    "duration": 20,
    "start_time": "2022-04-05T07:38:59.588Z"
   },
   {
    "duration": 8,
    "start_time": "2022-04-05T07:38:59.611Z"
   },
   {
    "duration": 20,
    "start_time": "2022-04-05T07:38:59.622Z"
   },
   {
    "duration": 6,
    "start_time": "2022-04-05T07:38:59.645Z"
   },
   {
    "duration": 15,
    "start_time": "2022-04-05T07:38:59.684Z"
   },
   {
    "duration": 8,
    "start_time": "2022-04-05T07:38:59.701Z"
   },
   {
    "duration": 14,
    "start_time": "2022-04-05T07:38:59.711Z"
   },
   {
    "duration": 20,
    "start_time": "2022-04-05T07:38:59.732Z"
   },
   {
    "duration": 315,
    "start_time": "2022-04-05T07:38:59.785Z"
   },
   {
    "duration": 163,
    "start_time": "2022-04-05T07:39:00.102Z"
   },
   {
    "duration": 0,
    "start_time": "2022-04-05T07:39:00.267Z"
   },
   {
    "duration": 0,
    "start_time": "2022-04-05T07:39:00.269Z"
   },
   {
    "duration": 0,
    "start_time": "2022-04-05T07:39:00.271Z"
   },
   {
    "duration": 0,
    "start_time": "2022-04-05T07:39:00.285Z"
   },
   {
    "duration": 0,
    "start_time": "2022-04-05T07:39:00.287Z"
   },
   {
    "duration": 0,
    "start_time": "2022-04-05T07:39:00.288Z"
   },
   {
    "duration": 0,
    "start_time": "2022-04-05T07:39:00.290Z"
   },
   {
    "duration": 0,
    "start_time": "2022-04-05T07:39:00.292Z"
   },
   {
    "duration": 0,
    "start_time": "2022-04-05T07:39:00.293Z"
   },
   {
    "duration": 0,
    "start_time": "2022-04-05T07:39:00.295Z"
   },
   {
    "duration": 0,
    "start_time": "2022-04-05T07:39:00.296Z"
   },
   {
    "duration": 0,
    "start_time": "2022-04-05T07:39:00.298Z"
   },
   {
    "duration": 0,
    "start_time": "2022-04-05T07:39:00.300Z"
   },
   {
    "duration": 0,
    "start_time": "2022-04-05T07:39:00.301Z"
   },
   {
    "duration": 0,
    "start_time": "2022-04-05T07:39:00.303Z"
   },
   {
    "duration": 1,
    "start_time": "2022-04-05T07:39:00.304Z"
   },
   {
    "duration": 0,
    "start_time": "2022-04-05T07:39:00.306Z"
   },
   {
    "duration": 0,
    "start_time": "2022-04-05T07:39:00.308Z"
   },
   {
    "duration": 0,
    "start_time": "2022-04-05T07:39:00.310Z"
   },
   {
    "duration": 0,
    "start_time": "2022-04-05T07:39:00.311Z"
   },
   {
    "duration": 0,
    "start_time": "2022-04-05T07:39:00.313Z"
   },
   {
    "duration": 0,
    "start_time": "2022-04-05T07:39:00.315Z"
   },
   {
    "duration": 0,
    "start_time": "2022-04-05T07:39:00.316Z"
   },
   {
    "duration": 0,
    "start_time": "2022-04-05T07:39:00.318Z"
   },
   {
    "duration": 0,
    "start_time": "2022-04-05T07:39:00.320Z"
   },
   {
    "duration": 0,
    "start_time": "2022-04-05T07:39:00.322Z"
   },
   {
    "duration": 0,
    "start_time": "2022-04-05T07:39:00.384Z"
   },
   {
    "duration": 0,
    "start_time": "2022-04-05T07:39:00.386Z"
   },
   {
    "duration": 1,
    "start_time": "2022-04-05T07:39:00.387Z"
   },
   {
    "duration": 0,
    "start_time": "2022-04-05T07:39:00.389Z"
   },
   {
    "duration": 0,
    "start_time": "2022-04-05T07:39:00.390Z"
   },
   {
    "duration": 0,
    "start_time": "2022-04-05T07:39:00.391Z"
   },
   {
    "duration": 0,
    "start_time": "2022-04-05T07:39:00.393Z"
   },
   {
    "duration": 0,
    "start_time": "2022-04-05T07:39:00.394Z"
   },
   {
    "duration": 0,
    "start_time": "2022-04-05T07:39:00.396Z"
   },
   {
    "duration": 0,
    "start_time": "2022-04-05T07:39:00.397Z"
   },
   {
    "duration": 0,
    "start_time": "2022-04-05T07:39:00.398Z"
   },
   {
    "duration": 0,
    "start_time": "2022-04-05T07:39:00.400Z"
   },
   {
    "duration": 0,
    "start_time": "2022-04-05T07:39:00.401Z"
   },
   {
    "duration": 0,
    "start_time": "2022-04-05T07:39:00.403Z"
   },
   {
    "duration": 0,
    "start_time": "2022-04-05T07:39:00.404Z"
   },
   {
    "duration": 0,
    "start_time": "2022-04-05T07:39:00.405Z"
   },
   {
    "duration": 0,
    "start_time": "2022-04-05T07:39:00.406Z"
   },
   {
    "duration": 0,
    "start_time": "2022-04-05T07:39:00.408Z"
   },
   {
    "duration": 330,
    "start_time": "2022-04-05T07:39:26.806Z"
   },
   {
    "duration": 19,
    "start_time": "2022-04-05T07:39:27.138Z"
   },
   {
    "duration": 7,
    "start_time": "2022-04-05T07:39:27.183Z"
   },
   {
    "duration": 17,
    "start_time": "2022-04-05T07:39:27.193Z"
   },
   {
    "duration": 30,
    "start_time": "2022-04-05T07:39:27.212Z"
   },
   {
    "duration": 41,
    "start_time": "2022-04-05T07:39:27.244Z"
   },
   {
    "duration": 10,
    "start_time": "2022-04-05T07:39:27.287Z"
   },
   {
    "duration": 95,
    "start_time": "2022-04-05T07:39:27.299Z"
   },
   {
    "duration": 24,
    "start_time": "2022-04-05T07:39:27.396Z"
   },
   {
    "duration": 820,
    "start_time": "2022-04-05T07:39:27.423Z"
   },
   {
    "duration": 234,
    "start_time": "2022-04-05T07:39:28.245Z"
   },
   {
    "duration": 168,
    "start_time": "2022-04-05T07:39:28.484Z"
   },
   {
    "duration": 225,
    "start_time": "2022-04-05T07:39:28.654Z"
   },
   {
    "duration": 252,
    "start_time": "2022-04-05T07:39:28.883Z"
   },
   {
    "duration": 8,
    "start_time": "2022-04-05T07:39:29.137Z"
   },
   {
    "duration": 18,
    "start_time": "2022-04-05T07:39:29.148Z"
   },
   {
    "duration": 305,
    "start_time": "2022-04-05T07:39:29.185Z"
   },
   {
    "duration": 246,
    "start_time": "2022-04-05T07:39:29.492Z"
   },
   {
    "duration": 45,
    "start_time": "2022-04-05T07:39:29.741Z"
   },
   {
    "duration": 527,
    "start_time": "2022-04-05T07:39:29.789Z"
   },
   {
    "duration": 340,
    "start_time": "2022-04-05T07:39:30.319Z"
   },
   {
    "duration": 456,
    "start_time": "2022-04-05T07:39:30.661Z"
   },
   {
    "duration": 336,
    "start_time": "2022-04-05T07:39:31.119Z"
   },
   {
    "duration": 468,
    "start_time": "2022-04-05T07:39:31.457Z"
   },
   {
    "duration": 15,
    "start_time": "2022-04-05T07:39:31.928Z"
   },
   {
    "duration": 241,
    "start_time": "2022-04-05T07:39:31.946Z"
   },
   {
    "duration": 6,
    "start_time": "2022-04-05T07:39:32.189Z"
   },
   {
    "duration": 269,
    "start_time": "2022-04-05T07:39:32.200Z"
   },
   {
    "duration": 13,
    "start_time": "2022-04-05T07:39:32.471Z"
   },
   {
    "duration": 89,
    "start_time": "2022-04-05T07:39:32.487Z"
   },
   {
    "duration": 29,
    "start_time": "2022-04-05T07:39:32.578Z"
   },
   {
    "duration": 30,
    "start_time": "2022-04-05T07:39:32.610Z"
   },
   {
    "duration": 83,
    "start_time": "2022-04-05T07:39:32.643Z"
   },
   {
    "duration": 107,
    "start_time": "2022-04-05T07:39:32.728Z"
   },
   {
    "duration": 112,
    "start_time": "2022-04-05T07:39:32.837Z"
   },
   {
    "duration": 63,
    "start_time": "2022-04-05T07:39:32.951Z"
   },
   {
    "duration": 291,
    "start_time": "2022-04-05T07:39:33.017Z"
   },
   {
    "duration": 11,
    "start_time": "2022-04-05T07:39:33.311Z"
   },
   {
    "duration": 36,
    "start_time": "2022-04-05T07:39:33.325Z"
   },
   {
    "duration": 33,
    "start_time": "2022-04-05T07:39:33.364Z"
   },
   {
    "duration": 13,
    "start_time": "2022-04-05T07:39:33.400Z"
   },
   {
    "duration": 16,
    "start_time": "2022-04-05T07:39:33.416Z"
   },
   {
    "duration": 64,
    "start_time": "2022-04-05T07:39:33.434Z"
   },
   {
    "duration": 20,
    "start_time": "2022-04-05T07:39:33.500Z"
   },
   {
    "duration": 231,
    "start_time": "2022-04-05T07:40:14.661Z"
   },
   {
    "duration": 147,
    "start_time": "2022-04-05T07:40:23.169Z"
   },
   {
    "duration": 114,
    "start_time": "2022-04-05T07:40:25.311Z"
   },
   {
    "duration": 172,
    "start_time": "2022-04-05T07:40:53.058Z"
   },
   {
    "duration": 111,
    "start_time": "2022-04-05T07:41:16.133Z"
   },
   {
    "duration": 304,
    "start_time": "2022-04-05T07:41:21.902Z"
   },
   {
    "duration": 303,
    "start_time": "2022-04-05T07:44:18.094Z"
   },
   {
    "duration": 431,
    "start_time": "2022-04-05T07:44:24.800Z"
   },
   {
    "duration": 308,
    "start_time": "2022-04-05T07:44:37.891Z"
   },
   {
    "duration": 302,
    "start_time": "2022-04-05T07:44:42.579Z"
   },
   {
    "duration": 296,
    "start_time": "2022-04-05T07:45:00.418Z"
   },
   {
    "duration": 327,
    "start_time": "2022-04-05T07:45:39.750Z"
   },
   {
    "duration": 308,
    "start_time": "2022-04-05T07:45:59.865Z"
   },
   {
    "duration": 426,
    "start_time": "2022-04-05T07:47:11.945Z"
   },
   {
    "duration": 420,
    "start_time": "2022-04-05T07:47:15.501Z"
   },
   {
    "duration": 317,
    "start_time": "2022-04-05T07:48:07.799Z"
   },
   {
    "duration": 320,
    "start_time": "2022-04-05T07:48:16.708Z"
   },
   {
    "duration": 328,
    "start_time": "2022-04-05T07:48:24.577Z"
   },
   {
    "duration": 7,
    "start_time": "2022-04-05T08:00:44.737Z"
   },
   {
    "duration": 12,
    "start_time": "2022-04-05T08:00:45.520Z"
   },
   {
    "duration": 317,
    "start_time": "2022-04-05T08:00:57.430Z"
   },
   {
    "duration": 223,
    "start_time": "2022-04-05T08:01:20.870Z"
   },
   {
    "duration": 7,
    "start_time": "2022-04-05T08:01:27.069Z"
   },
   {
    "duration": 11,
    "start_time": "2022-04-05T08:01:27.424Z"
   },
   {
    "duration": 384,
    "start_time": "2022-04-05T08:01:29.465Z"
   },
   {
    "duration": 371,
    "start_time": "2022-04-05T08:01:43.463Z"
   },
   {
    "duration": 325,
    "start_time": "2022-04-05T08:01:59.362Z"
   },
   {
    "duration": 377,
    "start_time": "2022-04-05T08:02:09.158Z"
   },
   {
    "duration": 326,
    "start_time": "2022-04-05T08:02:14.977Z"
   },
   {
    "duration": 608,
    "start_time": "2022-04-05T08:03:04.509Z"
   },
   {
    "duration": 431,
    "start_time": "2022-04-05T08:03:26.068Z"
   },
   {
    "duration": 427,
    "start_time": "2022-04-05T08:06:08.000Z"
   },
   {
    "duration": 416,
    "start_time": "2022-04-05T08:06:21.604Z"
   },
   {
    "duration": 421,
    "start_time": "2022-04-05T08:06:24.421Z"
   },
   {
    "duration": 420,
    "start_time": "2022-04-05T08:06:31.007Z"
   },
   {
    "duration": 364,
    "start_time": "2022-04-05T08:08:32.657Z"
   },
   {
    "duration": 10,
    "start_time": "2022-04-05T08:08:48.840Z"
   },
   {
    "duration": 327,
    "start_time": "2022-04-05T08:08:53.777Z"
   },
   {
    "duration": 322,
    "start_time": "2022-04-05T08:09:01.824Z"
   },
   {
    "duration": 340,
    "start_time": "2022-04-05T08:09:19.876Z"
   },
   {
    "duration": 317,
    "start_time": "2022-04-05T08:09:37.729Z"
   },
   {
    "duration": 326,
    "start_time": "2022-04-05T08:09:48.088Z"
   },
   {
    "duration": 317,
    "start_time": "2022-04-05T08:09:50.999Z"
   },
   {
    "duration": 339,
    "start_time": "2022-04-05T08:10:00.280Z"
   },
   {
    "duration": 385,
    "start_time": "2022-04-05T08:10:55.737Z"
   },
   {
    "duration": 107,
    "start_time": "2022-04-05T08:13:47.356Z"
   },
   {
    "duration": 11,
    "start_time": "2022-04-05T08:13:56.481Z"
   },
   {
    "duration": 108,
    "start_time": "2022-04-05T08:28:21.930Z"
   }
  ],
  "kernelspec": {
   "display_name": "Python 3",
   "language": "python",
   "name": "python3"
  },
  "language_info": {
   "codemirror_mode": {
    "name": "ipython",
    "version": 3
   },
   "file_extension": ".py",
   "mimetype": "text/x-python",
   "name": "python",
   "nbconvert_exporter": "python",
   "pygments_lexer": "ipython3",
   "version": "3.7.0"
  },
  "toc": {
   "base_numbering": 1,
   "nav_menu": {},
   "number_sections": true,
   "sideBar": true,
   "skip_h1_title": true,
   "title_cell": "Table of Contents",
   "title_sidebar": "Contents",
   "toc_cell": false,
   "toc_position": {
    "height": "calc(100% - 180px)",
    "left": "10px",
    "top": "150px",
    "width": "366.391px"
   },
   "toc_section_display": true,
   "toc_window_display": true
  }
 },
 "nbformat": 4,
 "nbformat_minor": 2
}
