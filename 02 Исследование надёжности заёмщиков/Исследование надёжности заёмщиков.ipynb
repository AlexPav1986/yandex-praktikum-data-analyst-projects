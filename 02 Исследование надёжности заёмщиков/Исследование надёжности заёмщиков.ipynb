{
 "cells": [
  {
   "cell_type": "markdown",
   "metadata": {},
   "source": [
    "# Исследование надёжности заёмщиков\n",
    "\n",
    "Заказчик — кредитный отдел банка.\n",
    "Необходимо выявить закономерность между семейным положением и благостостоянием заемщика на вероятность погашения кредита в установленный срок. Иными словами способна ли определенная семья расплатиться с банком в срок  \n",
    "\n",
    "Результаты исследования будут учтены при построении модели **кредитного скоринга** — специальной системы, которая оценивает способность потенциального заёмщика вернуть кредит банку.\n",
    "\n",
    "*Описание таблицы датафрейма:* \n",
    "-\tchildren — количество детей в семье \n",
    "-\tdays_employed — общий трудовой стаж в днях \n",
    "-\tdob_years — возраст клиента в годах \n",
    "-\teducation — уровень образования клиента \n",
    "-\teducation_id — идентификатор уровня образования \n",
    "-\tfamily_status — семейное положение \n",
    "-\tfamily_status_id — идентификатор семейного положения \n",
    "-\tgender — пол клиента \n",
    "-\tincome_type — тип занятости \n",
    "-\tdebt — имел ли задолженность по возврату кредитов \n",
    "-\ttotal_income — ежемесячный доход \n",
    "-\tpurpose — цель получения кредита \n",
    "\n",
    "*customer_solvency - с англ. 'платежеспособность клиентов'*\n"
   ]
  },
  {
   "cell_type": "markdown",
   "metadata": {},
   "source": [
    "## Шаг 1. Откроем файл с данными и изучим общую информацию"
   ]
  },
  {
   "cell_type": "code",
   "execution_count": 1,
   "metadata": {
    "scrolled": true
   },
   "outputs": [],
   "source": [
    "import pandas as pd\n",
    "from pymystem3 import Mystem\n",
    "from collections import Counter\n",
    "m = Mystem()\n",
    "\n",
    "customer_solvency = pd.read_csv('/datasets/data.csv') "
   ]
  },
  {
   "cell_type": "markdown",
   "metadata": {},
   "source": [
    "*Взглянем на датафрейм*"
   ]
  },
  {
   "cell_type": "code",
   "execution_count": 2,
   "metadata": {
    "scrolled": false
   },
   "outputs": [
    {
     "data": {
      "text/html": [
       "<div>\n",
       "<style scoped>\n",
       "    .dataframe tbody tr th:only-of-type {\n",
       "        vertical-align: middle;\n",
       "    }\n",
       "\n",
       "    .dataframe tbody tr th {\n",
       "        vertical-align: top;\n",
       "    }\n",
       "\n",
       "    .dataframe thead th {\n",
       "        text-align: right;\n",
       "    }\n",
       "</style>\n",
       "<table border=\"1\" class=\"dataframe\">\n",
       "  <thead>\n",
       "    <tr style=\"text-align: right;\">\n",
       "      <th></th>\n",
       "      <th>children</th>\n",
       "      <th>days_employed</th>\n",
       "      <th>dob_years</th>\n",
       "      <th>education</th>\n",
       "      <th>education_id</th>\n",
       "      <th>family_status</th>\n",
       "      <th>family_status_id</th>\n",
       "      <th>gender</th>\n",
       "      <th>income_type</th>\n",
       "      <th>debt</th>\n",
       "      <th>total_income</th>\n",
       "      <th>purpose</th>\n",
       "    </tr>\n",
       "  </thead>\n",
       "  <tbody>\n",
       "    <tr>\n",
       "      <td>0</td>\n",
       "      <td>1</td>\n",
       "      <td>-8437.673028</td>\n",
       "      <td>42</td>\n",
       "      <td>высшее</td>\n",
       "      <td>0</td>\n",
       "      <td>женат / замужем</td>\n",
       "      <td>0</td>\n",
       "      <td>F</td>\n",
       "      <td>сотрудник</td>\n",
       "      <td>0</td>\n",
       "      <td>253875.639453</td>\n",
       "      <td>покупка жилья</td>\n",
       "    </tr>\n",
       "    <tr>\n",
       "      <td>1</td>\n",
       "      <td>1</td>\n",
       "      <td>-4024.803754</td>\n",
       "      <td>36</td>\n",
       "      <td>среднее</td>\n",
       "      <td>1</td>\n",
       "      <td>женат / замужем</td>\n",
       "      <td>0</td>\n",
       "      <td>F</td>\n",
       "      <td>сотрудник</td>\n",
       "      <td>0</td>\n",
       "      <td>112080.014102</td>\n",
       "      <td>приобретение автомобиля</td>\n",
       "    </tr>\n",
       "    <tr>\n",
       "      <td>2</td>\n",
       "      <td>0</td>\n",
       "      <td>-5623.422610</td>\n",
       "      <td>33</td>\n",
       "      <td>Среднее</td>\n",
       "      <td>1</td>\n",
       "      <td>женат / замужем</td>\n",
       "      <td>0</td>\n",
       "      <td>M</td>\n",
       "      <td>сотрудник</td>\n",
       "      <td>0</td>\n",
       "      <td>145885.952297</td>\n",
       "      <td>покупка жилья</td>\n",
       "    </tr>\n",
       "    <tr>\n",
       "      <td>3</td>\n",
       "      <td>3</td>\n",
       "      <td>-4124.747207</td>\n",
       "      <td>32</td>\n",
       "      <td>среднее</td>\n",
       "      <td>1</td>\n",
       "      <td>женат / замужем</td>\n",
       "      <td>0</td>\n",
       "      <td>M</td>\n",
       "      <td>сотрудник</td>\n",
       "      <td>0</td>\n",
       "      <td>267628.550329</td>\n",
       "      <td>дополнительное образование</td>\n",
       "    </tr>\n",
       "    <tr>\n",
       "      <td>4</td>\n",
       "      <td>0</td>\n",
       "      <td>340266.072047</td>\n",
       "      <td>53</td>\n",
       "      <td>среднее</td>\n",
       "      <td>1</td>\n",
       "      <td>гражданский брак</td>\n",
       "      <td>1</td>\n",
       "      <td>F</td>\n",
       "      <td>пенсионер</td>\n",
       "      <td>0</td>\n",
       "      <td>158616.077870</td>\n",
       "      <td>сыграть свадьбу</td>\n",
       "    </tr>\n",
       "  </tbody>\n",
       "</table>\n",
       "</div>"
      ],
      "text/plain": [
       "   children  days_employed  dob_years education  education_id  \\\n",
       "0         1   -8437.673028         42    высшее             0   \n",
       "1         1   -4024.803754         36   среднее             1   \n",
       "2         0   -5623.422610         33   Среднее             1   \n",
       "3         3   -4124.747207         32   среднее             1   \n",
       "4         0  340266.072047         53   среднее             1   \n",
       "\n",
       "      family_status  family_status_id gender income_type  debt   total_income  \\\n",
       "0   женат / замужем                 0      F   сотрудник     0  253875.639453   \n",
       "1   женат / замужем                 0      F   сотрудник     0  112080.014102   \n",
       "2   женат / замужем                 0      M   сотрудник     0  145885.952297   \n",
       "3   женат / замужем                 0      M   сотрудник     0  267628.550329   \n",
       "4  гражданский брак                 1      F   пенсионер     0  158616.077870   \n",
       "\n",
       "                      purpose  \n",
       "0               покупка жилья  \n",
       "1     приобретение автомобиля  \n",
       "2               покупка жилья  \n",
       "3  дополнительное образование  \n",
       "4             сыграть свадьбу  "
      ]
     },
     "execution_count": 2,
     "metadata": {},
     "output_type": "execute_result"
    }
   ],
   "source": [
    "customer_solvency.head()"
   ]
  },
  {
   "cell_type": "markdown",
   "metadata": {},
   "source": [
    "*Проверим названия колонок и выведем общую информацию о данных*"
   ]
  },
  {
   "cell_type": "code",
   "execution_count": 3,
   "metadata": {
    "scrolled": true
   },
   "outputs": [
    {
     "data": {
      "text/plain": [
       "Index(['children', 'days_employed', 'dob_years', 'education', 'education_id',\n",
       "       'family_status', 'family_status_id', 'gender', 'income_type', 'debt',\n",
       "       'total_income', 'purpose'],\n",
       "      dtype='object')"
      ]
     },
     "execution_count": 3,
     "metadata": {},
     "output_type": "execute_result"
    }
   ],
   "source": [
    "customer_solvency.columns"
   ]
  },
  {
   "cell_type": "code",
   "execution_count": 4,
   "metadata": {},
   "outputs": [
    {
     "name": "stdout",
     "output_type": "stream",
     "text": [
      "<class 'pandas.core.frame.DataFrame'>\n",
      "RangeIndex: 21525 entries, 0 to 21524\n",
      "Data columns (total 12 columns):\n",
      "children            21525 non-null int64\n",
      "days_employed       19351 non-null float64\n",
      "dob_years           21525 non-null int64\n",
      "education           21525 non-null object\n",
      "education_id        21525 non-null int64\n",
      "family_status       21525 non-null object\n",
      "family_status_id    21525 non-null int64\n",
      "gender              21525 non-null object\n",
      "income_type         21525 non-null object\n",
      "debt                21525 non-null int64\n",
      "total_income        19351 non-null float64\n",
      "purpose             21525 non-null object\n",
      "dtypes: float64(2), int64(5), object(5)\n",
      "memory usage: 2.0+ MB\n"
     ]
    }
   ],
   "source": [
    "customer_solvency.info()"
   ]
  },
  {
   "cell_type": "markdown",
   "metadata": {},
   "source": [
    "*Проверим в каких колонках и какое количество пропусков*"
   ]
  },
  {
   "cell_type": "code",
   "execution_count": 5,
   "metadata": {
    "scrolled": false
   },
   "outputs": [
    {
     "data": {
      "text/plain": [
       "children               0\n",
       "days_employed       2174\n",
       "dob_years              0\n",
       "education              0\n",
       "education_id           0\n",
       "family_status          0\n",
       "family_status_id       0\n",
       "gender                 0\n",
       "income_type            0\n",
       "debt                   0\n",
       "total_income        2174\n",
       "purpose                0\n",
       "dtype: int64"
      ]
     },
     "execution_count": 5,
     "metadata": {},
     "output_type": "execute_result"
    }
   ],
   "source": [
    "customer_solvency.isna().sum()"
   ]
  },
  {
   "cell_type": "markdown",
   "metadata": {},
   "source": [
    "*Проверим количество дубликатов*"
   ]
  },
  {
   "cell_type": "code",
   "execution_count": 6,
   "metadata": {},
   "outputs": [
    {
     "data": {
      "text/plain": [
       "54"
      ]
     },
     "execution_count": 6,
     "metadata": {},
     "output_type": "execute_result"
    }
   ],
   "source": [
    "customer_solvency.duplicated().sum()"
   ]
  },
  {
   "cell_type": "code",
   "execution_count": 7,
   "metadata": {
    "scrolled": true
   },
   "outputs": [
    {
     "data": {
      "text/html": [
       "<div>\n",
       "<style scoped>\n",
       "    .dataframe tbody tr th:only-of-type {\n",
       "        vertical-align: middle;\n",
       "    }\n",
       "\n",
       "    .dataframe tbody tr th {\n",
       "        vertical-align: top;\n",
       "    }\n",
       "\n",
       "    .dataframe thead th {\n",
       "        text-align: right;\n",
       "    }\n",
       "</style>\n",
       "<table border=\"1\" class=\"dataframe\">\n",
       "  <thead>\n",
       "    <tr style=\"text-align: right;\">\n",
       "      <th></th>\n",
       "      <th>children</th>\n",
       "      <th>days_employed</th>\n",
       "      <th>dob_years</th>\n",
       "      <th>education_id</th>\n",
       "      <th>family_status_id</th>\n",
       "      <th>debt</th>\n",
       "      <th>total_income</th>\n",
       "    </tr>\n",
       "  </thead>\n",
       "  <tbody>\n",
       "    <tr>\n",
       "      <td>count</td>\n",
       "      <td>21525.000000</td>\n",
       "      <td>19351.000000</td>\n",
       "      <td>21525.000000</td>\n",
       "      <td>21525.000000</td>\n",
       "      <td>21525.000000</td>\n",
       "      <td>21525.000000</td>\n",
       "      <td>1.935100e+04</td>\n",
       "    </tr>\n",
       "    <tr>\n",
       "      <td>mean</td>\n",
       "      <td>0.538908</td>\n",
       "      <td>63046.497661</td>\n",
       "      <td>43.293380</td>\n",
       "      <td>0.817236</td>\n",
       "      <td>0.972544</td>\n",
       "      <td>0.080883</td>\n",
       "      <td>1.674223e+05</td>\n",
       "    </tr>\n",
       "    <tr>\n",
       "      <td>std</td>\n",
       "      <td>1.381587</td>\n",
       "      <td>140827.311974</td>\n",
       "      <td>12.574584</td>\n",
       "      <td>0.548138</td>\n",
       "      <td>1.420324</td>\n",
       "      <td>0.272661</td>\n",
       "      <td>1.029716e+05</td>\n",
       "    </tr>\n",
       "    <tr>\n",
       "      <td>min</td>\n",
       "      <td>-1.000000</td>\n",
       "      <td>-18388.949901</td>\n",
       "      <td>0.000000</td>\n",
       "      <td>0.000000</td>\n",
       "      <td>0.000000</td>\n",
       "      <td>0.000000</td>\n",
       "      <td>2.066726e+04</td>\n",
       "    </tr>\n",
       "    <tr>\n",
       "      <td>25%</td>\n",
       "      <td>0.000000</td>\n",
       "      <td>-2747.423625</td>\n",
       "      <td>33.000000</td>\n",
       "      <td>1.000000</td>\n",
       "      <td>0.000000</td>\n",
       "      <td>0.000000</td>\n",
       "      <td>1.030532e+05</td>\n",
       "    </tr>\n",
       "    <tr>\n",
       "      <td>50%</td>\n",
       "      <td>0.000000</td>\n",
       "      <td>-1203.369529</td>\n",
       "      <td>42.000000</td>\n",
       "      <td>1.000000</td>\n",
       "      <td>0.000000</td>\n",
       "      <td>0.000000</td>\n",
       "      <td>1.450179e+05</td>\n",
       "    </tr>\n",
       "    <tr>\n",
       "      <td>75%</td>\n",
       "      <td>1.000000</td>\n",
       "      <td>-291.095954</td>\n",
       "      <td>53.000000</td>\n",
       "      <td>1.000000</td>\n",
       "      <td>1.000000</td>\n",
       "      <td>0.000000</td>\n",
       "      <td>2.034351e+05</td>\n",
       "    </tr>\n",
       "    <tr>\n",
       "      <td>max</td>\n",
       "      <td>20.000000</td>\n",
       "      <td>401755.400475</td>\n",
       "      <td>75.000000</td>\n",
       "      <td>4.000000</td>\n",
       "      <td>4.000000</td>\n",
       "      <td>1.000000</td>\n",
       "      <td>2.265604e+06</td>\n",
       "    </tr>\n",
       "  </tbody>\n",
       "</table>\n",
       "</div>"
      ],
      "text/plain": [
       "           children  days_employed     dob_years  education_id  \\\n",
       "count  21525.000000   19351.000000  21525.000000  21525.000000   \n",
       "mean       0.538908   63046.497661     43.293380      0.817236   \n",
       "std        1.381587  140827.311974     12.574584      0.548138   \n",
       "min       -1.000000  -18388.949901      0.000000      0.000000   \n",
       "25%        0.000000   -2747.423625     33.000000      1.000000   \n",
       "50%        0.000000   -1203.369529     42.000000      1.000000   \n",
       "75%        1.000000    -291.095954     53.000000      1.000000   \n",
       "max       20.000000  401755.400475     75.000000      4.000000   \n",
       "\n",
       "       family_status_id          debt  total_income  \n",
       "count      21525.000000  21525.000000  1.935100e+04  \n",
       "mean           0.972544      0.080883  1.674223e+05  \n",
       "std            1.420324      0.272661  1.029716e+05  \n",
       "min            0.000000      0.000000  2.066726e+04  \n",
       "25%            0.000000      0.000000  1.030532e+05  \n",
       "50%            0.000000      0.000000  1.450179e+05  \n",
       "75%            1.000000      0.000000  2.034351e+05  \n",
       "max            4.000000      1.000000  2.265604e+06  "
      ]
     },
     "execution_count": 7,
     "metadata": {},
     "output_type": "execute_result"
    }
   ],
   "source": [
    "customer_solvency.describe()"
   ]
  },
  {
   "cell_type": "markdown",
   "metadata": {},
   "source": [
    "### **Вывод**"
   ]
  },
  {
   "cell_type": "markdown",
   "metadata": {},
   "source": [
    "<div style=\"border:solid indigo 2px; padding: 20px\">\n",
    "    \n",
    "- Датафрейм имеет 21525 строк, достаточно, чтобы сделать выводы (если там не все дубликаты конечно).\n",
    "- Названия столбцов в порядке: латинскими строчными буквами, без пробелов, в \"змеином_регистре\". Переименование не требуется.\n",
    "- Солбцы 'days_employed' и 'total_income' имеют пропуски, ровно по 2174 шт, нужно их обработать.\n",
    "- Столбец days_employed имеет тип float64, лучше перевести в целочисленные значения (зачем нам тысячные доли дней?). Также столбец имеет отрицательные значения, нужно обратить внимание.\n",
    "- Столбец 'total_income' (ежемесячный доход) можно привести к целочисленному значению, точность до 6 знаков здесь ни к чему.\n",
    "- Датафрейм имеет 54 дубликата."
   ]
  },
  {
   "cell_type": "markdown",
   "metadata": {},
   "source": [
    "## Шаг 2. Предобработка данных"
   ]
  },
  {
   "cell_type": "markdown",
   "metadata": {},
   "source": [
    "### Обработка пропусков"
   ]
  },
  {
   "cell_type": "markdown",
   "metadata": {},
   "source": [
    "*Посмотрим где и сколько у нас пропусков*"
   ]
  },
  {
   "cell_type": "code",
   "execution_count": 8,
   "metadata": {
    "scrolled": true
   },
   "outputs": [
    {
     "data": {
      "text/plain": [
       "children               0\n",
       "days_employed       2174\n",
       "dob_years              0\n",
       "education              0\n",
       "education_id           0\n",
       "family_status          0\n",
       "family_status_id       0\n",
       "gender                 0\n",
       "income_type            0\n",
       "debt                   0\n",
       "total_income        2174\n",
       "purpose                0\n",
       "dtype: int64"
      ]
     },
     "execution_count": 8,
     "metadata": {},
     "output_type": "execute_result"
    }
   ],
   "source": [
    "customer_solvency.isna().sum()"
   ]
  },
  {
   "cell_type": "markdown",
   "metadata": {},
   "source": [
    "*сколько процентов ушло на пропуски в строках?*"
   ]
  },
  {
   "cell_type": "code",
   "execution_count": 9,
   "metadata": {
    "scrolled": true
   },
   "outputs": [
    {
     "name": "stdout",
     "output_type": "stream",
     "text": [
      "Пропуски составляют 10% от общего числа строк\n"
     ]
    }
   ],
   "source": [
    "print(f'Пропуски составляют {customer_solvency.shape[0] / 2174 / 100:.0%} от общего числа строк')"
   ]
  },
  {
   "cell_type": "markdown",
   "metadata": {},
   "source": [
    "##### **Вывод**"
   ]
  },
  {
   "cell_type": "markdown",
   "metadata": {},
   "source": [
    " <div style=\"border:solid indigo 2px; padding: 20px\">\n",
    "\n",
    "У нас 2174 пропусков NaN в двух столбцах. Это 10% данных.\n",
    "Пропуски в столбце 'дни стажа' и 'ежемесячный доход'. \\\n",
    "**Вероятная причина в том, что если не заполнили колонку 'дней стажа', значит и заработка нет. И наоборот. Возможно данные клиенты являются самозанятыми и не устроены официально.**\n",
    "\n",
    "Самый легкий способ устранения пропусков - просто удалить их. Но давайте не будем торопиться.\n",
    "\n"
   ]
  },
  {
   "cell_type": "markdown",
   "metadata": {},
   "source": [
    "#### Про столбец 'days_employed'"
   ]
  },
  {
   "cell_type": "markdown",
   "metadata": {},
   "source": [
    "- отрицательные значения дней стажа получились путем вычитания года начала работы (около 18 лет) от прожитых лет \n",
    "- огромные положительные значения взяты ошибочно. Вероятно, расчет производился по формуле:\n",
    "\n",
    "                   ('кол-во лет' - 'год начала работы') * 365.\n",
    "                   \n",
    "                   Но потом, по ошибке, еще умножили на кол-во часов\n",
    "                   ('кол-во лет' - 'год начала работы') * 365 * 24\n",
    "                   \n",
    "**Обработаем пропуски, заменив NaN по формуле ('кол-во лет' - '18') * 365**"
   ]
  },
  {
   "cell_type": "code",
   "execution_count": 10,
   "metadata": {},
   "outputs": [],
   "source": [
    "def change_nan_days_employed(row):\n",
    "    \n",
    "    # функция меняет NaN на ('dob_years' - '18') * 365\n",
    "    \n",
    "    row['days_employed'] = row['days_employed'].fillna((row['dob_years'] - 18)*365)\n",
    "    return row"
   ]
  },
  {
   "cell_type": "code",
   "execution_count": 11,
   "metadata": {},
   "outputs": [
    {
     "data": {
      "text/plain": [
       "children               0\n",
       "days_employed          0\n",
       "dob_years              0\n",
       "education              0\n",
       "education_id           0\n",
       "family_status          0\n",
       "family_status_id       0\n",
       "gender                 0\n",
       "income_type            0\n",
       "debt                   0\n",
       "total_income        2174\n",
       "purpose                0\n",
       "dtype: int64"
      ]
     },
     "execution_count": 11,
     "metadata": {},
     "output_type": "execute_result"
    }
   ],
   "source": [
    "customer_solvency = change_nan_days_employed(customer_solvency)\n",
    "customer_solvency.isna().sum()"
   ]
  },
  {
   "cell_type": "markdown",
   "metadata": {},
   "source": [
    "**Обработаем отрицательные дни стажа.**"
   ]
  },
  {
   "cell_type": "code",
   "execution_count": 12,
   "metadata": {
    "scrolled": true
   },
   "outputs": [
    {
     "data": {
      "text/html": [
       "<div>\n",
       "<style scoped>\n",
       "    .dataframe tbody tr th:only-of-type {\n",
       "        vertical-align: middle;\n",
       "    }\n",
       "\n",
       "    .dataframe tbody tr th {\n",
       "        vertical-align: top;\n",
       "    }\n",
       "\n",
       "    .dataframe thead th {\n",
       "        text-align: right;\n",
       "    }\n",
       "</style>\n",
       "<table border=\"1\" class=\"dataframe\">\n",
       "  <thead>\n",
       "    <tr style=\"text-align: right;\">\n",
       "      <th></th>\n",
       "      <th>children</th>\n",
       "      <th>days_employed</th>\n",
       "      <th>dob_years</th>\n",
       "      <th>education</th>\n",
       "      <th>education_id</th>\n",
       "      <th>family_status</th>\n",
       "      <th>family_status_id</th>\n",
       "      <th>gender</th>\n",
       "      <th>income_type</th>\n",
       "      <th>debt</th>\n",
       "      <th>total_income</th>\n",
       "      <th>purpose</th>\n",
       "    </tr>\n",
       "  </thead>\n",
       "  <tbody>\n",
       "    <tr>\n",
       "      <td>0</td>\n",
       "      <td>1</td>\n",
       "      <td>8437.673028</td>\n",
       "      <td>42</td>\n",
       "      <td>высшее</td>\n",
       "      <td>0</td>\n",
       "      <td>женат / замужем</td>\n",
       "      <td>0</td>\n",
       "      <td>F</td>\n",
       "      <td>сотрудник</td>\n",
       "      <td>0</td>\n",
       "      <td>253875.639453</td>\n",
       "      <td>покупка жилья</td>\n",
       "    </tr>\n",
       "    <tr>\n",
       "      <td>1</td>\n",
       "      <td>1</td>\n",
       "      <td>4024.803754</td>\n",
       "      <td>36</td>\n",
       "      <td>среднее</td>\n",
       "      <td>1</td>\n",
       "      <td>женат / замужем</td>\n",
       "      <td>0</td>\n",
       "      <td>F</td>\n",
       "      <td>сотрудник</td>\n",
       "      <td>0</td>\n",
       "      <td>112080.014102</td>\n",
       "      <td>приобретение автомобиля</td>\n",
       "    </tr>\n",
       "    <tr>\n",
       "      <td>2</td>\n",
       "      <td>0</td>\n",
       "      <td>5623.422610</td>\n",
       "      <td>33</td>\n",
       "      <td>Среднее</td>\n",
       "      <td>1</td>\n",
       "      <td>женат / замужем</td>\n",
       "      <td>0</td>\n",
       "      <td>M</td>\n",
       "      <td>сотрудник</td>\n",
       "      <td>0</td>\n",
       "      <td>145885.952297</td>\n",
       "      <td>покупка жилья</td>\n",
       "    </tr>\n",
       "    <tr>\n",
       "      <td>3</td>\n",
       "      <td>3</td>\n",
       "      <td>4124.747207</td>\n",
       "      <td>32</td>\n",
       "      <td>среднее</td>\n",
       "      <td>1</td>\n",
       "      <td>женат / замужем</td>\n",
       "      <td>0</td>\n",
       "      <td>M</td>\n",
       "      <td>сотрудник</td>\n",
       "      <td>0</td>\n",
       "      <td>267628.550329</td>\n",
       "      <td>дополнительное образование</td>\n",
       "    </tr>\n",
       "    <tr>\n",
       "      <td>4</td>\n",
       "      <td>0</td>\n",
       "      <td>340266.072047</td>\n",
       "      <td>53</td>\n",
       "      <td>среднее</td>\n",
       "      <td>1</td>\n",
       "      <td>гражданский брак</td>\n",
       "      <td>1</td>\n",
       "      <td>F</td>\n",
       "      <td>пенсионер</td>\n",
       "      <td>0</td>\n",
       "      <td>158616.077870</td>\n",
       "      <td>сыграть свадьбу</td>\n",
       "    </tr>\n",
       "    <tr>\n",
       "      <td>5</td>\n",
       "      <td>0</td>\n",
       "      <td>926.185831</td>\n",
       "      <td>27</td>\n",
       "      <td>высшее</td>\n",
       "      <td>0</td>\n",
       "      <td>гражданский брак</td>\n",
       "      <td>1</td>\n",
       "      <td>M</td>\n",
       "      <td>компаньон</td>\n",
       "      <td>0</td>\n",
       "      <td>255763.565419</td>\n",
       "      <td>покупка жилья</td>\n",
       "    </tr>\n",
       "    <tr>\n",
       "      <td>6</td>\n",
       "      <td>0</td>\n",
       "      <td>2879.202052</td>\n",
       "      <td>43</td>\n",
       "      <td>высшее</td>\n",
       "      <td>0</td>\n",
       "      <td>женат / замужем</td>\n",
       "      <td>0</td>\n",
       "      <td>F</td>\n",
       "      <td>компаньон</td>\n",
       "      <td>0</td>\n",
       "      <td>240525.971920</td>\n",
       "      <td>операции с жильем</td>\n",
       "    </tr>\n",
       "    <tr>\n",
       "      <td>7</td>\n",
       "      <td>0</td>\n",
       "      <td>152.779569</td>\n",
       "      <td>50</td>\n",
       "      <td>СРЕДНЕЕ</td>\n",
       "      <td>1</td>\n",
       "      <td>женат / замужем</td>\n",
       "      <td>0</td>\n",
       "      <td>M</td>\n",
       "      <td>сотрудник</td>\n",
       "      <td>0</td>\n",
       "      <td>135823.934197</td>\n",
       "      <td>образование</td>\n",
       "    </tr>\n",
       "    <tr>\n",
       "      <td>8</td>\n",
       "      <td>2</td>\n",
       "      <td>6929.865299</td>\n",
       "      <td>35</td>\n",
       "      <td>ВЫСШЕЕ</td>\n",
       "      <td>0</td>\n",
       "      <td>гражданский брак</td>\n",
       "      <td>1</td>\n",
       "      <td>F</td>\n",
       "      <td>сотрудник</td>\n",
       "      <td>0</td>\n",
       "      <td>95856.832424</td>\n",
       "      <td>на проведение свадьбы</td>\n",
       "    </tr>\n",
       "    <tr>\n",
       "      <td>9</td>\n",
       "      <td>0</td>\n",
       "      <td>2188.756445</td>\n",
       "      <td>41</td>\n",
       "      <td>среднее</td>\n",
       "      <td>1</td>\n",
       "      <td>женат / замужем</td>\n",
       "      <td>0</td>\n",
       "      <td>M</td>\n",
       "      <td>сотрудник</td>\n",
       "      <td>0</td>\n",
       "      <td>144425.938277</td>\n",
       "      <td>покупка жилья для семьи</td>\n",
       "    </tr>\n",
       "    <tr>\n",
       "      <td>10</td>\n",
       "      <td>2</td>\n",
       "      <td>4171.483647</td>\n",
       "      <td>36</td>\n",
       "      <td>высшее</td>\n",
       "      <td>0</td>\n",
       "      <td>женат / замужем</td>\n",
       "      <td>0</td>\n",
       "      <td>M</td>\n",
       "      <td>компаньон</td>\n",
       "      <td>0</td>\n",
       "      <td>113943.491460</td>\n",
       "      <td>покупка недвижимости</td>\n",
       "    </tr>\n",
       "    <tr>\n",
       "      <td>11</td>\n",
       "      <td>0</td>\n",
       "      <td>792.701887</td>\n",
       "      <td>40</td>\n",
       "      <td>среднее</td>\n",
       "      <td>1</td>\n",
       "      <td>женат / замужем</td>\n",
       "      <td>0</td>\n",
       "      <td>F</td>\n",
       "      <td>сотрудник</td>\n",
       "      <td>0</td>\n",
       "      <td>77069.234271</td>\n",
       "      <td>покупка коммерческой недвижимости</td>\n",
       "    </tr>\n",
       "    <tr>\n",
       "      <td>12</td>\n",
       "      <td>0</td>\n",
       "      <td>17155.000000</td>\n",
       "      <td>65</td>\n",
       "      <td>среднее</td>\n",
       "      <td>1</td>\n",
       "      <td>гражданский брак</td>\n",
       "      <td>1</td>\n",
       "      <td>M</td>\n",
       "      <td>пенсионер</td>\n",
       "      <td>0</td>\n",
       "      <td>NaN</td>\n",
       "      <td>сыграть свадьбу</td>\n",
       "    </tr>\n",
       "    <tr>\n",
       "      <td>13</td>\n",
       "      <td>0</td>\n",
       "      <td>1846.641941</td>\n",
       "      <td>54</td>\n",
       "      <td>неоконченное высшее</td>\n",
       "      <td>2</td>\n",
       "      <td>женат / замужем</td>\n",
       "      <td>0</td>\n",
       "      <td>F</td>\n",
       "      <td>сотрудник</td>\n",
       "      <td>0</td>\n",
       "      <td>130458.228857</td>\n",
       "      <td>приобретение автомобиля</td>\n",
       "    </tr>\n",
       "    <tr>\n",
       "      <td>14</td>\n",
       "      <td>0</td>\n",
       "      <td>1844.956182</td>\n",
       "      <td>56</td>\n",
       "      <td>высшее</td>\n",
       "      <td>0</td>\n",
       "      <td>гражданский брак</td>\n",
       "      <td>1</td>\n",
       "      <td>F</td>\n",
       "      <td>компаньон</td>\n",
       "      <td>1</td>\n",
       "      <td>165127.911772</td>\n",
       "      <td>покупка жилой недвижимости</td>\n",
       "    </tr>\n",
       "    <tr>\n",
       "      <td>15</td>\n",
       "      <td>1</td>\n",
       "      <td>972.364419</td>\n",
       "      <td>26</td>\n",
       "      <td>среднее</td>\n",
       "      <td>1</td>\n",
       "      <td>женат / замужем</td>\n",
       "      <td>0</td>\n",
       "      <td>F</td>\n",
       "      <td>сотрудник</td>\n",
       "      <td>0</td>\n",
       "      <td>116820.904450</td>\n",
       "      <td>строительство собственной недвижимости</td>\n",
       "    </tr>\n",
       "    <tr>\n",
       "      <td>16</td>\n",
       "      <td>0</td>\n",
       "      <td>1719.934226</td>\n",
       "      <td>35</td>\n",
       "      <td>среднее</td>\n",
       "      <td>1</td>\n",
       "      <td>женат / замужем</td>\n",
       "      <td>0</td>\n",
       "      <td>F</td>\n",
       "      <td>сотрудник</td>\n",
       "      <td>0</td>\n",
       "      <td>289202.704229</td>\n",
       "      <td>недвижимость</td>\n",
       "    </tr>\n",
       "    <tr>\n",
       "      <td>17</td>\n",
       "      <td>0</td>\n",
       "      <td>2369.999720</td>\n",
       "      <td>33</td>\n",
       "      <td>высшее</td>\n",
       "      <td>0</td>\n",
       "      <td>гражданский брак</td>\n",
       "      <td>1</td>\n",
       "      <td>M</td>\n",
       "      <td>сотрудник</td>\n",
       "      <td>0</td>\n",
       "      <td>90410.586745</td>\n",
       "      <td>строительство недвижимости</td>\n",
       "    </tr>\n",
       "    <tr>\n",
       "      <td>18</td>\n",
       "      <td>0</td>\n",
       "      <td>400281.136913</td>\n",
       "      <td>53</td>\n",
       "      <td>среднее</td>\n",
       "      <td>1</td>\n",
       "      <td>вдовец / вдова</td>\n",
       "      <td>2</td>\n",
       "      <td>F</td>\n",
       "      <td>пенсионер</td>\n",
       "      <td>0</td>\n",
       "      <td>56823.777243</td>\n",
       "      <td>на покупку подержанного автомобиля</td>\n",
       "    </tr>\n",
       "    <tr>\n",
       "      <td>19</td>\n",
       "      <td>0</td>\n",
       "      <td>10038.818549</td>\n",
       "      <td>48</td>\n",
       "      <td>СРЕДНЕЕ</td>\n",
       "      <td>1</td>\n",
       "      <td>в разводе</td>\n",
       "      <td>3</td>\n",
       "      <td>F</td>\n",
       "      <td>сотрудник</td>\n",
       "      <td>0</td>\n",
       "      <td>242831.107982</td>\n",
       "      <td>на покупку своего автомобиля</td>\n",
       "    </tr>\n",
       "  </tbody>\n",
       "</table>\n",
       "</div>"
      ],
      "text/plain": [
       "    children  days_employed  dob_years            education  education_id  \\\n",
       "0          1    8437.673028         42               высшее             0   \n",
       "1          1    4024.803754         36              среднее             1   \n",
       "2          0    5623.422610         33              Среднее             1   \n",
       "3          3    4124.747207         32              среднее             1   \n",
       "4          0  340266.072047         53              среднее             1   \n",
       "5          0     926.185831         27               высшее             0   \n",
       "6          0    2879.202052         43               высшее             0   \n",
       "7          0     152.779569         50              СРЕДНЕЕ             1   \n",
       "8          2    6929.865299         35               ВЫСШЕЕ             0   \n",
       "9          0    2188.756445         41              среднее             1   \n",
       "10         2    4171.483647         36               высшее             0   \n",
       "11         0     792.701887         40              среднее             1   \n",
       "12         0   17155.000000         65              среднее             1   \n",
       "13         0    1846.641941         54  неоконченное высшее             2   \n",
       "14         0    1844.956182         56               высшее             0   \n",
       "15         1     972.364419         26              среднее             1   \n",
       "16         0    1719.934226         35              среднее             1   \n",
       "17         0    2369.999720         33               высшее             0   \n",
       "18         0  400281.136913         53              среднее             1   \n",
       "19         0   10038.818549         48              СРЕДНЕЕ             1   \n",
       "\n",
       "       family_status  family_status_id gender income_type  debt  \\\n",
       "0    женат / замужем                 0      F   сотрудник     0   \n",
       "1    женат / замужем                 0      F   сотрудник     0   \n",
       "2    женат / замужем                 0      M   сотрудник     0   \n",
       "3    женат / замужем                 0      M   сотрудник     0   \n",
       "4   гражданский брак                 1      F   пенсионер     0   \n",
       "5   гражданский брак                 1      M   компаньон     0   \n",
       "6    женат / замужем                 0      F   компаньон     0   \n",
       "7    женат / замужем                 0      M   сотрудник     0   \n",
       "8   гражданский брак                 1      F   сотрудник     0   \n",
       "9    женат / замужем                 0      M   сотрудник     0   \n",
       "10   женат / замужем                 0      M   компаньон     0   \n",
       "11   женат / замужем                 0      F   сотрудник     0   \n",
       "12  гражданский брак                 1      M   пенсионер     0   \n",
       "13   женат / замужем                 0      F   сотрудник     0   \n",
       "14  гражданский брак                 1      F   компаньон     1   \n",
       "15   женат / замужем                 0      F   сотрудник     0   \n",
       "16   женат / замужем                 0      F   сотрудник     0   \n",
       "17  гражданский брак                 1      M   сотрудник     0   \n",
       "18    вдовец / вдова                 2      F   пенсионер     0   \n",
       "19         в разводе                 3      F   сотрудник     0   \n",
       "\n",
       "     total_income                                 purpose  \n",
       "0   253875.639453                           покупка жилья  \n",
       "1   112080.014102                 приобретение автомобиля  \n",
       "2   145885.952297                           покупка жилья  \n",
       "3   267628.550329              дополнительное образование  \n",
       "4   158616.077870                         сыграть свадьбу  \n",
       "5   255763.565419                           покупка жилья  \n",
       "6   240525.971920                       операции с жильем  \n",
       "7   135823.934197                             образование  \n",
       "8    95856.832424                   на проведение свадьбы  \n",
       "9   144425.938277                 покупка жилья для семьи  \n",
       "10  113943.491460                    покупка недвижимости  \n",
       "11   77069.234271       покупка коммерческой недвижимости  \n",
       "12            NaN                         сыграть свадьбу  \n",
       "13  130458.228857                 приобретение автомобиля  \n",
       "14  165127.911772              покупка жилой недвижимости  \n",
       "15  116820.904450  строительство собственной недвижимости  \n",
       "16  289202.704229                            недвижимость  \n",
       "17   90410.586745              строительство недвижимости  \n",
       "18   56823.777243      на покупку подержанного автомобиля  \n",
       "19  242831.107982            на покупку своего автомобиля  "
      ]
     },
     "execution_count": 12,
     "metadata": {},
     "output_type": "execute_result"
    }
   ],
   "source": [
    "customer_solvency['days_employed'] = abs(customer_solvency['days_employed'])\n",
    "customer_solvency.head(20)"
   ]
  },
  {
   "cell_type": "markdown",
   "metadata": {},
   "source": [
    "**Обработаем большие положительные числа в 'days_employed'.** \\\n",
    "*Вероятно ошибка в формуле: домножили на кол-во часов. \\\n",
    "Максимальный стаж в днях подсчитаем по формуле: \n",
    "(65 (выход на пенсию) - 18 (начало работы) ) * 365 = 17155 дней \\\n",
    "      Все, что больше 17155 предлагаю разделить на 24*"
   ]
  },
  {
   "cell_type": "code",
   "execution_count": 13,
   "metadata": {
    "scrolled": false
   },
   "outputs": [],
   "source": [
    "def change_large_data(row):\n",
    "    if row > (65-18)*365:\n",
    "        row /= 24\n",
    "    return row"
   ]
  },
  {
   "cell_type": "code",
   "execution_count": 14,
   "metadata": {},
   "outputs": [
    {
     "data": {
      "text/html": [
       "<div>\n",
       "<style scoped>\n",
       "    .dataframe tbody tr th:only-of-type {\n",
       "        vertical-align: middle;\n",
       "    }\n",
       "\n",
       "    .dataframe tbody tr th {\n",
       "        vertical-align: top;\n",
       "    }\n",
       "\n",
       "    .dataframe thead th {\n",
       "        text-align: right;\n",
       "    }\n",
       "</style>\n",
       "<table border=\"1\" class=\"dataframe\">\n",
       "  <thead>\n",
       "    <tr style=\"text-align: right;\">\n",
       "      <th></th>\n",
       "      <th>children</th>\n",
       "      <th>days_employed</th>\n",
       "      <th>dob_years</th>\n",
       "      <th>education</th>\n",
       "      <th>education_id</th>\n",
       "      <th>family_status</th>\n",
       "      <th>family_status_id</th>\n",
       "      <th>gender</th>\n",
       "      <th>income_type</th>\n",
       "      <th>debt</th>\n",
       "      <th>total_income</th>\n",
       "      <th>purpose</th>\n",
       "    </tr>\n",
       "  </thead>\n",
       "  <tbody>\n",
       "    <tr>\n",
       "      <td>0</td>\n",
       "      <td>1</td>\n",
       "      <td>8437.673028</td>\n",
       "      <td>42</td>\n",
       "      <td>высшее</td>\n",
       "      <td>0</td>\n",
       "      <td>женат / замужем</td>\n",
       "      <td>0</td>\n",
       "      <td>F</td>\n",
       "      <td>сотрудник</td>\n",
       "      <td>0</td>\n",
       "      <td>253875.639453</td>\n",
       "      <td>покупка жилья</td>\n",
       "    </tr>\n",
       "    <tr>\n",
       "      <td>1</td>\n",
       "      <td>1</td>\n",
       "      <td>4024.803754</td>\n",
       "      <td>36</td>\n",
       "      <td>среднее</td>\n",
       "      <td>1</td>\n",
       "      <td>женат / замужем</td>\n",
       "      <td>0</td>\n",
       "      <td>F</td>\n",
       "      <td>сотрудник</td>\n",
       "      <td>0</td>\n",
       "      <td>112080.014102</td>\n",
       "      <td>приобретение автомобиля</td>\n",
       "    </tr>\n",
       "    <tr>\n",
       "      <td>2</td>\n",
       "      <td>0</td>\n",
       "      <td>5623.422610</td>\n",
       "      <td>33</td>\n",
       "      <td>Среднее</td>\n",
       "      <td>1</td>\n",
       "      <td>женат / замужем</td>\n",
       "      <td>0</td>\n",
       "      <td>M</td>\n",
       "      <td>сотрудник</td>\n",
       "      <td>0</td>\n",
       "      <td>145885.952297</td>\n",
       "      <td>покупка жилья</td>\n",
       "    </tr>\n",
       "    <tr>\n",
       "      <td>3</td>\n",
       "      <td>3</td>\n",
       "      <td>4124.747207</td>\n",
       "      <td>32</td>\n",
       "      <td>среднее</td>\n",
       "      <td>1</td>\n",
       "      <td>женат / замужем</td>\n",
       "      <td>0</td>\n",
       "      <td>M</td>\n",
       "      <td>сотрудник</td>\n",
       "      <td>0</td>\n",
       "      <td>267628.550329</td>\n",
       "      <td>дополнительное образование</td>\n",
       "    </tr>\n",
       "    <tr>\n",
       "      <td>4</td>\n",
       "      <td>0</td>\n",
       "      <td>14177.753002</td>\n",
       "      <td>53</td>\n",
       "      <td>среднее</td>\n",
       "      <td>1</td>\n",
       "      <td>гражданский брак</td>\n",
       "      <td>1</td>\n",
       "      <td>F</td>\n",
       "      <td>пенсионер</td>\n",
       "      <td>0</td>\n",
       "      <td>158616.077870</td>\n",
       "      <td>сыграть свадьбу</td>\n",
       "    </tr>\n",
       "  </tbody>\n",
       "</table>\n",
       "</div>"
      ],
      "text/plain": [
       "   children  days_employed  dob_years education  education_id  \\\n",
       "0         1    8437.673028         42    высшее             0   \n",
       "1         1    4024.803754         36   среднее             1   \n",
       "2         0    5623.422610         33   Среднее             1   \n",
       "3         3    4124.747207         32   среднее             1   \n",
       "4         0   14177.753002         53   среднее             1   \n",
       "\n",
       "      family_status  family_status_id gender income_type  debt   total_income  \\\n",
       "0   женат / замужем                 0      F   сотрудник     0  253875.639453   \n",
       "1   женат / замужем                 0      F   сотрудник     0  112080.014102   \n",
       "2   женат / замужем                 0      M   сотрудник     0  145885.952297   \n",
       "3   женат / замужем                 0      M   сотрудник     0  267628.550329   \n",
       "4  гражданский брак                 1      F   пенсионер     0  158616.077870   \n",
       "\n",
       "                      purpose  \n",
       "0               покупка жилья  \n",
       "1     приобретение автомобиля  \n",
       "2               покупка жилья  \n",
       "3  дополнительное образование  \n",
       "4             сыграть свадьбу  "
      ]
     },
     "execution_count": 14,
     "metadata": {},
     "output_type": "execute_result"
    }
   ],
   "source": [
    "customer_solvency['days_employed'] = customer_solvency['days_employed'].apply(change_large_data)\n",
    "customer_solvency.head()"
   ]
  },
  {
   "cell_type": "markdown",
   "metadata": {},
   "source": [
    "#### Про столбец 'total_income'"
   ]
  },
  {
   "cell_type": "markdown",
   "metadata": {},
   "source": [
    "**Будем менять пропуски на медианные значения ежемесячного дохода в зависимости от категории клиента 'income_type'**"
   ]
  },
  {
   "cell_type": "markdown",
   "metadata": {},
   "source": [
    "*Выясним, какой медианный заработок у каждого типа занятости?*"
   ]
  },
  {
   "cell_type": "code",
   "execution_count": 15,
   "metadata": {
    "scrolled": false
   },
   "outputs": [
    {
     "data": {
      "text/plain": [
       "income_type\n",
       "предприниматель    499163.144947\n",
       "компаньон          172357.950966\n",
       "госслужащий        150447.935283\n",
       "сотрудник          142594.396847\n",
       "безработный        131339.751676\n",
       "пенсионер          118514.486412\n",
       "студент             98201.625314\n",
       "в декрете           53829.130729\n",
       "Name: total_income, dtype: float64"
      ]
     },
     "execution_count": 15,
     "metadata": {},
     "output_type": "execute_result"
    }
   ],
   "source": [
    "customer_solvency \\\n",
    "                    .groupby(by='income_type')['total_income'] \\\n",
    "                    .median() \\\n",
    "                    .sort_values(ascending=False)     "
   ]
  },
  {
   "cell_type": "markdown",
   "metadata": {},
   "source": [
    "*Проверим в каких категориях есть пропуски данных.\n",
    "Для этого заменим NaN на 0:*"
   ]
  },
  {
   "cell_type": "code",
   "execution_count": 16,
   "metadata": {
    "scrolled": false
   },
   "outputs": [
    {
     "name": "stdout",
     "output_type": "stream",
     "text": [
      "сотрудник          1105\n",
      "компаньон           508\n",
      "пенсионер           413\n",
      "госслужащий         147\n",
      "предприниматель       1\n",
      "Name: income_type, dtype: int64\n"
     ]
    }
   ],
   "source": [
    "customer_solvency['total_income'] = customer_solvency['total_income'].fillna(0)\n",
    "print(customer_solvency['income_type'][customer_solvency['total_income'] == 0].value_counts())"
   ]
  },
  {
   "cell_type": "markdown",
   "metadata": {},
   "source": [
    "*Проверим, избавились ли мы от пропусков в столбце 'total_income', заменив их на 0*"
   ]
  },
  {
   "cell_type": "code",
   "execution_count": 17,
   "metadata": {},
   "outputs": [
    {
     "data": {
      "text/plain": [
       "children            0\n",
       "days_employed       0\n",
       "dob_years           0\n",
       "education           0\n",
       "education_id        0\n",
       "family_status       0\n",
       "family_status_id    0\n",
       "gender              0\n",
       "income_type         0\n",
       "debt                0\n",
       "total_income        0\n",
       "purpose             0\n",
       "dtype: int64"
      ]
     },
     "execution_count": 17,
     "metadata": {},
     "output_type": "execute_result"
    }
   ],
   "source": [
    "customer_solvency.isna().sum()"
   ]
  },
  {
   "cell_type": "markdown",
   "metadata": {},
   "source": [
    "**Получается у 5ти категорий есть пропуски: 'сотрудник', 'компаньон', 'пенсионер', 'госслужащий', 'предприниматель'**"
   ]
  },
  {
   "cell_type": "markdown",
   "metadata": {},
   "source": [
    "*Создадим функцию для заполнения нулевых значений по условию.*"
   ]
  },
  {
   "cell_type": "markdown",
   "metadata": {},
   "source": [
    "income_type = 'сотрудник', 'компаньон', 'пенсионер', 'госслужащий', 'предприниматель' -- список категорий, где есть пропуски \\\n",
    "income_avg = 142594.396847, 172357.950966, 118514.486412, 150447.935283, 499163.144947  -- список с медианным заработком"
   ]
  },
  {
   "cell_type": "code",
   "execution_count": 18,
   "metadata": {},
   "outputs": [],
   "source": [
    "def fill_zero_total_income(row):\n",
    "    \n",
    "    # функция проверяет тип занятости и наличие нулевого значения дохода,\n",
    "    # если условия дают истину, то заменяет на медианное значение дохода соответствующей категории занятости\n",
    "    # если условия дают ложь, оставляет старое значение\n",
    "\n",
    "    if row['income_type'] == 'сотрудник':\n",
    "        if row['total_income'] == 0:\n",
    "            new_value = 142594.396847\n",
    "            return new_value\n",
    "        return row['total_income']\n",
    "\n",
    "    elif row['income_type'] == 'компаньон':\n",
    "        if row['total_income'] == 0:\n",
    "            new_value = 172357.950966\n",
    "            return new_value\n",
    "        return row['total_income']\n",
    "    \n",
    "    elif row['income_type'] == 'пенсионер':\n",
    "        if row['total_income'] == 0:\n",
    "            new_value = 118514.486412\n",
    "            return new_value \n",
    "        return row['total_income']      \n",
    "    \n",
    "    elif row['income_type'] == 'госслужащий':\n",
    "        if row['total_income'] == 0:\n",
    "            new_value = 150447.935283\n",
    "            return new_value \n",
    "        return row['total_income']  \n",
    "    \n",
    "    elif row['income_type'] == 'предприниматель':\n",
    "        if row['total_income'] == 0:\n",
    "            new_value = 499163.144947\n",
    "            return new_value  \n",
    "        return row['total_income']  "
   ]
  },
  {
   "cell_type": "code",
   "execution_count": 19,
   "metadata": {
    "scrolled": true
   },
   "outputs": [
    {
     "data": {
      "text/html": [
       "<div>\n",
       "<style scoped>\n",
       "    .dataframe tbody tr th:only-of-type {\n",
       "        vertical-align: middle;\n",
       "    }\n",
       "\n",
       "    .dataframe tbody tr th {\n",
       "        vertical-align: top;\n",
       "    }\n",
       "\n",
       "    .dataframe thead th {\n",
       "        text-align: right;\n",
       "    }\n",
       "</style>\n",
       "<table border=\"1\" class=\"dataframe\">\n",
       "  <thead>\n",
       "    <tr style=\"text-align: right;\">\n",
       "      <th></th>\n",
       "      <th>children</th>\n",
       "      <th>days_employed</th>\n",
       "      <th>dob_years</th>\n",
       "      <th>education</th>\n",
       "      <th>education_id</th>\n",
       "      <th>family_status</th>\n",
       "      <th>family_status_id</th>\n",
       "      <th>gender</th>\n",
       "      <th>income_type</th>\n",
       "      <th>debt</th>\n",
       "      <th>total_income</th>\n",
       "      <th>purpose</th>\n",
       "    </tr>\n",
       "  </thead>\n",
       "  <tbody>\n",
       "    <tr>\n",
       "      <td>0</td>\n",
       "      <td>1</td>\n",
       "      <td>8437.673028</td>\n",
       "      <td>42</td>\n",
       "      <td>высшее</td>\n",
       "      <td>0</td>\n",
       "      <td>женат / замужем</td>\n",
       "      <td>0</td>\n",
       "      <td>F</td>\n",
       "      <td>сотрудник</td>\n",
       "      <td>0</td>\n",
       "      <td>253875.639453</td>\n",
       "      <td>покупка жилья</td>\n",
       "    </tr>\n",
       "    <tr>\n",
       "      <td>1</td>\n",
       "      <td>1</td>\n",
       "      <td>4024.803754</td>\n",
       "      <td>36</td>\n",
       "      <td>среднее</td>\n",
       "      <td>1</td>\n",
       "      <td>женат / замужем</td>\n",
       "      <td>0</td>\n",
       "      <td>F</td>\n",
       "      <td>сотрудник</td>\n",
       "      <td>0</td>\n",
       "      <td>112080.014102</td>\n",
       "      <td>приобретение автомобиля</td>\n",
       "    </tr>\n",
       "    <tr>\n",
       "      <td>2</td>\n",
       "      <td>0</td>\n",
       "      <td>5623.422610</td>\n",
       "      <td>33</td>\n",
       "      <td>Среднее</td>\n",
       "      <td>1</td>\n",
       "      <td>женат / замужем</td>\n",
       "      <td>0</td>\n",
       "      <td>M</td>\n",
       "      <td>сотрудник</td>\n",
       "      <td>0</td>\n",
       "      <td>145885.952297</td>\n",
       "      <td>покупка жилья</td>\n",
       "    </tr>\n",
       "    <tr>\n",
       "      <td>3</td>\n",
       "      <td>3</td>\n",
       "      <td>4124.747207</td>\n",
       "      <td>32</td>\n",
       "      <td>среднее</td>\n",
       "      <td>1</td>\n",
       "      <td>женат / замужем</td>\n",
       "      <td>0</td>\n",
       "      <td>M</td>\n",
       "      <td>сотрудник</td>\n",
       "      <td>0</td>\n",
       "      <td>267628.550329</td>\n",
       "      <td>дополнительное образование</td>\n",
       "    </tr>\n",
       "    <tr>\n",
       "      <td>4</td>\n",
       "      <td>0</td>\n",
       "      <td>14177.753002</td>\n",
       "      <td>53</td>\n",
       "      <td>среднее</td>\n",
       "      <td>1</td>\n",
       "      <td>гражданский брак</td>\n",
       "      <td>1</td>\n",
       "      <td>F</td>\n",
       "      <td>пенсионер</td>\n",
       "      <td>0</td>\n",
       "      <td>158616.077870</td>\n",
       "      <td>сыграть свадьбу</td>\n",
       "    </tr>\n",
       "    <tr>\n",
       "      <td>5</td>\n",
       "      <td>0</td>\n",
       "      <td>926.185831</td>\n",
       "      <td>27</td>\n",
       "      <td>высшее</td>\n",
       "      <td>0</td>\n",
       "      <td>гражданский брак</td>\n",
       "      <td>1</td>\n",
       "      <td>M</td>\n",
       "      <td>компаньон</td>\n",
       "      <td>0</td>\n",
       "      <td>255763.565419</td>\n",
       "      <td>покупка жилья</td>\n",
       "    </tr>\n",
       "    <tr>\n",
       "      <td>6</td>\n",
       "      <td>0</td>\n",
       "      <td>2879.202052</td>\n",
       "      <td>43</td>\n",
       "      <td>высшее</td>\n",
       "      <td>0</td>\n",
       "      <td>женат / замужем</td>\n",
       "      <td>0</td>\n",
       "      <td>F</td>\n",
       "      <td>компаньон</td>\n",
       "      <td>0</td>\n",
       "      <td>240525.971920</td>\n",
       "      <td>операции с жильем</td>\n",
       "    </tr>\n",
       "    <tr>\n",
       "      <td>7</td>\n",
       "      <td>0</td>\n",
       "      <td>152.779569</td>\n",
       "      <td>50</td>\n",
       "      <td>СРЕДНЕЕ</td>\n",
       "      <td>1</td>\n",
       "      <td>женат / замужем</td>\n",
       "      <td>0</td>\n",
       "      <td>M</td>\n",
       "      <td>сотрудник</td>\n",
       "      <td>0</td>\n",
       "      <td>135823.934197</td>\n",
       "      <td>образование</td>\n",
       "    </tr>\n",
       "    <tr>\n",
       "      <td>8</td>\n",
       "      <td>2</td>\n",
       "      <td>6929.865299</td>\n",
       "      <td>35</td>\n",
       "      <td>ВЫСШЕЕ</td>\n",
       "      <td>0</td>\n",
       "      <td>гражданский брак</td>\n",
       "      <td>1</td>\n",
       "      <td>F</td>\n",
       "      <td>сотрудник</td>\n",
       "      <td>0</td>\n",
       "      <td>95856.832424</td>\n",
       "      <td>на проведение свадьбы</td>\n",
       "    </tr>\n",
       "    <tr>\n",
       "      <td>9</td>\n",
       "      <td>0</td>\n",
       "      <td>2188.756445</td>\n",
       "      <td>41</td>\n",
       "      <td>среднее</td>\n",
       "      <td>1</td>\n",
       "      <td>женат / замужем</td>\n",
       "      <td>0</td>\n",
       "      <td>M</td>\n",
       "      <td>сотрудник</td>\n",
       "      <td>0</td>\n",
       "      <td>144425.938277</td>\n",
       "      <td>покупка жилья для семьи</td>\n",
       "    </tr>\n",
       "    <tr>\n",
       "      <td>10</td>\n",
       "      <td>2</td>\n",
       "      <td>4171.483647</td>\n",
       "      <td>36</td>\n",
       "      <td>высшее</td>\n",
       "      <td>0</td>\n",
       "      <td>женат / замужем</td>\n",
       "      <td>0</td>\n",
       "      <td>M</td>\n",
       "      <td>компаньон</td>\n",
       "      <td>0</td>\n",
       "      <td>113943.491460</td>\n",
       "      <td>покупка недвижимости</td>\n",
       "    </tr>\n",
       "    <tr>\n",
       "      <td>11</td>\n",
       "      <td>0</td>\n",
       "      <td>792.701887</td>\n",
       "      <td>40</td>\n",
       "      <td>среднее</td>\n",
       "      <td>1</td>\n",
       "      <td>женат / замужем</td>\n",
       "      <td>0</td>\n",
       "      <td>F</td>\n",
       "      <td>сотрудник</td>\n",
       "      <td>0</td>\n",
       "      <td>77069.234271</td>\n",
       "      <td>покупка коммерческой недвижимости</td>\n",
       "    </tr>\n",
       "    <tr>\n",
       "      <td>12</td>\n",
       "      <td>0</td>\n",
       "      <td>17155.000000</td>\n",
       "      <td>65</td>\n",
       "      <td>среднее</td>\n",
       "      <td>1</td>\n",
       "      <td>гражданский брак</td>\n",
       "      <td>1</td>\n",
       "      <td>M</td>\n",
       "      <td>пенсионер</td>\n",
       "      <td>0</td>\n",
       "      <td>118514.486412</td>\n",
       "      <td>сыграть свадьбу</td>\n",
       "    </tr>\n",
       "  </tbody>\n",
       "</table>\n",
       "</div>"
      ],
      "text/plain": [
       "    children  days_employed  dob_years education  education_id  \\\n",
       "0          1    8437.673028         42    высшее             0   \n",
       "1          1    4024.803754         36   среднее             1   \n",
       "2          0    5623.422610         33   Среднее             1   \n",
       "3          3    4124.747207         32   среднее             1   \n",
       "4          0   14177.753002         53   среднее             1   \n",
       "5          0     926.185831         27    высшее             0   \n",
       "6          0    2879.202052         43    высшее             0   \n",
       "7          0     152.779569         50   СРЕДНЕЕ             1   \n",
       "8          2    6929.865299         35    ВЫСШЕЕ             0   \n",
       "9          0    2188.756445         41   среднее             1   \n",
       "10         2    4171.483647         36    высшее             0   \n",
       "11         0     792.701887         40   среднее             1   \n",
       "12         0   17155.000000         65   среднее             1   \n",
       "\n",
       "       family_status  family_status_id gender income_type  debt  \\\n",
       "0    женат / замужем                 0      F   сотрудник     0   \n",
       "1    женат / замужем                 0      F   сотрудник     0   \n",
       "2    женат / замужем                 0      M   сотрудник     0   \n",
       "3    женат / замужем                 0      M   сотрудник     0   \n",
       "4   гражданский брак                 1      F   пенсионер     0   \n",
       "5   гражданский брак                 1      M   компаньон     0   \n",
       "6    женат / замужем                 0      F   компаньон     0   \n",
       "7    женат / замужем                 0      M   сотрудник     0   \n",
       "8   гражданский брак                 1      F   сотрудник     0   \n",
       "9    женат / замужем                 0      M   сотрудник     0   \n",
       "10   женат / замужем                 0      M   компаньон     0   \n",
       "11   женат / замужем                 0      F   сотрудник     0   \n",
       "12  гражданский брак                 1      M   пенсионер     0   \n",
       "\n",
       "     total_income                            purpose  \n",
       "0   253875.639453                      покупка жилья  \n",
       "1   112080.014102            приобретение автомобиля  \n",
       "2   145885.952297                      покупка жилья  \n",
       "3   267628.550329         дополнительное образование  \n",
       "4   158616.077870                    сыграть свадьбу  \n",
       "5   255763.565419                      покупка жилья  \n",
       "6   240525.971920                  операции с жильем  \n",
       "7   135823.934197                        образование  \n",
       "8    95856.832424              на проведение свадьбы  \n",
       "9   144425.938277            покупка жилья для семьи  \n",
       "10  113943.491460               покупка недвижимости  \n",
       "11   77069.234271  покупка коммерческой недвижимости  \n",
       "12  118514.486412                    сыграть свадьбу  "
      ]
     },
     "execution_count": 19,
     "metadata": {},
     "output_type": "execute_result"
    }
   ],
   "source": [
    "customer_solvency['total_income'] = customer_solvency.apply(fill_zero_total_income, axis=1)\n",
    "customer_solvency.head(13)"
   ]
  },
  {
   "cell_type": "code",
   "execution_count": 20,
   "metadata": {
    "scrolled": true
   },
   "outputs": [
    {
     "data": {
      "text/plain": [
       "children            0\n",
       "days_employed       0\n",
       "dob_years           0\n",
       "education           0\n",
       "education_id        0\n",
       "family_status       0\n",
       "family_status_id    0\n",
       "gender              0\n",
       "income_type         0\n",
       "debt                0\n",
       "total_income        4\n",
       "purpose             0\n",
       "dtype: int64"
      ]
     },
     "execution_count": 20,
     "metadata": {},
     "output_type": "execute_result"
    }
   ],
   "source": [
    "customer_solvency.isna().sum()"
   ]
  },
  {
   "cell_type": "markdown",
   "metadata": {},
   "source": [
    "*Появилось 4 пропуска в \"total_income\". Удалим эти 4 пропуска.*"
   ]
  },
  {
   "cell_type": "code",
   "execution_count": 21,
   "metadata": {
    "scrolled": true
   },
   "outputs": [
    {
     "data": {
      "text/plain": [
       "children            0\n",
       "days_employed       0\n",
       "dob_years           0\n",
       "education           0\n",
       "education_id        0\n",
       "family_status       0\n",
       "family_status_id    0\n",
       "gender              0\n",
       "income_type         0\n",
       "debt                0\n",
       "total_income        0\n",
       "purpose             0\n",
       "dtype: int64"
      ]
     },
     "execution_count": 21,
     "metadata": {},
     "output_type": "execute_result"
    }
   ],
   "source": [
    "customer_solvency = customer_solvency.dropna(subset={'total_income'}).reset_index(drop=True)\n",
    "customer_solvency.isna().sum()"
   ]
  },
  {
   "cell_type": "markdown",
   "metadata": {},
   "source": [
    "#### Про столбец 'children'"
   ]
  },
  {
   "cell_type": "markdown",
   "metadata": {},
   "source": [
    "*Проверим данные столбца 'children'*"
   ]
  },
  {
   "cell_type": "code",
   "execution_count": 22,
   "metadata": {},
   "outputs": [
    {
     "data": {
      "text/plain": [
       " 0     14147\n",
       " 1      4817\n",
       " 2      2054\n",
       " 3       330\n",
       " 20       76\n",
       "-1        47\n",
       " 4        41\n",
       " 5         9\n",
       "Name: children, dtype: int64"
      ]
     },
     "execution_count": 22,
     "metadata": {},
     "output_type": "execute_result"
    }
   ],
   "source": [
    "customer_solvency['children'].value_counts()"
   ]
  },
  {
   "cell_type": "markdown",
   "metadata": {},
   "source": [
    "*значение -1. Вероятно это человеческая ошибка. Исправим на 1* \\\n",
    "*значение 20. Вероятно это человеческая ошибка. Исправим на 2*"
   ]
  },
  {
   "cell_type": "code",
   "execution_count": 23,
   "metadata": {},
   "outputs": [],
   "source": [
    "customer_solvency['children'] = abs(customer_solvency['children'])"
   ]
  },
  {
   "cell_type": "code",
   "execution_count": 24,
   "metadata": {},
   "outputs": [
    {
     "data": {
      "text/plain": [
       "array(['сотрудник', 'пенсионер', 'компаньон', 'госслужащий',\n",
       "       'предприниматель'], dtype=object)"
      ]
     },
     "execution_count": 24,
     "metadata": {},
     "output_type": "execute_result"
    }
   ],
   "source": [
    "customer_solvency['income_type'].unique()"
   ]
  },
  {
   "cell_type": "code",
   "execution_count": 25,
   "metadata": {
    "scrolled": true
   },
   "outputs": [
    {
     "data": {
      "text/plain": [
       "0    14147\n",
       "1     4864\n",
       "2     2130\n",
       "3      330\n",
       "4       41\n",
       "5        9\n",
       "Name: children, dtype: int64"
      ]
     },
     "execution_count": 25,
     "metadata": {},
     "output_type": "execute_result"
    }
   ],
   "source": [
    "customer_solvency.loc[customer_solvency['children'] == 20, 'children'] = 2\n",
    "customer_solvency['children'].value_counts()"
   ]
  },
  {
   "cell_type": "markdown",
   "metadata": {},
   "source": [
    "#### **Вывод**"
   ]
  },
  {
   "cell_type": "markdown",
   "metadata": {},
   "source": [
    "<div style=\"border:solid indigo 2px; padding: 20px\">\n",
    "    \n",
    "- Пропуски в датафрейме найдены в двух столбцах: 'days_employed' и 'total_income'. Количество пропусков - почти 10%.\n",
    "- Столбец 'days_employed':\n",
    "    - Пропуски заменим на стаж, подсчитанный по формуле: (лет клиенту - 18)*365\n",
    "    - Отрицательные значения дней стажа получились путем вычитания года начала работы (около 18 лет) от прожитых лет.\n",
    "    - Огромные положительные значения взяты ошибочно. Вероятно расчет производился по формуле:\n",
    "\n",
    "                   ('кол-во лет' - 'год начала работы') * 30 * 12. Но потом еще умножили на кол-во часов\n",
    "                   ('кол-во лет' - 'год начала работы') * 30 * 12 * 24 , что является ошибкой\n",
    "\n",
    "    \n",
    "- В столбце 'total_income' принято решение не удалять пропуски, а заменить их на медианное значение ежемесячного дохода в зависимости от категории клиента. Замена выполнена функцией.\n",
    "- В столбце 'children' значения -1 заменили на 1. Вероятно это была человеческая ошибка, такая же как 20 детей, которую заменили на 2."
   ]
  },
  {
   "cell_type": "markdown",
   "metadata": {},
   "source": [
    "### Замена типа данных"
   ]
  },
  {
   "cell_type": "markdown",
   "metadata": {},
   "source": [
    "- *Столбец 'total_income' содержит вещественные значения. Такие данные не удобны, точность дохода до шести нулей не нужна. Необходимо перевести данные в целочисленные значения.* \n",
    "- *Также заменим количество дней стажа на integer*"
   ]
  },
  {
   "cell_type": "code",
   "execution_count": 26,
   "metadata": {
    "scrolled": true
   },
   "outputs": [
    {
     "name": "stdout",
     "output_type": "stream",
     "text": [
      "<class 'pandas.core.frame.DataFrame'>\n",
      "RangeIndex: 21521 entries, 0 to 21520\n",
      "Data columns (total 12 columns):\n",
      "children            21521 non-null int64\n",
      "days_employed       21521 non-null float64\n",
      "dob_years           21521 non-null int64\n",
      "education           21521 non-null object\n",
      "education_id        21521 non-null int64\n",
      "family_status       21521 non-null object\n",
      "family_status_id    21521 non-null int64\n",
      "gender              21521 non-null object\n",
      "income_type         21521 non-null object\n",
      "debt                21521 non-null int64\n",
      "total_income        21521 non-null float64\n",
      "purpose             21521 non-null object\n",
      "dtypes: float64(2), int64(5), object(5)\n",
      "memory usage: 2.0+ MB\n"
     ]
    }
   ],
   "source": [
    "customer_solvency.info()"
   ]
  },
  {
   "cell_type": "code",
   "execution_count": 27,
   "metadata": {
    "scrolled": true
   },
   "outputs": [
    {
     "data": {
      "text/plain": [
       "children            0\n",
       "days_employed       0\n",
       "dob_years           0\n",
       "education           0\n",
       "education_id        0\n",
       "family_status       0\n",
       "family_status_id    0\n",
       "gender              0\n",
       "income_type         0\n",
       "debt                0\n",
       "total_income        0\n",
       "purpose             0\n",
       "dtype: int64"
      ]
     },
     "execution_count": 27,
     "metadata": {},
     "output_type": "execute_result"
    }
   ],
   "source": [
    "customer_solvency.isna().sum()"
   ]
  },
  {
   "cell_type": "code",
   "execution_count": 28,
   "metadata": {},
   "outputs": [
    {
     "data": {
      "text/plain": [
       "0         8437.673028\n",
       "1         4024.803754\n",
       "2         5623.422610\n",
       "3         4124.747207\n",
       "4        14177.753002\n",
       "             ...     \n",
       "21516     4529.316663\n",
       "21517    14330.725172\n",
       "21518     2113.346888\n",
       "21519     3112.481705\n",
       "21520     1984.507589\n",
       "Name: days_employed, Length: 21521, dtype: float64"
      ]
     },
     "execution_count": 28,
     "metadata": {},
     "output_type": "execute_result"
    }
   ],
   "source": [
    "customer_solvency['days_employed']"
   ]
  },
  {
   "cell_type": "code",
   "execution_count": 29,
   "metadata": {},
   "outputs": [],
   "source": [
    "customer_solvency['total_income'] = customer_solvency['total_income'].astype('int')\n",
    "customer_solvency['days_employed'] = customer_solvency['days_employed'].astype('int')"
   ]
  },
  {
   "cell_type": "code",
   "execution_count": 30,
   "metadata": {
    "scrolled": false
   },
   "outputs": [
    {
     "data": {
      "text/html": [
       "<div>\n",
       "<style scoped>\n",
       "    .dataframe tbody tr th:only-of-type {\n",
       "        vertical-align: middle;\n",
       "    }\n",
       "\n",
       "    .dataframe tbody tr th {\n",
       "        vertical-align: top;\n",
       "    }\n",
       "\n",
       "    .dataframe thead th {\n",
       "        text-align: right;\n",
       "    }\n",
       "</style>\n",
       "<table border=\"1\" class=\"dataframe\">\n",
       "  <thead>\n",
       "    <tr style=\"text-align: right;\">\n",
       "      <th></th>\n",
       "      <th>children</th>\n",
       "      <th>days_employed</th>\n",
       "      <th>dob_years</th>\n",
       "      <th>education</th>\n",
       "      <th>education_id</th>\n",
       "      <th>family_status</th>\n",
       "      <th>family_status_id</th>\n",
       "      <th>gender</th>\n",
       "      <th>income_type</th>\n",
       "      <th>debt</th>\n",
       "      <th>total_income</th>\n",
       "      <th>purpose</th>\n",
       "    </tr>\n",
       "  </thead>\n",
       "  <tbody>\n",
       "    <tr>\n",
       "      <td>0</td>\n",
       "      <td>1</td>\n",
       "      <td>8437</td>\n",
       "      <td>42</td>\n",
       "      <td>высшее</td>\n",
       "      <td>0</td>\n",
       "      <td>женат / замужем</td>\n",
       "      <td>0</td>\n",
       "      <td>F</td>\n",
       "      <td>сотрудник</td>\n",
       "      <td>0</td>\n",
       "      <td>253875</td>\n",
       "      <td>покупка жилья</td>\n",
       "    </tr>\n",
       "    <tr>\n",
       "      <td>1</td>\n",
       "      <td>1</td>\n",
       "      <td>4024</td>\n",
       "      <td>36</td>\n",
       "      <td>среднее</td>\n",
       "      <td>1</td>\n",
       "      <td>женат / замужем</td>\n",
       "      <td>0</td>\n",
       "      <td>F</td>\n",
       "      <td>сотрудник</td>\n",
       "      <td>0</td>\n",
       "      <td>112080</td>\n",
       "      <td>приобретение автомобиля</td>\n",
       "    </tr>\n",
       "    <tr>\n",
       "      <td>2</td>\n",
       "      <td>0</td>\n",
       "      <td>5623</td>\n",
       "      <td>33</td>\n",
       "      <td>Среднее</td>\n",
       "      <td>1</td>\n",
       "      <td>женат / замужем</td>\n",
       "      <td>0</td>\n",
       "      <td>M</td>\n",
       "      <td>сотрудник</td>\n",
       "      <td>0</td>\n",
       "      <td>145885</td>\n",
       "      <td>покупка жилья</td>\n",
       "    </tr>\n",
       "    <tr>\n",
       "      <td>3</td>\n",
       "      <td>3</td>\n",
       "      <td>4124</td>\n",
       "      <td>32</td>\n",
       "      <td>среднее</td>\n",
       "      <td>1</td>\n",
       "      <td>женат / замужем</td>\n",
       "      <td>0</td>\n",
       "      <td>M</td>\n",
       "      <td>сотрудник</td>\n",
       "      <td>0</td>\n",
       "      <td>267628</td>\n",
       "      <td>дополнительное образование</td>\n",
       "    </tr>\n",
       "    <tr>\n",
       "      <td>4</td>\n",
       "      <td>0</td>\n",
       "      <td>14177</td>\n",
       "      <td>53</td>\n",
       "      <td>среднее</td>\n",
       "      <td>1</td>\n",
       "      <td>гражданский брак</td>\n",
       "      <td>1</td>\n",
       "      <td>F</td>\n",
       "      <td>пенсионер</td>\n",
       "      <td>0</td>\n",
       "      <td>158616</td>\n",
       "      <td>сыграть свадьбу</td>\n",
       "    </tr>\n",
       "  </tbody>\n",
       "</table>\n",
       "</div>"
      ],
      "text/plain": [
       "   children  days_employed  dob_years education  education_id  \\\n",
       "0         1           8437         42    высшее             0   \n",
       "1         1           4024         36   среднее             1   \n",
       "2         0           5623         33   Среднее             1   \n",
       "3         3           4124         32   среднее             1   \n",
       "4         0          14177         53   среднее             1   \n",
       "\n",
       "      family_status  family_status_id gender income_type  debt  total_income  \\\n",
       "0   женат / замужем                 0      F   сотрудник     0        253875   \n",
       "1   женат / замужем                 0      F   сотрудник     0        112080   \n",
       "2   женат / замужем                 0      M   сотрудник     0        145885   \n",
       "3   женат / замужем                 0      M   сотрудник     0        267628   \n",
       "4  гражданский брак                 1      F   пенсионер     0        158616   \n",
       "\n",
       "                      purpose  \n",
       "0               покупка жилья  \n",
       "1     приобретение автомобиля  \n",
       "2               покупка жилья  \n",
       "3  дополнительное образование  \n",
       "4             сыграть свадьбу  "
      ]
     },
     "execution_count": 30,
     "metadata": {},
     "output_type": "execute_result"
    }
   ],
   "source": [
    "customer_solvency.head()"
   ]
  },
  {
   "cell_type": "markdown",
   "metadata": {},
   "source": [
    "#### **Вывод**"
   ]
  },
  {
   "cell_type": "markdown",
   "metadata": {},
   "source": [
    "<div style=\"border:solid indigo 2px; padding: 20px\">\n",
    "    \n",
    "- Столбец 'total_income' содержит вещественные значения. Такие данные не удобны для просмотра, точноcть дохода до шести нулей не нужна. Перевели данные в целочисленные значения.\n",
    "- Столбец 'days_employed' также перевели в целые значения, тк доли дней нам не нужны.\n",
    "- Для перевода используем функцию astype()"
   ]
  },
  {
   "cell_type": "markdown",
   "metadata": {},
   "source": [
    "### Обработка дубликатов"
   ]
  },
  {
   "cell_type": "markdown",
   "metadata": {},
   "source": [
    "#### Обработка неявных дубликатов"
   ]
  },
  {
   "cell_type": "markdown",
   "metadata": {},
   "source": [
    "*Дубликаты встречаются в столбце 'education'*"
   ]
  },
  {
   "cell_type": "code",
   "execution_count": 31,
   "metadata": {
    "scrolled": true
   },
   "outputs": [
    {
     "data": {
      "text/plain": [
       "array(['высшее', 'среднее', 'Среднее', 'СРЕДНЕЕ', 'ВЫСШЕЕ',\n",
       "       'неоконченное высшее', 'начальное', 'Высшее',\n",
       "       'НЕОКОНЧЕННОЕ ВЫСШЕЕ', 'Неоконченное высшее', 'НАЧАЛЬНОЕ',\n",
       "       'Начальное', 'Ученая степень', 'УЧЕНАЯ СТЕПЕНЬ', 'ученая степень'],\n",
       "      dtype=object)"
      ]
     },
     "execution_count": 31,
     "metadata": {},
     "output_type": "execute_result"
    }
   ],
   "source": [
    "customer_solvency['education'].unique()"
   ]
  },
  {
   "cell_type": "markdown",
   "metadata": {},
   "source": [
    "*Значения отличаются только регистром. Предлагаю использовать варианты в нижнем регистре. Значит нужно весь столбец перевести к нижнему регистру методом lower()*"
   ]
  },
  {
   "cell_type": "code",
   "execution_count": 32,
   "metadata": {},
   "outputs": [
    {
     "data": {
      "text/plain": [
       "array(['высшее', 'среднее', 'неоконченное высшее', 'начальное',\n",
       "       'ученая степень'], dtype=object)"
      ]
     },
     "execution_count": 32,
     "metadata": {},
     "output_type": "execute_result"
    }
   ],
   "source": [
    "customer_solvency['education'] = customer_solvency['education'].str.lower()\n",
    "customer_solvency['education'].unique()"
   ]
  },
  {
   "cell_type": "markdown",
   "metadata": {},
   "source": [
    "*Теперь неявных дубликатов в столбце 'education' нет*"
   ]
  },
  {
   "cell_type": "markdown",
   "metadata": {},
   "source": [
    "#### Обработка явных дубликатов"
   ]
  },
  {
   "cell_type": "markdown",
   "metadata": {},
   "source": [
    "*Выведем количество явных дубликатов*"
   ]
  },
  {
   "cell_type": "code",
   "execution_count": 33,
   "metadata": {
    "scrolled": true
   },
   "outputs": [
    {
     "data": {
      "text/plain": [
       "71"
      ]
     },
     "execution_count": 33,
     "metadata": {},
     "output_type": "execute_result"
    }
   ],
   "source": [
    "customer_solvency.duplicated().sum()"
   ]
  },
  {
   "cell_type": "markdown",
   "metadata": {},
   "source": [
    "*Посмотрим на явные дубликаты*"
   ]
  },
  {
   "cell_type": "code",
   "execution_count": 34,
   "metadata": {
    "scrolled": true
   },
   "outputs": [
    {
     "data": {
      "text/html": [
       "<div>\n",
       "<style scoped>\n",
       "    .dataframe tbody tr th:only-of-type {\n",
       "        vertical-align: middle;\n",
       "    }\n",
       "\n",
       "    .dataframe tbody tr th {\n",
       "        vertical-align: top;\n",
       "    }\n",
       "\n",
       "    .dataframe thead th {\n",
       "        text-align: right;\n",
       "    }\n",
       "</style>\n",
       "<table border=\"1\" class=\"dataframe\">\n",
       "  <thead>\n",
       "    <tr style=\"text-align: right;\">\n",
       "      <th></th>\n",
       "      <th>children</th>\n",
       "      <th>days_employed</th>\n",
       "      <th>dob_years</th>\n",
       "      <th>education</th>\n",
       "      <th>education_id</th>\n",
       "      <th>family_status</th>\n",
       "      <th>family_status_id</th>\n",
       "      <th>gender</th>\n",
       "      <th>income_type</th>\n",
       "      <th>debt</th>\n",
       "      <th>total_income</th>\n",
       "      <th>purpose</th>\n",
       "    </tr>\n",
       "  </thead>\n",
       "  <tbody>\n",
       "    <tr>\n",
       "      <td>2849</td>\n",
       "      <td>0</td>\n",
       "      <td>8395</td>\n",
       "      <td>41</td>\n",
       "      <td>среднее</td>\n",
       "      <td>1</td>\n",
       "      <td>женат / замужем</td>\n",
       "      <td>0</td>\n",
       "      <td>F</td>\n",
       "      <td>сотрудник</td>\n",
       "      <td>0</td>\n",
       "      <td>142594</td>\n",
       "      <td>покупка жилья для семьи</td>\n",
       "    </tr>\n",
       "    <tr>\n",
       "      <td>3289</td>\n",
       "      <td>0</td>\n",
       "      <td>14600</td>\n",
       "      <td>58</td>\n",
       "      <td>среднее</td>\n",
       "      <td>1</td>\n",
       "      <td>гражданский брак</td>\n",
       "      <td>1</td>\n",
       "      <td>F</td>\n",
       "      <td>пенсионер</td>\n",
       "      <td>0</td>\n",
       "      <td>118514</td>\n",
       "      <td>сыграть свадьбу</td>\n",
       "    </tr>\n",
       "    <tr>\n",
       "      <td>4181</td>\n",
       "      <td>1</td>\n",
       "      <td>5840</td>\n",
       "      <td>34</td>\n",
       "      <td>высшее</td>\n",
       "      <td>0</td>\n",
       "      <td>гражданский брак</td>\n",
       "      <td>1</td>\n",
       "      <td>F</td>\n",
       "      <td>сотрудник</td>\n",
       "      <td>0</td>\n",
       "      <td>142594</td>\n",
       "      <td>свадьба</td>\n",
       "    </tr>\n",
       "    <tr>\n",
       "      <td>4850</td>\n",
       "      <td>0</td>\n",
       "      <td>15330</td>\n",
       "      <td>60</td>\n",
       "      <td>среднее</td>\n",
       "      <td>1</td>\n",
       "      <td>гражданский брак</td>\n",
       "      <td>1</td>\n",
       "      <td>F</td>\n",
       "      <td>пенсионер</td>\n",
       "      <td>0</td>\n",
       "      <td>118514</td>\n",
       "      <td>свадьба</td>\n",
       "    </tr>\n",
       "    <tr>\n",
       "      <td>5556</td>\n",
       "      <td>0</td>\n",
       "      <td>14600</td>\n",
       "      <td>58</td>\n",
       "      <td>среднее</td>\n",
       "      <td>1</td>\n",
       "      <td>гражданский брак</td>\n",
       "      <td>1</td>\n",
       "      <td>F</td>\n",
       "      <td>пенсионер</td>\n",
       "      <td>0</td>\n",
       "      <td>118514</td>\n",
       "      <td>сыграть свадьбу</td>\n",
       "    </tr>\n",
       "    <tr>\n",
       "      <td>6311</td>\n",
       "      <td>0</td>\n",
       "      <td>4380</td>\n",
       "      <td>30</td>\n",
       "      <td>среднее</td>\n",
       "      <td>1</td>\n",
       "      <td>женат / замужем</td>\n",
       "      <td>0</td>\n",
       "      <td>M</td>\n",
       "      <td>сотрудник</td>\n",
       "      <td>0</td>\n",
       "      <td>142594</td>\n",
       "      <td>строительство жилой недвижимости</td>\n",
       "    </tr>\n",
       "    <tr>\n",
       "      <td>7807</td>\n",
       "      <td>0</td>\n",
       "      <td>14235</td>\n",
       "      <td>57</td>\n",
       "      <td>среднее</td>\n",
       "      <td>1</td>\n",
       "      <td>гражданский брак</td>\n",
       "      <td>1</td>\n",
       "      <td>F</td>\n",
       "      <td>пенсионер</td>\n",
       "      <td>0</td>\n",
       "      <td>118514</td>\n",
       "      <td>на проведение свадьбы</td>\n",
       "    </tr>\n",
       "    <tr>\n",
       "      <td>7920</td>\n",
       "      <td>0</td>\n",
       "      <td>16790</td>\n",
       "      <td>64</td>\n",
       "      <td>высшее</td>\n",
       "      <td>0</td>\n",
       "      <td>гражданский брак</td>\n",
       "      <td>1</td>\n",
       "      <td>F</td>\n",
       "      <td>пенсионер</td>\n",
       "      <td>0</td>\n",
       "      <td>118514</td>\n",
       "      <td>на проведение свадьбы</td>\n",
       "    </tr>\n",
       "    <tr>\n",
       "      <td>7937</td>\n",
       "      <td>0</td>\n",
       "      <td>806</td>\n",
       "      <td>71</td>\n",
       "      <td>среднее</td>\n",
       "      <td>1</td>\n",
       "      <td>гражданский брак</td>\n",
       "      <td>1</td>\n",
       "      <td>F</td>\n",
       "      <td>пенсионер</td>\n",
       "      <td>0</td>\n",
       "      <td>118514</td>\n",
       "      <td>на проведение свадьбы</td>\n",
       "    </tr>\n",
       "    <tr>\n",
       "      <td>8582</td>\n",
       "      <td>0</td>\n",
       "      <td>14600</td>\n",
       "      <td>58</td>\n",
       "      <td>высшее</td>\n",
       "      <td>0</td>\n",
       "      <td>Не женат / не замужем</td>\n",
       "      <td>4</td>\n",
       "      <td>F</td>\n",
       "      <td>пенсионер</td>\n",
       "      <td>0</td>\n",
       "      <td>118514</td>\n",
       "      <td>дополнительное образование</td>\n",
       "    </tr>\n",
       "    <tr>\n",
       "      <td>9237</td>\n",
       "      <td>2</td>\n",
       "      <td>5840</td>\n",
       "      <td>34</td>\n",
       "      <td>среднее</td>\n",
       "      <td>1</td>\n",
       "      <td>женат / замужем</td>\n",
       "      <td>0</td>\n",
       "      <td>F</td>\n",
       "      <td>сотрудник</td>\n",
       "      <td>0</td>\n",
       "      <td>142594</td>\n",
       "      <td>покупка жилья для сдачи</td>\n",
       "    </tr>\n",
       "    <tr>\n",
       "      <td>9526</td>\n",
       "      <td>0</td>\n",
       "      <td>730</td>\n",
       "      <td>66</td>\n",
       "      <td>среднее</td>\n",
       "      <td>1</td>\n",
       "      <td>вдовец / вдова</td>\n",
       "      <td>2</td>\n",
       "      <td>F</td>\n",
       "      <td>пенсионер</td>\n",
       "      <td>0</td>\n",
       "      <td>118514</td>\n",
       "      <td>операции со своей недвижимостью</td>\n",
       "    </tr>\n",
       "    <tr>\n",
       "      <td>9602</td>\n",
       "      <td>0</td>\n",
       "      <td>806</td>\n",
       "      <td>71</td>\n",
       "      <td>среднее</td>\n",
       "      <td>1</td>\n",
       "      <td>гражданский брак</td>\n",
       "      <td>1</td>\n",
       "      <td>F</td>\n",
       "      <td>пенсионер</td>\n",
       "      <td>0</td>\n",
       "      <td>118514</td>\n",
       "      <td>на проведение свадьбы</td>\n",
       "    </tr>\n",
       "    <tr>\n",
       "      <td>9625</td>\n",
       "      <td>0</td>\n",
       "      <td>13870</td>\n",
       "      <td>56</td>\n",
       "      <td>среднее</td>\n",
       "      <td>1</td>\n",
       "      <td>женат / замужем</td>\n",
       "      <td>0</td>\n",
       "      <td>F</td>\n",
       "      <td>пенсионер</td>\n",
       "      <td>0</td>\n",
       "      <td>118514</td>\n",
       "      <td>операции со своей недвижимостью</td>\n",
       "    </tr>\n",
       "    <tr>\n",
       "      <td>9853</td>\n",
       "      <td>0</td>\n",
       "      <td>16060</td>\n",
       "      <td>62</td>\n",
       "      <td>среднее</td>\n",
       "      <td>1</td>\n",
       "      <td>женат / замужем</td>\n",
       "      <td>0</td>\n",
       "      <td>F</td>\n",
       "      <td>пенсионер</td>\n",
       "      <td>0</td>\n",
       "      <td>118514</td>\n",
       "      <td>получение дополнительного образования</td>\n",
       "    </tr>\n",
       "    <tr>\n",
       "      <td>10460</td>\n",
       "      <td>0</td>\n",
       "      <td>16060</td>\n",
       "      <td>62</td>\n",
       "      <td>среднее</td>\n",
       "      <td>1</td>\n",
       "      <td>женат / замужем</td>\n",
       "      <td>0</td>\n",
       "      <td>F</td>\n",
       "      <td>пенсионер</td>\n",
       "      <td>0</td>\n",
       "      <td>118514</td>\n",
       "      <td>покупка коммерческой недвижимости</td>\n",
       "    </tr>\n",
       "    <tr>\n",
       "      <td>10695</td>\n",
       "      <td>0</td>\n",
       "      <td>8030</td>\n",
       "      <td>40</td>\n",
       "      <td>среднее</td>\n",
       "      <td>1</td>\n",
       "      <td>гражданский брак</td>\n",
       "      <td>1</td>\n",
       "      <td>F</td>\n",
       "      <td>компаньон</td>\n",
       "      <td>0</td>\n",
       "      <td>172357</td>\n",
       "      <td>сыграть свадьбу</td>\n",
       "    </tr>\n",
       "    <tr>\n",
       "      <td>10862</td>\n",
       "      <td>0</td>\n",
       "      <td>16060</td>\n",
       "      <td>62</td>\n",
       "      <td>среднее</td>\n",
       "      <td>1</td>\n",
       "      <td>женат / замужем</td>\n",
       "      <td>0</td>\n",
       "      <td>F</td>\n",
       "      <td>пенсионер</td>\n",
       "      <td>0</td>\n",
       "      <td>118514</td>\n",
       "      <td>ремонт жилью</td>\n",
       "    </tr>\n",
       "    <tr>\n",
       "      <td>10992</td>\n",
       "      <td>0</td>\n",
       "      <td>16060</td>\n",
       "      <td>62</td>\n",
       "      <td>среднее</td>\n",
       "      <td>1</td>\n",
       "      <td>женат / замужем</td>\n",
       "      <td>0</td>\n",
       "      <td>F</td>\n",
       "      <td>пенсионер</td>\n",
       "      <td>0</td>\n",
       "      <td>118514</td>\n",
       "      <td>ремонт жилью</td>\n",
       "    </tr>\n",
       "    <tr>\n",
       "      <td>11789</td>\n",
       "      <td>0</td>\n",
       "      <td>10585</td>\n",
       "      <td>47</td>\n",
       "      <td>среднее</td>\n",
       "      <td>1</td>\n",
       "      <td>женат / замужем</td>\n",
       "      <td>0</td>\n",
       "      <td>F</td>\n",
       "      <td>сотрудник</td>\n",
       "      <td>0</td>\n",
       "      <td>142594</td>\n",
       "      <td>строительство недвижимости</td>\n",
       "    </tr>\n",
       "  </tbody>\n",
       "</table>\n",
       "</div>"
      ],
      "text/plain": [
       "       children  days_employed  dob_years education  education_id  \\\n",
       "2849          0           8395         41   среднее             1   \n",
       "3289          0          14600         58   среднее             1   \n",
       "4181          1           5840         34    высшее             0   \n",
       "4850          0          15330         60   среднее             1   \n",
       "5556          0          14600         58   среднее             1   \n",
       "6311          0           4380         30   среднее             1   \n",
       "7807          0          14235         57   среднее             1   \n",
       "7920          0          16790         64    высшее             0   \n",
       "7937          0            806         71   среднее             1   \n",
       "8582          0          14600         58    высшее             0   \n",
       "9237          2           5840         34   среднее             1   \n",
       "9526          0            730         66   среднее             1   \n",
       "9602          0            806         71   среднее             1   \n",
       "9625          0          13870         56   среднее             1   \n",
       "9853          0          16060         62   среднее             1   \n",
       "10460         0          16060         62   среднее             1   \n",
       "10695         0           8030         40   среднее             1   \n",
       "10862         0          16060         62   среднее             1   \n",
       "10992         0          16060         62   среднее             1   \n",
       "11789         0          10585         47   среднее             1   \n",
       "\n",
       "               family_status  family_status_id gender income_type  debt  \\\n",
       "2849         женат / замужем                 0      F   сотрудник     0   \n",
       "3289        гражданский брак                 1      F   пенсионер     0   \n",
       "4181        гражданский брак                 1      F   сотрудник     0   \n",
       "4850        гражданский брак                 1      F   пенсионер     0   \n",
       "5556        гражданский брак                 1      F   пенсионер     0   \n",
       "6311         женат / замужем                 0      M   сотрудник     0   \n",
       "7807        гражданский брак                 1      F   пенсионер     0   \n",
       "7920        гражданский брак                 1      F   пенсионер     0   \n",
       "7937        гражданский брак                 1      F   пенсионер     0   \n",
       "8582   Не женат / не замужем                 4      F   пенсионер     0   \n",
       "9237         женат / замужем                 0      F   сотрудник     0   \n",
       "9526          вдовец / вдова                 2      F   пенсионер     0   \n",
       "9602        гражданский брак                 1      F   пенсионер     0   \n",
       "9625         женат / замужем                 0      F   пенсионер     0   \n",
       "9853         женат / замужем                 0      F   пенсионер     0   \n",
       "10460        женат / замужем                 0      F   пенсионер     0   \n",
       "10695       гражданский брак                 1      F   компаньон     0   \n",
       "10862        женат / замужем                 0      F   пенсионер     0   \n",
       "10992        женат / замужем                 0      F   пенсионер     0   \n",
       "11789        женат / замужем                 0      F   сотрудник     0   \n",
       "\n",
       "       total_income                                purpose  \n",
       "2849         142594                покупка жилья для семьи  \n",
       "3289         118514                        сыграть свадьбу  \n",
       "4181         142594                                свадьба  \n",
       "4850         118514                                свадьба  \n",
       "5556         118514                        сыграть свадьбу  \n",
       "6311         142594       строительство жилой недвижимости  \n",
       "7807         118514                  на проведение свадьбы  \n",
       "7920         118514                  на проведение свадьбы  \n",
       "7937         118514                  на проведение свадьбы  \n",
       "8582         118514             дополнительное образование  \n",
       "9237         142594                покупка жилья для сдачи  \n",
       "9526         118514        операции со своей недвижимостью  \n",
       "9602         118514                  на проведение свадьбы  \n",
       "9625         118514        операции со своей недвижимостью  \n",
       "9853         118514  получение дополнительного образования  \n",
       "10460        118514      покупка коммерческой недвижимости  \n",
       "10695        172357                        сыграть свадьбу  \n",
       "10862        118514                           ремонт жилью  \n",
       "10992        118514                           ремонт жилью  \n",
       "11789        142594             строительство недвижимости  "
      ]
     },
     "execution_count": 34,
     "metadata": {},
     "output_type": "execute_result"
    }
   ],
   "source": [
    "duplicated_data = customer_solvency[customer_solvency.duplicated()].head(20)\n",
    "duplicated_data"
   ]
  },
  {
   "cell_type": "markdown",
   "metadata": {},
   "source": [
    "*Удалим явные дубликаты функцией drop_duplicates(), а также сбросим индексы, чтобы все шло по порядку reset_index(drop=True)*"
   ]
  },
  {
   "cell_type": "code",
   "execution_count": 35,
   "metadata": {},
   "outputs": [],
   "source": [
    "customer_solvency = customer_solvency.drop_duplicates().reset_index(drop=True)"
   ]
  },
  {
   "cell_type": "markdown",
   "metadata": {},
   "source": [
    "*Проверим еще раз наличие дубликатов*"
   ]
  },
  {
   "cell_type": "code",
   "execution_count": 36,
   "metadata": {},
   "outputs": [
    {
     "data": {
      "text/plain": [
       "0"
      ]
     },
     "execution_count": 36,
     "metadata": {},
     "output_type": "execute_result"
    }
   ],
   "source": [
    "customer_solvency.duplicated().sum()"
   ]
  },
  {
   "cell_type": "markdown",
   "metadata": {},
   "source": [
    "#### **Вывод**"
   ]
  },
  {
   "cell_type": "markdown",
   "metadata": {},
   "source": [
    "<div style=\"border:solid indigo 2px; padding: 20px\">\n",
    "\n",
    "- В столбце 'education' значения отличались только регистром. Такая ошибка возникла из-за человеческого фактора. Кто-то писал строчными, кто-то прописными. Неявные дубликаты были устранены путем приведения данных к нижнему регистру методом lower().\n",
    "- В данных были выявлено 71 явных дубликата. Такие дубликаты возможно получились путем технической ошибки. Были удалены функцией drop_duplicates(), а также сброшены индексы, чтобы все шло по порядку reset_index(drop=True)"
   ]
  },
  {
   "cell_type": "markdown",
   "metadata": {},
   "source": [
    "### Лемматизация"
   ]
  },
  {
   "cell_type": "markdown",
   "metadata": {},
   "source": [
    "#### Вариант 1 "
   ]
  },
  {
   "cell_type": "markdown",
   "metadata": {},
   "source": [
    "*Выведем уникальные значения столбца. Посмотрим, с чем придется работать*"
   ]
  },
  {
   "cell_type": "code",
   "execution_count": 37,
   "metadata": {
    "scrolled": true
   },
   "outputs": [
    {
     "data": {
      "text/plain": [
       "array(['покупка жилья', 'приобретение автомобиля',\n",
       "       'дополнительное образование', 'сыграть свадьбу',\n",
       "       'операции с жильем', 'образование', 'на проведение свадьбы',\n",
       "       'покупка жилья для семьи', 'покупка недвижимости',\n",
       "       'покупка коммерческой недвижимости', 'покупка жилой недвижимости',\n",
       "       'строительство собственной недвижимости', 'недвижимость',\n",
       "       'строительство недвижимости', 'на покупку подержанного автомобиля',\n",
       "       'на покупку своего автомобиля',\n",
       "       'операции с коммерческой недвижимостью',\n",
       "       'строительство жилой недвижимости', 'жилье',\n",
       "       'операции со своей недвижимостью', 'автомобили',\n",
       "       'заняться образованием', 'сделка с подержанным автомобилем',\n",
       "       'получение образования', 'автомобиль', 'свадьба',\n",
       "       'получение дополнительного образования', 'покупка своего жилья',\n",
       "       'операции с недвижимостью', 'получение высшего образования',\n",
       "       'свой автомобиль', 'сделка с автомобилем',\n",
       "       'профильное образование', 'высшее образование',\n",
       "       'покупка жилья для сдачи', 'на покупку автомобиля', 'ремонт жилью',\n",
       "       'заняться высшим образованием'], dtype=object)"
      ]
     },
     "execution_count": 37,
     "metadata": {},
     "output_type": "execute_result"
    }
   ],
   "source": [
    "data_for_lemmitize = customer_solvency['purpose'].unique()\n",
    "data_for_lemmitize"
   ]
  },
  {
   "cell_type": "markdown",
   "metadata": {},
   "source": [
    "*Имеем множество повторяющихся слов в разных падежах. То, что нужно для лемматизации.*"
   ]
  },
  {
   "cell_type": "code",
   "execution_count": 38,
   "metadata": {},
   "outputs": [
    {
     "data": {
      "text/plain": [
       "[\"['\",\n",
       " 'покупка',\n",
       " ' ',\n",
       " 'жилье',\n",
       " \"' '\",\n",
       " 'приобретение',\n",
       " ' ',\n",
       " 'автомобиль',\n",
       " \"' '\",\n",
       " 'дополнительный',\n",
       " ' ',\n",
       " 'образование',\n",
       " \"'\\n\",\n",
       " \" '\",\n",
       " 'сыграть',\n",
       " ' ',\n",
       " 'свадьба',\n",
       " \"' '\",\n",
       " 'операция',\n",
       " ' ',\n",
       " 'с',\n",
       " ' ',\n",
       " 'жилье',\n",
       " \"' '\",\n",
       " 'образование',\n",
       " \"'\\n\",\n",
       " \" '\",\n",
       " 'на',\n",
       " ' ',\n",
       " 'проведение',\n",
       " ' ',\n",
       " 'свадьба',\n",
       " \"' '\",\n",
       " 'покупка',\n",
       " ' ',\n",
       " 'жилье',\n",
       " ' ',\n",
       " 'для',\n",
       " ' ',\n",
       " 'семья',\n",
       " \"' '\",\n",
       " 'покупка',\n",
       " ' ',\n",
       " 'недвижимость',\n",
       " \"'\\n\",\n",
       " \" '\",\n",
       " 'покупка',\n",
       " ' ',\n",
       " 'коммерческий',\n",
       " ' ',\n",
       " 'недвижимость',\n",
       " \"' '\",\n",
       " 'покупка',\n",
       " ' ',\n",
       " 'жилой',\n",
       " ' ',\n",
       " 'недвижимость',\n",
       " \"'\\n\",\n",
       " \" '\",\n",
       " 'строительство',\n",
       " ' ',\n",
       " 'собственный',\n",
       " ' ',\n",
       " 'недвижимость',\n",
       " \"' '\",\n",
       " 'недвижимость',\n",
       " \"'\\n\",\n",
       " \" '\",\n",
       " 'строительство',\n",
       " ' ',\n",
       " 'недвижимость',\n",
       " \"' '\",\n",
       " 'на',\n",
       " ' ',\n",
       " 'покупка',\n",
       " ' ',\n",
       " 'подержать',\n",
       " ' ',\n",
       " 'автомобиль',\n",
       " \"'\\n\",\n",
       " \" '\",\n",
       " 'на',\n",
       " ' ',\n",
       " 'покупка',\n",
       " ' ',\n",
       " 'свой',\n",
       " ' ',\n",
       " 'автомобиль',\n",
       " \"' '\",\n",
       " 'операция',\n",
       " ' ',\n",
       " 'с',\n",
       " ' ',\n",
       " 'коммерческий',\n",
       " ' ',\n",
       " 'недвижимость',\n",
       " \"'\\n\",\n",
       " \" '\",\n",
       " 'строительство',\n",
       " ' ',\n",
       " 'жилой',\n",
       " ' ',\n",
       " 'недвижимость',\n",
       " \"' '\",\n",
       " 'жилье',\n",
       " \"'\\n\",\n",
       " \" '\",\n",
       " 'операция',\n",
       " ' ',\n",
       " 'со',\n",
       " ' ',\n",
       " 'свой',\n",
       " ' ',\n",
       " 'недвижимость',\n",
       " \"' '\",\n",
       " 'автомобиль',\n",
       " \"' '\",\n",
       " 'заниматься',\n",
       " ' ',\n",
       " 'образование',\n",
       " \"'\\n\",\n",
       " \" '\",\n",
       " 'сделка',\n",
       " ' ',\n",
       " 'с',\n",
       " ' ',\n",
       " 'подержать',\n",
       " ' ',\n",
       " 'автомобиль',\n",
       " \"' '\",\n",
       " 'получение',\n",
       " ' ',\n",
       " 'образование',\n",
       " \"' '\",\n",
       " 'автомобиль',\n",
       " \"'\\n\",\n",
       " \" '\",\n",
       " 'свадьба',\n",
       " \"' '\",\n",
       " 'получение',\n",
       " ' ',\n",
       " 'дополнительный',\n",
       " ' ',\n",
       " 'образование',\n",
       " \"' '\",\n",
       " 'покупка',\n",
       " ' ',\n",
       " 'свой',\n",
       " ' ',\n",
       " 'жилье',\n",
       " \"'\\n\",\n",
       " \" '\",\n",
       " 'операция',\n",
       " ' ',\n",
       " 'с',\n",
       " ' ',\n",
       " 'недвижимость',\n",
       " \"' '\",\n",
       " 'получение',\n",
       " ' ',\n",
       " 'высокий',\n",
       " ' ',\n",
       " 'образование',\n",
       " \"'\\n\",\n",
       " \" '\",\n",
       " 'свой',\n",
       " ' ',\n",
       " 'автомобиль',\n",
       " \"' '\",\n",
       " 'сделка',\n",
       " ' ',\n",
       " 'с',\n",
       " ' ',\n",
       " 'автомобиль',\n",
       " \"' '\",\n",
       " 'профильный',\n",
       " ' ',\n",
       " 'образование',\n",
       " \"'\\n\",\n",
       " \" '\",\n",
       " 'высокий',\n",
       " ' ',\n",
       " 'образование',\n",
       " \"' '\",\n",
       " 'покупка',\n",
       " ' ',\n",
       " 'жилье',\n",
       " ' ',\n",
       " 'для',\n",
       " ' ',\n",
       " 'сдача',\n",
       " \"' '\",\n",
       " 'на',\n",
       " ' ',\n",
       " 'покупка',\n",
       " ' ',\n",
       " 'автомобиль',\n",
       " \"'\\n\",\n",
       " \" '\",\n",
       " 'ремонт',\n",
       " ' ',\n",
       " 'жилье',\n",
       " \"' '\",\n",
       " 'заниматься',\n",
       " ' ',\n",
       " 'высокий',\n",
       " ' ',\n",
       " 'образование',\n",
       " \"']\\n\"]"
      ]
     },
     "execution_count": 38,
     "metadata": {},
     "output_type": "execute_result"
    }
   ],
   "source": [
    "lemmas = m.lemmatize(str(data_for_lemmitize))\n",
    "lemmas"
   ]
  },
  {
   "cell_type": "markdown",
   "metadata": {},
   "source": [
    "*Выясним, на что берут кредит чаще всего*"
   ]
  },
  {
   "cell_type": "code",
   "execution_count": 39,
   "metadata": {
    "scrolled": true
   },
   "outputs": [
    {
     "name": "stdout",
     "output_type": "stream",
     "text": [
      "Counter({' ': 59, \"' '\": 23, \"'\\n\": 14, \" '\": 14, 'покупка': 10, 'недвижимость': 10, 'автомобиль': 9, 'образование': 9, 'жилье': 7, 'с': 5, 'операция': 4, 'на': 4, 'свой': 4, 'свадьба': 3, 'строительство': 3, 'получение': 3, 'высокий': 3, 'дополнительный': 2, 'для': 2, 'коммерческий': 2, 'жилой': 2, 'подержать': 2, 'заниматься': 2, 'сделка': 2, \"['\": 1, 'приобретение': 1, 'сыграть': 1, 'проведение': 1, 'семья': 1, 'собственный': 1, 'со': 1, 'профильный': 1, 'сдача': 1, 'ремонт': 1, \"']\\n\": 1})\n"
     ]
    }
   ],
   "source": [
    "print(Counter(lemmas))"
   ]
  },
  {
   "cell_type": "markdown",
   "metadata": {},
   "source": [
    " - После проведения лемматизации выяснили, на что чаще всего брали кредит: \n",
    "         1е место - недвижимость \n",
    "         2е место - покупка автомобиля \n",
    "         3е место - образование\n",
    "         \n",
    "**Но данный метод не показателен и с его результатами тяжело работать.**"
   ]
  },
  {
   "cell_type": "markdown",
   "metadata": {},
   "source": [
    "#### Вариант 2"
   ]
  },
  {
   "cell_type": "markdown",
   "metadata": {},
   "source": [
    "*Лемматизацию будем производить в функции, а потом создадим на основе нее новый столбец 'purpose_loan' (цели кредита)*"
   ]
  },
  {
   "cell_type": "code",
   "execution_count": 40,
   "metadata": {},
   "outputs": [],
   "source": [
    "def category_loan(row):\n",
    "    \n",
    " #  функция принимает датафрейм\n",
    " #  проводит лемматизацию столбца 'purpose'\n",
    " #  проверяет наличие слов в лемматизированной переменной\n",
    " #  возвращает соответствующее слово\n",
    "    \n",
    "    lem_purpose = m.lemmatize(str(row['purpose']))\n",
    "    if 'автомобиль' in lem_purpose:\n",
    "        return 'автомобиль'\n",
    "    elif 'образование' in lem_purpose:\n",
    "        return 'образование'  \n",
    "    elif 'недвижимость' in lem_purpose or 'жилье' in lem_purpose:\n",
    "        return 'кв. м.'    \n",
    "    elif 'свадьба' in lem_purpose:\n",
    "        return 'свадьба'          \n",
    "    elif 'ремонт' in lem_purpose:\n",
    "        return 'ремонт'      "
   ]
  },
  {
   "cell_type": "markdown",
   "metadata": {},
   "source": [
    "*Создадим новый столбец с лемматизированными значениями, чтобы понимать причины взятия кредита*"
   ]
  },
  {
   "cell_type": "code",
   "execution_count": 41,
   "metadata": {
    "scrolled": false
   },
   "outputs": [
    {
     "data": {
      "text/html": [
       "<div>\n",
       "<style scoped>\n",
       "    .dataframe tbody tr th:only-of-type {\n",
       "        vertical-align: middle;\n",
       "    }\n",
       "\n",
       "    .dataframe tbody tr th {\n",
       "        vertical-align: top;\n",
       "    }\n",
       "\n",
       "    .dataframe thead th {\n",
       "        text-align: right;\n",
       "    }\n",
       "</style>\n",
       "<table border=\"1\" class=\"dataframe\">\n",
       "  <thead>\n",
       "    <tr style=\"text-align: right;\">\n",
       "      <th></th>\n",
       "      <th>children</th>\n",
       "      <th>days_employed</th>\n",
       "      <th>dob_years</th>\n",
       "      <th>education</th>\n",
       "      <th>education_id</th>\n",
       "      <th>family_status</th>\n",
       "      <th>family_status_id</th>\n",
       "      <th>gender</th>\n",
       "      <th>income_type</th>\n",
       "      <th>debt</th>\n",
       "      <th>total_income</th>\n",
       "      <th>purpose</th>\n",
       "      <th>purpose_loan</th>\n",
       "    </tr>\n",
       "  </thead>\n",
       "  <tbody>\n",
       "    <tr>\n",
       "      <td>0</td>\n",
       "      <td>1</td>\n",
       "      <td>8437</td>\n",
       "      <td>42</td>\n",
       "      <td>высшее</td>\n",
       "      <td>0</td>\n",
       "      <td>женат / замужем</td>\n",
       "      <td>0</td>\n",
       "      <td>F</td>\n",
       "      <td>сотрудник</td>\n",
       "      <td>0</td>\n",
       "      <td>253875</td>\n",
       "      <td>покупка жилья</td>\n",
       "      <td>кв. м.</td>\n",
       "    </tr>\n",
       "    <tr>\n",
       "      <td>1</td>\n",
       "      <td>1</td>\n",
       "      <td>4024</td>\n",
       "      <td>36</td>\n",
       "      <td>среднее</td>\n",
       "      <td>1</td>\n",
       "      <td>женат / замужем</td>\n",
       "      <td>0</td>\n",
       "      <td>F</td>\n",
       "      <td>сотрудник</td>\n",
       "      <td>0</td>\n",
       "      <td>112080</td>\n",
       "      <td>приобретение автомобиля</td>\n",
       "      <td>автомобиль</td>\n",
       "    </tr>\n",
       "    <tr>\n",
       "      <td>2</td>\n",
       "      <td>0</td>\n",
       "      <td>5623</td>\n",
       "      <td>33</td>\n",
       "      <td>среднее</td>\n",
       "      <td>1</td>\n",
       "      <td>женат / замужем</td>\n",
       "      <td>0</td>\n",
       "      <td>M</td>\n",
       "      <td>сотрудник</td>\n",
       "      <td>0</td>\n",
       "      <td>145885</td>\n",
       "      <td>покупка жилья</td>\n",
       "      <td>кв. м.</td>\n",
       "    </tr>\n",
       "    <tr>\n",
       "      <td>3</td>\n",
       "      <td>3</td>\n",
       "      <td>4124</td>\n",
       "      <td>32</td>\n",
       "      <td>среднее</td>\n",
       "      <td>1</td>\n",
       "      <td>женат / замужем</td>\n",
       "      <td>0</td>\n",
       "      <td>M</td>\n",
       "      <td>сотрудник</td>\n",
       "      <td>0</td>\n",
       "      <td>267628</td>\n",
       "      <td>дополнительное образование</td>\n",
       "      <td>образование</td>\n",
       "    </tr>\n",
       "    <tr>\n",
       "      <td>4</td>\n",
       "      <td>0</td>\n",
       "      <td>14177</td>\n",
       "      <td>53</td>\n",
       "      <td>среднее</td>\n",
       "      <td>1</td>\n",
       "      <td>гражданский брак</td>\n",
       "      <td>1</td>\n",
       "      <td>F</td>\n",
       "      <td>пенсионер</td>\n",
       "      <td>0</td>\n",
       "      <td>158616</td>\n",
       "      <td>сыграть свадьбу</td>\n",
       "      <td>свадьба</td>\n",
       "    </tr>\n",
       "  </tbody>\n",
       "</table>\n",
       "</div>"
      ],
      "text/plain": [
       "   children  days_employed  dob_years education  education_id  \\\n",
       "0         1           8437         42    высшее             0   \n",
       "1         1           4024         36   среднее             1   \n",
       "2         0           5623         33   среднее             1   \n",
       "3         3           4124         32   среднее             1   \n",
       "4         0          14177         53   среднее             1   \n",
       "\n",
       "      family_status  family_status_id gender income_type  debt  total_income  \\\n",
       "0   женат / замужем                 0      F   сотрудник     0        253875   \n",
       "1   женат / замужем                 0      F   сотрудник     0        112080   \n",
       "2   женат / замужем                 0      M   сотрудник     0        145885   \n",
       "3   женат / замужем                 0      M   сотрудник     0        267628   \n",
       "4  гражданский брак                 1      F   пенсионер     0        158616   \n",
       "\n",
       "                      purpose purpose_loan  \n",
       "0               покупка жилья       кв. м.  \n",
       "1     приобретение автомобиля   автомобиль  \n",
       "2               покупка жилья       кв. м.  \n",
       "3  дополнительное образование  образование  \n",
       "4             сыграть свадьбу      свадьба  "
      ]
     },
     "execution_count": 41,
     "metadata": {},
     "output_type": "execute_result"
    }
   ],
   "source": [
    "customer_solvency['purpose_loan'] = customer_solvency.apply(category_loan, axis=1)\n",
    "customer_solvency.head()"
   ]
  },
  {
   "cell_type": "code",
   "execution_count": 42,
   "metadata": {
    "scrolled": true
   },
   "outputs": [
    {
     "data": {
      "text/plain": [
       "кв. м.         10808\n",
       "автомобиль      4305\n",
       "образование     4013\n",
       "свадьба         2324\n",
       "Name: purpose_loan, dtype: int64"
      ]
     },
     "execution_count": 42,
     "metadata": {},
     "output_type": "execute_result"
    }
   ],
   "source": [
    "customer_solvency['purpose_loan'].value_counts()"
   ]
  },
  {
   "cell_type": "markdown",
   "metadata": {},
   "source": [
    "*Результаты совпадают с предыдущим вариантом.* В отличие от 1го варианта сейчас с данными удобно работать."
   ]
  },
  {
   "cell_type": "markdown",
   "metadata": {},
   "source": [
    "#### **Вывод**"
   ]
  },
  {
   "cell_type": "markdown",
   "metadata": {},
   "source": [
    " <div style=\"border:solid indigo 2px; padding: 20px\">\n",
    "    \n",
    " В столбце 'purpose'(цели кредита) большое количество слов в разных падежах. Применим лемматизацию чтобы вернуть леммы, базовые формы флективных слов.\n",
    "    \n",
    " - После проведения лемматизации выяснили, на что чаще всего брали кредит: \n",
    "         1е место - для недвижимости \n",
    "         2е место - для автомобиля \n",
    "         3е место - для образования\n",
    "         4е место - для свадьбы"
   ]
  },
  {
   "cell_type": "markdown",
   "metadata": {},
   "source": [
    "### Категоризация данных"
   ]
  },
  {
   "cell_type": "markdown",
   "metadata": {},
   "source": [
    "**Категоризировать данные будем согласно поставленным задачам**"
   ]
  },
  {
   "cell_type": "markdown",
   "metadata": {},
   "source": [
    "#### для задачи №1 (Количество детей - задолженность)"
   ]
  },
  {
   "cell_type": "markdown",
   "metadata": {},
   "source": [
    "**Создадим новую таблицу. Основа для таблицы столбы 'children' и 'debt'. \\\n",
    "Третий столбец будет использован для подсчета количества строк в сводной таблице**"
   ]
  },
  {
   "cell_type": "code",
   "execution_count": 43,
   "metadata": {
    "scrolled": false
   },
   "outputs": [],
   "source": [
    "children_debt = customer_solvency[['children','debt', 'purpose_loan']]"
   ]
  },
  {
   "cell_type": "markdown",
   "metadata": {},
   "source": [
    "*На основе нее сделаем сводную таблицу*"
   ]
  },
  {
   "cell_type": "code",
   "execution_count": 44,
   "metadata": {
    "scrolled": true
   },
   "outputs": [
    {
     "data": {
      "text/html": [
       "<div>\n",
       "<style scoped>\n",
       "    .dataframe tbody tr th:only-of-type {\n",
       "        vertical-align: middle;\n",
       "    }\n",
       "\n",
       "    .dataframe tbody tr th {\n",
       "        vertical-align: top;\n",
       "    }\n",
       "\n",
       "    .dataframe thead th {\n",
       "        text-align: right;\n",
       "    }\n",
       "</style>\n",
       "<table border=\"1\" class=\"dataframe\">\n",
       "  <thead>\n",
       "    <tr style=\"text-align: right;\">\n",
       "      <th>debt</th>\n",
       "      <th>0</th>\n",
       "      <th>1</th>\n",
       "    </tr>\n",
       "    <tr>\n",
       "      <th>children</th>\n",
       "      <th></th>\n",
       "      <th></th>\n",
       "    </tr>\n",
       "  </thead>\n",
       "  <tbody>\n",
       "    <tr>\n",
       "      <td>0</td>\n",
       "      <td>13026.0</td>\n",
       "      <td>1063.0</td>\n",
       "    </tr>\n",
       "    <tr>\n",
       "      <td>1</td>\n",
       "      <td>4410.0</td>\n",
       "      <td>444.0</td>\n",
       "    </tr>\n",
       "    <tr>\n",
       "      <td>2</td>\n",
       "      <td>1926.0</td>\n",
       "      <td>201.0</td>\n",
       "    </tr>\n",
       "    <tr>\n",
       "      <td>3</td>\n",
       "      <td>303.0</td>\n",
       "      <td>27.0</td>\n",
       "    </tr>\n",
       "    <tr>\n",
       "      <td>4</td>\n",
       "      <td>37.0</td>\n",
       "      <td>4.0</td>\n",
       "    </tr>\n",
       "    <tr>\n",
       "      <td>5</td>\n",
       "      <td>9.0</td>\n",
       "      <td>NaN</td>\n",
       "    </tr>\n",
       "  </tbody>\n",
       "</table>\n",
       "</div>"
      ],
      "text/plain": [
       "debt            0       1\n",
       "children                 \n",
       "0         13026.0  1063.0\n",
       "1          4410.0   444.0\n",
       "2          1926.0   201.0\n",
       "3           303.0    27.0\n",
       "4            37.0     4.0\n",
       "5             9.0     NaN"
      ]
     },
     "execution_count": 44,
     "metadata": {},
     "output_type": "execute_result"
    }
   ],
   "source": [
    "children_debt_pivot = children_debt.pivot_table(index='children', columns='debt', values='purpose_loan', aggfunc='count')\n",
    "children_debt_pivot"
   ]
  },
  {
   "cell_type": "markdown",
   "metadata": {},
   "source": [
    "#### для задачи №2 (Наличие детей - задолженность)"
   ]
  },
  {
   "cell_type": "markdown",
   "metadata": {},
   "source": [
    "**Создадим новую таблицу. Основа для таблицы столбы 'children' и 'debt'. \\\n",
    "Третий столбец будет использован для подсчета количества строк в сводной таблице**"
   ]
  },
  {
   "cell_type": "markdown",
   "metadata": {},
   "source": [
    "*создадим функцию, которая будет возвращать 0, елси детей нет и 1 - если есть*"
   ]
  },
  {
   "cell_type": "code",
   "execution_count": 45,
   "metadata": {},
   "outputs": [],
   "source": [
    "def having_children_0_1(row):    \n",
    "    if row['children'] == 0:\n",
    "        return 0\n",
    "    else:\n",
    "        return 1"
   ]
  },
  {
   "cell_type": "markdown",
   "metadata": {},
   "source": [
    "*создадим новый столбец 'having_children', в котором будут данные о наличие детей. где 0 - нет детей, 1 - есть ребенок/дети"
   ]
  },
  {
   "cell_type": "code",
   "execution_count": 46,
   "metadata": {},
   "outputs": [],
   "source": [
    "customer_solvency['having_children'] = customer_solvency.apply(having_children_0_1, axis=1)"
   ]
  },
  {
   "cell_type": "code",
   "execution_count": 47,
   "metadata": {
    "scrolled": true
   },
   "outputs": [
    {
     "data": {
      "text/html": [
       "<div>\n",
       "<style scoped>\n",
       "    .dataframe tbody tr th:only-of-type {\n",
       "        vertical-align: middle;\n",
       "    }\n",
       "\n",
       "    .dataframe tbody tr th {\n",
       "        vertical-align: top;\n",
       "    }\n",
       "\n",
       "    .dataframe thead th {\n",
       "        text-align: right;\n",
       "    }\n",
       "</style>\n",
       "<table border=\"1\" class=\"dataframe\">\n",
       "  <thead>\n",
       "    <tr style=\"text-align: right;\">\n",
       "      <th></th>\n",
       "      <th>having_children</th>\n",
       "      <th>debt</th>\n",
       "      <th>purpose_loan</th>\n",
       "    </tr>\n",
       "  </thead>\n",
       "  <tbody>\n",
       "    <tr>\n",
       "      <td>0</td>\n",
       "      <td>1</td>\n",
       "      <td>0</td>\n",
       "      <td>кв. м.</td>\n",
       "    </tr>\n",
       "    <tr>\n",
       "      <td>1</td>\n",
       "      <td>1</td>\n",
       "      <td>0</td>\n",
       "      <td>автомобиль</td>\n",
       "    </tr>\n",
       "    <tr>\n",
       "      <td>2</td>\n",
       "      <td>0</td>\n",
       "      <td>0</td>\n",
       "      <td>кв. м.</td>\n",
       "    </tr>\n",
       "    <tr>\n",
       "      <td>3</td>\n",
       "      <td>1</td>\n",
       "      <td>0</td>\n",
       "      <td>образование</td>\n",
       "    </tr>\n",
       "    <tr>\n",
       "      <td>4</td>\n",
       "      <td>0</td>\n",
       "      <td>0</td>\n",
       "      <td>свадьба</td>\n",
       "    </tr>\n",
       "  </tbody>\n",
       "</table>\n",
       "</div>"
      ],
      "text/plain": [
       "   having_children  debt purpose_loan\n",
       "0                1     0       кв. м.\n",
       "1                1     0   автомобиль\n",
       "2                0     0       кв. м.\n",
       "3                1     0  образование\n",
       "4                0     0      свадьба"
      ]
     },
     "execution_count": 47,
     "metadata": {},
     "output_type": "execute_result"
    }
   ],
   "source": [
    "having_children = customer_solvency[['having_children','debt', 'purpose_loan']]\n",
    "having_children.head()"
   ]
  },
  {
   "cell_type": "markdown",
   "metadata": {},
   "source": [
    "*На основе нее сделаем сводную таблицу*"
   ]
  },
  {
   "cell_type": "code",
   "execution_count": 48,
   "metadata": {
    "scrolled": true
   },
   "outputs": [
    {
     "data": {
      "text/html": [
       "<div>\n",
       "<style scoped>\n",
       "    .dataframe tbody tr th:only-of-type {\n",
       "        vertical-align: middle;\n",
       "    }\n",
       "\n",
       "    .dataframe tbody tr th {\n",
       "        vertical-align: top;\n",
       "    }\n",
       "\n",
       "    .dataframe thead th {\n",
       "        text-align: right;\n",
       "    }\n",
       "</style>\n",
       "<table border=\"1\" class=\"dataframe\">\n",
       "  <thead>\n",
       "    <tr style=\"text-align: right;\">\n",
       "      <th>debt</th>\n",
       "      <th>0</th>\n",
       "      <th>1</th>\n",
       "    </tr>\n",
       "    <tr>\n",
       "      <th>having_children</th>\n",
       "      <th></th>\n",
       "      <th></th>\n",
       "    </tr>\n",
       "  </thead>\n",
       "  <tbody>\n",
       "    <tr>\n",
       "      <td>0</td>\n",
       "      <td>13026</td>\n",
       "      <td>1063</td>\n",
       "    </tr>\n",
       "    <tr>\n",
       "      <td>1</td>\n",
       "      <td>6685</td>\n",
       "      <td>676</td>\n",
       "    </tr>\n",
       "  </tbody>\n",
       "</table>\n",
       "</div>"
      ],
      "text/plain": [
       "debt                 0     1\n",
       "having_children             \n",
       "0                13026  1063\n",
       "1                 6685   676"
      ]
     },
     "execution_count": 48,
     "metadata": {},
     "output_type": "execute_result"
    }
   ],
   "source": [
    "having_children_pivot = having_children.pivot_table(index='having_children', columns='debt', values='purpose_loan', aggfunc='count')\n",
    "having_children_pivot"
   ]
  },
  {
   "cell_type": "markdown",
   "metadata": {},
   "source": [
    "#### для задачи №3 (Семейное положение - задолженность)"
   ]
  },
  {
   "cell_type": "markdown",
   "metadata": {},
   "source": [
    "**Создадим новую таблицу. Основа для таблицы столбы 'family_status' и 'debt'. \\\n",
    "Третий столбец будет использован для подсчета количества строк в сводной таблице**"
   ]
  },
  {
   "cell_type": "code",
   "execution_count": 49,
   "metadata": {},
   "outputs": [
    {
     "data": {
      "text/html": [
       "<div>\n",
       "<style scoped>\n",
       "    .dataframe tbody tr th:only-of-type {\n",
       "        vertical-align: middle;\n",
       "    }\n",
       "\n",
       "    .dataframe tbody tr th {\n",
       "        vertical-align: top;\n",
       "    }\n",
       "\n",
       "    .dataframe thead th {\n",
       "        text-align: right;\n",
       "    }\n",
       "</style>\n",
       "<table border=\"1\" class=\"dataframe\">\n",
       "  <thead>\n",
       "    <tr style=\"text-align: right;\">\n",
       "      <th></th>\n",
       "      <th>family_status</th>\n",
       "      <th>debt</th>\n",
       "      <th>purpose_loan</th>\n",
       "    </tr>\n",
       "  </thead>\n",
       "  <tbody>\n",
       "    <tr>\n",
       "      <td>0</td>\n",
       "      <td>женат / замужем</td>\n",
       "      <td>0</td>\n",
       "      <td>кв. м.</td>\n",
       "    </tr>\n",
       "    <tr>\n",
       "      <td>1</td>\n",
       "      <td>женат / замужем</td>\n",
       "      <td>0</td>\n",
       "      <td>автомобиль</td>\n",
       "    </tr>\n",
       "    <tr>\n",
       "      <td>2</td>\n",
       "      <td>женат / замужем</td>\n",
       "      <td>0</td>\n",
       "      <td>кв. м.</td>\n",
       "    </tr>\n",
       "    <tr>\n",
       "      <td>3</td>\n",
       "      <td>женат / замужем</td>\n",
       "      <td>0</td>\n",
       "      <td>образование</td>\n",
       "    </tr>\n",
       "    <tr>\n",
       "      <td>4</td>\n",
       "      <td>гражданский брак</td>\n",
       "      <td>0</td>\n",
       "      <td>свадьба</td>\n",
       "    </tr>\n",
       "  </tbody>\n",
       "</table>\n",
       "</div>"
      ],
      "text/plain": [
       "      family_status  debt purpose_loan\n",
       "0   женат / замужем     0       кв. м.\n",
       "1   женат / замужем     0   автомобиль\n",
       "2   женат / замужем     0       кв. м.\n",
       "3   женат / замужем     0  образование\n",
       "4  гражданский брак     0      свадьба"
      ]
     },
     "execution_count": 49,
     "metadata": {},
     "output_type": "execute_result"
    }
   ],
   "source": [
    "family_status_debt = customer_solvency[['family_status','debt', 'purpose_loan']]\n",
    "family_status_debt.head()"
   ]
  },
  {
   "cell_type": "markdown",
   "metadata": {},
   "source": [
    "*На основе нее сделаем сводную таблицу*"
   ]
  },
  {
   "cell_type": "code",
   "execution_count": 50,
   "metadata": {},
   "outputs": [
    {
     "data": {
      "text/html": [
       "<div>\n",
       "<style scoped>\n",
       "    .dataframe tbody tr th:only-of-type {\n",
       "        vertical-align: middle;\n",
       "    }\n",
       "\n",
       "    .dataframe tbody tr th {\n",
       "        vertical-align: top;\n",
       "    }\n",
       "\n",
       "    .dataframe thead th {\n",
       "        text-align: right;\n",
       "    }\n",
       "</style>\n",
       "<table border=\"1\" class=\"dataframe\">\n",
       "  <thead>\n",
       "    <tr style=\"text-align: right;\">\n",
       "      <th>debt</th>\n",
       "      <th>0</th>\n",
       "      <th>1</th>\n",
       "    </tr>\n",
       "    <tr>\n",
       "      <th>family_status</th>\n",
       "      <th></th>\n",
       "      <th></th>\n",
       "    </tr>\n",
       "  </thead>\n",
       "  <tbody>\n",
       "    <tr>\n",
       "      <td>Не женат / не замужем</td>\n",
       "      <td>2535</td>\n",
       "      <td>274</td>\n",
       "    </tr>\n",
       "    <tr>\n",
       "      <td>в разводе</td>\n",
       "      <td>1110</td>\n",
       "      <td>85</td>\n",
       "    </tr>\n",
       "    <tr>\n",
       "      <td>вдовец / вдова</td>\n",
       "      <td>896</td>\n",
       "      <td>63</td>\n",
       "    </tr>\n",
       "    <tr>\n",
       "      <td>гражданский брак</td>\n",
       "      <td>3762</td>\n",
       "      <td>388</td>\n",
       "    </tr>\n",
       "    <tr>\n",
       "      <td>женат / замужем</td>\n",
       "      <td>11408</td>\n",
       "      <td>929</td>\n",
       "    </tr>\n",
       "  </tbody>\n",
       "</table>\n",
       "</div>"
      ],
      "text/plain": [
       "debt                       0    1\n",
       "family_status                    \n",
       "Не женат / не замужем   2535  274\n",
       "в разводе               1110   85\n",
       "вдовец / вдова           896   63\n",
       "гражданский брак        3762  388\n",
       "женат / замужем        11408  929"
      ]
     },
     "execution_count": 50,
     "metadata": {},
     "output_type": "execute_result"
    }
   ],
   "source": [
    "family_status_debt_pivot = family_status_debt.pivot_table(index='family_status', columns='debt', values='purpose_loan', aggfunc='count')\n",
    "family_status_debt_pivot"
   ]
  },
  {
   "cell_type": "markdown",
   "metadata": {},
   "source": [
    "#### для задачи №4 (Цели кредита - задолженность)"
   ]
  },
  {
   "cell_type": "markdown",
   "metadata": {},
   "source": [
    "**Создадим новую таблицу. Основа для таблицы столбы 'purpose_loan' и 'debt'. \\\n",
    "Третий столбец будет использован для подсчета количества строк в сводной таблице**"
   ]
  },
  {
   "cell_type": "code",
   "execution_count": 51,
   "metadata": {},
   "outputs": [
    {
     "data": {
      "text/html": [
       "<div>\n",
       "<style scoped>\n",
       "    .dataframe tbody tr th:only-of-type {\n",
       "        vertical-align: middle;\n",
       "    }\n",
       "\n",
       "    .dataframe tbody tr th {\n",
       "        vertical-align: top;\n",
       "    }\n",
       "\n",
       "    .dataframe thead th {\n",
       "        text-align: right;\n",
       "    }\n",
       "</style>\n",
       "<table border=\"1\" class=\"dataframe\">\n",
       "  <thead>\n",
       "    <tr style=\"text-align: right;\">\n",
       "      <th></th>\n",
       "      <th>purpose_loan</th>\n",
       "      <th>debt</th>\n",
       "      <th>income_type</th>\n",
       "    </tr>\n",
       "  </thead>\n",
       "  <tbody>\n",
       "    <tr>\n",
       "      <td>0</td>\n",
       "      <td>кв. м.</td>\n",
       "      <td>0</td>\n",
       "      <td>сотрудник</td>\n",
       "    </tr>\n",
       "    <tr>\n",
       "      <td>1</td>\n",
       "      <td>автомобиль</td>\n",
       "      <td>0</td>\n",
       "      <td>сотрудник</td>\n",
       "    </tr>\n",
       "    <tr>\n",
       "      <td>2</td>\n",
       "      <td>кв. м.</td>\n",
       "      <td>0</td>\n",
       "      <td>сотрудник</td>\n",
       "    </tr>\n",
       "    <tr>\n",
       "      <td>3</td>\n",
       "      <td>образование</td>\n",
       "      <td>0</td>\n",
       "      <td>сотрудник</td>\n",
       "    </tr>\n",
       "    <tr>\n",
       "      <td>4</td>\n",
       "      <td>свадьба</td>\n",
       "      <td>0</td>\n",
       "      <td>пенсионер</td>\n",
       "    </tr>\n",
       "  </tbody>\n",
       "</table>\n",
       "</div>"
      ],
      "text/plain": [
       "  purpose_loan  debt income_type\n",
       "0       кв. м.     0   сотрудник\n",
       "1   автомобиль     0   сотрудник\n",
       "2       кв. м.     0   сотрудник\n",
       "3  образование     0   сотрудник\n",
       "4      свадьба     0   пенсионер"
      ]
     },
     "execution_count": 51,
     "metadata": {},
     "output_type": "execute_result"
    }
   ],
   "source": [
    "purpose_Loan_debt = customer_solvency[['purpose_loan', 'debt', 'income_type']]\n",
    "purpose_Loan_debt.head()"
   ]
  },
  {
   "cell_type": "code",
   "execution_count": 52,
   "metadata": {
    "scrolled": true
   },
   "outputs": [
    {
     "data": {
      "text/html": [
       "<div>\n",
       "<style scoped>\n",
       "    .dataframe tbody tr th:only-of-type {\n",
       "        vertical-align: middle;\n",
       "    }\n",
       "\n",
       "    .dataframe tbody tr th {\n",
       "        vertical-align: top;\n",
       "    }\n",
       "\n",
       "    .dataframe thead th {\n",
       "        text-align: right;\n",
       "    }\n",
       "</style>\n",
       "<table border=\"1\" class=\"dataframe\">\n",
       "  <thead>\n",
       "    <tr style=\"text-align: right;\">\n",
       "      <th>debt</th>\n",
       "      <th>0</th>\n",
       "      <th>1</th>\n",
       "    </tr>\n",
       "    <tr>\n",
       "      <th>purpose_loan</th>\n",
       "      <th></th>\n",
       "      <th></th>\n",
       "    </tr>\n",
       "  </thead>\n",
       "  <tbody>\n",
       "    <tr>\n",
       "      <td>кв. м.</td>\n",
       "      <td>10027</td>\n",
       "      <td>781</td>\n",
       "    </tr>\n",
       "    <tr>\n",
       "      <td>автомобиль</td>\n",
       "      <td>3903</td>\n",
       "      <td>402</td>\n",
       "    </tr>\n",
       "    <tr>\n",
       "      <td>образование</td>\n",
       "      <td>3643</td>\n",
       "      <td>370</td>\n",
       "    </tr>\n",
       "    <tr>\n",
       "      <td>свадьба</td>\n",
       "      <td>2138</td>\n",
       "      <td>186</td>\n",
       "    </tr>\n",
       "  </tbody>\n",
       "</table>\n",
       "</div>"
      ],
      "text/plain": [
       "debt              0    1\n",
       "purpose_loan            \n",
       "кв. м.        10027  781\n",
       "автомобиль     3903  402\n",
       "образование    3643  370\n",
       "свадьба        2138  186"
      ]
     },
     "execution_count": 52,
     "metadata": {},
     "output_type": "execute_result"
    }
   ],
   "source": [
    "purpose_Loan_debt_pivot = purpose_Loan_debt.pivot_table(index='purpose_loan', columns='debt', values='income_type', aggfunc='count')\n",
    "purpose_Loan_debt_pivot.sort_values(by=0, ascending=False)"
   ]
  },
  {
   "cell_type": "markdown",
   "metadata": {},
   "source": [
    "#### для задачи №5 (Уровень дохода - задолженность)"
   ]
  },
  {
   "cell_type": "markdown",
   "metadata": {},
   "source": [
    "**Категоризируем уровни дохода на 'низкий' ( до 35000), 'средний' (от 36000 до 80000), 'высокий' (от 80000)**"
   ]
  },
  {
   "cell_type": "code",
   "execution_count": 53,
   "metadata": {},
   "outputs": [],
   "source": [
    "def income_level(income):\n",
    "    if income <= 35000:\n",
    "        return 'низкий'\n",
    "    elif 36000 <= income <= 80000:\n",
    "        return 'средний'\n",
    "    return 'высокий'"
   ]
  },
  {
   "cell_type": "markdown",
   "metadata": {},
   "source": [
    "*Проверим функцию*"
   ]
  },
  {
   "cell_type": "code",
   "execution_count": 54,
   "metadata": {},
   "outputs": [
    {
     "data": {
      "text/plain": [
       "'низкий'"
      ]
     },
     "execution_count": 54,
     "metadata": {},
     "output_type": "execute_result"
    }
   ],
   "source": [
    "income_level(5000)"
   ]
  },
  {
   "cell_type": "code",
   "execution_count": 55,
   "metadata": {},
   "outputs": [
    {
     "data": {
      "text/plain": [
       "'средний'"
      ]
     },
     "execution_count": 55,
     "metadata": {},
     "output_type": "execute_result"
    }
   ],
   "source": [
    "income_level(50000)"
   ]
  },
  {
   "cell_type": "code",
   "execution_count": 56,
   "metadata": {},
   "outputs": [
    {
     "data": {
      "text/plain": [
       "'высокий'"
      ]
     },
     "execution_count": 56,
     "metadata": {},
     "output_type": "execute_result"
    }
   ],
   "source": [
    "income_level(90000)"
   ]
  },
  {
   "cell_type": "markdown",
   "metadata": {},
   "source": [
    "*Создадим новый столбец с категориями заработка*"
   ]
  },
  {
   "cell_type": "code",
   "execution_count": 57,
   "metadata": {},
   "outputs": [
    {
     "data": {
      "text/html": [
       "<div>\n",
       "<style scoped>\n",
       "    .dataframe tbody tr th:only-of-type {\n",
       "        vertical-align: middle;\n",
       "    }\n",
       "\n",
       "    .dataframe tbody tr th {\n",
       "        vertical-align: top;\n",
       "    }\n",
       "\n",
       "    .dataframe thead th {\n",
       "        text-align: right;\n",
       "    }\n",
       "</style>\n",
       "<table border=\"1\" class=\"dataframe\">\n",
       "  <thead>\n",
       "    <tr style=\"text-align: right;\">\n",
       "      <th></th>\n",
       "      <th>children</th>\n",
       "      <th>days_employed</th>\n",
       "      <th>dob_years</th>\n",
       "      <th>education</th>\n",
       "      <th>education_id</th>\n",
       "      <th>family_status</th>\n",
       "      <th>family_status_id</th>\n",
       "      <th>gender</th>\n",
       "      <th>income_type</th>\n",
       "      <th>debt</th>\n",
       "      <th>total_income</th>\n",
       "      <th>purpose</th>\n",
       "      <th>purpose_loan</th>\n",
       "      <th>having_children</th>\n",
       "      <th>income_level</th>\n",
       "    </tr>\n",
       "  </thead>\n",
       "  <tbody>\n",
       "    <tr>\n",
       "      <td>0</td>\n",
       "      <td>1</td>\n",
       "      <td>8437</td>\n",
       "      <td>42</td>\n",
       "      <td>высшее</td>\n",
       "      <td>0</td>\n",
       "      <td>женат / замужем</td>\n",
       "      <td>0</td>\n",
       "      <td>F</td>\n",
       "      <td>сотрудник</td>\n",
       "      <td>0</td>\n",
       "      <td>253875</td>\n",
       "      <td>покупка жилья</td>\n",
       "      <td>кв. м.</td>\n",
       "      <td>1</td>\n",
       "      <td>высокий</td>\n",
       "    </tr>\n",
       "    <tr>\n",
       "      <td>1</td>\n",
       "      <td>1</td>\n",
       "      <td>4024</td>\n",
       "      <td>36</td>\n",
       "      <td>среднее</td>\n",
       "      <td>1</td>\n",
       "      <td>женат / замужем</td>\n",
       "      <td>0</td>\n",
       "      <td>F</td>\n",
       "      <td>сотрудник</td>\n",
       "      <td>0</td>\n",
       "      <td>112080</td>\n",
       "      <td>приобретение автомобиля</td>\n",
       "      <td>автомобиль</td>\n",
       "      <td>1</td>\n",
       "      <td>высокий</td>\n",
       "    </tr>\n",
       "    <tr>\n",
       "      <td>2</td>\n",
       "      <td>0</td>\n",
       "      <td>5623</td>\n",
       "      <td>33</td>\n",
       "      <td>среднее</td>\n",
       "      <td>1</td>\n",
       "      <td>женат / замужем</td>\n",
       "      <td>0</td>\n",
       "      <td>M</td>\n",
       "      <td>сотрудник</td>\n",
       "      <td>0</td>\n",
       "      <td>145885</td>\n",
       "      <td>покупка жилья</td>\n",
       "      <td>кв. м.</td>\n",
       "      <td>0</td>\n",
       "      <td>высокий</td>\n",
       "    </tr>\n",
       "    <tr>\n",
       "      <td>3</td>\n",
       "      <td>3</td>\n",
       "      <td>4124</td>\n",
       "      <td>32</td>\n",
       "      <td>среднее</td>\n",
       "      <td>1</td>\n",
       "      <td>женат / замужем</td>\n",
       "      <td>0</td>\n",
       "      <td>M</td>\n",
       "      <td>сотрудник</td>\n",
       "      <td>0</td>\n",
       "      <td>267628</td>\n",
       "      <td>дополнительное образование</td>\n",
       "      <td>образование</td>\n",
       "      <td>1</td>\n",
       "      <td>высокий</td>\n",
       "    </tr>\n",
       "    <tr>\n",
       "      <td>4</td>\n",
       "      <td>0</td>\n",
       "      <td>14177</td>\n",
       "      <td>53</td>\n",
       "      <td>среднее</td>\n",
       "      <td>1</td>\n",
       "      <td>гражданский брак</td>\n",
       "      <td>1</td>\n",
       "      <td>F</td>\n",
       "      <td>пенсионер</td>\n",
       "      <td>0</td>\n",
       "      <td>158616</td>\n",
       "      <td>сыграть свадьбу</td>\n",
       "      <td>свадьба</td>\n",
       "      <td>0</td>\n",
       "      <td>высокий</td>\n",
       "    </tr>\n",
       "  </tbody>\n",
       "</table>\n",
       "</div>"
      ],
      "text/plain": [
       "   children  days_employed  dob_years education  education_id  \\\n",
       "0         1           8437         42    высшее             0   \n",
       "1         1           4024         36   среднее             1   \n",
       "2         0           5623         33   среднее             1   \n",
       "3         3           4124         32   среднее             1   \n",
       "4         0          14177         53   среднее             1   \n",
       "\n",
       "      family_status  family_status_id gender income_type  debt  total_income  \\\n",
       "0   женат / замужем                 0      F   сотрудник     0        253875   \n",
       "1   женат / замужем                 0      F   сотрудник     0        112080   \n",
       "2   женат / замужем                 0      M   сотрудник     0        145885   \n",
       "3   женат / замужем                 0      M   сотрудник     0        267628   \n",
       "4  гражданский брак                 1      F   пенсионер     0        158616   \n",
       "\n",
       "                      purpose purpose_loan  having_children income_level  \n",
       "0               покупка жилья       кв. м.                1      высокий  \n",
       "1     приобретение автомобиля   автомобиль                1      высокий  \n",
       "2               покупка жилья       кв. м.                0      высокий  \n",
       "3  дополнительное образование  образование                1      высокий  \n",
       "4             сыграть свадьбу      свадьба                0      высокий  "
      ]
     },
     "execution_count": 57,
     "metadata": {},
     "output_type": "execute_result"
    }
   ],
   "source": [
    "customer_solvency['income_level'] = customer_solvency['total_income'].apply(income_level)\n",
    "customer_solvency.head()"
   ]
  },
  {
   "cell_type": "code",
   "execution_count": 58,
   "metadata": {},
   "outputs": [
    {
     "data": {
      "text/plain": [
       "высокий    19182\n",
       "средний     2199\n",
       "низкий        69\n",
       "Name: income_level, dtype: int64"
      ]
     },
     "execution_count": 58,
     "metadata": {},
     "output_type": "execute_result"
    }
   ],
   "source": [
    "customer_solvency['income_level'].value_counts()"
   ]
  },
  {
   "cell_type": "markdown",
   "metadata": {},
   "source": [
    "*Большинство клиентов с высоким заработком*"
   ]
  },
  {
   "cell_type": "markdown",
   "metadata": {},
   "source": [
    "**Создадим новую таблицу. Основа для таблицы столбы 'income_level' и 'debt'.\n",
    "Третий столбец будет использован для подсчета количества строк в сводной таблице**"
   ]
  },
  {
   "cell_type": "code",
   "execution_count": 59,
   "metadata": {
    "scrolled": true
   },
   "outputs": [
    {
     "data": {
      "text/html": [
       "<div>\n",
       "<style scoped>\n",
       "    .dataframe tbody tr th:only-of-type {\n",
       "        vertical-align: middle;\n",
       "    }\n",
       "\n",
       "    .dataframe tbody tr th {\n",
       "        vertical-align: top;\n",
       "    }\n",
       "\n",
       "    .dataframe thead th {\n",
       "        text-align: right;\n",
       "    }\n",
       "</style>\n",
       "<table border=\"1\" class=\"dataframe\">\n",
       "  <thead>\n",
       "    <tr style=\"text-align: right;\">\n",
       "      <th></th>\n",
       "      <th>income_level</th>\n",
       "      <th>debt</th>\n",
       "      <th>purpose_loan</th>\n",
       "    </tr>\n",
       "  </thead>\n",
       "  <tbody>\n",
       "    <tr>\n",
       "      <td>0</td>\n",
       "      <td>высокий</td>\n",
       "      <td>0</td>\n",
       "      <td>кв. м.</td>\n",
       "    </tr>\n",
       "    <tr>\n",
       "      <td>1</td>\n",
       "      <td>высокий</td>\n",
       "      <td>0</td>\n",
       "      <td>автомобиль</td>\n",
       "    </tr>\n",
       "    <tr>\n",
       "      <td>2</td>\n",
       "      <td>высокий</td>\n",
       "      <td>0</td>\n",
       "      <td>кв. м.</td>\n",
       "    </tr>\n",
       "    <tr>\n",
       "      <td>3</td>\n",
       "      <td>высокий</td>\n",
       "      <td>0</td>\n",
       "      <td>образование</td>\n",
       "    </tr>\n",
       "    <tr>\n",
       "      <td>4</td>\n",
       "      <td>высокий</td>\n",
       "      <td>0</td>\n",
       "      <td>свадьба</td>\n",
       "    </tr>\n",
       "  </tbody>\n",
       "</table>\n",
       "</div>"
      ],
      "text/plain": [
       "  income_level  debt purpose_loan\n",
       "0      высокий     0       кв. м.\n",
       "1      высокий     0   автомобиль\n",
       "2      высокий     0       кв. м.\n",
       "3      высокий     0  образование\n",
       "4      высокий     0      свадьба"
      ]
     },
     "execution_count": 59,
     "metadata": {},
     "output_type": "execute_result"
    }
   ],
   "source": [
    "income_debt = customer_solvency[['income_level','debt', 'purpose_loan']]\n",
    "income_debt.head()"
   ]
  },
  {
   "cell_type": "markdown",
   "metadata": {},
   "source": [
    "*На основе нее сделаем сводную таблицу*"
   ]
  },
  {
   "cell_type": "code",
   "execution_count": 60,
   "metadata": {},
   "outputs": [
    {
     "data": {
      "text/html": [
       "<div>\n",
       "<style scoped>\n",
       "    .dataframe tbody tr th:only-of-type {\n",
       "        vertical-align: middle;\n",
       "    }\n",
       "\n",
       "    .dataframe tbody tr th {\n",
       "        vertical-align: top;\n",
       "    }\n",
       "\n",
       "    .dataframe thead th {\n",
       "        text-align: right;\n",
       "    }\n",
       "</style>\n",
       "<table border=\"1\" class=\"dataframe\">\n",
       "  <thead>\n",
       "    <tr style=\"text-align: right;\">\n",
       "      <th>debt</th>\n",
       "      <th>0</th>\n",
       "      <th>1</th>\n",
       "    </tr>\n",
       "    <tr>\n",
       "      <th>income_level</th>\n",
       "      <th></th>\n",
       "      <th></th>\n",
       "    </tr>\n",
       "  </thead>\n",
       "  <tbody>\n",
       "    <tr>\n",
       "      <td>высокий</td>\n",
       "      <td>17614</td>\n",
       "      <td>1568</td>\n",
       "    </tr>\n",
       "    <tr>\n",
       "      <td>средний</td>\n",
       "      <td>2031</td>\n",
       "      <td>168</td>\n",
       "    </tr>\n",
       "    <tr>\n",
       "      <td>низкий</td>\n",
       "      <td>66</td>\n",
       "      <td>3</td>\n",
       "    </tr>\n",
       "  </tbody>\n",
       "</table>\n",
       "</div>"
      ],
      "text/plain": [
       "debt              0     1\n",
       "income_level             \n",
       "высокий       17614  1568\n",
       "средний        2031   168\n",
       "низкий           66     3"
      ]
     },
     "execution_count": 60,
     "metadata": {},
     "output_type": "execute_result"
    }
   ],
   "source": [
    "income_debt_pivot = income_debt.pivot_table(index='income_level', columns='debt', values='purpose_loan', aggfunc='count')\n",
    "income_debt_pivot.sort_values(by=0, ascending=False)"
   ]
  },
  {
   "cell_type": "markdown",
   "metadata": {},
   "source": [
    "#### **Вывод**"
   ]
  },
  {
   "cell_type": "markdown",
   "metadata": {},
   "source": [
    "<div style=\"border:solid indigo 2px; padding: 20px\">\n",
    "\n",
    "Категоризацию данных выполнили согласно поставленным задачам.\n",
    " 1. влияние наличия детей на возврат\n",
    "     - сделали сводную таблицу из столбцов 'children' и 'debt'\n",
    " 2. влияние семейного положения на возврат\n",
    "     - сделали сводную таблицу из столбцов 'family_status' и 'debt'\n",
    " 3. влияние целей кредита на возврат\n",
    "     - сделали сводную таблицу из столбцов 'purpose_loan' и 'debt'\n",
    " 4. влияние уровня дохода на возврат\n",
    "     - категоризировали столбец 'total_income', добавив новый столбец 'income_level' с уровнями заработка: 'низкий' ( до 35000), 'средний' (от 36000 до 80000), 'высокий' (от 80000).\n",
    "     - сделали сводную таблицу из столбцов 'income_level' и 'debt'"
   ]
  },
  {
   "cell_type": "markdown",
   "metadata": {},
   "source": [
    "## Шаг 3. Отвечаем на вопросы"
   ]
  },
  {
   "cell_type": "markdown",
   "metadata": {},
   "source": [
    "### Вопрос 1.  Есть ли зависимость между наличием детей и возвратом кредита в срок?"
   ]
  },
  {
   "cell_type": "code",
   "execution_count": 61,
   "metadata": {
    "scrolled": true
   },
   "outputs": [
    {
     "data": {
      "text/html": [
       "<div>\n",
       "<style scoped>\n",
       "    .dataframe tbody tr th:only-of-type {\n",
       "        vertical-align: middle;\n",
       "    }\n",
       "\n",
       "    .dataframe tbody tr th {\n",
       "        vertical-align: top;\n",
       "    }\n",
       "\n",
       "    .dataframe thead th {\n",
       "        text-align: right;\n",
       "    }\n",
       "</style>\n",
       "<table border=\"1\" class=\"dataframe\">\n",
       "  <thead>\n",
       "    <tr style=\"text-align: right;\">\n",
       "      <th>debt</th>\n",
       "      <th>0</th>\n",
       "      <th>1</th>\n",
       "    </tr>\n",
       "    <tr>\n",
       "      <th>children</th>\n",
       "      <th></th>\n",
       "      <th></th>\n",
       "    </tr>\n",
       "  </thead>\n",
       "  <tbody>\n",
       "    <tr>\n",
       "      <td>0</td>\n",
       "      <td>13026.0</td>\n",
       "      <td>1063.0</td>\n",
       "    </tr>\n",
       "    <tr>\n",
       "      <td>1</td>\n",
       "      <td>4410.0</td>\n",
       "      <td>444.0</td>\n",
       "    </tr>\n",
       "    <tr>\n",
       "      <td>2</td>\n",
       "      <td>1926.0</td>\n",
       "      <td>201.0</td>\n",
       "    </tr>\n",
       "    <tr>\n",
       "      <td>3</td>\n",
       "      <td>303.0</td>\n",
       "      <td>27.0</td>\n",
       "    </tr>\n",
       "    <tr>\n",
       "      <td>4</td>\n",
       "      <td>37.0</td>\n",
       "      <td>4.0</td>\n",
       "    </tr>\n",
       "    <tr>\n",
       "      <td>5</td>\n",
       "      <td>9.0</td>\n",
       "      <td>NaN</td>\n",
       "    </tr>\n",
       "  </tbody>\n",
       "</table>\n",
       "</div>"
      ],
      "text/plain": [
       "debt            0       1\n",
       "children                 \n",
       "0         13026.0  1063.0\n",
       "1          4410.0   444.0\n",
       "2          1926.0   201.0\n",
       "3           303.0    27.0\n",
       "4            37.0     4.0\n",
       "5             9.0     NaN"
      ]
     },
     "execution_count": 61,
     "metadata": {},
     "output_type": "execute_result"
    }
   ],
   "source": [
    "children_debt_pivot"
   ]
  },
  {
   "cell_type": "markdown",
   "metadata": {},
   "source": [
    "*Заменим один пропуск на 0, тк у клиентов с 5ю детьми задолженностей нет*"
   ]
  },
  {
   "cell_type": "code",
   "execution_count": 62,
   "metadata": {
    "scrolled": false
   },
   "outputs": [
    {
     "data": {
      "text/html": [
       "<div>\n",
       "<style scoped>\n",
       "    .dataframe tbody tr th:only-of-type {\n",
       "        vertical-align: middle;\n",
       "    }\n",
       "\n",
       "    .dataframe tbody tr th {\n",
       "        vertical-align: top;\n",
       "    }\n",
       "\n",
       "    .dataframe thead th {\n",
       "        text-align: right;\n",
       "    }\n",
       "</style>\n",
       "<table border=\"1\" class=\"dataframe\">\n",
       "  <thead>\n",
       "    <tr style=\"text-align: right;\">\n",
       "      <th>debt</th>\n",
       "      <th>0</th>\n",
       "      <th>1</th>\n",
       "    </tr>\n",
       "    <tr>\n",
       "      <th>children</th>\n",
       "      <th></th>\n",
       "      <th></th>\n",
       "    </tr>\n",
       "  </thead>\n",
       "  <tbody>\n",
       "    <tr>\n",
       "      <td>0</td>\n",
       "      <td>13026.0</td>\n",
       "      <td>1063.0</td>\n",
       "    </tr>\n",
       "    <tr>\n",
       "      <td>1</td>\n",
       "      <td>4410.0</td>\n",
       "      <td>444.0</td>\n",
       "    </tr>\n",
       "    <tr>\n",
       "      <td>2</td>\n",
       "      <td>1926.0</td>\n",
       "      <td>201.0</td>\n",
       "    </tr>\n",
       "    <tr>\n",
       "      <td>3</td>\n",
       "      <td>303.0</td>\n",
       "      <td>27.0</td>\n",
       "    </tr>\n",
       "    <tr>\n",
       "      <td>4</td>\n",
       "      <td>37.0</td>\n",
       "      <td>4.0</td>\n",
       "    </tr>\n",
       "    <tr>\n",
       "      <td>5</td>\n",
       "      <td>9.0</td>\n",
       "      <td>0.0</td>\n",
       "    </tr>\n",
       "  </tbody>\n",
       "</table>\n",
       "</div>"
      ],
      "text/plain": [
       "debt            0       1\n",
       "children                 \n",
       "0         13026.0  1063.0\n",
       "1          4410.0   444.0\n",
       "2          1926.0   201.0\n",
       "3           303.0    27.0\n",
       "4            37.0     4.0\n",
       "5             9.0     0.0"
      ]
     },
     "execution_count": 62,
     "metadata": {},
     "output_type": "execute_result"
    }
   ],
   "source": [
    "children_debt_pivot[1] = children_debt_pivot[1].fillna(0)\n",
    "children_debt_pivot"
   ]
  },
  {
   "cell_type": "code",
   "execution_count": 63,
   "metadata": {},
   "outputs": [
    {
     "data": {
      "text/plain": [
       "21450.0"
      ]
     },
     "execution_count": 63,
     "metadata": {},
     "output_type": "execute_result"
    }
   ],
   "source": [
    "total_count_debt = children_debt_pivot.sum().sum()\n",
    "total_count_debt "
   ]
  },
  {
   "cell_type": "markdown",
   "metadata": {},
   "source": [
    "*Напишем функции для вычисления процентных соотношений*"
   ]
  },
  {
   "cell_type": "code",
   "execution_count": 64,
   "metadata": {},
   "outputs": [],
   "source": [
    "def procent_for_debt_0(row):    # для каждого статуса и задолженности отдельно\n",
    "    procent_for_debt_0 = row[0] / (row[0] + row[1])*100\n",
    "    return round(procent_for_debt_0, 2)\n",
    "\n",
    "def procent_for_debt_1(row):    # для каждого статуса и задолженности отдельно\n",
    "    procent_for_debt_1 = row[1] / (row[0] + row[1])*100\n",
    "    return round(procent_for_debt_1, 2)\n",
    "\n",
    "def procent_total_debt_0(row):    # для процентов от общего числа \n",
    "    total = row[[0,1]].sum().sum()\n",
    "    procent_total_debt_0 = row[0] / total_count_debt *100\n",
    "    return round(procent_total_debt_0, 2)\n",
    "\n",
    "def procent_total_debt_1(row):    # для процентов от общего числа \n",
    "    procent_total_debt_1 = row[1] / total_count_debt *100\n",
    "    return round(procent_total_debt_1, 2)\n",
    "\n",
    "def conversion(row):              # для конверсии\n",
    "    conversion = round(row['procent_total_debt_1'] / row['procent_total_debt_0'], 2)\n",
    "    return conversion\n",
    "    "
   ]
  },
  {
   "cell_type": "markdown",
   "metadata": {},
   "source": [
    "*Создадим новые колонки с процентными соотношениями и итоговым столбцом конверсии*"
   ]
  },
  {
   "cell_type": "code",
   "execution_count": 65,
   "metadata": {},
   "outputs": [
    {
     "data": {
      "text/html": [
       "<div>\n",
       "<style scoped>\n",
       "    .dataframe tbody tr th:only-of-type {\n",
       "        vertical-align: middle;\n",
       "    }\n",
       "\n",
       "    .dataframe tbody tr th {\n",
       "        vertical-align: top;\n",
       "    }\n",
       "\n",
       "    .dataframe thead th {\n",
       "        text-align: right;\n",
       "    }\n",
       "</style>\n",
       "<table border=\"1\" class=\"dataframe\">\n",
       "  <thead>\n",
       "    <tr style=\"text-align: right;\">\n",
       "      <th>debt</th>\n",
       "      <th>0</th>\n",
       "      <th>1</th>\n",
       "      <th>procent_for_debt_0</th>\n",
       "      <th>procent_for_debt_1</th>\n",
       "      <th>procent_total_debt_0</th>\n",
       "      <th>procent_total_debt_1</th>\n",
       "      <th>conversion_total</th>\n",
       "    </tr>\n",
       "    <tr>\n",
       "      <th>children</th>\n",
       "      <th></th>\n",
       "      <th></th>\n",
       "      <th></th>\n",
       "      <th></th>\n",
       "      <th></th>\n",
       "      <th></th>\n",
       "      <th></th>\n",
       "    </tr>\n",
       "  </thead>\n",
       "  <tbody>\n",
       "    <tr>\n",
       "      <td>5</td>\n",
       "      <td>9.0</td>\n",
       "      <td>0.0</td>\n",
       "      <td>100.00</td>\n",
       "      <td>0.00</td>\n",
       "      <td>0.04</td>\n",
       "      <td>0.00</td>\n",
       "      <td>0.00</td>\n",
       "    </tr>\n",
       "    <tr>\n",
       "      <td>0</td>\n",
       "      <td>13026.0</td>\n",
       "      <td>1063.0</td>\n",
       "      <td>92.46</td>\n",
       "      <td>7.54</td>\n",
       "      <td>60.73</td>\n",
       "      <td>4.96</td>\n",
       "      <td>0.08</td>\n",
       "    </tr>\n",
       "    <tr>\n",
       "      <td>3</td>\n",
       "      <td>303.0</td>\n",
       "      <td>27.0</td>\n",
       "      <td>91.82</td>\n",
       "      <td>8.18</td>\n",
       "      <td>1.41</td>\n",
       "      <td>0.13</td>\n",
       "      <td>0.09</td>\n",
       "    </tr>\n",
       "    <tr>\n",
       "      <td>1</td>\n",
       "      <td>4410.0</td>\n",
       "      <td>444.0</td>\n",
       "      <td>90.85</td>\n",
       "      <td>9.15</td>\n",
       "      <td>20.56</td>\n",
       "      <td>2.07</td>\n",
       "      <td>0.10</td>\n",
       "    </tr>\n",
       "    <tr>\n",
       "      <td>2</td>\n",
       "      <td>1926.0</td>\n",
       "      <td>201.0</td>\n",
       "      <td>90.55</td>\n",
       "      <td>9.45</td>\n",
       "      <td>8.98</td>\n",
       "      <td>0.94</td>\n",
       "      <td>0.10</td>\n",
       "    </tr>\n",
       "    <tr>\n",
       "      <td>4</td>\n",
       "      <td>37.0</td>\n",
       "      <td>4.0</td>\n",
       "      <td>90.24</td>\n",
       "      <td>9.76</td>\n",
       "      <td>0.17</td>\n",
       "      <td>0.02</td>\n",
       "      <td>0.12</td>\n",
       "    </tr>\n",
       "  </tbody>\n",
       "</table>\n",
       "</div>"
      ],
      "text/plain": [
       "debt            0       1  procent_for_debt_0  procent_for_debt_1  \\\n",
       "children                                                            \n",
       "5             9.0     0.0              100.00                0.00   \n",
       "0         13026.0  1063.0               92.46                7.54   \n",
       "3           303.0    27.0               91.82                8.18   \n",
       "1          4410.0   444.0               90.85                9.15   \n",
       "2          1926.0   201.0               90.55                9.45   \n",
       "4            37.0     4.0               90.24                9.76   \n",
       "\n",
       "debt      procent_total_debt_0  procent_total_debt_1  conversion_total  \n",
       "children                                                                \n",
       "5                         0.04                  0.00              0.00  \n",
       "0                        60.73                  4.96              0.08  \n",
       "3                         1.41                  0.13              0.09  \n",
       "1                        20.56                  2.07              0.10  \n",
       "2                         8.98                  0.94              0.10  \n",
       "4                         0.17                  0.02              0.12  "
      ]
     },
     "execution_count": 65,
     "metadata": {},
     "output_type": "execute_result"
    }
   ],
   "source": [
    "children_debt_pivot['procent_for_debt_0'] = children_debt_pivot.apply(procent_for_debt_0, axis=1)\n",
    "children_debt_pivot['procent_for_debt_1'] = children_debt_pivot.apply(procent_for_debt_1, axis=1)\n",
    "\n",
    "children_debt_pivot['procent_total_debt_0'] = children_debt_pivot.apply(procent_total_debt_0, axis=1)\n",
    "children_debt_pivot['procent_total_debt_1'] = children_debt_pivot.apply(procent_total_debt_1, axis=1)\n",
    "\n",
    "children_debt_pivot['conversion_total'] = children_debt_pivot.apply(conversion, axis=1)\n",
    "\n",
    "children_debt_pivot.sort_values(by='conversion_total', ascending=True)"
   ]
  },
  {
   "cell_type": "markdown",
   "metadata": {},
   "source": [
    "#### **Вывод**"
   ]
  },
  {
   "cell_type": "markdown",
   "metadata": {},
   "source": [
    " <div style=\"border:solid indigo 2px; padding: 20px\">\n",
    "    \n",
    "**Рейтинг безопасности:**\n",
    "    \n",
    "    1.(Самым безопасным клиент) с 5ю детьми. Просрочено 0,0%.  Видимо, чтобы выдать кредит такому клиенту, банк подумает 100 раз. Банк выдал меньше 1% от общего количества кредитов.\n",
    "    2. клиент без детей. Просрочено 7,5%. Но банк очень охотно дает кредит - 60% от общего количества.\n",
    "    3. с 3мя детьми. Просрочено 8%\n",
    "    4. с 1м ребенком. Просрочено 9,1%\n",
    "    5. с 2мя детьми. Просрочено 9,5%\n",
    "    6. с 4мя детьми. Просрочено 9,7% \n",
    "    \n",
    "**Рейтинг количества:**    \n",
    "    \n",
    "    1. клиент без детей. Выдано 60% кредитов\n",
    "    2. с 1м ребенком.    Выдано 20% кредитов\n",
    "    3. с 2мя детьми.     Выдано 9% кредитов  \n",
    "    4. с 3мя детьми.     Выдано 1,4% кредитов     \n",
    "    5. с 4мя детьми.     Выдано 0,2% кредитов    \n",
    "    5. с 5ми детьми.     Выдано 0,04% кредитов\n",
    "    \n",
    "Банк выдает кредиты опираясь на количество детей у клиента. **Чем меньше детей. тем больше кредитов.** \\\n",
    "**Но зависимость между наличием детей и возвратом кредита в срок не выявлена**. Так, самым безопасным клиентом оказался клиент с 5ю детьми. А на 2м месте клиент без детей.\n",
    "    \n",
    "\n",
    "    "
   ]
  },
  {
   "cell_type": "markdown",
   "metadata": {},
   "source": [
    "### Вопрос 2. Есть ли зависимость между наличием детей и возвратом кредита в срок?"
   ]
  },
  {
   "cell_type": "code",
   "execution_count": 66,
   "metadata": {},
   "outputs": [
    {
     "data": {
      "text/html": [
       "<div>\n",
       "<style scoped>\n",
       "    .dataframe tbody tr th:only-of-type {\n",
       "        vertical-align: middle;\n",
       "    }\n",
       "\n",
       "    .dataframe tbody tr th {\n",
       "        vertical-align: top;\n",
       "    }\n",
       "\n",
       "    .dataframe thead th {\n",
       "        text-align: right;\n",
       "    }\n",
       "</style>\n",
       "<table border=\"1\" class=\"dataframe\">\n",
       "  <thead>\n",
       "    <tr style=\"text-align: right;\">\n",
       "      <th>debt</th>\n",
       "      <th>0</th>\n",
       "      <th>1</th>\n",
       "    </tr>\n",
       "    <tr>\n",
       "      <th>having_children</th>\n",
       "      <th></th>\n",
       "      <th></th>\n",
       "    </tr>\n",
       "  </thead>\n",
       "  <tbody>\n",
       "    <tr>\n",
       "      <td>0</td>\n",
       "      <td>13026</td>\n",
       "      <td>1063</td>\n",
       "    </tr>\n",
       "    <tr>\n",
       "      <td>1</td>\n",
       "      <td>6685</td>\n",
       "      <td>676</td>\n",
       "    </tr>\n",
       "  </tbody>\n",
       "</table>\n",
       "</div>"
      ],
      "text/plain": [
       "debt                 0     1\n",
       "having_children             \n",
       "0                13026  1063\n",
       "1                 6685   676"
      ]
     },
     "execution_count": 66,
     "metadata": {},
     "output_type": "execute_result"
    }
   ],
   "source": [
    "having_children_pivot.sort_values(by=0, ascending=False)"
   ]
  },
  {
   "cell_type": "markdown",
   "metadata": {},
   "source": [
    "*Используем написанные раннее функции для вычисления процентных соотношений и добавим новые столбцы*"
   ]
  },
  {
   "cell_type": "code",
   "execution_count": 67,
   "metadata": {},
   "outputs": [
    {
     "data": {
      "text/html": [
       "<div>\n",
       "<style scoped>\n",
       "    .dataframe tbody tr th:only-of-type {\n",
       "        vertical-align: middle;\n",
       "    }\n",
       "\n",
       "    .dataframe tbody tr th {\n",
       "        vertical-align: top;\n",
       "    }\n",
       "\n",
       "    .dataframe thead th {\n",
       "        text-align: right;\n",
       "    }\n",
       "</style>\n",
       "<table border=\"1\" class=\"dataframe\">\n",
       "  <thead>\n",
       "    <tr style=\"text-align: right;\">\n",
       "      <th>debt</th>\n",
       "      <th>0</th>\n",
       "      <th>1</th>\n",
       "      <th>procent_for_debt_0</th>\n",
       "      <th>procent_for_debt_1</th>\n",
       "      <th>procent_total_debt_0</th>\n",
       "      <th>procent_total_debt_1</th>\n",
       "      <th>conversion_total</th>\n",
       "    </tr>\n",
       "    <tr>\n",
       "      <th>having_children</th>\n",
       "      <th></th>\n",
       "      <th></th>\n",
       "      <th></th>\n",
       "      <th></th>\n",
       "      <th></th>\n",
       "      <th></th>\n",
       "      <th></th>\n",
       "    </tr>\n",
       "  </thead>\n",
       "  <tbody>\n",
       "    <tr>\n",
       "      <td>0</td>\n",
       "      <td>13026</td>\n",
       "      <td>1063</td>\n",
       "      <td>92.46</td>\n",
       "      <td>7.54</td>\n",
       "      <td>60.73</td>\n",
       "      <td>4.96</td>\n",
       "      <td>0.08</td>\n",
       "    </tr>\n",
       "    <tr>\n",
       "      <td>1</td>\n",
       "      <td>6685</td>\n",
       "      <td>676</td>\n",
       "      <td>90.82</td>\n",
       "      <td>9.18</td>\n",
       "      <td>31.17</td>\n",
       "      <td>3.15</td>\n",
       "      <td>0.10</td>\n",
       "    </tr>\n",
       "  </tbody>\n",
       "</table>\n",
       "</div>"
      ],
      "text/plain": [
       "debt                 0     1  procent_for_debt_0  procent_for_debt_1  \\\n",
       "having_children                                                        \n",
       "0                13026  1063               92.46                7.54   \n",
       "1                 6685   676               90.82                9.18   \n",
       "\n",
       "debt             procent_total_debt_0  procent_total_debt_1  conversion_total  \n",
       "having_children                                                                \n",
       "0                               60.73                  4.96              0.08  \n",
       "1                               31.17                  3.15              0.10  "
      ]
     },
     "execution_count": 67,
     "metadata": {},
     "output_type": "execute_result"
    }
   ],
   "source": [
    "having_children_pivot['procent_for_debt_0'] = having_children_pivot.apply(procent_for_debt_0, axis=1)\n",
    "having_children_pivot['procent_for_debt_1'] = having_children_pivot.apply(procent_for_debt_1, axis=1)\n",
    "\n",
    "having_children_pivot['procent_total_debt_0'] = having_children_pivot.apply(procent_total_debt_0, axis=1)\n",
    "having_children_pivot['procent_total_debt_1'] = having_children_pivot.apply(procent_total_debt_1, axis=1)\n",
    "\n",
    "having_children_pivot['conversion_total'] = having_children_pivot.apply(conversion, axis=1)\n",
    "\n",
    "having_children_pivot.sort_values(by='conversion_total', ascending=True)"
   ]
  },
  {
   "cell_type": "markdown",
   "metadata": {},
   "source": [
    "#### **Вывод**"
   ]
  },
  {
   "cell_type": "markdown",
   "metadata": {},
   "source": [
    " <div style=\"border:solid indigo 2px; padding: 20px\">\n",
    "    \n",
    "**Согласно итоговой конверсии 'conversion_total' клиенты без детей возвращают кредиты в срок чаще, чем клиенты с детьми.** \\\n",
    "Клиенты без детей более надежные"
   ]
  },
  {
   "cell_type": "markdown",
   "metadata": {},
   "source": [
    "### Вопрос 3. Есть ли зависимость между семейным положением и возвратом кредита в срок?"
   ]
  },
  {
   "cell_type": "code",
   "execution_count": 68,
   "metadata": {
    "scrolled": false
   },
   "outputs": [
    {
     "data": {
      "text/html": [
       "<div>\n",
       "<style scoped>\n",
       "    .dataframe tbody tr th:only-of-type {\n",
       "        vertical-align: middle;\n",
       "    }\n",
       "\n",
       "    .dataframe tbody tr th {\n",
       "        vertical-align: top;\n",
       "    }\n",
       "\n",
       "    .dataframe thead th {\n",
       "        text-align: right;\n",
       "    }\n",
       "</style>\n",
       "<table border=\"1\" class=\"dataframe\">\n",
       "  <thead>\n",
       "    <tr style=\"text-align: right;\">\n",
       "      <th>debt</th>\n",
       "      <th>0</th>\n",
       "      <th>1</th>\n",
       "    </tr>\n",
       "    <tr>\n",
       "      <th>family_status</th>\n",
       "      <th></th>\n",
       "      <th></th>\n",
       "    </tr>\n",
       "  </thead>\n",
       "  <tbody>\n",
       "    <tr>\n",
       "      <td>женат / замужем</td>\n",
       "      <td>11408</td>\n",
       "      <td>929</td>\n",
       "    </tr>\n",
       "    <tr>\n",
       "      <td>гражданский брак</td>\n",
       "      <td>3762</td>\n",
       "      <td>388</td>\n",
       "    </tr>\n",
       "    <tr>\n",
       "      <td>Не женат / не замужем</td>\n",
       "      <td>2535</td>\n",
       "      <td>274</td>\n",
       "    </tr>\n",
       "    <tr>\n",
       "      <td>в разводе</td>\n",
       "      <td>1110</td>\n",
       "      <td>85</td>\n",
       "    </tr>\n",
       "    <tr>\n",
       "      <td>вдовец / вдова</td>\n",
       "      <td>896</td>\n",
       "      <td>63</td>\n",
       "    </tr>\n",
       "  </tbody>\n",
       "</table>\n",
       "</div>"
      ],
      "text/plain": [
       "debt                       0    1\n",
       "family_status                    \n",
       "женат / замужем        11408  929\n",
       "гражданский брак        3762  388\n",
       "Не женат / не замужем   2535  274\n",
       "в разводе               1110   85\n",
       "вдовец / вдова           896   63"
      ]
     },
     "execution_count": 68,
     "metadata": {},
     "output_type": "execute_result"
    }
   ],
   "source": [
    "family_status_debt_pivot.sort_values(by=0, ascending=False)"
   ]
  },
  {
   "cell_type": "code",
   "execution_count": 69,
   "metadata": {
    "scrolled": true
   },
   "outputs": [
    {
     "data": {
      "text/html": [
       "<div>\n",
       "<style scoped>\n",
       "    .dataframe tbody tr th:only-of-type {\n",
       "        vertical-align: middle;\n",
       "    }\n",
       "\n",
       "    .dataframe tbody tr th {\n",
       "        vertical-align: top;\n",
       "    }\n",
       "\n",
       "    .dataframe thead th {\n",
       "        text-align: right;\n",
       "    }\n",
       "</style>\n",
       "<table border=\"1\" class=\"dataframe\">\n",
       "  <thead>\n",
       "    <tr style=\"text-align: right;\">\n",
       "      <th>debt</th>\n",
       "      <th>0</th>\n",
       "      <th>1</th>\n",
       "    </tr>\n",
       "    <tr>\n",
       "      <th>family_status</th>\n",
       "      <th></th>\n",
       "      <th></th>\n",
       "    </tr>\n",
       "  </thead>\n",
       "  <tbody>\n",
       "    <tr>\n",
       "      <td>Не женат / не замужем</td>\n",
       "      <td>2535</td>\n",
       "      <td>274</td>\n",
       "    </tr>\n",
       "    <tr>\n",
       "      <td>в разводе</td>\n",
       "      <td>1110</td>\n",
       "      <td>85</td>\n",
       "    </tr>\n",
       "    <tr>\n",
       "      <td>вдовец / вдова</td>\n",
       "      <td>896</td>\n",
       "      <td>63</td>\n",
       "    </tr>\n",
       "    <tr>\n",
       "      <td>гражданский брак</td>\n",
       "      <td>3762</td>\n",
       "      <td>388</td>\n",
       "    </tr>\n",
       "    <tr>\n",
       "      <td>женат / замужем</td>\n",
       "      <td>11408</td>\n",
       "      <td>929</td>\n",
       "    </tr>\n",
       "  </tbody>\n",
       "</table>\n",
       "</div>"
      ],
      "text/plain": [
       "debt                       0    1\n",
       "family_status                    \n",
       "Не женат / не замужем   2535  274\n",
       "в разводе               1110   85\n",
       "вдовец / вдова           896   63\n",
       "гражданский брак        3762  388\n",
       "женат / замужем        11408  929"
      ]
     },
     "execution_count": 69,
     "metadata": {},
     "output_type": "execute_result"
    }
   ],
   "source": [
    "family_status_debt_pivot"
   ]
  },
  {
   "cell_type": "markdown",
   "metadata": {},
   "source": [
    "*Используем написанные раннее функции для вычисления процентных соотношений и добавим новые столбцы*"
   ]
  },
  {
   "cell_type": "markdown",
   "metadata": {},
   "source": [
    "*Создадим новые колонки с процентными соотношениями и итоговым столбцом конверсии*"
   ]
  },
  {
   "cell_type": "code",
   "execution_count": 70,
   "metadata": {
    "scrolled": true
   },
   "outputs": [
    {
     "data": {
      "text/html": [
       "<div>\n",
       "<style scoped>\n",
       "    .dataframe tbody tr th:only-of-type {\n",
       "        vertical-align: middle;\n",
       "    }\n",
       "\n",
       "    .dataframe tbody tr th {\n",
       "        vertical-align: top;\n",
       "    }\n",
       "\n",
       "    .dataframe thead th {\n",
       "        text-align: right;\n",
       "    }\n",
       "</style>\n",
       "<table border=\"1\" class=\"dataframe\">\n",
       "  <thead>\n",
       "    <tr style=\"text-align: right;\">\n",
       "      <th>debt</th>\n",
       "      <th>0</th>\n",
       "      <th>1</th>\n",
       "      <th>procent_for_debt_0</th>\n",
       "      <th>procent_for_debt_1</th>\n",
       "      <th>procent_total_debt_0</th>\n",
       "      <th>procent_total_debt_1</th>\n",
       "      <th>conversion_total</th>\n",
       "    </tr>\n",
       "    <tr>\n",
       "      <th>family_status</th>\n",
       "      <th></th>\n",
       "      <th></th>\n",
       "      <th></th>\n",
       "      <th></th>\n",
       "      <th></th>\n",
       "      <th></th>\n",
       "      <th></th>\n",
       "    </tr>\n",
       "  </thead>\n",
       "  <tbody>\n",
       "    <tr>\n",
       "      <td>вдовец / вдова</td>\n",
       "      <td>896</td>\n",
       "      <td>63</td>\n",
       "      <td>93.43</td>\n",
       "      <td>6.57</td>\n",
       "      <td>4.18</td>\n",
       "      <td>0.29</td>\n",
       "      <td>0.07</td>\n",
       "    </tr>\n",
       "    <tr>\n",
       "      <td>в разводе</td>\n",
       "      <td>1110</td>\n",
       "      <td>85</td>\n",
       "      <td>92.89</td>\n",
       "      <td>7.11</td>\n",
       "      <td>5.17</td>\n",
       "      <td>0.40</td>\n",
       "      <td>0.08</td>\n",
       "    </tr>\n",
       "    <tr>\n",
       "      <td>женат / замужем</td>\n",
       "      <td>11408</td>\n",
       "      <td>929</td>\n",
       "      <td>92.47</td>\n",
       "      <td>7.53</td>\n",
       "      <td>53.18</td>\n",
       "      <td>4.33</td>\n",
       "      <td>0.08</td>\n",
       "    </tr>\n",
       "    <tr>\n",
       "      <td>гражданский брак</td>\n",
       "      <td>3762</td>\n",
       "      <td>388</td>\n",
       "      <td>90.65</td>\n",
       "      <td>9.35</td>\n",
       "      <td>17.54</td>\n",
       "      <td>1.81</td>\n",
       "      <td>0.10</td>\n",
       "    </tr>\n",
       "    <tr>\n",
       "      <td>Не женат / не замужем</td>\n",
       "      <td>2535</td>\n",
       "      <td>274</td>\n",
       "      <td>90.25</td>\n",
       "      <td>9.75</td>\n",
       "      <td>11.82</td>\n",
       "      <td>1.28</td>\n",
       "      <td>0.11</td>\n",
       "    </tr>\n",
       "  </tbody>\n",
       "</table>\n",
       "</div>"
      ],
      "text/plain": [
       "debt                       0    1  procent_for_debt_0  procent_for_debt_1  \\\n",
       "family_status                                                               \n",
       "вдовец / вдова           896   63               93.43                6.57   \n",
       "в разводе               1110   85               92.89                7.11   \n",
       "женат / замужем        11408  929               92.47                7.53   \n",
       "гражданский брак        3762  388               90.65                9.35   \n",
       "Не женат / не замужем   2535  274               90.25                9.75   \n",
       "\n",
       "debt                   procent_total_debt_0  procent_total_debt_1  \\\n",
       "family_status                                                       \n",
       "вдовец / вдова                         4.18                  0.29   \n",
       "в разводе                              5.17                  0.40   \n",
       "женат / замужем                       53.18                  4.33   \n",
       "гражданский брак                      17.54                  1.81   \n",
       "Не женат / не замужем                 11.82                  1.28   \n",
       "\n",
       "debt                   conversion_total  \n",
       "family_status                            \n",
       "вдовец / вдова                     0.07  \n",
       "в разводе                          0.08  \n",
       "женат / замужем                    0.08  \n",
       "гражданский брак                   0.10  \n",
       "Не женат / не замужем              0.11  "
      ]
     },
     "execution_count": 70,
     "metadata": {},
     "output_type": "execute_result"
    }
   ],
   "source": [
    "family_status_debt_pivot['procent_for_debt_0'] = family_status_debt_pivot.apply(procent_for_debt_0, axis=1)\n",
    "family_status_debt_pivot['procent_for_debt_1'] = family_status_debt_pivot.apply(procent_for_debt_1, axis=1)\n",
    "\n",
    "family_status_debt_pivot['procent_total_debt_0'] = family_status_debt_pivot.apply(procent_total_debt_0, axis=1)\n",
    "family_status_debt_pivot['procent_total_debt_1'] = family_status_debt_pivot.apply(procent_total_debt_1, axis=1)\n",
    "\n",
    "family_status_debt_pivot['conversion_total'] = family_status_debt_pivot.apply(conversion, axis=1)\n",
    "\n",
    "family_status_debt_pivot.sort_values(by='conversion_total', ascending=True)"
   ]
  },
  {
   "cell_type": "markdown",
   "metadata": {},
   "source": [
    "#### **Вывод**"
   ]
  },
  {
   "cell_type": "markdown",
   "metadata": {},
   "source": [
    " <div style=\"border:solid indigo 2px; padding: 20px\">\n",
    "\n",
    "**Рейтинг выдачи кредитов**\n",
    "   - 1 место - женат / замужем.       Выдано 53% от всех кредитов. \n",
    "   - 2 место - гражданский брак.      Выдано 18% от всех кредитов. \t\n",
    "   - 3 место - Не женат / не замужем. Выдано 12% от всех кредитов. \n",
    "   - 4 место - в разводе.             Выдано 5% от всех кредитов.     \n",
    "   - 5 место - вдовец / вдова.        Выдано 4% от всех кредитов.  \n",
    "    \n",
    " **Рейтинг просрочки кредитов**  \n",
    "   - 1 место - вдовец / вдова.        Просрочено 0,3%.\n",
    "   - 2 место - в разводе.             Просрочено 0,4%.\n",
    "   - 3 место - Не женат / не замужем. Просрочено 1,2%.\n",
    "   - 4 место - гражданский брак.      Просрочено 1,8%.    \n",
    "   - 5 место - женат / замужем.       Просрочено 4,3%.\n",
    " \n",
    " **Рейтинг конверсии просроченных кредитов (от лучшего к худшему)** \n",
    "   - 1 место - вдовец / вдова.         Конверсия 0,07%.\n",
    "   -  2 место - в разводе.             Конверсия 0,08%.\n",
    "   -  3 место - женат / замужем.       Конверсия 0.08%.\n",
    "   -  4 место - гражданский брак.      Конверсия 0.10%.    \n",
    "   -  5 место - Не женат / не замужем. Конверсия 0.11%. \n",
    " \n",
    " \n",
    " Клиентам со статусом 'женат / замужем' выдают кредиты охотнее остальных.  Конверсия просроченности данной группы на 3м месте, средняя. В данной категории рекомундую оставить количество выданных кредитов на том же уровне\n",
    " \n",
    " Лучше всего с задолженностью в категории 'вдовец / вдова'. В данной категории рекомундую выдавать больше кредитов. \\\n",
    " Хуже всего с задолженностью в категории 'Не женат / не замужем'. В данной категории рекомундую выдавать меньше кредитов\n",
    "\n",
    "**Зависимость между семейным положением и возвратом кредита в срок присутствует.**\n",
    "Клиенты со статусом женат/замужем или в разводе возвращают кредит вовремя чаще, чем не женатые/ не замужем.\n"
   ]
  },
  {
   "cell_type": "markdown",
   "metadata": {},
   "source": [
    "### Вопрос 4. Как разные цели кредита влияют на его возврат в срок?"
   ]
  },
  {
   "cell_type": "code",
   "execution_count": 71,
   "metadata": {},
   "outputs": [
    {
     "data": {
      "text/html": [
       "<div>\n",
       "<style scoped>\n",
       "    .dataframe tbody tr th:only-of-type {\n",
       "        vertical-align: middle;\n",
       "    }\n",
       "\n",
       "    .dataframe tbody tr th {\n",
       "        vertical-align: top;\n",
       "    }\n",
       "\n",
       "    .dataframe thead th {\n",
       "        text-align: right;\n",
       "    }\n",
       "</style>\n",
       "<table border=\"1\" class=\"dataframe\">\n",
       "  <thead>\n",
       "    <tr style=\"text-align: right;\">\n",
       "      <th>debt</th>\n",
       "      <th>0</th>\n",
       "      <th>1</th>\n",
       "    </tr>\n",
       "    <tr>\n",
       "      <th>purpose_loan</th>\n",
       "      <th></th>\n",
       "      <th></th>\n",
       "    </tr>\n",
       "  </thead>\n",
       "  <tbody>\n",
       "    <tr>\n",
       "      <td>кв. м.</td>\n",
       "      <td>10027</td>\n",
       "      <td>781</td>\n",
       "    </tr>\n",
       "    <tr>\n",
       "      <td>автомобиль</td>\n",
       "      <td>3903</td>\n",
       "      <td>402</td>\n",
       "    </tr>\n",
       "    <tr>\n",
       "      <td>образование</td>\n",
       "      <td>3643</td>\n",
       "      <td>370</td>\n",
       "    </tr>\n",
       "    <tr>\n",
       "      <td>свадьба</td>\n",
       "      <td>2138</td>\n",
       "      <td>186</td>\n",
       "    </tr>\n",
       "  </tbody>\n",
       "</table>\n",
       "</div>"
      ],
      "text/plain": [
       "debt              0    1\n",
       "purpose_loan            \n",
       "кв. м.        10027  781\n",
       "автомобиль     3903  402\n",
       "образование    3643  370\n",
       "свадьба        2138  186"
      ]
     },
     "execution_count": 71,
     "metadata": {},
     "output_type": "execute_result"
    }
   ],
   "source": [
    "purpose_Loan_debt_pivot.sort_values(by=0, ascending=False)"
   ]
  },
  {
   "cell_type": "markdown",
   "metadata": {},
   "source": [
    "*Используем написанные раннее функции для вычисления процентных соотношений и добавим новые столбцы*"
   ]
  },
  {
   "cell_type": "code",
   "execution_count": 72,
   "metadata": {},
   "outputs": [
    {
     "data": {
      "text/html": [
       "<div>\n",
       "<style scoped>\n",
       "    .dataframe tbody tr th:only-of-type {\n",
       "        vertical-align: middle;\n",
       "    }\n",
       "\n",
       "    .dataframe tbody tr th {\n",
       "        vertical-align: top;\n",
       "    }\n",
       "\n",
       "    .dataframe thead th {\n",
       "        text-align: right;\n",
       "    }\n",
       "</style>\n",
       "<table border=\"1\" class=\"dataframe\">\n",
       "  <thead>\n",
       "    <tr style=\"text-align: right;\">\n",
       "      <th>debt</th>\n",
       "      <th>0</th>\n",
       "      <th>1</th>\n",
       "      <th>procent_for_debt_0</th>\n",
       "      <th>procent_for_debt_1</th>\n",
       "      <th>procent_total_debt_0</th>\n",
       "      <th>procent_total_debt_1</th>\n",
       "      <th>conversion_total</th>\n",
       "    </tr>\n",
       "    <tr>\n",
       "      <th>purpose_loan</th>\n",
       "      <th></th>\n",
       "      <th></th>\n",
       "      <th></th>\n",
       "      <th></th>\n",
       "      <th></th>\n",
       "      <th></th>\n",
       "      <th></th>\n",
       "    </tr>\n",
       "  </thead>\n",
       "  <tbody>\n",
       "    <tr>\n",
       "      <td>кв. м.</td>\n",
       "      <td>10027</td>\n",
       "      <td>781</td>\n",
       "      <td>92.77</td>\n",
       "      <td>7.23</td>\n",
       "      <td>46.75</td>\n",
       "      <td>3.64</td>\n",
       "      <td>0.08</td>\n",
       "    </tr>\n",
       "    <tr>\n",
       "      <td>свадьба</td>\n",
       "      <td>2138</td>\n",
       "      <td>186</td>\n",
       "      <td>92.00</td>\n",
       "      <td>8.00</td>\n",
       "      <td>9.97</td>\n",
       "      <td>0.87</td>\n",
       "      <td>0.09</td>\n",
       "    </tr>\n",
       "    <tr>\n",
       "      <td>автомобиль</td>\n",
       "      <td>3903</td>\n",
       "      <td>402</td>\n",
       "      <td>90.66</td>\n",
       "      <td>9.34</td>\n",
       "      <td>18.20</td>\n",
       "      <td>1.87</td>\n",
       "      <td>0.10</td>\n",
       "    </tr>\n",
       "    <tr>\n",
       "      <td>образование</td>\n",
       "      <td>3643</td>\n",
       "      <td>370</td>\n",
       "      <td>90.78</td>\n",
       "      <td>9.22</td>\n",
       "      <td>16.98</td>\n",
       "      <td>1.72</td>\n",
       "      <td>0.10</td>\n",
       "    </tr>\n",
       "  </tbody>\n",
       "</table>\n",
       "</div>"
      ],
      "text/plain": [
       "debt              0    1  procent_for_debt_0  procent_for_debt_1  \\\n",
       "purpose_loan                                                       \n",
       "кв. м.        10027  781               92.77                7.23   \n",
       "свадьба        2138  186               92.00                8.00   \n",
       "автомобиль     3903  402               90.66                9.34   \n",
       "образование    3643  370               90.78                9.22   \n",
       "\n",
       "debt          procent_total_debt_0  procent_total_debt_1  conversion_total  \n",
       "purpose_loan                                                                \n",
       "кв. м.                       46.75                  3.64              0.08  \n",
       "свадьба                       9.97                  0.87              0.09  \n",
       "автомобиль                   18.20                  1.87              0.10  \n",
       "образование                  16.98                  1.72              0.10  "
      ]
     },
     "execution_count": 72,
     "metadata": {},
     "output_type": "execute_result"
    }
   ],
   "source": [
    "purpose_Loan_debt_pivot['procent_for_debt_0'] = purpose_Loan_debt_pivot.apply(procent_for_debt_0, axis=1)\n",
    "purpose_Loan_debt_pivot['procent_for_debt_1'] = purpose_Loan_debt_pivot.apply(procent_for_debt_1, axis=1)\n",
    "\n",
    "purpose_Loan_debt_pivot['procent_total_debt_0'] = purpose_Loan_debt_pivot.apply(procent_total_debt_0, axis=1)\n",
    "purpose_Loan_debt_pivot['procent_total_debt_1'] = purpose_Loan_debt_pivot.apply(procent_total_debt_1, axis=1)\n",
    "\n",
    "purpose_Loan_debt_pivot['conversion_total'] = purpose_Loan_debt_pivot.apply(conversion, axis=1)\n",
    "\n",
    "purpose_Loan_debt_pivot.sort_values(by='conversion_total', ascending=True)"
   ]
  },
  {
   "cell_type": "markdown",
   "metadata": {},
   "source": [
    "#### **Вывод**"
   ]
  },
  {
   "cell_type": "markdown",
   "metadata": {},
   "source": [
    " <div style=\"border:solid indigo 2px; padding: 20px\">\n",
    "\n",
    "- По результатам итоговой конверсии цель кредита 'кв м' (на разную недвижимость) имеет минимальную степень возврата.\n",
    "    А как иначе, банк ведь заберет недвижимость! \n",
    "- Хуже всего дела обстоят с кредитами на автомобиль и образование.\n",
    "    Образование в случае невозврата кредита можно перенести, автомобиль видимо является не такой ценностью, как недвижимость, можно пожертвовать. Отсюда и вытекают просрочки кредита."
   ]
  },
  {
   "cell_type": "markdown",
   "metadata": {},
   "source": [
    "### Вопрос 5. Как уровень дохода влияет на возврат кредита в срок?"
   ]
  },
  {
   "cell_type": "code",
   "execution_count": 73,
   "metadata": {},
   "outputs": [
    {
     "data": {
      "text/html": [
       "<div>\n",
       "<style scoped>\n",
       "    .dataframe tbody tr th:only-of-type {\n",
       "        vertical-align: middle;\n",
       "    }\n",
       "\n",
       "    .dataframe tbody tr th {\n",
       "        vertical-align: top;\n",
       "    }\n",
       "\n",
       "    .dataframe thead th {\n",
       "        text-align: right;\n",
       "    }\n",
       "</style>\n",
       "<table border=\"1\" class=\"dataframe\">\n",
       "  <thead>\n",
       "    <tr style=\"text-align: right;\">\n",
       "      <th>debt</th>\n",
       "      <th>0</th>\n",
       "      <th>1</th>\n",
       "    </tr>\n",
       "    <tr>\n",
       "      <th>income_level</th>\n",
       "      <th></th>\n",
       "      <th></th>\n",
       "    </tr>\n",
       "  </thead>\n",
       "  <tbody>\n",
       "    <tr>\n",
       "      <td>высокий</td>\n",
       "      <td>17614</td>\n",
       "      <td>1568</td>\n",
       "    </tr>\n",
       "    <tr>\n",
       "      <td>средний</td>\n",
       "      <td>2031</td>\n",
       "      <td>168</td>\n",
       "    </tr>\n",
       "    <tr>\n",
       "      <td>низкий</td>\n",
       "      <td>66</td>\n",
       "      <td>3</td>\n",
       "    </tr>\n",
       "  </tbody>\n",
       "</table>\n",
       "</div>"
      ],
      "text/plain": [
       "debt              0     1\n",
       "income_level             \n",
       "высокий       17614  1568\n",
       "средний        2031   168\n",
       "низкий           66     3"
      ]
     },
     "execution_count": 73,
     "metadata": {},
     "output_type": "execute_result"
    }
   ],
   "source": [
    "income_debt_pivot.sort_values(by=0, ascending=False)"
   ]
  },
  {
   "cell_type": "markdown",
   "metadata": {},
   "source": [
    "*Используем написанные раннее функции для вычисления процентных соотношений и добавим новые столбцы*"
   ]
  },
  {
   "cell_type": "code",
   "execution_count": 74,
   "metadata": {
    "scrolled": true
   },
   "outputs": [
    {
     "data": {
      "text/html": [
       "<div>\n",
       "<style scoped>\n",
       "    .dataframe tbody tr th:only-of-type {\n",
       "        vertical-align: middle;\n",
       "    }\n",
       "\n",
       "    .dataframe tbody tr th {\n",
       "        vertical-align: top;\n",
       "    }\n",
       "\n",
       "    .dataframe thead th {\n",
       "        text-align: right;\n",
       "    }\n",
       "</style>\n",
       "<table border=\"1\" class=\"dataframe\">\n",
       "  <thead>\n",
       "    <tr style=\"text-align: right;\">\n",
       "      <th>debt</th>\n",
       "      <th>0</th>\n",
       "      <th>1</th>\n",
       "      <th>procent_for_debt_0</th>\n",
       "      <th>procent_for_debt_1</th>\n",
       "      <th>procent_total_debt_0</th>\n",
       "      <th>procent_total_debt_1</th>\n",
       "      <th>conversion_total</th>\n",
       "    </tr>\n",
       "    <tr>\n",
       "      <th>income_level</th>\n",
       "      <th></th>\n",
       "      <th></th>\n",
       "      <th></th>\n",
       "      <th></th>\n",
       "      <th></th>\n",
       "      <th></th>\n",
       "      <th></th>\n",
       "    </tr>\n",
       "  </thead>\n",
       "  <tbody>\n",
       "    <tr>\n",
       "      <td>низкий</td>\n",
       "      <td>66</td>\n",
       "      <td>3</td>\n",
       "      <td>95.65</td>\n",
       "      <td>4.35</td>\n",
       "      <td>0.31</td>\n",
       "      <td>0.01</td>\n",
       "      <td>0.03</td>\n",
       "    </tr>\n",
       "    <tr>\n",
       "      <td>средний</td>\n",
       "      <td>2031</td>\n",
       "      <td>168</td>\n",
       "      <td>92.36</td>\n",
       "      <td>7.64</td>\n",
       "      <td>9.47</td>\n",
       "      <td>0.78</td>\n",
       "      <td>0.08</td>\n",
       "    </tr>\n",
       "    <tr>\n",
       "      <td>высокий</td>\n",
       "      <td>17614</td>\n",
       "      <td>1568</td>\n",
       "      <td>91.83</td>\n",
       "      <td>8.17</td>\n",
       "      <td>82.12</td>\n",
       "      <td>7.31</td>\n",
       "      <td>0.09</td>\n",
       "    </tr>\n",
       "  </tbody>\n",
       "</table>\n",
       "</div>"
      ],
      "text/plain": [
       "debt              0     1  procent_for_debt_0  procent_for_debt_1  \\\n",
       "income_level                                                        \n",
       "низкий           66     3               95.65                4.35   \n",
       "средний        2031   168               92.36                7.64   \n",
       "высокий       17614  1568               91.83                8.17   \n",
       "\n",
       "debt          procent_total_debt_0  procent_total_debt_1  conversion_total  \n",
       "income_level                                                                \n",
       "низкий                        0.31                  0.01              0.03  \n",
       "средний                       9.47                  0.78              0.08  \n",
       "высокий                      82.12                  7.31              0.09  "
      ]
     },
     "execution_count": 74,
     "metadata": {},
     "output_type": "execute_result"
    }
   ],
   "source": [
    "income_debt_pivot['procent_for_debt_0'] = income_debt_pivot.apply(procent_for_debt_0, axis=1)\n",
    "income_debt_pivot['procent_for_debt_1'] = income_debt_pivot.apply(procent_for_debt_1, axis=1)\n",
    "\n",
    "income_debt_pivot['procent_total_debt_0'] = income_debt_pivot.apply(procent_total_debt_0, axis=1)\n",
    "income_debt_pivot['procent_total_debt_1'] = income_debt_pivot.apply(procent_total_debt_1, axis=1)\n",
    "\n",
    "income_debt_pivot['conversion_total'] = income_debt_pivot.apply(conversion, axis=1)\n",
    "\n",
    "income_debt_pivot.sort_values(by='conversion_total', ascending=True)"
   ]
  },
  {
   "cell_type": "markdown",
   "metadata": {},
   "source": [
    "#### **Вывод**"
   ]
  },
  {
   "cell_type": "markdown",
   "metadata": {},
   "source": [
    " <div style=\"border:solid indigo 2px; padding: 20px\">\n",
    "\n",
    "- По результатам итоговой конверсии клиенты с низким уровнем дохода имеют минимальную степень возврата.\n",
    "    Отдают кредит вовремя, тк могут потерять больше. \\\n",
    "- Хуже всего дела обстоят с клиентами с высоким уровнем дохода.\n",
    "    Таких клиентов не беспокоят возможные санкции. Могут себе позволить задержать кредит при необхождимости, оплатив пеню.\n",
    " \n",
    " **Чем выше уровень дохода, тем чаще клиенты нарушают требование возврата кредита в срок.**"
   ]
  },
  {
   "cell_type": "markdown",
   "metadata": {},
   "source": [
    "## Шаг 4. Общий вывод"
   ]
  },
  {
   "cell_type": "markdown",
   "metadata": {},
   "source": [
    " <div style=\"border:solid indigo 5px; padding: 20px\">\n",
    "\n",
    "После анализа данных можно сделать выводы о том, что не все аспекты семейного положения влияют на возврат кредита в срок.\n",
    "    \n",
    "      - На вопрос: Есть ли зависимость между наличием детей и возвратом кредита в срок? \n",
    " **Закономерность не выявлена**. Так, самым безопасным клиентом оказался клиент с 5ю детьми. А на 2м месте клиент без детей.\n",
    "    \n",
    "       - На вопрос: Есть ли зависимость между наличием детей и возвратом кредита в срок?    \n",
    " Выяснили, что **клиенты без детей возвращают кредиты в срок чаще, чем клиенты с детьми** \n",
    "    Это может быть связано с дополнительными тратами на ребенка:сезонной одеждой, на инвентарь и тд.\n",
    "    \n",
    "      - На вопрос: Есть ли зависимость между семейным положением и возвратом кредита в срок?\n",
    " **Закономерность выявлена**. Клиенты со статусом 'женат/замужем' или 'в разводе' возвращают кредит в установленный срок чаще, чем не женатые/ не замужем.\n",
    "  \n",
    "     -  На вопрос: Как разные цели кредита влияют на его возврат в срок?\n",
    " Выяснили, что **цель кредита 'кв м' (на разную недвижимость) имеет минимальную степень задержки возврата.** А как иначе, банк ведь заберет недвижимость!\n",
    "**Хуже всего дела обстоят с кредитами на автомобиль и образование.** Образование в случае невозврата кредита можно перенести, автомобиль видимо является не такой ценностью, как недвижимость, можно пожертвовать. Отсюда и вытекают просрочки кредита\n",
    "    \n",
    "     -  На вопрос: Как уровень дохода влияет на возврат кредита в срок?\n",
    "Выяснили, что **чем выше уровень дохода, тем чаще клиенты нарушают требование возврата кредита в срок.** \n",
    "    Клиенты с высоким доходом могут себе позволить задержать кредит при необхождимости, оплатив пеню.\n",
    "    Клиенты с низким уровнем дохода стараются всегда возвращать кредит в срок, чтобы не тратить лишние деньги."
   ]
  }
 ],
 "metadata": {
  "ExecuteTimeLog": [
   {
    "duration": 902,
    "start_time": "2022-01-01T13:40:29.659Z"
   },
   {
    "duration": 74,
    "start_time": "2022-01-01T13:40:40.062Z"
   },
   {
    "duration": 516,
    "start_time": "2022-01-01T13:44:08.906Z"
   },
   {
    "duration": 63,
    "start_time": "2022-01-01T13:44:11.436Z"
   },
   {
    "duration": 430,
    "start_time": "2022-01-01T13:45:11.669Z"
   },
   {
    "duration": 65,
    "start_time": "2022-01-01T13:45:25.564Z"
   },
   {
    "duration": 463,
    "start_time": "2022-01-01T13:46:52.697Z"
   },
   {
    "duration": 65,
    "start_time": "2022-01-01T13:46:55.884Z"
   },
   {
    "duration": 74,
    "start_time": "2022-01-01T13:50:06.229Z"
   },
   {
    "duration": 19,
    "start_time": "2022-01-01T13:52:19.009Z"
   },
   {
    "duration": 746,
    "start_time": "2022-01-02T03:33:39.373Z"
   },
   {
    "duration": 21,
    "start_time": "2022-01-02T03:35:15.507Z"
   },
   {
    "duration": 77,
    "start_time": "2022-01-02T03:38:23.207Z"
   },
   {
    "duration": 14,
    "start_time": "2022-01-02T03:38:29.148Z"
   },
   {
    "duration": 23,
    "start_time": "2022-01-02T03:39:25.295Z"
   },
   {
    "duration": 24,
    "start_time": "2022-01-02T03:39:40.240Z"
   },
   {
    "duration": 9,
    "start_time": "2022-01-02T03:49:36.065Z"
   },
   {
    "duration": 6,
    "start_time": "2022-01-02T03:50:02.292Z"
   },
   {
    "duration": 7,
    "start_time": "2022-01-02T03:50:22.373Z"
   },
   {
    "duration": 6,
    "start_time": "2022-01-02T03:50:30.685Z"
   },
   {
    "duration": 8,
    "start_time": "2022-01-02T03:50:40.366Z"
   },
   {
    "duration": 368,
    "start_time": "2022-01-02T03:50:58.864Z"
   },
   {
    "duration": 10,
    "start_time": "2022-01-02T03:51:08.054Z"
   },
   {
    "duration": 26,
    "start_time": "2022-01-02T03:54:22.142Z"
   },
   {
    "duration": 58,
    "start_time": "2022-01-02T03:54:45.360Z"
   },
   {
    "duration": 8,
    "start_time": "2022-01-02T03:55:16.817Z"
   },
   {
    "duration": 110,
    "start_time": "2022-01-02T03:56:15.559Z"
   },
   {
    "duration": 107,
    "start_time": "2022-01-02T03:58:14.450Z"
   },
   {
    "duration": 300,
    "start_time": "2022-01-02T05:41:50.873Z"
   },
   {
    "duration": 304,
    "start_time": "2022-01-02T05:42:02.451Z"
   },
   {
    "duration": 2718,
    "start_time": "2022-01-02T05:42:10.295Z"
   },
   {
    "duration": -856,
    "start_time": "2022-01-02T05:42:13.873Z"
   },
   {
    "duration": -856,
    "start_time": "2022-01-02T05:42:13.874Z"
   },
   {
    "duration": -856,
    "start_time": "2022-01-02T05:42:13.875Z"
   },
   {
    "duration": -855,
    "start_time": "2022-01-02T05:42:13.876Z"
   },
   {
    "duration": -860,
    "start_time": "2022-01-02T05:42:13.882Z"
   },
   {
    "duration": -861,
    "start_time": "2022-01-02T05:42:13.884Z"
   },
   {
    "duration": -900,
    "start_time": "2022-01-02T05:42:13.925Z"
   },
   {
    "duration": 2032,
    "start_time": "2022-01-02T05:42:31.196Z"
   },
   {
    "duration": 59,
    "start_time": "2022-01-02T05:42:59.966Z"
   },
   {
    "duration": 777,
    "start_time": "2022-01-02T05:43:11.204Z"
   },
   {
    "duration": 26,
    "start_time": "2022-01-02T05:43:11.984Z"
   },
   {
    "duration": 20,
    "start_time": "2022-01-02T05:43:12.013Z"
   },
   {
    "duration": 11,
    "start_time": "2022-01-02T05:43:12.036Z"
   },
   {
    "duration": 20,
    "start_time": "2022-01-02T05:43:12.050Z"
   },
   {
    "duration": 6,
    "start_time": "2022-01-02T05:43:12.073Z"
   },
   {
    "duration": 44,
    "start_time": "2022-01-02T05:43:12.082Z"
   },
   {
    "duration": 17,
    "start_time": "2022-01-02T05:43:12.129Z"
   },
   {
    "duration": 11,
    "start_time": "2022-01-02T05:43:28.149Z"
   },
   {
    "duration": 31,
    "start_time": "2022-01-02T05:45:56.656Z"
   },
   {
    "duration": 24,
    "start_time": "2022-01-02T05:46:03.775Z"
   },
   {
    "duration": 34,
    "start_time": "2022-01-02T05:46:48.018Z"
   },
   {
    "duration": 19,
    "start_time": "2022-01-02T05:46:59.009Z"
   },
   {
    "duration": 477,
    "start_time": "2022-01-02T05:48:36.356Z"
   },
   {
    "duration": 1174,
    "start_time": "2022-01-02T05:48:42.959Z"
   },
   {
    "duration": 6,
    "start_time": "2022-01-02T05:49:23.321Z"
   },
   {
    "duration": 10,
    "start_time": "2022-01-02T05:49:32.336Z"
   },
   {
    "duration": 314,
    "start_time": "2022-01-02T05:51:28.752Z"
   },
   {
    "duration": 8,
    "start_time": "2022-01-02T05:51:34.089Z"
   },
   {
    "duration": 8,
    "start_time": "2022-01-02T05:51:43.799Z"
   },
   {
    "duration": 9,
    "start_time": "2022-01-02T05:52:00.507Z"
   },
   {
    "duration": 9,
    "start_time": "2022-01-02T05:52:04.041Z"
   },
   {
    "duration": 11,
    "start_time": "2022-01-02T05:52:47.017Z"
   },
   {
    "duration": 8,
    "start_time": "2022-01-02T05:52:51.744Z"
   },
   {
    "duration": 8,
    "start_time": "2022-01-02T05:52:56.778Z"
   },
   {
    "duration": 115,
    "start_time": "2022-01-02T05:53:00.955Z"
   },
   {
    "duration": 9,
    "start_time": "2022-01-02T05:53:04.690Z"
   },
   {
    "duration": 6,
    "start_time": "2022-01-02T05:53:38.594Z"
   },
   {
    "duration": 7,
    "start_time": "2022-01-02T05:53:48.371Z"
   },
   {
    "duration": 282,
    "start_time": "2022-01-02T05:53:53.081Z"
   },
   {
    "duration": 7,
    "start_time": "2022-01-02T05:53:57.088Z"
   },
   {
    "duration": 24,
    "start_time": "2022-01-02T05:54:26.091Z"
   },
   {
    "duration": 9,
    "start_time": "2022-01-02T05:54:37.039Z"
   },
   {
    "duration": 306,
    "start_time": "2022-01-02T05:54:52.944Z"
   },
   {
    "duration": 7,
    "start_time": "2022-01-02T05:55:03.184Z"
   },
   {
    "duration": 7,
    "start_time": "2022-01-02T05:55:15.646Z"
   },
   {
    "duration": 8,
    "start_time": "2022-01-02T05:56:00.538Z"
   },
   {
    "duration": 6,
    "start_time": "2022-01-02T05:56:54.216Z"
   },
   {
    "duration": 12,
    "start_time": "2022-01-02T05:56:58.664Z"
   },
   {
    "duration": 308,
    "start_time": "2022-01-02T05:57:06.021Z"
   },
   {
    "duration": 23,
    "start_time": "2022-01-02T05:58:25.701Z"
   },
   {
    "duration": 6,
    "start_time": "2022-01-02T05:59:05.818Z"
   },
   {
    "duration": 12,
    "start_time": "2022-01-02T05:59:08.964Z"
   },
   {
    "duration": 284,
    "start_time": "2022-01-02T05:59:20.719Z"
   },
   {
    "duration": 13,
    "start_time": "2022-01-02T05:59:24.184Z"
   },
   {
    "duration": 17,
    "start_time": "2022-01-02T06:02:24.520Z"
   },
   {
    "duration": 23,
    "start_time": "2022-01-02T06:02:39.968Z"
   },
   {
    "duration": 7,
    "start_time": "2022-01-02T06:07:44.954Z"
   },
   {
    "duration": 10,
    "start_time": "2022-01-02T06:07:53.471Z"
   },
   {
    "duration": 12,
    "start_time": "2022-01-02T06:10:47.345Z"
   },
   {
    "duration": 5,
    "start_time": "2022-01-02T06:15:43.249Z"
   },
   {
    "duration": 10,
    "start_time": "2022-01-02T06:19:41.609Z"
   },
   {
    "duration": 6,
    "start_time": "2022-01-02T06:20:36.176Z"
   },
   {
    "duration": 35,
    "start_time": "2022-01-02T06:20:39.239Z"
   },
   {
    "duration": 25,
    "start_time": "2022-01-02T06:22:47.548Z"
   },
   {
    "duration": 7,
    "start_time": "2022-01-02T06:24:08.962Z"
   },
   {
    "duration": 7,
    "start_time": "2022-01-02T06:24:16.658Z"
   },
   {
    "duration": 7,
    "start_time": "2022-01-02T06:24:29.563Z"
   },
   {
    "duration": 7,
    "start_time": "2022-01-02T06:26:42.104Z"
   },
   {
    "duration": 34,
    "start_time": "2022-01-02T06:26:45.273Z"
   },
   {
    "duration": 395,
    "start_time": "2022-01-02T06:27:27.467Z"
   },
   {
    "duration": 6,
    "start_time": "2022-01-02T06:27:31.134Z"
   },
   {
    "duration": 7,
    "start_time": "2022-01-02T06:33:25.163Z"
   },
   {
    "duration": 7,
    "start_time": "2022-01-02T06:33:28.681Z"
   },
   {
    "duration": 6,
    "start_time": "2022-01-02T06:35:33.161Z"
   },
   {
    "duration": 6,
    "start_time": "2022-01-02T06:35:40.282Z"
   },
   {
    "duration": 8,
    "start_time": "2022-01-02T06:36:02.523Z"
   },
   {
    "duration": 105,
    "start_time": "2022-01-02T08:06:21.274Z"
   },
   {
    "duration": 5,
    "start_time": "2022-01-02T08:06:26.907Z"
   },
   {
    "duration": 100,
    "start_time": "2022-01-02T08:06:43.101Z"
   },
   {
    "duration": 13,
    "start_time": "2022-01-02T08:06:45.867Z"
   },
   {
    "duration": 18,
    "start_time": "2022-01-02T08:06:56.708Z"
   },
   {
    "duration": 17,
    "start_time": "2022-01-02T08:07:22.765Z"
   },
   {
    "duration": 12,
    "start_time": "2022-01-02T08:07:55.647Z"
   },
   {
    "duration": 18,
    "start_time": "2022-01-02T08:11:16.972Z"
   },
   {
    "duration": 9,
    "start_time": "2022-01-02T08:12:36.919Z"
   },
   {
    "duration": 318,
    "start_time": "2022-01-02T08:18:03.604Z"
   },
   {
    "duration": 13,
    "start_time": "2022-01-02T08:18:23.265Z"
   },
   {
    "duration": 29,
    "start_time": "2022-01-02T08:18:28.162Z"
   },
   {
    "duration": 6,
    "start_time": "2022-01-02T09:03:56.940Z"
   },
   {
    "duration": 7,
    "start_time": "2022-01-02T09:04:04.649Z"
   },
   {
    "duration": 13,
    "start_time": "2022-01-02T09:04:53.861Z"
   },
   {
    "duration": 11,
    "start_time": "2022-01-02T09:05:03.931Z"
   },
   {
    "duration": 19,
    "start_time": "2022-01-02T09:05:19.458Z"
   },
   {
    "duration": 9,
    "start_time": "2022-01-02T09:14:53.369Z"
   },
   {
    "duration": 4,
    "start_time": "2022-01-02T09:14:56.936Z"
   },
   {
    "duration": 5,
    "start_time": "2022-01-02T09:15:06.547Z"
   },
   {
    "duration": 9,
    "start_time": "2022-01-02T09:15:30.871Z"
   },
   {
    "duration": 340,
    "start_time": "2022-01-02T09:17:11.962Z"
   },
   {
    "duration": 8,
    "start_time": "2022-01-02T09:17:23.855Z"
   },
   {
    "duration": 10,
    "start_time": "2022-01-02T09:17:33.064Z"
   },
   {
    "duration": 10,
    "start_time": "2022-01-02T09:18:01.197Z"
   },
   {
    "duration": 10,
    "start_time": "2022-01-02T09:18:11.562Z"
   },
   {
    "duration": 10,
    "start_time": "2022-01-02T09:19:38.101Z"
   },
   {
    "duration": 10,
    "start_time": "2022-01-02T09:20:00.647Z"
   },
   {
    "duration": 10,
    "start_time": "2022-01-02T09:27:11.681Z"
   },
   {
    "duration": 118,
    "start_time": "2022-01-02T09:34:58.760Z"
   },
   {
    "duration": 94,
    "start_time": "2022-01-02T09:35:07.734Z"
   },
   {
    "duration": 106,
    "start_time": "2022-01-02T09:35:18.341Z"
   },
   {
    "duration": 103,
    "start_time": "2022-01-02T09:35:29.087Z"
   },
   {
    "duration": 9,
    "start_time": "2022-01-02T09:35:38.675Z"
   },
   {
    "duration": 9,
    "start_time": "2022-01-02T09:35:45.405Z"
   },
   {
    "duration": 286,
    "start_time": "2022-01-02T09:35:52.101Z"
   },
   {
    "duration": 7,
    "start_time": "2022-01-02T09:37:37.954Z"
   },
   {
    "duration": 7,
    "start_time": "2022-01-02T09:38:00.558Z"
   },
   {
    "duration": 4,
    "start_time": "2022-01-02T09:39:04.419Z"
   },
   {
    "duration": 21,
    "start_time": "2022-01-02T09:39:18.915Z"
   },
   {
    "duration": 11,
    "start_time": "2022-01-02T09:40:26.477Z"
   },
   {
    "duration": 7,
    "start_time": "2022-01-02T09:40:58.487Z"
   },
   {
    "duration": 8,
    "start_time": "2022-01-02T09:41:04.090Z"
   },
   {
    "duration": 8,
    "start_time": "2022-01-02T09:41:30.775Z"
   },
   {
    "duration": 18,
    "start_time": "2022-01-02T09:44:14.728Z"
   },
   {
    "duration": 99,
    "start_time": "2022-01-02T09:49:24.918Z"
   },
   {
    "duration": 5,
    "start_time": "2022-01-02T09:49:30.309Z"
   },
   {
    "duration": 580,
    "start_time": "2022-01-02T09:50:17.102Z"
   },
   {
    "duration": 6,
    "start_time": "2022-01-02T09:51:26.165Z"
   },
   {
    "duration": 595,
    "start_time": "2022-01-02T09:51:27.770Z"
   },
   {
    "duration": 5,
    "start_time": "2022-01-02T09:51:52.331Z"
   },
   {
    "duration": 604,
    "start_time": "2022-01-02T09:51:53.412Z"
   },
   {
    "duration": 5,
    "start_time": "2022-01-02T09:52:39.882Z"
   },
   {
    "duration": 603,
    "start_time": "2022-01-02T09:52:40.763Z"
   },
   {
    "duration": 5,
    "start_time": "2022-01-02T09:54:33.860Z"
   },
   {
    "duration": 575,
    "start_time": "2022-01-02T09:54:35.446Z"
   },
   {
    "duration": 5,
    "start_time": "2022-01-02T09:54:55.327Z"
   },
   {
    "duration": 559,
    "start_time": "2022-01-02T09:54:58.542Z"
   },
   {
    "duration": 5,
    "start_time": "2022-01-02T09:55:19.865Z"
   },
   {
    "duration": 908,
    "start_time": "2022-01-02T09:55:20.901Z"
   },
   {
    "duration": 5,
    "start_time": "2022-01-02T09:56:53.403Z"
   },
   {
    "duration": 667,
    "start_time": "2022-01-02T09:56:54.153Z"
   },
   {
    "duration": 11,
    "start_time": "2022-01-02T09:58:00.634Z"
   },
   {
    "duration": 8,
    "start_time": "2022-01-02T09:58:01.138Z"
   },
   {
    "duration": 5,
    "start_time": "2022-01-02T09:58:04.535Z"
   },
   {
    "duration": 582,
    "start_time": "2022-01-02T09:58:05.166Z"
   },
   {
    "duration": 19,
    "start_time": "2022-01-02T09:58:47.523Z"
   },
   {
    "duration": 10,
    "start_time": "2022-01-02T09:58:51.006Z"
   },
   {
    "duration": 8,
    "start_time": "2022-01-02T09:58:51.527Z"
   },
   {
    "duration": 6,
    "start_time": "2022-01-02T09:58:54.276Z"
   },
   {
    "duration": 943,
    "start_time": "2022-01-02T09:58:54.925Z"
   },
   {
    "duration": 24,
    "start_time": "2022-01-02T09:59:09.390Z"
   },
   {
    "duration": 5,
    "start_time": "2022-01-02T10:00:10.965Z"
   },
   {
    "duration": 18,
    "start_time": "2022-01-02T10:00:11.130Z"
   },
   {
    "duration": 11,
    "start_time": "2022-01-02T10:00:13.817Z"
   },
   {
    "duration": 10,
    "start_time": "2022-01-02T10:00:14.179Z"
   },
   {
    "duration": 5,
    "start_time": "2022-01-02T10:01:15.840Z"
   },
   {
    "duration": 569,
    "start_time": "2022-01-02T10:01:16.963Z"
   },
   {
    "duration": 5,
    "start_time": "2022-01-02T10:01:48.561Z"
   },
   {
    "duration": 587,
    "start_time": "2022-01-02T10:01:49.597Z"
   },
   {
    "duration": 298,
    "start_time": "2022-01-02T10:03:47.360Z"
   },
   {
    "duration": 320,
    "start_time": "2022-01-02T10:04:00.477Z"
   },
   {
    "duration": 1341,
    "start_time": "2022-01-02T10:04:13.823Z"
   },
   {
    "duration": 1792,
    "start_time": "2022-01-02T10:04:33.639Z"
   },
   {
    "duration": 137,
    "start_time": "2022-01-02T10:05:00.860Z"
   },
   {
    "duration": 1425,
    "start_time": "2022-01-02T10:05:17.307Z"
   },
   {
    "duration": 14,
    "start_time": "2022-01-02T10:05:35.165Z"
   },
   {
    "duration": 10,
    "start_time": "2022-01-02T10:05:45.330Z"
   },
   {
    "duration": 5,
    "start_time": "2022-01-02T10:06:55.987Z"
   },
   {
    "duration": 499,
    "start_time": "2022-01-02T10:07:11.098Z"
   },
   {
    "duration": 474,
    "start_time": "2022-01-02T10:07:17.619Z"
   },
   {
    "duration": 473,
    "start_time": "2022-01-02T10:07:22.240Z"
   },
   {
    "duration": 490,
    "start_time": "2022-01-02T10:07:29.685Z"
   },
   {
    "duration": 492,
    "start_time": "2022-01-02T10:07:56.296Z"
   },
   {
    "duration": 470,
    "start_time": "2022-01-02T10:09:17.830Z"
   },
   {
    "duration": 399,
    "start_time": "2022-01-02T10:14:24.002Z"
   },
   {
    "duration": 22,
    "start_time": "2022-01-02T10:14:48.957Z"
   },
   {
    "duration": 17,
    "start_time": "2022-01-02T10:14:55.746Z"
   },
   {
    "duration": 305,
    "start_time": "2022-01-02T10:15:54.641Z"
   },
   {
    "duration": 505,
    "start_time": "2022-01-02T10:15:57.696Z"
   },
   {
    "duration": 290,
    "start_time": "2022-01-02T10:16:35.069Z"
   },
   {
    "duration": 56,
    "start_time": "2022-01-02T10:18:02.798Z"
   },
   {
    "duration": 18,
    "start_time": "2022-01-02T10:18:03.937Z"
   },
   {
    "duration": 25,
    "start_time": "2022-01-02T10:18:06.851Z"
   },
   {
    "duration": 10,
    "start_time": "2022-01-02T10:18:33.720Z"
   },
   {
    "duration": 7,
    "start_time": "2022-01-02T10:18:34.790Z"
   },
   {
    "duration": 8,
    "start_time": "2022-01-02T10:20:33.667Z"
   },
   {
    "duration": 570,
    "start_time": "2022-01-02T10:20:38.843Z"
   },
   {
    "duration": 6,
    "start_time": "2022-01-02T10:22:14.687Z"
   },
   {
    "duration": 577,
    "start_time": "2022-01-02T10:22:16.863Z"
   },
   {
    "duration": 6,
    "start_time": "2022-01-02T10:22:44.718Z"
   },
   {
    "duration": 5,
    "start_time": "2022-01-02T10:22:52.526Z"
   },
   {
    "duration": 109,
    "start_time": "2022-01-02T10:23:14.930Z"
   },
   {
    "duration": 6,
    "start_time": "2022-01-02T10:23:19.805Z"
   },
   {
    "duration": 548,
    "start_time": "2022-01-02T10:23:20.743Z"
   },
   {
    "duration": 6,
    "start_time": "2022-01-02T10:23:42.244Z"
   },
   {
    "duration": 14033,
    "start_time": "2022-01-02T10:23:43.960Z"
   },
   {
    "duration": 6101,
    "start_time": "2022-01-02T10:24:17.581Z"
   },
   {
    "duration": 260,
    "start_time": "2022-01-02T10:24:38.504Z"
   },
   {
    "duration": 6,
    "start_time": "2022-01-02T10:24:58.504Z"
   },
   {
    "duration": 13808,
    "start_time": "2022-01-02T10:25:02.756Z"
   },
   {
    "duration": 18,
    "start_time": "2022-01-02T10:25:19.418Z"
   },
   {
    "duration": 22,
    "start_time": "2022-01-02T10:25:25.860Z"
   },
   {
    "duration": 13,
    "start_time": "2022-01-02T11:10:45.340Z"
   },
   {
    "duration": 18,
    "start_time": "2022-01-02T11:10:51.287Z"
   },
   {
    "duration": 95,
    "start_time": "2022-01-02T11:11:16.301Z"
   },
   {
    "duration": 16,
    "start_time": "2022-01-02T11:11:18.467Z"
   },
   {
    "duration": 8,
    "start_time": "2022-01-02T11:13:02.080Z"
   },
   {
    "duration": 99,
    "start_time": "2022-01-02T11:15:43.981Z"
   },
   {
    "duration": 291,
    "start_time": "2022-01-02T11:18:13.341Z"
   },
   {
    "duration": 94,
    "start_time": "2022-01-02T13:00:29.885Z"
   },
   {
    "duration": 372,
    "start_time": "2022-01-02T13:00:33.531Z"
   },
   {
    "duration": 302,
    "start_time": "2022-01-02T13:01:28.081Z"
   },
   {
    "duration": 8,
    "start_time": "2022-01-02T13:01:37.450Z"
   },
   {
    "duration": 289,
    "start_time": "2022-01-02T13:02:18.618Z"
   },
   {
    "duration": 281,
    "start_time": "2022-01-02T13:03:08.211Z"
   },
   {
    "duration": 5,
    "start_time": "2022-01-02T13:03:21.384Z"
   },
   {
    "duration": 734,
    "start_time": "2022-01-02T13:03:34.079Z"
   },
   {
    "duration": 25,
    "start_time": "2022-01-02T13:03:34.816Z"
   },
   {
    "duration": 18,
    "start_time": "2022-01-02T13:03:34.844Z"
   },
   {
    "duration": 11,
    "start_time": "2022-01-02T13:03:34.865Z"
   },
   {
    "duration": 53,
    "start_time": "2022-01-02T13:03:34.879Z"
   },
   {
    "duration": 6,
    "start_time": "2022-01-02T13:03:34.934Z"
   },
   {
    "duration": 10,
    "start_time": "2022-01-02T13:03:34.942Z"
   },
   {
    "duration": 13,
    "start_time": "2022-01-02T13:03:34.958Z"
   },
   {
    "duration": 49,
    "start_time": "2022-01-02T13:03:34.974Z"
   },
   {
    "duration": 9,
    "start_time": "2022-01-02T13:03:35.025Z"
   },
   {
    "duration": 13,
    "start_time": "2022-01-02T13:03:35.036Z"
   },
   {
    "duration": 5,
    "start_time": "2022-01-02T13:03:35.052Z"
   },
   {
    "duration": 6,
    "start_time": "2022-01-02T13:03:35.059Z"
   },
   {
    "duration": 13566,
    "start_time": "2022-01-02T13:03:35.068Z"
   },
   {
    "duration": 25,
    "start_time": "2022-01-02T13:03:48.637Z"
   },
   {
    "duration": 7,
    "start_time": "2022-01-02T13:03:48.664Z"
   },
   {
    "duration": 401,
    "start_time": "2022-01-02T13:03:48.673Z"
   },
   {
    "duration": -1097,
    "start_time": "2022-01-02T13:03:50.175Z"
   },
   {
    "duration": -1097,
    "start_time": "2022-01-02T13:03:50.177Z"
   },
   {
    "duration": -1098,
    "start_time": "2022-01-02T13:03:50.180Z"
   },
   {
    "duration": -1102,
    "start_time": "2022-01-02T13:03:50.186Z"
   },
   {
    "duration": 350,
    "start_time": "2022-01-02T13:04:52.813Z"
   },
   {
    "duration": 288,
    "start_time": "2022-01-02T13:04:58.460Z"
   },
   {
    "duration": 5,
    "start_time": "2022-01-02T13:05:02.950Z"
   },
   {
    "duration": 284,
    "start_time": "2022-01-02T13:05:13.456Z"
   },
   {
    "duration": 9,
    "start_time": "2022-01-02T13:10:17.008Z"
   },
   {
    "duration": 29,
    "start_time": "2022-01-02T13:10:45.676Z"
   },
   {
    "duration": 58,
    "start_time": "2022-01-02T13:10:55.824Z"
   },
   {
    "duration": 10,
    "start_time": "2022-01-02T13:11:03.267Z"
   },
   {
    "duration": 5,
    "start_time": "2022-01-02T13:14:54.956Z"
   },
   {
    "duration": 13595,
    "start_time": "2022-01-02T13:14:55.497Z"
   },
   {
    "duration": 792,
    "start_time": "2022-01-03T04:08:08.560Z"
   },
   {
    "duration": 27,
    "start_time": "2022-01-03T04:08:09.354Z"
   },
   {
    "duration": 14,
    "start_time": "2022-01-03T04:08:09.384Z"
   },
   {
    "duration": 13,
    "start_time": "2022-01-03T04:08:09.418Z"
   },
   {
    "duration": 23,
    "start_time": "2022-01-03T04:08:09.433Z"
   },
   {
    "duration": 6,
    "start_time": "2022-01-03T04:08:09.459Z"
   },
   {
    "duration": 7,
    "start_time": "2022-01-03T04:08:09.467Z"
   },
   {
    "duration": 11,
    "start_time": "2022-01-03T04:08:09.518Z"
   },
   {
    "duration": 6,
    "start_time": "2022-01-03T04:08:09.532Z"
   },
   {
    "duration": 8,
    "start_time": "2022-01-03T04:08:09.541Z"
   },
   {
    "duration": 10,
    "start_time": "2022-01-03T04:08:09.551Z"
   },
   {
    "duration": 9,
    "start_time": "2022-01-03T04:08:09.563Z"
   },
   {
    "duration": 5,
    "start_time": "2022-01-03T04:08:09.617Z"
   },
   {
    "duration": 13565,
    "start_time": "2022-01-03T04:08:09.624Z"
   },
   {
    "duration": 31,
    "start_time": "2022-01-03T04:08:23.191Z"
   },
   {
    "duration": 6,
    "start_time": "2022-01-03T04:08:23.224Z"
   },
   {
    "duration": 383,
    "start_time": "2022-01-03T04:08:23.232Z"
   },
   {
    "duration": -1010,
    "start_time": "2022-01-03T04:08:24.628Z"
   },
   {
    "duration": -1011,
    "start_time": "2022-01-03T04:08:24.630Z"
   },
   {
    "duration": -1012,
    "start_time": "2022-01-03T04:08:24.632Z"
   },
   {
    "duration": -1011,
    "start_time": "2022-01-03T04:08:24.633Z"
   },
   {
    "duration": 5,
    "start_time": "2022-01-03T04:23:28.489Z"
   },
   {
    "duration": 13778,
    "start_time": "2022-01-03T04:23:52.560Z"
   },
   {
    "duration": 23,
    "start_time": "2022-01-03T04:24:13.970Z"
   },
   {
    "duration": 23,
    "start_time": "2022-01-03T04:24:41.264Z"
   },
   {
    "duration": 11,
    "start_time": "2022-01-03T04:24:59.368Z"
   },
   {
    "duration": 17,
    "start_time": "2022-01-03T04:25:18.933Z"
   },
   {
    "duration": 23,
    "start_time": "2022-01-03T04:25:22.291Z"
   },
   {
    "duration": 11,
    "start_time": "2022-01-03T04:25:44.664Z"
   },
   {
    "duration": 777,
    "start_time": "2022-01-03T04:25:54.262Z"
   },
   {
    "duration": 27,
    "start_time": "2022-01-03T04:25:55.042Z"
   },
   {
    "duration": 15,
    "start_time": "2022-01-03T04:25:55.076Z"
   },
   {
    "duration": 12,
    "start_time": "2022-01-03T04:25:55.117Z"
   },
   {
    "duration": 22,
    "start_time": "2022-01-03T04:25:55.132Z"
   },
   {
    "duration": 6,
    "start_time": "2022-01-03T04:25:55.157Z"
   },
   {
    "duration": 11,
    "start_time": "2022-01-03T04:25:55.167Z"
   },
   {
    "duration": 45,
    "start_time": "2022-01-03T04:25:55.181Z"
   },
   {
    "duration": 6,
    "start_time": "2022-01-03T04:25:55.228Z"
   },
   {
    "duration": 8,
    "start_time": "2022-01-03T04:25:55.236Z"
   },
   {
    "duration": 11,
    "start_time": "2022-01-03T04:25:55.246Z"
   },
   {
    "duration": 9,
    "start_time": "2022-01-03T04:25:55.260Z"
   },
   {
    "duration": 62,
    "start_time": "2022-01-03T04:25:55.272Z"
   },
   {
    "duration": 6,
    "start_time": "2022-01-03T04:25:55.336Z"
   },
   {
    "duration": 13137,
    "start_time": "2022-01-03T04:25:55.344Z"
   },
   {
    "duration": 33,
    "start_time": "2022-01-03T04:26:08.484Z"
   },
   {
    "duration": 4,
    "start_time": "2022-01-03T04:26:08.519Z"
   },
   {
    "duration": 367,
    "start_time": "2022-01-03T04:26:08.525Z"
   },
   {
    "duration": -989,
    "start_time": "2022-01-03T04:26:09.883Z"
   },
   {
    "duration": -1017,
    "start_time": "2022-01-03T04:26:09.912Z"
   },
   {
    "duration": -1017,
    "start_time": "2022-01-03T04:26:09.914Z"
   },
   {
    "duration": -1017,
    "start_time": "2022-01-03T04:26:09.915Z"
   },
   {
    "duration": 23,
    "start_time": "2022-01-03T04:26:48.544Z"
   },
   {
    "duration": 781,
    "start_time": "2022-01-03T04:27:00.249Z"
   },
   {
    "duration": 27,
    "start_time": "2022-01-03T04:27:01.033Z"
   },
   {
    "duration": 41,
    "start_time": "2022-01-03T04:27:01.063Z"
   },
   {
    "duration": 32,
    "start_time": "2022-01-03T04:27:01.107Z"
   },
   {
    "duration": 38,
    "start_time": "2022-01-03T04:27:01.141Z"
   },
   {
    "duration": 6,
    "start_time": "2022-01-03T04:27:01.181Z"
   },
   {
    "duration": 15,
    "start_time": "2022-01-03T04:27:01.189Z"
   },
   {
    "duration": 14,
    "start_time": "2022-01-03T04:27:01.206Z"
   },
   {
    "duration": 16,
    "start_time": "2022-01-03T04:27:01.224Z"
   },
   {
    "duration": 16,
    "start_time": "2022-01-03T04:27:01.242Z"
   },
   {
    "duration": 16,
    "start_time": "2022-01-03T04:27:01.261Z"
   },
   {
    "duration": 17,
    "start_time": "2022-01-03T04:27:01.279Z"
   },
   {
    "duration": 23,
    "start_time": "2022-01-03T04:27:01.318Z"
   },
   {
    "duration": 9,
    "start_time": "2022-01-03T04:27:01.343Z"
   },
   {
    "duration": 13519,
    "start_time": "2022-01-03T04:27:01.354Z"
   },
   {
    "duration": 22,
    "start_time": "2022-01-03T04:27:14.876Z"
   },
   {
    "duration": 21,
    "start_time": "2022-01-03T04:27:14.900Z"
   },
   {
    "duration": 372,
    "start_time": "2022-01-03T04:27:14.923Z"
   },
   {
    "duration": -981,
    "start_time": "2022-01-03T04:27:16.278Z"
   },
   {
    "duration": -982,
    "start_time": "2022-01-03T04:27:16.280Z"
   },
   {
    "duration": -983,
    "start_time": "2022-01-03T04:27:16.282Z"
   },
   {
    "duration": -982,
    "start_time": "2022-01-03T04:27:16.283Z"
   },
   {
    "duration": 5,
    "start_time": "2022-01-03T04:28:16.414Z"
   },
   {
    "duration": 3650,
    "start_time": "2022-01-03T04:29:25.896Z"
   },
   {
    "duration": 5,
    "start_time": "2022-01-03T04:29:33.728Z"
   },
   {
    "duration": 5,
    "start_time": "2022-01-03T04:29:36.186Z"
   },
   {
    "duration": 5,
    "start_time": "2022-01-03T04:29:40.156Z"
   },
   {
    "duration": 4,
    "start_time": "2022-01-03T04:29:43.101Z"
   },
   {
    "duration": 5,
    "start_time": "2022-01-03T04:29:54.774Z"
   },
   {
    "duration": 6,
    "start_time": "2022-01-03T04:30:04.046Z"
   },
   {
    "duration": 13577,
    "start_time": "2022-01-03T04:30:08.363Z"
   },
   {
    "duration": 24,
    "start_time": "2022-01-03T04:30:29.970Z"
   },
   {
    "duration": 5,
    "start_time": "2022-01-03T04:30:45.365Z"
   },
   {
    "duration": 6,
    "start_time": "2022-01-03T04:30:57.894Z"
   },
   {
    "duration": 7,
    "start_time": "2022-01-03T04:31:42.621Z"
   },
   {
    "duration": 5,
    "start_time": "2022-01-03T04:33:34.464Z"
   },
   {
    "duration": 530,
    "start_time": "2022-01-03T04:33:37.993Z"
   },
   {
    "duration": 5,
    "start_time": "2022-01-03T04:34:42.527Z"
   },
   {
    "duration": 3833,
    "start_time": "2022-01-03T04:34:44.738Z"
   },
   {
    "duration": 7,
    "start_time": "2022-01-03T04:35:02.644Z"
   },
   {
    "duration": 88,
    "start_time": "2022-01-03T04:37:14.502Z"
   },
   {
    "duration": 6,
    "start_time": "2022-01-03T04:37:26.001Z"
   },
   {
    "duration": 547,
    "start_time": "2022-01-03T04:37:27.995Z"
   },
   {
    "duration": 5,
    "start_time": "2022-01-03T04:37:41.948Z"
   },
   {
    "duration": 550,
    "start_time": "2022-01-03T04:37:44.323Z"
   },
   {
    "duration": 7,
    "start_time": "2022-01-03T04:38:56.880Z"
   },
   {
    "duration": 529,
    "start_time": "2022-01-03T04:38:59.376Z"
   },
   {
    "duration": 8,
    "start_time": "2022-01-03T04:39:18.643Z"
   },
   {
    "duration": 5,
    "start_time": "2022-01-03T04:39:23.267Z"
   },
   {
    "duration": 5,
    "start_time": "2022-01-03T04:39:38.850Z"
   },
   {
    "duration": 814,
    "start_time": "2022-01-03T04:39:50.036Z"
   },
   {
    "duration": 28,
    "start_time": "2022-01-03T04:39:50.852Z"
   },
   {
    "duration": 20,
    "start_time": "2022-01-03T04:39:50.882Z"
   },
   {
    "duration": 21,
    "start_time": "2022-01-03T04:39:50.905Z"
   },
   {
    "duration": 22,
    "start_time": "2022-01-03T04:39:50.929Z"
   },
   {
    "duration": 6,
    "start_time": "2022-01-03T04:39:50.953Z"
   },
   {
    "duration": 10,
    "start_time": "2022-01-03T04:39:50.961Z"
   },
   {
    "duration": 48,
    "start_time": "2022-01-03T04:39:50.975Z"
   },
   {
    "duration": 8,
    "start_time": "2022-01-03T04:39:51.026Z"
   },
   {
    "duration": 10,
    "start_time": "2022-01-03T04:39:51.036Z"
   },
   {
    "duration": 12,
    "start_time": "2022-01-03T04:39:51.048Z"
   },
   {
    "duration": 10,
    "start_time": "2022-01-03T04:39:51.062Z"
   },
   {
    "duration": 60,
    "start_time": "2022-01-03T04:39:51.074Z"
   },
   {
    "duration": 6,
    "start_time": "2022-01-03T04:39:51.136Z"
   },
   {
    "duration": 9,
    "start_time": "2022-01-03T04:39:51.145Z"
   },
   {
    "duration": 985,
    "start_time": "2022-01-03T04:39:51.156Z"
   },
   {
    "duration": -993,
    "start_time": "2022-01-03T04:39:53.137Z"
   },
   {
    "duration": -1028,
    "start_time": "2022-01-03T04:39:53.173Z"
   },
   {
    "duration": -1028,
    "start_time": "2022-01-03T04:39:53.175Z"
   },
   {
    "duration": -1029,
    "start_time": "2022-01-03T04:39:53.177Z"
   },
   {
    "duration": -1028,
    "start_time": "2022-01-03T04:39:53.178Z"
   },
   {
    "duration": -1029,
    "start_time": "2022-01-03T04:39:53.180Z"
   },
   {
    "duration": -1030,
    "start_time": "2022-01-03T04:39:53.182Z"
   },
   {
    "duration": 6,
    "start_time": "2022-01-03T04:40:48.238Z"
   },
   {
    "duration": 530,
    "start_time": "2022-01-03T04:40:50.814Z"
   },
   {
    "duration": 22,
    "start_time": "2022-01-03T04:42:38.510Z"
   },
   {
    "duration": 559,
    "start_time": "2022-01-03T04:42:52.115Z"
   },
   {
    "duration": 275,
    "start_time": "2022-01-03T04:45:13.136Z"
   },
   {
    "duration": 1176,
    "start_time": "2022-01-03T04:49:11.154Z"
   },
   {
    "duration": 297,
    "start_time": "2022-01-03T04:49:26.455Z"
   },
   {
    "duration": 6,
    "start_time": "2022-01-03T04:50:06.025Z"
   },
   {
    "duration": 543,
    "start_time": "2022-01-03T04:50:13.128Z"
   },
   {
    "duration": 289,
    "start_time": "2022-01-03T04:50:46.466Z"
   },
   {
    "duration": 15925,
    "start_time": "2022-01-03T04:50:58.129Z"
   },
   {
    "duration": 5,
    "start_time": "2022-01-03T04:51:16.890Z"
   },
   {
    "duration": 12,
    "start_time": "2022-01-03T04:51:38.533Z"
   },
   {
    "duration": 15975,
    "start_time": "2022-01-03T04:51:45.486Z"
   },
   {
    "duration": 5,
    "start_time": "2022-01-03T04:52:03.823Z"
   },
   {
    "duration": 22,
    "start_time": "2022-01-03T04:52:14.213Z"
   },
   {
    "duration": 16586,
    "start_time": "2022-01-03T04:52:38.560Z"
   },
   {
    "duration": 22,
    "start_time": "2022-01-03T04:53:00.398Z"
   },
   {
    "duration": 4342,
    "start_time": "2022-01-03T04:53:30.148Z"
   },
   {
    "duration": 23,
    "start_time": "2022-01-03T04:53:37.310Z"
   },
   {
    "duration": 303,
    "start_time": "2022-01-03T04:53:59.446Z"
   },
   {
    "duration": 4271,
    "start_time": "2022-01-03T04:54:25.619Z"
   },
   {
    "duration": 6,
    "start_time": "2022-01-03T04:55:55.943Z"
   },
   {
    "duration": 4,
    "start_time": "2022-01-03T04:56:33.650Z"
   },
   {
    "duration": 5,
    "start_time": "2022-01-03T04:56:38.370Z"
   },
   {
    "duration": 9,
    "start_time": "2022-01-03T04:57:29.161Z"
   },
   {
    "duration": 9,
    "start_time": "2022-01-03T04:57:36.922Z"
   },
   {
    "duration": 8,
    "start_time": "2022-01-03T04:58:06.139Z"
   },
   {
    "duration": 282,
    "start_time": "2022-01-03T04:59:07.416Z"
   },
   {
    "duration": 7,
    "start_time": "2022-01-03T04:59:13.609Z"
   },
   {
    "duration": 5,
    "start_time": "2022-01-03T04:59:19.353Z"
   },
   {
    "duration": 6,
    "start_time": "2022-01-03T05:00:48.183Z"
   },
   {
    "duration": 10,
    "start_time": "2022-01-03T05:01:10.871Z"
   },
   {
    "duration": 103,
    "start_time": "2022-01-03T05:01:45.345Z"
   },
   {
    "duration": 6,
    "start_time": "2022-01-03T05:02:08.953Z"
   },
   {
    "duration": 277,
    "start_time": "2022-01-03T05:03:02.511Z"
   },
   {
    "duration": 6,
    "start_time": "2022-01-03T05:03:08.323Z"
   },
   {
    "duration": 4409,
    "start_time": "2022-01-03T05:03:10.260Z"
   },
   {
    "duration": 4381,
    "start_time": "2022-01-03T05:03:25.166Z"
   },
   {
    "duration": 24,
    "start_time": "2022-01-03T05:03:35.461Z"
   },
   {
    "duration": 764,
    "start_time": "2022-01-03T05:04:03.568Z"
   },
   {
    "duration": 28,
    "start_time": "2022-01-03T05:04:04.335Z"
   },
   {
    "duration": 17,
    "start_time": "2022-01-03T05:04:04.367Z"
   },
   {
    "duration": 39,
    "start_time": "2022-01-03T05:04:04.388Z"
   },
   {
    "duration": 25,
    "start_time": "2022-01-03T05:04:04.430Z"
   },
   {
    "duration": 8,
    "start_time": "2022-01-03T05:04:04.458Z"
   },
   {
    "duration": 51,
    "start_time": "2022-01-03T05:04:04.468Z"
   },
   {
    "duration": 13,
    "start_time": "2022-01-03T05:04:04.524Z"
   },
   {
    "duration": 6,
    "start_time": "2022-01-03T05:04:04.541Z"
   },
   {
    "duration": 11,
    "start_time": "2022-01-03T05:04:04.550Z"
   },
   {
    "duration": 56,
    "start_time": "2022-01-03T05:04:04.563Z"
   },
   {
    "duration": 10,
    "start_time": "2022-01-03T05:04:04.621Z"
   },
   {
    "duration": 6,
    "start_time": "2022-01-03T05:04:04.634Z"
   },
   {
    "duration": 4657,
    "start_time": "2022-01-03T05:04:04.643Z"
   },
   {
    "duration": 363,
    "start_time": "2022-01-03T05:04:09.303Z"
   },
   {
    "duration": -1014,
    "start_time": "2022-01-03T05:04:10.683Z"
   },
   {
    "duration": -1016,
    "start_time": "2022-01-03T05:04:10.686Z"
   },
   {
    "duration": -1035,
    "start_time": "2022-01-03T05:04:10.706Z"
   },
   {
    "duration": -1040,
    "start_time": "2022-01-03T05:04:10.713Z"
   },
   {
    "duration": -1041,
    "start_time": "2022-01-03T05:04:10.715Z"
   },
   {
    "duration": -1041,
    "start_time": "2022-01-03T05:04:10.716Z"
   },
   {
    "duration": -1040,
    "start_time": "2022-01-03T05:04:10.717Z"
   },
   {
    "duration": -1041,
    "start_time": "2022-01-03T05:04:10.719Z"
   },
   {
    "duration": -1041,
    "start_time": "2022-01-03T05:04:10.720Z"
   },
   {
    "duration": 5,
    "start_time": "2022-01-03T05:04:33.986Z"
   },
   {
    "duration": 1924,
    "start_time": "2022-01-03T05:04:38.082Z"
   },
   {
    "duration": 61,
    "start_time": "2022-01-03T05:04:46.964Z"
   },
   {
    "duration": 6,
    "start_time": "2022-01-03T05:04:54.373Z"
   },
   {
    "duration": 1896,
    "start_time": "2022-01-03T05:04:55.438Z"
   },
   {
    "duration": 24,
    "start_time": "2022-01-03T05:05:07.561Z"
   },
   {
    "duration": 6,
    "start_time": "2022-01-03T05:05:20.397Z"
   },
   {
    "duration": 567,
    "start_time": "2022-01-03T05:05:21.483Z"
   },
   {
    "duration": 10,
    "start_time": "2022-01-03T05:05:30.202Z"
   },
   {
    "duration": 6,
    "start_time": "2022-01-03T05:05:32.107Z"
   },
   {
    "duration": 2273,
    "start_time": "2022-01-03T05:05:32.799Z"
   },
   {
    "duration": 25,
    "start_time": "2022-01-03T05:05:36.712Z"
   },
   {
    "duration": 293,
    "start_time": "2022-01-03T05:07:50.108Z"
   },
   {
    "duration": 28,
    "start_time": "2022-01-03T05:07:57.166Z"
   },
   {
    "duration": 13,
    "start_time": "2022-01-03T05:08:03.938Z"
   },
   {
    "duration": 6,
    "start_time": "2022-01-03T05:18:54.460Z"
   },
   {
    "duration": 1907,
    "start_time": "2022-01-03T05:18:56.311Z"
   },
   {
    "duration": 23,
    "start_time": "2022-01-03T05:19:00.882Z"
   },
   {
    "duration": 340,
    "start_time": "2022-01-03T06:43:01.231Z"
   },
   {
    "duration": 296,
    "start_time": "2022-01-03T06:43:06.405Z"
   },
   {
    "duration": 20,
    "start_time": "2022-01-03T06:43:16.046Z"
   },
   {
    "duration": 28,
    "start_time": "2022-01-03T06:43:21.938Z"
   },
   {
    "duration": 27,
    "start_time": "2022-01-03T06:43:56.554Z"
   },
   {
    "duration": 850,
    "start_time": "2022-01-03T06:47:06.306Z"
   },
   {
    "duration": 28,
    "start_time": "2022-01-03T06:47:07.158Z"
   },
   {
    "duration": 32,
    "start_time": "2022-01-03T06:47:07.192Z"
   },
   {
    "duration": 19,
    "start_time": "2022-01-03T06:47:07.227Z"
   },
   {
    "duration": 22,
    "start_time": "2022-01-03T06:47:07.248Z"
   },
   {
    "duration": 7,
    "start_time": "2022-01-03T06:47:07.272Z"
   },
   {
    "duration": 9,
    "start_time": "2022-01-03T06:47:07.326Z"
   },
   {
    "duration": 11,
    "start_time": "2022-01-03T06:47:07.339Z"
   },
   {
    "duration": 6,
    "start_time": "2022-01-03T06:47:07.352Z"
   },
   {
    "duration": 10,
    "start_time": "2022-01-03T06:47:07.360Z"
   },
   {
    "duration": 45,
    "start_time": "2022-01-03T06:47:07.372Z"
   },
   {
    "duration": 12,
    "start_time": "2022-01-03T06:47:07.419Z"
   },
   {
    "duration": 15,
    "start_time": "2022-01-03T06:47:07.433Z"
   },
   {
    "duration": 7,
    "start_time": "2022-01-03T06:47:07.451Z"
   },
   {
    "duration": 101885,
    "start_time": "2022-01-03T06:47:07.461Z"
   },
   {
    "duration": -2081,
    "start_time": "2022-01-03T06:48:51.429Z"
   },
   {
    "duration": -2119,
    "start_time": "2022-01-03T06:48:51.470Z"
   },
   {
    "duration": -2119,
    "start_time": "2022-01-03T06:48:51.471Z"
   },
   {
    "duration": 256,
    "start_time": "2022-01-03T06:48:52.584Z"
   },
   {
    "duration": 101,
    "start_time": "2022-01-03T06:49:01.133Z"
   },
   {
    "duration": 101,
    "start_time": "2022-01-03T06:49:19.246Z"
   },
   {
    "duration": 9,
    "start_time": "2022-01-03T06:49:38.212Z"
   },
   {
    "duration": 102,
    "start_time": "2022-01-03T06:49:40.693Z"
   },
   {
    "duration": 759,
    "start_time": "2022-01-03T06:49:57.773Z"
   },
   {
    "duration": 26,
    "start_time": "2022-01-03T06:49:58.535Z"
   },
   {
    "duration": 15,
    "start_time": "2022-01-03T06:49:58.563Z"
   },
   {
    "duration": 38,
    "start_time": "2022-01-03T06:49:58.580Z"
   },
   {
    "duration": 22,
    "start_time": "2022-01-03T06:49:58.620Z"
   },
   {
    "duration": 6,
    "start_time": "2022-01-03T06:49:58.644Z"
   },
   {
    "duration": 7,
    "start_time": "2022-01-03T06:49:58.652Z"
   },
   {
    "duration": 11,
    "start_time": "2022-01-03T06:49:58.662Z"
   },
   {
    "duration": 5,
    "start_time": "2022-01-03T06:49:58.717Z"
   },
   {
    "duration": 8,
    "start_time": "2022-01-03T06:49:58.725Z"
   },
   {
    "duration": 10,
    "start_time": "2022-01-03T06:49:58.735Z"
   },
   {
    "duration": 9,
    "start_time": "2022-01-03T06:49:58.747Z"
   },
   {
    "duration": 12,
    "start_time": "2022-01-03T06:49:58.759Z"
   },
   {
    "duration": 5,
    "start_time": "2022-01-03T06:49:58.818Z"
   },
   {
    "duration": 23833,
    "start_time": "2022-01-03T06:49:58.826Z"
   },
   {
    "duration": -1152,
    "start_time": "2022-01-03T06:50:23.813Z"
   },
   {
    "duration": -1152,
    "start_time": "2022-01-03T06:50:23.815Z"
   },
   {
    "duration": -1152,
    "start_time": "2022-01-03T06:50:23.816Z"
   },
   {
    "duration": 71,
    "start_time": "2022-01-03T06:50:26.004Z"
   },
   {
    "duration": 15,
    "start_time": "2022-01-03T06:50:30.890Z"
   },
   {
    "duration": 25,
    "start_time": "2022-01-03T06:50:34.947Z"
   },
   {
    "duration": 7,
    "start_time": "2022-01-03T06:50:36.471Z"
   },
   {
    "duration": 9,
    "start_time": "2022-01-03T06:50:36.889Z"
   },
   {
    "duration": 14,
    "start_time": "2022-01-03T06:50:45.210Z"
   },
   {
    "duration": 6,
    "start_time": "2022-01-03T06:50:50.111Z"
   },
   {
    "duration": 10,
    "start_time": "2022-01-03T06:50:56.050Z"
   },
   {
    "duration": 10,
    "start_time": "2022-01-03T06:51:01.136Z"
   },
   {
    "duration": 11,
    "start_time": "2022-01-03T06:51:08.241Z"
   },
   {
    "duration": 11,
    "start_time": "2022-01-03T06:51:17.467Z"
   },
   {
    "duration": 11,
    "start_time": "2022-01-03T06:51:38.263Z"
   },
   {
    "duration": 15,
    "start_time": "2022-01-03T06:51:39.770Z"
   },
   {
    "duration": 51880,
    "start_time": "2022-01-03T06:52:03.100Z"
   },
   {
    "duration": 9,
    "start_time": "2022-01-03T06:53:35.686Z"
   },
   {
    "duration": 102630,
    "start_time": "2022-01-03T06:53:36.353Z"
   },
   {
    "duration": 41,
    "start_time": "2022-01-03T06:55:23.319Z"
   },
   {
    "duration": 20397,
    "start_time": "2022-01-03T06:55:49.708Z"
   },
   {
    "duration": 800,
    "start_time": "2022-01-03T06:56:15.438Z"
   },
   {
    "duration": 27,
    "start_time": "2022-01-03T06:56:16.240Z"
   },
   {
    "duration": 26,
    "start_time": "2022-01-03T06:56:16.270Z"
   },
   {
    "duration": 19,
    "start_time": "2022-01-03T06:56:16.299Z"
   },
   {
    "duration": 24,
    "start_time": "2022-01-03T06:56:16.321Z"
   },
   {
    "duration": 7,
    "start_time": "2022-01-03T06:56:16.347Z"
   },
   {
    "duration": 17,
    "start_time": "2022-01-03T06:56:16.356Z"
   },
   {
    "duration": 43,
    "start_time": "2022-01-03T06:56:16.376Z"
   },
   {
    "duration": 6,
    "start_time": "2022-01-03T06:56:16.421Z"
   },
   {
    "duration": 17,
    "start_time": "2022-01-03T06:56:16.429Z"
   },
   {
    "duration": 18,
    "start_time": "2022-01-03T06:56:16.448Z"
   },
   {
    "duration": 9,
    "start_time": "2022-01-03T06:56:16.469Z"
   },
   {
    "duration": 44,
    "start_time": "2022-01-03T06:56:16.481Z"
   },
   {
    "duration": 10,
    "start_time": "2022-01-03T06:56:16.527Z"
   },
   {
    "duration": 109650,
    "start_time": "2022-01-03T06:56:16.539Z"
   },
   {
    "duration": -1163,
    "start_time": "2022-01-03T06:58:07.355Z"
   },
   {
    "duration": 6,
    "start_time": "2022-01-03T06:59:30.553Z"
   },
   {
    "duration": 17879,
    "start_time": "2022-01-03T06:59:32.525Z"
   },
   {
    "duration": 6,
    "start_time": "2022-01-03T07:01:04.719Z"
   },
   {
    "duration": 31788,
    "start_time": "2022-01-03T07:01:10.514Z"
   },
   {
    "duration": 8,
    "start_time": "2022-01-03T07:02:19.022Z"
   },
   {
    "duration": 7258,
    "start_time": "2022-01-03T07:02:21.855Z"
   },
   {
    "duration": 6988,
    "start_time": "2022-01-03T07:03:07.690Z"
   },
   {
    "duration": 56,
    "start_time": "2022-01-03T07:03:21.674Z"
   },
   {
    "duration": 17,
    "start_time": "2022-01-03T07:03:23.522Z"
   },
   {
    "duration": 5378,
    "start_time": "2022-01-03T07:03:31.290Z"
   },
   {
    "duration": 5125,
    "start_time": "2022-01-03T07:03:43.363Z"
   },
   {
    "duration": 6,
    "start_time": "2022-01-03T07:03:50.595Z"
   },
   {
    "duration": 6,
    "start_time": "2022-01-03T07:04:15.886Z"
   },
   {
    "duration": 6,
    "start_time": "2022-01-03T07:04:31.183Z"
   },
   {
    "duration": 2022,
    "start_time": "2022-01-03T07:04:33.038Z"
   },
   {
    "duration": 23,
    "start_time": "2022-01-03T07:04:38.114Z"
   },
   {
    "duration": 10,
    "start_time": "2022-01-03T07:04:47.950Z"
   },
   {
    "duration": 7,
    "start_time": "2022-01-03T07:04:51.169Z"
   },
   {
    "duration": 2300,
    "start_time": "2022-01-03T07:04:51.694Z"
   },
   {
    "duration": 23,
    "start_time": "2022-01-03T07:04:56.158Z"
   },
   {
    "duration": 6,
    "start_time": "2022-01-03T07:05:17.924Z"
   },
   {
    "duration": 1962,
    "start_time": "2022-01-03T07:05:18.584Z"
   },
   {
    "duration": 2242,
    "start_time": "2022-01-03T07:05:22.003Z"
   },
   {
    "duration": 24,
    "start_time": "2022-01-03T07:05:25.194Z"
   },
   {
    "duration": 21,
    "start_time": "2022-01-03T07:10:43.014Z"
   },
   {
    "duration": 283,
    "start_time": "2022-01-03T07:15:08.911Z"
   },
   {
    "duration": 6,
    "start_time": "2022-01-03T07:15:19.620Z"
   },
   {
    "duration": 18,
    "start_time": "2022-01-03T07:15:25.183Z"
   },
   {
    "duration": 7,
    "start_time": "2022-01-03T09:15:26.057Z"
   },
   {
    "duration": 12,
    "start_time": "2022-01-03T09:15:31.026Z"
   },
   {
    "duration": 7,
    "start_time": "2022-01-03T09:15:37.801Z"
   },
   {
    "duration": 7,
    "start_time": "2022-01-03T09:15:42.192Z"
   },
   {
    "duration": 24,
    "start_time": "2022-01-03T12:37:56.410Z"
   },
   {
    "duration": 23,
    "start_time": "2022-01-03T12:38:00.525Z"
   },
   {
    "duration": 25,
    "start_time": "2022-01-03T12:38:17.435Z"
   },
   {
    "duration": 22,
    "start_time": "2022-01-03T12:38:29.245Z"
   },
   {
    "duration": 9,
    "start_time": "2022-01-03T12:39:24.473Z"
   },
   {
    "duration": 24,
    "start_time": "2022-01-03T12:42:23.827Z"
   },
   {
    "duration": 270,
    "start_time": "2022-01-03T12:43:15.093Z"
   },
   {
    "duration": 6,
    "start_time": "2022-01-03T12:43:19.940Z"
   },
   {
    "duration": 271,
    "start_time": "2022-01-03T12:43:20.775Z"
   },
   {
    "duration": 73,
    "start_time": "2022-01-03T12:43:41.950Z"
   },
   {
    "duration": 48,
    "start_time": "2022-01-03T12:43:56.592Z"
   },
   {
    "duration": 41,
    "start_time": "2022-01-03T12:44:02.630Z"
   },
   {
    "duration": 34,
    "start_time": "2022-01-03T12:44:35.784Z"
   },
   {
    "duration": 49,
    "start_time": "2022-01-03T12:44:57.340Z"
   },
   {
    "duration": 26,
    "start_time": "2022-01-03T12:45:07.122Z"
   },
   {
    "duration": 27,
    "start_time": "2022-01-03T12:45:44.051Z"
   },
   {
    "duration": 6,
    "start_time": "2022-01-03T12:52:42.649Z"
   },
   {
    "duration": 7,
    "start_time": "2022-01-03T12:53:02.506Z"
   },
   {
    "duration": 8,
    "start_time": "2022-01-03T12:53:23.516Z"
   },
   {
    "duration": 91,
    "start_time": "2022-01-03T12:54:46.472Z"
   },
   {
    "duration": 3,
    "start_time": "2022-01-03T12:58:51.684Z"
   },
   {
    "duration": 20,
    "start_time": "2022-01-03T13:00:13.145Z"
   },
   {
    "duration": 23,
    "start_time": "2022-01-03T13:04:55.703Z"
   },
   {
    "duration": 23,
    "start_time": "2022-01-03T13:05:00.940Z"
   },
   {
    "duration": 26,
    "start_time": "2022-01-03T13:05:01.964Z"
   },
   {
    "duration": 24,
    "start_time": "2022-01-03T13:05:03.526Z"
   },
   {
    "duration": 7,
    "start_time": "2022-01-03T13:05:13.955Z"
   },
   {
    "duration": 844,
    "start_time": "2022-01-03T13:05:40.023Z"
   },
   {
    "duration": 28,
    "start_time": "2022-01-03T13:05:40.869Z"
   },
   {
    "duration": 28,
    "start_time": "2022-01-03T13:05:40.900Z"
   },
   {
    "duration": 15,
    "start_time": "2022-01-03T13:05:40.931Z"
   },
   {
    "duration": 24,
    "start_time": "2022-01-03T13:05:40.949Z"
   },
   {
    "duration": 42,
    "start_time": "2022-01-03T13:05:40.976Z"
   },
   {
    "duration": 7,
    "start_time": "2022-01-03T13:05:41.021Z"
   },
   {
    "duration": 14,
    "start_time": "2022-01-03T13:05:41.032Z"
   },
   {
    "duration": 5,
    "start_time": "2022-01-03T13:05:41.050Z"
   },
   {
    "duration": 12,
    "start_time": "2022-01-03T13:05:41.057Z"
   },
   {
    "duration": 56,
    "start_time": "2022-01-03T13:05:41.071Z"
   },
   {
    "duration": 10,
    "start_time": "2022-01-03T13:05:41.129Z"
   },
   {
    "duration": 12,
    "start_time": "2022-01-03T13:05:41.142Z"
   },
   {
    "duration": 6,
    "start_time": "2022-01-03T13:05:41.157Z"
   },
   {
    "duration": 193228,
    "start_time": "2022-01-03T13:05:41.165Z"
   },
   {
    "duration": -1424,
    "start_time": "2022-01-03T13:08:55.820Z"
   },
   {
    "duration": -1424,
    "start_time": "2022-01-03T13:08:55.822Z"
   },
   {
    "duration": -1424,
    "start_time": "2022-01-03T13:08:55.823Z"
   },
   {
    "duration": -1424,
    "start_time": "2022-01-03T13:08:55.824Z"
   },
   {
    "duration": -1425,
    "start_time": "2022-01-03T13:08:55.826Z"
   },
   {
    "duration": -1425,
    "start_time": "2022-01-03T13:08:55.828Z"
   },
   {
    "duration": -1426,
    "start_time": "2022-01-03T13:08:55.830Z"
   },
   {
    "duration": -1426,
    "start_time": "2022-01-03T13:08:55.831Z"
   },
   {
    "duration": 37,
    "start_time": "2022-01-03T13:09:07.690Z"
   },
   {
    "duration": 845,
    "start_time": "2022-01-03T13:09:17.089Z"
   },
   {
    "duration": 28,
    "start_time": "2022-01-03T13:09:17.937Z"
   },
   {
    "duration": 19,
    "start_time": "2022-01-03T13:09:17.968Z"
   },
   {
    "duration": 30,
    "start_time": "2022-01-03T13:09:17.989Z"
   },
   {
    "duration": 26,
    "start_time": "2022-01-03T13:09:18.021Z"
   },
   {
    "duration": 7,
    "start_time": "2022-01-03T13:09:18.050Z"
   },
   {
    "duration": 23,
    "start_time": "2022-01-03T13:09:18.059Z"
   },
   {
    "duration": 38,
    "start_time": "2022-01-03T13:09:18.086Z"
   },
   {
    "duration": 10,
    "start_time": "2022-01-03T13:09:18.127Z"
   },
   {
    "duration": 11,
    "start_time": "2022-01-03T13:09:18.139Z"
   },
   {
    "duration": 24,
    "start_time": "2022-01-03T13:09:18.153Z"
   },
   {
    "duration": 11,
    "start_time": "2022-01-03T13:09:18.179Z"
   },
   {
    "duration": 12,
    "start_time": "2022-01-03T13:09:18.218Z"
   },
   {
    "duration": 6,
    "start_time": "2022-01-03T13:09:18.233Z"
   },
   {
    "duration": 16523,
    "start_time": "2022-01-03T13:09:18.241Z"
   },
   {
    "duration": -1452,
    "start_time": "2022-01-03T13:09:36.219Z"
   },
   {
    "duration": -1453,
    "start_time": "2022-01-03T13:09:36.221Z"
   },
   {
    "duration": -1453,
    "start_time": "2022-01-03T13:09:36.223Z"
   },
   {
    "duration": -1454,
    "start_time": "2022-01-03T13:09:36.225Z"
   },
   {
    "duration": -1455,
    "start_time": "2022-01-03T13:09:36.227Z"
   },
   {
    "duration": -1454,
    "start_time": "2022-01-03T13:09:36.228Z"
   },
   {
    "duration": -1454,
    "start_time": "2022-01-03T13:09:36.229Z"
   },
   {
    "duration": -1455,
    "start_time": "2022-01-03T13:09:36.231Z"
   },
   {
    "duration": -1455,
    "start_time": "2022-01-03T13:09:36.233Z"
   },
   {
    "duration": 990,
    "start_time": "2022-01-03T13:09:43.600Z"
   },
   {
    "duration": 38,
    "start_time": "2022-01-03T13:09:44.593Z"
   },
   {
    "duration": 21,
    "start_time": "2022-01-03T13:09:44.635Z"
   },
   {
    "duration": 17,
    "start_time": "2022-01-03T13:09:44.659Z"
   },
   {
    "duration": 60,
    "start_time": "2022-01-03T13:09:44.679Z"
   },
   {
    "duration": 9,
    "start_time": "2022-01-03T13:09:44.741Z"
   },
   {
    "duration": 7,
    "start_time": "2022-01-03T13:09:44.752Z"
   },
   {
    "duration": 57,
    "start_time": "2022-01-03T13:09:44.762Z"
   },
   {
    "duration": 5,
    "start_time": "2022-01-03T13:09:44.822Z"
   },
   {
    "duration": 14,
    "start_time": "2022-01-03T13:09:44.829Z"
   },
   {
    "duration": 15,
    "start_time": "2022-01-03T13:09:44.846Z"
   },
   {
    "duration": 10,
    "start_time": "2022-01-03T13:09:44.863Z"
   },
   {
    "duration": 52,
    "start_time": "2022-01-03T13:09:44.876Z"
   },
   {
    "duration": 7,
    "start_time": "2022-01-03T13:09:44.931Z"
   },
   {
    "duration": 9760,
    "start_time": "2022-01-03T13:09:44.941Z"
   },
   {
    "duration": -1427,
    "start_time": "2022-01-03T13:09:56.130Z"
   },
   {
    "duration": -1428,
    "start_time": "2022-01-03T13:09:56.133Z"
   },
   {
    "duration": -1429,
    "start_time": "2022-01-03T13:09:56.135Z"
   },
   {
    "duration": -1430,
    "start_time": "2022-01-03T13:09:56.137Z"
   },
   {
    "duration": -1430,
    "start_time": "2022-01-03T13:09:56.139Z"
   },
   {
    "duration": -1430,
    "start_time": "2022-01-03T13:09:56.140Z"
   },
   {
    "duration": -1431,
    "start_time": "2022-01-03T13:09:56.142Z"
   },
   {
    "duration": -1432,
    "start_time": "2022-01-03T13:09:56.144Z"
   },
   {
    "duration": 37,
    "start_time": "2022-01-03T13:09:59.265Z"
   },
   {
    "duration": 6,
    "start_time": "2022-01-03T13:10:10.061Z"
   },
   {
    "duration": 9678,
    "start_time": "2022-01-03T13:10:10.757Z"
   },
   {
    "duration": 10,
    "start_time": "2022-01-03T13:10:27.243Z"
   },
   {
    "duration": 6,
    "start_time": "2022-01-03T13:10:32.277Z"
   },
   {
    "duration": 66709,
    "start_time": "2022-01-03T13:10:34.472Z"
   },
   {
    "duration": 67,
    "start_time": "2022-01-03T13:11:53.252Z"
   },
   {
    "duration": 11,
    "start_time": "2022-01-03T13:12:06.802Z"
   },
   {
    "duration": 6,
    "start_time": "2022-01-03T13:12:10.287Z"
   },
   {
    "duration": 13654,
    "start_time": "2022-01-03T13:12:11.696Z"
   },
   {
    "duration": 105,
    "start_time": "2022-01-03T13:12:31.968Z"
   },
   {
    "duration": 817,
    "start_time": "2022-01-03T13:12:40.000Z"
   },
   {
    "duration": 27,
    "start_time": "2022-01-03T13:12:40.820Z"
   },
   {
    "duration": 15,
    "start_time": "2022-01-03T13:12:40.850Z"
   },
   {
    "duration": 14,
    "start_time": "2022-01-03T13:12:40.869Z"
   },
   {
    "duration": 24,
    "start_time": "2022-01-03T13:12:40.918Z"
   },
   {
    "duration": 7,
    "start_time": "2022-01-03T13:12:40.944Z"
   },
   {
    "duration": 9,
    "start_time": "2022-01-03T13:12:40.953Z"
   },
   {
    "duration": 13,
    "start_time": "2022-01-03T13:12:40.964Z"
   },
   {
    "duration": 5,
    "start_time": "2022-01-03T13:12:41.018Z"
   },
   {
    "duration": 10,
    "start_time": "2022-01-03T13:12:41.026Z"
   },
   {
    "duration": 12,
    "start_time": "2022-01-03T13:12:41.038Z"
   },
   {
    "duration": 9,
    "start_time": "2022-01-03T13:12:41.052Z"
   },
   {
    "duration": 54,
    "start_time": "2022-01-03T13:12:41.064Z"
   },
   {
    "duration": 6,
    "start_time": "2022-01-03T13:12:41.120Z"
   },
   {
    "duration": 16261,
    "start_time": "2022-01-03T13:12:41.129Z"
   },
   {
    "duration": -1376,
    "start_time": "2022-01-03T13:12:58.769Z"
   },
   {
    "duration": -1377,
    "start_time": "2022-01-03T13:12:58.771Z"
   },
   {
    "duration": -1376,
    "start_time": "2022-01-03T13:12:58.772Z"
   },
   {
    "duration": -1392,
    "start_time": "2022-01-03T13:12:58.789Z"
   },
   {
    "duration": -1392,
    "start_time": "2022-01-03T13:12:58.790Z"
   },
   {
    "duration": -1392,
    "start_time": "2022-01-03T13:12:58.792Z"
   },
   {
    "duration": -1392,
    "start_time": "2022-01-03T13:12:58.794Z"
   },
   {
    "duration": -1393,
    "start_time": "2022-01-03T13:12:58.796Z"
   },
   {
    "duration": -1392,
    "start_time": "2022-01-03T13:12:58.797Z"
   },
   {
    "duration": 38,
    "start_time": "2022-01-03T13:13:00.879Z"
   },
   {
    "duration": 6,
    "start_time": "2022-01-03T13:13:35.614Z"
   },
   {
    "duration": 755,
    "start_time": "2022-01-03T13:13:38.047Z"
   },
   {
    "duration": 6,
    "start_time": "2022-01-03T13:13:53.074Z"
   },
   {
    "duration": 596,
    "start_time": "2022-01-03T13:13:53.794Z"
   },
   {
    "duration": 7,
    "start_time": "2022-01-03T13:13:59.402Z"
   },
   {
    "duration": 13065,
    "start_time": "2022-01-03T13:14:01.576Z"
   },
   {
    "duration": 5,
    "start_time": "2022-01-03T13:15:08.745Z"
   },
   {
    "duration": 6,
    "start_time": "2022-01-03T13:15:12.079Z"
   },
   {
    "duration": 6,
    "start_time": "2022-01-03T13:15:41.820Z"
   },
   {
    "duration": 7,
    "start_time": "2022-01-03T13:15:49.101Z"
   },
   {
    "duration": 7144,
    "start_time": "2022-01-03T13:15:52.538Z"
   },
   {
    "duration": 7540,
    "start_time": "2022-01-03T13:16:29.296Z"
   },
   {
    "duration": 4470,
    "start_time": "2022-01-03T13:16:58.670Z"
   },
   {
    "duration": 6,
    "start_time": "2022-01-03T13:17:16.378Z"
   },
   {
    "duration": 7,
    "start_time": "2022-01-03T13:18:01.073Z"
   },
   {
    "duration": 6552,
    "start_time": "2022-01-03T13:18:02.336Z"
   },
   {
    "duration": 6,
    "start_time": "2022-01-03T13:18:42.124Z"
   },
   {
    "duration": 7017,
    "start_time": "2022-01-03T13:18:44.494Z"
   },
   {
    "duration": 5,
    "start_time": "2022-01-03T13:19:01.801Z"
   },
   {
    "duration": 4,
    "start_time": "2022-01-03T13:19:09.946Z"
   },
   {
    "duration": 802,
    "start_time": "2022-01-03T13:19:23.407Z"
   },
   {
    "duration": 28,
    "start_time": "2022-01-03T13:19:24.212Z"
   },
   {
    "duration": 15,
    "start_time": "2022-01-03T13:19:24.243Z"
   },
   {
    "duration": 12,
    "start_time": "2022-01-03T13:19:24.260Z"
   },
   {
    "duration": 46,
    "start_time": "2022-01-03T13:19:24.274Z"
   },
   {
    "duration": 6,
    "start_time": "2022-01-03T13:19:24.322Z"
   },
   {
    "duration": 7,
    "start_time": "2022-01-03T13:19:24.330Z"
   },
   {
    "duration": 12,
    "start_time": "2022-01-03T13:19:24.341Z"
   },
   {
    "duration": 5,
    "start_time": "2022-01-03T13:19:24.356Z"
   },
   {
    "duration": 53,
    "start_time": "2022-01-03T13:19:24.364Z"
   },
   {
    "duration": 11,
    "start_time": "2022-01-03T13:19:24.420Z"
   },
   {
    "duration": 9,
    "start_time": "2022-01-03T13:19:24.434Z"
   },
   {
    "duration": 11,
    "start_time": "2022-01-03T13:19:24.446Z"
   },
   {
    "duration": 5,
    "start_time": "2022-01-03T13:19:24.460Z"
   },
   {
    "duration": 3041,
    "start_time": "2022-01-03T13:19:24.467Z"
   },
   {
    "duration": 24,
    "start_time": "2022-01-03T13:19:27.510Z"
   },
   {
    "duration": 4,
    "start_time": "2022-01-03T13:19:27.537Z"
   },
   {
    "duration": 17,
    "start_time": "2022-01-03T13:19:27.544Z"
   },
   {
    "duration": 56,
    "start_time": "2022-01-03T13:19:27.563Z"
   },
   {
    "duration": 28,
    "start_time": "2022-01-03T13:19:27.621Z"
   },
   {
    "duration": 23,
    "start_time": "2022-01-03T13:19:27.651Z"
   },
   {
    "duration": 6,
    "start_time": "2022-01-03T13:19:27.676Z"
   },
   {
    "duration": 49,
    "start_time": "2022-01-03T13:19:27.686Z"
   },
   {
    "duration": 8,
    "start_time": "2022-01-03T13:23:31.738Z"
   },
   {
    "duration": 65,
    "start_time": "2022-01-03T13:27:42.265Z"
   },
   {
    "duration": 364,
    "start_time": "2022-01-03T13:29:55.995Z"
   },
   {
    "duration": 5870,
    "start_time": "2022-01-03T13:30:10.509Z"
   },
   {
    "duration": 277,
    "start_time": "2022-01-03T13:30:26.178Z"
   },
   {
    "duration": 6,
    "start_time": "2022-01-03T13:31:17.932Z"
   },
   {
    "duration": 7,
    "start_time": "2022-01-03T13:31:21.186Z"
   },
   {
    "duration": 267,
    "start_time": "2022-01-03T13:31:29.517Z"
   },
   {
    "duration": 414,
    "start_time": "2022-01-03T13:31:55.340Z"
   },
   {
    "duration": 902,
    "start_time": "2022-01-03T13:32:00.750Z"
   },
   {
    "duration": 16,
    "start_time": "2022-01-03T13:32:10.616Z"
   },
   {
    "duration": 62,
    "start_time": "2022-01-03T13:32:58.471Z"
   },
   {
    "duration": 5,
    "start_time": "2022-01-03T13:34:03.479Z"
   },
   {
    "duration": 292,
    "start_time": "2022-01-03T13:34:33.196Z"
   },
   {
    "duration": 4,
    "start_time": "2022-01-03T13:34:37.103Z"
   },
   {
    "duration": 4,
    "start_time": "2022-01-03T13:34:40.564Z"
   },
   {
    "duration": 758,
    "start_time": "2022-01-04T03:27:53.349Z"
   },
   {
    "duration": 25,
    "start_time": "2022-01-04T03:27:54.109Z"
   },
   {
    "duration": 15,
    "start_time": "2022-01-04T03:27:54.137Z"
   },
   {
    "duration": 12,
    "start_time": "2022-01-04T03:27:54.155Z"
   },
   {
    "duration": 20,
    "start_time": "2022-01-04T03:27:54.169Z"
   },
   {
    "duration": 35,
    "start_time": "2022-01-04T03:27:54.191Z"
   },
   {
    "duration": 7,
    "start_time": "2022-01-04T03:27:54.229Z"
   },
   {
    "duration": 10,
    "start_time": "2022-01-04T03:27:54.240Z"
   },
   {
    "duration": 5,
    "start_time": "2022-01-04T03:27:54.254Z"
   },
   {
    "duration": 61,
    "start_time": "2022-01-04T03:27:54.262Z"
   },
   {
    "duration": 13,
    "start_time": "2022-01-04T03:27:54.326Z"
   },
   {
    "duration": 10,
    "start_time": "2022-01-04T03:27:54.342Z"
   },
   {
    "duration": 13,
    "start_time": "2022-01-04T03:27:54.355Z"
   },
   {
    "duration": 7,
    "start_time": "2022-01-04T03:27:54.371Z"
   },
   {
    "duration": 2104,
    "start_time": "2022-01-04T03:27:54.424Z"
   },
   {
    "duration": 20,
    "start_time": "2022-01-04T03:27:56.530Z"
   },
   {
    "duration": 7,
    "start_time": "2022-01-04T03:27:56.552Z"
   },
   {
    "duration": 16,
    "start_time": "2022-01-04T03:27:56.561Z"
   },
   {
    "duration": 55,
    "start_time": "2022-01-04T03:27:56.580Z"
   },
   {
    "duration": 23,
    "start_time": "2022-01-04T03:27:56.637Z"
   },
   {
    "duration": 21,
    "start_time": "2022-01-04T03:27:56.662Z"
   },
   {
    "duration": 6,
    "start_time": "2022-01-04T03:27:56.685Z"
   },
   {
    "duration": 20,
    "start_time": "2022-01-04T03:27:56.723Z"
   },
   {
    "duration": 8,
    "start_time": "2022-01-04T03:27:56.745Z"
   },
   {
    "duration": 880,
    "start_time": "2022-01-04T03:27:56.755Z"
   },
   {
    "duration": 5,
    "start_time": "2022-01-04T03:27:57.638Z"
   },
   {
    "duration": 108,
    "start_time": "2022-01-04T03:30:48.749Z"
   },
   {
    "duration": 381,
    "start_time": "2022-01-04T03:38:51.129Z"
   },
   {
    "duration": 26,
    "start_time": "2022-01-04T03:38:56.313Z"
   },
   {
    "duration": 23,
    "start_time": "2022-01-04T03:39:03.636Z"
   },
   {
    "duration": 8,
    "start_time": "2022-01-04T03:41:15.698Z"
   },
   {
    "duration": 7,
    "start_time": "2022-01-04T03:41:23.793Z"
   },
   {
    "duration": 286,
    "start_time": "2022-01-04T03:42:34.935Z"
   },
   {
    "duration": 282,
    "start_time": "2022-01-04T03:42:49.968Z"
   },
   {
    "duration": 286,
    "start_time": "2022-01-04T03:42:59.035Z"
   },
   {
    "duration": 37,
    "start_time": "2022-01-04T03:45:36.188Z"
   },
   {
    "duration": 27,
    "start_time": "2022-01-04T03:46:03.543Z"
   },
   {
    "duration": 26,
    "start_time": "2022-01-04T03:46:09.507Z"
   },
   {
    "duration": 5515,
    "start_time": "2022-01-04T03:46:15.298Z"
   },
   {
    "duration": 36,
    "start_time": "2022-01-04T03:46:24.079Z"
   },
   {
    "duration": 21,
    "start_time": "2022-01-04T03:46:35.457Z"
   },
   {
    "duration": 23,
    "start_time": "2022-01-04T03:46:58.900Z"
   },
   {
    "duration": 27,
    "start_time": "2022-01-04T03:47:00.981Z"
   },
   {
    "duration": 23,
    "start_time": "2022-01-04T03:47:02.148Z"
   },
   {
    "duration": 27,
    "start_time": "2022-01-04T03:47:05.456Z"
   },
   {
    "duration": 22,
    "start_time": "2022-01-04T03:47:07.557Z"
   },
   {
    "duration": 786,
    "start_time": "2022-01-04T03:47:17.386Z"
   },
   {
    "duration": 28,
    "start_time": "2022-01-04T03:47:18.174Z"
   },
   {
    "duration": 32,
    "start_time": "2022-01-04T03:47:18.206Z"
   },
   {
    "duration": 14,
    "start_time": "2022-01-04T03:47:18.242Z"
   },
   {
    "duration": 24,
    "start_time": "2022-01-04T03:47:18.259Z"
   },
   {
    "duration": 10,
    "start_time": "2022-01-04T03:47:18.322Z"
   },
   {
    "duration": 14,
    "start_time": "2022-01-04T03:47:18.335Z"
   },
   {
    "duration": 12,
    "start_time": "2022-01-04T03:47:18.353Z"
   },
   {
    "duration": 7,
    "start_time": "2022-01-04T03:47:18.368Z"
   },
   {
    "duration": 48,
    "start_time": "2022-01-04T03:47:18.377Z"
   },
   {
    "duration": 13,
    "start_time": "2022-01-04T03:47:18.428Z"
   },
   {
    "duration": 9,
    "start_time": "2022-01-04T03:47:18.443Z"
   },
   {
    "duration": 11,
    "start_time": "2022-01-04T03:47:18.454Z"
   },
   {
    "duration": 6,
    "start_time": "2022-01-04T03:47:18.467Z"
   },
   {
    "duration": 2197,
    "start_time": "2022-01-04T03:47:18.523Z"
   },
   {
    "duration": 21,
    "start_time": "2022-01-04T03:47:20.724Z"
   },
   {
    "duration": 7,
    "start_time": "2022-01-04T03:47:20.748Z"
   },
   {
    "duration": 19,
    "start_time": "2022-01-04T03:47:20.757Z"
   },
   {
    "duration": 51,
    "start_time": "2022-01-04T03:47:20.778Z"
   },
   {
    "duration": 46,
    "start_time": "2022-01-04T03:47:20.832Z"
   },
   {
    "duration": 47,
    "start_time": "2022-01-04T03:47:20.880Z"
   },
   {
    "duration": 22,
    "start_time": "2022-01-04T03:47:20.929Z"
   },
   {
    "duration": 6,
    "start_time": "2022-01-04T03:47:20.955Z"
   },
   {
    "duration": 20,
    "start_time": "2022-01-04T03:47:20.963Z"
   },
   {
    "duration": 40,
    "start_time": "2022-01-04T03:47:20.986Z"
   },
   {
    "duration": 904,
    "start_time": "2022-01-04T03:47:21.028Z"
   },
   {
    "duration": 6,
    "start_time": "2022-01-04T03:47:21.935Z"
   },
   {
    "duration": 27,
    "start_time": "2022-01-04T03:48:01.702Z"
   },
   {
    "duration": 5,
    "start_time": "2022-01-04T03:48:42.891Z"
   },
   {
    "duration": 21,
    "start_time": "2022-01-04T03:48:59.787Z"
   },
   {
    "duration": 41,
    "start_time": "2022-01-04T03:49:01.921Z"
   },
   {
    "duration": 26,
    "start_time": "2022-01-04T03:49:43.494Z"
   },
   {
    "duration": 35,
    "start_time": "2022-01-04T03:49:54.159Z"
   },
   {
    "duration": 416,
    "start_time": "2022-01-04T03:51:06.941Z"
   },
   {
    "duration": 21,
    "start_time": "2022-01-04T03:51:15.355Z"
   },
   {
    "duration": 32,
    "start_time": "2022-01-04T03:51:19.828Z"
   },
   {
    "duration": 4,
    "start_time": "2022-01-04T03:54:43.683Z"
   },
   {
    "duration": 787,
    "start_time": "2022-01-04T04:10:55.706Z"
   },
   {
    "duration": 28,
    "start_time": "2022-01-04T04:10:56.496Z"
   },
   {
    "duration": 15,
    "start_time": "2022-01-04T04:10:56.527Z"
   },
   {
    "duration": 22,
    "start_time": "2022-01-04T04:10:56.545Z"
   },
   {
    "duration": 22,
    "start_time": "2022-01-04T04:10:56.569Z"
   },
   {
    "duration": 31,
    "start_time": "2022-01-04T04:10:56.594Z"
   },
   {
    "duration": 21,
    "start_time": "2022-01-04T04:10:56.627Z"
   },
   {
    "duration": 16,
    "start_time": "2022-01-04T04:10:56.651Z"
   },
   {
    "duration": 5,
    "start_time": "2022-01-04T04:10:56.670Z"
   },
   {
    "duration": 13,
    "start_time": "2022-01-04T04:10:56.677Z"
   },
   {
    "duration": 31,
    "start_time": "2022-01-04T04:10:56.693Z"
   },
   {
    "duration": 10,
    "start_time": "2022-01-04T04:10:56.726Z"
   },
   {
    "duration": 15,
    "start_time": "2022-01-04T04:10:56.739Z"
   },
   {
    "duration": 5,
    "start_time": "2022-01-04T04:10:56.756Z"
   },
   {
    "duration": 2162,
    "start_time": "2022-01-04T04:10:56.763Z"
   },
   {
    "duration": 19,
    "start_time": "2022-01-04T04:10:58.927Z"
   },
   {
    "duration": 7,
    "start_time": "2022-01-04T04:10:58.949Z"
   },
   {
    "duration": 20,
    "start_time": "2022-01-04T04:10:58.958Z"
   },
   {
    "duration": 7,
    "start_time": "2022-01-04T04:10:58.980Z"
   },
   {
    "duration": 52,
    "start_time": "2022-01-04T04:10:58.989Z"
   },
   {
    "duration": 23,
    "start_time": "2022-01-04T04:10:59.043Z"
   },
   {
    "duration": 55,
    "start_time": "2022-01-04T04:10:59.068Z"
   },
   {
    "duration": 22,
    "start_time": "2022-01-04T04:10:59.127Z"
   },
   {
    "duration": 25,
    "start_time": "2022-01-04T04:10:59.151Z"
   },
   {
    "duration": 7,
    "start_time": "2022-01-04T04:10:59.178Z"
   },
   {
    "duration": 905,
    "start_time": "2022-01-04T04:10:59.188Z"
   },
   {
    "duration": 5,
    "start_time": "2022-01-04T04:11:00.096Z"
   },
   {
    "duration": 25,
    "start_time": "2022-01-04T04:13:06.443Z"
   },
   {
    "duration": 740,
    "start_time": "2022-01-04T04:13:20.347Z"
   },
   {
    "duration": 27,
    "start_time": "2022-01-04T04:13:21.090Z"
   },
   {
    "duration": 18,
    "start_time": "2022-01-04T04:13:21.120Z"
   },
   {
    "duration": 13,
    "start_time": "2022-01-04T04:13:21.141Z"
   },
   {
    "duration": 22,
    "start_time": "2022-01-04T04:13:21.156Z"
   },
   {
    "duration": 6,
    "start_time": "2022-01-04T04:13:21.180Z"
   },
   {
    "duration": 7,
    "start_time": "2022-01-04T04:13:21.224Z"
   },
   {
    "duration": 15,
    "start_time": "2022-01-04T04:13:21.236Z"
   },
   {
    "duration": 6,
    "start_time": "2022-01-04T04:13:21.254Z"
   },
   {
    "duration": 9,
    "start_time": "2022-01-04T04:13:21.263Z"
   },
   {
    "duration": 52,
    "start_time": "2022-01-04T04:13:21.274Z"
   },
   {
    "duration": 10,
    "start_time": "2022-01-04T04:13:21.329Z"
   },
   {
    "duration": 13,
    "start_time": "2022-01-04T04:13:21.341Z"
   },
   {
    "duration": 7,
    "start_time": "2022-01-04T04:13:21.356Z"
   },
   {
    "duration": 2172,
    "start_time": "2022-01-04T04:13:21.365Z"
   },
   {
    "duration": 20,
    "start_time": "2022-01-04T04:13:23.540Z"
   },
   {
    "duration": 5,
    "start_time": "2022-01-04T04:13:23.562Z"
   },
   {
    "duration": 19,
    "start_time": "2022-01-04T04:13:23.569Z"
   },
   {
    "duration": 35,
    "start_time": "2022-01-04T04:13:23.590Z"
   },
   {
    "duration": 20,
    "start_time": "2022-01-04T04:13:23.627Z"
   },
   {
    "duration": 22,
    "start_time": "2022-01-04T04:13:23.649Z"
   },
   {
    "duration": 59,
    "start_time": "2022-01-04T04:13:23.674Z"
   },
   {
    "duration": 25,
    "start_time": "2022-01-04T04:13:23.737Z"
   },
   {
    "duration": 21,
    "start_time": "2022-01-04T04:13:23.764Z"
   },
   {
    "duration": 7,
    "start_time": "2022-01-04T04:13:23.787Z"
   },
   {
    "duration": 922,
    "start_time": "2022-01-04T04:13:23.824Z"
   },
   {
    "duration": 5,
    "start_time": "2022-01-04T04:13:24.749Z"
   },
   {
    "duration": 31,
    "start_time": "2022-01-04T04:13:41.626Z"
   },
   {
    "duration": 750,
    "start_time": "2022-01-04T04:14:15.051Z"
   },
   {
    "duration": 27,
    "start_time": "2022-01-04T04:14:15.804Z"
   },
   {
    "duration": 16,
    "start_time": "2022-01-04T04:14:15.834Z"
   },
   {
    "duration": 12,
    "start_time": "2022-01-04T04:14:15.852Z"
   },
   {
    "duration": 20,
    "start_time": "2022-01-04T04:14:15.866Z"
   },
   {
    "duration": 41,
    "start_time": "2022-01-04T04:14:15.888Z"
   },
   {
    "duration": 8,
    "start_time": "2022-01-04T04:14:15.931Z"
   },
   {
    "duration": 11,
    "start_time": "2022-01-04T04:14:15.943Z"
   },
   {
    "duration": 5,
    "start_time": "2022-01-04T04:14:15.957Z"
   },
   {
    "duration": 10,
    "start_time": "2022-01-04T04:14:15.964Z"
   },
   {
    "duration": 12,
    "start_time": "2022-01-04T04:14:16.025Z"
   },
   {
    "duration": 9,
    "start_time": "2022-01-04T04:14:16.039Z"
   },
   {
    "duration": 12,
    "start_time": "2022-01-04T04:14:16.051Z"
   },
   {
    "duration": 5,
    "start_time": "2022-01-04T04:14:16.066Z"
   },
   {
    "duration": 2154,
    "start_time": "2022-01-04T04:14:16.074Z"
   },
   {
    "duration": 20,
    "start_time": "2022-01-04T04:14:18.230Z"
   },
   {
    "duration": 5,
    "start_time": "2022-01-04T04:14:18.253Z"
   },
   {
    "duration": 16,
    "start_time": "2022-01-04T04:14:18.261Z"
   },
   {
    "duration": 44,
    "start_time": "2022-01-04T04:14:18.280Z"
   },
   {
    "duration": 20,
    "start_time": "2022-01-04T04:14:18.327Z"
   },
   {
    "duration": 24,
    "start_time": "2022-01-04T04:14:18.349Z"
   },
   {
    "duration": 67,
    "start_time": "2022-01-04T04:14:18.375Z"
   },
   {
    "duration": 29,
    "start_time": "2022-01-04T04:14:18.446Z"
   },
   {
    "duration": 47,
    "start_time": "2022-01-04T04:14:18.478Z"
   },
   {
    "duration": 8,
    "start_time": "2022-01-04T04:14:18.527Z"
   },
   {
    "duration": 914,
    "start_time": "2022-01-04T04:14:18.538Z"
   },
   {
    "duration": 6,
    "start_time": "2022-01-04T04:14:19.455Z"
   },
   {
    "duration": 4,
    "start_time": "2022-01-04T04:50:14.064Z"
   },
   {
    "duration": 5041,
    "start_time": "2022-01-04T04:51:37.773Z"
   },
   {
    "duration": 33,
    "start_time": "2022-01-04T04:51:49.344Z"
   },
   {
    "duration": 17,
    "start_time": "2022-01-04T04:51:56.722Z"
   },
   {
    "duration": 5,
    "start_time": "2022-01-04T04:52:21.639Z"
   },
   {
    "duration": 5279,
    "start_time": "2022-01-04T04:52:22.082Z"
   },
   {
    "duration": 4911,
    "start_time": "2022-01-04T04:52:31.454Z"
   },
   {
    "duration": 396,
    "start_time": "2022-01-04T04:56:44.757Z"
   },
   {
    "duration": 10,
    "start_time": "2022-01-04T04:57:01.469Z"
   },
   {
    "duration": 4,
    "start_time": "2022-01-04T05:26:05.374Z"
   },
   {
    "duration": 22,
    "start_time": "2022-01-04T05:26:12.109Z"
   },
   {
    "duration": 20,
    "start_time": "2022-01-04T05:27:21.586Z"
   },
   {
    "duration": 6,
    "start_time": "2022-01-04T05:28:02.005Z"
   },
   {
    "duration": 26,
    "start_time": "2022-01-04T05:28:19.987Z"
   },
   {
    "duration": 34,
    "start_time": "2022-01-04T05:28:55.957Z"
   },
   {
    "duration": 3974,
    "start_time": "2022-01-04T05:34:58.180Z"
   },
   {
    "duration": 8,
    "start_time": "2022-01-04T05:35:57.157Z"
   },
   {
    "duration": 12,
    "start_time": "2022-01-04T05:36:10.482Z"
   },
   {
    "duration": 109,
    "start_time": "2022-01-04T05:36:44.903Z"
   },
   {
    "duration": 13,
    "start_time": "2022-01-04T05:36:51.652Z"
   },
   {
    "duration": 12,
    "start_time": "2022-01-04T05:37:10.147Z"
   },
   {
    "duration": 24,
    "start_time": "2022-01-04T05:37:20.242Z"
   },
   {
    "duration": 764,
    "start_time": "2022-01-04T05:37:26.042Z"
   },
   {
    "duration": 25,
    "start_time": "2022-01-04T05:37:26.808Z"
   },
   {
    "duration": 16,
    "start_time": "2022-01-04T05:37:26.836Z"
   },
   {
    "duration": 12,
    "start_time": "2022-01-04T05:37:26.854Z"
   },
   {
    "duration": 19,
    "start_time": "2022-01-04T05:37:26.868Z"
   },
   {
    "duration": 38,
    "start_time": "2022-01-04T05:37:26.889Z"
   },
   {
    "duration": 10,
    "start_time": "2022-01-04T05:37:26.930Z"
   },
   {
    "duration": 11,
    "start_time": "2022-01-04T05:37:26.944Z"
   },
   {
    "duration": 5,
    "start_time": "2022-01-04T05:37:26.958Z"
   },
   {
    "duration": 9,
    "start_time": "2022-01-04T05:37:26.965Z"
   },
   {
    "duration": 54,
    "start_time": "2022-01-04T05:37:26.976Z"
   },
   {
    "duration": 9,
    "start_time": "2022-01-04T05:37:27.032Z"
   },
   {
    "duration": 11,
    "start_time": "2022-01-04T05:37:27.043Z"
   },
   {
    "duration": 6,
    "start_time": "2022-01-04T05:37:27.056Z"
   },
   {
    "duration": 2202,
    "start_time": "2022-01-04T05:37:27.064Z"
   },
   {
    "duration": 20,
    "start_time": "2022-01-04T05:37:29.268Z"
   },
   {
    "duration": 43,
    "start_time": "2022-01-04T05:37:29.290Z"
   },
   {
    "duration": 11,
    "start_time": "2022-01-04T05:37:29.336Z"
   },
   {
    "duration": 32,
    "start_time": "2022-01-04T05:37:29.350Z"
   },
   {
    "duration": 5,
    "start_time": "2022-01-04T05:37:29.384Z"
   },
   {
    "duration": 16,
    "start_time": "2022-01-04T05:37:29.424Z"
   },
   {
    "duration": 6,
    "start_time": "2022-01-04T05:37:29.442Z"
   },
   {
    "duration": 20,
    "start_time": "2022-01-04T05:37:29.453Z"
   },
   {
    "duration": 60,
    "start_time": "2022-01-04T05:37:29.475Z"
   },
   {
    "duration": 36,
    "start_time": "2022-01-04T05:37:29.538Z"
   },
   {
    "duration": 46,
    "start_time": "2022-01-04T05:37:29.577Z"
   },
   {
    "duration": 21,
    "start_time": "2022-01-04T05:37:29.625Z"
   },
   {
    "duration": 7,
    "start_time": "2022-01-04T05:37:29.648Z"
   },
   {
    "duration": 894,
    "start_time": "2022-01-04T05:37:29.658Z"
   },
   {
    "duration": 4,
    "start_time": "2022-01-04T05:37:30.555Z"
   },
   {
    "duration": 23,
    "start_time": "2022-01-04T05:37:30.561Z"
   },
   {
    "duration": 5149,
    "start_time": "2022-01-04T05:37:30.587Z"
   },
   {
    "duration": 10,
    "start_time": "2022-01-04T05:37:35.738Z"
   },
   {
    "duration": 9,
    "start_time": "2022-01-04T05:38:58.192Z"
   },
   {
    "duration": 936,
    "start_time": "2022-01-04T05:39:19.844Z"
   },
   {
    "duration": 8,
    "start_time": "2022-01-04T11:07:59.556Z"
   },
   {
    "duration": 6,
    "start_time": "2022-01-04T11:08:18.872Z"
   },
   {
    "duration": 36,
    "start_time": "2022-01-04T11:08:41.844Z"
   },
   {
    "duration": 794,
    "start_time": "2022-01-04T11:09:41.646Z"
   },
   {
    "duration": 39,
    "start_time": "2022-01-04T11:09:42.443Z"
   },
   {
    "duration": 39,
    "start_time": "2022-01-04T11:09:42.485Z"
   },
   {
    "duration": 14,
    "start_time": "2022-01-04T11:09:42.527Z"
   },
   {
    "duration": 26,
    "start_time": "2022-01-04T11:09:42.543Z"
   },
   {
    "duration": 7,
    "start_time": "2022-01-04T11:09:42.572Z"
   },
   {
    "duration": 48,
    "start_time": "2022-01-04T11:09:42.582Z"
   },
   {
    "duration": 14,
    "start_time": "2022-01-04T11:09:42.635Z"
   },
   {
    "duration": 9,
    "start_time": "2022-01-04T11:09:42.653Z"
   },
   {
    "duration": 16,
    "start_time": "2022-01-04T11:09:42.665Z"
   },
   {
    "duration": 53,
    "start_time": "2022-01-04T11:09:42.684Z"
   },
   {
    "duration": 12,
    "start_time": "2022-01-04T11:09:42.740Z"
   },
   {
    "duration": 15,
    "start_time": "2022-01-04T11:09:42.755Z"
   },
   {
    "duration": 50,
    "start_time": "2022-01-04T11:09:42.773Z"
   },
   {
    "duration": 2406,
    "start_time": "2022-01-04T11:09:42.826Z"
   },
   {
    "duration": 23,
    "start_time": "2022-01-04T11:09:45.234Z"
   },
   {
    "duration": 63,
    "start_time": "2022-01-04T11:09:45.260Z"
   },
   {
    "duration": 937,
    "start_time": "2022-01-04T11:09:45.326Z"
   },
   {
    "duration": 6,
    "start_time": "2022-01-04T11:09:46.266Z"
   },
   {
    "duration": 63,
    "start_time": "2022-01-04T11:09:46.275Z"
   },
   {
    "duration": 6,
    "start_time": "2022-01-04T11:09:46.341Z"
   },
   {
    "duration": 22,
    "start_time": "2022-01-04T11:09:46.350Z"
   },
   {
    "duration": 7,
    "start_time": "2022-01-04T11:09:46.376Z"
   },
   {
    "duration": 50,
    "start_time": "2022-01-04T11:09:46.386Z"
   },
   {
    "duration": 23,
    "start_time": "2022-01-04T11:09:46.438Z"
   },
   {
    "duration": 68,
    "start_time": "2022-01-04T11:09:46.464Z"
   },
   {
    "duration": 28,
    "start_time": "2022-01-04T11:09:46.535Z"
   },
   {
    "duration": 24,
    "start_time": "2022-01-04T11:09:46.565Z"
   },
   {
    "duration": 37,
    "start_time": "2022-01-04T11:09:46.591Z"
   },
   {
    "duration": 1333,
    "start_time": "2022-01-04T11:09:46.630Z"
   },
   {
    "duration": 6,
    "start_time": "2022-01-04T11:09:47.967Z"
   },
   {
    "duration": 8,
    "start_time": "2022-01-04T11:09:47.975Z"
   },
   {
    "duration": 6929,
    "start_time": "2022-01-04T11:09:47.986Z"
   },
   {
    "duration": 13,
    "start_time": "2022-01-04T11:09:54.924Z"
   },
   {
    "duration": 41,
    "start_time": "2022-01-04T11:09:54.940Z"
   },
   {
    "duration": 36,
    "start_time": "2022-01-04T11:10:06.741Z"
   },
   {
    "duration": 11,
    "start_time": "2022-01-04T11:11:18.178Z"
   },
   {
    "duration": 39,
    "start_time": "2022-01-04T11:16:29.704Z"
   },
   {
    "duration": 8,
    "start_time": "2022-01-04T11:16:43.714Z"
   },
   {
    "duration": 12,
    "start_time": "2022-01-04T11:17:03.216Z"
   },
   {
    "duration": 9,
    "start_time": "2022-01-04T11:37:12.788Z"
   },
   {
    "duration": 1014,
    "start_time": "2022-01-04T11:37:21.991Z"
   },
   {
    "duration": 33,
    "start_time": "2022-01-04T11:37:23.008Z"
   },
   {
    "duration": 24,
    "start_time": "2022-01-04T11:37:23.045Z"
   },
   {
    "duration": 14,
    "start_time": "2022-01-04T11:37:23.072Z"
   },
   {
    "duration": 65,
    "start_time": "2022-01-04T11:37:23.088Z"
   },
   {
    "duration": 8,
    "start_time": "2022-01-04T11:37:23.157Z"
   },
   {
    "duration": 13,
    "start_time": "2022-01-04T11:37:23.168Z"
   },
   {
    "duration": 49,
    "start_time": "2022-01-04T11:37:23.186Z"
   },
   {
    "duration": 7,
    "start_time": "2022-01-04T11:37:23.239Z"
   },
   {
    "duration": 22,
    "start_time": "2022-01-04T11:37:23.250Z"
   },
   {
    "duration": 13,
    "start_time": "2022-01-04T11:37:23.275Z"
   },
   {
    "duration": 34,
    "start_time": "2022-01-04T11:37:23.291Z"
   },
   {
    "duration": 14,
    "start_time": "2022-01-04T11:37:23.328Z"
   },
   {
    "duration": 6,
    "start_time": "2022-01-04T11:37:23.345Z"
   },
   {
    "duration": 2447,
    "start_time": "2022-01-04T11:37:23.354Z"
   },
   {
    "duration": 26,
    "start_time": "2022-01-04T11:37:25.803Z"
   },
   {
    "duration": 30,
    "start_time": "2022-01-04T11:37:25.832Z"
   },
   {
    "duration": 1007,
    "start_time": "2022-01-04T11:37:25.864Z"
   },
   {
    "duration": 8,
    "start_time": "2022-01-04T11:37:26.873Z"
   },
   {
    "duration": 16,
    "start_time": "2022-01-04T11:37:26.884Z"
   },
   {
    "duration": 24,
    "start_time": "2022-01-04T11:37:26.903Z"
   },
   {
    "duration": 35,
    "start_time": "2022-01-04T11:37:26.930Z"
   },
   {
    "duration": 6,
    "start_time": "2022-01-04T11:37:26.970Z"
   },
   {
    "duration": 51,
    "start_time": "2022-01-04T11:37:26.979Z"
   },
   {
    "duration": 27,
    "start_time": "2022-01-04T11:37:27.033Z"
   },
   {
    "duration": 67,
    "start_time": "2022-01-04T11:37:27.063Z"
   },
   {
    "duration": 34,
    "start_time": "2022-01-04T11:37:27.132Z"
   },
   {
    "duration": 22,
    "start_time": "2022-01-04T11:37:27.168Z"
   },
   {
    "duration": 32,
    "start_time": "2022-01-04T11:37:27.192Z"
   },
   {
    "duration": 1417,
    "start_time": "2022-01-04T11:37:27.227Z"
   },
   {
    "duration": 6,
    "start_time": "2022-01-04T11:37:28.648Z"
   },
   {
    "duration": 7,
    "start_time": "2022-01-04T11:37:28.657Z"
   },
   {
    "duration": 6814,
    "start_time": "2022-01-04T11:37:28.668Z"
   },
   {
    "duration": 10,
    "start_time": "2022-01-04T11:37:35.484Z"
   },
   {
    "duration": 29,
    "start_time": "2022-01-04T11:37:35.496Z"
   },
   {
    "duration": 5,
    "start_time": "2022-01-04T11:40:15.059Z"
   },
   {
    "duration": 108,
    "start_time": "2022-01-04T11:41:26.240Z"
   },
   {
    "duration": 8108,
    "start_time": "2022-01-04T11:42:02.116Z"
   },
   {
    "duration": 7505,
    "start_time": "2022-01-04T11:48:00.629Z"
   },
   {
    "duration": 27,
    "start_time": "2022-01-04T11:49:32.079Z"
   },
   {
    "duration": 446,
    "start_time": "2022-01-04T11:54:46.112Z"
   },
   {
    "duration": 5,
    "start_time": "2022-01-04T11:55:08.098Z"
   },
   {
    "duration": 19,
    "start_time": "2022-01-04T11:55:09.605Z"
   },
   {
    "duration": 301,
    "start_time": "2022-01-04T12:07:48.908Z"
   },
   {
    "duration": 6,
    "start_time": "2022-01-04T12:08:05.117Z"
   },
   {
    "duration": 7,
    "start_time": "2022-01-04T12:08:29.889Z"
   },
   {
    "duration": 9,
    "start_time": "2022-01-04T12:09:04.393Z"
   },
   {
    "duration": 11,
    "start_time": "2022-01-04T12:09:17.152Z"
   },
   {
    "duration": 9,
    "start_time": "2022-01-04T12:09:55.347Z"
   },
   {
    "duration": 15,
    "start_time": "2022-01-04T12:11:29.757Z"
   },
   {
    "duration": 3654,
    "start_time": "2022-01-04T12:19:32.126Z"
   },
   {
    "duration": 10,
    "start_time": "2022-01-04T12:19:38.923Z"
   },
   {
    "duration": 18,
    "start_time": "2022-01-04T12:19:50.080Z"
   },
   {
    "duration": 6,
    "start_time": "2022-01-04T12:20:59.998Z"
   },
   {
    "duration": 13,
    "start_time": "2022-01-04T12:21:03.284Z"
   },
   {
    "duration": 291,
    "start_time": "2022-01-04T12:21:16.755Z"
   },
   {
    "duration": 13,
    "start_time": "2022-01-04T12:21:25.629Z"
   },
   {
    "duration": 11,
    "start_time": "2022-01-04T12:21:43.397Z"
   },
   {
    "duration": 102,
    "start_time": "2022-01-04T12:22:43.059Z"
   },
   {
    "duration": 105,
    "start_time": "2022-01-04T12:23:07.419Z"
   },
   {
    "duration": 301,
    "start_time": "2022-01-04T12:23:19.105Z"
   },
   {
    "duration": 292,
    "start_time": "2022-01-04T12:23:25.993Z"
   },
   {
    "duration": 15,
    "start_time": "2022-01-04T12:23:38.878Z"
   },
   {
    "duration": 12,
    "start_time": "2022-01-04T12:23:47.539Z"
   },
   {
    "duration": 11,
    "start_time": "2022-01-04T12:23:50.767Z"
   },
   {
    "duration": 8,
    "start_time": "2022-01-04T12:24:35.274Z"
   },
   {
    "duration": 13,
    "start_time": "2022-01-04T12:24:39.489Z"
   },
   {
    "duration": -459,
    "start_time": "2022-01-04T12:25:28.730Z"
   },
   {
    "duration": 13,
    "start_time": "2022-01-04T12:25:54.396Z"
   },
   {
    "duration": 17,
    "start_time": "2022-01-04T12:32:40.956Z"
   },
   {
    "duration": 101,
    "start_time": "2022-01-04T12:33:34.256Z"
   },
   {
    "duration": 16,
    "start_time": "2022-01-04T12:33:38.118Z"
   },
   {
    "duration": 14,
    "start_time": "2022-01-04T12:33:48.893Z"
   },
   {
    "duration": 13,
    "start_time": "2022-01-04T12:33:53.855Z"
   },
   {
    "duration": 8,
    "start_time": "2022-01-04T12:36:34.686Z"
   },
   {
    "duration": 7,
    "start_time": "2022-01-04T12:36:41.847Z"
   },
   {
    "duration": 7,
    "start_time": "2022-01-04T12:36:53.766Z"
   },
   {
    "duration": 9,
    "start_time": "2022-01-04T12:37:21.149Z"
   },
   {
    "duration": 330,
    "start_time": "2022-01-04T13:15:42.497Z"
   },
   {
    "duration": 305,
    "start_time": "2022-01-04T13:16:03.564Z"
   },
   {
    "duration": 30,
    "start_time": "2022-01-04T13:16:25.223Z"
   },
   {
    "duration": 27,
    "start_time": "2022-01-04T13:17:06.143Z"
   },
   {
    "duration": 27,
    "start_time": "2022-01-04T13:57:40.608Z"
   },
   {
    "duration": 28,
    "start_time": "2022-01-04T13:57:48.377Z"
   },
   {
    "duration": 24,
    "start_time": "2022-01-04T13:57:56.900Z"
   },
   {
    "duration": 316,
    "start_time": "2022-01-04T14:12:14.896Z"
   },
   {
    "duration": 10,
    "start_time": "2022-01-04T14:12:22.637Z"
   },
   {
    "duration": 24,
    "start_time": "2022-01-04T14:12:34.979Z"
   },
   {
    "duration": 27,
    "start_time": "2022-01-04T14:12:41.391Z"
   },
   {
    "duration": 10,
    "start_time": "2022-01-04T15:03:35.916Z"
   },
   {
    "duration": 9,
    "start_time": "2022-01-04T15:03:45.839Z"
   },
   {
    "duration": 7,
    "start_time": "2022-01-04T15:03:48.500Z"
   },
   {
    "duration": 6,
    "start_time": "2022-01-04T15:04:15.325Z"
   },
   {
    "duration": 375,
    "start_time": "2022-01-04T15:04:27.808Z"
   },
   {
    "duration": 300,
    "start_time": "2022-01-04T15:04:45.455Z"
   },
   {
    "duration": 6,
    "start_time": "2022-01-04T15:04:56.828Z"
   },
   {
    "duration": 8,
    "start_time": "2022-01-04T15:05:00.799Z"
   },
   {
    "duration": 5,
    "start_time": "2022-01-04T15:05:12.575Z"
   },
   {
    "duration": 6,
    "start_time": "2022-01-04T15:05:20.489Z"
   },
   {
    "duration": 6,
    "start_time": "2022-01-04T15:05:32.478Z"
   },
   {
    "duration": 6,
    "start_time": "2022-01-04T15:05:42.190Z"
   },
   {
    "duration": 6,
    "start_time": "2022-01-04T15:06:47.381Z"
   },
   {
    "duration": 7,
    "start_time": "2022-01-04T15:06:53.290Z"
   },
   {
    "duration": 6,
    "start_time": "2022-01-04T15:07:15.902Z"
   },
   {
    "duration": 280,
    "start_time": "2022-01-05T04:04:54.222Z"
   },
   {
    "duration": 684,
    "start_time": "2022-01-05T04:05:03.428Z"
   },
   {
    "duration": 19,
    "start_time": "2022-01-05T04:05:04.114Z"
   },
   {
    "duration": 12,
    "start_time": "2022-01-05T04:05:04.137Z"
   },
   {
    "duration": 14,
    "start_time": "2022-01-05T04:05:04.150Z"
   },
   {
    "duration": 15,
    "start_time": "2022-01-05T04:05:04.166Z"
   },
   {
    "duration": 4,
    "start_time": "2022-01-05T04:05:04.183Z"
   },
   {
    "duration": 8,
    "start_time": "2022-01-05T04:05:04.189Z"
   },
   {
    "duration": 11,
    "start_time": "2022-01-05T04:05:04.199Z"
   },
   {
    "duration": 3,
    "start_time": "2022-01-05T04:05:04.212Z"
   },
   {
    "duration": 45,
    "start_time": "2022-01-05T04:05:04.217Z"
   },
   {
    "duration": 9,
    "start_time": "2022-01-05T04:05:04.264Z"
   },
   {
    "duration": 6,
    "start_time": "2022-01-05T04:05:04.274Z"
   },
   {
    "duration": 10,
    "start_time": "2022-01-05T04:05:04.282Z"
   },
   {
    "duration": 5,
    "start_time": "2022-01-05T04:05:04.294Z"
   },
   {
    "duration": 1247,
    "start_time": "2022-01-05T04:05:04.300Z"
   },
   {
    "duration": 16,
    "start_time": "2022-01-05T04:05:05.549Z"
   },
   {
    "duration": 21,
    "start_time": "2022-01-05T04:05:05.567Z"
   },
   {
    "duration": 462,
    "start_time": "2022-01-05T04:05:05.590Z"
   },
   {
    "duration": 10,
    "start_time": "2022-01-05T04:05:06.054Z"
   },
   {
    "duration": 4,
    "start_time": "2022-01-05T04:05:06.065Z"
   },
   {
    "duration": 19,
    "start_time": "2022-01-05T04:05:06.070Z"
   },
   {
    "duration": 3,
    "start_time": "2022-01-05T04:05:06.093Z"
   },
   {
    "duration": 16,
    "start_time": "2022-01-05T04:05:06.098Z"
   },
   {
    "duration": 6,
    "start_time": "2022-01-05T04:05:06.115Z"
   },
   {
    "duration": 47,
    "start_time": "2022-01-05T04:05:06.122Z"
   },
   {
    "duration": 24,
    "start_time": "2022-01-05T04:05:06.170Z"
   },
   {
    "duration": 25,
    "start_time": "2022-01-05T04:05:06.196Z"
   },
   {
    "duration": 19,
    "start_time": "2022-01-05T04:05:06.222Z"
   },
   {
    "duration": 30,
    "start_time": "2022-01-05T04:05:06.242Z"
   },
   {
    "duration": 4,
    "start_time": "2022-01-05T04:05:06.274Z"
   },
   {
    "duration": 692,
    "start_time": "2022-01-05T04:05:06.280Z"
   },
   {
    "duration": 4,
    "start_time": "2022-01-05T04:05:06.973Z"
   },
   {
    "duration": 7,
    "start_time": "2022-01-05T04:05:06.978Z"
   },
   {
    "duration": 869,
    "start_time": "2022-01-05T04:05:06.987Z"
   },
   {
    "duration": -924,
    "start_time": "2022-01-05T04:05:08.782Z"
   },
   {
    "duration": -926,
    "start_time": "2022-01-05T04:05:08.785Z"
   },
   {
    "duration": -927,
    "start_time": "2022-01-05T04:05:08.787Z"
   },
   {
    "duration": -929,
    "start_time": "2022-01-05T04:05:08.789Z"
   },
   {
    "duration": -930,
    "start_time": "2022-01-05T04:05:08.791Z"
   },
   {
    "duration": -931,
    "start_time": "2022-01-05T04:05:08.793Z"
   },
   {
    "duration": -932,
    "start_time": "2022-01-05T04:05:08.795Z"
   },
   {
    "duration": -933,
    "start_time": "2022-01-05T04:05:08.797Z"
   },
   {
    "duration": -935,
    "start_time": "2022-01-05T04:05:08.799Z"
   },
   {
    "duration": -936,
    "start_time": "2022-01-05T04:05:08.801Z"
   },
   {
    "duration": -937,
    "start_time": "2022-01-05T04:05:08.803Z"
   },
   {
    "duration": 4,
    "start_time": "2022-01-05T04:12:15.733Z"
   },
   {
    "duration": 607,
    "start_time": "2022-01-05T04:12:38.212Z"
   },
   {
    "duration": 19,
    "start_time": "2022-01-05T04:12:38.821Z"
   },
   {
    "duration": 11,
    "start_time": "2022-01-05T04:12:38.842Z"
   },
   {
    "duration": 8,
    "start_time": "2022-01-05T04:12:38.855Z"
   },
   {
    "duration": 14,
    "start_time": "2022-01-05T04:12:38.865Z"
   },
   {
    "duration": 5,
    "start_time": "2022-01-05T04:12:38.881Z"
   },
   {
    "duration": 6,
    "start_time": "2022-01-05T04:12:38.887Z"
   },
   {
    "duration": 10,
    "start_time": "2022-01-05T04:12:38.896Z"
   },
   {
    "duration": 4,
    "start_time": "2022-01-05T04:12:38.908Z"
   },
   {
    "duration": 48,
    "start_time": "2022-01-05T04:12:38.913Z"
   },
   {
    "duration": 8,
    "start_time": "2022-01-05T04:12:38.962Z"
   },
   {
    "duration": 6,
    "start_time": "2022-01-05T04:12:38.972Z"
   },
   {
    "duration": 8,
    "start_time": "2022-01-05T04:12:38.979Z"
   },
   {
    "duration": 4,
    "start_time": "2022-01-05T04:12:38.989Z"
   },
   {
    "duration": 1231,
    "start_time": "2022-01-05T04:12:38.994Z"
   },
   {
    "duration": 12,
    "start_time": "2022-01-05T04:12:40.227Z"
   },
   {
    "duration": 24,
    "start_time": "2022-01-05T04:12:40.241Z"
   },
   {
    "duration": 427,
    "start_time": "2022-01-05T04:12:40.266Z"
   },
   {
    "duration": 5,
    "start_time": "2022-01-05T04:12:40.694Z"
   },
   {
    "duration": 4,
    "start_time": "2022-01-05T04:12:40.701Z"
   },
   {
    "duration": 17,
    "start_time": "2022-01-05T04:12:40.706Z"
   },
   {
    "duration": 3,
    "start_time": "2022-01-05T04:12:40.724Z"
   },
   {
    "duration": 39,
    "start_time": "2022-01-05T04:12:40.731Z"
   },
   {
    "duration": 6,
    "start_time": "2022-01-05T04:12:40.772Z"
   },
   {
    "duration": 21,
    "start_time": "2022-01-05T04:12:40.779Z"
   },
   {
    "duration": 19,
    "start_time": "2022-01-05T04:12:40.801Z"
   },
   {
    "duration": 44,
    "start_time": "2022-01-05T04:12:40.821Z"
   },
   {
    "duration": 16,
    "start_time": "2022-01-05T04:12:40.867Z"
   },
   {
    "duration": 12,
    "start_time": "2022-01-05T04:12:40.885Z"
   },
   {
    "duration": 4,
    "start_time": "2022-01-05T04:12:40.898Z"
   },
   {
    "duration": 693,
    "start_time": "2022-01-05T04:12:40.904Z"
   },
   {
    "duration": 3,
    "start_time": "2022-01-05T04:12:41.599Z"
   },
   {
    "duration": 12,
    "start_time": "2022-01-05T04:12:41.604Z"
   },
   {
    "duration": 874,
    "start_time": "2022-01-05T04:12:41.618Z"
   },
   {
    "duration": -929,
    "start_time": "2022-01-05T04:12:43.423Z"
   },
   {
    "duration": -930,
    "start_time": "2022-01-05T04:12:43.425Z"
   },
   {
    "duration": -931,
    "start_time": "2022-01-05T04:12:43.427Z"
   },
   {
    "duration": -932,
    "start_time": "2022-01-05T04:12:43.429Z"
   },
   {
    "duration": -933,
    "start_time": "2022-01-05T04:12:43.431Z"
   },
   {
    "duration": -933,
    "start_time": "2022-01-05T04:12:43.433Z"
   },
   {
    "duration": -934,
    "start_time": "2022-01-05T04:12:43.435Z"
   },
   {
    "duration": -935,
    "start_time": "2022-01-05T04:12:43.437Z"
   },
   {
    "duration": -936,
    "start_time": "2022-01-05T04:12:43.439Z"
   },
   {
    "duration": -937,
    "start_time": "2022-01-05T04:12:43.441Z"
   },
   {
    "duration": -938,
    "start_time": "2022-01-05T04:12:43.443Z"
   },
   {
    "duration": 247,
    "start_time": "2022-01-05T04:13:23.378Z"
   },
   {
    "duration": 791,
    "start_time": "2022-01-05T04:13:50.805Z"
   },
   {
    "duration": 768,
    "start_time": "2022-01-05T04:13:55.139Z"
   },
   {
    "duration": 6150,
    "start_time": "2022-01-05T04:16:35.644Z"
   },
   {
    "duration": 1065,
    "start_time": "2022-01-05T04:16:56.531Z"
   },
   {
    "duration": 797,
    "start_time": "2022-01-05T04:17:11.148Z"
   },
   {
    "duration": 764,
    "start_time": "2022-01-05T04:20:04.841Z"
   },
   {
    "duration": 6155,
    "start_time": "2022-01-05T04:21:00.154Z"
   },
   {
    "duration": 4,
    "start_time": "2022-01-05T04:21:49.546Z"
   },
   {
    "duration": 968,
    "start_time": "2022-01-05T04:21:51.581Z"
   },
   {
    "duration": 1354,
    "start_time": "2022-01-05T04:24:04.118Z"
   },
   {
    "duration": 503,
    "start_time": "2022-01-05T04:25:30.455Z"
   },
   {
    "duration": 1664,
    "start_time": "2022-01-05T04:27:31.096Z"
   },
   {
    "duration": 4,
    "start_time": "2022-01-05T04:28:28.018Z"
   },
   {
    "duration": 1300,
    "start_time": "2022-01-05T04:28:28.953Z"
   },
   {
    "duration": 4,
    "start_time": "2022-01-05T04:29:31.421Z"
   },
   {
    "duration": 1196,
    "start_time": "2022-01-05T04:29:38.140Z"
   },
   {
    "duration": 6834,
    "start_time": "2022-01-05T04:29:52.079Z"
   },
   {
    "duration": 724,
    "start_time": "2022-01-05T04:35:45.843Z"
   },
   {
    "duration": 523,
    "start_time": "2022-01-05T04:36:21.995Z"
   },
   {
    "duration": 3,
    "start_time": "2022-01-05T04:37:36.828Z"
   },
   {
    "duration": 9,
    "start_time": "2022-01-05T04:37:39.339Z"
   },
   {
    "duration": 3280,
    "start_time": "2022-01-05T04:37:44.098Z"
   },
   {
    "duration": 9,
    "start_time": "2022-01-05T04:37:50.785Z"
   },
   {
    "duration": 3615,
    "start_time": "2022-01-05T04:39:32.486Z"
   },
   {
    "duration": 7,
    "start_time": "2022-01-05T04:40:25.423Z"
   },
   {
    "duration": 7,
    "start_time": "2022-01-05T04:40:26.098Z"
   },
   {
    "duration": 11,
    "start_time": "2022-01-05T04:40:26.464Z"
   },
   {
    "duration": 9,
    "start_time": "2022-01-05T04:40:26.992Z"
   },
   {
    "duration": 5,
    "start_time": "2022-01-05T04:40:27.152Z"
   },
   {
    "duration": 6,
    "start_time": "2022-01-05T04:40:27.435Z"
   },
   {
    "duration": 18,
    "start_time": "2022-01-05T04:40:27.604Z"
   },
   {
    "duration": 5,
    "start_time": "2022-01-05T04:40:27.739Z"
   },
   {
    "duration": 4,
    "start_time": "2022-01-05T04:40:29.251Z"
   },
   {
    "duration": 5,
    "start_time": "2022-01-05T04:40:29.665Z"
   },
   {
    "duration": 12,
    "start_time": "2022-01-05T04:56:55.942Z"
   },
   {
    "duration": 8,
    "start_time": "2022-01-05T04:57:07.559Z"
   },
   {
    "duration": 8,
    "start_time": "2022-01-05T04:57:14.319Z"
   },
   {
    "duration": 19,
    "start_time": "2022-01-05T04:57:28.636Z"
   },
   {
    "duration": 5,
    "start_time": "2022-01-05T04:57:53.454Z"
   },
   {
    "duration": 18,
    "start_time": "2022-01-05T04:59:09.307Z"
   },
   {
    "duration": 5,
    "start_time": "2022-01-05T04:59:50.773Z"
   },
   {
    "duration": 20,
    "start_time": "2022-01-05T05:00:11.473Z"
   },
   {
    "duration": 18,
    "start_time": "2022-01-05T05:00:16.166Z"
   },
   {
    "duration": 683,
    "start_time": "2022-01-05T05:00:26.676Z"
   },
   {
    "duration": 17,
    "start_time": "2022-01-05T05:00:27.361Z"
   },
   {
    "duration": 16,
    "start_time": "2022-01-05T05:00:27.380Z"
   },
   {
    "duration": 14,
    "start_time": "2022-01-05T05:00:27.397Z"
   },
   {
    "duration": 16,
    "start_time": "2022-01-05T05:00:27.413Z"
   },
   {
    "duration": 5,
    "start_time": "2022-01-05T05:00:27.430Z"
   },
   {
    "duration": 29,
    "start_time": "2022-01-05T05:00:27.436Z"
   },
   {
    "duration": 12,
    "start_time": "2022-01-05T05:00:27.467Z"
   },
   {
    "duration": 4,
    "start_time": "2022-01-05T05:00:27.481Z"
   },
   {
    "duration": 14,
    "start_time": "2022-01-05T05:00:27.486Z"
   },
   {
    "duration": 14,
    "start_time": "2022-01-05T05:00:27.502Z"
   },
   {
    "duration": 12,
    "start_time": "2022-01-05T05:00:27.518Z"
   },
   {
    "duration": 30,
    "start_time": "2022-01-05T05:00:27.531Z"
   },
   {
    "duration": 5,
    "start_time": "2022-01-05T05:00:27.562Z"
   },
   {
    "duration": 1249,
    "start_time": "2022-01-05T05:00:27.568Z"
   },
   {
    "duration": 13,
    "start_time": "2022-01-05T05:00:28.818Z"
   },
   {
    "duration": 30,
    "start_time": "2022-01-05T05:00:28.833Z"
   },
   {
    "duration": 452,
    "start_time": "2022-01-05T05:00:28.865Z"
   },
   {
    "duration": 5,
    "start_time": "2022-01-05T05:00:29.319Z"
   },
   {
    "duration": 5,
    "start_time": "2022-01-05T05:00:29.326Z"
   },
   {
    "duration": 33,
    "start_time": "2022-01-05T05:00:29.333Z"
   },
   {
    "duration": 4,
    "start_time": "2022-01-05T05:00:29.367Z"
   },
   {
    "duration": 16,
    "start_time": "2022-01-05T05:00:29.373Z"
   },
   {
    "duration": 6,
    "start_time": "2022-01-05T05:00:29.391Z"
   },
   {
    "duration": 17,
    "start_time": "2022-01-05T05:00:29.399Z"
   },
   {
    "duration": 15,
    "start_time": "2022-01-05T05:00:29.418Z"
   },
   {
    "duration": 25,
    "start_time": "2022-01-05T05:00:29.461Z"
   },
   {
    "duration": 18,
    "start_time": "2022-01-05T05:00:29.488Z"
   },
   {
    "duration": 15,
    "start_time": "2022-01-05T05:00:29.507Z"
   },
   {
    "duration": 4,
    "start_time": "2022-01-05T05:00:29.523Z"
   },
   {
    "duration": 718,
    "start_time": "2022-01-05T05:00:29.529Z"
   },
   {
    "duration": 12,
    "start_time": "2022-01-05T05:00:30.249Z"
   },
   {
    "duration": 3,
    "start_time": "2022-01-05T05:00:30.263Z"
   },
   {
    "duration": 3655,
    "start_time": "2022-01-05T05:00:30.268Z"
   },
   {
    "duration": 7,
    "start_time": "2022-01-05T05:00:33.925Z"
   },
   {
    "duration": 8,
    "start_time": "2022-01-05T05:00:33.933Z"
   },
   {
    "duration": 19,
    "start_time": "2022-01-05T05:00:33.943Z"
   },
   {
    "duration": 7,
    "start_time": "2022-01-05T05:00:33.964Z"
   },
   {
    "duration": 21,
    "start_time": "2022-01-05T05:00:33.972Z"
   },
   {
    "duration": 4,
    "start_time": "2022-01-05T05:00:33.995Z"
   },
   {
    "duration": 5,
    "start_time": "2022-01-05T05:00:34.001Z"
   },
   {
    "duration": 5,
    "start_time": "2022-01-05T05:00:34.008Z"
   },
   {
    "duration": 4,
    "start_time": "2022-01-05T05:00:56.475Z"
   },
   {
    "duration": 18,
    "start_time": "2022-01-05T05:00:57.265Z"
   },
   {
    "duration": 4,
    "start_time": "2022-01-05T05:01:26.900Z"
   },
   {
    "duration": 18,
    "start_time": "2022-01-05T05:01:28.007Z"
   },
   {
    "duration": 15,
    "start_time": "2022-01-05T05:02:03.934Z"
   },
   {
    "duration": 21,
    "start_time": "2022-01-05T05:02:09.398Z"
   },
   {
    "duration": 13,
    "start_time": "2022-01-05T05:03:09.773Z"
   },
   {
    "duration": 4,
    "start_time": "2022-01-05T05:07:22.962Z"
   },
   {
    "duration": 1048,
    "start_time": "2022-01-05T05:07:23.679Z"
   },
   {
    "duration": 14,
    "start_time": "2022-01-05T05:07:31.466Z"
   },
   {
    "duration": 79,
    "start_time": "2022-01-05T05:08:53.862Z"
   },
   {
    "duration": 195,
    "start_time": "2022-01-05T05:09:03.687Z"
   },
   {
    "duration": 12,
    "start_time": "2022-01-05T06:03:35.366Z"
   },
   {
    "duration": 4,
    "start_time": "2022-01-05T06:05:36.765Z"
   },
   {
    "duration": 18,
    "start_time": "2022-01-05T06:05:37.918Z"
   },
   {
    "duration": 5,
    "start_time": "2022-01-05T06:06:02.058Z"
   },
   {
    "duration": 18,
    "start_time": "2022-01-05T06:06:02.747Z"
   },
   {
    "duration": 5,
    "start_time": "2022-01-05T06:06:22.938Z"
   },
   {
    "duration": 19,
    "start_time": "2022-01-05T06:06:23.561Z"
   },
   {
    "duration": 5,
    "start_time": "2022-01-05T06:06:30.732Z"
   },
   {
    "duration": 18,
    "start_time": "2022-01-05T06:06:31.413Z"
   },
   {
    "duration": 4,
    "start_time": "2022-01-05T06:07:06.492Z"
   },
   {
    "duration": 331,
    "start_time": "2022-01-05T06:07:17.931Z"
   },
   {
    "duration": 8,
    "start_time": "2022-01-05T06:07:23.932Z"
   },
   {
    "duration": 30,
    "start_time": "2022-01-05T06:08:24.075Z"
   },
   {
    "duration": 45,
    "start_time": "2022-01-05T06:08:38.461Z"
   },
   {
    "duration": 1572,
    "start_time": "2022-01-05T06:08:53.479Z"
   },
   {
    "duration": 114,
    "start_time": "2022-01-05T06:09:00.563Z"
   },
   {
    "duration": 31,
    "start_time": "2022-01-05T06:09:03.427Z"
   },
   {
    "duration": 4,
    "start_time": "2022-01-05T06:12:21.447Z"
   },
   {
    "duration": 6,
    "start_time": "2022-01-05T06:12:32.661Z"
   },
   {
    "duration": 8,
    "start_time": "2022-01-05T06:13:08.033Z"
   },
   {
    "duration": 4,
    "start_time": "2022-01-05T06:13:16.980Z"
   },
   {
    "duration": 5,
    "start_time": "2022-01-05T06:13:25.202Z"
   },
   {
    "duration": 3,
    "start_time": "2022-01-05T06:17:16.515Z"
   },
   {
    "duration": 4,
    "start_time": "2022-01-05T06:17:23.476Z"
   },
   {
    "duration": 3,
    "start_time": "2022-01-05T06:17:50.996Z"
   },
   {
    "duration": 3,
    "start_time": "2022-01-05T06:18:09.370Z"
   },
   {
    "duration": 9,
    "start_time": "2022-01-05T06:20:03.089Z"
   },
   {
    "duration": 18,
    "start_time": "2022-01-05T06:20:16.093Z"
   },
   {
    "duration": 7,
    "start_time": "2022-01-05T06:21:04.727Z"
   },
   {
    "duration": 13,
    "start_time": "2022-01-05T06:22:33.567Z"
   },
   {
    "duration": 19,
    "start_time": "2022-01-05T06:22:39.147Z"
   },
   {
    "duration": 5,
    "start_time": "2022-01-05T06:25:59.398Z"
   },
   {
    "duration": 5,
    "start_time": "2022-01-05T06:26:12.266Z"
   },
   {
    "duration": 5,
    "start_time": "2022-01-05T06:26:24.184Z"
   },
   {
    "duration": 5,
    "start_time": "2022-01-05T06:26:33.199Z"
   },
   {
    "duration": 5,
    "start_time": "2022-01-05T06:26:50.870Z"
   },
   {
    "duration": 8888,
    "start_time": "2022-01-05T06:27:00.001Z"
   },
   {
    "duration": 21,
    "start_time": "2022-01-05T06:27:12.247Z"
   },
   {
    "duration": 9,
    "start_time": "2022-01-05T06:27:20.282Z"
   },
   {
    "duration": 20,
    "start_time": "2022-01-05T06:27:21.860Z"
   },
   {
    "duration": 10,
    "start_time": "2022-01-05T06:27:40.364Z"
   },
   {
    "duration": 29,
    "start_time": "2022-01-05T06:27:41.826Z"
   },
   {
    "duration": 10,
    "start_time": "2022-01-05T06:27:50.452Z"
   },
   {
    "duration": 20,
    "start_time": "2022-01-05T06:27:51.637Z"
   },
   {
    "duration": 5,
    "start_time": "2022-01-05T06:28:41.375Z"
   },
   {
    "duration": 6,
    "start_time": "2022-01-05T06:29:39.701Z"
   },
   {
    "duration": 6,
    "start_time": "2022-01-05T06:29:49.966Z"
   },
   {
    "duration": 1166,
    "start_time": "2022-01-05T06:33:44.773Z"
   },
   {
    "duration": 934,
    "start_time": "2022-01-05T06:34:13.683Z"
   },
   {
    "duration": 9,
    "start_time": "2022-01-05T06:36:03.604Z"
   },
   {
    "duration": 10,
    "start_time": "2022-01-05T06:36:06.958Z"
   },
   {
    "duration": 16,
    "start_time": "2022-01-05T06:36:39.221Z"
   },
   {
    "duration": 21,
    "start_time": "2022-01-05T06:36:54.081Z"
   },
   {
    "duration": 682,
    "start_time": "2022-01-05T06:42:54.829Z"
   },
   {
    "duration": 18,
    "start_time": "2022-01-05T06:42:55.513Z"
   },
   {
    "duration": 16,
    "start_time": "2022-01-05T06:42:55.534Z"
   },
   {
    "duration": 18,
    "start_time": "2022-01-05T06:42:55.552Z"
   },
   {
    "duration": 18,
    "start_time": "2022-01-05T06:42:55.573Z"
   },
   {
    "duration": 6,
    "start_time": "2022-01-05T06:42:55.593Z"
   },
   {
    "duration": 9,
    "start_time": "2022-01-05T06:42:55.601Z"
   },
   {
    "duration": 11,
    "start_time": "2022-01-05T06:42:55.613Z"
   },
   {
    "duration": 36,
    "start_time": "2022-01-05T06:42:55.626Z"
   },
   {
    "duration": 15,
    "start_time": "2022-01-05T06:42:55.664Z"
   },
   {
    "duration": 9,
    "start_time": "2022-01-05T06:42:55.681Z"
   },
   {
    "duration": 10,
    "start_time": "2022-01-05T06:42:55.692Z"
   },
   {
    "duration": 15,
    "start_time": "2022-01-05T06:42:55.703Z"
   },
   {
    "duration": 24,
    "start_time": "2022-01-05T06:42:55.719Z"
   },
   {
    "duration": 6991,
    "start_time": "2022-01-05T06:42:55.745Z"
   },
   {
    "duration": -1032,
    "start_time": "2022-01-05T06:43:03.771Z"
   },
   {
    "duration": -1034,
    "start_time": "2022-01-05T06:43:03.774Z"
   },
   {
    "duration": -1036,
    "start_time": "2022-01-05T06:43:03.777Z"
   },
   {
    "duration": -1037,
    "start_time": "2022-01-05T06:43:03.779Z"
   },
   {
    "duration": -1039,
    "start_time": "2022-01-05T06:43:03.782Z"
   },
   {
    "duration": -1040,
    "start_time": "2022-01-05T06:43:03.784Z"
   },
   {
    "duration": -1042,
    "start_time": "2022-01-05T06:43:03.787Z"
   },
   {
    "duration": -1043,
    "start_time": "2022-01-05T06:43:03.789Z"
   },
   {
    "duration": -1045,
    "start_time": "2022-01-05T06:43:03.792Z"
   },
   {
    "duration": -1046,
    "start_time": "2022-01-05T06:43:03.794Z"
   },
   {
    "duration": -1048,
    "start_time": "2022-01-05T06:43:03.797Z"
   },
   {
    "duration": -1059,
    "start_time": "2022-01-05T06:43:03.809Z"
   },
   {
    "duration": -1061,
    "start_time": "2022-01-05T06:43:03.812Z"
   },
   {
    "duration": -1062,
    "start_time": "2022-01-05T06:43:03.814Z"
   },
   {
    "duration": -1064,
    "start_time": "2022-01-05T06:43:03.817Z"
   },
   {
    "duration": -1065,
    "start_time": "2022-01-05T06:43:03.819Z"
   },
   {
    "duration": -1068,
    "start_time": "2022-01-05T06:43:03.823Z"
   },
   {
    "duration": -1069,
    "start_time": "2022-01-05T06:43:03.825Z"
   },
   {
    "duration": -1071,
    "start_time": "2022-01-05T06:43:03.828Z"
   },
   {
    "duration": -1073,
    "start_time": "2022-01-05T06:43:03.831Z"
   },
   {
    "duration": -1074,
    "start_time": "2022-01-05T06:43:03.833Z"
   },
   {
    "duration": -1076,
    "start_time": "2022-01-05T06:43:03.836Z"
   },
   {
    "duration": -1077,
    "start_time": "2022-01-05T06:43:03.838Z"
   },
   {
    "duration": -1079,
    "start_time": "2022-01-05T06:43:03.841Z"
   },
   {
    "duration": -1080,
    "start_time": "2022-01-05T06:43:03.843Z"
   },
   {
    "duration": -1082,
    "start_time": "2022-01-05T06:43:03.846Z"
   },
   {
    "duration": -1089,
    "start_time": "2022-01-05T06:43:03.854Z"
   },
   {
    "duration": -1091,
    "start_time": "2022-01-05T06:43:03.857Z"
   },
   {
    "duration": -1092,
    "start_time": "2022-01-05T06:43:03.859Z"
   },
   {
    "duration": -1094,
    "start_time": "2022-01-05T06:43:03.862Z"
   },
   {
    "duration": -1096,
    "start_time": "2022-01-05T06:43:03.865Z"
   },
   {
    "duration": -1097,
    "start_time": "2022-01-05T06:43:03.867Z"
   },
   {
    "duration": -1099,
    "start_time": "2022-01-05T06:43:03.870Z"
   },
   {
    "duration": -1100,
    "start_time": "2022-01-05T06:43:03.872Z"
   },
   {
    "duration": -1102,
    "start_time": "2022-01-05T06:43:03.875Z"
   },
   {
    "duration": -1103,
    "start_time": "2022-01-05T06:43:03.877Z"
   },
   {
    "duration": -1106,
    "start_time": "2022-01-05T06:43:03.880Z"
   },
   {
    "duration": -1108,
    "start_time": "2022-01-05T06:43:03.883Z"
   },
   {
    "duration": -1109,
    "start_time": "2022-01-05T06:43:03.885Z"
   },
   {
    "duration": -1110,
    "start_time": "2022-01-05T06:43:03.887Z"
   },
   {
    "duration": -1112,
    "start_time": "2022-01-05T06:43:03.890Z"
   },
   {
    "duration": -1113,
    "start_time": "2022-01-05T06:43:03.892Z"
   },
   {
    "duration": 594,
    "start_time": "2022-01-05T06:44:27.515Z"
   },
   {
    "duration": 17,
    "start_time": "2022-01-05T06:44:28.111Z"
   },
   {
    "duration": 12,
    "start_time": "2022-01-05T06:44:28.130Z"
   },
   {
    "duration": 8,
    "start_time": "2022-01-05T06:44:28.144Z"
   },
   {
    "duration": 13,
    "start_time": "2022-01-05T06:44:28.154Z"
   },
   {
    "duration": 4,
    "start_time": "2022-01-05T06:44:28.168Z"
   },
   {
    "duration": 7,
    "start_time": "2022-01-05T06:44:28.173Z"
   },
   {
    "duration": 7,
    "start_time": "2022-01-05T06:44:28.183Z"
   },
   {
    "duration": 6,
    "start_time": "2022-01-05T06:44:28.192Z"
   },
   {
    "duration": 8,
    "start_time": "2022-01-05T06:44:28.199Z"
   },
   {
    "duration": 4,
    "start_time": "2022-01-05T06:44:28.209Z"
   },
   {
    "duration": 7140,
    "start_time": "2022-01-05T06:44:28.214Z"
   },
   {
    "duration": -1037,
    "start_time": "2022-01-05T06:44:36.394Z"
   },
   {
    "duration": -1038,
    "start_time": "2022-01-05T06:44:36.396Z"
   },
   {
    "duration": -1040,
    "start_time": "2022-01-05T06:44:36.399Z"
   },
   {
    "duration": -1041,
    "start_time": "2022-01-05T06:44:36.401Z"
   },
   {
    "duration": -1043,
    "start_time": "2022-01-05T06:44:36.404Z"
   },
   {
    "duration": -1046,
    "start_time": "2022-01-05T06:44:36.407Z"
   },
   {
    "duration": -1047,
    "start_time": "2022-01-05T06:44:36.409Z"
   },
   {
    "duration": -1070,
    "start_time": "2022-01-05T06:44:36.433Z"
   },
   {
    "duration": -1073,
    "start_time": "2022-01-05T06:44:36.437Z"
   },
   {
    "duration": -1074,
    "start_time": "2022-01-05T06:44:36.439Z"
   },
   {
    "duration": -1076,
    "start_time": "2022-01-05T06:44:36.442Z"
   },
   {
    "duration": -1079,
    "start_time": "2022-01-05T06:44:36.445Z"
   },
   {
    "duration": -1081,
    "start_time": "2022-01-05T06:44:36.448Z"
   },
   {
    "duration": -1082,
    "start_time": "2022-01-05T06:44:36.450Z"
   },
   {
    "duration": -1084,
    "start_time": "2022-01-05T06:44:36.453Z"
   },
   {
    "duration": -1087,
    "start_time": "2022-01-05T06:44:36.457Z"
   },
   {
    "duration": -1089,
    "start_time": "2022-01-05T06:44:36.460Z"
   },
   {
    "duration": -1091,
    "start_time": "2022-01-05T06:44:36.463Z"
   },
   {
    "duration": -1092,
    "start_time": "2022-01-05T06:44:36.465Z"
   },
   {
    "duration": -1095,
    "start_time": "2022-01-05T06:44:36.468Z"
   },
   {
    "duration": -1102,
    "start_time": "2022-01-05T06:44:36.476Z"
   },
   {
    "duration": -1104,
    "start_time": "2022-01-05T06:44:36.479Z"
   },
   {
    "duration": -1106,
    "start_time": "2022-01-05T06:44:36.482Z"
   },
   {
    "duration": -1107,
    "start_time": "2022-01-05T06:44:36.484Z"
   },
   {
    "duration": -1109,
    "start_time": "2022-01-05T06:44:36.487Z"
   },
   {
    "duration": -1110,
    "start_time": "2022-01-05T06:44:36.489Z"
   },
   {
    "duration": -1111,
    "start_time": "2022-01-05T06:44:36.491Z"
   },
   {
    "duration": -1114,
    "start_time": "2022-01-05T06:44:36.494Z"
   },
   {
    "duration": -1116,
    "start_time": "2022-01-05T06:44:36.497Z"
   },
   {
    "duration": -1118,
    "start_time": "2022-01-05T06:44:36.500Z"
   },
   {
    "duration": -1120,
    "start_time": "2022-01-05T06:44:36.503Z"
   },
   {
    "duration": -1122,
    "start_time": "2022-01-05T06:44:36.506Z"
   },
   {
    "duration": -1128,
    "start_time": "2022-01-05T06:44:36.513Z"
   },
   {
    "duration": -1161,
    "start_time": "2022-01-05T06:44:36.547Z"
   },
   {
    "duration": -1162,
    "start_time": "2022-01-05T06:44:36.549Z"
   },
   {
    "duration": -1164,
    "start_time": "2022-01-05T06:44:36.552Z"
   },
   {
    "duration": -1165,
    "start_time": "2022-01-05T06:44:36.554Z"
   },
   {
    "duration": -1168,
    "start_time": "2022-01-05T06:44:36.557Z"
   },
   {
    "duration": -1188,
    "start_time": "2022-01-05T06:44:36.578Z"
   },
   {
    "duration": -1189,
    "start_time": "2022-01-05T06:44:36.580Z"
   },
   {
    "duration": -1191,
    "start_time": "2022-01-05T06:44:36.583Z"
   },
   {
    "duration": -1193,
    "start_time": "2022-01-05T06:44:36.586Z"
   },
   {
    "duration": -1194,
    "start_time": "2022-01-05T06:44:36.588Z"
   },
   {
    "duration": -1197,
    "start_time": "2022-01-05T06:44:36.591Z"
   },
   {
    "duration": 87,
    "start_time": "2022-01-05T06:51:46.306Z"
   },
   {
    "duration": 101,
    "start_time": "2022-01-05T06:52:06.913Z"
   },
   {
    "duration": 81,
    "start_time": "2022-01-05T06:52:12.206Z"
   },
   {
    "duration": 6870,
    "start_time": "2022-01-05T06:52:45.350Z"
   },
   {
    "duration": 6831,
    "start_time": "2022-01-05T06:53:12.595Z"
   },
   {
    "duration": 82,
    "start_time": "2022-01-05T06:53:56.426Z"
   },
   {
    "duration": 6388,
    "start_time": "2022-01-05T06:54:44.073Z"
   },
   {
    "duration": 7052,
    "start_time": "2022-01-05T06:54:54.992Z"
   },
   {
    "duration": 8,
    "start_time": "2022-01-05T06:55:28.802Z"
   },
   {
    "duration": 11,
    "start_time": "2022-01-05T06:57:32.034Z"
   },
   {
    "duration": 265,
    "start_time": "2022-01-05T06:58:44.571Z"
   },
   {
    "duration": 26,
    "start_time": "2022-01-05T06:59:09.964Z"
   },
   {
    "duration": 729,
    "start_time": "2022-01-05T06:59:19.431Z"
   },
   {
    "duration": 21,
    "start_time": "2022-01-05T06:59:33.958Z"
   },
   {
    "duration": 7259,
    "start_time": "2022-01-05T06:59:38.842Z"
   },
   {
    "duration": 4,
    "start_time": "2022-01-05T07:00:13.960Z"
   },
   {
    "duration": 18,
    "start_time": "2022-01-05T07:00:30.006Z"
   },
   {
    "duration": 15,
    "start_time": "2022-01-05T07:00:36.636Z"
   },
   {
    "duration": 6,
    "start_time": "2022-01-05T07:00:41.427Z"
   },
   {
    "duration": 6570,
    "start_time": "2022-01-05T07:00:45.767Z"
   },
   {
    "duration": 25,
    "start_time": "2022-01-05T07:01:06.214Z"
   },
   {
    "duration": 658,
    "start_time": "2022-01-05T07:01:20.577Z"
   },
   {
    "duration": 18,
    "start_time": "2022-01-05T07:01:21.237Z"
   },
   {
    "duration": 11,
    "start_time": "2022-01-05T07:01:21.257Z"
   },
   {
    "duration": 10,
    "start_time": "2022-01-05T07:01:21.271Z"
   },
   {
    "duration": 11,
    "start_time": "2022-01-05T07:01:21.282Z"
   },
   {
    "duration": 6,
    "start_time": "2022-01-05T07:01:21.294Z"
   },
   {
    "duration": 11,
    "start_time": "2022-01-05T07:01:21.302Z"
   },
   {
    "duration": 43,
    "start_time": "2022-01-05T07:01:21.317Z"
   },
   {
    "duration": 7,
    "start_time": "2022-01-05T07:01:21.363Z"
   },
   {
    "duration": 9,
    "start_time": "2022-01-05T07:01:21.371Z"
   },
   {
    "duration": 13,
    "start_time": "2022-01-05T07:01:21.382Z"
   },
   {
    "duration": 38,
    "start_time": "2022-01-05T07:01:21.396Z"
   },
   {
    "duration": 335,
    "start_time": "2022-01-05T07:01:21.436Z"
   },
   {
    "duration": -1025,
    "start_time": "2022-01-05T07:01:22.798Z"
   },
   {
    "duration": -1027,
    "start_time": "2022-01-05T07:01:22.801Z"
   },
   {
    "duration": -1029,
    "start_time": "2022-01-05T07:01:22.804Z"
   },
   {
    "duration": -1031,
    "start_time": "2022-01-05T07:01:22.807Z"
   },
   {
    "duration": -1033,
    "start_time": "2022-01-05T07:01:22.810Z"
   },
   {
    "duration": -1035,
    "start_time": "2022-01-05T07:01:22.813Z"
   },
   {
    "duration": -1037,
    "start_time": "2022-01-05T07:01:22.816Z"
   },
   {
    "duration": -1039,
    "start_time": "2022-01-05T07:01:22.819Z"
   },
   {
    "duration": -1041,
    "start_time": "2022-01-05T07:01:22.822Z"
   },
   {
    "duration": -1043,
    "start_time": "2022-01-05T07:01:22.825Z"
   },
   {
    "duration": -1046,
    "start_time": "2022-01-05T07:01:22.828Z"
   },
   {
    "duration": -1047,
    "start_time": "2022-01-05T07:01:22.830Z"
   },
   {
    "duration": -1049,
    "start_time": "2022-01-05T07:01:22.833Z"
   },
   {
    "duration": -1051,
    "start_time": "2022-01-05T07:01:22.836Z"
   },
   {
    "duration": -1052,
    "start_time": "2022-01-05T07:01:22.838Z"
   },
   {
    "duration": -1055,
    "start_time": "2022-01-05T07:01:22.842Z"
   },
   {
    "duration": -1057,
    "start_time": "2022-01-05T07:01:22.845Z"
   },
   {
    "duration": -1059,
    "start_time": "2022-01-05T07:01:22.848Z"
   },
   {
    "duration": -1060,
    "start_time": "2022-01-05T07:01:22.850Z"
   },
   {
    "duration": -1063,
    "start_time": "2022-01-05T07:01:22.854Z"
   },
   {
    "duration": -1065,
    "start_time": "2022-01-05T07:01:22.857Z"
   },
   {
    "duration": -1066,
    "start_time": "2022-01-05T07:01:22.860Z"
   },
   {
    "duration": -1068,
    "start_time": "2022-01-05T07:01:22.863Z"
   },
   {
    "duration": -1085,
    "start_time": "2022-01-05T07:01:22.880Z"
   },
   {
    "duration": -1090,
    "start_time": "2022-01-05T07:01:22.886Z"
   },
   {
    "duration": -1095,
    "start_time": "2022-01-05T07:01:22.892Z"
   },
   {
    "duration": -1097,
    "start_time": "2022-01-05T07:01:22.896Z"
   },
   {
    "duration": -1100,
    "start_time": "2022-01-05T07:01:22.899Z"
   },
   {
    "duration": -1102,
    "start_time": "2022-01-05T07:01:22.902Z"
   },
   {
    "duration": -1105,
    "start_time": "2022-01-05T07:01:22.906Z"
   },
   {
    "duration": -1107,
    "start_time": "2022-01-05T07:01:22.909Z"
   },
   {
    "duration": -1108,
    "start_time": "2022-01-05T07:01:22.912Z"
   },
   {
    "duration": -1110,
    "start_time": "2022-01-05T07:01:22.915Z"
   },
   {
    "duration": -1112,
    "start_time": "2022-01-05T07:01:22.918Z"
   },
   {
    "duration": -1115,
    "start_time": "2022-01-05T07:01:22.922Z"
   },
   {
    "duration": -1117,
    "start_time": "2022-01-05T07:01:22.925Z"
   },
   {
    "duration": -1069,
    "start_time": "2022-01-05T07:01:22.928Z"
   },
   {
    "duration": -1081,
    "start_time": "2022-01-05T07:01:22.942Z"
   },
   {
    "duration": -1083,
    "start_time": "2022-01-05T07:01:22.945Z"
   },
   {
    "duration": -1084,
    "start_time": "2022-01-05T07:01:22.947Z"
   },
   {
    "duration": -1086,
    "start_time": "2022-01-05T07:01:22.950Z"
   },
   {
    "duration": -1087,
    "start_time": "2022-01-05T07:01:22.952Z"
   },
   {
    "duration": -1090,
    "start_time": "2022-01-05T07:01:22.956Z"
   },
   {
    "duration": -1092,
    "start_time": "2022-01-05T07:01:22.959Z"
   },
   {
    "duration": -1093,
    "start_time": "2022-01-05T07:01:22.961Z"
   },
   {
    "duration": 281,
    "start_time": "2022-01-05T07:01:51.835Z"
   },
   {
    "duration": 6,
    "start_time": "2022-01-05T07:01:58.571Z"
   },
   {
    "duration": 4,
    "start_time": "2022-01-05T07:02:08.347Z"
   },
   {
    "duration": 4,
    "start_time": "2022-01-05T07:02:26.305Z"
   },
   {
    "duration": 4,
    "start_time": "2022-01-05T07:02:36.468Z"
   },
   {
    "duration": 4,
    "start_time": "2022-01-05T07:02:39.956Z"
   },
   {
    "duration": 7880,
    "start_time": "2022-01-05T07:04:28.015Z"
   },
   {
    "duration": -1029,
    "start_time": "2022-01-05T07:04:58.803Z"
   },
   {
    "duration": 7104,
    "start_time": "2022-01-05T07:05:05.971Z"
   },
   {
    "duration": 7,
    "start_time": "2022-01-05T07:06:34.877Z"
   },
   {
    "duration": 8,
    "start_time": "2022-01-05T07:06:40.189Z"
   },
   {
    "duration": 5231,
    "start_time": "2022-01-05T07:06:55.993Z"
   },
   {
    "duration": 4,
    "start_time": "2022-01-05T07:07:26.430Z"
   },
   {
    "duration": 1264,
    "start_time": "2022-01-05T07:07:38.888Z"
   },
   {
    "duration": 13,
    "start_time": "2022-01-05T07:07:41.135Z"
   },
   {
    "duration": 4,
    "start_time": "2022-01-05T07:08:28.051Z"
   },
   {
    "duration": 4,
    "start_time": "2022-01-05T07:11:56.097Z"
   },
   {
    "duration": 1108,
    "start_time": "2022-01-05T07:12:00.508Z"
   },
   {
    "duration": 13,
    "start_time": "2022-01-05T07:12:07.644Z"
   },
   {
    "duration": 624,
    "start_time": "2022-01-05T07:12:21.801Z"
   },
   {
    "duration": 18,
    "start_time": "2022-01-05T07:12:22.427Z"
   },
   {
    "duration": 11,
    "start_time": "2022-01-05T07:12:22.447Z"
   },
   {
    "duration": 10,
    "start_time": "2022-01-05T07:12:22.461Z"
   },
   {
    "duration": 9,
    "start_time": "2022-01-05T07:12:22.472Z"
   },
   {
    "duration": 4,
    "start_time": "2022-01-05T07:12:22.483Z"
   },
   {
    "duration": 8,
    "start_time": "2022-01-05T07:12:22.488Z"
   },
   {
    "duration": 12,
    "start_time": "2022-01-05T07:12:22.498Z"
   },
   {
    "duration": 7,
    "start_time": "2022-01-05T07:12:22.512Z"
   },
   {
    "duration": 42,
    "start_time": "2022-01-05T07:12:22.521Z"
   },
   {
    "duration": 4,
    "start_time": "2022-01-05T07:12:22.565Z"
   },
   {
    "duration": 8,
    "start_time": "2022-01-05T07:12:22.571Z"
   },
   {
    "duration": 308,
    "start_time": "2022-01-05T07:12:22.581Z"
   },
   {
    "duration": -1015,
    "start_time": "2022-01-05T07:12:23.908Z"
   },
   {
    "duration": -1017,
    "start_time": "2022-01-05T07:12:23.911Z"
   },
   {
    "duration": -1019,
    "start_time": "2022-01-05T07:12:23.914Z"
   },
   {
    "duration": -1042,
    "start_time": "2022-01-05T07:12:23.938Z"
   },
   {
    "duration": -1048,
    "start_time": "2022-01-05T07:12:23.945Z"
   },
   {
    "duration": -1050,
    "start_time": "2022-01-05T07:12:23.948Z"
   },
   {
    "duration": -1052,
    "start_time": "2022-01-05T07:12:23.951Z"
   },
   {
    "duration": -1054,
    "start_time": "2022-01-05T07:12:23.953Z"
   },
   {
    "duration": -1056,
    "start_time": "2022-01-05T07:12:23.956Z"
   },
   {
    "duration": -1057,
    "start_time": "2022-01-05T07:12:23.958Z"
   },
   {
    "duration": -1059,
    "start_time": "2022-01-05T07:12:23.961Z"
   },
   {
    "duration": -1060,
    "start_time": "2022-01-05T07:12:23.963Z"
   },
   {
    "duration": -1062,
    "start_time": "2022-01-05T07:12:23.966Z"
   },
   {
    "duration": -1063,
    "start_time": "2022-01-05T07:12:23.968Z"
   },
   {
    "duration": -1065,
    "start_time": "2022-01-05T07:12:23.971Z"
   },
   {
    "duration": -1066,
    "start_time": "2022-01-05T07:12:23.973Z"
   },
   {
    "duration": -1084,
    "start_time": "2022-01-05T07:12:23.992Z"
   },
   {
    "duration": -1085,
    "start_time": "2022-01-05T07:12:23.994Z"
   },
   {
    "duration": -1088,
    "start_time": "2022-01-05T07:12:23.997Z"
   },
   {
    "duration": -1089,
    "start_time": "2022-01-05T07:12:23.999Z"
   },
   {
    "duration": -1091,
    "start_time": "2022-01-05T07:12:24.002Z"
   },
   {
    "duration": -1093,
    "start_time": "2022-01-05T07:12:24.005Z"
   },
   {
    "duration": -1094,
    "start_time": "2022-01-05T07:12:24.007Z"
   },
   {
    "duration": -1095,
    "start_time": "2022-01-05T07:12:24.009Z"
   },
   {
    "duration": -1098,
    "start_time": "2022-01-05T07:12:24.012Z"
   },
   {
    "duration": -1099,
    "start_time": "2022-01-05T07:12:24.014Z"
   },
   {
    "duration": -1101,
    "start_time": "2022-01-05T07:12:24.017Z"
   },
   {
    "duration": -1103,
    "start_time": "2022-01-05T07:12:24.020Z"
   },
   {
    "duration": -1104,
    "start_time": "2022-01-05T07:12:24.022Z"
   },
   {
    "duration": -1139,
    "start_time": "2022-01-05T07:12:24.058Z"
   },
   {
    "duration": -1172,
    "start_time": "2022-01-05T07:12:24.092Z"
   },
   {
    "duration": -1175,
    "start_time": "2022-01-05T07:12:24.095Z"
   },
   {
    "duration": -1177,
    "start_time": "2022-01-05T07:12:24.098Z"
   },
   {
    "duration": -1178,
    "start_time": "2022-01-05T07:12:24.100Z"
   },
   {
    "duration": -1180,
    "start_time": "2022-01-05T07:12:24.103Z"
   },
   {
    "duration": -1181,
    "start_time": "2022-01-05T07:12:24.105Z"
   },
   {
    "duration": -1183,
    "start_time": "2022-01-05T07:12:24.108Z"
   },
   {
    "duration": -1183,
    "start_time": "2022-01-05T07:12:24.110Z"
   },
   {
    "duration": -1185,
    "start_time": "2022-01-05T07:12:24.113Z"
   },
   {
    "duration": -1186,
    "start_time": "2022-01-05T07:12:24.115Z"
   },
   {
    "duration": -1160,
    "start_time": "2022-01-05T07:12:24.119Z"
   },
   {
    "duration": -1160,
    "start_time": "2022-01-05T07:12:24.121Z"
   },
   {
    "duration": -1180,
    "start_time": "2022-01-05T07:12:24.142Z"
   },
   {
    "duration": -1181,
    "start_time": "2022-01-05T07:12:24.144Z"
   },
   {
    "duration": -1184,
    "start_time": "2022-01-05T07:12:24.147Z"
   },
   {
    "duration": 699,
    "start_time": "2022-01-05T07:12:51.753Z"
   },
   {
    "duration": 23,
    "start_time": "2022-01-05T07:12:52.454Z"
   },
   {
    "duration": 11,
    "start_time": "2022-01-05T07:12:52.483Z"
   },
   {
    "duration": 10,
    "start_time": "2022-01-05T07:12:52.496Z"
   },
   {
    "duration": 10,
    "start_time": "2022-01-05T07:12:52.507Z"
   },
   {
    "duration": 42,
    "start_time": "2022-01-05T07:12:52.519Z"
   },
   {
    "duration": 8,
    "start_time": "2022-01-05T07:12:52.564Z"
   },
   {
    "duration": 11,
    "start_time": "2022-01-05T07:12:52.575Z"
   },
   {
    "duration": 8,
    "start_time": "2022-01-05T07:12:52.587Z"
   },
   {
    "duration": 11,
    "start_time": "2022-01-05T07:12:52.596Z"
   },
   {
    "duration": 6,
    "start_time": "2022-01-05T07:12:52.608Z"
   },
   {
    "duration": 1103,
    "start_time": "2022-01-05T07:12:52.616Z"
   },
   {
    "duration": 14,
    "start_time": "2022-01-05T07:12:53.721Z"
   },
   {
    "duration": 25,
    "start_time": "2022-01-05T07:12:53.736Z"
   },
   {
    "duration": 6568,
    "start_time": "2022-01-05T07:12:53.763Z"
   },
   {
    "duration": -1046,
    "start_time": "2022-01-05T07:13:01.382Z"
   },
   {
    "duration": -1049,
    "start_time": "2022-01-05T07:13:01.386Z"
   },
   {
    "duration": -1051,
    "start_time": "2022-01-05T07:13:01.389Z"
   },
   {
    "duration": -1051,
    "start_time": "2022-01-05T07:13:01.391Z"
   },
   {
    "duration": -1053,
    "start_time": "2022-01-05T07:13:01.394Z"
   },
   {
    "duration": -1054,
    "start_time": "2022-01-05T07:13:01.396Z"
   },
   {
    "duration": -1055,
    "start_time": "2022-01-05T07:13:01.399Z"
   },
   {
    "duration": -1057,
    "start_time": "2022-01-05T07:13:01.402Z"
   },
   {
    "duration": -1059,
    "start_time": "2022-01-05T07:13:01.405Z"
   },
   {
    "duration": -1060,
    "start_time": "2022-01-05T07:13:01.407Z"
   },
   {
    "duration": -1061,
    "start_time": "2022-01-05T07:13:01.410Z"
   },
   {
    "duration": -1063,
    "start_time": "2022-01-05T07:13:01.413Z"
   },
   {
    "duration": -1065,
    "start_time": "2022-01-05T07:13:01.417Z"
   },
   {
    "duration": -1067,
    "start_time": "2022-01-05T07:13:01.420Z"
   },
   {
    "duration": -1070,
    "start_time": "2022-01-05T07:13:01.423Z"
   },
   {
    "duration": -1071,
    "start_time": "2022-01-05T07:13:01.425Z"
   },
   {
    "duration": -1073,
    "start_time": "2022-01-05T07:13:01.428Z"
   },
   {
    "duration": -1081,
    "start_time": "2022-01-05T07:13:01.436Z"
   },
   {
    "duration": -1083,
    "start_time": "2022-01-05T07:13:01.439Z"
   },
   {
    "duration": -1085,
    "start_time": "2022-01-05T07:13:01.441Z"
   },
   {
    "duration": -1087,
    "start_time": "2022-01-05T07:13:01.444Z"
   },
   {
    "duration": -1089,
    "start_time": "2022-01-05T07:13:01.446Z"
   },
   {
    "duration": -1092,
    "start_time": "2022-01-05T07:13:01.450Z"
   },
   {
    "duration": -1094,
    "start_time": "2022-01-05T07:13:01.453Z"
   },
   {
    "duration": -1095,
    "start_time": "2022-01-05T07:13:01.455Z"
   },
   {
    "duration": -1098,
    "start_time": "2022-01-05T07:13:01.458Z"
   },
   {
    "duration": -1100,
    "start_time": "2022-01-05T07:13:01.461Z"
   },
   {
    "duration": -1101,
    "start_time": "2022-01-05T07:13:01.463Z"
   },
   {
    "duration": -1103,
    "start_time": "2022-01-05T07:13:01.466Z"
   },
   {
    "duration": -1105,
    "start_time": "2022-01-05T07:13:01.469Z"
   },
   {
    "duration": -1107,
    "start_time": "2022-01-05T07:13:01.472Z"
   },
   {
    "duration": -1108,
    "start_time": "2022-01-05T07:13:01.474Z"
   },
   {
    "duration": -1111,
    "start_time": "2022-01-05T07:13:01.477Z"
   },
   {
    "duration": -1113,
    "start_time": "2022-01-05T07:13:01.480Z"
   },
   {
    "duration": -1115,
    "start_time": "2022-01-05T07:13:01.483Z"
   },
   {
    "duration": -1116,
    "start_time": "2022-01-05T07:13:01.485Z"
   },
   {
    "duration": -1118,
    "start_time": "2022-01-05T07:13:01.488Z"
   },
   {
    "duration": -1119,
    "start_time": "2022-01-05T07:13:01.490Z"
   },
   {
    "duration": -1122,
    "start_time": "2022-01-05T07:13:01.493Z"
   },
   {
    "duration": -1124,
    "start_time": "2022-01-05T07:13:01.496Z"
   },
   {
    "duration": -1126,
    "start_time": "2022-01-05T07:13:01.499Z"
   },
   {
    "duration": 3,
    "start_time": "2022-01-05T07:13:55.960Z"
   },
   {
    "duration": 92,
    "start_time": "2022-01-05T07:15:29.147Z"
   },
   {
    "duration": 451,
    "start_time": "2022-01-05T07:15:33.042Z"
   },
   {
    "duration": 718,
    "start_time": "2022-01-05T07:16:06.275Z"
   },
   {
    "duration": 23,
    "start_time": "2022-01-05T07:16:06.995Z"
   },
   {
    "duration": 18,
    "start_time": "2022-01-05T07:16:07.021Z"
   },
   {
    "duration": 20,
    "start_time": "2022-01-05T07:16:07.042Z"
   },
   {
    "duration": 12,
    "start_time": "2022-01-05T07:16:07.064Z"
   },
   {
    "duration": 7,
    "start_time": "2022-01-05T07:16:07.078Z"
   },
   {
    "duration": 21,
    "start_time": "2022-01-05T07:16:07.086Z"
   },
   {
    "duration": 10,
    "start_time": "2022-01-05T07:16:07.110Z"
   },
   {
    "duration": 8,
    "start_time": "2022-01-05T07:16:07.123Z"
   },
   {
    "duration": 33,
    "start_time": "2022-01-05T07:16:07.132Z"
   },
   {
    "duration": 5,
    "start_time": "2022-01-05T07:16:07.167Z"
   },
   {
    "duration": 1115,
    "start_time": "2022-01-05T07:16:07.174Z"
   },
   {
    "duration": 14,
    "start_time": "2022-01-05T07:16:08.291Z"
   },
   {
    "duration": 21,
    "start_time": "2022-01-05T07:16:08.307Z"
   },
   {
    "duration": 466,
    "start_time": "2022-01-05T07:16:08.330Z"
   },
   {
    "duration": 4,
    "start_time": "2022-01-05T07:16:08.797Z"
   },
   {
    "duration": 7,
    "start_time": "2022-01-05T07:16:08.802Z"
   },
   {
    "duration": 3,
    "start_time": "2022-01-05T07:16:08.811Z"
   },
   {
    "duration": 18,
    "start_time": "2022-01-05T07:16:08.815Z"
   },
   {
    "duration": 3,
    "start_time": "2022-01-05T07:16:08.834Z"
   },
   {
    "duration": 29,
    "start_time": "2022-01-05T07:16:08.839Z"
   },
   {
    "duration": 3,
    "start_time": "2022-01-05T07:16:08.870Z"
   },
   {
    "duration": 16,
    "start_time": "2022-01-05T07:16:08.878Z"
   },
   {
    "duration": 17,
    "start_time": "2022-01-05T07:16:08.897Z"
   },
   {
    "duration": 6,
    "start_time": "2022-01-05T07:16:08.916Z"
   },
   {
    "duration": 41,
    "start_time": "2022-01-05T07:16:08.924Z"
   },
   {
    "duration": 26,
    "start_time": "2022-01-05T07:16:08.967Z"
   },
   {
    "duration": 16,
    "start_time": "2022-01-05T07:16:08.995Z"
   },
   {
    "duration": 13,
    "start_time": "2022-01-05T07:16:09.013Z"
   },
   {
    "duration": 35,
    "start_time": "2022-01-05T07:16:09.028Z"
   },
   {
    "duration": 679,
    "start_time": "2022-01-05T07:16:09.065Z"
   },
   {
    "duration": 14,
    "start_time": "2022-01-05T07:16:09.747Z"
   },
   {
    "duration": 5,
    "start_time": "2022-01-05T07:16:09.764Z"
   },
   {
    "duration": 3258,
    "start_time": "2022-01-05T07:16:09.770Z"
   },
   {
    "duration": 7,
    "start_time": "2022-01-05T07:16:13.029Z"
   },
   {
    "duration": 5,
    "start_time": "2022-01-05T07:16:13.038Z"
   },
   {
    "duration": 14,
    "start_time": "2022-01-05T07:16:13.060Z"
   },
   {
    "duration": 4,
    "start_time": "2022-01-05T07:16:13.076Z"
   },
   {
    "duration": 8,
    "start_time": "2022-01-05T07:16:13.082Z"
   },
   {
    "duration": 22,
    "start_time": "2022-01-05T07:16:13.091Z"
   },
   {
    "duration": 4,
    "start_time": "2022-01-05T07:16:13.114Z"
   },
   {
    "duration": 5,
    "start_time": "2022-01-05T07:16:13.120Z"
   },
   {
    "duration": 35,
    "start_time": "2022-01-05T07:16:13.126Z"
   },
   {
    "duration": 4,
    "start_time": "2022-01-05T07:16:13.163Z"
   },
   {
    "duration": 4,
    "start_time": "2022-01-05T07:16:13.169Z"
   },
   {
    "duration": 6,
    "start_time": "2022-01-05T07:16:13.174Z"
   },
   {
    "duration": 5,
    "start_time": "2022-01-05T07:16:13.181Z"
   },
   {
    "duration": 5,
    "start_time": "2022-01-05T07:16:13.188Z"
   },
   {
    "duration": 18,
    "start_time": "2022-01-05T07:16:13.194Z"
   },
   {
    "duration": 6,
    "start_time": "2022-01-05T07:16:13.213Z"
   },
   {
    "duration": 44,
    "start_time": "2022-01-05T07:16:13.221Z"
   },
   {
    "duration": 16,
    "start_time": "2022-01-05T07:16:13.267Z"
   },
   {
    "duration": 7,
    "start_time": "2022-01-05T07:16:13.285Z"
   },
   {
    "duration": 22,
    "start_time": "2022-01-05T07:16:13.294Z"
   },
   {
    "duration": 5,
    "start_time": "2022-01-05T07:16:13.317Z"
   },
   {
    "duration": 5,
    "start_time": "2022-01-05T07:16:13.323Z"
   },
   {
    "duration": 32,
    "start_time": "2022-01-05T07:16:13.329Z"
   },
   {
    "duration": 5,
    "start_time": "2022-01-05T07:18:57.931Z"
   },
   {
    "duration": 10,
    "start_time": "2022-01-05T07:20:10.270Z"
   },
   {
    "duration": 6,
    "start_time": "2022-01-05T07:20:12.192Z"
   },
   {
    "duration": 655,
    "start_time": "2022-01-05T07:20:20.938Z"
   },
   {
    "duration": 20,
    "start_time": "2022-01-05T07:20:21.595Z"
   },
   {
    "duration": 11,
    "start_time": "2022-01-05T07:20:21.619Z"
   },
   {
    "duration": 29,
    "start_time": "2022-01-05T07:20:21.633Z"
   },
   {
    "duration": 10,
    "start_time": "2022-01-05T07:20:21.663Z"
   },
   {
    "duration": 6,
    "start_time": "2022-01-05T07:20:21.675Z"
   },
   {
    "duration": 11,
    "start_time": "2022-01-05T07:20:21.683Z"
   },
   {
    "duration": 11,
    "start_time": "2022-01-05T07:20:21.696Z"
   },
   {
    "duration": 7,
    "start_time": "2022-01-05T07:20:21.708Z"
   },
   {
    "duration": 44,
    "start_time": "2022-01-05T07:20:21.717Z"
   },
   {
    "duration": 4,
    "start_time": "2022-01-05T07:20:21.763Z"
   },
   {
    "duration": 1075,
    "start_time": "2022-01-05T07:20:21.769Z"
   },
   {
    "duration": 18,
    "start_time": "2022-01-05T07:20:22.845Z"
   },
   {
    "duration": 42,
    "start_time": "2022-01-05T07:20:22.864Z"
   },
   {
    "duration": 462,
    "start_time": "2022-01-05T07:20:22.908Z"
   },
   {
    "duration": 5,
    "start_time": "2022-01-05T07:20:23.372Z"
   },
   {
    "duration": 17,
    "start_time": "2022-01-05T07:20:23.378Z"
   },
   {
    "duration": 20,
    "start_time": "2022-01-05T07:20:23.397Z"
   },
   {
    "duration": 14,
    "start_time": "2022-01-05T07:20:23.419Z"
   },
   {
    "duration": 24,
    "start_time": "2022-01-05T07:20:23.435Z"
   },
   {
    "duration": 30,
    "start_time": "2022-01-05T07:20:23.460Z"
   },
   {
    "duration": 11,
    "start_time": "2022-01-05T07:20:23.493Z"
   },
   {
    "duration": 36,
    "start_time": "2022-01-05T07:20:23.506Z"
   },
   {
    "duration": 27,
    "start_time": "2022-01-05T07:20:23.543Z"
   },
   {
    "duration": 14,
    "start_time": "2022-01-05T07:20:23.571Z"
   },
   {
    "duration": 18,
    "start_time": "2022-01-05T07:20:23.587Z"
   },
   {
    "duration": 48,
    "start_time": "2022-01-05T07:20:23.607Z"
   },
   {
    "duration": 20,
    "start_time": "2022-01-05T07:20:23.657Z"
   },
   {
    "duration": 16,
    "start_time": "2022-01-05T07:20:23.678Z"
   },
   {
    "duration": 5,
    "start_time": "2022-01-05T07:20:23.696Z"
   },
   {
    "duration": 680,
    "start_time": "2022-01-05T07:20:23.703Z"
   },
   {
    "duration": 4,
    "start_time": "2022-01-05T07:20:24.385Z"
   },
   {
    "duration": 14,
    "start_time": "2022-01-05T07:20:24.390Z"
   },
   {
    "duration": 3590,
    "start_time": "2022-01-05T07:20:24.406Z"
   },
   {
    "duration": 7,
    "start_time": "2022-01-05T07:20:27.998Z"
   },
   {
    "duration": 33,
    "start_time": "2022-01-05T07:20:28.007Z"
   },
   {
    "duration": 23,
    "start_time": "2022-01-05T07:20:28.042Z"
   },
   {
    "duration": 12,
    "start_time": "2022-01-05T07:20:28.067Z"
   },
   {
    "duration": 31,
    "start_time": "2022-01-05T07:20:28.080Z"
   },
   {
    "duration": 40,
    "start_time": "2022-01-05T07:20:28.112Z"
   },
   {
    "duration": 11,
    "start_time": "2022-01-05T07:20:28.153Z"
   },
   {
    "duration": 24,
    "start_time": "2022-01-05T07:20:28.165Z"
   },
   {
    "duration": 23,
    "start_time": "2022-01-05T07:20:28.191Z"
   },
   {
    "duration": 21,
    "start_time": "2022-01-05T07:20:28.215Z"
   },
   {
    "duration": 24,
    "start_time": "2022-01-05T07:20:28.238Z"
   },
   {
    "duration": 21,
    "start_time": "2022-01-05T07:20:28.264Z"
   },
   {
    "duration": 29,
    "start_time": "2022-01-05T07:20:28.287Z"
   },
   {
    "duration": 16,
    "start_time": "2022-01-05T07:20:28.318Z"
   },
   {
    "duration": 31,
    "start_time": "2022-01-05T07:20:28.335Z"
   },
   {
    "duration": 15,
    "start_time": "2022-01-05T07:20:28.367Z"
   },
   {
    "duration": 32,
    "start_time": "2022-01-05T07:20:28.384Z"
   },
   {
    "duration": 16,
    "start_time": "2022-01-05T07:20:28.417Z"
   },
   {
    "duration": 8,
    "start_time": "2022-01-05T07:20:28.434Z"
   },
   {
    "duration": 20,
    "start_time": "2022-01-05T07:20:28.443Z"
   },
   {
    "duration": 4,
    "start_time": "2022-01-05T07:20:28.464Z"
   },
   {
    "duration": 10,
    "start_time": "2022-01-05T07:20:28.470Z"
   },
   {
    "duration": 9,
    "start_time": "2022-01-05T07:20:28.482Z"
   },
   {
    "duration": 5,
    "start_time": "2022-01-05T07:20:34.068Z"
   },
   {
    "duration": 10,
    "start_time": "2022-01-05T07:20:38.003Z"
   },
   {
    "duration": 5,
    "start_time": "2022-01-05T07:20:38.790Z"
   },
   {
    "duration": 5,
    "start_time": "2022-01-05T07:21:22.229Z"
   },
   {
    "duration": 5,
    "start_time": "2022-01-05T07:21:33.730Z"
   },
   {
    "duration": 6,
    "start_time": "2022-01-05T07:21:43.311Z"
   },
   {
    "duration": 4,
    "start_time": "2022-01-05T07:22:02.324Z"
   },
   {
    "duration": 673,
    "start_time": "2022-01-05T07:22:36.534Z"
   },
   {
    "duration": 16,
    "start_time": "2022-01-05T07:22:37.209Z"
   },
   {
    "duration": 11,
    "start_time": "2022-01-05T07:22:37.227Z"
   },
   {
    "duration": 9,
    "start_time": "2022-01-05T07:22:37.240Z"
   },
   {
    "duration": 13,
    "start_time": "2022-01-05T07:22:37.251Z"
   },
   {
    "duration": 4,
    "start_time": "2022-01-05T07:22:37.265Z"
   },
   {
    "duration": 9,
    "start_time": "2022-01-05T07:22:37.270Z"
   },
   {
    "duration": 8,
    "start_time": "2022-01-05T07:22:37.282Z"
   },
   {
    "duration": 6,
    "start_time": "2022-01-05T07:22:37.292Z"
   },
   {
    "duration": 9,
    "start_time": "2022-01-05T07:22:37.299Z"
   },
   {
    "duration": 4,
    "start_time": "2022-01-05T07:22:37.309Z"
   },
   {
    "duration": 1105,
    "start_time": "2022-01-05T07:22:37.314Z"
   },
   {
    "duration": 13,
    "start_time": "2022-01-05T07:22:38.420Z"
   },
   {
    "duration": 26,
    "start_time": "2022-01-05T07:22:38.435Z"
   },
   {
    "duration": 435,
    "start_time": "2022-01-05T07:22:38.463Z"
   },
   {
    "duration": 7,
    "start_time": "2022-01-05T07:22:38.900Z"
   },
   {
    "duration": 7,
    "start_time": "2022-01-05T07:22:38.908Z"
   },
   {
    "duration": 6,
    "start_time": "2022-01-05T07:22:38.916Z"
   },
   {
    "duration": 8,
    "start_time": "2022-01-05T07:22:38.924Z"
   },
   {
    "duration": 4,
    "start_time": "2022-01-05T07:22:38.934Z"
   },
   {
    "duration": 3,
    "start_time": "2022-01-05T07:22:38.960Z"
   },
   {
    "duration": 12,
    "start_time": "2022-01-05T07:22:38.965Z"
   },
   {
    "duration": 4,
    "start_time": "2022-01-05T07:22:38.980Z"
   },
   {
    "duration": 14,
    "start_time": "2022-01-05T07:22:38.986Z"
   },
   {
    "duration": 16,
    "start_time": "2022-01-05T07:22:39.001Z"
   },
   {
    "duration": 5,
    "start_time": "2022-01-05T07:22:39.018Z"
   },
   {
    "duration": 6,
    "start_time": "2022-01-05T07:22:39.061Z"
   },
   {
    "duration": 26,
    "start_time": "2022-01-05T07:22:39.069Z"
   },
   {
    "duration": 18,
    "start_time": "2022-01-05T07:22:39.097Z"
   },
   {
    "duration": 14,
    "start_time": "2022-01-05T07:22:39.116Z"
   },
   {
    "duration": 30,
    "start_time": "2022-01-05T07:22:39.131Z"
   },
   {
    "duration": 656,
    "start_time": "2022-01-05T07:22:39.163Z"
   },
   {
    "duration": 4,
    "start_time": "2022-01-05T07:22:39.821Z"
   },
   {
    "duration": 7,
    "start_time": "2022-01-05T07:22:39.826Z"
   },
   {
    "duration": 3766,
    "start_time": "2022-01-05T07:22:39.835Z"
   },
   {
    "duration": 7,
    "start_time": "2022-01-05T07:22:43.603Z"
   },
   {
    "duration": 7,
    "start_time": "2022-01-05T07:22:43.611Z"
   },
   {
    "duration": 13,
    "start_time": "2022-01-05T07:22:43.619Z"
   },
   {
    "duration": 28,
    "start_time": "2022-01-05T07:22:43.634Z"
   },
   {
    "duration": 8,
    "start_time": "2022-01-05T07:22:43.664Z"
   },
   {
    "duration": 22,
    "start_time": "2022-01-05T07:22:43.673Z"
   },
   {
    "duration": 5,
    "start_time": "2022-01-05T07:22:43.696Z"
   },
   {
    "duration": 11,
    "start_time": "2022-01-05T07:22:43.702Z"
   },
   {
    "duration": 10,
    "start_time": "2022-01-05T07:22:43.715Z"
   },
   {
    "duration": 7,
    "start_time": "2022-01-05T07:22:43.726Z"
   },
   {
    "duration": 7,
    "start_time": "2022-01-05T07:22:43.734Z"
   },
   {
    "duration": 19,
    "start_time": "2022-01-05T07:22:43.742Z"
   },
   {
    "duration": 4,
    "start_time": "2022-01-05T07:22:43.763Z"
   },
   {
    "duration": 5,
    "start_time": "2022-01-05T07:22:43.768Z"
   },
   {
    "duration": 20,
    "start_time": "2022-01-05T07:22:43.775Z"
   },
   {
    "duration": 8,
    "start_time": "2022-01-05T07:22:43.797Z"
   },
   {
    "duration": 17,
    "start_time": "2022-01-05T07:22:43.806Z"
   },
   {
    "duration": 45,
    "start_time": "2022-01-05T07:22:43.825Z"
   },
   {
    "duration": 7,
    "start_time": "2022-01-05T07:22:43.872Z"
   },
   {
    "duration": 17,
    "start_time": "2022-01-05T07:22:43.881Z"
   },
   {
    "duration": 4,
    "start_time": "2022-01-05T07:22:43.899Z"
   },
   {
    "duration": 4,
    "start_time": "2022-01-05T07:22:43.905Z"
   },
   {
    "duration": 4,
    "start_time": "2022-01-05T07:22:43.911Z"
   },
   {
    "duration": 4,
    "start_time": "2022-01-05T07:23:31.270Z"
   },
   {
    "duration": 1042,
    "start_time": "2022-01-05T07:23:31.962Z"
   },
   {
    "duration": 14,
    "start_time": "2022-01-05T07:23:39.834Z"
   },
   {
    "duration": 642,
    "start_time": "2022-01-05T07:23:47.328Z"
   },
   {
    "duration": 17,
    "start_time": "2022-01-05T07:23:47.972Z"
   },
   {
    "duration": 21,
    "start_time": "2022-01-05T07:23:47.991Z"
   },
   {
    "duration": 21,
    "start_time": "2022-01-05T07:23:48.013Z"
   },
   {
    "duration": 21,
    "start_time": "2022-01-05T07:23:48.035Z"
   },
   {
    "duration": 20,
    "start_time": "2022-01-05T07:23:48.057Z"
   },
   {
    "duration": 19,
    "start_time": "2022-01-05T07:23:48.078Z"
   },
   {
    "duration": 17,
    "start_time": "2022-01-05T07:23:48.099Z"
   },
   {
    "duration": 6,
    "start_time": "2022-01-05T07:23:48.118Z"
   },
   {
    "duration": 18,
    "start_time": "2022-01-05T07:23:48.125Z"
   },
   {
    "duration": 11,
    "start_time": "2022-01-05T07:23:48.144Z"
   },
   {
    "duration": 1238,
    "start_time": "2022-01-05T07:23:48.157Z"
   },
   {
    "duration": 14,
    "start_time": "2022-01-05T07:23:49.397Z"
   },
   {
    "duration": 16,
    "start_time": "2022-01-05T07:23:49.413Z"
   },
   {
    "duration": 497,
    "start_time": "2022-01-05T07:23:49.430Z"
   },
   {
    "duration": 5,
    "start_time": "2022-01-05T07:23:49.929Z"
   },
   {
    "duration": 5,
    "start_time": "2022-01-05T07:23:49.935Z"
   },
   {
    "duration": 19,
    "start_time": "2022-01-05T07:23:49.941Z"
   },
   {
    "duration": 8,
    "start_time": "2022-01-05T07:23:49.962Z"
   },
   {
    "duration": 7,
    "start_time": "2022-01-05T07:23:49.971Z"
   },
   {
    "duration": 3,
    "start_time": "2022-01-05T07:23:49.979Z"
   },
   {
    "duration": 12,
    "start_time": "2022-01-05T07:23:49.984Z"
   },
   {
    "duration": 5,
    "start_time": "2022-01-05T07:23:50.000Z"
   },
   {
    "duration": 16,
    "start_time": "2022-01-05T07:23:50.007Z"
   },
   {
    "duration": 47,
    "start_time": "2022-01-05T07:23:50.025Z"
   },
   {
    "duration": 5,
    "start_time": "2022-01-05T07:23:50.073Z"
   },
   {
    "duration": 7,
    "start_time": "2022-01-05T07:23:50.079Z"
   },
   {
    "duration": 27,
    "start_time": "2022-01-05T07:23:50.088Z"
   },
   {
    "duration": 48,
    "start_time": "2022-01-05T07:23:50.116Z"
   },
   {
    "duration": 15,
    "start_time": "2022-01-05T07:23:50.166Z"
   },
   {
    "duration": 5,
    "start_time": "2022-01-05T07:23:50.183Z"
   },
   {
    "duration": 672,
    "start_time": "2022-01-05T07:23:50.189Z"
   },
   {
    "duration": 3,
    "start_time": "2022-01-05T07:23:50.863Z"
   },
   {
    "duration": 5,
    "start_time": "2022-01-05T07:23:50.868Z"
   },
   {
    "duration": 3752,
    "start_time": "2022-01-05T07:23:50.875Z"
   },
   {
    "duration": 6,
    "start_time": "2022-01-05T07:23:54.629Z"
   },
   {
    "duration": 6,
    "start_time": "2022-01-05T07:23:54.637Z"
   },
   {
    "duration": 11,
    "start_time": "2022-01-05T07:23:54.661Z"
   },
   {
    "duration": 4,
    "start_time": "2022-01-05T07:23:54.674Z"
   },
   {
    "duration": 5,
    "start_time": "2022-01-05T07:23:54.679Z"
   },
   {
    "duration": 19,
    "start_time": "2022-01-05T07:23:54.686Z"
   },
   {
    "duration": 4,
    "start_time": "2022-01-05T07:23:54.707Z"
   },
   {
    "duration": 5,
    "start_time": "2022-01-05T07:23:54.713Z"
   },
   {
    "duration": 6,
    "start_time": "2022-01-05T07:23:54.719Z"
   },
   {
    "duration": 34,
    "start_time": "2022-01-05T07:23:54.727Z"
   },
   {
    "duration": 3,
    "start_time": "2022-01-05T07:23:54.763Z"
   },
   {
    "duration": 5,
    "start_time": "2022-01-05T07:23:54.768Z"
   },
   {
    "duration": 5,
    "start_time": "2022-01-05T07:23:54.774Z"
   },
   {
    "duration": 5,
    "start_time": "2022-01-05T07:23:54.780Z"
   },
   {
    "duration": 19,
    "start_time": "2022-01-05T07:23:54.787Z"
   },
   {
    "duration": 11,
    "start_time": "2022-01-05T07:23:54.807Z"
   },
   {
    "duration": 41,
    "start_time": "2022-01-05T07:23:54.820Z"
   },
   {
    "duration": 17,
    "start_time": "2022-01-05T07:23:54.863Z"
   },
   {
    "duration": 8,
    "start_time": "2022-01-05T07:23:54.881Z"
   },
   {
    "duration": 19,
    "start_time": "2022-01-05T07:23:54.890Z"
   },
   {
    "duration": 4,
    "start_time": "2022-01-05T07:23:54.910Z"
   },
   {
    "duration": 6,
    "start_time": "2022-01-05T07:23:54.915Z"
   },
   {
    "duration": 7,
    "start_time": "2022-01-05T07:23:54.922Z"
   },
   {
    "duration": 5,
    "start_time": "2022-01-05T07:24:28.455Z"
   },
   {
    "duration": 5,
    "start_time": "2022-01-05T07:24:33.535Z"
   },
   {
    "duration": 305,
    "start_time": "2022-01-05T07:24:39.147Z"
   },
   {
    "duration": 5,
    "start_time": "2022-01-05T07:24:43.156Z"
   },
   {
    "duration": 282,
    "start_time": "2022-01-05T07:25:59.825Z"
   },
   {
    "duration": 4,
    "start_time": "2022-01-05T07:26:12.027Z"
   },
   {
    "duration": 3,
    "start_time": "2022-01-05T07:31:47.732Z"
   },
   {
    "duration": 251,
    "start_time": "2022-01-05T07:31:59.076Z"
   },
   {
    "duration": 4,
    "start_time": "2022-01-05T07:32:05.910Z"
   },
   {
    "duration": 3,
    "start_time": "2022-01-05T07:32:06.407Z"
   },
   {
    "duration": 9,
    "start_time": "2022-01-05T07:32:06.939Z"
   },
   {
    "duration": 5,
    "start_time": "2022-01-05T07:32:10.386Z"
   },
   {
    "duration": 249,
    "start_time": "2022-01-05T07:32:14.595Z"
   },
   {
    "duration": 3,
    "start_time": "2022-01-05T07:32:28.472Z"
   },
   {
    "duration": 13,
    "start_time": "2022-01-05T07:32:29.231Z"
   },
   {
    "duration": 25,
    "start_time": "2022-01-05T07:33:03.273Z"
   },
   {
    "duration": 13,
    "start_time": "2022-01-05T07:33:19.755Z"
   },
   {
    "duration": 14,
    "start_time": "2022-01-05T07:33:46.493Z"
   },
   {
    "duration": 3,
    "start_time": "2022-01-05T07:33:48.681Z"
   },
   {
    "duration": 13,
    "start_time": "2022-01-05T07:33:49.108Z"
   },
   {
    "duration": 3,
    "start_time": "2022-01-05T07:34:18.253Z"
   },
   {
    "duration": 13,
    "start_time": "2022-01-05T07:34:18.842Z"
   },
   {
    "duration": 665,
    "start_time": "2022-01-05T07:34:36.147Z"
   },
   {
    "duration": 19,
    "start_time": "2022-01-05T07:34:36.814Z"
   },
   {
    "duration": 11,
    "start_time": "2022-01-05T07:34:36.836Z"
   },
   {
    "duration": 20,
    "start_time": "2022-01-05T07:34:36.849Z"
   },
   {
    "duration": 12,
    "start_time": "2022-01-05T07:34:36.870Z"
   },
   {
    "duration": 6,
    "start_time": "2022-01-05T07:34:36.884Z"
   },
   {
    "duration": 12,
    "start_time": "2022-01-05T07:34:36.892Z"
   },
   {
    "duration": 22,
    "start_time": "2022-01-05T07:34:36.907Z"
   },
   {
    "duration": 7,
    "start_time": "2022-01-05T07:34:36.932Z"
   },
   {
    "duration": 25,
    "start_time": "2022-01-05T07:34:36.942Z"
   },
   {
    "duration": 11,
    "start_time": "2022-01-05T07:34:36.970Z"
   },
   {
    "duration": 13,
    "start_time": "2022-01-05T07:34:36.983Z"
   },
   {
    "duration": 9,
    "start_time": "2022-01-05T07:34:36.998Z"
   },
   {
    "duration": 1224,
    "start_time": "2022-01-05T07:34:37.009Z"
   },
   {
    "duration": 24,
    "start_time": "2022-01-05T07:34:38.235Z"
   },
   {
    "duration": 16,
    "start_time": "2022-01-05T07:34:38.261Z"
   },
   {
    "duration": 469,
    "start_time": "2022-01-05T07:34:38.279Z"
   },
   {
    "duration": 15,
    "start_time": "2022-01-05T07:34:38.750Z"
   },
   {
    "duration": 4,
    "start_time": "2022-01-05T07:34:38.767Z"
   },
   {
    "duration": 6,
    "start_time": "2022-01-05T07:34:38.773Z"
   },
   {
    "duration": 9,
    "start_time": "2022-01-05T07:34:38.781Z"
   },
   {
    "duration": 4,
    "start_time": "2022-01-05T07:34:38.792Z"
   },
   {
    "duration": 11,
    "start_time": "2022-01-05T07:34:38.800Z"
   },
   {
    "duration": 48,
    "start_time": "2022-01-05T07:34:38.814Z"
   },
   {
    "duration": 16,
    "start_time": "2022-01-05T07:34:38.864Z"
   },
   {
    "duration": 18,
    "start_time": "2022-01-05T07:34:38.882Z"
   },
   {
    "duration": 27,
    "start_time": "2022-01-05T07:34:38.902Z"
   },
   {
    "duration": 48,
    "start_time": "2022-01-05T07:34:38.931Z"
   },
   {
    "duration": 18,
    "start_time": "2022-01-05T07:34:38.981Z"
   },
   {
    "duration": 6,
    "start_time": "2022-01-05T07:34:39.001Z"
   },
   {
    "duration": 683,
    "start_time": "2022-01-05T07:34:39.009Z"
   },
   {
    "duration": 4,
    "start_time": "2022-01-05T07:34:39.695Z"
   },
   {
    "duration": 5,
    "start_time": "2022-01-05T07:34:39.701Z"
   },
   {
    "duration": 3653,
    "start_time": "2022-01-05T07:34:39.708Z"
   },
   {
    "duration": 8,
    "start_time": "2022-01-05T07:34:43.363Z"
   },
   {
    "duration": 6,
    "start_time": "2022-01-05T07:34:43.373Z"
   },
   {
    "duration": 12,
    "start_time": "2022-01-05T07:34:43.381Z"
   },
   {
    "duration": 5,
    "start_time": "2022-01-05T07:34:43.395Z"
   },
   {
    "duration": 8,
    "start_time": "2022-01-05T07:34:43.401Z"
   },
   {
    "duration": 59,
    "start_time": "2022-01-05T07:34:43.410Z"
   },
   {
    "duration": 5,
    "start_time": "2022-01-05T07:34:43.471Z"
   },
   {
    "duration": 8,
    "start_time": "2022-01-05T07:34:43.478Z"
   },
   {
    "duration": 8,
    "start_time": "2022-01-05T07:34:43.487Z"
   },
   {
    "duration": 6,
    "start_time": "2022-01-05T07:34:43.497Z"
   },
   {
    "duration": 6,
    "start_time": "2022-01-05T07:34:43.505Z"
   },
   {
    "duration": 10,
    "start_time": "2022-01-05T07:34:43.512Z"
   },
   {
    "duration": 6,
    "start_time": "2022-01-05T07:34:43.524Z"
   },
   {
    "duration": 31,
    "start_time": "2022-01-05T07:34:43.532Z"
   },
   {
    "duration": 21,
    "start_time": "2022-01-05T07:34:43.565Z"
   },
   {
    "duration": 7,
    "start_time": "2022-01-05T07:34:43.588Z"
   },
   {
    "duration": 16,
    "start_time": "2022-01-05T07:34:43.597Z"
   },
   {
    "duration": 47,
    "start_time": "2022-01-05T07:34:43.615Z"
   },
   {
    "duration": 10,
    "start_time": "2022-01-05T07:34:43.663Z"
   },
   {
    "duration": 18,
    "start_time": "2022-01-05T07:34:43.674Z"
   },
   {
    "duration": 3,
    "start_time": "2022-01-05T07:34:43.694Z"
   },
   {
    "duration": 9,
    "start_time": "2022-01-05T07:34:43.699Z"
   },
   {
    "duration": 5,
    "start_time": "2022-01-05T07:34:43.710Z"
   },
   {
    "duration": 86,
    "start_time": "2022-01-05T07:39:30.089Z"
   },
   {
    "duration": 668,
    "start_time": "2022-01-05T07:40:46.957Z"
   },
   {
    "duration": 19,
    "start_time": "2022-01-05T07:40:47.627Z"
   },
   {
    "duration": 16,
    "start_time": "2022-01-05T07:40:47.649Z"
   },
   {
    "duration": 10,
    "start_time": "2022-01-05T07:40:47.667Z"
   },
   {
    "duration": 11,
    "start_time": "2022-01-05T07:40:47.679Z"
   },
   {
    "duration": 4,
    "start_time": "2022-01-05T07:40:47.692Z"
   },
   {
    "duration": 5,
    "start_time": "2022-01-05T07:40:47.698Z"
   },
   {
    "duration": 13,
    "start_time": "2022-01-05T07:40:47.706Z"
   },
   {
    "duration": 16,
    "start_time": "2022-01-05T07:40:47.761Z"
   },
   {
    "duration": 481,
    "start_time": "2022-01-05T07:40:47.780Z"
   },
   {
    "duration": 9,
    "start_time": "2022-01-05T07:40:48.264Z"
   },
   {
    "duration": 11,
    "start_time": "2022-01-05T07:40:48.275Z"
   },
   {
    "duration": 17,
    "start_time": "2022-01-05T07:40:48.288Z"
   },
   {
    "duration": 12,
    "start_time": "2022-01-05T07:40:48.307Z"
   },
   {
    "duration": 1297,
    "start_time": "2022-01-05T07:40:48.321Z"
   },
   {
    "duration": 14,
    "start_time": "2022-01-05T07:40:49.620Z"
   },
   {
    "duration": 8,
    "start_time": "2022-01-05T07:40:49.635Z"
   },
   {
    "duration": 17,
    "start_time": "2022-01-05T07:40:49.645Z"
   },
   {
    "duration": 8,
    "start_time": "2022-01-05T07:40:49.664Z"
   },
   {
    "duration": 8,
    "start_time": "2022-01-05T07:40:49.673Z"
   },
   {
    "duration": 4,
    "start_time": "2022-01-05T07:40:49.683Z"
   },
   {
    "duration": 11,
    "start_time": "2022-01-05T07:40:49.689Z"
   },
   {
    "duration": 4,
    "start_time": "2022-01-05T07:40:49.704Z"
   },
   {
    "duration": 16,
    "start_time": "2022-01-05T07:40:49.710Z"
   },
   {
    "duration": 18,
    "start_time": "2022-01-05T07:40:49.761Z"
   },
   {
    "duration": 27,
    "start_time": "2022-01-05T07:40:49.780Z"
   },
   {
    "duration": 26,
    "start_time": "2022-01-05T07:40:49.809Z"
   },
   {
    "duration": 39,
    "start_time": "2022-01-05T07:40:49.837Z"
   },
   {
    "duration": 7,
    "start_time": "2022-01-05T07:40:49.881Z"
   },
   {
    "duration": 691,
    "start_time": "2022-01-05T07:40:49.890Z"
   },
   {
    "duration": 4,
    "start_time": "2022-01-05T07:40:50.583Z"
   },
   {
    "duration": 5,
    "start_time": "2022-01-05T07:40:50.589Z"
   },
   {
    "duration": 3482,
    "start_time": "2022-01-05T07:40:50.596Z"
   },
   {
    "duration": 7,
    "start_time": "2022-01-05T07:40:54.080Z"
   },
   {
    "duration": 10,
    "start_time": "2022-01-05T07:40:54.088Z"
   },
   {
    "duration": 14,
    "start_time": "2022-01-05T07:40:54.100Z"
   },
   {
    "duration": 5,
    "start_time": "2022-01-05T07:40:54.116Z"
   },
   {
    "duration": 11,
    "start_time": "2022-01-05T07:40:54.123Z"
   },
   {
    "duration": 40,
    "start_time": "2022-01-05T07:40:54.136Z"
   },
   {
    "duration": 4,
    "start_time": "2022-01-05T07:40:54.178Z"
   },
   {
    "duration": 6,
    "start_time": "2022-01-05T07:40:54.184Z"
   },
   {
    "duration": 5,
    "start_time": "2022-01-05T07:40:54.191Z"
   },
   {
    "duration": 5,
    "start_time": "2022-01-05T07:40:54.197Z"
   },
   {
    "duration": 3,
    "start_time": "2022-01-05T07:40:54.204Z"
   },
   {
    "duration": 5,
    "start_time": "2022-01-05T07:40:54.209Z"
   },
   {
    "duration": 5,
    "start_time": "2022-01-05T07:40:54.216Z"
   },
   {
    "duration": 39,
    "start_time": "2022-01-05T07:40:54.223Z"
   },
   {
    "duration": 19,
    "start_time": "2022-01-05T07:40:54.264Z"
   },
   {
    "duration": 8,
    "start_time": "2022-01-05T07:40:54.284Z"
   },
   {
    "duration": 12,
    "start_time": "2022-01-05T07:40:54.293Z"
   },
   {
    "duration": 16,
    "start_time": "2022-01-05T07:40:54.307Z"
   },
   {
    "duration": 41,
    "start_time": "2022-01-05T07:40:54.325Z"
   },
   {
    "duration": 17,
    "start_time": "2022-01-05T07:40:54.368Z"
   },
   {
    "duration": 4,
    "start_time": "2022-01-05T07:40:54.387Z"
   },
   {
    "duration": 6,
    "start_time": "2022-01-05T07:40:54.393Z"
   },
   {
    "duration": 6,
    "start_time": "2022-01-05T07:40:54.401Z"
   },
   {
    "duration": 4,
    "start_time": "2022-01-05T07:44:18.092Z"
   },
   {
    "duration": 12,
    "start_time": "2022-01-05T07:44:19.072Z"
   },
   {
    "duration": 640,
    "start_time": "2022-01-05T07:46:20.421Z"
   },
   {
    "duration": 17,
    "start_time": "2022-01-05T07:46:21.064Z"
   },
   {
    "duration": 31,
    "start_time": "2022-01-05T07:46:21.083Z"
   },
   {
    "duration": 23,
    "start_time": "2022-01-05T07:46:21.116Z"
   },
   {
    "duration": 25,
    "start_time": "2022-01-05T07:46:21.141Z"
   },
   {
    "duration": 25,
    "start_time": "2022-01-05T07:46:21.168Z"
   },
   {
    "duration": 11,
    "start_time": "2022-01-05T07:46:21.195Z"
   },
   {
    "duration": 15,
    "start_time": "2022-01-05T07:46:21.209Z"
   },
   {
    "duration": 19,
    "start_time": "2022-01-05T07:46:21.226Z"
   },
   {
    "duration": 441,
    "start_time": "2022-01-05T07:46:21.246Z"
   },
   {
    "duration": 8,
    "start_time": "2022-01-05T07:46:21.689Z"
   },
   {
    "duration": 25,
    "start_time": "2022-01-05T07:46:21.698Z"
   },
   {
    "duration": 34,
    "start_time": "2022-01-05T07:46:21.725Z"
   },
   {
    "duration": 21,
    "start_time": "2022-01-05T07:46:21.761Z"
   },
   {
    "duration": 1307,
    "start_time": "2022-01-05T07:46:21.784Z"
   },
   {
    "duration": 20,
    "start_time": "2022-01-05T07:46:23.093Z"
   },
   {
    "duration": 19,
    "start_time": "2022-01-05T07:46:23.115Z"
   },
   {
    "duration": 25,
    "start_time": "2022-01-05T07:46:23.136Z"
   },
   {
    "duration": 23,
    "start_time": "2022-01-05T07:46:23.163Z"
   },
   {
    "duration": 28,
    "start_time": "2022-01-05T07:46:23.188Z"
   },
   {
    "duration": 34,
    "start_time": "2022-01-05T07:46:23.218Z"
   },
   {
    "duration": 19,
    "start_time": "2022-01-05T07:46:23.253Z"
   },
   {
    "duration": 22,
    "start_time": "2022-01-05T07:46:23.275Z"
   },
   {
    "duration": 28,
    "start_time": "2022-01-05T07:46:23.300Z"
   },
   {
    "duration": 37,
    "start_time": "2022-01-05T07:46:23.330Z"
   },
   {
    "duration": 26,
    "start_time": "2022-01-05T07:46:23.369Z"
   },
   {
    "duration": 21,
    "start_time": "2022-01-05T07:46:23.397Z"
   },
   {
    "duration": 15,
    "start_time": "2022-01-05T07:46:23.420Z"
   },
   {
    "duration": 25,
    "start_time": "2022-01-05T07:46:23.436Z"
   },
   {
    "duration": 659,
    "start_time": "2022-01-05T07:46:23.463Z"
   },
   {
    "duration": 4,
    "start_time": "2022-01-05T07:46:24.123Z"
   },
   {
    "duration": 14,
    "start_time": "2022-01-05T07:46:24.128Z"
   },
   {
    "duration": 3834,
    "start_time": "2022-01-05T07:46:24.144Z"
   },
   {
    "duration": 7,
    "start_time": "2022-01-05T07:46:27.979Z"
   },
   {
    "duration": 26,
    "start_time": "2022-01-05T07:46:27.988Z"
   },
   {
    "duration": 38,
    "start_time": "2022-01-05T07:46:28.016Z"
   },
   {
    "duration": 27,
    "start_time": "2022-01-05T07:46:28.055Z"
   },
   {
    "duration": 36,
    "start_time": "2022-01-05T07:46:28.083Z"
   },
   {
    "duration": 34,
    "start_time": "2022-01-05T07:46:28.121Z"
   },
   {
    "duration": 5,
    "start_time": "2022-01-05T07:46:28.157Z"
   },
   {
    "duration": 18,
    "start_time": "2022-01-05T07:46:28.163Z"
   },
   {
    "duration": 9,
    "start_time": "2022-01-05T07:46:28.183Z"
   },
   {
    "duration": 13,
    "start_time": "2022-01-05T07:46:28.194Z"
   },
   {
    "duration": 29,
    "start_time": "2022-01-05T07:46:28.209Z"
   },
   {
    "duration": 24,
    "start_time": "2022-01-05T07:46:28.240Z"
   },
   {
    "duration": 25,
    "start_time": "2022-01-05T07:46:28.265Z"
   },
   {
    "duration": 34,
    "start_time": "2022-01-05T07:46:28.291Z"
   },
   {
    "duration": 27,
    "start_time": "2022-01-05T07:46:28.327Z"
   },
   {
    "duration": 7,
    "start_time": "2022-01-05T07:46:28.355Z"
   },
   {
    "duration": 36,
    "start_time": "2022-01-05T07:46:28.364Z"
   },
   {
    "duration": 20,
    "start_time": "2022-01-05T07:46:28.402Z"
   },
   {
    "duration": 15,
    "start_time": "2022-01-05T07:46:28.423Z"
   },
   {
    "duration": 31,
    "start_time": "2022-01-05T07:46:28.439Z"
   },
   {
    "duration": 8,
    "start_time": "2022-01-05T07:46:28.472Z"
   },
   {
    "duration": 12,
    "start_time": "2022-01-05T07:46:28.481Z"
   },
   {
    "duration": 21,
    "start_time": "2022-01-05T07:46:28.495Z"
   },
   {
    "duration": 3,
    "start_time": "2022-01-05T07:56:10.617Z"
   },
   {
    "duration": 4,
    "start_time": "2022-01-05T07:56:12.643Z"
   },
   {
    "duration": 4,
    "start_time": "2022-01-05T07:56:13.392Z"
   },
   {
    "duration": 4,
    "start_time": "2022-01-05T07:56:14.856Z"
   },
   {
    "duration": 3,
    "start_time": "2022-01-05T07:56:18.636Z"
   },
   {
    "duration": 1146,
    "start_time": "2022-01-05T07:57:06.834Z"
   },
   {
    "duration": 14,
    "start_time": "2022-01-05T07:57:13.557Z"
   },
   {
    "duration": 7,
    "start_time": "2022-01-05T07:57:43.250Z"
   },
   {
    "duration": 2,
    "start_time": "2022-01-05T07:58:18.917Z"
   },
   {
    "duration": 4,
    "start_time": "2022-01-05T07:58:20.425Z"
   },
   {
    "duration": 4,
    "start_time": "2022-01-05T07:58:20.798Z"
   },
   {
    "duration": 3,
    "start_time": "2022-01-05T07:58:21.320Z"
   },
   {
    "duration": 16,
    "start_time": "2022-01-05T07:58:23.398Z"
   },
   {
    "duration": 14,
    "start_time": "2022-01-05T07:58:28.832Z"
   },
   {
    "duration": 8,
    "start_time": "2022-01-05T07:58:35.824Z"
   },
   {
    "duration": 3,
    "start_time": "2022-01-05T07:59:35.318Z"
   },
   {
    "duration": 4,
    "start_time": "2022-01-05T07:59:35.912Z"
   },
   {
    "duration": 4,
    "start_time": "2022-01-05T07:59:36.203Z"
   },
   {
    "duration": 3,
    "start_time": "2022-01-05T07:59:36.872Z"
   },
   {
    "duration": 18,
    "start_time": "2022-01-05T07:59:41.547Z"
   },
   {
    "duration": 8,
    "start_time": "2022-01-05T07:59:49.946Z"
   },
   {
    "duration": 18,
    "start_time": "2022-01-05T08:00:40.115Z"
   },
   {
    "duration": 21,
    "start_time": "2022-01-05T08:01:36.244Z"
   },
   {
    "duration": 16,
    "start_time": "2022-01-05T08:01:49.076Z"
   },
   {
    "duration": 8,
    "start_time": "2022-01-05T08:02:21.452Z"
   },
   {
    "duration": 9,
    "start_time": "2022-01-05T08:02:22.834Z"
   },
   {
    "duration": 16,
    "start_time": "2022-01-05T08:02:24.160Z"
   },
   {
    "duration": 21,
    "start_time": "2022-01-05T08:02:29.871Z"
   },
   {
    "duration": 487,
    "start_time": "2022-01-05T08:02:53.832Z"
   },
   {
    "duration": 18,
    "start_time": "2022-01-05T08:03:00.125Z"
   },
   {
    "duration": 18,
    "start_time": "2022-01-05T08:03:10.931Z"
   },
   {
    "duration": 9,
    "start_time": "2022-01-05T08:05:04.979Z"
   },
   {
    "duration": 3347,
    "start_time": "2022-01-05T08:05:21.937Z"
   },
   {
    "duration": 7,
    "start_time": "2022-01-05T08:05:30.964Z"
   },
   {
    "duration": 11,
    "start_time": "2022-01-05T08:05:36.998Z"
   },
   {
    "duration": 20,
    "start_time": "2022-01-05T08:05:37.754Z"
   },
   {
    "duration": 10,
    "start_time": "2022-01-05T08:05:44.027Z"
   },
   {
    "duration": 18,
    "start_time": "2022-01-05T08:05:48.265Z"
   },
   {
    "duration": 10,
    "start_time": "2022-01-05T08:06:07.190Z"
   },
   {
    "duration": 17,
    "start_time": "2022-01-05T08:06:07.868Z"
   },
   {
    "duration": 18,
    "start_time": "2022-01-05T08:06:22.721Z"
   },
   {
    "duration": 7,
    "start_time": "2022-01-05T08:22:44.959Z"
   },
   {
    "duration": 4,
    "start_time": "2022-01-05T08:29:05.608Z"
   },
   {
    "duration": 4,
    "start_time": "2022-01-05T08:29:10.206Z"
   },
   {
    "duration": 4,
    "start_time": "2022-01-05T08:29:16.114Z"
   },
   {
    "duration": 4,
    "start_time": "2022-01-05T08:29:23.968Z"
   },
   {
    "duration": 8,
    "start_time": "2022-01-05T10:08:56.070Z"
   },
   {
    "duration": 6,
    "start_time": "2022-01-05T10:09:03.414Z"
   },
   {
    "duration": 3,
    "start_time": "2022-01-05T10:09:26.980Z"
   },
   {
    "duration": 506,
    "start_time": "2022-01-05T10:09:40.555Z"
   },
   {
    "duration": 3,
    "start_time": "2022-01-05T10:10:58.134Z"
   },
   {
    "duration": 844,
    "start_time": "2022-01-05T10:11:00.399Z"
   },
   {
    "duration": 4,
    "start_time": "2022-01-05T10:11:16.124Z"
   },
   {
    "duration": 493,
    "start_time": "2022-01-05T10:11:17.182Z"
   },
   {
    "duration": 3,
    "start_time": "2022-01-05T10:11:24.824Z"
   },
   {
    "duration": 561,
    "start_time": "2022-01-05T10:11:26.146Z"
   },
   {
    "duration": 4,
    "start_time": "2022-01-05T10:12:13.279Z"
   },
   {
    "duration": 521,
    "start_time": "2022-01-05T10:12:14.385Z"
   },
   {
    "duration": 4,
    "start_time": "2022-01-05T10:12:27.635Z"
   },
   {
    "duration": 499,
    "start_time": "2022-01-05T10:12:28.835Z"
   },
   {
    "duration": 3,
    "start_time": "2022-01-05T10:13:00.558Z"
   },
   {
    "duration": 889,
    "start_time": "2022-01-05T10:13:01.008Z"
   },
   {
    "duration": 83,
    "start_time": "2022-01-05T10:14:09.391Z"
   },
   {
    "duration": 91,
    "start_time": "2022-01-05T10:14:26.880Z"
   },
   {
    "duration": 84,
    "start_time": "2022-01-05T10:14:33.404Z"
   },
   {
    "duration": 103,
    "start_time": "2022-01-05T10:14:46.663Z"
   },
   {
    "duration": 262,
    "start_time": "2022-01-05T10:15:07.356Z"
   },
   {
    "duration": 268,
    "start_time": "2022-01-05T10:15:17.311Z"
   },
   {
    "duration": 4,
    "start_time": "2022-01-05T10:15:26.968Z"
   },
   {
    "duration": 5,
    "start_time": "2022-01-05T10:15:33.837Z"
   },
   {
    "duration": 5,
    "start_time": "2022-01-05T10:15:44.922Z"
   },
   {
    "duration": 268,
    "start_time": "2022-01-05T10:15:56.097Z"
   },
   {
    "duration": 3,
    "start_time": "2022-01-05T10:16:03.050Z"
   },
   {
    "duration": 6779,
    "start_time": "2022-01-05T10:16:09.119Z"
   },
   {
    "duration": 3,
    "start_time": "2022-01-05T10:16:25.682Z"
   },
   {
    "duration": 7738,
    "start_time": "2022-01-05T10:16:31.462Z"
   },
   {
    "duration": 4,
    "start_time": "2022-01-05T10:17:28.009Z"
   },
   {
    "duration": 7270,
    "start_time": "2022-01-05T10:17:28.423Z"
   },
   {
    "duration": 316,
    "start_time": "2022-01-05T10:17:55.605Z"
   },
   {
    "duration": 6135,
    "start_time": "2022-01-05T10:18:06.629Z"
   },
   {
    "duration": 6571,
    "start_time": "2022-01-05T10:18:20.853Z"
   },
   {
    "duration": -1173,
    "start_time": "2022-01-05T10:18:28.599Z"
   },
   {
    "duration": 8,
    "start_time": "2022-01-05T10:18:31.220Z"
   },
   {
    "duration": 7211,
    "start_time": "2022-01-05T10:18:39.754Z"
   },
   {
    "duration": 6314,
    "start_time": "2022-01-05T10:19:01.227Z"
   },
   {
    "duration": 6605,
    "start_time": "2022-01-05T10:19:35.224Z"
   },
   {
    "duration": 7,
    "start_time": "2022-01-05T10:19:45.118Z"
   },
   {
    "duration": 6,
    "start_time": "2022-01-05T10:19:53.356Z"
   },
   {
    "duration": 7,
    "start_time": "2022-01-05T10:20:17.442Z"
   },
   {
    "duration": 5,
    "start_time": "2022-01-05T10:20:44.123Z"
   },
   {
    "duration": 5,
    "start_time": "2022-01-05T10:20:48.333Z"
   },
   {
    "duration": 4,
    "start_time": "2022-01-05T10:20:53.055Z"
   },
   {
    "duration": 8,
    "start_time": "2022-01-05T10:20:56.740Z"
   },
   {
    "duration": 3,
    "start_time": "2022-01-05T10:21:21.014Z"
   },
   {
    "duration": 8,
    "start_time": "2022-01-05T10:21:24.937Z"
   },
   {
    "duration": 91,
    "start_time": "2022-01-05T10:22:44.428Z"
   },
   {
    "duration": 4,
    "start_time": "2022-01-05T10:22:48.717Z"
   },
   {
    "duration": 8,
    "start_time": "2022-01-05T10:22:50.593Z"
   },
   {
    "duration": 3,
    "start_time": "2022-01-05T10:23:18.576Z"
   },
   {
    "duration": 7,
    "start_time": "2022-01-05T10:23:19.382Z"
   },
   {
    "duration": 4,
    "start_time": "2022-01-05T10:24:34.450Z"
   },
   {
    "duration": 3,
    "start_time": "2022-01-05T10:24:35.036Z"
   },
   {
    "duration": 8,
    "start_time": "2022-01-05T10:24:46.587Z"
   },
   {
    "duration": 8,
    "start_time": "2022-01-05T10:25:25.541Z"
   },
   {
    "duration": 4,
    "start_time": "2022-01-05T10:25:36.041Z"
   },
   {
    "duration": 11,
    "start_time": "2022-01-05T10:25:36.794Z"
   },
   {
    "duration": 4,
    "start_time": "2022-01-05T10:25:56.252Z"
   },
   {
    "duration": 9,
    "start_time": "2022-01-05T10:25:57.145Z"
   },
   {
    "duration": 5,
    "start_time": "2022-01-05T10:27:35.460Z"
   },
   {
    "duration": 7,
    "start_time": "2022-01-05T10:27:45.664Z"
   },
   {
    "duration": 257,
    "start_time": "2022-01-05T10:28:55.559Z"
   },
   {
    "duration": 14,
    "start_time": "2022-01-05T10:29:02.832Z"
   },
   {
    "duration": 5,
    "start_time": "2022-01-05T10:30:22.668Z"
   },
   {
    "duration": 3,
    "start_time": "2022-01-05T10:30:54.443Z"
   },
   {
    "duration": 9,
    "start_time": "2022-01-05T10:31:01.714Z"
   },
   {
    "duration": 88,
    "start_time": "2022-01-05T10:31:24.522Z"
   },
   {
    "duration": 4,
    "start_time": "2022-01-05T10:32:15.204Z"
   },
   {
    "duration": 10,
    "start_time": "2022-01-05T10:32:16.241Z"
   },
   {
    "duration": 4,
    "start_time": "2022-01-05T10:32:25.182Z"
   },
   {
    "duration": 9,
    "start_time": "2022-01-05T10:32:25.604Z"
   },
   {
    "duration": 4,
    "start_time": "2022-01-05T10:32:30.301Z"
   },
   {
    "duration": 11,
    "start_time": "2022-01-05T10:32:30.764Z"
   },
   {
    "duration": 4,
    "start_time": "2022-01-05T10:32:34.144Z"
   },
   {
    "duration": 10,
    "start_time": "2022-01-05T10:32:35.054Z"
   },
   {
    "duration": 4,
    "start_time": "2022-01-05T10:33:24.347Z"
   },
   {
    "duration": 11,
    "start_time": "2022-01-05T10:33:24.961Z"
   },
   {
    "duration": 3,
    "start_time": "2022-01-05T10:33:34.901Z"
   },
   {
    "duration": 9,
    "start_time": "2022-01-05T10:33:35.347Z"
   },
   {
    "duration": 4,
    "start_time": "2022-01-05T10:33:49.859Z"
   },
   {
    "duration": 10,
    "start_time": "2022-01-05T10:33:50.258Z"
   },
   {
    "duration": 104,
    "start_time": "2022-01-05T10:34:01.778Z"
   },
   {
    "duration": 92,
    "start_time": "2022-01-05T10:34:09.836Z"
   },
   {
    "duration": 11,
    "start_time": "2022-01-05T10:34:15.154Z"
   },
   {
    "duration": 87,
    "start_time": "2022-01-05T10:34:20.981Z"
   },
   {
    "duration": 10,
    "start_time": "2022-01-05T10:35:03.896Z"
   },
   {
    "duration": 4,
    "start_time": "2022-01-05T10:35:19.617Z"
   },
   {
    "duration": 10,
    "start_time": "2022-01-05T10:35:20.932Z"
   },
   {
    "duration": 3,
    "start_time": "2022-01-05T10:35:27.256Z"
   },
   {
    "duration": 9,
    "start_time": "2022-01-05T10:35:27.744Z"
   },
   {
    "duration": 4,
    "start_time": "2022-01-05T10:35:32.706Z"
   },
   {
    "duration": 9,
    "start_time": "2022-01-05T10:35:32.921Z"
   },
   {
    "duration": 4,
    "start_time": "2022-01-05T10:35:37.530Z"
   },
   {
    "duration": 9,
    "start_time": "2022-01-05T10:35:37.912Z"
   },
   {
    "duration": 4,
    "start_time": "2022-01-05T10:35:49.085Z"
   },
   {
    "duration": 9,
    "start_time": "2022-01-05T10:35:49.606Z"
   },
   {
    "duration": 4,
    "start_time": "2022-01-05T10:36:04.759Z"
   },
   {
    "duration": 11,
    "start_time": "2022-01-05T10:36:04.956Z"
   },
   {
    "duration": 4,
    "start_time": "2022-01-05T10:36:16.678Z"
   },
   {
    "duration": 9,
    "start_time": "2022-01-05T10:36:17.219Z"
   },
   {
    "duration": 4,
    "start_time": "2022-01-05T10:36:41.672Z"
   },
   {
    "duration": 10,
    "start_time": "2022-01-05T10:36:42.119Z"
   },
   {
    "duration": 4,
    "start_time": "2022-01-05T10:36:50.483Z"
   },
   {
    "duration": 9,
    "start_time": "2022-01-05T10:36:50.869Z"
   },
   {
    "duration": 9,
    "start_time": "2022-01-05T10:36:56.817Z"
   },
   {
    "duration": 4,
    "start_time": "2022-01-05T10:37:34.964Z"
   },
   {
    "duration": 4,
    "start_time": "2022-01-05T10:37:44.774Z"
   },
   {
    "duration": 5,
    "start_time": "2022-01-05T10:38:01.395Z"
   },
   {
    "duration": 5,
    "start_time": "2022-01-05T10:38:56.403Z"
   },
   {
    "duration": 5,
    "start_time": "2022-01-05T10:39:10.075Z"
   },
   {
    "duration": 4,
    "start_time": "2022-01-05T10:39:23.753Z"
   },
   {
    "duration": 12,
    "start_time": "2022-01-05T10:39:24.178Z"
   },
   {
    "duration": 298,
    "start_time": "2022-01-05T10:50:30.058Z"
   },
   {
    "duration": 4,
    "start_time": "2022-01-05T10:50:40.733Z"
   },
   {
    "duration": 4,
    "start_time": "2022-01-05T10:50:50.223Z"
   },
   {
    "duration": 256,
    "start_time": "2022-01-05T10:51:47.772Z"
   },
   {
    "duration": 322,
    "start_time": "2022-01-05T10:52:01.066Z"
   },
   {
    "duration": 10418,
    "start_time": "2022-01-05T10:52:10.107Z"
   },
   {
    "duration": 5,
    "start_time": "2022-01-05T10:52:36.654Z"
   },
   {
    "duration": 5,
    "start_time": "2022-01-05T10:52:48.184Z"
   },
   {
    "duration": 6,
    "start_time": "2022-01-05T10:52:56.644Z"
   },
   {
    "duration": 5,
    "start_time": "2022-01-05T10:53:05.573Z"
   },
   {
    "duration": 639,
    "start_time": "2022-01-05T10:53:33.138Z"
   },
   {
    "duration": -1157,
    "start_time": "2022-01-05T10:53:34.937Z"
   },
   {
    "duration": 4,
    "start_time": "2022-01-05T10:54:32.888Z"
   },
   {
    "duration": 5,
    "start_time": "2022-01-05T10:54:45.090Z"
   },
   {
    "duration": 699,
    "start_time": "2022-01-05T10:55:00.553Z"
   },
   {
    "duration": 3,
    "start_time": "2022-01-05T10:55:24.883Z"
   },
   {
    "duration": 10,
    "start_time": "2022-01-05T10:55:26.894Z"
   },
   {
    "duration": 4,
    "start_time": "2022-01-05T10:56:29.496Z"
   },
   {
    "duration": 6856,
    "start_time": "2022-01-05T10:56:30.657Z"
   },
   {
    "duration": 4,
    "start_time": "2022-01-05T10:56:49.304Z"
   },
   {
    "duration": 10,
    "start_time": "2022-01-05T10:56:54.876Z"
   },
   {
    "duration": 5,
    "start_time": "2022-01-05T10:57:29.567Z"
   },
   {
    "duration": 8,
    "start_time": "2022-01-05T10:57:30.498Z"
   },
   {
    "duration": 5070,
    "start_time": "2022-01-05T10:58:44.503Z"
   },
   {
    "duration": 4787,
    "start_time": "2022-01-05T10:58:54.516Z"
   },
   {
    "duration": 5,
    "start_time": "2022-01-05T11:00:53.481Z"
   },
   {
    "duration": 4,
    "start_time": "2022-01-05T11:01:08.118Z"
   },
   {
    "duration": 241,
    "start_time": "2022-01-05T11:01:16.893Z"
   },
   {
    "duration": 5,
    "start_time": "2022-01-05T11:02:02.624Z"
   },
   {
    "duration": 5,
    "start_time": "2022-01-05T11:02:11.207Z"
   },
   {
    "duration": 6,
    "start_time": "2022-01-05T11:02:17.020Z"
   },
   {
    "duration": 4,
    "start_time": "2022-01-05T11:02:32.960Z"
   },
   {
    "duration": 6,
    "start_time": "2022-01-05T11:02:34.345Z"
   },
   {
    "duration": 10,
    "start_time": "2022-01-05T11:02:34.915Z"
   },
   {
    "duration": 4,
    "start_time": "2022-01-05T11:03:27.537Z"
   },
   {
    "duration": 5,
    "start_time": "2022-01-05T11:03:28.332Z"
   },
   {
    "duration": 9,
    "start_time": "2022-01-05T11:03:29.987Z"
   },
   {
    "duration": 3,
    "start_time": "2022-01-05T11:09:12.160Z"
   },
   {
    "duration": 5,
    "start_time": "2022-01-05T11:09:12.697Z"
   },
   {
    "duration": 8,
    "start_time": "2022-01-05T11:09:13.238Z"
   },
   {
    "duration": 4,
    "start_time": "2022-01-05T11:09:43.212Z"
   },
   {
    "duration": 4,
    "start_time": "2022-01-05T11:09:43.580Z"
   },
   {
    "duration": 12,
    "start_time": "2022-01-05T11:09:45.002Z"
   },
   {
    "duration": 85,
    "start_time": "2022-01-05T11:11:41.853Z"
   },
   {
    "duration": 5,
    "start_time": "2022-01-05T11:11:42.261Z"
   },
   {
    "duration": 10,
    "start_time": "2022-01-05T11:11:43.225Z"
   },
   {
    "duration": 96,
    "start_time": "2022-01-05T11:12:03.992Z"
   },
   {
    "duration": 6,
    "start_time": "2022-01-05T11:12:09.588Z"
   },
   {
    "duration": 5,
    "start_time": "2022-01-05T11:12:10.392Z"
   },
   {
    "duration": 10,
    "start_time": "2022-01-05T11:12:10.876Z"
   },
   {
    "duration": 4,
    "start_time": "2022-01-05T11:13:01.094Z"
   },
   {
    "duration": 5,
    "start_time": "2022-01-05T11:13:01.777Z"
   },
   {
    "duration": 10,
    "start_time": "2022-01-05T11:13:02.077Z"
   },
   {
    "duration": 4,
    "start_time": "2022-01-05T11:14:07.810Z"
   },
   {
    "duration": 5,
    "start_time": "2022-01-05T11:14:09.251Z"
   },
   {
    "duration": 480,
    "start_time": "2022-01-05T11:14:10.170Z"
   },
   {
    "duration": 4,
    "start_time": "2022-01-05T11:14:41.131Z"
   },
   {
    "duration": 5,
    "start_time": "2022-01-05T11:14:42.138Z"
   },
   {
    "duration": 9,
    "start_time": "2022-01-05T11:14:42.316Z"
   },
   {
    "duration": 112,
    "start_time": "2022-01-05T11:16:25.184Z"
   },
   {
    "duration": 5,
    "start_time": "2022-01-05T11:17:45.290Z"
   },
   {
    "duration": 5,
    "start_time": "2022-01-05T11:17:46.174Z"
   },
   {
    "duration": 11,
    "start_time": "2022-01-05T11:17:46.683Z"
   },
   {
    "duration": 4,
    "start_time": "2022-01-05T11:17:53.833Z"
   },
   {
    "duration": 4,
    "start_time": "2022-01-05T11:17:54.431Z"
   },
   {
    "duration": 514,
    "start_time": "2022-01-05T11:17:54.829Z"
   },
   {
    "duration": 4,
    "start_time": "2022-01-05T11:18:11.513Z"
   },
   {
    "duration": 4,
    "start_time": "2022-01-05T11:18:12.230Z"
   },
   {
    "duration": 12,
    "start_time": "2022-01-05T11:18:12.488Z"
   },
   {
    "duration": 5,
    "start_time": "2022-01-05T11:18:16.666Z"
   },
   {
    "duration": 4,
    "start_time": "2022-01-05T11:18:17.043Z"
   },
   {
    "duration": 13,
    "start_time": "2022-01-05T11:18:17.429Z"
   },
   {
    "duration": 4,
    "start_time": "2022-01-05T11:18:30.941Z"
   },
   {
    "duration": 5,
    "start_time": "2022-01-05T11:18:31.379Z"
   },
   {
    "duration": 11,
    "start_time": "2022-01-05T11:18:31.941Z"
   },
   {
    "duration": 4,
    "start_time": "2022-01-05T11:19:22.470Z"
   },
   {
    "duration": 5,
    "start_time": "2022-01-05T11:19:23.011Z"
   },
   {
    "duration": 482,
    "start_time": "2022-01-05T11:19:23.466Z"
   },
   {
    "duration": 4,
    "start_time": "2022-01-05T11:19:35.981Z"
   },
   {
    "duration": 5,
    "start_time": "2022-01-05T11:19:36.554Z"
   },
   {
    "duration": 9,
    "start_time": "2022-01-05T11:19:37.018Z"
   },
   {
    "duration": 4,
    "start_time": "2022-01-05T11:19:53.460Z"
   },
   {
    "duration": 19,
    "start_time": "2022-01-05T11:19:53.467Z"
   },
   {
    "duration": 11,
    "start_time": "2022-01-05T11:19:53.488Z"
   },
   {
    "duration": 4,
    "start_time": "2022-01-05T11:20:13.826Z"
   },
   {
    "duration": 4,
    "start_time": "2022-01-05T11:20:14.453Z"
   },
   {
    "duration": 10,
    "start_time": "2022-01-05T11:20:14.956Z"
   },
   {
    "duration": 127,
    "start_time": "2022-01-05T11:21:28.193Z"
   },
   {
    "duration": 83,
    "start_time": "2022-01-05T11:21:42.753Z"
   },
   {
    "duration": 135,
    "start_time": "2022-01-05T11:21:53.051Z"
   },
   {
    "duration": 92,
    "start_time": "2022-01-05T11:21:57.770Z"
   },
   {
    "duration": 79,
    "start_time": "2022-01-05T11:22:07.592Z"
   },
   {
    "duration": 4,
    "start_time": "2022-01-05T11:22:11.275Z"
   },
   {
    "duration": 4,
    "start_time": "2022-01-05T11:22:13.021Z"
   },
   {
    "duration": 11,
    "start_time": "2022-01-05T11:22:13.484Z"
   },
   {
    "duration": 5,
    "start_time": "2022-01-05T11:23:41.022Z"
   },
   {
    "duration": 5,
    "start_time": "2022-01-05T11:23:41.562Z"
   },
   {
    "duration": 12,
    "start_time": "2022-01-05T11:23:41.796Z"
   },
   {
    "duration": 6,
    "start_time": "2022-01-05T11:23:53.130Z"
   },
   {
    "duration": 14,
    "start_time": "2022-01-05T11:23:53.138Z"
   },
   {
    "duration": 10,
    "start_time": "2022-01-05T11:23:53.637Z"
   },
   {
    "duration": 4,
    "start_time": "2022-01-05T11:24:08.422Z"
   },
   {
    "duration": 5,
    "start_time": "2022-01-05T11:24:08.848Z"
   },
   {
    "duration": 12,
    "start_time": "2022-01-05T11:24:09.222Z"
   },
   {
    "duration": 5,
    "start_time": "2022-01-05T11:25:17.686Z"
   },
   {
    "duration": 4,
    "start_time": "2022-01-05T11:25:18.533Z"
   },
   {
    "duration": 11,
    "start_time": "2022-01-05T11:25:19.087Z"
   },
   {
    "duration": 5,
    "start_time": "2022-01-05T11:25:32.804Z"
   },
   {
    "duration": 5,
    "start_time": "2022-01-05T11:25:33.290Z"
   },
   {
    "duration": 10,
    "start_time": "2022-01-05T11:25:33.587Z"
   },
   {
    "duration": 5,
    "start_time": "2022-01-05T11:25:49.165Z"
   },
   {
    "duration": 5,
    "start_time": "2022-01-05T11:25:49.710Z"
   },
   {
    "duration": 16,
    "start_time": "2022-01-05T11:25:49.993Z"
   },
   {
    "duration": 5,
    "start_time": "2022-01-05T11:27:43.308Z"
   },
   {
    "duration": 4,
    "start_time": "2022-01-05T11:27:43.720Z"
   },
   {
    "duration": 14,
    "start_time": "2022-01-05T11:27:43.931Z"
   },
   {
    "duration": 96,
    "start_time": "2022-01-05T11:28:23.364Z"
   },
   {
    "duration": 5,
    "start_time": "2022-01-05T11:28:30.102Z"
   },
   {
    "duration": 5,
    "start_time": "2022-01-05T11:28:30.888Z"
   },
   {
    "duration": 13,
    "start_time": "2022-01-05T11:28:31.126Z"
   },
   {
    "duration": 6,
    "start_time": "2022-01-05T11:28:36.761Z"
   },
   {
    "duration": 4,
    "start_time": "2022-01-05T11:28:37.195Z"
   },
   {
    "duration": 15,
    "start_time": "2022-01-05T11:28:37.740Z"
   },
   {
    "duration": 5,
    "start_time": "2022-01-05T11:29:41.777Z"
   },
   {
    "duration": 5,
    "start_time": "2022-01-05T11:29:42.248Z"
   },
   {
    "duration": 12,
    "start_time": "2022-01-05T11:29:42.723Z"
   },
   {
    "duration": 464,
    "start_time": "2022-01-05T11:33:33.876Z"
   },
   {
    "duration": 296,
    "start_time": "2022-01-05T11:39:07.018Z"
   },
   {
    "duration": 329,
    "start_time": "2022-01-05T11:39:16.099Z"
   },
   {
    "duration": 246,
    "start_time": "2022-01-05T11:39:40.043Z"
   },
   {
    "duration": 262,
    "start_time": "2022-01-05T11:41:51.356Z"
   },
   {
    "duration": 326,
    "start_time": "2022-01-05T11:43:01.838Z"
   },
   {
    "duration": 4,
    "start_time": "2022-01-05T11:45:43.308Z"
   },
   {
    "duration": 9,
    "start_time": "2022-01-05T11:45:47.670Z"
   },
   {
    "duration": 9,
    "start_time": "2022-01-05T11:46:41.273Z"
   },
   {
    "duration": 644,
    "start_time": "2022-01-05T11:47:50.652Z"
   },
   {
    "duration": 11,
    "start_time": "2022-01-05T11:48:04.285Z"
   },
   {
    "duration": 238,
    "start_time": "2022-01-05T11:48:43.920Z"
   },
   {
    "duration": 6,
    "start_time": "2022-01-05T11:48:56.607Z"
   },
   {
    "duration": 10,
    "start_time": "2022-01-05T11:49:07.140Z"
   },
   {
    "duration": 10,
    "start_time": "2022-01-05T11:51:32.463Z"
   },
   {
    "duration": 267,
    "start_time": "2022-01-05T12:04:57.641Z"
   },
   {
    "duration": 3,
    "start_time": "2022-01-05T12:05:03.032Z"
   },
   {
    "duration": 8,
    "start_time": "2022-01-05T12:05:04.397Z"
   },
   {
    "duration": 6,
    "start_time": "2022-01-05T12:05:37.476Z"
   },
   {
    "duration": 7,
    "start_time": "2022-01-05T12:05:38.048Z"
   },
   {
    "duration": 3,
    "start_time": "2022-01-05T12:06:31.210Z"
   },
   {
    "duration": 6,
    "start_time": "2022-01-05T12:06:31.603Z"
   },
   {
    "duration": 3,
    "start_time": "2022-01-05T12:06:39.005Z"
   },
   {
    "duration": 8,
    "start_time": "2022-01-05T12:06:39.431Z"
   },
   {
    "duration": 4,
    "start_time": "2022-01-05T12:07:04.009Z"
   },
   {
    "duration": 8,
    "start_time": "2022-01-05T12:07:05.132Z"
   },
   {
    "duration": 6,
    "start_time": "2022-01-05T12:07:09.763Z"
   },
   {
    "duration": 7,
    "start_time": "2022-01-05T12:07:10.300Z"
   },
   {
    "duration": 3,
    "start_time": "2022-01-05T12:07:16.928Z"
   },
   {
    "duration": 7,
    "start_time": "2022-01-05T12:07:17.422Z"
   },
   {
    "duration": 4,
    "start_time": "2022-01-05T12:07:21.952Z"
   },
   {
    "duration": 9,
    "start_time": "2022-01-05T12:07:22.375Z"
   },
   {
    "duration": 4,
    "start_time": "2022-01-05T12:07:45.744Z"
   },
   {
    "duration": 8,
    "start_time": "2022-01-05T12:07:47.210Z"
   },
   {
    "duration": 3,
    "start_time": "2022-01-05T12:09:14.372Z"
   },
   {
    "duration": 13,
    "start_time": "2022-01-05T12:09:14.793Z"
   },
   {
    "duration": 427,
    "start_time": "2022-01-05T12:14:38.915Z"
   },
   {
    "duration": 836,
    "start_time": "2022-01-06T04:27:04.620Z"
   },
   {
    "duration": 28,
    "start_time": "2022-01-06T04:27:05.459Z"
   },
   {
    "duration": 17,
    "start_time": "2022-01-06T04:27:05.490Z"
   },
   {
    "duration": 14,
    "start_time": "2022-01-06T04:27:05.509Z"
   },
   {
    "duration": 47,
    "start_time": "2022-01-06T04:27:05.526Z"
   },
   {
    "duration": 5,
    "start_time": "2022-01-06T04:27:05.576Z"
   },
   {
    "duration": 4,
    "start_time": "2022-01-06T04:27:05.583Z"
   },
   {
    "duration": 20,
    "start_time": "2022-01-06T04:27:05.591Z"
   },
   {
    "duration": 52,
    "start_time": "2022-01-06T04:27:05.614Z"
   },
   {
    "duration": 871,
    "start_time": "2022-01-06T04:27:05.669Z"
   },
   {
    "duration": 28,
    "start_time": "2022-01-06T04:27:06.542Z"
   },
   {
    "duration": 15,
    "start_time": "2022-01-06T04:27:06.572Z"
   },
   {
    "duration": 12,
    "start_time": "2022-01-06T04:27:06.589Z"
   },
   {
    "duration": 6,
    "start_time": "2022-01-06T04:27:06.603Z"
   },
   {
    "duration": 2342,
    "start_time": "2022-01-06T04:27:06.612Z"
   },
   {
    "duration": 24,
    "start_time": "2022-01-06T04:27:08.957Z"
   },
   {
    "duration": 10,
    "start_time": "2022-01-06T04:27:08.984Z"
   },
   {
    "duration": 6,
    "start_time": "2022-01-06T04:27:08.997Z"
   },
   {
    "duration": 10,
    "start_time": "2022-01-06T04:27:09.006Z"
   },
   {
    "duration": 15,
    "start_time": "2022-01-06T04:27:09.064Z"
   },
   {
    "duration": 8,
    "start_time": "2022-01-06T04:27:09.082Z"
   },
   {
    "duration": 19,
    "start_time": "2022-01-06T04:27:09.092Z"
   },
   {
    "duration": 10,
    "start_time": "2022-01-06T04:27:09.164Z"
   },
   {
    "duration": 23,
    "start_time": "2022-01-06T04:27:09.178Z"
   },
   {
    "duration": 60,
    "start_time": "2022-01-06T04:27:09.203Z"
   },
   {
    "duration": 44,
    "start_time": "2022-01-06T04:27:09.265Z"
   },
   {
    "duration": 57,
    "start_time": "2022-01-06T04:27:09.311Z"
   },
   {
    "duration": 24,
    "start_time": "2022-01-06T04:27:09.371Z"
   },
   {
    "duration": 8,
    "start_time": "2022-01-06T04:27:09.398Z"
   },
   {
    "duration": 986,
    "start_time": "2022-01-06T04:27:09.408Z"
   },
   {
    "duration": 4,
    "start_time": "2022-01-06T04:27:10.397Z"
   },
   {
    "duration": 8,
    "start_time": "2022-01-06T04:27:10.403Z"
   },
   {
    "duration": 4692,
    "start_time": "2022-01-06T04:27:10.413Z"
   },
   {
    "duration": 10,
    "start_time": "2022-01-06T04:27:15.107Z"
   },
   {
    "duration": 22,
    "start_time": "2022-01-06T04:27:15.119Z"
   },
   {
    "duration": 43,
    "start_time": "2022-01-06T04:27:15.143Z"
   },
   {
    "duration": 4,
    "start_time": "2022-01-06T04:27:15.188Z"
   },
   {
    "duration": 11,
    "start_time": "2022-01-06T04:27:15.194Z"
   },
   {
    "duration": 6,
    "start_time": "2022-01-06T04:27:15.207Z"
   },
   {
    "duration": 5,
    "start_time": "2022-01-06T04:27:15.216Z"
   },
   {
    "duration": 63,
    "start_time": "2022-01-06T04:27:15.223Z"
   },
   {
    "duration": 9,
    "start_time": "2022-01-06T04:27:15.289Z"
   },
   {
    "duration": 15,
    "start_time": "2022-01-06T04:27:15.300Z"
   },
   {
    "duration": 56,
    "start_time": "2022-01-06T04:27:15.317Z"
   },
   {
    "duration": 12,
    "start_time": "2022-01-06T04:27:15.375Z"
   },
   {
    "duration": 26,
    "start_time": "2022-01-06T04:27:15.389Z"
   },
   {
    "duration": 8,
    "start_time": "2022-01-06T04:27:15.417Z"
   },
   {
    "duration": 42,
    "start_time": "2022-01-06T04:27:15.428Z"
   },
   {
    "duration": 12,
    "start_time": "2022-01-06T04:27:15.472Z"
   },
   {
    "duration": 16,
    "start_time": "2022-01-06T04:27:15.486Z"
   },
   {
    "duration": 7,
    "start_time": "2022-01-06T04:27:15.505Z"
   },
   {
    "duration": 13,
    "start_time": "2022-01-06T04:27:15.514Z"
   },
   {
    "duration": 47,
    "start_time": "2022-01-06T04:27:15.529Z"
   },
   {
    "duration": 19,
    "start_time": "2022-01-06T04:27:15.579Z"
   },
   {
    "duration": 388,
    "start_time": "2022-01-06T04:27:15.600Z"
   },
   {
    "duration": 4,
    "start_time": "2022-01-06T05:57:41.754Z"
   },
   {
    "duration": 6,
    "start_time": "2022-01-06T06:04:50.214Z"
   },
   {
    "duration": 16,
    "start_time": "2022-01-06T06:04:53.031Z"
   },
   {
    "duration": 19,
    "start_time": "2022-01-06T06:05:27.589Z"
   },
   {
    "duration": 12,
    "start_time": "2022-01-06T06:05:47.743Z"
   },
   {
    "duration": 38,
    "start_time": "2022-01-06T06:06:14.228Z"
   },
   {
    "duration": 9,
    "start_time": "2022-01-06T06:07:22.689Z"
   },
   {
    "duration": 317,
    "start_time": "2022-01-06T06:07:44.866Z"
   },
   {
    "duration": 10,
    "start_time": "2022-01-06T06:07:50.739Z"
   },
   {
    "duration": 11,
    "start_time": "2022-01-06T06:08:01.186Z"
   },
   {
    "duration": 10,
    "start_time": "2022-01-06T06:08:18.653Z"
   },
   {
    "duration": 9,
    "start_time": "2022-01-06T07:10:17.008Z"
   },
   {
    "duration": 6,
    "start_time": "2022-01-06T07:10:25.097Z"
   },
   {
    "duration": 7,
    "start_time": "2022-01-06T07:10:29.346Z"
   },
   {
    "duration": 6,
    "start_time": "2022-01-06T07:10:33.958Z"
   },
   {
    "duration": 306,
    "start_time": "2022-01-06T07:15:40.543Z"
   },
   {
    "duration": 312,
    "start_time": "2022-01-06T07:16:01.127Z"
   },
   {
    "duration": 6,
    "start_time": "2022-01-06T07:16:08.242Z"
   },
   {
    "duration": 6,
    "start_time": "2022-01-06T07:16:47.208Z"
   },
   {
    "duration": 6,
    "start_time": "2022-01-06T07:16:53.203Z"
   },
   {
    "duration": 308,
    "start_time": "2022-01-06T07:21:52.735Z"
   },
   {
    "duration": 4,
    "start_time": "2022-01-06T07:21:59.351Z"
   },
   {
    "duration": 5,
    "start_time": "2022-01-06T07:21:59.783Z"
   },
   {
    "duration": 10,
    "start_time": "2022-01-06T07:22:03.406Z"
   },
   {
    "duration": 153,
    "start_time": "2022-01-06T07:22:52.305Z"
   },
   {
    "duration": 400,
    "start_time": "2022-01-06T07:22:56.590Z"
   },
   {
    "duration": 8178,
    "start_time": "2022-01-06T07:23:11.082Z"
   },
   {
    "duration": 5,
    "start_time": "2022-01-06T07:25:26.976Z"
   },
   {
    "duration": 5305,
    "start_time": "2022-01-06T07:26:23.270Z"
   },
   {
    "duration": 7,
    "start_time": "2022-01-06T07:27:13.454Z"
   },
   {
    "duration": 3,
    "start_time": "2022-01-06T07:28:54.952Z"
   },
   {
    "duration": 9,
    "start_time": "2022-01-06T07:28:55.993Z"
   },
   {
    "duration": 13,
    "start_time": "2022-01-06T07:29:02.618Z"
   },
   {
    "duration": 19,
    "start_time": "2022-01-06T07:30:34.855Z"
   },
   {
    "duration": 17,
    "start_time": "2022-01-06T07:32:06.739Z"
   },
   {
    "duration": 292,
    "start_time": "2022-01-06T07:32:23.977Z"
   },
   {
    "duration": 7345,
    "start_time": "2022-01-06T07:32:30.557Z"
   },
   {
    "duration": 293,
    "start_time": "2022-01-06T07:32:59.670Z"
   },
   {
    "duration": 311,
    "start_time": "2022-01-06T07:34:20.367Z"
   },
   {
    "duration": 4,
    "start_time": "2022-01-06T07:34:26.683Z"
   },
   {
    "duration": 4,
    "start_time": "2022-01-06T07:34:27.072Z"
   },
   {
    "duration": 16,
    "start_time": "2022-01-06T07:34:27.478Z"
   },
   {
    "duration": 286,
    "start_time": "2022-01-06T07:35:05.104Z"
   },
   {
    "duration": 315,
    "start_time": "2022-01-06T07:35:21.784Z"
   },
   {
    "duration": 17,
    "start_time": "2022-01-06T07:35:25.567Z"
   },
   {
    "duration": 6,
    "start_time": "2022-01-06T07:35:51.566Z"
   },
   {
    "duration": 19,
    "start_time": "2022-01-06T07:35:52.075Z"
   },
   {
    "duration": 8,
    "start_time": "2022-01-06T07:36:05.365Z"
   },
   {
    "duration": 18,
    "start_time": "2022-01-06T07:36:05.832Z"
   },
   {
    "duration": 6,
    "start_time": "2022-01-06T07:37:27.502Z"
   },
   {
    "duration": 580,
    "start_time": "2022-01-06T07:37:40.830Z"
   },
   {
    "duration": 6,
    "start_time": "2022-01-06T07:37:54.238Z"
   },
   {
    "duration": 7,
    "start_time": "2022-01-06T07:37:58.033Z"
   },
   {
    "duration": 6,
    "start_time": "2022-01-06T07:38:23.596Z"
   },
   {
    "duration": 634,
    "start_time": "2022-01-06T07:38:24.013Z"
   },
   {
    "duration": 6,
    "start_time": "2022-01-06T07:38:37.014Z"
   },
   {
    "duration": 22,
    "start_time": "2022-01-06T07:38:37.617Z"
   },
   {
    "duration": 100,
    "start_time": "2022-01-06T07:39:51.953Z"
   },
   {
    "duration": 138,
    "start_time": "2022-01-06T07:40:30.338Z"
   },
   {
    "duration": 5,
    "start_time": "2022-01-06T07:40:52.604Z"
   },
   {
    "duration": 623,
    "start_time": "2022-01-06T07:40:53.752Z"
   },
   {
    "duration": 6,
    "start_time": "2022-01-06T07:41:15.311Z"
   },
   {
    "duration": 602,
    "start_time": "2022-01-06T07:41:15.808Z"
   },
   {
    "duration": 5,
    "start_time": "2022-01-06T07:46:21.902Z"
   },
   {
    "duration": 24,
    "start_time": "2022-01-06T07:46:22.316Z"
   },
   {
    "duration": 304,
    "start_time": "2022-01-06T07:46:53.945Z"
   },
   {
    "duration": 6,
    "start_time": "2022-01-06T07:47:07.565Z"
   },
   {
    "duration": 28,
    "start_time": "2022-01-06T07:47:08.008Z"
   },
   {
    "duration": 8,
    "start_time": "2022-01-06T07:48:39.910Z"
   },
   {
    "duration": 8,
    "start_time": "2022-01-06T07:48:43.636Z"
   },
   {
    "duration": 7,
    "start_time": "2022-01-06T07:48:50.502Z"
   },
   {
    "duration": 6,
    "start_time": "2022-01-06T07:49:28.545Z"
   },
   {
    "duration": 8,
    "start_time": "2022-01-06T07:50:29.358Z"
   },
   {
    "duration": 6,
    "start_time": "2022-01-06T07:51:59.620Z"
   },
   {
    "duration": 629,
    "start_time": "2022-01-06T07:52:00.218Z"
   },
   {
    "duration": 6,
    "start_time": "2022-01-06T07:52:28.717Z"
   },
   {
    "duration": 6,
    "start_time": "2022-01-06T07:52:28.951Z"
   },
   {
    "duration": 19,
    "start_time": "2022-01-06T07:52:36.323Z"
   },
   {
    "duration": 6,
    "start_time": "2022-01-06T07:52:46.463Z"
   },
   {
    "duration": 25,
    "start_time": "2022-01-06T07:52:46.670Z"
   },
   {
    "duration": 8,
    "start_time": "2022-01-06T07:53:26.794Z"
   },
   {
    "duration": 304,
    "start_time": "2022-01-06T07:53:53.984Z"
   },
   {
    "duration": 97,
    "start_time": "2022-01-06T07:54:27.725Z"
   },
   {
    "duration": 287,
    "start_time": "2022-01-06T07:54:42.088Z"
   },
   {
    "duration": 293,
    "start_time": "2022-01-06T07:54:59.448Z"
   },
   {
    "duration": 8,
    "start_time": "2022-01-06T07:55:15.942Z"
   },
   {
    "duration": 6,
    "start_time": "2022-01-06T07:58:12.795Z"
   },
   {
    "duration": 6,
    "start_time": "2022-01-06T07:58:27.884Z"
   },
   {
    "duration": 4,
    "start_time": "2022-01-06T07:58:39.405Z"
   },
   {
    "duration": 17,
    "start_time": "2022-01-06T07:58:40.828Z"
   },
   {
    "duration": 4,
    "start_time": "2022-01-06T07:58:46.733Z"
   },
   {
    "duration": 4,
    "start_time": "2022-01-06T07:58:47.124Z"
   },
   {
    "duration": 15,
    "start_time": "2022-01-06T07:58:47.459Z"
   },
   {
    "duration": 5,
    "start_time": "2022-01-06T08:00:04.435Z"
   },
   {
    "duration": 13,
    "start_time": "2022-01-06T08:00:04.850Z"
   },
   {
    "duration": 4,
    "start_time": "2022-01-06T08:00:21.857Z"
   },
   {
    "duration": 14,
    "start_time": "2022-01-06T08:00:22.439Z"
   },
   {
    "duration": 3,
    "start_time": "2022-01-06T08:00:39.912Z"
   },
   {
    "duration": 15,
    "start_time": "2022-01-06T08:00:40.420Z"
   },
   {
    "duration": 4,
    "start_time": "2022-01-06T08:00:47.273Z"
   },
   {
    "duration": 14,
    "start_time": "2022-01-06T08:00:48.161Z"
   },
   {
    "duration": 4,
    "start_time": "2022-01-06T08:01:09.511Z"
   },
   {
    "duration": 14,
    "start_time": "2022-01-06T08:01:09.876Z"
   },
   {
    "duration": 5,
    "start_time": "2022-01-06T08:01:19.163Z"
   },
   {
    "duration": 15,
    "start_time": "2022-01-06T08:01:20.626Z"
   },
   {
    "duration": 19,
    "start_time": "2022-01-06T08:01:23.556Z"
   },
   {
    "duration": 23,
    "start_time": "2022-01-06T08:01:34.531Z"
   },
   {
    "duration": 8,
    "start_time": "2022-01-06T08:01:35.158Z"
   },
   {
    "duration": 6,
    "start_time": "2022-01-06T08:01:53.771Z"
   },
   {
    "duration": 22,
    "start_time": "2022-01-06T08:01:54.202Z"
   },
   {
    "duration": 5,
    "start_time": "2022-01-06T08:02:11.754Z"
   },
   {
    "duration": 21,
    "start_time": "2022-01-06T08:02:12.111Z"
   },
   {
    "duration": 5,
    "start_time": "2022-01-06T08:02:26.204Z"
   },
   {
    "duration": 22,
    "start_time": "2022-01-06T08:02:27.065Z"
   },
   {
    "duration": 5,
    "start_time": "2022-01-06T08:03:06.135Z"
   },
   {
    "duration": 8,
    "start_time": "2022-01-06T08:03:30.630Z"
   },
   {
    "duration": 5,
    "start_time": "2022-01-06T08:04:06.033Z"
   },
   {
    "duration": 21,
    "start_time": "2022-01-06T08:04:06.422Z"
   },
   {
    "duration": 7,
    "start_time": "2022-01-06T08:04:19.380Z"
   },
   {
    "duration": 20,
    "start_time": "2022-01-06T08:04:20.506Z"
   },
   {
    "duration": 5,
    "start_time": "2022-01-06T08:04:31.218Z"
   },
   {
    "duration": 6,
    "start_time": "2022-01-06T08:04:43.830Z"
   },
   {
    "duration": 20,
    "start_time": "2022-01-06T08:04:44.880Z"
   },
   {
    "duration": 6,
    "start_time": "2022-01-06T08:04:58.196Z"
   },
   {
    "duration": 20,
    "start_time": "2022-01-06T08:04:58.205Z"
   },
   {
    "duration": 5,
    "start_time": "2022-01-06T08:06:22.221Z"
   },
   {
    "duration": 587,
    "start_time": "2022-01-06T08:06:22.653Z"
   },
   {
    "duration": 5,
    "start_time": "2022-01-06T08:06:29.514Z"
   },
   {
    "duration": 22,
    "start_time": "2022-01-06T08:06:30.630Z"
   },
   {
    "duration": 7,
    "start_time": "2022-01-06T08:06:47.832Z"
   },
   {
    "duration": 6,
    "start_time": "2022-01-06T08:13:56.858Z"
   },
   {
    "duration": 24,
    "start_time": "2022-01-06T08:13:57.612Z"
   },
   {
    "duration": 6,
    "start_time": "2022-01-06T08:14:37.459Z"
   },
   {
    "duration": 26,
    "start_time": "2022-01-06T08:14:38.201Z"
   },
   {
    "duration": 7,
    "start_time": "2022-01-06T08:14:50.246Z"
   },
   {
    "duration": 6,
    "start_time": "2022-01-06T08:15:33.007Z"
   },
   {
    "duration": 22,
    "start_time": "2022-01-06T08:15:33.778Z"
   },
   {
    "duration": 6,
    "start_time": "2022-01-06T08:20:43.560Z"
   },
   {
    "duration": 23,
    "start_time": "2022-01-06T08:20:44.180Z"
   },
   {
    "duration": 6,
    "start_time": "2022-01-06T08:20:58.691Z"
   },
   {
    "duration": 28,
    "start_time": "2022-01-06T08:20:58.700Z"
   },
   {
    "duration": 29,
    "start_time": "2022-01-06T08:21:04.095Z"
   },
   {
    "duration": 6,
    "start_time": "2022-01-06T08:21:18.619Z"
   },
   {
    "duration": 23,
    "start_time": "2022-01-06T08:21:19.218Z"
   },
   {
    "duration": 6,
    "start_time": "2022-01-06T08:21:23.789Z"
   },
   {
    "duration": 32,
    "start_time": "2022-01-06T08:21:24.166Z"
   },
   {
    "duration": 6,
    "start_time": "2022-01-06T08:22:43.733Z"
   },
   {
    "duration": 25,
    "start_time": "2022-01-06T08:22:44.098Z"
   },
   {
    "duration": 6,
    "start_time": "2022-01-06T08:23:24.892Z"
   },
   {
    "duration": 24,
    "start_time": "2022-01-06T08:23:25.761Z"
   },
   {
    "duration": 7,
    "start_time": "2022-01-06T08:23:29.712Z"
   },
   {
    "duration": 23,
    "start_time": "2022-01-06T08:23:31.226Z"
   },
   {
    "duration": 6,
    "start_time": "2022-01-06T08:23:44.628Z"
   },
   {
    "duration": 27,
    "start_time": "2022-01-06T08:23:44.986Z"
   },
   {
    "duration": 399,
    "start_time": "2022-01-06T09:04:33.995Z"
   },
   {
    "duration": -327,
    "start_time": "2022-01-06T09:04:34.725Z"
   },
   {
    "duration": 7,
    "start_time": "2022-01-06T09:04:41.346Z"
   },
   {
    "duration": 33,
    "start_time": "2022-01-06T09:04:42.035Z"
   },
   {
    "duration": 320,
    "start_time": "2022-01-06T09:06:11.026Z"
   },
   {
    "duration": 8,
    "start_time": "2022-01-06T09:06:14.153Z"
   },
   {
    "duration": 30,
    "start_time": "2022-01-06T09:06:14.597Z"
   },
   {
    "duration": 8,
    "start_time": "2022-01-06T09:06:31.314Z"
   },
   {
    "duration": 32,
    "start_time": "2022-01-06T09:06:32.096Z"
   },
   {
    "duration": 364,
    "start_time": "2022-01-06T09:06:42.501Z"
   },
   {
    "duration": 34,
    "start_time": "2022-01-06T09:06:45.955Z"
   },
   {
    "duration": 38,
    "start_time": "2022-01-06T09:07:21.151Z"
   },
   {
    "duration": 29,
    "start_time": "2022-01-06T09:17:18.085Z"
   },
   {
    "duration": 29,
    "start_time": "2022-01-06T09:19:06.980Z"
   },
   {
    "duration": 9,
    "start_time": "2022-01-06T09:39:25.604Z"
   },
   {
    "duration": 6,
    "start_time": "2022-01-06T09:39:26.297Z"
   },
   {
    "duration": 6,
    "start_time": "2022-01-06T09:39:27.834Z"
   },
   {
    "duration": 35,
    "start_time": "2022-01-06T09:39:28.912Z"
   },
   {
    "duration": 1039,
    "start_time": "2022-01-07T08:52:36.088Z"
   },
   {
    "duration": 44,
    "start_time": "2022-01-07T08:52:37.131Z"
   },
   {
    "duration": 18,
    "start_time": "2022-01-07T08:52:37.178Z"
   },
   {
    "duration": 13,
    "start_time": "2022-01-07T08:52:37.200Z"
   },
   {
    "duration": 47,
    "start_time": "2022-01-07T08:52:37.217Z"
   },
   {
    "duration": 6,
    "start_time": "2022-01-07T08:52:37.266Z"
   },
   {
    "duration": 5,
    "start_time": "2022-01-07T08:52:37.275Z"
   },
   {
    "duration": 19,
    "start_time": "2022-01-07T08:52:37.284Z"
   },
   {
    "duration": 62,
    "start_time": "2022-01-07T08:52:37.306Z"
   },
   {
    "duration": 892,
    "start_time": "2022-01-07T08:52:37.371Z"
   },
   {
    "duration": 14,
    "start_time": "2022-01-07T08:52:38.266Z"
   },
   {
    "duration": 11,
    "start_time": "2022-01-07T08:52:38.283Z"
   },
   {
    "duration": 15,
    "start_time": "2022-01-07T08:52:38.297Z"
   },
   {
    "duration": 8,
    "start_time": "2022-01-07T08:52:38.360Z"
   },
   {
    "duration": 2288,
    "start_time": "2022-01-07T08:52:38.372Z"
   },
   {
    "duration": 22,
    "start_time": "2022-01-07T08:52:40.662Z"
   },
   {
    "duration": 8,
    "start_time": "2022-01-07T08:52:40.687Z"
   },
   {
    "duration": 4,
    "start_time": "2022-01-07T08:52:40.697Z"
   },
   {
    "duration": 8,
    "start_time": "2022-01-07T08:52:40.703Z"
   },
   {
    "duration": 55,
    "start_time": "2022-01-07T08:52:40.714Z"
   },
   {
    "duration": 6,
    "start_time": "2022-01-07T08:52:40.772Z"
   },
   {
    "duration": 16,
    "start_time": "2022-01-07T08:52:40.780Z"
   },
   {
    "duration": 6,
    "start_time": "2022-01-07T08:52:40.802Z"
   },
   {
    "duration": 69,
    "start_time": "2022-01-07T08:52:40.812Z"
   },
   {
    "duration": 32,
    "start_time": "2022-01-07T08:52:40.883Z"
   },
   {
    "duration": 78,
    "start_time": "2022-01-07T08:52:40.917Z"
   },
   {
    "duration": 38,
    "start_time": "2022-01-07T08:52:40.998Z"
   },
   {
    "duration": 48,
    "start_time": "2022-01-07T08:52:41.039Z"
   },
   {
    "duration": 10,
    "start_time": "2022-01-07T08:52:41.090Z"
   },
   {
    "duration": 971,
    "start_time": "2022-01-07T08:52:41.103Z"
   },
   {
    "duration": 5,
    "start_time": "2022-01-07T08:52:42.077Z"
   },
   {
    "duration": 8,
    "start_time": "2022-01-07T08:52:42.085Z"
   },
   {
    "duration": 5852,
    "start_time": "2022-01-07T08:52:42.095Z"
   },
   {
    "duration": 14,
    "start_time": "2022-01-07T08:52:47.958Z"
   },
   {
    "duration": 10,
    "start_time": "2022-01-07T08:52:47.975Z"
   },
   {
    "duration": 29,
    "start_time": "2022-01-07T08:52:47.988Z"
   },
   {
    "duration": 46,
    "start_time": "2022-01-07T08:52:48.019Z"
   },
   {
    "duration": 32,
    "start_time": "2022-01-07T08:52:48.068Z"
   },
   {
    "duration": 527,
    "start_time": "2022-01-07T08:52:48.103Z"
   },
   {
    "duration": -2206,
    "start_time": "2022-01-07T08:52:50.839Z"
   },
   {
    "duration": -2212,
    "start_time": "2022-01-07T08:52:50.847Z"
   },
   {
    "duration": -2211,
    "start_time": "2022-01-07T08:52:50.849Z"
   },
   {
    "duration": -2212,
    "start_time": "2022-01-07T08:52:50.852Z"
   },
   {
    "duration": -2213,
    "start_time": "2022-01-07T08:52:50.855Z"
   },
   {
    "duration": -2214,
    "start_time": "2022-01-07T08:52:50.858Z"
   },
   {
    "duration": -2215,
    "start_time": "2022-01-07T08:52:50.860Z"
   },
   {
    "duration": -2216,
    "start_time": "2022-01-07T08:52:50.863Z"
   },
   {
    "duration": -2218,
    "start_time": "2022-01-07T08:52:50.866Z"
   },
   {
    "duration": -2219,
    "start_time": "2022-01-07T08:52:50.869Z"
   },
   {
    "duration": -2220,
    "start_time": "2022-01-07T08:52:50.871Z"
   },
   {
    "duration": -2221,
    "start_time": "2022-01-07T08:52:50.874Z"
   },
   {
    "duration": -2223,
    "start_time": "2022-01-07T08:52:50.877Z"
   },
   {
    "duration": -2224,
    "start_time": "2022-01-07T08:52:50.880Z"
   },
   {
    "duration": -2227,
    "start_time": "2022-01-07T08:52:50.884Z"
   },
   {
    "duration": -2226,
    "start_time": "2022-01-07T08:52:50.886Z"
   },
   {
    "duration": -2227,
    "start_time": "2022-01-07T08:52:50.889Z"
   },
   {
    "duration": -2227,
    "start_time": "2022-01-07T08:52:50.891Z"
   },
   {
    "duration": -2228,
    "start_time": "2022-01-07T08:52:50.894Z"
   },
   {
    "duration": -2229,
    "start_time": "2022-01-07T08:52:50.897Z"
   },
   {
    "duration": -2230,
    "start_time": "2022-01-07T08:52:50.899Z"
   },
   {
    "duration": -2231,
    "start_time": "2022-01-07T08:52:50.902Z"
   },
   {
    "duration": 390,
    "start_time": "2022-01-07T09:15:09.106Z"
   },
   {
    "duration": 6,
    "start_time": "2022-01-07T09:15:30.418Z"
   },
   {
    "duration": 12,
    "start_time": "2022-01-07T09:16:13.078Z"
   },
   {
    "duration": 26,
    "start_time": "2022-01-07T09:16:13.865Z"
   },
   {
    "duration": 16,
    "start_time": "2022-01-07T11:57:25.209Z"
   },
   {
    "duration": 382,
    "start_time": "2022-01-07T11:57:37.667Z"
   },
   {
    "duration": 379,
    "start_time": "2022-01-07T11:57:42.191Z"
   },
   {
    "duration": 13,
    "start_time": "2022-01-07T11:58:03.812Z"
   },
   {
    "duration": 374,
    "start_time": "2022-01-07T11:58:12.536Z"
   },
   {
    "duration": 392,
    "start_time": "2022-01-07T11:58:18.761Z"
   },
   {
    "duration": 434,
    "start_time": "2022-01-07T11:58:50.109Z"
   },
   {
    "duration": 11,
    "start_time": "2022-01-07T11:58:59.025Z"
   },
   {
    "duration": 10,
    "start_time": "2022-01-07T11:59:28.680Z"
   },
   {
    "duration": 6,
    "start_time": "2022-01-07T12:00:06.428Z"
   },
   {
    "duration": 6,
    "start_time": "2022-01-07T12:00:10.186Z"
   },
   {
    "duration": 9,
    "start_time": "2022-01-07T12:00:31.790Z"
   },
   {
    "duration": 7,
    "start_time": "2022-01-07T12:00:43.100Z"
   },
   {
    "duration": 37,
    "start_time": "2022-01-07T12:00:44.461Z"
   },
   {
    "duration": 5,
    "start_time": "2022-01-07T12:01:05.228Z"
   },
   {
    "duration": 5,
    "start_time": "2022-01-07T12:01:13.352Z"
   },
   {
    "duration": 5,
    "start_time": "2022-01-07T12:01:37.743Z"
   },
   {
    "duration": 31,
    "start_time": "2022-01-07T12:03:11.671Z"
   },
   {
    "duration": 853,
    "start_time": "2022-01-07T13:45:09.925Z"
   },
   {
    "duration": 26,
    "start_time": "2022-01-07T13:45:10.781Z"
   },
   {
    "duration": 16,
    "start_time": "2022-01-07T13:45:10.810Z"
   },
   {
    "duration": 36,
    "start_time": "2022-01-07T13:45:10.828Z"
   },
   {
    "duration": 12,
    "start_time": "2022-01-07T13:45:10.866Z"
   },
   {
    "duration": 7,
    "start_time": "2022-01-07T13:45:10.880Z"
   },
   {
    "duration": 6,
    "start_time": "2022-01-07T13:45:10.889Z"
   },
   {
    "duration": 21,
    "start_time": "2022-01-07T13:45:10.898Z"
   },
   {
    "duration": 27,
    "start_time": "2022-01-07T13:45:10.959Z"
   },
   {
    "duration": 899,
    "start_time": "2022-01-07T13:45:10.989Z"
   },
   {
    "duration": 10,
    "start_time": "2022-01-07T13:45:11.890Z"
   },
   {
    "duration": 8,
    "start_time": "2022-01-07T13:45:11.903Z"
   },
   {
    "duration": 51,
    "start_time": "2022-01-07T13:45:11.914Z"
   },
   {
    "duration": 7,
    "start_time": "2022-01-07T13:45:11.968Z"
   },
   {
    "duration": 2311,
    "start_time": "2022-01-07T13:45:11.977Z"
   },
   {
    "duration": 20,
    "start_time": "2022-01-07T13:45:14.291Z"
   },
   {
    "duration": 10,
    "start_time": "2022-01-07T13:45:14.315Z"
   },
   {
    "duration": 33,
    "start_time": "2022-01-07T13:45:14.328Z"
   },
   {
    "duration": 8,
    "start_time": "2022-01-07T13:45:14.364Z"
   },
   {
    "duration": 12,
    "start_time": "2022-01-07T13:45:14.374Z"
   },
   {
    "duration": 6,
    "start_time": "2022-01-07T13:45:14.389Z"
   },
   {
    "duration": 20,
    "start_time": "2022-01-07T13:45:14.397Z"
   },
   {
    "duration": 7,
    "start_time": "2022-01-07T13:45:14.464Z"
   },
   {
    "duration": 21,
    "start_time": "2022-01-07T13:45:14.475Z"
   },
   {
    "duration": 24,
    "start_time": "2022-01-07T13:45:14.498Z"
   },
   {
    "duration": 70,
    "start_time": "2022-01-07T13:45:14.525Z"
   },
   {
    "duration": 24,
    "start_time": "2022-01-07T13:45:14.598Z"
   },
   {
    "duration": 51,
    "start_time": "2022-01-07T13:45:14.624Z"
   },
   {
    "duration": 7,
    "start_time": "2022-01-07T13:45:14.677Z"
   },
   {
    "duration": 1143,
    "start_time": "2022-01-07T13:45:14.687Z"
   },
   {
    "duration": 4,
    "start_time": "2022-01-07T13:45:15.832Z"
   },
   {
    "duration": 22,
    "start_time": "2022-01-07T13:45:15.839Z"
   },
   {
    "duration": 5567,
    "start_time": "2022-01-07T13:45:15.863Z"
   },
   {
    "duration": 11,
    "start_time": "2022-01-07T13:45:21.434Z"
   },
   {
    "duration": 16,
    "start_time": "2022-01-07T13:45:21.448Z"
   },
   {
    "duration": 33,
    "start_time": "2022-01-07T13:45:21.467Z"
   },
   {
    "duration": 12,
    "start_time": "2022-01-07T13:45:21.503Z"
   },
   {
    "duration": 54,
    "start_time": "2022-01-07T13:45:21.517Z"
   },
   {
    "duration": 5,
    "start_time": "2022-01-07T13:45:21.573Z"
   },
   {
    "duration": 14,
    "start_time": "2022-01-07T13:45:21.580Z"
   },
   {
    "duration": 36,
    "start_time": "2022-01-07T13:45:21.597Z"
   },
   {
    "duration": 25,
    "start_time": "2022-01-07T13:45:21.635Z"
   },
   {
    "duration": 18,
    "start_time": "2022-01-07T13:45:21.662Z"
   },
   {
    "duration": 8,
    "start_time": "2022-01-07T13:45:21.683Z"
   },
   {
    "duration": 11,
    "start_time": "2022-01-07T13:45:21.693Z"
   },
   {
    "duration": 33,
    "start_time": "2022-01-07T13:45:21.707Z"
   },
   {
    "duration": 9,
    "start_time": "2022-01-07T13:45:21.758Z"
   },
   {
    "duration": 32,
    "start_time": "2022-01-07T13:45:21.769Z"
   },
   {
    "duration": 27,
    "start_time": "2022-01-07T13:45:21.803Z"
   },
   {
    "duration": 28,
    "start_time": "2022-01-07T13:45:21.832Z"
   },
   {
    "duration": 12,
    "start_time": "2022-01-07T13:45:21.863Z"
   },
   {
    "duration": 11,
    "start_time": "2022-01-07T13:45:21.877Z"
   },
   {
    "duration": 18,
    "start_time": "2022-01-07T13:45:21.890Z"
   },
   {
    "duration": 10,
    "start_time": "2022-01-07T13:45:21.910Z"
   },
   {
    "duration": 51,
    "start_time": "2022-01-07T13:45:21.922Z"
   },
   {
    "duration": 14,
    "start_time": "2022-01-07T13:45:21.975Z"
   },
   {
    "duration": 19,
    "start_time": "2022-01-07T13:45:21.991Z"
   },
   {
    "duration": 14,
    "start_time": "2022-01-07T13:45:22.012Z"
   },
   {
    "duration": 33,
    "start_time": "2022-01-07T13:45:22.028Z"
   },
   {
    "duration": 7,
    "start_time": "2022-01-07T13:45:22.064Z"
   },
   {
    "duration": 36,
    "start_time": "2022-01-07T13:45:22.073Z"
   },
   {
    "duration": 9,
    "start_time": "2022-01-07T13:45:22.112Z"
   },
   {
    "duration": 59,
    "start_time": "2022-01-07T13:45:22.123Z"
   },
   {
    "duration": 6,
    "start_time": "2022-01-07T13:47:24.612Z"
   },
   {
    "duration": 16,
    "start_time": "2022-01-07T13:47:29.422Z"
   },
   {
    "duration": 27,
    "start_time": "2022-01-07T14:03:19.623Z"
   },
   {
    "duration": 24,
    "start_time": "2022-01-07T14:03:27.470Z"
   },
   {
    "duration": 993,
    "start_time": "2022-01-07T14:03:47.955Z"
   },
   {
    "duration": 27,
    "start_time": "2022-01-07T14:03:48.951Z"
   },
   {
    "duration": 8,
    "start_time": "2022-01-07T14:03:48.981Z"
   },
   {
    "duration": 16,
    "start_time": "2022-01-07T14:03:48.992Z"
   },
   {
    "duration": 48,
    "start_time": "2022-01-07T14:03:49.011Z"
   },
   {
    "duration": 24,
    "start_time": "2022-01-07T14:03:49.062Z"
   },
   {
    "duration": 13,
    "start_time": "2022-01-07T14:03:49.088Z"
   },
   {
    "duration": 5,
    "start_time": "2022-01-07T14:03:49.105Z"
   },
   {
    "duration": 7,
    "start_time": "2022-01-07T14:03:49.114Z"
   },
   {
    "duration": 17,
    "start_time": "2022-01-07T14:03:49.160Z"
   },
   {
    "duration": 25,
    "start_time": "2022-01-07T14:03:49.179Z"
   },
   {
    "duration": 951,
    "start_time": "2022-01-07T14:03:49.207Z"
   },
   {
    "duration": 15,
    "start_time": "2022-01-07T14:03:50.161Z"
   },
   {
    "duration": 12,
    "start_time": "2022-01-07T14:03:50.179Z"
   },
   {
    "duration": 17,
    "start_time": "2022-01-07T14:03:50.194Z"
   },
   {
    "duration": 48,
    "start_time": "2022-01-07T14:03:50.214Z"
   },
   {
    "duration": 2762,
    "start_time": "2022-01-07T14:03:50.265Z"
   },
   {
    "duration": 30,
    "start_time": "2022-01-07T14:03:53.030Z"
   },
   {
    "duration": 7,
    "start_time": "2022-01-07T14:03:53.062Z"
   },
   {
    "duration": 1232,
    "start_time": "2022-01-07T14:03:53.071Z"
   },
   {
    "duration": 16,
    "start_time": "2022-01-07T14:03:54.307Z"
   },
   {
    "duration": 14,
    "start_time": "2022-01-07T14:03:54.325Z"
   },
   {
    "duration": 6,
    "start_time": "2022-01-07T14:03:54.345Z"
   },
   {
    "duration": 22,
    "start_time": "2022-01-07T14:03:54.354Z"
   },
   {
    "duration": 8,
    "start_time": "2022-01-07T14:03:54.378Z"
   },
   {
    "duration": 26,
    "start_time": "2022-01-07T14:03:54.389Z"
   },
   {
    "duration": 57,
    "start_time": "2022-01-07T14:03:54.418Z"
   },
   {
    "duration": 45,
    "start_time": "2022-01-07T14:03:54.477Z"
   },
   {
    "duration": 50,
    "start_time": "2022-01-07T14:03:54.525Z"
   },
   {
    "duration": 23,
    "start_time": "2022-01-07T14:03:54.577Z"
   },
   {
    "duration": 10,
    "start_time": "2022-01-07T14:03:54.602Z"
   },
   {
    "duration": 1053,
    "start_time": "2022-01-07T14:03:54.615Z"
   },
   {
    "duration": 5,
    "start_time": "2022-01-07T14:03:55.671Z"
   },
   {
    "duration": 9,
    "start_time": "2022-01-07T14:03:55.678Z"
   },
   {
    "duration": 5902,
    "start_time": "2022-01-07T14:03:55.689Z"
   },
   {
    "duration": 10,
    "start_time": "2022-01-07T14:04:01.594Z"
   },
   {
    "duration": 12,
    "start_time": "2022-01-07T14:04:01.607Z"
   },
   {
    "duration": 58,
    "start_time": "2022-01-07T14:04:01.622Z"
   },
   {
    "duration": 14,
    "start_time": "2022-01-07T14:04:01.683Z"
   },
   {
    "duration": 62,
    "start_time": "2022-01-07T14:04:01.700Z"
   },
   {
    "duration": 6,
    "start_time": "2022-01-07T14:04:01.765Z"
   },
   {
    "duration": 22,
    "start_time": "2022-01-07T14:04:01.774Z"
   },
   {
    "duration": 30,
    "start_time": "2022-01-07T14:04:01.799Z"
   },
   {
    "duration": 37,
    "start_time": "2022-01-07T14:04:01.832Z"
   },
   {
    "duration": 19,
    "start_time": "2022-01-07T14:04:01.871Z"
   },
   {
    "duration": 13,
    "start_time": "2022-01-07T14:04:01.892Z"
   },
   {
    "duration": 15,
    "start_time": "2022-01-07T14:04:01.908Z"
   },
   {
    "duration": 7,
    "start_time": "2022-01-07T14:04:01.926Z"
   },
   {
    "duration": 43,
    "start_time": "2022-01-07T14:04:01.935Z"
   },
   {
    "duration": 15,
    "start_time": "2022-01-07T14:04:01.981Z"
   },
   {
    "duration": 10,
    "start_time": "2022-01-07T14:04:01.999Z"
   },
   {
    "duration": 57,
    "start_time": "2022-01-07T14:04:02.012Z"
   },
   {
    "duration": 15,
    "start_time": "2022-01-07T14:04:02.072Z"
   },
   {
    "duration": 8,
    "start_time": "2022-01-07T14:04:02.089Z"
   },
   {
    "duration": 61,
    "start_time": "2022-01-07T14:04:02.099Z"
   },
   {
    "duration": 11,
    "start_time": "2022-01-07T14:04:02.163Z"
   },
   {
    "duration": 32,
    "start_time": "2022-01-07T14:04:02.176Z"
   },
   {
    "duration": 561,
    "start_time": "2022-01-07T14:55:30.415Z"
   },
   {
    "duration": 118,
    "start_time": "2022-01-07T14:55:42.866Z"
   },
   {
    "duration": 378,
    "start_time": "2022-01-07T14:55:45.727Z"
   },
   {
    "duration": 396,
    "start_time": "2022-01-07T14:55:51.622Z"
   },
   {
    "duration": 17,
    "start_time": "2022-01-07T14:56:05.922Z"
   },
   {
    "duration": 17,
    "start_time": "2022-01-07T14:56:16.892Z"
   },
   {
    "duration": 11,
    "start_time": "2022-01-07T14:57:18.421Z"
   },
   {
    "duration": 16,
    "start_time": "2022-01-07T14:57:22.189Z"
   },
   {
    "duration": 388,
    "start_time": "2022-01-07T14:58:08.052Z"
   },
   {
    "duration": 7,
    "start_time": "2022-01-07T14:58:14.198Z"
   },
   {
    "duration": 10009,
    "start_time": "2022-01-07T14:58:36.494Z"
   },
   {
    "duration": 7,
    "start_time": "2022-01-07T14:58:48.341Z"
   },
   {
    "duration": 1143,
    "start_time": "2022-01-07T15:03:27.505Z"
   },
   {
    "duration": 4,
    "start_time": "2022-01-07T15:03:38.365Z"
   },
   {
    "duration": 6,
    "start_time": "2022-01-07T15:03:49.882Z"
   },
   {
    "duration": 6,
    "start_time": "2022-01-07T15:04:12.001Z"
   },
   {
    "duration": 6,
    "start_time": "2022-01-07T15:04:20.493Z"
   },
   {
    "duration": 4,
    "start_time": "2022-01-07T15:04:49.271Z"
   },
   {
    "duration": 4,
    "start_time": "2022-01-07T15:04:55.233Z"
   },
   {
    "duration": 5,
    "start_time": "2022-01-07T15:05:05.250Z"
   },
   {
    "duration": 4,
    "start_time": "2022-01-07T15:10:00.928Z"
   },
   {
    "duration": 3,
    "start_time": "2022-01-07T15:10:20.200Z"
   },
   {
    "duration": 882,
    "start_time": "2022-01-07T15:10:28.943Z"
   },
   {
    "duration": 29,
    "start_time": "2022-01-07T15:10:29.828Z"
   },
   {
    "duration": 6,
    "start_time": "2022-01-07T15:10:29.860Z"
   },
   {
    "duration": 16,
    "start_time": "2022-01-07T15:10:29.868Z"
   },
   {
    "duration": 14,
    "start_time": "2022-01-07T15:10:29.887Z"
   },
   {
    "duration": 74,
    "start_time": "2022-01-07T15:10:29.904Z"
   },
   {
    "duration": 13,
    "start_time": "2022-01-07T15:10:29.981Z"
   },
   {
    "duration": 17,
    "start_time": "2022-01-07T15:10:29.998Z"
   },
   {
    "duration": 36,
    "start_time": "2022-01-07T15:10:30.019Z"
   },
   {
    "duration": 28,
    "start_time": "2022-01-07T15:10:30.058Z"
   },
   {
    "duration": 24,
    "start_time": "2022-01-07T15:10:30.089Z"
   },
   {
    "duration": 28,
    "start_time": "2022-01-07T15:10:30.116Z"
   },
   {
    "duration": 40,
    "start_time": "2022-01-07T15:10:30.147Z"
   },
   {
    "duration": 20,
    "start_time": "2022-01-07T15:10:30.189Z"
   },
   {
    "duration": 26,
    "start_time": "2022-01-07T15:10:30.212Z"
   },
   {
    "duration": 30,
    "start_time": "2022-01-07T15:10:30.241Z"
   },
   {
    "duration": 23,
    "start_time": "2022-01-07T15:10:30.275Z"
   },
   {
    "duration": 2626,
    "start_time": "2022-01-07T15:10:30.301Z"
   },
   {
    "duration": 32,
    "start_time": "2022-01-07T15:10:32.929Z"
   },
   {
    "duration": 24,
    "start_time": "2022-01-07T15:10:32.963Z"
   },
   {
    "duration": 18,
    "start_time": "2022-01-07T15:10:32.989Z"
   },
   {
    "duration": 23,
    "start_time": "2022-01-07T15:10:33.009Z"
   },
   {
    "duration": 24,
    "start_time": "2022-01-07T15:10:33.038Z"
   },
   {
    "duration": 40,
    "start_time": "2022-01-07T15:10:33.065Z"
   },
   {
    "duration": 31,
    "start_time": "2022-01-07T15:10:33.107Z"
   },
   {
    "duration": 28,
    "start_time": "2022-01-07T15:10:33.141Z"
   },
   {
    "duration": 49,
    "start_time": "2022-01-07T15:10:33.171Z"
   },
   {
    "duration": 52,
    "start_time": "2022-01-07T15:10:33.223Z"
   },
   {
    "duration": 52,
    "start_time": "2022-01-07T15:10:33.277Z"
   },
   {
    "duration": 58,
    "start_time": "2022-01-07T15:10:33.333Z"
   },
   {
    "duration": 23,
    "start_time": "2022-01-07T15:10:33.394Z"
   },
   {
    "duration": 7,
    "start_time": "2022-01-07T15:10:33.420Z"
   },
   {
    "duration": 945,
    "start_time": "2022-01-07T15:10:33.429Z"
   },
   {
    "duration": 4,
    "start_time": "2022-01-07T15:10:34.377Z"
   },
   {
    "duration": 9,
    "start_time": "2022-01-07T15:10:34.384Z"
   },
   {
    "duration": 5809,
    "start_time": "2022-01-07T15:10:34.395Z"
   },
   {
    "duration": 13,
    "start_time": "2022-01-07T15:10:40.207Z"
   },
   {
    "duration": 12,
    "start_time": "2022-01-07T15:10:40.222Z"
   },
   {
    "duration": 44,
    "start_time": "2022-01-07T15:10:40.236Z"
   },
   {
    "duration": 11,
    "start_time": "2022-01-07T15:10:40.283Z"
   },
   {
    "duration": 25,
    "start_time": "2022-01-07T15:10:40.296Z"
   },
   {
    "duration": 36,
    "start_time": "2022-01-07T15:10:40.324Z"
   },
   {
    "duration": 14,
    "start_time": "2022-01-07T15:10:40.364Z"
   },
   {
    "duration": 38,
    "start_time": "2022-01-07T15:10:40.381Z"
   },
   {
    "duration": 14,
    "start_time": "2022-01-07T15:10:40.458Z"
   },
   {
    "duration": 21,
    "start_time": "2022-01-07T15:10:40.475Z"
   },
   {
    "duration": 6,
    "start_time": "2022-01-07T15:10:40.499Z"
   },
   {
    "duration": 51,
    "start_time": "2022-01-07T15:10:40.509Z"
   },
   {
    "duration": 6,
    "start_time": "2022-01-07T15:10:40.563Z"
   },
   {
    "duration": 26,
    "start_time": "2022-01-07T15:10:40.573Z"
   },
   {
    "duration": 15,
    "start_time": "2022-01-07T15:10:40.601Z"
   },
   {
    "duration": 43,
    "start_time": "2022-01-07T15:10:40.618Z"
   },
   {
    "duration": 9,
    "start_time": "2022-01-07T15:10:40.664Z"
   },
   {
    "duration": 6,
    "start_time": "2022-01-07T15:10:40.675Z"
   },
   {
    "duration": 7,
    "start_time": "2022-01-07T15:10:40.684Z"
   },
   {
    "duration": 87,
    "start_time": "2022-01-07T15:10:40.694Z"
   },
   {
    "duration": 9,
    "start_time": "2022-01-07T15:10:40.783Z"
   },
   {
    "duration": 31,
    "start_time": "2022-01-07T15:10:40.795Z"
   },
   {
    "duration": 863,
    "start_time": "2022-01-07T15:12:49.129Z"
   },
   {
    "duration": 4,
    "start_time": "2022-01-07T15:13:18.612Z"
   },
   {
    "duration": 4682,
    "start_time": "2022-01-07T15:13:21.119Z"
   },
   {
    "duration": 26,
    "start_time": "2022-01-07T15:13:44.973Z"
   },
   {
    "duration": 4,
    "start_time": "2022-01-07T15:14:57.104Z"
   },
   {
    "duration": 7205,
    "start_time": "2022-01-07T15:14:57.505Z"
   },
   {
    "duration": 7064,
    "start_time": "2022-01-07T15:15:09.912Z"
   },
   {
    "duration": 28,
    "start_time": "2022-01-07T15:15:49.650Z"
   },
   {
    "duration": 1081,
    "start_time": "2022-01-07T15:15:55.920Z"
   },
   {
    "duration": 31,
    "start_time": "2022-01-07T15:15:57.003Z"
   },
   {
    "duration": 24,
    "start_time": "2022-01-07T15:15:57.038Z"
   },
   {
    "duration": 21,
    "start_time": "2022-01-07T15:15:57.065Z"
   },
   {
    "duration": 19,
    "start_time": "2022-01-07T15:15:57.089Z"
   },
   {
    "duration": 49,
    "start_time": "2022-01-07T15:15:57.112Z"
   },
   {
    "duration": 14,
    "start_time": "2022-01-07T15:15:57.164Z"
   },
   {
    "duration": 6,
    "start_time": "2022-01-07T15:15:57.183Z"
   },
   {
    "duration": 16,
    "start_time": "2022-01-07T15:15:57.193Z"
   },
   {
    "duration": 48,
    "start_time": "2022-01-07T15:15:57.211Z"
   },
   {
    "duration": 26,
    "start_time": "2022-01-07T15:15:57.262Z"
   },
   {
    "duration": 4,
    "start_time": "2022-01-07T15:15:57.291Z"
   },
   {
    "duration": 7,
    "start_time": "2022-01-07T15:15:57.297Z"
   },
   {
    "duration": 4694,
    "start_time": "2022-01-07T15:15:57.306Z"
   },
   {
    "duration": 16,
    "start_time": "2022-01-07T15:16:02.003Z"
   },
   {
    "duration": 37,
    "start_time": "2022-01-07T15:16:02.022Z"
   },
   {
    "duration": 16,
    "start_time": "2022-01-07T15:16:02.062Z"
   },
   {
    "duration": 7,
    "start_time": "2022-01-07T15:16:02.080Z"
   },
   {
    "duration": 2536,
    "start_time": "2022-01-07T15:16:02.089Z"
   },
   {
    "duration": 22,
    "start_time": "2022-01-07T15:16:04.627Z"
   },
   {
    "duration": 15,
    "start_time": "2022-01-07T15:16:04.660Z"
   },
   {
    "duration": 9,
    "start_time": "2022-01-07T15:16:04.679Z"
   },
   {
    "duration": 8,
    "start_time": "2022-01-07T15:16:04.696Z"
   },
   {
    "duration": 11,
    "start_time": "2022-01-07T15:16:04.707Z"
   },
   {
    "duration": 8,
    "start_time": "2022-01-07T15:16:04.761Z"
   },
   {
    "duration": 21,
    "start_time": "2022-01-07T15:16:04.772Z"
   },
   {
    "duration": 10,
    "start_time": "2022-01-07T15:16:04.796Z"
   },
   {
    "duration": 70,
    "start_time": "2022-01-07T15:16:04.810Z"
   },
   {
    "duration": 25,
    "start_time": "2022-01-07T15:16:04.884Z"
   },
   {
    "duration": 66,
    "start_time": "2022-01-07T15:16:04.911Z"
   },
   {
    "duration": 38,
    "start_time": "2022-01-07T15:16:04.982Z"
   },
   {
    "duration": 56,
    "start_time": "2022-01-07T15:16:05.023Z"
   },
   {
    "duration": 8,
    "start_time": "2022-01-07T15:16:05.081Z"
   },
   {
    "duration": 1049,
    "start_time": "2022-01-07T15:16:05.091Z"
   },
   {
    "duration": 17,
    "start_time": "2022-01-07T15:16:06.143Z"
   },
   {
    "duration": 12,
    "start_time": "2022-01-07T15:16:06.162Z"
   },
   {
    "duration": 6620,
    "start_time": "2022-01-07T15:16:06.177Z"
   },
   {
    "duration": 10,
    "start_time": "2022-01-07T15:16:12.800Z"
   },
   {
    "duration": 9,
    "start_time": "2022-01-07T15:16:12.813Z"
   },
   {
    "duration": 52,
    "start_time": "2022-01-07T15:16:12.825Z"
   },
   {
    "duration": 13,
    "start_time": "2022-01-07T15:16:12.880Z"
   },
   {
    "duration": 28,
    "start_time": "2022-01-07T15:16:12.896Z"
   },
   {
    "duration": 36,
    "start_time": "2022-01-07T15:16:12.927Z"
   },
   {
    "duration": 14,
    "start_time": "2022-01-07T15:16:12.965Z"
   },
   {
    "duration": 32,
    "start_time": "2022-01-07T15:16:12.982Z"
   },
   {
    "duration": 49,
    "start_time": "2022-01-07T15:16:13.017Z"
   },
   {
    "duration": 14,
    "start_time": "2022-01-07T15:16:13.069Z"
   },
   {
    "duration": 15,
    "start_time": "2022-01-07T15:16:13.086Z"
   },
   {
    "duration": 24,
    "start_time": "2022-01-07T15:16:13.103Z"
   },
   {
    "duration": 41,
    "start_time": "2022-01-07T15:16:13.129Z"
   },
   {
    "duration": 31,
    "start_time": "2022-01-07T15:16:13.172Z"
   },
   {
    "duration": 15,
    "start_time": "2022-01-07T15:16:13.208Z"
   },
   {
    "duration": 36,
    "start_time": "2022-01-07T15:16:13.226Z"
   },
   {
    "duration": 11,
    "start_time": "2022-01-07T15:16:13.265Z"
   },
   {
    "duration": 11,
    "start_time": "2022-01-07T15:16:13.279Z"
   },
   {
    "duration": 17,
    "start_time": "2022-01-07T15:16:13.293Z"
   },
   {
    "duration": 68,
    "start_time": "2022-01-07T15:16:13.313Z"
   },
   {
    "duration": 10,
    "start_time": "2022-01-07T15:16:13.383Z"
   },
   {
    "duration": 73,
    "start_time": "2022-01-07T15:16:13.395Z"
   },
   {
    "duration": 6,
    "start_time": "2022-01-07T15:18:05.335Z"
   },
   {
    "duration": 16,
    "start_time": "2022-01-07T15:18:06.009Z"
   },
   {
    "duration": 542,
    "start_time": "2022-01-07T15:18:25.952Z"
   },
   {
    "duration": 3,
    "start_time": "2022-01-07T15:18:26.722Z"
   },
   {
    "duration": 1077,
    "start_time": "2022-01-07T15:18:34.652Z"
   },
   {
    "duration": 28,
    "start_time": "2022-01-07T15:18:35.732Z"
   },
   {
    "duration": 6,
    "start_time": "2022-01-07T15:18:35.768Z"
   },
   {
    "duration": 19,
    "start_time": "2022-01-07T15:18:35.777Z"
   },
   {
    "duration": 13,
    "start_time": "2022-01-07T15:18:35.798Z"
   },
   {
    "duration": 58,
    "start_time": "2022-01-07T15:18:35.814Z"
   },
   {
    "duration": 13,
    "start_time": "2022-01-07T15:18:35.876Z"
   },
   {
    "duration": 7,
    "start_time": "2022-01-07T15:18:35.892Z"
   },
   {
    "duration": 12,
    "start_time": "2022-01-07T15:18:35.901Z"
   },
   {
    "duration": 50,
    "start_time": "2022-01-07T15:18:35.915Z"
   },
   {
    "duration": 28,
    "start_time": "2022-01-07T15:18:35.968Z"
   },
   {
    "duration": 1301,
    "start_time": "2022-01-07T15:18:36.000Z"
   },
   {
    "duration": 4,
    "start_time": "2022-01-07T15:18:37.305Z"
   },
   {
    "duration": 5,
    "start_time": "2022-01-07T15:18:37.312Z"
   },
   {
    "duration": 39,
    "start_time": "2022-01-07T15:18:37.320Z"
   },
   {
    "duration": 9,
    "start_time": "2022-01-07T15:18:37.362Z"
   },
   {
    "duration": 12,
    "start_time": "2022-01-07T15:18:37.373Z"
   },
   {
    "duration": 6,
    "start_time": "2022-01-07T15:18:37.388Z"
   },
   {
    "duration": 2467,
    "start_time": "2022-01-07T15:18:37.396Z"
   },
   {
    "duration": 24,
    "start_time": "2022-01-07T15:18:39.867Z"
   },
   {
    "duration": 11,
    "start_time": "2022-01-07T15:18:39.894Z"
   },
   {
    "duration": 5,
    "start_time": "2022-01-07T15:18:39.912Z"
   },
   {
    "duration": 46,
    "start_time": "2022-01-07T15:18:39.921Z"
   },
   {
    "duration": 15,
    "start_time": "2022-01-07T15:18:39.970Z"
   },
   {
    "duration": 7,
    "start_time": "2022-01-07T15:18:39.988Z"
   },
   {
    "duration": 61,
    "start_time": "2022-01-07T15:18:39.998Z"
   },
   {
    "duration": 10,
    "start_time": "2022-01-07T15:18:40.063Z"
   },
   {
    "duration": 31,
    "start_time": "2022-01-07T15:18:40.076Z"
   },
   {
    "duration": 52,
    "start_time": "2022-01-07T15:18:40.109Z"
   },
   {
    "duration": 41,
    "start_time": "2022-01-07T15:18:40.163Z"
   },
   {
    "duration": 26,
    "start_time": "2022-01-07T15:18:40.206Z"
   },
   {
    "duration": 52,
    "start_time": "2022-01-07T15:18:40.235Z"
   },
   {
    "duration": 11,
    "start_time": "2022-01-07T15:18:40.290Z"
   },
   {
    "duration": 1372,
    "start_time": "2022-01-07T15:18:40.304Z"
   },
   {
    "duration": 5,
    "start_time": "2022-01-07T15:18:41.679Z"
   },
   {
    "duration": 5,
    "start_time": "2022-01-07T15:18:41.686Z"
   },
   {
    "duration": 6996,
    "start_time": "2022-01-07T15:18:41.694Z"
   },
   {
    "duration": 10,
    "start_time": "2022-01-07T15:18:48.692Z"
   },
   {
    "duration": 9,
    "start_time": "2022-01-07T15:18:48.704Z"
   },
   {
    "duration": 49,
    "start_time": "2022-01-07T15:18:48.716Z"
   },
   {
    "duration": 13,
    "start_time": "2022-01-07T15:18:48.768Z"
   },
   {
    "duration": 35,
    "start_time": "2022-01-07T15:18:48.784Z"
   },
   {
    "duration": 6,
    "start_time": "2022-01-07T15:18:48.821Z"
   },
   {
    "duration": 16,
    "start_time": "2022-01-07T15:18:48.860Z"
   },
   {
    "duration": 38,
    "start_time": "2022-01-07T15:18:48.878Z"
   },
   {
    "duration": 9,
    "start_time": "2022-01-07T15:18:48.919Z"
   },
   {
    "duration": 14,
    "start_time": "2022-01-07T15:18:48.959Z"
   },
   {
    "duration": 12,
    "start_time": "2022-01-07T15:18:48.976Z"
   },
   {
    "duration": 23,
    "start_time": "2022-01-07T15:18:48.990Z"
   },
   {
    "duration": 7,
    "start_time": "2022-01-07T15:18:49.016Z"
   },
   {
    "duration": 67,
    "start_time": "2022-01-07T15:18:49.026Z"
   },
   {
    "duration": 14,
    "start_time": "2022-01-07T15:18:49.096Z"
   },
   {
    "duration": 53,
    "start_time": "2022-01-07T15:18:49.112Z"
   },
   {
    "duration": 16,
    "start_time": "2022-01-07T15:18:49.168Z"
   },
   {
    "duration": 15,
    "start_time": "2022-01-07T15:18:49.187Z"
   },
   {
    "duration": 8,
    "start_time": "2022-01-07T15:18:49.204Z"
   },
   {
    "duration": 60,
    "start_time": "2022-01-07T15:18:49.215Z"
   },
   {
    "duration": 9,
    "start_time": "2022-01-07T15:18:49.278Z"
   },
   {
    "duration": 35,
    "start_time": "2022-01-07T15:18:49.290Z"
   },
   {
    "duration": 868,
    "start_time": "2022-01-08T11:55:30.963Z"
   },
   {
    "duration": 27,
    "start_time": "2022-01-08T11:55:31.834Z"
   },
   {
    "duration": 6,
    "start_time": "2022-01-08T11:55:31.864Z"
   },
   {
    "duration": 17,
    "start_time": "2022-01-08T11:55:31.872Z"
   },
   {
    "duration": 11,
    "start_time": "2022-01-08T11:55:31.891Z"
   },
   {
    "duration": 25,
    "start_time": "2022-01-08T11:55:31.905Z"
   },
   {
    "duration": 12,
    "start_time": "2022-01-08T11:55:31.963Z"
   },
   {
    "duration": 10,
    "start_time": "2022-01-08T11:55:31.979Z"
   },
   {
    "duration": 18,
    "start_time": "2022-01-08T11:55:31.992Z"
   },
   {
    "duration": 21,
    "start_time": "2022-01-08T11:55:32.013Z"
   },
   {
    "duration": 40,
    "start_time": "2022-01-08T11:55:32.036Z"
   },
   {
    "duration": 907,
    "start_time": "2022-01-08T11:55:32.079Z"
   },
   {
    "duration": 3,
    "start_time": "2022-01-08T11:55:32.988Z"
   },
   {
    "duration": 5,
    "start_time": "2022-01-08T11:55:32.994Z"
   },
   {
    "duration": 13,
    "start_time": "2022-01-08T11:55:33.001Z"
   },
   {
    "duration": 9,
    "start_time": "2022-01-08T11:55:33.016Z"
   },
   {
    "duration": 47,
    "start_time": "2022-01-08T11:55:33.027Z"
   },
   {
    "duration": 7,
    "start_time": "2022-01-08T11:55:33.076Z"
   },
   {
    "duration": 2347,
    "start_time": "2022-01-08T11:55:33.085Z"
   },
   {
    "duration": 30,
    "start_time": "2022-01-08T11:55:35.434Z"
   },
   {
    "duration": 16,
    "start_time": "2022-01-08T11:55:35.466Z"
   },
   {
    "duration": 4,
    "start_time": "2022-01-08T11:55:35.484Z"
   },
   {
    "duration": 10,
    "start_time": "2022-01-08T11:55:35.494Z"
   },
   {
    "duration": 11,
    "start_time": "2022-01-08T11:55:35.507Z"
   },
   {
    "duration": 42,
    "start_time": "2022-01-08T11:55:35.521Z"
   },
   {
    "duration": 16,
    "start_time": "2022-01-08T11:55:35.565Z"
   },
   {
    "duration": 7,
    "start_time": "2022-01-08T11:55:35.584Z"
   },
   {
    "duration": 21,
    "start_time": "2022-01-08T11:55:35.593Z"
   },
   {
    "duration": 63,
    "start_time": "2022-01-08T11:55:35.616Z"
   },
   {
    "duration": 39,
    "start_time": "2022-01-08T11:55:35.681Z"
   },
   {
    "duration": 51,
    "start_time": "2022-01-08T11:55:35.722Z"
   },
   {
    "duration": 25,
    "start_time": "2022-01-08T11:55:35.776Z"
   },
   {
    "duration": 12,
    "start_time": "2022-01-08T11:55:35.803Z"
   },
   {
    "duration": 962,
    "start_time": "2022-01-08T11:55:35.817Z"
   },
   {
    "duration": 4,
    "start_time": "2022-01-08T11:55:36.782Z"
   },
   {
    "duration": 6,
    "start_time": "2022-01-08T11:55:36.789Z"
   },
   {
    "duration": 4767,
    "start_time": "2022-01-08T11:55:36.797Z"
   },
   {
    "duration": 10,
    "start_time": "2022-01-08T11:55:41.566Z"
   },
   {
    "duration": 11,
    "start_time": "2022-01-08T11:55:41.579Z"
   },
   {
    "duration": 26,
    "start_time": "2022-01-08T11:55:41.593Z"
   },
   {
    "duration": 51,
    "start_time": "2022-01-08T11:55:41.621Z"
   },
   {
    "duration": 29,
    "start_time": "2022-01-08T11:55:41.675Z"
   },
   {
    "duration": 5,
    "start_time": "2022-01-08T11:55:41.706Z"
   },
   {
    "duration": 50,
    "start_time": "2022-01-08T11:55:41.714Z"
   },
   {
    "duration": 27,
    "start_time": "2022-01-08T11:55:41.767Z"
   },
   {
    "duration": 9,
    "start_time": "2022-01-08T11:55:41.796Z"
   },
   {
    "duration": 12,
    "start_time": "2022-01-08T11:55:41.808Z"
   },
   {
    "duration": 41,
    "start_time": "2022-01-08T11:55:41.822Z"
   },
   {
    "duration": 17,
    "start_time": "2022-01-08T11:55:41.865Z"
   },
   {
    "duration": 6,
    "start_time": "2022-01-08T11:55:41.885Z"
   },
   {
    "duration": 28,
    "start_time": "2022-01-08T11:55:41.894Z"
   },
   {
    "duration": 50,
    "start_time": "2022-01-08T11:55:41.924Z"
   },
   {
    "duration": 9,
    "start_time": "2022-01-08T11:55:41.976Z"
   },
   {
    "duration": 8,
    "start_time": "2022-01-08T11:55:41.988Z"
   },
   {
    "duration": 10,
    "start_time": "2022-01-08T11:55:41.998Z"
   },
   {
    "duration": 9,
    "start_time": "2022-01-08T11:55:42.010Z"
   },
   {
    "duration": 70,
    "start_time": "2022-01-08T11:55:42.021Z"
   },
   {
    "duration": 9,
    "start_time": "2022-01-08T11:55:42.093Z"
   },
   {
    "duration": 60,
    "start_time": "2022-01-08T11:55:42.104Z"
   },
   {
    "duration": 6,
    "start_time": "2022-01-08T12:12:40.513Z"
   },
   {
    "duration": 28,
    "start_time": "2022-01-08T12:13:01.505Z"
   },
   {
    "duration": 4,
    "start_time": "2022-01-08T12:13:07.309Z"
   },
   {
    "duration": 834,
    "start_time": "2022-01-08T12:13:17.380Z"
   },
   {
    "duration": 28,
    "start_time": "2022-01-08T12:13:18.217Z"
   },
   {
    "duration": 18,
    "start_time": "2022-01-08T12:13:18.247Z"
   },
   {
    "duration": 16,
    "start_time": "2022-01-08T12:13:18.268Z"
   },
   {
    "duration": 14,
    "start_time": "2022-01-08T12:13:18.287Z"
   },
   {
    "duration": 67,
    "start_time": "2022-01-08T12:13:18.305Z"
   },
   {
    "duration": 13,
    "start_time": "2022-01-08T12:13:18.375Z"
   },
   {
    "duration": 8,
    "start_time": "2022-01-08T12:13:18.390Z"
   },
   {
    "duration": 16,
    "start_time": "2022-01-08T12:13:18.400Z"
   },
   {
    "duration": 44,
    "start_time": "2022-01-08T12:13:18.419Z"
   },
   {
    "duration": 26,
    "start_time": "2022-01-08T12:13:18.465Z"
   },
   {
    "duration": 6,
    "start_time": "2022-01-08T12:13:18.494Z"
   },
   {
    "duration": 11,
    "start_time": "2022-01-08T12:13:18.502Z"
   },
   {
    "duration": 129,
    "start_time": "2022-01-08T12:13:18.515Z"
   },
   {
    "duration": -160,
    "start_time": "2022-01-08T12:13:18.808Z"
   },
   {
    "duration": -161,
    "start_time": "2022-01-08T12:13:18.811Z"
   },
   {
    "duration": -163,
    "start_time": "2022-01-08T12:13:18.814Z"
   },
   {
    "duration": -164,
    "start_time": "2022-01-08T12:13:18.816Z"
   },
   {
    "duration": -166,
    "start_time": "2022-01-08T12:13:18.819Z"
   },
   {
    "duration": -167,
    "start_time": "2022-01-08T12:13:18.822Z"
   },
   {
    "duration": -169,
    "start_time": "2022-01-08T12:13:18.825Z"
   },
   {
    "duration": -169,
    "start_time": "2022-01-08T12:13:18.827Z"
   },
   {
    "duration": -171,
    "start_time": "2022-01-08T12:13:18.830Z"
   },
   {
    "duration": -172,
    "start_time": "2022-01-08T12:13:18.833Z"
   },
   {
    "duration": -173,
    "start_time": "2022-01-08T12:13:18.836Z"
   },
   {
    "duration": -174,
    "start_time": "2022-01-08T12:13:18.838Z"
   },
   {
    "duration": -175,
    "start_time": "2022-01-08T12:13:18.841Z"
   },
   {
    "duration": -176,
    "start_time": "2022-01-08T12:13:18.843Z"
   },
   {
    "duration": -176,
    "start_time": "2022-01-08T12:13:18.845Z"
   },
   {
    "duration": -178,
    "start_time": "2022-01-08T12:13:18.848Z"
   },
   {
    "duration": -185,
    "start_time": "2022-01-08T12:13:18.857Z"
   },
   {
    "duration": -186,
    "start_time": "2022-01-08T12:13:18.859Z"
   },
   {
    "duration": -187,
    "start_time": "2022-01-08T12:13:18.862Z"
   },
   {
    "duration": -189,
    "start_time": "2022-01-08T12:13:18.865Z"
   },
   {
    "duration": -189,
    "start_time": "2022-01-08T12:13:18.867Z"
   },
   {
    "duration": -191,
    "start_time": "2022-01-08T12:13:18.870Z"
   },
   {
    "duration": -192,
    "start_time": "2022-01-08T12:13:18.873Z"
   },
   {
    "duration": -193,
    "start_time": "2022-01-08T12:13:18.875Z"
   },
   {
    "duration": -194,
    "start_time": "2022-01-08T12:13:18.878Z"
   },
   {
    "duration": -195,
    "start_time": "2022-01-08T12:13:18.881Z"
   },
   {
    "duration": -197,
    "start_time": "2022-01-08T12:13:18.884Z"
   },
   {
    "duration": -202,
    "start_time": "2022-01-08T12:13:18.891Z"
   },
   {
    "duration": -204,
    "start_time": "2022-01-08T12:13:18.894Z"
   },
   {
    "duration": -205,
    "start_time": "2022-01-08T12:13:18.897Z"
   },
   {
    "duration": -207,
    "start_time": "2022-01-08T12:13:18.900Z"
   },
   {
    "duration": -208,
    "start_time": "2022-01-08T12:13:18.903Z"
   },
   {
    "duration": -209,
    "start_time": "2022-01-08T12:13:18.905Z"
   },
   {
    "duration": -210,
    "start_time": "2022-01-08T12:13:18.908Z"
   },
   {
    "duration": -216,
    "start_time": "2022-01-08T12:13:18.915Z"
   },
   {
    "duration": -216,
    "start_time": "2022-01-08T12:13:18.917Z"
   },
   {
    "duration": -218,
    "start_time": "2022-01-08T12:13:18.920Z"
   },
   {
    "duration": -219,
    "start_time": "2022-01-08T12:13:18.923Z"
   },
   {
    "duration": -220,
    "start_time": "2022-01-08T12:13:18.925Z"
   },
   {
    "duration": -164,
    "start_time": "2022-01-08T12:13:18.928Z"
   },
   {
    "duration": -166,
    "start_time": "2022-01-08T12:13:18.931Z"
   },
   {
    "duration": -166,
    "start_time": "2022-01-08T12:13:18.933Z"
   },
   {
    "duration": -168,
    "start_time": "2022-01-08T12:13:18.936Z"
   },
   {
    "duration": -171,
    "start_time": "2022-01-08T12:13:18.941Z"
   },
   {
    "duration": -173,
    "start_time": "2022-01-08T12:13:18.944Z"
   },
   {
    "duration": -180,
    "start_time": "2022-01-08T12:13:18.953Z"
   },
   {
    "duration": 4,
    "start_time": "2022-01-08T12:15:21.092Z"
   },
   {
    "duration": 4389,
    "start_time": "2022-01-08T12:15:31.675Z"
   },
   {
    "duration": 4,
    "start_time": "2022-01-08T12:16:22.423Z"
   },
   {
    "duration": 5,
    "start_time": "2022-01-08T12:16:27.609Z"
   },
   {
    "duration": 680,
    "start_time": "2022-01-08T12:16:28.143Z"
   },
   {
    "duration": 5,
    "start_time": "2022-01-08T12:17:31.488Z"
   },
   {
    "duration": 647,
    "start_time": "2022-01-08T12:17:32.486Z"
   },
   {
    "duration": 6,
    "start_time": "2022-01-08T12:18:17.333Z"
   },
   {
    "duration": 583,
    "start_time": "2022-01-08T12:18:18.292Z"
   },
   {
    "duration": 4,
    "start_time": "2022-01-08T12:19:40.101Z"
   },
   {
    "duration": 577,
    "start_time": "2022-01-08T12:19:40.977Z"
   },
   {
    "duration": 163,
    "start_time": "2022-01-08T12:21:27.873Z"
   },
   {
    "duration": 5,
    "start_time": "2022-01-08T12:21:52.048Z"
   },
   {
    "duration": 7502,
    "start_time": "2022-01-08T12:21:52.856Z"
   },
   {
    "duration": 5,
    "start_time": "2022-01-08T12:22:42.458Z"
   },
   {
    "duration": 8147,
    "start_time": "2022-01-08T12:22:43.159Z"
   },
   {
    "duration": 4,
    "start_time": "2022-01-08T12:23:51.887Z"
   },
   {
    "duration": 1414,
    "start_time": "2022-01-08T12:23:52.433Z"
   },
   {
    "duration": 5,
    "start_time": "2022-01-08T12:24:19.346Z"
   },
   {
    "duration": 1582,
    "start_time": "2022-01-08T12:24:19.933Z"
   },
   {
    "duration": 4,
    "start_time": "2022-01-08T13:07:30.688Z"
   },
   {
    "duration": 37,
    "start_time": "2022-01-08T13:07:31.238Z"
   },
   {
    "duration": 3,
    "start_time": "2022-01-08T13:07:53.232Z"
   },
   {
    "duration": 35,
    "start_time": "2022-01-08T13:07:53.691Z"
   },
   {
    "duration": 850,
    "start_time": "2022-01-08T13:08:12.334Z"
   },
   {
    "duration": 27,
    "start_time": "2022-01-08T13:08:13.187Z"
   },
   {
    "duration": 6,
    "start_time": "2022-01-08T13:08:13.217Z"
   },
   {
    "duration": 42,
    "start_time": "2022-01-08T13:08:13.226Z"
   },
   {
    "duration": 13,
    "start_time": "2022-01-08T13:08:13.270Z"
   },
   {
    "duration": 22,
    "start_time": "2022-01-08T13:08:13.285Z"
   },
   {
    "duration": 13,
    "start_time": "2022-01-08T13:08:13.310Z"
   },
   {
    "duration": 5,
    "start_time": "2022-01-08T13:08:13.364Z"
   },
   {
    "duration": 7,
    "start_time": "2022-01-08T13:08:13.373Z"
   },
   {
    "duration": 25,
    "start_time": "2022-01-08T13:08:13.383Z"
   },
   {
    "duration": 60,
    "start_time": "2022-01-08T13:08:13.411Z"
   },
   {
    "duration": 3,
    "start_time": "2022-01-08T13:08:13.475Z"
   },
   {
    "duration": 7,
    "start_time": "2022-01-08T13:08:13.482Z"
   },
   {
    "duration": 5,
    "start_time": "2022-01-08T13:08:13.492Z"
   },
   {
    "duration": 80,
    "start_time": "2022-01-08T13:08:13.500Z"
   },
   {
    "duration": 14,
    "start_time": "2022-01-08T13:08:13.583Z"
   },
   {
    "duration": 12,
    "start_time": "2022-01-08T13:08:13.600Z"
   },
   {
    "duration": 49,
    "start_time": "2022-01-08T13:08:13.614Z"
   },
   {
    "duration": 6,
    "start_time": "2022-01-08T13:08:13.665Z"
   },
   {
    "duration": 2633,
    "start_time": "2022-01-08T13:08:13.674Z"
   },
   {
    "duration": 21,
    "start_time": "2022-01-08T13:08:16.309Z"
   },
   {
    "duration": 10,
    "start_time": "2022-01-08T13:08:16.332Z"
   },
   {
    "duration": 4,
    "start_time": "2022-01-08T13:08:16.369Z"
   },
   {
    "duration": 10,
    "start_time": "2022-01-08T13:08:16.378Z"
   },
   {
    "duration": 12,
    "start_time": "2022-01-08T13:08:16.390Z"
   },
   {
    "duration": 6,
    "start_time": "2022-01-08T13:08:16.404Z"
   },
   {
    "duration": 62,
    "start_time": "2022-01-08T13:08:16.413Z"
   },
   {
    "duration": 10,
    "start_time": "2022-01-08T13:08:16.477Z"
   },
   {
    "duration": 21,
    "start_time": "2022-01-08T13:08:16.490Z"
   },
   {
    "duration": 57,
    "start_time": "2022-01-08T13:08:16.514Z"
   },
   {
    "duration": 41,
    "start_time": "2022-01-08T13:08:16.573Z"
   },
   {
    "duration": 47,
    "start_time": "2022-01-08T13:08:16.616Z"
   },
   {
    "duration": 22,
    "start_time": "2022-01-08T13:08:16.666Z"
   },
   {
    "duration": 8,
    "start_time": "2022-01-08T13:08:16.690Z"
   },
   {
    "duration": 1696,
    "start_time": "2022-01-08T13:08:16.700Z"
   },
   {
    "duration": 4,
    "start_time": "2022-01-08T13:08:18.399Z"
   },
   {
    "duration": 6,
    "start_time": "2022-01-08T13:08:18.406Z"
   },
   {
    "duration": 4970,
    "start_time": "2022-01-08T13:08:18.414Z"
   },
   {
    "duration": 11,
    "start_time": "2022-01-08T13:08:23.387Z"
   },
   {
    "duration": 10,
    "start_time": "2022-01-08T13:08:23.401Z"
   },
   {
    "duration": 67,
    "start_time": "2022-01-08T13:08:23.414Z"
   },
   {
    "duration": 14,
    "start_time": "2022-01-08T13:08:23.484Z"
   },
   {
    "duration": 27,
    "start_time": "2022-01-08T13:08:23.500Z"
   },
   {
    "duration": 35,
    "start_time": "2022-01-08T13:08:23.529Z"
   },
   {
    "duration": 12,
    "start_time": "2022-01-08T13:08:23.566Z"
   },
   {
    "duration": 27,
    "start_time": "2022-01-08T13:08:23.580Z"
   },
   {
    "duration": 10,
    "start_time": "2022-01-08T13:08:23.609Z"
   },
   {
    "duration": 50,
    "start_time": "2022-01-08T13:08:23.622Z"
   },
   {
    "duration": 4,
    "start_time": "2022-01-08T13:08:23.675Z"
   },
   {
    "duration": 17,
    "start_time": "2022-01-08T13:08:23.682Z"
   },
   {
    "duration": 6,
    "start_time": "2022-01-08T13:08:23.702Z"
   },
   {
    "duration": 64,
    "start_time": "2022-01-08T13:08:23.711Z"
   },
   {
    "duration": 14,
    "start_time": "2022-01-08T13:08:23.777Z"
   },
   {
    "duration": 11,
    "start_time": "2022-01-08T13:08:23.794Z"
   },
   {
    "duration": 10,
    "start_time": "2022-01-08T13:08:23.807Z"
   },
   {
    "duration": 45,
    "start_time": "2022-01-08T13:08:23.820Z"
   },
   {
    "duration": 11,
    "start_time": "2022-01-08T13:08:23.867Z"
   },
   {
    "duration": 34,
    "start_time": "2022-01-08T13:08:23.881Z"
   },
   {
    "duration": 9,
    "start_time": "2022-01-08T13:08:23.917Z"
   },
   {
    "duration": 64,
    "start_time": "2022-01-08T13:08:23.928Z"
   },
   {
    "duration": 36,
    "start_time": "2022-01-08T13:09:30.655Z"
   },
   {
    "duration": 37,
    "start_time": "2022-01-08T13:09:46.181Z"
   },
   {
    "duration": 33,
    "start_time": "2022-01-08T13:10:14.814Z"
   },
   {
    "duration": 30,
    "start_time": "2022-01-08T13:10:20.806Z"
   },
   {
    "duration": 27,
    "start_time": "2022-01-08T13:10:25.216Z"
   },
   {
    "duration": 21,
    "start_time": "2022-01-08T13:13:37.024Z"
   },
   {
    "duration": 30,
    "start_time": "2022-01-08T13:13:44.260Z"
   },
   {
    "duration": 884,
    "start_time": "2022-01-08T13:13:55.785Z"
   },
   {
    "duration": 27,
    "start_time": "2022-01-08T13:13:56.672Z"
   },
   {
    "duration": 7,
    "start_time": "2022-01-08T13:13:56.703Z"
   },
   {
    "duration": 18,
    "start_time": "2022-01-08T13:13:56.713Z"
   },
   {
    "duration": 12,
    "start_time": "2022-01-08T13:13:56.764Z"
   },
   {
    "duration": 24,
    "start_time": "2022-01-08T13:13:56.779Z"
   },
   {
    "duration": 12,
    "start_time": "2022-01-08T13:13:56.805Z"
   },
   {
    "duration": 42,
    "start_time": "2022-01-08T13:13:56.821Z"
   },
   {
    "duration": 4,
    "start_time": "2022-01-08T13:13:56.866Z"
   },
   {
    "duration": 24,
    "start_time": "2022-01-08T13:13:56.872Z"
   },
   {
    "duration": 24,
    "start_time": "2022-01-08T13:13:56.899Z"
   },
   {
    "duration": 37,
    "start_time": "2022-01-08T13:13:56.926Z"
   },
   {
    "duration": 30,
    "start_time": "2022-01-08T13:13:56.966Z"
   },
   {
    "duration": 13,
    "start_time": "2022-01-08T13:13:56.999Z"
   },
   {
    "duration": 11,
    "start_time": "2022-01-08T13:13:57.015Z"
   },
   {
    "duration": 49,
    "start_time": "2022-01-08T13:13:57.028Z"
   },
   {
    "duration": 23,
    "start_time": "2022-01-08T13:13:57.080Z"
   },
   {
    "duration": 4,
    "start_time": "2022-01-08T13:13:57.105Z"
   },
   {
    "duration": 573,
    "start_time": "2022-01-08T13:13:57.111Z"
   },
   {
    "duration": -168,
    "start_time": "2022-01-08T13:13:57.856Z"
   },
   {
    "duration": -171,
    "start_time": "2022-01-08T13:13:57.861Z"
   },
   {
    "duration": -173,
    "start_time": "2022-01-08T13:13:57.864Z"
   },
   {
    "duration": -192,
    "start_time": "2022-01-08T13:13:57.885Z"
   },
   {
    "duration": -194,
    "start_time": "2022-01-08T13:13:57.888Z"
   },
   {
    "duration": -195,
    "start_time": "2022-01-08T13:13:57.890Z"
   },
   {
    "duration": -197,
    "start_time": "2022-01-08T13:13:57.894Z"
   },
   {
    "duration": -198,
    "start_time": "2022-01-08T13:13:57.897Z"
   },
   {
    "duration": -200,
    "start_time": "2022-01-08T13:13:57.900Z"
   },
   {
    "duration": -205,
    "start_time": "2022-01-08T13:13:57.906Z"
   },
   {
    "duration": -207,
    "start_time": "2022-01-08T13:13:57.909Z"
   },
   {
    "duration": -207,
    "start_time": "2022-01-08T13:13:57.911Z"
   },
   {
    "duration": -210,
    "start_time": "2022-01-08T13:13:57.915Z"
   },
   {
    "duration": -210,
    "start_time": "2022-01-08T13:13:57.917Z"
   },
   {
    "duration": -212,
    "start_time": "2022-01-08T13:13:57.920Z"
   },
   {
    "duration": -230,
    "start_time": "2022-01-08T13:13:57.939Z"
   },
   {
    "duration": -232,
    "start_time": "2022-01-08T13:13:57.943Z"
   },
   {
    "duration": -233,
    "start_time": "2022-01-08T13:13:57.945Z"
   },
   {
    "duration": -235,
    "start_time": "2022-01-08T13:13:57.948Z"
   },
   {
    "duration": -235,
    "start_time": "2022-01-08T13:13:57.950Z"
   },
   {
    "duration": -237,
    "start_time": "2022-01-08T13:13:57.953Z"
   },
   {
    "duration": -238,
    "start_time": "2022-01-08T13:13:57.955Z"
   },
   {
    "duration": -239,
    "start_time": "2022-01-08T13:13:57.958Z"
   },
   {
    "duration": -241,
    "start_time": "2022-01-08T13:13:57.961Z"
   },
   {
    "duration": -242,
    "start_time": "2022-01-08T13:13:57.963Z"
   },
   {
    "duration": -247,
    "start_time": "2022-01-08T13:13:57.970Z"
   },
   {
    "duration": -249,
    "start_time": "2022-01-08T13:13:57.973Z"
   },
   {
    "duration": -250,
    "start_time": "2022-01-08T13:13:57.975Z"
   },
   {
    "duration": -241,
    "start_time": "2022-01-08T13:13:58.003Z"
   },
   {
    "duration": -242,
    "start_time": "2022-01-08T13:13:58.006Z"
   },
   {
    "duration": -243,
    "start_time": "2022-01-08T13:13:58.009Z"
   },
   {
    "duration": -244,
    "start_time": "2022-01-08T13:13:58.011Z"
   },
   {
    "duration": -245,
    "start_time": "2022-01-08T13:13:58.014Z"
   },
   {
    "duration": -245,
    "start_time": "2022-01-08T13:13:58.016Z"
   },
   {
    "duration": -268,
    "start_time": "2022-01-08T13:13:58.041Z"
   },
   {
    "duration": -269,
    "start_time": "2022-01-08T13:13:58.043Z"
   },
   {
    "duration": -271,
    "start_time": "2022-01-08T13:13:58.046Z"
   },
   {
    "duration": -272,
    "start_time": "2022-01-08T13:13:58.049Z"
   },
   {
    "duration": -272,
    "start_time": "2022-01-08T13:13:58.051Z"
   },
   {
    "duration": -274,
    "start_time": "2022-01-08T13:13:58.054Z"
   },
   {
    "duration": 7,
    "start_time": "2022-01-08T13:20:41.404Z"
   },
   {
    "duration": 1400,
    "start_time": "2022-01-08T13:20:42.154Z"
   },
   {
    "duration": 101,
    "start_time": "2022-01-08T13:23:36.529Z"
   },
   {
    "duration": 105,
    "start_time": "2022-01-08T13:24:01.016Z"
   },
   {
    "duration": 7,
    "start_time": "2022-01-08T13:24:21.673Z"
   },
   {
    "duration": 1406,
    "start_time": "2022-01-08T13:24:22.873Z"
   },
   {
    "duration": 11,
    "start_time": "2022-01-08T13:25:01.571Z"
   },
   {
    "duration": 1367,
    "start_time": "2022-01-08T13:25:01.928Z"
   },
   {
    "duration": 120,
    "start_time": "2022-01-08T13:26:31.369Z"
   },
   {
    "duration": 127,
    "start_time": "2022-01-08T13:27:24.836Z"
   },
   {
    "duration": 7,
    "start_time": "2022-01-08T13:27:30.391Z"
   },
   {
    "duration": 1117,
    "start_time": "2022-01-08T13:27:31.476Z"
   },
   {
    "duration": 156,
    "start_time": "2022-01-08T13:29:05.685Z"
   },
   {
    "duration": 7,
    "start_time": "2022-01-08T13:29:19.094Z"
   },
   {
    "duration": 953,
    "start_time": "2022-01-08T13:29:20.511Z"
   },
   {
    "duration": 8,
    "start_time": "2022-01-08T13:35:25.238Z"
   },
   {
    "duration": 966,
    "start_time": "2022-01-08T13:35:25.888Z"
   },
   {
    "duration": 846,
    "start_time": "2022-01-08T13:53:55.928Z"
   },
   {
    "duration": 27,
    "start_time": "2022-01-08T13:53:56.776Z"
   },
   {
    "duration": 6,
    "start_time": "2022-01-08T13:53:56.806Z"
   },
   {
    "duration": 16,
    "start_time": "2022-01-08T13:53:56.814Z"
   },
   {
    "duration": 12,
    "start_time": "2022-01-08T13:53:56.863Z"
   },
   {
    "duration": 22,
    "start_time": "2022-01-08T13:53:56.878Z"
   },
   {
    "duration": 12,
    "start_time": "2022-01-08T13:53:56.902Z"
   },
   {
    "duration": 4,
    "start_time": "2022-01-08T13:53:56.918Z"
   },
   {
    "duration": 4,
    "start_time": "2022-01-08T13:53:56.964Z"
   },
   {
    "duration": 23,
    "start_time": "2022-01-08T13:53:56.970Z"
   },
   {
    "duration": 26,
    "start_time": "2022-01-08T13:53:56.995Z"
   },
   {
    "duration": 4,
    "start_time": "2022-01-08T13:53:57.024Z"
   },
   {
    "duration": 58,
    "start_time": "2022-01-08T13:53:57.030Z"
   },
   {
    "duration": 12,
    "start_time": "2022-01-08T13:53:57.090Z"
   },
   {
    "duration": 9,
    "start_time": "2022-01-08T13:53:57.104Z"
   },
   {
    "duration": 50,
    "start_time": "2022-01-08T13:53:57.116Z"
   },
   {
    "duration": 8,
    "start_time": "2022-01-08T13:53:57.168Z"
   },
   {
    "duration": 1033,
    "start_time": "2022-01-08T13:53:57.178Z"
   },
   {
    "duration": 8,
    "start_time": "2022-01-08T13:53:58.214Z"
   },
   {
    "duration": 6,
    "start_time": "2022-01-08T13:53:58.224Z"
   },
   {
    "duration": 32,
    "start_time": "2022-01-08T13:53:58.232Z"
   },
   {
    "duration": 12,
    "start_time": "2022-01-08T13:53:58.266Z"
   },
   {
    "duration": 495,
    "start_time": "2022-01-08T13:53:58.284Z"
   },
   {
    "duration": -238,
    "start_time": "2022-01-08T13:53:59.021Z"
   },
   {
    "duration": -241,
    "start_time": "2022-01-08T13:53:59.025Z"
   },
   {
    "duration": -242,
    "start_time": "2022-01-08T13:53:59.028Z"
   },
   {
    "duration": -243,
    "start_time": "2022-01-08T13:53:59.030Z"
   },
   {
    "duration": -245,
    "start_time": "2022-01-08T13:53:59.033Z"
   },
   {
    "duration": -245,
    "start_time": "2022-01-08T13:53:59.035Z"
   },
   {
    "duration": -248,
    "start_time": "2022-01-08T13:53:59.039Z"
   },
   {
    "duration": -249,
    "start_time": "2022-01-08T13:53:59.042Z"
   },
   {
    "duration": -250,
    "start_time": "2022-01-08T13:53:59.044Z"
   },
   {
    "duration": -251,
    "start_time": "2022-01-08T13:53:59.047Z"
   },
   {
    "duration": -251,
    "start_time": "2022-01-08T13:53:59.049Z"
   },
   {
    "duration": -269,
    "start_time": "2022-01-08T13:53:59.069Z"
   },
   {
    "duration": -271,
    "start_time": "2022-01-08T13:53:59.073Z"
   },
   {
    "duration": -272,
    "start_time": "2022-01-08T13:53:59.075Z"
   },
   {
    "duration": -273,
    "start_time": "2022-01-08T13:53:59.078Z"
   },
   {
    "duration": -273,
    "start_time": "2022-01-08T13:53:59.080Z"
   },
   {
    "duration": -275,
    "start_time": "2022-01-08T13:53:59.084Z"
   },
   {
    "duration": -275,
    "start_time": "2022-01-08T13:53:59.086Z"
   },
   {
    "duration": -277,
    "start_time": "2022-01-08T13:53:59.090Z"
   },
   {
    "duration": -232,
    "start_time": "2022-01-08T13:53:59.094Z"
   },
   {
    "duration": -232,
    "start_time": "2022-01-08T13:53:59.096Z"
   },
   {
    "duration": -234,
    "start_time": "2022-01-08T13:53:59.099Z"
   },
   {
    "duration": -234,
    "start_time": "2022-01-08T13:53:59.101Z"
   },
   {
    "duration": -236,
    "start_time": "2022-01-08T13:53:59.104Z"
   },
   {
    "duration": -238,
    "start_time": "2022-01-08T13:53:59.107Z"
   },
   {
    "duration": -238,
    "start_time": "2022-01-08T13:53:59.110Z"
   },
   {
    "duration": -247,
    "start_time": "2022-01-08T13:53:59.121Z"
   },
   {
    "duration": -249,
    "start_time": "2022-01-08T13:53:59.124Z"
   },
   {
    "duration": -250,
    "start_time": "2022-01-08T13:53:59.127Z"
   },
   {
    "duration": -252,
    "start_time": "2022-01-08T13:53:59.130Z"
   },
   {
    "duration": -253,
    "start_time": "2022-01-08T13:53:59.132Z"
   },
   {
    "duration": -254,
    "start_time": "2022-01-08T13:53:59.134Z"
   },
   {
    "duration": -255,
    "start_time": "2022-01-08T13:53:59.137Z"
   },
   {
    "duration": -256,
    "start_time": "2022-01-08T13:53:59.140Z"
   },
   {
    "duration": 17,
    "start_time": "2022-01-08T13:56:26.118Z"
   },
   {
    "duration": 646,
    "start_time": "2022-01-08T13:56:39.198Z"
   },
   {
    "duration": 16,
    "start_time": "2022-01-08T13:57:03.000Z"
   },
   {
    "duration": 8,
    "start_time": "2022-01-08T13:57:28.728Z"
   },
   {
    "duration": 7,
    "start_time": "2022-01-08T13:58:19.517Z"
   },
   {
    "duration": 820,
    "start_time": "2022-01-08T13:58:39.264Z"
   },
   {
    "duration": 28,
    "start_time": "2022-01-08T13:58:40.087Z"
   },
   {
    "duration": 6,
    "start_time": "2022-01-08T13:58:40.121Z"
   },
   {
    "duration": 40,
    "start_time": "2022-01-08T13:58:40.129Z"
   },
   {
    "duration": 13,
    "start_time": "2022-01-08T13:58:40.172Z"
   },
   {
    "duration": 23,
    "start_time": "2022-01-08T13:58:40.187Z"
   },
   {
    "duration": 50,
    "start_time": "2022-01-08T13:58:40.214Z"
   },
   {
    "duration": 4,
    "start_time": "2022-01-08T13:58:40.268Z"
   },
   {
    "duration": 5,
    "start_time": "2022-01-08T13:58:40.275Z"
   },
   {
    "duration": 22,
    "start_time": "2022-01-08T13:58:40.282Z"
   },
   {
    "duration": 57,
    "start_time": "2022-01-08T13:58:40.307Z"
   },
   {
    "duration": 4,
    "start_time": "2022-01-08T13:58:40.367Z"
   },
   {
    "duration": 26,
    "start_time": "2022-01-08T13:58:40.373Z"
   },
   {
    "duration": 12,
    "start_time": "2022-01-08T13:58:40.401Z"
   },
   {
    "duration": 52,
    "start_time": "2022-01-08T13:58:40.415Z"
   },
   {
    "duration": 14,
    "start_time": "2022-01-08T13:58:40.470Z"
   },
   {
    "duration": 7,
    "start_time": "2022-01-08T13:58:40.488Z"
   },
   {
    "duration": 1021,
    "start_time": "2022-01-08T13:58:40.498Z"
   },
   {
    "duration": 11,
    "start_time": "2022-01-08T13:58:41.523Z"
   },
   {
    "duration": 26,
    "start_time": "2022-01-08T13:58:41.537Z"
   },
   {
    "duration": 8,
    "start_time": "2022-01-08T13:58:41.566Z"
   },
   {
    "duration": 11,
    "start_time": "2022-01-08T13:58:41.580Z"
   },
   {
    "duration": 14,
    "start_time": "2022-01-08T13:58:41.594Z"
   },
   {
    "duration": 6,
    "start_time": "2022-01-08T13:58:41.610Z"
   },
   {
    "duration": 8,
    "start_time": "2022-01-08T13:58:41.663Z"
   },
   {
    "duration": 425,
    "start_time": "2022-01-08T13:58:41.674Z"
   },
   {
    "duration": -247,
    "start_time": "2022-01-08T13:58:42.349Z"
   },
   {
    "duration": -248,
    "start_time": "2022-01-08T13:58:42.351Z"
   },
   {
    "duration": -249,
    "start_time": "2022-01-08T13:58:42.354Z"
   },
   {
    "duration": -250,
    "start_time": "2022-01-08T13:58:42.357Z"
   },
   {
    "duration": -251,
    "start_time": "2022-01-08T13:58:42.359Z"
   },
   {
    "duration": -252,
    "start_time": "2022-01-08T13:58:42.362Z"
   },
   {
    "duration": -252,
    "start_time": "2022-01-08T13:58:42.364Z"
   },
   {
    "duration": -253,
    "start_time": "2022-01-08T13:58:42.367Z"
   },
   {
    "duration": -258,
    "start_time": "2022-01-08T13:58:42.374Z"
   },
   {
    "duration": -259,
    "start_time": "2022-01-08T13:58:42.377Z"
   },
   {
    "duration": -282,
    "start_time": "2022-01-08T13:58:42.402Z"
   },
   {
    "duration": -284,
    "start_time": "2022-01-08T13:58:42.405Z"
   },
   {
    "duration": -284,
    "start_time": "2022-01-08T13:58:42.407Z"
   },
   {
    "duration": -286,
    "start_time": "2022-01-08T13:58:42.410Z"
   },
   {
    "duration": -286,
    "start_time": "2022-01-08T13:58:42.412Z"
   },
   {
    "duration": -287,
    "start_time": "2022-01-08T13:58:42.415Z"
   },
   {
    "duration": -287,
    "start_time": "2022-01-08T13:58:42.417Z"
   },
   {
    "duration": -288,
    "start_time": "2022-01-08T13:58:42.420Z"
   },
   {
    "duration": -289,
    "start_time": "2022-01-08T13:58:42.422Z"
   },
   {
    "duration": -262,
    "start_time": "2022-01-08T13:58:42.424Z"
   },
   {
    "duration": -310,
    "start_time": "2022-01-08T13:58:42.474Z"
   },
   {
    "duration": -347,
    "start_time": "2022-01-08T13:58:42.513Z"
   },
   {
    "duration": -348,
    "start_time": "2022-01-08T13:58:42.515Z"
   },
   {
    "duration": -349,
    "start_time": "2022-01-08T13:58:42.518Z"
   },
   {
    "duration": -349,
    "start_time": "2022-01-08T13:58:42.520Z"
   },
   {
    "duration": -350,
    "start_time": "2022-01-08T13:58:42.523Z"
   },
   {
    "duration": -359,
    "start_time": "2022-01-08T13:58:42.533Z"
   },
   {
    "duration": -360,
    "start_time": "2022-01-08T13:58:42.536Z"
   },
   {
    "duration": -361,
    "start_time": "2022-01-08T13:58:42.539Z"
   },
   {
    "duration": -362,
    "start_time": "2022-01-08T13:58:42.541Z"
   },
   {
    "duration": -374,
    "start_time": "2022-01-08T13:58:42.554Z"
   },
   {
    "duration": -375,
    "start_time": "2022-01-08T13:58:42.557Z"
   },
   {
    "duration": -375,
    "start_time": "2022-01-08T13:58:42.559Z"
   },
   {
    "duration": -377,
    "start_time": "2022-01-08T13:58:42.562Z"
   },
   {
    "duration": 282,
    "start_time": "2022-01-08T14:01:56.433Z"
   },
   {
    "duration": 29,
    "start_time": "2022-01-08T14:02:01.440Z"
   },
   {
    "duration": 13,
    "start_time": "2022-01-08T14:02:05.580Z"
   },
   {
    "duration": 14,
    "start_time": "2022-01-08T14:03:02.023Z"
   },
   {
    "duration": 376,
    "start_time": "2022-01-08T14:03:51.454Z"
   },
   {
    "duration": 14,
    "start_time": "2022-01-08T14:04:58.393Z"
   },
   {
    "duration": 34,
    "start_time": "2022-01-08T14:07:33.845Z"
   },
   {
    "duration": 13,
    "start_time": "2022-01-08T14:09:54.756Z"
   },
   {
    "duration": 24,
    "start_time": "2022-01-08T14:10:01.186Z"
   },
   {
    "duration": 817,
    "start_time": "2022-01-08T14:10:55.911Z"
   },
   {
    "duration": 28,
    "start_time": "2022-01-08T14:10:56.730Z"
   },
   {
    "duration": 6,
    "start_time": "2022-01-08T14:10:56.761Z"
   },
   {
    "duration": 15,
    "start_time": "2022-01-08T14:10:56.770Z"
   },
   {
    "duration": 18,
    "start_time": "2022-01-08T14:10:56.788Z"
   },
   {
    "duration": 63,
    "start_time": "2022-01-08T14:10:56.809Z"
   },
   {
    "duration": 13,
    "start_time": "2022-01-08T14:10:56.875Z"
   },
   {
    "duration": 4,
    "start_time": "2022-01-08T14:10:56.893Z"
   },
   {
    "duration": 5,
    "start_time": "2022-01-08T14:10:56.901Z"
   },
   {
    "duration": 59,
    "start_time": "2022-01-08T14:10:56.908Z"
   },
   {
    "duration": 24,
    "start_time": "2022-01-08T14:10:56.970Z"
   },
   {
    "duration": 4,
    "start_time": "2022-01-08T14:10:56.998Z"
   },
   {
    "duration": 62,
    "start_time": "2022-01-08T14:10:57.004Z"
   },
   {
    "duration": 12,
    "start_time": "2022-01-08T14:10:57.068Z"
   },
   {
    "duration": 11,
    "start_time": "2022-01-08T14:10:57.083Z"
   },
   {
    "duration": 12,
    "start_time": "2022-01-08T14:10:57.098Z"
   },
   {
    "duration": 7,
    "start_time": "2022-01-08T14:10:57.113Z"
   },
   {
    "duration": 967,
    "start_time": "2022-01-08T14:10:57.164Z"
   },
   {
    "duration": 12,
    "start_time": "2022-01-08T14:10:58.133Z"
   },
   {
    "duration": 22,
    "start_time": "2022-01-08T14:10:58.163Z"
   },
   {
    "duration": 8,
    "start_time": "2022-01-08T14:10:58.188Z"
   },
   {
    "duration": 5,
    "start_time": "2022-01-08T14:10:58.198Z"
   },
   {
    "duration": 7,
    "start_time": "2022-01-08T14:10:58.209Z"
   },
   {
    "duration": 53,
    "start_time": "2022-01-08T14:10:58.220Z"
   },
   {
    "duration": 18,
    "start_time": "2022-01-08T14:10:58.275Z"
   },
   {
    "duration": 21,
    "start_time": "2022-01-08T14:10:58.297Z"
   },
   {
    "duration": 46,
    "start_time": "2022-01-08T14:10:58.322Z"
   },
   {
    "duration": 9,
    "start_time": "2022-01-08T14:10:58.371Z"
   },
   {
    "duration": 18,
    "start_time": "2022-01-08T14:10:58.383Z"
   },
   {
    "duration": 8,
    "start_time": "2022-01-08T14:10:58.404Z"
   },
   {
    "duration": 68,
    "start_time": "2022-01-08T14:10:58.414Z"
   },
   {
    "duration": 27,
    "start_time": "2022-01-08T14:10:58.484Z"
   },
   {
    "duration": 73,
    "start_time": "2022-01-08T14:10:58.514Z"
   },
   {
    "duration": 27,
    "start_time": "2022-01-08T14:10:58.589Z"
   },
   {
    "duration": 49,
    "start_time": "2022-01-08T14:10:58.619Z"
   },
   {
    "duration": 8,
    "start_time": "2022-01-08T14:10:58.670Z"
   },
   {
    "duration": 957,
    "start_time": "2022-01-08T14:10:58.681Z"
   },
   {
    "duration": 5,
    "start_time": "2022-01-08T14:10:59.642Z"
   },
   {
    "duration": 16,
    "start_time": "2022-01-08T14:10:59.650Z"
   },
   {
    "duration": 5026,
    "start_time": "2022-01-08T14:10:59.669Z"
   },
   {
    "duration": 10,
    "start_time": "2022-01-08T14:11:04.697Z"
   },
   {
    "duration": 10,
    "start_time": "2022-01-08T14:11:04.709Z"
   },
   {
    "duration": 55,
    "start_time": "2022-01-08T14:11:04.721Z"
   },
   {
    "duration": 11,
    "start_time": "2022-01-08T14:11:04.779Z"
   },
   {
    "duration": 30,
    "start_time": "2022-01-08T14:11:04.792Z"
   },
   {
    "duration": 6,
    "start_time": "2022-01-08T14:11:04.824Z"
   },
   {
    "duration": 41,
    "start_time": "2022-01-08T14:11:04.832Z"
   },
   {
    "duration": 30,
    "start_time": "2022-01-08T14:11:04.875Z"
   },
   {
    "duration": 10,
    "start_time": "2022-01-08T14:11:04.907Z"
   },
   {
    "duration": 51,
    "start_time": "2022-01-08T14:11:04.920Z"
   },
   {
    "duration": 9,
    "start_time": "2022-01-08T14:11:04.974Z"
   },
   {
    "duration": 30,
    "start_time": "2022-01-08T14:11:04.986Z"
   },
   {
    "duration": 7,
    "start_time": "2022-01-08T14:11:05.020Z"
   },
   {
    "duration": 40,
    "start_time": "2022-01-08T14:11:05.029Z"
   },
   {
    "duration": 15,
    "start_time": "2022-01-08T14:11:05.072Z"
   },
   {
    "duration": 11,
    "start_time": "2022-01-08T14:11:05.090Z"
   },
   {
    "duration": 10,
    "start_time": "2022-01-08T14:11:05.103Z"
   },
   {
    "duration": 47,
    "start_time": "2022-01-08T14:11:05.116Z"
   },
   {
    "duration": 7,
    "start_time": "2022-01-08T14:11:05.166Z"
   },
   {
    "duration": 37,
    "start_time": "2022-01-08T14:11:05.176Z"
   },
   {
    "duration": 10,
    "start_time": "2022-01-08T14:11:05.216Z"
   },
   {
    "duration": 35,
    "start_time": "2022-01-08T14:11:05.264Z"
   },
   {
    "duration": 910,
    "start_time": "2022-01-08T14:46:28.758Z"
   },
   {
    "duration": 31,
    "start_time": "2022-01-08T14:46:29.672Z"
   },
   {
    "duration": 6,
    "start_time": "2022-01-08T14:46:29.707Z"
   },
   {
    "duration": 51,
    "start_time": "2022-01-08T14:46:29.717Z"
   },
   {
    "duration": 17,
    "start_time": "2022-01-08T14:46:29.772Z"
   },
   {
    "duration": 22,
    "start_time": "2022-01-08T14:46:29.791Z"
   },
   {
    "duration": 13,
    "start_time": "2022-01-08T14:46:29.816Z"
   },
   {
    "duration": 5,
    "start_time": "2022-01-08T14:46:29.864Z"
   },
   {
    "duration": 17,
    "start_time": "2022-01-08T14:46:29.873Z"
   },
   {
    "duration": 18,
    "start_time": "2022-01-08T14:46:29.893Z"
   },
   {
    "duration": 54,
    "start_time": "2022-01-08T14:46:29.913Z"
   },
   {
    "duration": 6,
    "start_time": "2022-01-08T14:46:29.972Z"
   },
   {
    "duration": 28,
    "start_time": "2022-01-08T14:46:29.981Z"
   },
   {
    "duration": 11,
    "start_time": "2022-01-08T14:46:30.012Z"
   },
   {
    "duration": 15,
    "start_time": "2022-01-08T14:46:30.064Z"
   },
   {
    "duration": 26,
    "start_time": "2022-01-08T14:46:30.083Z"
   },
   {
    "duration": 14,
    "start_time": "2022-01-08T14:46:30.111Z"
   },
   {
    "duration": 1101,
    "start_time": "2022-01-08T14:46:30.128Z"
   },
   {
    "duration": 15,
    "start_time": "2022-01-08T14:46:31.232Z"
   },
   {
    "duration": 31,
    "start_time": "2022-01-08T14:46:31.264Z"
   },
   {
    "duration": 8,
    "start_time": "2022-01-08T14:46:31.297Z"
   },
   {
    "duration": 6,
    "start_time": "2022-01-08T14:46:31.307Z"
   },
   {
    "duration": 9,
    "start_time": "2022-01-08T14:46:31.370Z"
   },
   {
    "duration": 16,
    "start_time": "2022-01-08T14:46:31.385Z"
   },
   {
    "duration": 72,
    "start_time": "2022-01-08T14:46:31.403Z"
   },
   {
    "duration": 23,
    "start_time": "2022-01-08T14:46:31.478Z"
   },
   {
    "duration": 7,
    "start_time": "2022-01-08T14:46:31.504Z"
   },
   {
    "duration": 63,
    "start_time": "2022-01-08T14:46:31.513Z"
   },
   {
    "duration": 19,
    "start_time": "2022-01-08T14:46:31.579Z"
   },
   {
    "duration": 9,
    "start_time": "2022-01-08T14:46:31.600Z"
   },
   {
    "duration": 78,
    "start_time": "2022-01-08T14:46:31.611Z"
   },
   {
    "duration": 72,
    "start_time": "2022-01-08T14:46:31.692Z"
   },
   {
    "duration": 99,
    "start_time": "2022-01-08T14:46:31.766Z"
   },
   {
    "duration": 31,
    "start_time": "2022-01-08T14:46:31.868Z"
   },
   {
    "duration": 76,
    "start_time": "2022-01-08T14:46:31.902Z"
   },
   {
    "duration": 10,
    "start_time": "2022-01-08T14:46:31.981Z"
   },
   {
    "duration": 1258,
    "start_time": "2022-01-08T14:46:31.994Z"
   },
   {
    "duration": 5,
    "start_time": "2022-01-08T14:46:33.262Z"
   },
   {
    "duration": 7,
    "start_time": "2022-01-08T14:46:33.272Z"
   },
   {
    "duration": 5437,
    "start_time": "2022-01-08T14:46:33.282Z"
   },
   {
    "duration": 9,
    "start_time": "2022-01-08T14:46:38.721Z"
   },
   {
    "duration": 29,
    "start_time": "2022-01-08T14:46:38.734Z"
   },
   {
    "duration": 36,
    "start_time": "2022-01-08T14:46:38.766Z"
   },
   {
    "duration": 12,
    "start_time": "2022-01-08T14:46:38.804Z"
   },
   {
    "duration": 65,
    "start_time": "2022-01-08T14:46:38.819Z"
   },
   {
    "duration": 8,
    "start_time": "2022-01-08T14:46:38.888Z"
   },
   {
    "duration": 12,
    "start_time": "2022-01-08T14:46:38.899Z"
   },
   {
    "duration": 67,
    "start_time": "2022-01-08T14:46:38.914Z"
   },
   {
    "duration": 9,
    "start_time": "2022-01-08T14:46:38.983Z"
   },
   {
    "duration": 11,
    "start_time": "2022-01-08T14:46:38.994Z"
   },
   {
    "duration": 6,
    "start_time": "2022-01-08T14:46:39.007Z"
   },
   {
    "duration": 55,
    "start_time": "2022-01-08T14:46:39.015Z"
   },
   {
    "duration": 7,
    "start_time": "2022-01-08T14:46:39.073Z"
   },
   {
    "duration": 29,
    "start_time": "2022-01-08T14:46:39.083Z"
   },
   {
    "duration": 16,
    "start_time": "2022-01-08T14:46:39.114Z"
   },
   {
    "duration": 16,
    "start_time": "2022-01-08T14:46:39.163Z"
   },
   {
    "duration": 16,
    "start_time": "2022-01-08T14:46:39.182Z"
   },
   {
    "duration": 9,
    "start_time": "2022-01-08T14:46:39.201Z"
   },
   {
    "duration": 52,
    "start_time": "2022-01-08T14:46:39.213Z"
   },
   {
    "duration": 42,
    "start_time": "2022-01-08T14:46:39.270Z"
   },
   {
    "duration": 10,
    "start_time": "2022-01-08T14:46:39.318Z"
   },
   {
    "duration": 70,
    "start_time": "2022-01-08T14:46:39.331Z"
   },
   {
    "duration": 31,
    "start_time": "2022-01-08T15:13:24.793Z"
   },
   {
    "duration": 825,
    "start_time": "2022-01-09T06:02:27.216Z"
   },
   {
    "duration": 27,
    "start_time": "2022-01-09T06:02:28.043Z"
   },
   {
    "duration": 6,
    "start_time": "2022-01-09T06:02:28.073Z"
   },
   {
    "duration": 16,
    "start_time": "2022-01-09T06:02:28.081Z"
   },
   {
    "duration": 12,
    "start_time": "2022-01-09T06:02:28.099Z"
   },
   {
    "duration": 61,
    "start_time": "2022-01-09T06:02:28.114Z"
   },
   {
    "duration": 12,
    "start_time": "2022-01-09T06:02:28.177Z"
   },
   {
    "duration": 4,
    "start_time": "2022-01-09T06:02:28.193Z"
   },
   {
    "duration": 6,
    "start_time": "2022-01-09T06:02:28.200Z"
   },
   {
    "duration": 52,
    "start_time": "2022-01-09T06:02:28.208Z"
   },
   {
    "duration": 24,
    "start_time": "2022-01-09T06:02:28.263Z"
   },
   {
    "duration": 4,
    "start_time": "2022-01-09T06:02:28.289Z"
   },
   {
    "duration": 27,
    "start_time": "2022-01-09T06:02:28.295Z"
   },
   {
    "duration": 44,
    "start_time": "2022-01-09T06:02:28.325Z"
   },
   {
    "duration": 10,
    "start_time": "2022-01-09T06:02:28.371Z"
   },
   {
    "duration": 14,
    "start_time": "2022-01-09T06:02:28.383Z"
   },
   {
    "duration": 7,
    "start_time": "2022-01-09T06:02:28.399Z"
   },
   {
    "duration": 994,
    "start_time": "2022-01-09T06:02:28.408Z"
   },
   {
    "duration": 12,
    "start_time": "2022-01-09T06:02:29.404Z"
   },
   {
    "duration": 43,
    "start_time": "2022-01-09T06:02:29.418Z"
   },
   {
    "duration": 9,
    "start_time": "2022-01-09T06:02:29.463Z"
   },
   {
    "duration": 8,
    "start_time": "2022-01-09T06:02:29.474Z"
   },
   {
    "duration": 9,
    "start_time": "2022-01-09T06:02:29.488Z"
   },
   {
    "duration": 18,
    "start_time": "2022-01-09T06:02:29.501Z"
   },
   {
    "duration": 45,
    "start_time": "2022-01-09T06:02:29.521Z"
   },
   {
    "duration": 16,
    "start_time": "2022-01-09T06:02:29.568Z"
   },
   {
    "duration": 10,
    "start_time": "2022-01-09T06:02:29.587Z"
   },
   {
    "duration": 13,
    "start_time": "2022-01-09T06:02:29.599Z"
   },
   {
    "duration": 25,
    "start_time": "2022-01-09T06:02:29.615Z"
   },
   {
    "duration": 6,
    "start_time": "2022-01-09T06:02:29.658Z"
   },
   {
    "duration": 21,
    "start_time": "2022-01-09T06:02:29.667Z"
   },
   {
    "duration": 22,
    "start_time": "2022-01-09T06:02:29.690Z"
   },
   {
    "duration": 71,
    "start_time": "2022-01-09T06:02:29.714Z"
   },
   {
    "duration": 27,
    "start_time": "2022-01-09T06:02:29.787Z"
   },
   {
    "duration": 49,
    "start_time": "2022-01-09T06:02:29.816Z"
   },
   {
    "duration": 7,
    "start_time": "2022-01-09T06:02:29.867Z"
   },
   {
    "duration": 1066,
    "start_time": "2022-01-09T06:02:29.877Z"
   },
   {
    "duration": 4,
    "start_time": "2022-01-09T06:02:30.946Z"
   },
   {
    "duration": 21,
    "start_time": "2022-01-09T06:02:30.952Z"
   },
   {
    "duration": 5109,
    "start_time": "2022-01-09T06:02:30.976Z"
   },
   {
    "duration": 12,
    "start_time": "2022-01-09T06:02:36.088Z"
   },
   {
    "duration": 12,
    "start_time": "2022-01-09T06:02:36.102Z"
   },
   {
    "duration": 51,
    "start_time": "2022-01-09T06:02:36.117Z"
   },
   {
    "duration": 12,
    "start_time": "2022-01-09T06:02:36.170Z"
   },
   {
    "duration": 31,
    "start_time": "2022-01-09T06:02:36.186Z"
   },
   {
    "duration": 12,
    "start_time": "2022-01-09T06:02:36.219Z"
   },
   {
    "duration": 31,
    "start_time": "2022-01-09T06:02:36.261Z"
   },
   {
    "duration": 10,
    "start_time": "2022-01-09T06:02:36.295Z"
   },
   {
    "duration": 52,
    "start_time": "2022-01-09T06:02:36.308Z"
   },
   {
    "duration": 5,
    "start_time": "2022-01-09T06:02:36.363Z"
   },
   {
    "duration": 18,
    "start_time": "2022-01-09T06:02:36.371Z"
   },
   {
    "duration": 7,
    "start_time": "2022-01-09T06:02:36.391Z"
   },
   {
    "duration": 66,
    "start_time": "2022-01-09T06:02:36.401Z"
   },
   {
    "duration": 16,
    "start_time": "2022-01-09T06:02:36.470Z"
   },
   {
    "duration": 13,
    "start_time": "2022-01-09T06:02:36.488Z"
   },
   {
    "duration": 9,
    "start_time": "2022-01-09T06:02:36.503Z"
   },
   {
    "duration": 6,
    "start_time": "2022-01-09T06:02:36.514Z"
   },
   {
    "duration": 41,
    "start_time": "2022-01-09T06:02:36.522Z"
   },
   {
    "duration": 35,
    "start_time": "2022-01-09T06:02:36.565Z"
   },
   {
    "duration": 9,
    "start_time": "2022-01-09T06:02:36.602Z"
   },
   {
    "duration": 72,
    "start_time": "2022-01-09T06:02:36.613Z"
   },
   {
    "duration": 4,
    "start_time": "2022-01-09T06:22:00.807Z"
   },
   {
    "duration": 6,
    "start_time": "2022-01-09T06:22:13.593Z"
   },
   {
    "duration": 8,
    "start_time": "2022-01-09T06:22:18.669Z"
   },
   {
    "duration": 5,
    "start_time": "2022-01-09T06:22:26.567Z"
   },
   {
    "duration": 6,
    "start_time": "2022-01-09T06:22:30.366Z"
   },
   {
    "duration": 29,
    "start_time": "2022-01-09T06:22:46.348Z"
   },
   {
    "duration": 10,
    "start_time": "2022-01-09T06:22:57.168Z"
   },
   {
    "duration": 18,
    "start_time": "2022-01-09T06:23:59.545Z"
   },
   {
    "duration": 25,
    "start_time": "2022-01-09T06:24:14.436Z"
   },
   {
    "duration": 11,
    "start_time": "2022-01-09T06:32:55.080Z"
   },
   {
    "duration": 32,
    "start_time": "2022-01-09T06:33:48.376Z"
   },
   {
    "duration": 7,
    "start_time": "2022-01-09T06:46:47.281Z"
   },
   {
    "duration": 7,
    "start_time": "2022-01-09T06:47:11.530Z"
   },
   {
    "duration": 35,
    "start_time": "2022-01-09T06:48:00.174Z"
   },
   {
    "duration": 31,
    "start_time": "2022-01-09T06:49:50.160Z"
   },
   {
    "duration": 821,
    "start_time": "2022-01-09T07:52:46.096Z"
   },
   {
    "duration": 29,
    "start_time": "2022-01-09T07:52:46.919Z"
   },
   {
    "duration": 11,
    "start_time": "2022-01-09T07:52:46.951Z"
   },
   {
    "duration": 14,
    "start_time": "2022-01-09T07:52:46.965Z"
   },
   {
    "duration": 14,
    "start_time": "2022-01-09T07:52:46.982Z"
   },
   {
    "duration": 62,
    "start_time": "2022-01-09T07:52:46.999Z"
   },
   {
    "duration": 12,
    "start_time": "2022-01-09T07:52:47.064Z"
   },
   {
    "duration": 5,
    "start_time": "2022-01-09T07:52:47.080Z"
   },
   {
    "duration": 5,
    "start_time": "2022-01-09T07:52:47.087Z"
   },
   {
    "duration": 20,
    "start_time": "2022-01-09T07:52:47.094Z"
   },
   {
    "duration": 59,
    "start_time": "2022-01-09T07:52:47.116Z"
   },
   {
    "duration": 4,
    "start_time": "2022-01-09T07:52:47.177Z"
   },
   {
    "duration": 26,
    "start_time": "2022-01-09T07:52:47.184Z"
   },
   {
    "duration": 10,
    "start_time": "2022-01-09T07:52:47.213Z"
   },
   {
    "duration": 42,
    "start_time": "2022-01-09T07:52:47.225Z"
   },
   {
    "duration": 15,
    "start_time": "2022-01-09T07:52:47.270Z"
   },
   {
    "duration": 8,
    "start_time": "2022-01-09T07:52:47.288Z"
   },
   {
    "duration": 1016,
    "start_time": "2022-01-09T07:52:47.299Z"
   },
   {
    "duration": 13,
    "start_time": "2022-01-09T07:52:48.317Z"
   },
   {
    "duration": 37,
    "start_time": "2022-01-09T07:52:48.333Z"
   },
   {
    "duration": 7,
    "start_time": "2022-01-09T07:52:48.372Z"
   },
   {
    "duration": 5,
    "start_time": "2022-01-09T07:52:48.382Z"
   },
   {
    "duration": 14,
    "start_time": "2022-01-09T07:52:48.393Z"
   },
   {
    "duration": 16,
    "start_time": "2022-01-09T07:52:48.412Z"
   },
   {
    "duration": 17,
    "start_time": "2022-01-09T07:52:48.460Z"
   },
   {
    "duration": 12,
    "start_time": "2022-01-09T07:52:48.479Z"
   },
   {
    "duration": 6,
    "start_time": "2022-01-09T07:52:48.493Z"
   },
   {
    "duration": 9,
    "start_time": "2022-01-09T07:52:48.502Z"
   },
   {
    "duration": 65,
    "start_time": "2022-01-09T07:52:48.513Z"
   },
   {
    "duration": 9,
    "start_time": "2022-01-09T07:52:48.580Z"
   },
   {
    "duration": 24,
    "start_time": "2022-01-09T07:52:48.591Z"
   },
   {
    "duration": 57,
    "start_time": "2022-01-09T07:52:48.618Z"
   },
   {
    "duration": 37,
    "start_time": "2022-01-09T07:52:48.677Z"
   },
   {
    "duration": 55,
    "start_time": "2022-01-09T07:52:48.716Z"
   },
   {
    "duration": 21,
    "start_time": "2022-01-09T07:52:48.774Z"
   },
   {
    "duration": 8,
    "start_time": "2022-01-09T07:52:48.797Z"
   },
   {
    "duration": 1043,
    "start_time": "2022-01-09T07:52:48.808Z"
   },
   {
    "duration": 5,
    "start_time": "2022-01-09T07:52:49.859Z"
   },
   {
    "duration": 5,
    "start_time": "2022-01-09T07:52:49.866Z"
   },
   {
    "duration": 5196,
    "start_time": "2022-01-09T07:52:49.874Z"
   },
   {
    "duration": 10,
    "start_time": "2022-01-09T07:52:55.073Z"
   },
   {
    "duration": 15,
    "start_time": "2022-01-09T07:52:55.085Z"
   },
   {
    "duration": 28,
    "start_time": "2022-01-09T07:52:55.102Z"
   },
   {
    "duration": 12,
    "start_time": "2022-01-09T07:52:55.160Z"
   },
   {
    "duration": 25,
    "start_time": "2022-01-09T07:52:55.175Z"
   },
   {
    "duration": 12,
    "start_time": "2022-01-09T07:52:55.203Z"
   },
   {
    "duration": 63,
    "start_time": "2022-01-09T07:52:55.217Z"
   },
   {
    "duration": 4,
    "start_time": "2022-01-09T07:52:55.283Z"
   },
   {
    "duration": 7,
    "start_time": "2022-01-09T07:52:55.289Z"
   },
   {
    "duration": 6,
    "start_time": "2022-01-09T07:52:55.298Z"
   },
   {
    "duration": 8,
    "start_time": "2022-01-09T07:52:55.306Z"
   },
   {
    "duration": 64,
    "start_time": "2022-01-09T07:52:55.317Z"
   },
   {
    "duration": 9,
    "start_time": "2022-01-09T07:52:55.384Z"
   },
   {
    "duration": 17,
    "start_time": "2022-01-09T07:52:55.396Z"
   },
   {
    "duration": 57,
    "start_time": "2022-01-09T07:52:55.415Z"
   },
   {
    "duration": 9,
    "start_time": "2022-01-09T07:52:55.475Z"
   },
   {
    "duration": 14,
    "start_time": "2022-01-09T07:52:55.486Z"
   },
   {
    "duration": 6,
    "start_time": "2022-01-09T07:52:55.503Z"
   },
   {
    "duration": 7,
    "start_time": "2022-01-09T07:52:55.512Z"
   },
   {
    "duration": 71,
    "start_time": "2022-01-09T07:52:55.521Z"
   },
   {
    "duration": 9,
    "start_time": "2022-01-09T07:52:55.594Z"
   },
   {
    "duration": 11,
    "start_time": "2022-01-09T07:52:55.606Z"
   },
   {
    "duration": 67,
    "start_time": "2022-01-09T07:52:55.619Z"
   },
   {
    "duration": 12,
    "start_time": "2022-01-09T07:52:55.688Z"
   },
   {
    "duration": 60,
    "start_time": "2022-01-09T07:52:55.702Z"
   },
   {
    "duration": 11,
    "start_time": "2022-01-09T07:52:55.764Z"
   },
   {
    "duration": 31,
    "start_time": "2022-01-09T07:52:55.777Z"
   },
   {
    "duration": 7,
    "start_time": "2022-01-09T07:58:32.701Z"
   },
   {
    "duration": 609,
    "start_time": "2022-01-10T09:26:55.032Z"
   },
   {
    "duration": 15,
    "start_time": "2022-01-10T09:26:55.642Z"
   },
   {
    "duration": 5,
    "start_time": "2022-01-10T09:26:55.658Z"
   },
   {
    "duration": 10,
    "start_time": "2022-01-10T09:26:55.665Z"
   },
   {
    "duration": 10,
    "start_time": "2022-01-10T09:26:55.676Z"
   },
   {
    "duration": 15,
    "start_time": "2022-01-10T09:26:55.687Z"
   },
   {
    "duration": 27,
    "start_time": "2022-01-10T09:26:55.703Z"
   },
   {
    "duration": 3,
    "start_time": "2022-01-10T09:26:55.732Z"
   },
   {
    "duration": 5,
    "start_time": "2022-01-10T09:26:55.738Z"
   },
   {
    "duration": 11,
    "start_time": "2022-01-10T09:26:55.745Z"
   },
   {
    "duration": 13,
    "start_time": "2022-01-10T09:26:55.758Z"
   },
   {
    "duration": 3,
    "start_time": "2022-01-10T09:26:55.773Z"
   },
   {
    "duration": 15,
    "start_time": "2022-01-10T09:26:55.778Z"
   },
   {
    "duration": 38,
    "start_time": "2022-01-10T09:26:55.794Z"
   },
   {
    "duration": 6,
    "start_time": "2022-01-10T09:26:55.834Z"
   },
   {
    "duration": 9,
    "start_time": "2022-01-10T09:26:55.842Z"
   },
   {
    "duration": 5,
    "start_time": "2022-01-10T09:26:55.853Z"
   },
   {
    "duration": 539,
    "start_time": "2022-01-10T09:26:55.860Z"
   },
   {
    "duration": 9,
    "start_time": "2022-01-10T09:26:56.401Z"
   },
   {
    "duration": 23,
    "start_time": "2022-01-10T09:26:56.412Z"
   },
   {
    "duration": 5,
    "start_time": "2022-01-10T09:26:56.437Z"
   },
   {
    "duration": 3,
    "start_time": "2022-01-10T09:26:56.444Z"
   },
   {
    "duration": 5,
    "start_time": "2022-01-10T09:26:56.450Z"
   },
   {
    "duration": 8,
    "start_time": "2022-01-10T09:26:56.457Z"
   },
   {
    "duration": 10,
    "start_time": "2022-01-10T09:26:56.466Z"
   },
   {
    "duration": 8,
    "start_time": "2022-01-10T09:26:56.477Z"
   },
   {
    "duration": 42,
    "start_time": "2022-01-10T09:26:56.486Z"
   },
   {
    "duration": 3,
    "start_time": "2022-01-10T09:26:56.529Z"
   },
   {
    "duration": 11,
    "start_time": "2022-01-10T09:26:56.534Z"
   },
   {
    "duration": 5,
    "start_time": "2022-01-10T09:26:56.547Z"
   },
   {
    "duration": 13,
    "start_time": "2022-01-10T09:26:56.553Z"
   },
   {
    "duration": 15,
    "start_time": "2022-01-10T09:26:56.567Z"
   },
   {
    "duration": 45,
    "start_time": "2022-01-10T09:26:56.583Z"
   },
   {
    "duration": 16,
    "start_time": "2022-01-10T09:26:56.630Z"
   },
   {
    "duration": 13,
    "start_time": "2022-01-10T09:26:56.647Z"
   },
   {
    "duration": 5,
    "start_time": "2022-01-10T09:26:56.662Z"
   },
   {
    "duration": 716,
    "start_time": "2022-01-10T09:26:56.669Z"
   },
   {
    "duration": 4,
    "start_time": "2022-01-10T09:26:57.386Z"
   },
   {
    "duration": 7,
    "start_time": "2022-01-10T09:26:57.391Z"
   },
   {
    "duration": 3462,
    "start_time": "2022-01-10T09:26:57.399Z"
   },
   {
    "duration": 6,
    "start_time": "2022-01-10T09:27:00.862Z"
   },
   {
    "duration": 20,
    "start_time": "2022-01-10T09:27:00.870Z"
   },
   {
    "duration": 23,
    "start_time": "2022-01-10T09:27:00.891Z"
   },
   {
    "duration": 7,
    "start_time": "2022-01-10T09:27:00.915Z"
   },
   {
    "duration": 22,
    "start_time": "2022-01-10T09:27:00.924Z"
   },
   {
    "duration": 6,
    "start_time": "2022-01-10T09:27:00.948Z"
   },
   {
    "duration": 17,
    "start_time": "2022-01-10T09:27:00.956Z"
   },
   {
    "duration": 5,
    "start_time": "2022-01-10T09:27:00.974Z"
   },
   {
    "duration": 10,
    "start_time": "2022-01-10T09:27:00.981Z"
   },
   {
    "duration": 12,
    "start_time": "2022-01-10T09:27:00.992Z"
   },
   {
    "duration": 7,
    "start_time": "2022-01-10T09:27:01.005Z"
   },
   {
    "duration": 21,
    "start_time": "2022-01-10T09:27:01.013Z"
   },
   {
    "duration": 5,
    "start_time": "2022-01-10T09:27:01.035Z"
   },
   {
    "duration": 13,
    "start_time": "2022-01-10T09:27:01.042Z"
   },
   {
    "duration": 16,
    "start_time": "2022-01-10T09:27:01.057Z"
   },
   {
    "duration": 12,
    "start_time": "2022-01-10T09:27:01.075Z"
   },
   {
    "duration": 13,
    "start_time": "2022-01-10T09:27:01.088Z"
   },
   {
    "duration": 13,
    "start_time": "2022-01-10T09:27:01.102Z"
   },
   {
    "duration": 10,
    "start_time": "2022-01-10T09:27:01.117Z"
   },
   {
    "duration": 26,
    "start_time": "2022-01-10T09:27:01.128Z"
   },
   {
    "duration": 7,
    "start_time": "2022-01-10T09:27:01.156Z"
   },
   {
    "duration": 8,
    "start_time": "2022-01-10T09:27:01.165Z"
   },
   {
    "duration": 33,
    "start_time": "2022-01-10T09:27:01.175Z"
   },
   {
    "duration": 14,
    "start_time": "2022-01-10T09:27:01.210Z"
   },
   {
    "duration": 23,
    "start_time": "2022-01-10T09:27:01.227Z"
   },
   {
    "duration": 29,
    "start_time": "2022-01-10T09:27:01.252Z"
   },
   {
    "duration": 23,
    "start_time": "2022-01-10T09:27:01.282Z"
   },
   {
    "duration": 430,
    "start_time": "2022-01-10T12:35:42.152Z"
   },
   {
    "duration": 930,
    "start_time": "2022-01-10T12:35:54.119Z"
   },
   {
    "duration": 28,
    "start_time": "2022-01-10T12:35:55.052Z"
   },
   {
    "duration": 7,
    "start_time": "2022-01-10T12:35:55.085Z"
   },
   {
    "duration": 25,
    "start_time": "2022-01-10T12:35:55.096Z"
   },
   {
    "duration": 45,
    "start_time": "2022-01-10T12:35:55.125Z"
   },
   {
    "duration": 25,
    "start_time": "2022-01-10T12:35:55.173Z"
   },
   {
    "duration": 86,
    "start_time": "2022-01-10T12:35:55.201Z"
   },
   {
    "duration": 14,
    "start_time": "2022-01-10T12:35:55.293Z"
   },
   {
    "duration": 5,
    "start_time": "2022-01-10T12:35:55.311Z"
   },
   {
    "duration": 5,
    "start_time": "2022-01-10T12:35:55.319Z"
   },
   {
    "duration": 18,
    "start_time": "2022-01-10T12:35:55.361Z"
   },
   {
    "duration": 26,
    "start_time": "2022-01-10T12:35:55.382Z"
   },
   {
    "duration": 6,
    "start_time": "2022-01-10T12:35:55.411Z"
   },
   {
    "duration": 29,
    "start_time": "2022-01-10T12:35:55.460Z"
   },
   {
    "duration": 13,
    "start_time": "2022-01-10T12:35:55.492Z"
   },
   {
    "duration": 10,
    "start_time": "2022-01-10T12:35:55.508Z"
   },
   {
    "duration": 13,
    "start_time": "2022-01-10T12:35:55.560Z"
   },
   {
    "duration": 8,
    "start_time": "2022-01-10T12:35:55.575Z"
   },
   {
    "duration": 1151,
    "start_time": "2022-01-10T12:35:55.585Z"
   },
   {
    "duration": 26,
    "start_time": "2022-01-10T12:35:56.738Z"
   },
   {
    "duration": 21,
    "start_time": "2022-01-10T12:35:56.767Z"
   },
   {
    "duration": 7,
    "start_time": "2022-01-10T12:35:56.791Z"
   },
   {
    "duration": 3,
    "start_time": "2022-01-10T12:35:56.805Z"
   },
   {
    "duration": 52,
    "start_time": "2022-01-10T12:35:56.812Z"
   },
   {
    "duration": 12,
    "start_time": "2022-01-10T12:35:56.866Z"
   },
   {
    "duration": 16,
    "start_time": "2022-01-10T12:35:56.881Z"
   },
   {
    "duration": 11,
    "start_time": "2022-01-10T12:35:56.900Z"
   },
   {
    "duration": 52,
    "start_time": "2022-01-10T12:35:56.913Z"
   },
   {
    "duration": 6,
    "start_time": "2022-01-10T12:35:56.968Z"
   },
   {
    "duration": 17,
    "start_time": "2022-01-10T12:35:56.977Z"
   },
   {
    "duration": 9,
    "start_time": "2022-01-10T12:35:56.997Z"
   },
   {
    "duration": 79,
    "start_time": "2022-01-10T12:35:57.008Z"
   },
   {
    "duration": 23,
    "start_time": "2022-01-10T12:35:57.090Z"
   },
   {
    "duration": 58,
    "start_time": "2022-01-10T12:35:57.115Z"
   },
   {
    "duration": 38,
    "start_time": "2022-01-10T12:35:57.176Z"
   },
   {
    "duration": 43,
    "start_time": "2022-01-10T12:35:57.217Z"
   },
   {
    "duration": 7,
    "start_time": "2022-01-10T12:35:57.262Z"
   },
   {
    "duration": 1025,
    "start_time": "2022-01-10T12:35:57.271Z"
   },
   {
    "duration": 5,
    "start_time": "2022-01-10T12:35:58.298Z"
   },
   {
    "duration": 6,
    "start_time": "2022-01-10T12:35:58.305Z"
   },
   {
    "duration": 6306,
    "start_time": "2022-01-10T12:35:58.313Z"
   },
   {
    "duration": 10,
    "start_time": "2022-01-10T12:36:04.621Z"
   },
   {
    "duration": 30,
    "start_time": "2022-01-10T12:36:04.633Z"
   },
   {
    "duration": 28,
    "start_time": "2022-01-10T12:36:04.666Z"
   },
   {
    "duration": 13,
    "start_time": "2022-01-10T12:36:04.697Z"
   },
   {
    "duration": 66,
    "start_time": "2022-01-10T12:36:04.713Z"
   },
   {
    "duration": 12,
    "start_time": "2022-01-10T12:36:04.782Z"
   },
   {
    "duration": 62,
    "start_time": "2022-01-10T12:36:04.797Z"
   },
   {
    "duration": 5,
    "start_time": "2022-01-10T12:36:04.861Z"
   },
   {
    "duration": 8,
    "start_time": "2022-01-10T12:36:04.868Z"
   },
   {
    "duration": 6,
    "start_time": "2022-01-10T12:36:04.879Z"
   },
   {
    "duration": 7,
    "start_time": "2022-01-10T12:36:04.888Z"
   },
   {
    "duration": 74,
    "start_time": "2022-01-10T12:36:04.898Z"
   },
   {
    "duration": 10,
    "start_time": "2022-01-10T12:36:04.976Z"
   },
   {
    "duration": 24,
    "start_time": "2022-01-10T12:36:04.988Z"
   },
   {
    "duration": 51,
    "start_time": "2022-01-10T12:36:05.015Z"
   },
   {
    "duration": 10,
    "start_time": "2022-01-10T12:36:05.068Z"
   },
   {
    "duration": 14,
    "start_time": "2022-01-10T12:36:05.082Z"
   },
   {
    "duration": 8,
    "start_time": "2022-01-10T12:36:05.099Z"
   },
   {
    "duration": 49,
    "start_time": "2022-01-10T12:36:05.110Z"
   },
   {
    "duration": 41,
    "start_time": "2022-01-10T12:36:05.162Z"
   },
   {
    "duration": 15,
    "start_time": "2022-01-10T12:36:05.206Z"
   },
   {
    "duration": 37,
    "start_time": "2022-01-10T12:36:05.223Z"
   },
   {
    "duration": 39,
    "start_time": "2022-01-10T12:36:05.263Z"
   },
   {
    "duration": 9,
    "start_time": "2022-01-10T12:36:05.305Z"
   },
   {
    "duration": 70,
    "start_time": "2022-01-10T12:36:05.318Z"
   },
   {
    "duration": 9,
    "start_time": "2022-01-10T12:36:05.391Z"
   },
   {
    "duration": 58,
    "start_time": "2022-01-10T12:36:05.406Z"
   },
   {
    "duration": 9,
    "start_time": "2022-01-10T12:39:07.489Z"
   },
   {
    "duration": 6,
    "start_time": "2022-01-10T13:11:10.396Z"
   },
   {
    "duration": 563,
    "start_time": "2022-01-10T13:11:20.900Z"
   },
   {
    "duration": 12,
    "start_time": "2022-01-10T13:11:25.186Z"
   },
   {
    "duration": 4,
    "start_time": "2022-01-10T13:52:57.390Z"
   },
   {
    "duration": 378,
    "start_time": "2022-01-10T15:16:59.775Z"
   },
   {
    "duration": 408,
    "start_time": "2022-01-10T15:17:24.026Z"
   },
   {
    "duration": 13,
    "start_time": "2022-01-10T15:17:29.125Z"
   },
   {
    "duration": 4,
    "start_time": "2022-01-10T15:17:30.672Z"
   },
   {
    "duration": 424,
    "start_time": "2022-01-10T15:17:31.890Z"
   },
   {
    "duration": 4,
    "start_time": "2022-01-10T15:18:31.545Z"
   },
   {
    "duration": 1140,
    "start_time": "2022-01-10T15:19:17.778Z"
   },
   {
    "duration": 21,
    "start_time": "2022-01-10T15:19:37.473Z"
   },
   {
    "duration": 385,
    "start_time": "2022-01-10T15:21:00.624Z"
   },
   {
    "duration": 24,
    "start_time": "2022-01-10T15:21:20.466Z"
   },
   {
    "duration": 9,
    "start_time": "2022-01-10T15:26:33.604Z"
   },
   {
    "duration": 37,
    "start_time": "2022-01-10T15:27:21.052Z"
   },
   {
    "duration": 932,
    "start_time": "2022-01-10T15:36:03.681Z"
   },
   {
    "duration": 30,
    "start_time": "2022-01-10T15:36:04.616Z"
   },
   {
    "duration": 6,
    "start_time": "2022-01-10T15:36:04.660Z"
   },
   {
    "duration": 17,
    "start_time": "2022-01-10T15:36:04.670Z"
   },
   {
    "duration": 13,
    "start_time": "2022-01-10T15:36:04.690Z"
   },
   {
    "duration": 65,
    "start_time": "2022-01-10T15:36:04.706Z"
   },
   {
    "duration": 49,
    "start_time": "2022-01-10T15:36:04.774Z"
   },
   {
    "duration": 38,
    "start_time": "2022-01-10T15:36:04.828Z"
   },
   {
    "duration": 4,
    "start_time": "2022-01-10T15:36:04.869Z"
   },
   {
    "duration": 6,
    "start_time": "2022-01-10T15:36:04.876Z"
   },
   {
    "duration": 16,
    "start_time": "2022-01-10T15:36:04.885Z"
   },
   {
    "duration": 65,
    "start_time": "2022-01-10T15:36:04.903Z"
   },
   {
    "duration": 4,
    "start_time": "2022-01-10T15:36:04.971Z"
   },
   {
    "duration": 28,
    "start_time": "2022-01-10T15:36:04.977Z"
   },
   {
    "duration": 13,
    "start_time": "2022-01-10T15:36:05.008Z"
   },
   {
    "duration": 10,
    "start_time": "2022-01-10T15:36:05.059Z"
   },
   {
    "duration": 12,
    "start_time": "2022-01-10T15:36:05.071Z"
   },
   {
    "duration": 11,
    "start_time": "2022-01-10T15:36:05.087Z"
   },
   {
    "duration": 2044,
    "start_time": "2022-01-10T15:36:05.102Z"
   },
   {
    "duration": 25,
    "start_time": "2022-01-10T15:36:07.150Z"
   },
   {
    "duration": 32,
    "start_time": "2022-01-10T15:36:07.178Z"
   },
   {
    "duration": 10,
    "start_time": "2022-01-10T15:36:07.213Z"
   },
   {
    "duration": 6,
    "start_time": "2022-01-10T15:36:07.262Z"
   },
   {
    "duration": 9,
    "start_time": "2022-01-10T15:36:07.273Z"
   },
   {
    "duration": 16,
    "start_time": "2022-01-10T15:36:07.286Z"
   },
   {
    "duration": 59,
    "start_time": "2022-01-10T15:36:07.305Z"
   },
   {
    "duration": 20,
    "start_time": "2022-01-10T15:36:07.366Z"
   },
   {
    "duration": 8,
    "start_time": "2022-01-10T15:36:07.388Z"
   },
   {
    "duration": 7,
    "start_time": "2022-01-10T15:36:07.399Z"
   },
   {
    "duration": 17,
    "start_time": "2022-01-10T15:36:07.408Z"
   },
   {
    "duration": 6,
    "start_time": "2022-01-10T15:36:07.459Z"
   },
   {
    "duration": 22,
    "start_time": "2022-01-10T15:36:07.467Z"
   },
   {
    "duration": 23,
    "start_time": "2022-01-10T15:36:07.492Z"
   },
   {
    "duration": 78,
    "start_time": "2022-01-10T15:36:07.517Z"
   },
   {
    "duration": 26,
    "start_time": "2022-01-10T15:36:07.597Z"
   },
   {
    "duration": 46,
    "start_time": "2022-01-10T15:36:07.626Z"
   },
   {
    "duration": 8,
    "start_time": "2022-01-10T15:36:07.675Z"
   },
   {
    "duration": 976,
    "start_time": "2022-01-10T15:36:07.685Z"
   },
   {
    "duration": 5,
    "start_time": "2022-01-10T15:36:08.664Z"
   },
   {
    "duration": 6,
    "start_time": "2022-01-10T15:36:08.671Z"
   },
   {
    "duration": 6574,
    "start_time": "2022-01-10T15:36:08.679Z"
   },
   {
    "duration": 15,
    "start_time": "2022-01-10T15:36:15.260Z"
   },
   {
    "duration": 21,
    "start_time": "2022-01-10T15:36:15.278Z"
   },
   {
    "duration": 69,
    "start_time": "2022-01-10T15:36:15.302Z"
   },
   {
    "duration": 4,
    "start_time": "2022-01-10T15:36:15.374Z"
   },
   {
    "duration": 634,
    "start_time": "2022-01-10T15:36:15.381Z"
   },
   {
    "duration": 16,
    "start_time": "2022-01-10T15:36:16.018Z"
   },
   {
    "duration": 54,
    "start_time": "2022-01-10T15:36:16.037Z"
   },
   {
    "duration": 16,
    "start_time": "2022-01-10T15:36:16.095Z"
   },
   {
    "duration": 63,
    "start_time": "2022-01-10T15:36:16.114Z"
   },
   {
    "duration": 18,
    "start_time": "2022-01-10T15:36:16.180Z"
   },
   {
    "duration": 66,
    "start_time": "2022-01-10T15:36:16.201Z"
   },
   {
    "duration": 5,
    "start_time": "2022-01-10T15:36:16.271Z"
   },
   {
    "duration": 24,
    "start_time": "2022-01-10T15:36:16.280Z"
   },
   {
    "duration": 12,
    "start_time": "2022-01-10T15:36:16.308Z"
   },
   {
    "duration": 20,
    "start_time": "2022-01-10T15:36:16.324Z"
   },
   {
    "duration": 41,
    "start_time": "2022-01-10T15:36:16.361Z"
   },
   {
    "duration": 18,
    "start_time": "2022-01-10T15:36:16.405Z"
   },
   {
    "duration": 36,
    "start_time": "2022-01-10T15:36:16.426Z"
   },
   {
    "duration": 28,
    "start_time": "2022-01-10T15:36:16.465Z"
   },
   {
    "duration": 11,
    "start_time": "2022-01-10T15:36:16.495Z"
   },
   {
    "duration": 63,
    "start_time": "2022-01-10T15:36:16.510Z"
   },
   {
    "duration": 27,
    "start_time": "2022-01-10T15:36:16.576Z"
   },
   {
    "duration": 12,
    "start_time": "2022-01-10T15:36:16.606Z"
   },
   {
    "duration": 60,
    "start_time": "2022-01-10T15:36:16.623Z"
   },
   {
    "duration": 14,
    "start_time": "2022-01-10T15:36:16.686Z"
   },
   {
    "duration": 57,
    "start_time": "2022-01-10T15:36:16.704Z"
   },
   {
    "duration": 14,
    "start_time": "2022-01-10T15:36:16.773Z"
   },
   {
    "duration": 16,
    "start_time": "2022-01-10T15:36:16.791Z"
   },
   {
    "duration": 72,
    "start_time": "2022-01-10T15:36:16.812Z"
   },
   {
    "duration": 13,
    "start_time": "2022-01-10T15:36:16.887Z"
   },
   {
    "duration": 73,
    "start_time": "2022-01-10T15:36:16.903Z"
   },
   {
    "duration": 18,
    "start_time": "2022-01-10T15:36:16.979Z"
   },
   {
    "duration": 73,
    "start_time": "2022-01-10T15:36:17.001Z"
   },
   {
    "duration": 885,
    "start_time": "2022-01-10T17:42:26.804Z"
   },
   {
    "duration": 27,
    "start_time": "2022-01-10T17:42:27.692Z"
   },
   {
    "duration": 5,
    "start_time": "2022-01-10T17:42:27.722Z"
   },
   {
    "duration": 36,
    "start_time": "2022-01-10T17:42:27.730Z"
   },
   {
    "duration": 13,
    "start_time": "2022-01-10T17:42:27.768Z"
   },
   {
    "duration": 25,
    "start_time": "2022-01-10T17:42:27.784Z"
   },
   {
    "duration": 89,
    "start_time": "2022-01-10T17:42:27.812Z"
   },
   {
    "duration": 14,
    "start_time": "2022-01-10T17:42:27.906Z"
   },
   {
    "duration": 5,
    "start_time": "2022-01-10T17:42:27.923Z"
   },
   {
    "duration": 29,
    "start_time": "2022-01-10T17:42:27.931Z"
   },
   {
    "duration": 28,
    "start_time": "2022-01-10T17:42:27.963Z"
   },
   {
    "duration": 24,
    "start_time": "2022-01-10T17:42:27.994Z"
   },
   {
    "duration": 4,
    "start_time": "2022-01-10T17:42:28.023Z"
   },
   {
    "duration": 52,
    "start_time": "2022-01-10T17:42:28.029Z"
   },
   {
    "duration": 15,
    "start_time": "2022-01-10T17:42:28.083Z"
   },
   {
    "duration": 10,
    "start_time": "2022-01-10T17:42:28.101Z"
   },
   {
    "duration": 47,
    "start_time": "2022-01-10T17:42:28.113Z"
   },
   {
    "duration": 8,
    "start_time": "2022-01-10T17:42:28.162Z"
   },
   {
    "duration": 1124,
    "start_time": "2022-01-10T17:42:28.172Z"
   },
   {
    "duration": 11,
    "start_time": "2022-01-10T17:42:29.299Z"
   },
   {
    "duration": 21,
    "start_time": "2022-01-10T17:42:29.312Z"
   },
   {
    "duration": 8,
    "start_time": "2022-01-10T17:42:29.360Z"
   },
   {
    "duration": 4,
    "start_time": "2022-01-10T17:42:29.374Z"
   },
   {
    "duration": 7,
    "start_time": "2022-01-10T17:42:29.382Z"
   },
   {
    "duration": 11,
    "start_time": "2022-01-10T17:42:29.392Z"
   },
   {
    "duration": 61,
    "start_time": "2022-01-10T17:42:29.405Z"
   },
   {
    "duration": 12,
    "start_time": "2022-01-10T17:42:29.469Z"
   },
   {
    "duration": 7,
    "start_time": "2022-01-10T17:42:29.484Z"
   },
   {
    "duration": 10,
    "start_time": "2022-01-10T17:42:29.493Z"
   },
   {
    "duration": 16,
    "start_time": "2022-01-10T17:42:29.505Z"
   },
   {
    "duration": 10,
    "start_time": "2022-01-10T17:42:29.561Z"
   },
   {
    "duration": 34,
    "start_time": "2022-01-10T17:42:29.574Z"
   },
   {
    "duration": 66,
    "start_time": "2022-01-10T17:42:29.612Z"
   },
   {
    "duration": 60,
    "start_time": "2022-01-10T17:42:29.682Z"
   },
   {
    "duration": 50,
    "start_time": "2022-01-10T17:42:29.745Z"
   },
   {
    "duration": 32,
    "start_time": "2022-01-10T17:42:29.799Z"
   },
   {
    "duration": 11,
    "start_time": "2022-01-10T17:42:29.858Z"
   },
   {
    "duration": 1112,
    "start_time": "2022-01-10T17:42:29.872Z"
   },
   {
    "duration": 5,
    "start_time": "2022-01-10T17:42:30.986Z"
   },
   {
    "duration": 24,
    "start_time": "2022-01-10T17:42:30.993Z"
   },
   {
    "duration": 5696,
    "start_time": "2022-01-10T17:42:31.019Z"
   },
   {
    "duration": 11,
    "start_time": "2022-01-10T17:42:36.717Z"
   },
   {
    "duration": 33,
    "start_time": "2022-01-10T17:42:36.730Z"
   },
   {
    "duration": 27,
    "start_time": "2022-01-10T17:42:36.766Z"
   },
   {
    "duration": 4,
    "start_time": "2022-01-10T17:42:36.796Z"
   },
   {
    "duration": 430,
    "start_time": "2022-01-10T17:42:36.802Z"
   },
   {
    "duration": 27,
    "start_time": "2022-01-10T17:42:37.235Z"
   },
   {
    "duration": 37,
    "start_time": "2022-01-10T17:42:37.265Z"
   },
   {
    "duration": 14,
    "start_time": "2022-01-10T17:42:37.305Z"
   },
   {
    "duration": 58,
    "start_time": "2022-01-10T17:42:37.321Z"
   },
   {
    "duration": 11,
    "start_time": "2022-01-10T17:42:37.382Z"
   },
   {
    "duration": 29,
    "start_time": "2022-01-10T17:42:37.395Z"
   },
   {
    "duration": 33,
    "start_time": "2022-01-10T17:42:37.427Z"
   },
   {
    "duration": 7,
    "start_time": "2022-01-10T17:42:37.463Z"
   },
   {
    "duration": 7,
    "start_time": "2022-01-10T17:42:37.472Z"
   },
   {
    "duration": 10,
    "start_time": "2022-01-10T17:42:37.481Z"
   },
   {
    "duration": 71,
    "start_time": "2022-01-10T17:42:37.493Z"
   },
   {
    "duration": 10,
    "start_time": "2022-01-10T17:42:37.566Z"
   },
   {
    "duration": 20,
    "start_time": "2022-01-10T17:42:37.578Z"
   },
   {
    "duration": 61,
    "start_time": "2022-01-10T17:42:37.600Z"
   },
   {
    "duration": 9,
    "start_time": "2022-01-10T17:42:37.664Z"
   },
   {
    "duration": 11,
    "start_time": "2022-01-10T17:42:37.676Z"
   },
   {
    "duration": 7,
    "start_time": "2022-01-10T17:42:37.689Z"
   },
   {
    "duration": 8,
    "start_time": "2022-01-10T17:42:37.699Z"
   },
   {
    "duration": 78,
    "start_time": "2022-01-10T17:42:37.709Z"
   },
   {
    "duration": 8,
    "start_time": "2022-01-10T17:42:37.790Z"
   },
   {
    "duration": 78,
    "start_time": "2022-01-10T17:42:37.801Z"
   },
   {
    "duration": 11,
    "start_time": "2022-01-10T17:42:37.886Z"
   },
   {
    "duration": 8,
    "start_time": "2022-01-10T17:42:37.900Z"
   },
   {
    "duration": 54,
    "start_time": "2022-01-10T17:42:37.910Z"
   },
   {
    "duration": 13,
    "start_time": "2022-01-10T17:42:37.967Z"
   },
   {
    "duration": 38,
    "start_time": "2022-01-10T17:42:37.983Z"
   },
   {
    "duration": 42,
    "start_time": "2022-01-10T17:42:38.024Z"
   },
   {
    "duration": 36,
    "start_time": "2022-01-10T17:42:38.069Z"
   }
  ],
  "kernelspec": {
   "display_name": "Python 3 (ipykernel)",
   "language": "python",
   "name": "python3"
  },
  "language_info": {
   "codemirror_mode": {
    "name": "ipython",
    "version": 3
   },
   "file_extension": ".py",
   "mimetype": "text/x-python",
   "name": "python",
   "nbconvert_exporter": "python",
   "pygments_lexer": "ipython3",
   "version": "3.9.12"
  },
  "toc": {
   "base_numbering": 1,
   "nav_menu": {},
   "number_sections": true,
   "sideBar": true,
   "skip_h1_title": true,
   "title_cell": "Table of Contents",
   "title_sidebar": "Contents",
   "toc_cell": false,
   "toc_position": {
    "height": "calc(100% - 180px)",
    "left": "10px",
    "top": "150px",
    "width": "409.08px"
   },
   "toc_section_display": true,
   "toc_window_display": false
  }
 },
 "nbformat": 4,
 "nbformat_minor": 2
}
